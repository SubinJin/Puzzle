{
 "cells": [
  {
   "cell_type": "markdown",
   "metadata": {},
   "source": [
    "# CallCenterExample Data 날짜 형식 바꾸기"
   ]
  },
  {
   "cell_type": "code",
   "execution_count": 1,
   "metadata": {
    "scrolled": true
   },
   "outputs": [
    {
     "data": {
      "text/html": [
       "<table>\n",
       "<thead><tr><th scope=col>Service.ID</th><th scope=col>Operation</th><th scope=col>Start.Date</th><th scope=col>End.Date</th><th scope=col>Agent.Position</th><th scope=col>Customer.ID</th><th scope=col>Product</th><th scope=col>Service.Type</th><th scope=col>Agent</th></tr></thead>\n",
       "<tbody>\n",
       "\t<tr><td>Case 1              </td><td>Inbound Call        </td><td>9.3.10 8:05         </td><td>9.3.10 8:10         </td><td>FL                  </td><td>Customer 1          </td><td>MacBook Pro         </td><td>Referred to Servicer</td><td>Helen               </td></tr>\n",
       "\t<tr><td>Case 1              </td><td>Handle Case         </td><td>11.3.10 10:30       </td><td>11.3.10 10:32       </td><td>FL                  </td><td>Customer 1          </td><td>MacBook Pro         </td><td>Referred to Servicer</td><td>Helen               </td></tr>\n",
       "\t<tr><td>Case 1              </td><td>Call Outbound       </td><td>11.3.10 11:45       </td><td>11.3.10 11:52       </td><td>FL                  </td><td>Customer 1          </td><td>MacBook Pro         </td><td>Referred to Servicer</td><td>Henk                </td></tr>\n",
       "\t<tr><td>Case 2              </td><td>Inbound Call        </td><td>4.3.10 11:43        </td><td>4.3.10 11:46        </td><td>FL                  </td><td>Customer 2          </td><td>MacBook Pro         </td><td>Referred to Servicer</td><td>Susi                </td></tr>\n",
       "\t<tr><td>Case 3              </td><td>Inbound Call        </td><td>25.3.10 9:32        </td><td>25.3.10 9:33        </td><td>FL                  </td><td>Customer 3          </td><td>MacBook Pro         </td><td>Referred to Servicer</td><td>Mary                </td></tr>\n",
       "\t<tr><td>Case 4              </td><td>Inbound Call        </td><td>6.3.10 11:41        </td><td>6.3.10 11:51        </td><td>FL                  </td><td>Customer 4          </td><td>iPhone              </td><td>Referred to Servicer</td><td>Fred                </td></tr>\n",
       "</tbody>\n",
       "</table>\n"
      ],
      "text/latex": [
       "\\begin{tabular}{r|lllllllll}\n",
       " Service.ID & Operation & Start.Date & End.Date & Agent.Position & Customer.ID & Product & Service.Type & Agent\\\\\n",
       "\\hline\n",
       "\t Case 1               & Inbound Call         & 9.3.10 8:05          & 9.3.10 8:10          & FL                   & Customer 1           & MacBook Pro          & Referred to Servicer & Helen               \\\\\n",
       "\t Case 1               & Handle Case          & 11.3.10 10:30        & 11.3.10 10:32        & FL                   & Customer 1           & MacBook Pro          & Referred to Servicer & Helen               \\\\\n",
       "\t Case 1               & Call Outbound        & 11.3.10 11:45        & 11.3.10 11:52        & FL                   & Customer 1           & MacBook Pro          & Referred to Servicer & Henk                \\\\\n",
       "\t Case 2               & Inbound Call         & 4.3.10 11:43         & 4.3.10 11:46         & FL                   & Customer 2           & MacBook Pro          & Referred to Servicer & Susi                \\\\\n",
       "\t Case 3               & Inbound Call         & 25.3.10 9:32         & 25.3.10 9:33         & FL                   & Customer 3           & MacBook Pro          & Referred to Servicer & Mary                \\\\\n",
       "\t Case 4               & Inbound Call         & 6.3.10 11:41         & 6.3.10 11:51         & FL                   & Customer 4           & iPhone               & Referred to Servicer & Fred                \\\\\n",
       "\\end{tabular}\n"
      ],
      "text/markdown": [
       "\n",
       "Service.ID | Operation | Start.Date | End.Date | Agent.Position | Customer.ID | Product | Service.Type | Agent | \n",
       "|---|---|---|---|---|---|\n",
       "| Case 1               | Inbound Call         | 9.3.10 8:05          | 9.3.10 8:10          | FL                   | Customer 1           | MacBook Pro          | Referred to Servicer | Helen                | \n",
       "| Case 1               | Handle Case          | 11.3.10 10:30        | 11.3.10 10:32        | FL                   | Customer 1           | MacBook Pro          | Referred to Servicer | Helen                | \n",
       "| Case 1               | Call Outbound        | 11.3.10 11:45        | 11.3.10 11:52        | FL                   | Customer 1           | MacBook Pro          | Referred to Servicer | Henk                 | \n",
       "| Case 2               | Inbound Call         | 4.3.10 11:43         | 4.3.10 11:46         | FL                   | Customer 2           | MacBook Pro          | Referred to Servicer | Susi                 | \n",
       "| Case 3               | Inbound Call         | 25.3.10 9:32         | 25.3.10 9:33         | FL                   | Customer 3           | MacBook Pro          | Referred to Servicer | Mary                 | \n",
       "| Case 4               | Inbound Call         | 6.3.10 11:41         | 6.3.10 11:51         | FL                   | Customer 4           | iPhone               | Referred to Servicer | Fred                 | \n",
       "\n",
       "\n"
      ],
      "text/plain": [
       "  Service.ID Operation     Start.Date    End.Date      Agent.Position\n",
       "1 Case 1     Inbound Call  9.3.10 8:05   9.3.10 8:10   FL            \n",
       "2 Case 1     Handle Case   11.3.10 10:30 11.3.10 10:32 FL            \n",
       "3 Case 1     Call Outbound 11.3.10 11:45 11.3.10 11:52 FL            \n",
       "4 Case 2     Inbound Call  4.3.10 11:43  4.3.10 11:46  FL            \n",
       "5 Case 3     Inbound Call  25.3.10 9:32  25.3.10 9:33  FL            \n",
       "6 Case 4     Inbound Call  6.3.10 11:41  6.3.10 11:51  FL            \n",
       "  Customer.ID Product     Service.Type         Agent\n",
       "1 Customer 1  MacBook Pro Referred to Servicer Helen\n",
       "2 Customer 1  MacBook Pro Referred to Servicer Helen\n",
       "3 Customer 1  MacBook Pro Referred to Servicer Henk \n",
       "4 Customer 2  MacBook Pro Referred to Servicer Susi \n",
       "5 Customer 3  MacBook Pro Referred to Servicer Mary \n",
       "6 Customer 4  iPhone      Referred to Servicer Fred "
      ]
     },
     "metadata": {},
     "output_type": "display_data"
    }
   ],
   "source": [
    "call <- read.csv('C:\\\\Users\\\\진수빈\\\\Downloads\\\\CallcenterExample.csv')\n",
    "head(call)"
   ]
  },
  {
   "cell_type": "code",
   "execution_count": 3,
   "metadata": {},
   "outputs": [
    {
     "data": {
      "text/html": [
       "<table>\n",
       "<thead><tr><th scope=col>Start.Date</th><th scope=col>End.Date</th></tr></thead>\n",
       "<tbody>\n",
       "\t<tr><td>9.3.10 8:05  </td><td>9.3.10 8:10  </td></tr>\n",
       "\t<tr><td>11.3.10 10:30</td><td>11.3.10 10:32</td></tr>\n",
       "\t<tr><td>11.3.10 11:45</td><td>11.3.10 11:52</td></tr>\n",
       "\t<tr><td>4.3.10 11:43 </td><td>4.3.10 11:46 </td></tr>\n",
       "\t<tr><td>25.3.10 9:32 </td><td>25.3.10 9:33 </td></tr>\n",
       "\t<tr><td>6.3.10 11:41 </td><td>6.3.10 11:51 </td></tr>\n",
       "</tbody>\n",
       "</table>\n"
      ],
      "text/latex": [
       "\\begin{tabular}{r|ll}\n",
       " Start.Date & End.Date\\\\\n",
       "\\hline\n",
       "\t 9.3.10 8:05   & 9.3.10 8:10  \\\\\n",
       "\t 11.3.10 10:30 & 11.3.10 10:32\\\\\n",
       "\t 11.3.10 11:45 & 11.3.10 11:52\\\\\n",
       "\t 4.3.10 11:43  & 4.3.10 11:46 \\\\\n",
       "\t 25.3.10 9:32  & 25.3.10 9:33 \\\\\n",
       "\t 6.3.10 11:41  & 6.3.10 11:51 \\\\\n",
       "\\end{tabular}\n"
      ],
      "text/markdown": [
       "\n",
       "Start.Date | End.Date | \n",
       "|---|---|---|---|---|---|\n",
       "| 9.3.10 8:05   | 9.3.10 8:10   | \n",
       "| 11.3.10 10:30 | 11.3.10 10:32 | \n",
       "| 11.3.10 11:45 | 11.3.10 11:52 | \n",
       "| 4.3.10 11:43  | 4.3.10 11:46  | \n",
       "| 25.3.10 9:32  | 25.3.10 9:33  | \n",
       "| 6.3.10 11:41  | 6.3.10 11:51  | \n",
       "\n",
       "\n"
      ],
      "text/plain": [
       "  Start.Date    End.Date     \n",
       "1 9.3.10 8:05   9.3.10 8:10  \n",
       "2 11.3.10 10:30 11.3.10 10:32\n",
       "3 11.3.10 11:45 11.3.10 11:52\n",
       "4 4.3.10 11:43  4.3.10 11:46 \n",
       "5 25.3.10 9:32  25.3.10 9:33 \n",
       "6 6.3.10 11:41  6.3.10 11:51 "
      ]
     },
     "metadata": {},
     "output_type": "display_data"
    }
   ],
   "source": [
    "sded <- subset(call, select = c(Start.Date, End.Date))\n",
    "head(sded)"
   ]
  },
  {
   "cell_type": "code",
   "execution_count": 7,
   "metadata": {},
   "outputs": [
    {
     "data": {
      "text/html": [
       "<ol>\n",
       "\t<li><ol class=list-inline>\n",
       "\t<li>'9.3.10'</li>\n",
       "\t<li>'8:05'</li>\n",
       "</ol>\n",
       "</li>\n",
       "\t<li><ol class=list-inline>\n",
       "\t<li>'11.3.10'</li>\n",
       "\t<li>'10:30'</li>\n",
       "</ol>\n",
       "</li>\n",
       "\t<li><ol class=list-inline>\n",
       "\t<li>'11.3.10'</li>\n",
       "\t<li>'11:45'</li>\n",
       "</ol>\n",
       "</li>\n",
       "\t<li><ol class=list-inline>\n",
       "\t<li>'4.3.10'</li>\n",
       "\t<li>'11:43'</li>\n",
       "</ol>\n",
       "</li>\n",
       "\t<li><ol class=list-inline>\n",
       "\t<li>'25.3.10'</li>\n",
       "\t<li>'9:32'</li>\n",
       "</ol>\n",
       "</li>\n",
       "\t<li><ol class=list-inline>\n",
       "\t<li>'6.3.10'</li>\n",
       "\t<li>'11:41'</li>\n",
       "</ol>\n",
       "</li>\n",
       "</ol>\n"
      ],
      "text/latex": [
       "\\begin{enumerate}\n",
       "\\item \\begin{enumerate*}\n",
       "\\item '9.3.10'\n",
       "\\item '8:05'\n",
       "\\end{enumerate*}\n",
       "\n",
       "\\item \\begin{enumerate*}\n",
       "\\item '11.3.10'\n",
       "\\item '10:30'\n",
       "\\end{enumerate*}\n",
       "\n",
       "\\item \\begin{enumerate*}\n",
       "\\item '11.3.10'\n",
       "\\item '11:45'\n",
       "\\end{enumerate*}\n",
       "\n",
       "\\item \\begin{enumerate*}\n",
       "\\item '4.3.10'\n",
       "\\item '11:43'\n",
       "\\end{enumerate*}\n",
       "\n",
       "\\item \\begin{enumerate*}\n",
       "\\item '25.3.10'\n",
       "\\item '9:32'\n",
       "\\end{enumerate*}\n",
       "\n",
       "\\item \\begin{enumerate*}\n",
       "\\item '6.3.10'\n",
       "\\item '11:41'\n",
       "\\end{enumerate*}\n",
       "\n",
       "\\end{enumerate}\n"
      ],
      "text/markdown": [
       "1. 1. '9.3.10'\n",
       "2. '8:05'\n",
       "\n",
       "\n",
       "\n",
       "2. 1. '11.3.10'\n",
       "2. '10:30'\n",
       "\n",
       "\n",
       "\n",
       "3. 1. '11.3.10'\n",
       "2. '11:45'\n",
       "\n",
       "\n",
       "\n",
       "4. 1. '4.3.10'\n",
       "2. '11:43'\n",
       "\n",
       "\n",
       "\n",
       "5. 1. '25.3.10'\n",
       "2. '9:32'\n",
       "\n",
       "\n",
       "\n",
       "6. 1. '6.3.10'\n",
       "2. '11:41'\n",
       "\n",
       "\n",
       "\n",
       "\n",
       "\n"
      ],
      "text/plain": [
       "[[1]]\n",
       "[1] \"9.3.10\" \"8:05\"  \n",
       "\n",
       "[[2]]\n",
       "[1] \"11.3.10\" \"10:30\"  \n",
       "\n",
       "[[3]]\n",
       "[1] \"11.3.10\" \"11:45\"  \n",
       "\n",
       "[[4]]\n",
       "[1] \"4.3.10\" \"11:43\" \n",
       "\n",
       "[[5]]\n",
       "[1] \"25.3.10\" \"9:32\"   \n",
       "\n",
       "[[6]]\n",
       "[1] \"6.3.10\" \"11:41\" \n"
      ]
     },
     "metadata": {},
     "output_type": "display_data"
    }
   ],
   "source": [
    "std <- strsplit(as.character(sded$Start.Date), split = \" \")\n",
    "head(std)"
   ]
  },
  {
   "cell_type": "markdown",
   "metadata": {},
   "source": [
    "## sapply"
   ]
  },
  {
   "cell_type": "code",
   "execution_count": 10,
   "metadata": {},
   "outputs": [
    {
     "data": {
      "text/html": [
       "<table>\n",
       "<thead><tr><th></th><th scope=col>X1</th><th scope=col>X2</th></tr></thead>\n",
       "<tbody>\n",
       "\t<tr><th scope=row>X1</th><td>9.3.10 </td><td>8:05   </td></tr>\n",
       "\t<tr><th scope=row>X2</th><td>11.3.10</td><td>10:30  </td></tr>\n",
       "\t<tr><th scope=row>X3</th><td>11.3.10</td><td>11:45  </td></tr>\n",
       "\t<tr><th scope=row>X4</th><td>4.3.10 </td><td>11:43  </td></tr>\n",
       "\t<tr><th scope=row>X5</th><td>25.3.10</td><td>9:32   </td></tr>\n",
       "\t<tr><th scope=row>X6</th><td>6.3.10 </td><td>11:41  </td></tr>\n",
       "</tbody>\n",
       "</table>\n"
      ],
      "text/latex": [
       "\\begin{tabular}{r|ll}\n",
       "  & X1 & X2\\\\\n",
       "\\hline\n",
       "\tX1 & 9.3.10  & 8:05   \\\\\n",
       "\tX2 & 11.3.10 & 10:30  \\\\\n",
       "\tX3 & 11.3.10 & 11:45  \\\\\n",
       "\tX4 & 4.3.10  & 11:43  \\\\\n",
       "\tX5 & 25.3.10 & 9:32   \\\\\n",
       "\tX6 & 6.3.10  & 11:41  \\\\\n",
       "\\end{tabular}\n"
      ],
      "text/markdown": [
       "\n",
       "| <!--/--> | X1 | X2 | \n",
       "|---|---|---|---|---|---|\n",
       "| X1 | 9.3.10  | 8:05    | \n",
       "| X2 | 11.3.10 | 10:30   | \n",
       "| X3 | 11.3.10 | 11:45   | \n",
       "| X4 | 4.3.10  | 11:43   | \n",
       "| X5 | 25.3.10 | 9:32    | \n",
       "| X6 | 6.3.10  | 11:41   | \n",
       "\n",
       "\n"
      ],
      "text/plain": [
       "   X1      X2   \n",
       "X1 9.3.10  8:05 \n",
       "X2 11.3.10 10:30\n",
       "X3 11.3.10 11:45\n",
       "X4 4.3.10  11:43\n",
       "X5 25.3.10 9:32 \n",
       "X6 6.3.10  11:41"
      ]
     },
     "metadata": {},
     "output_type": "display_data"
    }
   ],
   "source": [
    "std <- data.frame(t(sapply(std, '[')))\n",
    "head(std)"
   ]
  },
  {
   "cell_type": "markdown",
   "metadata": {},
   "source": [
    "#### split 단위를 .으로 할 때는 \"\\\\\\\\\\.\"으로 해야 한다\n",
    "#### 정규식 표현 때문에 그렇다고 함"
   ]
  },
  {
   "cell_type": "code",
   "execution_count": 13,
   "metadata": {},
   "outputs": [
    {
     "data": {
      "text/html": [
       "<ol>\n",
       "\t<li><ol class=list-inline>\n",
       "\t<li>'9'</li>\n",
       "\t<li>'3'</li>\n",
       "\t<li>'10'</li>\n",
       "</ol>\n",
       "</li>\n",
       "\t<li><ol class=list-inline>\n",
       "\t<li>'11'</li>\n",
       "\t<li>'3'</li>\n",
       "\t<li>'10'</li>\n",
       "</ol>\n",
       "</li>\n",
       "\t<li><ol class=list-inline>\n",
       "\t<li>'11'</li>\n",
       "\t<li>'3'</li>\n",
       "\t<li>'10'</li>\n",
       "</ol>\n",
       "</li>\n",
       "\t<li><ol class=list-inline>\n",
       "\t<li>'4'</li>\n",
       "\t<li>'3'</li>\n",
       "\t<li>'10'</li>\n",
       "</ol>\n",
       "</li>\n",
       "\t<li><ol class=list-inline>\n",
       "\t<li>'25'</li>\n",
       "\t<li>'3'</li>\n",
       "\t<li>'10'</li>\n",
       "</ol>\n",
       "</li>\n",
       "\t<li><ol class=list-inline>\n",
       "\t<li>'6'</li>\n",
       "\t<li>'3'</li>\n",
       "\t<li>'10'</li>\n",
       "</ol>\n",
       "</li>\n",
       "</ol>\n"
      ],
      "text/latex": [
       "\\begin{enumerate}\n",
       "\\item \\begin{enumerate*}\n",
       "\\item '9'\n",
       "\\item '3'\n",
       "\\item '10'\n",
       "\\end{enumerate*}\n",
       "\n",
       "\\item \\begin{enumerate*}\n",
       "\\item '11'\n",
       "\\item '3'\n",
       "\\item '10'\n",
       "\\end{enumerate*}\n",
       "\n",
       "\\item \\begin{enumerate*}\n",
       "\\item '11'\n",
       "\\item '3'\n",
       "\\item '10'\n",
       "\\end{enumerate*}\n",
       "\n",
       "\\item \\begin{enumerate*}\n",
       "\\item '4'\n",
       "\\item '3'\n",
       "\\item '10'\n",
       "\\end{enumerate*}\n",
       "\n",
       "\\item \\begin{enumerate*}\n",
       "\\item '25'\n",
       "\\item '3'\n",
       "\\item '10'\n",
       "\\end{enumerate*}\n",
       "\n",
       "\\item \\begin{enumerate*}\n",
       "\\item '6'\n",
       "\\item '3'\n",
       "\\item '10'\n",
       "\\end{enumerate*}\n",
       "\n",
       "\\end{enumerate}\n"
      ],
      "text/markdown": [
       "1. 1. '9'\n",
       "2. '3'\n",
       "3. '10'\n",
       "\n",
       "\n",
       "\n",
       "2. 1. '11'\n",
       "2. '3'\n",
       "3. '10'\n",
       "\n",
       "\n",
       "\n",
       "3. 1. '11'\n",
       "2. '3'\n",
       "3. '10'\n",
       "\n",
       "\n",
       "\n",
       "4. 1. '4'\n",
       "2. '3'\n",
       "3. '10'\n",
       "\n",
       "\n",
       "\n",
       "5. 1. '25'\n",
       "2. '3'\n",
       "3. '10'\n",
       "\n",
       "\n",
       "\n",
       "6. 1. '6'\n",
       "2. '3'\n",
       "3. '10'\n",
       "\n",
       "\n",
       "\n",
       "\n",
       "\n"
      ],
      "text/plain": [
       "[[1]]\n",
       "[1] \"9\"  \"3\"  \"10\"\n",
       "\n",
       "[[2]]\n",
       "[1] \"11\" \"3\"  \"10\"\n",
       "\n",
       "[[3]]\n",
       "[1] \"11\" \"3\"  \"10\"\n",
       "\n",
       "[[4]]\n",
       "[1] \"4\"  \"3\"  \"10\"\n",
       "\n",
       "[[5]]\n",
       "[1] \"25\" \"3\"  \"10\"\n",
       "\n",
       "[[6]]\n",
       "[1] \"6\"  \"3\"  \"10\"\n"
      ]
     },
     "metadata": {},
     "output_type": "display_data"
    }
   ],
   "source": [
    "stdate <- strsplit(as.character(std$X1), split = \"\\\\.\")\n",
    "head(stdate)"
   ]
  },
  {
   "cell_type": "code",
   "execution_count": 15,
   "metadata": {},
   "outputs": [
    {
     "data": {
      "text/html": [
       "<table>\n",
       "<thead><tr><th scope=col>X1</th><th scope=col>X2</th><th scope=col>X3</th></tr></thead>\n",
       "<tbody>\n",
       "\t<tr><td>9 </td><td>3 </td><td>10</td></tr>\n",
       "\t<tr><td>11</td><td>3 </td><td>10</td></tr>\n",
       "\t<tr><td>11</td><td>3 </td><td>10</td></tr>\n",
       "\t<tr><td>4 </td><td>3 </td><td>10</td></tr>\n",
       "\t<tr><td>25</td><td>3 </td><td>10</td></tr>\n",
       "\t<tr><td>6 </td><td>3 </td><td>10</td></tr>\n",
       "</tbody>\n",
       "</table>\n"
      ],
      "text/latex": [
       "\\begin{tabular}{r|lll}\n",
       " X1 & X2 & X3\\\\\n",
       "\\hline\n",
       "\t 9  & 3  & 10\\\\\n",
       "\t 11 & 3  & 10\\\\\n",
       "\t 11 & 3  & 10\\\\\n",
       "\t 4  & 3  & 10\\\\\n",
       "\t 25 & 3  & 10\\\\\n",
       "\t 6  & 3  & 10\\\\\n",
       "\\end{tabular}\n"
      ],
      "text/markdown": [
       "\n",
       "X1 | X2 | X3 | \n",
       "|---|---|---|---|---|---|\n",
       "| 9  | 3  | 10 | \n",
       "| 11 | 3  | 10 | \n",
       "| 11 | 3  | 10 | \n",
       "| 4  | 3  | 10 | \n",
       "| 25 | 3  | 10 | \n",
       "| 6  | 3  | 10 | \n",
       "\n",
       "\n"
      ],
      "text/plain": [
       "  X1 X2 X3\n",
       "1 9  3  10\n",
       "2 11 3  10\n",
       "3 11 3  10\n",
       "4 4  3  10\n",
       "5 25 3  10\n",
       "6 6  3  10"
      ]
     },
     "metadata": {},
     "output_type": "display_data"
    }
   ],
   "source": [
    "spstdate <- data.frame(t(sapply(stdate, '[')))\n",
    "head(spstdate)"
   ]
  },
  {
   "cell_type": "markdown",
   "metadata": {},
   "source": [
    "#### X1의 경우 조건부로 뭔가 붙일 때 데이터의 형식이 다르면 오류가 나는 경우가 있어 모두 character로 적용함"
   ]
  },
  {
   "cell_type": "code",
   "execution_count": 16,
   "metadata": {},
   "outputs": [
    {
     "data": {
      "text/html": [
       "<table>\n",
       "<thead><tr><th scope=col>X1</th><th scope=col>X2</th><th scope=col>X3</th></tr></thead>\n",
       "<tbody>\n",
       "\t<tr><td>09  </td><td>03  </td><td>2010</td></tr>\n",
       "\t<tr><td>11  </td><td>03  </td><td>2010</td></tr>\n",
       "\t<tr><td>11  </td><td>03  </td><td>2010</td></tr>\n",
       "\t<tr><td>04  </td><td>03  </td><td>2010</td></tr>\n",
       "\t<tr><td>25  </td><td>03  </td><td>2010</td></tr>\n",
       "\t<tr><td>06  </td><td>03  </td><td>2010</td></tr>\n",
       "</tbody>\n",
       "</table>\n"
      ],
      "text/latex": [
       "\\begin{tabular}{r|lll}\n",
       " X1 & X2 & X3\\\\\n",
       "\\hline\n",
       "\t 09   & 03   & 2010\\\\\n",
       "\t 11   & 03   & 2010\\\\\n",
       "\t 11   & 03   & 2010\\\\\n",
       "\t 04   & 03   & 2010\\\\\n",
       "\t 25   & 03   & 2010\\\\\n",
       "\t 06   & 03   & 2010\\\\\n",
       "\\end{tabular}\n"
      ],
      "text/markdown": [
       "\n",
       "X1 | X2 | X3 | \n",
       "|---|---|---|---|---|---|\n",
       "| 09   | 03   | 2010 | \n",
       "| 11   | 03   | 2010 | \n",
       "| 11   | 03   | 2010 | \n",
       "| 04   | 03   | 2010 | \n",
       "| 25   | 03   | 2010 | \n",
       "| 06   | 03   | 2010 | \n",
       "\n",
       "\n"
      ],
      "text/plain": [
       "  X1 X2 X3  \n",
       "1 09 03 2010\n",
       "2 11 03 2010\n",
       "3 11 03 2010\n",
       "4 04 03 2010\n",
       "5 25 03 2010\n",
       "6 06 03 2010"
      ]
     },
     "metadata": {},
     "output_type": "display_data"
    }
   ],
   "source": [
    "spstdate$X3 <- paste0(\"20\", spstdate$X3)\n",
    "spstdate$X2 <- paste0(\"0\", spstdate$X2)\n",
    "spstdate$X1 <- ifelse(nchar(as.character(spstdate$X1)) == 1, paste0(\"0\", as.character(spstdate$X1)), as.character(spstdate$X1))\n",
    "head(spstdate)"
   ]
  },
  {
   "cell_type": "code",
   "execution_count": 18,
   "metadata": {},
   "outputs": [
    {
     "data": {
      "text/html": [
       "<table>\n",
       "<thead><tr><th scope=col>X1</th><th scope=col>X2</th><th scope=col>X3</th><th scope=col>DATE</th></tr></thead>\n",
       "<tbody>\n",
       "\t<tr><td>09        </td><td>03        </td><td>2010      </td><td>2010-03-09</td></tr>\n",
       "\t<tr><td>11        </td><td>03        </td><td>2010      </td><td>2010-03-11</td></tr>\n",
       "\t<tr><td>11        </td><td>03        </td><td>2010      </td><td>2010-03-11</td></tr>\n",
       "\t<tr><td>04        </td><td>03        </td><td>2010      </td><td>2010-03-04</td></tr>\n",
       "\t<tr><td>25        </td><td>03        </td><td>2010      </td><td>2010-03-25</td></tr>\n",
       "\t<tr><td>06        </td><td>03        </td><td>2010      </td><td>2010-03-06</td></tr>\n",
       "</tbody>\n",
       "</table>\n"
      ],
      "text/latex": [
       "\\begin{tabular}{r|llll}\n",
       " X1 & X2 & X3 & DATE\\\\\n",
       "\\hline\n",
       "\t 09         & 03         & 2010       & 2010-03-09\\\\\n",
       "\t 11         & 03         & 2010       & 2010-03-11\\\\\n",
       "\t 11         & 03         & 2010       & 2010-03-11\\\\\n",
       "\t 04         & 03         & 2010       & 2010-03-04\\\\\n",
       "\t 25         & 03         & 2010       & 2010-03-25\\\\\n",
       "\t 06         & 03         & 2010       & 2010-03-06\\\\\n",
       "\\end{tabular}\n"
      ],
      "text/markdown": [
       "\n",
       "X1 | X2 | X3 | DATE | \n",
       "|---|---|---|---|---|---|\n",
       "| 09         | 03         | 2010       | 2010-03-09 | \n",
       "| 11         | 03         | 2010       | 2010-03-11 | \n",
       "| 11         | 03         | 2010       | 2010-03-11 | \n",
       "| 04         | 03         | 2010       | 2010-03-04 | \n",
       "| 25         | 03         | 2010       | 2010-03-25 | \n",
       "| 06         | 03         | 2010       | 2010-03-06 | \n",
       "\n",
       "\n"
      ],
      "text/plain": [
       "  X1 X2 X3   DATE      \n",
       "1 09 03 2010 2010-03-09\n",
       "2 11 03 2010 2010-03-11\n",
       "3 11 03 2010 2010-03-11\n",
       "4 04 03 2010 2010-03-04\n",
       "5 25 03 2010 2010-03-25\n",
       "6 06 03 2010 2010-03-06"
      ]
     },
     "metadata": {},
     "output_type": "display_data"
    }
   ],
   "source": [
    "spstdate$DATE <- paste0(spstdate$X3, \"-\", spstdate$X2, \"-\", spstdate$X1)\n",
    "head(spstdate)"
   ]
  },
  {
   "cell_type": "code",
   "execution_count": 22,
   "metadata": {},
   "outputs": [
    {
     "data": {
      "text/html": [
       "<table>\n",
       "<thead><tr><th></th><th scope=col>X1</th><th scope=col>X2</th><th scope=col>time</th></tr></thead>\n",
       "<tbody>\n",
       "\t<tr><th scope=row>X1</th><td>9.3.10 </td><td>8:05   </td><td>08:05  </td></tr>\n",
       "\t<tr><th scope=row>X2</th><td>11.3.10</td><td>10:30  </td><td>10:30  </td></tr>\n",
       "\t<tr><th scope=row>X3</th><td>11.3.10</td><td>11:45  </td><td>11:45  </td></tr>\n",
       "\t<tr><th scope=row>X4</th><td>4.3.10 </td><td>11:43  </td><td>11:43  </td></tr>\n",
       "\t<tr><th scope=row>X5</th><td>25.3.10</td><td>9:32   </td><td>09:32  </td></tr>\n",
       "\t<tr><th scope=row>X6</th><td>6.3.10 </td><td>11:41  </td><td>11:41  </td></tr>\n",
       "</tbody>\n",
       "</table>\n"
      ],
      "text/latex": [
       "\\begin{tabular}{r|lll}\n",
       "  & X1 & X2 & time\\\\\n",
       "\\hline\n",
       "\tX1 & 9.3.10  & 8:05    & 08:05  \\\\\n",
       "\tX2 & 11.3.10 & 10:30   & 10:30  \\\\\n",
       "\tX3 & 11.3.10 & 11:45   & 11:45  \\\\\n",
       "\tX4 & 4.3.10  & 11:43   & 11:43  \\\\\n",
       "\tX5 & 25.3.10 & 9:32    & 09:32  \\\\\n",
       "\tX6 & 6.3.10  & 11:41   & 11:41  \\\\\n",
       "\\end{tabular}\n"
      ],
      "text/markdown": [
       "\n",
       "| <!--/--> | X1 | X2 | time | \n",
       "|---|---|---|---|---|---|\n",
       "| X1 | 9.3.10  | 8:05    | 08:05   | \n",
       "| X2 | 11.3.10 | 10:30   | 10:30   | \n",
       "| X3 | 11.3.10 | 11:45   | 11:45   | \n",
       "| X4 | 4.3.10  | 11:43   | 11:43   | \n",
       "| X5 | 25.3.10 | 9:32    | 09:32   | \n",
       "| X6 | 6.3.10  | 11:41   | 11:41   | \n",
       "\n",
       "\n"
      ],
      "text/plain": [
       "   X1      X2    time \n",
       "X1 9.3.10  8:05  08:05\n",
       "X2 11.3.10 10:30 10:30\n",
       "X3 11.3.10 11:45 11:45\n",
       "X4 4.3.10  11:43 11:43\n",
       "X5 25.3.10 9:32  09:32\n",
       "X6 6.3.10  11:41 11:41"
      ]
     },
     "metadata": {},
     "output_type": "display_data"
    }
   ],
   "source": [
    "std$time <- ifelse(nchar(as.character(std$X2)) == 4, paste0(\"0\", std$X2), as.character(std$X2))\n",
    "head(std)"
   ]
  },
  {
   "cell_type": "code",
   "execution_count": 24,
   "metadata": {},
   "outputs": [
    {
     "data": {
      "text/html": [
       "<table>\n",
       "<thead><tr><th scope=col>Service.ID</th><th scope=col>Operation</th><th scope=col>Start.Date</th><th scope=col>End.Date</th><th scope=col>Agent.Position</th><th scope=col>Customer.ID</th><th scope=col>Product</th><th scope=col>Service.Type</th><th scope=col>Agent</th><th scope=col>SDT</th></tr></thead>\n",
       "<tbody>\n",
       "\t<tr><td>Case 1              </td><td>Inbound Call        </td><td>9.3.10 8:05         </td><td>9.3.10 8:10         </td><td>FL                  </td><td>Customer 1          </td><td>MacBook Pro         </td><td>Referred to Servicer</td><td>Helen               </td><td>2010-03-09 08:05    </td></tr>\n",
       "\t<tr><td>Case 1              </td><td>Handle Case         </td><td>11.3.10 10:30       </td><td>11.3.10 10:32       </td><td>FL                  </td><td>Customer 1          </td><td>MacBook Pro         </td><td>Referred to Servicer</td><td>Helen               </td><td>2010-03-11 10:30    </td></tr>\n",
       "\t<tr><td>Case 1              </td><td>Call Outbound       </td><td>11.3.10 11:45       </td><td>11.3.10 11:52       </td><td>FL                  </td><td>Customer 1          </td><td>MacBook Pro         </td><td>Referred to Servicer</td><td>Henk                </td><td>2010-03-11 11:45    </td></tr>\n",
       "\t<tr><td>Case 2              </td><td>Inbound Call        </td><td>4.3.10 11:43        </td><td>4.3.10 11:46        </td><td>FL                  </td><td>Customer 2          </td><td>MacBook Pro         </td><td>Referred to Servicer</td><td>Susi                </td><td>2010-03-04 11:43    </td></tr>\n",
       "\t<tr><td>Case 3              </td><td>Inbound Call        </td><td>25.3.10 9:32        </td><td>25.3.10 9:33        </td><td>FL                  </td><td>Customer 3          </td><td>MacBook Pro         </td><td>Referred to Servicer</td><td>Mary                </td><td>2010-03-25 09:32    </td></tr>\n",
       "\t<tr><td>Case 4              </td><td>Inbound Call        </td><td>6.3.10 11:41        </td><td>6.3.10 11:51        </td><td>FL                  </td><td>Customer 4          </td><td>iPhone              </td><td>Referred to Servicer</td><td>Fred                </td><td>2010-03-06 11:41    </td></tr>\n",
       "</tbody>\n",
       "</table>\n"
      ],
      "text/latex": [
       "\\begin{tabular}{r|llllllllll}\n",
       " Service.ID & Operation & Start.Date & End.Date & Agent.Position & Customer.ID & Product & Service.Type & Agent & SDT\\\\\n",
       "\\hline\n",
       "\t Case 1               & Inbound Call         & 9.3.10 8:05          & 9.3.10 8:10          & FL                   & Customer 1           & MacBook Pro          & Referred to Servicer & Helen                & 2010-03-09 08:05    \\\\\n",
       "\t Case 1               & Handle Case          & 11.3.10 10:30        & 11.3.10 10:32        & FL                   & Customer 1           & MacBook Pro          & Referred to Servicer & Helen                & 2010-03-11 10:30    \\\\\n",
       "\t Case 1               & Call Outbound        & 11.3.10 11:45        & 11.3.10 11:52        & FL                   & Customer 1           & MacBook Pro          & Referred to Servicer & Henk                 & 2010-03-11 11:45    \\\\\n",
       "\t Case 2               & Inbound Call         & 4.3.10 11:43         & 4.3.10 11:46         & FL                   & Customer 2           & MacBook Pro          & Referred to Servicer & Susi                 & 2010-03-04 11:43    \\\\\n",
       "\t Case 3               & Inbound Call         & 25.3.10 9:32         & 25.3.10 9:33         & FL                   & Customer 3           & MacBook Pro          & Referred to Servicer & Mary                 & 2010-03-25 09:32    \\\\\n",
       "\t Case 4               & Inbound Call         & 6.3.10 11:41         & 6.3.10 11:51         & FL                   & Customer 4           & iPhone               & Referred to Servicer & Fred                 & 2010-03-06 11:41    \\\\\n",
       "\\end{tabular}\n"
      ],
      "text/markdown": [
       "\n",
       "Service.ID | Operation | Start.Date | End.Date | Agent.Position | Customer.ID | Product | Service.Type | Agent | SDT | \n",
       "|---|---|---|---|---|---|\n",
       "| Case 1               | Inbound Call         | 9.3.10 8:05          | 9.3.10 8:10          | FL                   | Customer 1           | MacBook Pro          | Referred to Servicer | Helen                | 2010-03-09 08:05     | \n",
       "| Case 1               | Handle Case          | 11.3.10 10:30        | 11.3.10 10:32        | FL                   | Customer 1           | MacBook Pro          | Referred to Servicer | Helen                | 2010-03-11 10:30     | \n",
       "| Case 1               | Call Outbound        | 11.3.10 11:45        | 11.3.10 11:52        | FL                   | Customer 1           | MacBook Pro          | Referred to Servicer | Henk                 | 2010-03-11 11:45     | \n",
       "| Case 2               | Inbound Call         | 4.3.10 11:43         | 4.3.10 11:46         | FL                   | Customer 2           | MacBook Pro          | Referred to Servicer | Susi                 | 2010-03-04 11:43     | \n",
       "| Case 3               | Inbound Call         | 25.3.10 9:32         | 25.3.10 9:33         | FL                   | Customer 3           | MacBook Pro          | Referred to Servicer | Mary                 | 2010-03-25 09:32     | \n",
       "| Case 4               | Inbound Call         | 6.3.10 11:41         | 6.3.10 11:51         | FL                   | Customer 4           | iPhone               | Referred to Servicer | Fred                 | 2010-03-06 11:41     | \n",
       "\n",
       "\n"
      ],
      "text/plain": [
       "  Service.ID Operation     Start.Date    End.Date      Agent.Position\n",
       "1 Case 1     Inbound Call  9.3.10 8:05   9.3.10 8:10   FL            \n",
       "2 Case 1     Handle Case   11.3.10 10:30 11.3.10 10:32 FL            \n",
       "3 Case 1     Call Outbound 11.3.10 11:45 11.3.10 11:52 FL            \n",
       "4 Case 2     Inbound Call  4.3.10 11:43  4.3.10 11:46  FL            \n",
       "5 Case 3     Inbound Call  25.3.10 9:32  25.3.10 9:33  FL            \n",
       "6 Case 4     Inbound Call  6.3.10 11:41  6.3.10 11:51  FL            \n",
       "  Customer.ID Product     Service.Type         Agent SDT             \n",
       "1 Customer 1  MacBook Pro Referred to Servicer Helen 2010-03-09 08:05\n",
       "2 Customer 1  MacBook Pro Referred to Servicer Helen 2010-03-11 10:30\n",
       "3 Customer 1  MacBook Pro Referred to Servicer Henk  2010-03-11 11:45\n",
       "4 Customer 2  MacBook Pro Referred to Servicer Susi  2010-03-04 11:43\n",
       "5 Customer 3  MacBook Pro Referred to Servicer Mary  2010-03-25 09:32\n",
       "6 Customer 4  iPhone      Referred to Servicer Fred  2010-03-06 11:41"
      ]
     },
     "metadata": {},
     "output_type": "display_data"
    }
   ],
   "source": [
    "call$SDT <- paste(spstdate$DATE, std$time)\n",
    "head(call)"
   ]
  },
  {
   "cell_type": "code",
   "execution_count": 25,
   "metadata": {},
   "outputs": [
    {
     "data": {
      "text/html": [
       "<ol>\n",
       "\t<li><ol class=list-inline>\n",
       "\t<li>'9.3.10'</li>\n",
       "\t<li>'8:10'</li>\n",
       "</ol>\n",
       "</li>\n",
       "\t<li><ol class=list-inline>\n",
       "\t<li>'11.3.10'</li>\n",
       "\t<li>'10:32'</li>\n",
       "</ol>\n",
       "</li>\n",
       "\t<li><ol class=list-inline>\n",
       "\t<li>'11.3.10'</li>\n",
       "\t<li>'11:52'</li>\n",
       "</ol>\n",
       "</li>\n",
       "\t<li><ol class=list-inline>\n",
       "\t<li>'4.3.10'</li>\n",
       "\t<li>'11:46'</li>\n",
       "</ol>\n",
       "</li>\n",
       "\t<li><ol class=list-inline>\n",
       "\t<li>'25.3.10'</li>\n",
       "\t<li>'9:33'</li>\n",
       "</ol>\n",
       "</li>\n",
       "\t<li><ol class=list-inline>\n",
       "\t<li>'6.3.10'</li>\n",
       "\t<li>'11:51'</li>\n",
       "</ol>\n",
       "</li>\n",
       "</ol>\n"
      ],
      "text/latex": [
       "\\begin{enumerate}\n",
       "\\item \\begin{enumerate*}\n",
       "\\item '9.3.10'\n",
       "\\item '8:10'\n",
       "\\end{enumerate*}\n",
       "\n",
       "\\item \\begin{enumerate*}\n",
       "\\item '11.3.10'\n",
       "\\item '10:32'\n",
       "\\end{enumerate*}\n",
       "\n",
       "\\item \\begin{enumerate*}\n",
       "\\item '11.3.10'\n",
       "\\item '11:52'\n",
       "\\end{enumerate*}\n",
       "\n",
       "\\item \\begin{enumerate*}\n",
       "\\item '4.3.10'\n",
       "\\item '11:46'\n",
       "\\end{enumerate*}\n",
       "\n",
       "\\item \\begin{enumerate*}\n",
       "\\item '25.3.10'\n",
       "\\item '9:33'\n",
       "\\end{enumerate*}\n",
       "\n",
       "\\item \\begin{enumerate*}\n",
       "\\item '6.3.10'\n",
       "\\item '11:51'\n",
       "\\end{enumerate*}\n",
       "\n",
       "\\end{enumerate}\n"
      ],
      "text/markdown": [
       "1. 1. '9.3.10'\n",
       "2. '8:10'\n",
       "\n",
       "\n",
       "\n",
       "2. 1. '11.3.10'\n",
       "2. '10:32'\n",
       "\n",
       "\n",
       "\n",
       "3. 1. '11.3.10'\n",
       "2. '11:52'\n",
       "\n",
       "\n",
       "\n",
       "4. 1. '4.3.10'\n",
       "2. '11:46'\n",
       "\n",
       "\n",
       "\n",
       "5. 1. '25.3.10'\n",
       "2. '9:33'\n",
       "\n",
       "\n",
       "\n",
       "6. 1. '6.3.10'\n",
       "2. '11:51'\n",
       "\n",
       "\n",
       "\n",
       "\n",
       "\n"
      ],
      "text/plain": [
       "[[1]]\n",
       "[1] \"9.3.10\" \"8:10\"  \n",
       "\n",
       "[[2]]\n",
       "[1] \"11.3.10\" \"10:32\"  \n",
       "\n",
       "[[3]]\n",
       "[1] \"11.3.10\" \"11:52\"  \n",
       "\n",
       "[[4]]\n",
       "[1] \"4.3.10\" \"11:46\" \n",
       "\n",
       "[[5]]\n",
       "[1] \"25.3.10\" \"9:33\"   \n",
       "\n",
       "[[6]]\n",
       "[1] \"6.3.10\" \"11:51\" \n"
      ]
     },
     "metadata": {},
     "output_type": "display_data"
    }
   ],
   "source": [
    "etd <- strsplit(as.character(sded$End.Date), split = \" \")\n",
    "head(etd)"
   ]
  },
  {
   "cell_type": "code",
   "execution_count": 27,
   "metadata": {},
   "outputs": [
    {
     "data": {
      "text/html": [
       "<table>\n",
       "<thead><tr><th scope=col>X1</th><th scope=col>X2</th></tr></thead>\n",
       "<tbody>\n",
       "\t<tr><td>9.3.10 </td><td>8:10   </td></tr>\n",
       "\t<tr><td>11.3.10</td><td>10:32  </td></tr>\n",
       "\t<tr><td>11.3.10</td><td>11:52  </td></tr>\n",
       "\t<tr><td>4.3.10 </td><td>11:46  </td></tr>\n",
       "\t<tr><td>25.3.10</td><td>9:33   </td></tr>\n",
       "\t<tr><td>6.3.10 </td><td>11:51  </td></tr>\n",
       "</tbody>\n",
       "</table>\n"
      ],
      "text/latex": [
       "\\begin{tabular}{r|ll}\n",
       " X1 & X2\\\\\n",
       "\\hline\n",
       "\t 9.3.10  & 8:10   \\\\\n",
       "\t 11.3.10 & 10:32  \\\\\n",
       "\t 11.3.10 & 11:52  \\\\\n",
       "\t 4.3.10  & 11:46  \\\\\n",
       "\t 25.3.10 & 9:33   \\\\\n",
       "\t 6.3.10  & 11:51  \\\\\n",
       "\\end{tabular}\n"
      ],
      "text/markdown": [
       "\n",
       "X1 | X2 | \n",
       "|---|---|---|---|---|---|\n",
       "| 9.3.10  | 8:10    | \n",
       "| 11.3.10 | 10:32   | \n",
       "| 11.3.10 | 11:52   | \n",
       "| 4.3.10  | 11:46   | \n",
       "| 25.3.10 | 9:33    | \n",
       "| 6.3.10  | 11:51   | \n",
       "\n",
       "\n"
      ],
      "text/plain": [
       "  X1      X2   \n",
       "1 9.3.10  8:10 \n",
       "2 11.3.10 10:32\n",
       "3 11.3.10 11:52\n",
       "4 4.3.10  11:46\n",
       "5 25.3.10 9:33 \n",
       "6 6.3.10  11:51"
      ]
     },
     "metadata": {},
     "output_type": "display_data"
    }
   ],
   "source": [
    "etd <- data.frame(t(sapply(etd, '[')))\n",
    "head(etd)"
   ]
  },
  {
   "cell_type": "code",
   "execution_count": 30,
   "metadata": {},
   "outputs": [
    {
     "data": {
      "text/html": [
       "<table>\n",
       "<thead><tr><th scope=col>X1</th><th scope=col>X2</th><th scope=col>X3</th></tr></thead>\n",
       "<tbody>\n",
       "\t<tr><td>9 </td><td>3 </td><td>10</td></tr>\n",
       "\t<tr><td>11</td><td>3 </td><td>10</td></tr>\n",
       "\t<tr><td>11</td><td>3 </td><td>10</td></tr>\n",
       "\t<tr><td>4 </td><td>3 </td><td>10</td></tr>\n",
       "\t<tr><td>25</td><td>3 </td><td>10</td></tr>\n",
       "\t<tr><td>6 </td><td>3 </td><td>10</td></tr>\n",
       "</tbody>\n",
       "</table>\n"
      ],
      "text/latex": [
       "\\begin{tabular}{r|lll}\n",
       " X1 & X2 & X3\\\\\n",
       "\\hline\n",
       "\t 9  & 3  & 10\\\\\n",
       "\t 11 & 3  & 10\\\\\n",
       "\t 11 & 3  & 10\\\\\n",
       "\t 4  & 3  & 10\\\\\n",
       "\t 25 & 3  & 10\\\\\n",
       "\t 6  & 3  & 10\\\\\n",
       "\\end{tabular}\n"
      ],
      "text/markdown": [
       "\n",
       "X1 | X2 | X3 | \n",
       "|---|---|---|---|---|---|\n",
       "| 9  | 3  | 10 | \n",
       "| 11 | 3  | 10 | \n",
       "| 11 | 3  | 10 | \n",
       "| 4  | 3  | 10 | \n",
       "| 25 | 3  | 10 | \n",
       "| 6  | 3  | 10 | \n",
       "\n",
       "\n"
      ],
      "text/plain": [
       "  X1 X2 X3\n",
       "1 9  3  10\n",
       "2 11 3  10\n",
       "3 11 3  10\n",
       "4 4  3  10\n",
       "5 25 3  10\n",
       "6 6  3  10"
      ]
     },
     "metadata": {},
     "output_type": "display_data"
    }
   ],
   "source": [
    "edate <- strsplit(as.character(etd$X1), split = \"\\\\.\")\n",
    "edate <- data.frame(t(sapply(edate, '[')))\n",
    "head(edate)"
   ]
  },
  {
   "cell_type": "code",
   "execution_count": 31,
   "metadata": {},
   "outputs": [
    {
     "data": {
      "text/html": [
       "<table>\n",
       "<thead><tr><th scope=col>X1</th><th scope=col>X2</th><th scope=col>X3</th></tr></thead>\n",
       "<tbody>\n",
       "\t<tr><td>09  </td><td>03  </td><td>2010</td></tr>\n",
       "\t<tr><td>11  </td><td>03  </td><td>2010</td></tr>\n",
       "\t<tr><td>11  </td><td>03  </td><td>2010</td></tr>\n",
       "\t<tr><td>04  </td><td>03  </td><td>2010</td></tr>\n",
       "\t<tr><td>25  </td><td>03  </td><td>2010</td></tr>\n",
       "\t<tr><td>06  </td><td>03  </td><td>2010</td></tr>\n",
       "</tbody>\n",
       "</table>\n"
      ],
      "text/latex": [
       "\\begin{tabular}{r|lll}\n",
       " X1 & X2 & X3\\\\\n",
       "\\hline\n",
       "\t 09   & 03   & 2010\\\\\n",
       "\t 11   & 03   & 2010\\\\\n",
       "\t 11   & 03   & 2010\\\\\n",
       "\t 04   & 03   & 2010\\\\\n",
       "\t 25   & 03   & 2010\\\\\n",
       "\t 06   & 03   & 2010\\\\\n",
       "\\end{tabular}\n"
      ],
      "text/markdown": [
       "\n",
       "X1 | X2 | X3 | \n",
       "|---|---|---|---|---|---|\n",
       "| 09   | 03   | 2010 | \n",
       "| 11   | 03   | 2010 | \n",
       "| 11   | 03   | 2010 | \n",
       "| 04   | 03   | 2010 | \n",
       "| 25   | 03   | 2010 | \n",
       "| 06   | 03   | 2010 | \n",
       "\n",
       "\n"
      ],
      "text/plain": [
       "  X1 X2 X3  \n",
       "1 09 03 2010\n",
       "2 11 03 2010\n",
       "3 11 03 2010\n",
       "4 04 03 2010\n",
       "5 25 03 2010\n",
       "6 06 03 2010"
      ]
     },
     "metadata": {},
     "output_type": "display_data"
    }
   ],
   "source": [
    "edate$X3 <- paste0(\"20\", edate$X3)\n",
    "edate$X2 <- paste0(\"0\", edate$X2)\n",
    "edate$X1 <- ifelse(nchar(as.character(edate$X1)) == 1, paste0(\"0\", as.character(edate$X1)), as.character(edate$X1))\n",
    "head(edate)"
   ]
  },
  {
   "cell_type": "code",
   "execution_count": 33,
   "metadata": {},
   "outputs": [
    {
     "data": {
      "text/html": [
       "<table>\n",
       "<thead><tr><th scope=col>X1</th><th scope=col>X2</th><th scope=col>X3</th><th scope=col>EDATE</th></tr></thead>\n",
       "<tbody>\n",
       "\t<tr><td>09            </td><td>03            </td><td>2010          </td><td>2010 - 03 - 09</td></tr>\n",
       "\t<tr><td>11            </td><td>03            </td><td>2010          </td><td>2010 - 03 - 11</td></tr>\n",
       "\t<tr><td>11            </td><td>03            </td><td>2010          </td><td>2010 - 03 - 11</td></tr>\n",
       "\t<tr><td>04            </td><td>03            </td><td>2010          </td><td>2010 - 03 - 04</td></tr>\n",
       "\t<tr><td>25            </td><td>03            </td><td>2010          </td><td>2010 - 03 - 25</td></tr>\n",
       "\t<tr><td>06            </td><td>03            </td><td>2010          </td><td>2010 - 03 - 06</td></tr>\n",
       "</tbody>\n",
       "</table>\n"
      ],
      "text/latex": [
       "\\begin{tabular}{r|llll}\n",
       " X1 & X2 & X3 & EDATE\\\\\n",
       "\\hline\n",
       "\t 09             & 03             & 2010           & 2010 - 03 - 09\\\\\n",
       "\t 11             & 03             & 2010           & 2010 - 03 - 11\\\\\n",
       "\t 11             & 03             & 2010           & 2010 - 03 - 11\\\\\n",
       "\t 04             & 03             & 2010           & 2010 - 03 - 04\\\\\n",
       "\t 25             & 03             & 2010           & 2010 - 03 - 25\\\\\n",
       "\t 06             & 03             & 2010           & 2010 - 03 - 06\\\\\n",
       "\\end{tabular}\n"
      ],
      "text/markdown": [
       "\n",
       "X1 | X2 | X3 | EDATE | \n",
       "|---|---|---|---|---|---|\n",
       "| 09             | 03             | 2010           | 2010 - 03 - 09 | \n",
       "| 11             | 03             | 2010           | 2010 - 03 - 11 | \n",
       "| 11             | 03             | 2010           | 2010 - 03 - 11 | \n",
       "| 04             | 03             | 2010           | 2010 - 03 - 04 | \n",
       "| 25             | 03             | 2010           | 2010 - 03 - 25 | \n",
       "| 06             | 03             | 2010           | 2010 - 03 - 06 | \n",
       "\n",
       "\n"
      ],
      "text/plain": [
       "  X1 X2 X3   EDATE         \n",
       "1 09 03 2010 2010 - 03 - 09\n",
       "2 11 03 2010 2010 - 03 - 11\n",
       "3 11 03 2010 2010 - 03 - 11\n",
       "4 04 03 2010 2010 - 03 - 04\n",
       "5 25 03 2010 2010 - 03 - 25\n",
       "6 06 03 2010 2010 - 03 - 06"
      ]
     },
     "metadata": {},
     "output_type": "display_data"
    }
   ],
   "source": [
    "edate$EDATE <- paste(edate$X3, \"-\", edate$X2, \"-\", edate$X1)\n",
    "head(edate)"
   ]
  },
  {
   "cell_type": "code",
   "execution_count": 34,
   "metadata": {},
   "outputs": [
    {
     "data": {
      "text/html": [
       "<table>\n",
       "<thead><tr><th scope=col>X1</th><th scope=col>X2</th><th scope=col>time</th></tr></thead>\n",
       "<tbody>\n",
       "\t<tr><td>9.3.10 </td><td>8:10   </td><td>08:10  </td></tr>\n",
       "\t<tr><td>11.3.10</td><td>10:32  </td><td>10:32  </td></tr>\n",
       "\t<tr><td>11.3.10</td><td>11:52  </td><td>11:52  </td></tr>\n",
       "\t<tr><td>4.3.10 </td><td>11:46  </td><td>11:46  </td></tr>\n",
       "\t<tr><td>25.3.10</td><td>9:33   </td><td>09:33  </td></tr>\n",
       "\t<tr><td>6.3.10 </td><td>11:51  </td><td>11:51  </td></tr>\n",
       "</tbody>\n",
       "</table>\n"
      ],
      "text/latex": [
       "\\begin{tabular}{r|lll}\n",
       " X1 & X2 & time\\\\\n",
       "\\hline\n",
       "\t 9.3.10  & 8:10    & 08:10  \\\\\n",
       "\t 11.3.10 & 10:32   & 10:32  \\\\\n",
       "\t 11.3.10 & 11:52   & 11:52  \\\\\n",
       "\t 4.3.10  & 11:46   & 11:46  \\\\\n",
       "\t 25.3.10 & 9:33    & 09:33  \\\\\n",
       "\t 6.3.10  & 11:51   & 11:51  \\\\\n",
       "\\end{tabular}\n"
      ],
      "text/markdown": [
       "\n",
       "X1 | X2 | time | \n",
       "|---|---|---|---|---|---|\n",
       "| 9.3.10  | 8:10    | 08:10   | \n",
       "| 11.3.10 | 10:32   | 10:32   | \n",
       "| 11.3.10 | 11:52   | 11:52   | \n",
       "| 4.3.10  | 11:46   | 11:46   | \n",
       "| 25.3.10 | 9:33    | 09:33   | \n",
       "| 6.3.10  | 11:51   | 11:51   | \n",
       "\n",
       "\n"
      ],
      "text/plain": [
       "  X1      X2    time \n",
       "1 9.3.10  8:10  08:10\n",
       "2 11.3.10 10:32 10:32\n",
       "3 11.3.10 11:52 11:52\n",
       "4 4.3.10  11:46 11:46\n",
       "5 25.3.10 9:33  09:33\n",
       "6 6.3.10  11:51 11:51"
      ]
     },
     "metadata": {},
     "output_type": "display_data"
    }
   ],
   "source": [
    "etd$time <- ifelse(nchar(as.character(etd$X2)) == 4, paste0(\"0\", etd$X2), as.character(etd$X2))\n",
    "head(etd)"
   ]
  },
  {
   "cell_type": "code",
   "execution_count": 35,
   "metadata": {},
   "outputs": [
    {
     "data": {
      "text/html": [
       "<table>\n",
       "<thead><tr><th scope=col>Service.ID</th><th scope=col>Operation</th><th scope=col>Start.Date</th><th scope=col>End.Date</th><th scope=col>Agent.Position</th><th scope=col>Customer.ID</th><th scope=col>Product</th><th scope=col>Service.Type</th><th scope=col>Agent</th><th scope=col>SDT</th><th scope=col>EDT</th></tr></thead>\n",
       "<tbody>\n",
       "\t<tr><td>Case 1              </td><td>Inbound Call        </td><td>9.3.10 8:05         </td><td>9.3.10 8:10         </td><td>FL                  </td><td>Customer 1          </td><td>MacBook Pro         </td><td>Referred to Servicer</td><td>Helen               </td><td>2010-03-09 08:05    </td><td>2010 - 03 - 09 08:10</td></tr>\n",
       "\t<tr><td>Case 1              </td><td>Handle Case         </td><td>11.3.10 10:30       </td><td>11.3.10 10:32       </td><td>FL                  </td><td>Customer 1          </td><td>MacBook Pro         </td><td>Referred to Servicer</td><td>Helen               </td><td>2010-03-11 10:30    </td><td>2010 - 03 - 11 10:32</td></tr>\n",
       "\t<tr><td>Case 1              </td><td>Call Outbound       </td><td>11.3.10 11:45       </td><td>11.3.10 11:52       </td><td>FL                  </td><td>Customer 1          </td><td>MacBook Pro         </td><td>Referred to Servicer</td><td>Henk                </td><td>2010-03-11 11:45    </td><td>2010 - 03 - 11 11:52</td></tr>\n",
       "\t<tr><td>Case 2              </td><td>Inbound Call        </td><td>4.3.10 11:43        </td><td>4.3.10 11:46        </td><td>FL                  </td><td>Customer 2          </td><td>MacBook Pro         </td><td>Referred to Servicer</td><td>Susi                </td><td>2010-03-04 11:43    </td><td>2010 - 03 - 04 11:46</td></tr>\n",
       "\t<tr><td>Case 3              </td><td>Inbound Call        </td><td>25.3.10 9:32        </td><td>25.3.10 9:33        </td><td>FL                  </td><td>Customer 3          </td><td>MacBook Pro         </td><td>Referred to Servicer</td><td>Mary                </td><td>2010-03-25 09:32    </td><td>2010 - 03 - 25 09:33</td></tr>\n",
       "\t<tr><td>Case 4              </td><td>Inbound Call        </td><td>6.3.10 11:41        </td><td>6.3.10 11:51        </td><td>FL                  </td><td>Customer 4          </td><td>iPhone              </td><td>Referred to Servicer</td><td>Fred                </td><td>2010-03-06 11:41    </td><td>2010 - 03 - 06 11:51</td></tr>\n",
       "</tbody>\n",
       "</table>\n"
      ],
      "text/latex": [
       "\\begin{tabular}{r|lllllllllll}\n",
       " Service.ID & Operation & Start.Date & End.Date & Agent.Position & Customer.ID & Product & Service.Type & Agent & SDT & EDT\\\\\n",
       "\\hline\n",
       "\t Case 1               & Inbound Call         & 9.3.10 8:05          & 9.3.10 8:10          & FL                   & Customer 1           & MacBook Pro          & Referred to Servicer & Helen                & 2010-03-09 08:05     & 2010 - 03 - 09 08:10\\\\\n",
       "\t Case 1               & Handle Case          & 11.3.10 10:30        & 11.3.10 10:32        & FL                   & Customer 1           & MacBook Pro          & Referred to Servicer & Helen                & 2010-03-11 10:30     & 2010 - 03 - 11 10:32\\\\\n",
       "\t Case 1               & Call Outbound        & 11.3.10 11:45        & 11.3.10 11:52        & FL                   & Customer 1           & MacBook Pro          & Referred to Servicer & Henk                 & 2010-03-11 11:45     & 2010 - 03 - 11 11:52\\\\\n",
       "\t Case 2               & Inbound Call         & 4.3.10 11:43         & 4.3.10 11:46         & FL                   & Customer 2           & MacBook Pro          & Referred to Servicer & Susi                 & 2010-03-04 11:43     & 2010 - 03 - 04 11:46\\\\\n",
       "\t Case 3               & Inbound Call         & 25.3.10 9:32         & 25.3.10 9:33         & FL                   & Customer 3           & MacBook Pro          & Referred to Servicer & Mary                 & 2010-03-25 09:32     & 2010 - 03 - 25 09:33\\\\\n",
       "\t Case 4               & Inbound Call         & 6.3.10 11:41         & 6.3.10 11:51         & FL                   & Customer 4           & iPhone               & Referred to Servicer & Fred                 & 2010-03-06 11:41     & 2010 - 03 - 06 11:51\\\\\n",
       "\\end{tabular}\n"
      ],
      "text/markdown": [
       "\n",
       "Service.ID | Operation | Start.Date | End.Date | Agent.Position | Customer.ID | Product | Service.Type | Agent | SDT | EDT | \n",
       "|---|---|---|---|---|---|\n",
       "| Case 1               | Inbound Call         | 9.3.10 8:05          | 9.3.10 8:10          | FL                   | Customer 1           | MacBook Pro          | Referred to Servicer | Helen                | 2010-03-09 08:05     | 2010 - 03 - 09 08:10 | \n",
       "| Case 1               | Handle Case          | 11.3.10 10:30        | 11.3.10 10:32        | FL                   | Customer 1           | MacBook Pro          | Referred to Servicer | Helen                | 2010-03-11 10:30     | 2010 - 03 - 11 10:32 | \n",
       "| Case 1               | Call Outbound        | 11.3.10 11:45        | 11.3.10 11:52        | FL                   | Customer 1           | MacBook Pro          | Referred to Servicer | Henk                 | 2010-03-11 11:45     | 2010 - 03 - 11 11:52 | \n",
       "| Case 2               | Inbound Call         | 4.3.10 11:43         | 4.3.10 11:46         | FL                   | Customer 2           | MacBook Pro          | Referred to Servicer | Susi                 | 2010-03-04 11:43     | 2010 - 03 - 04 11:46 | \n",
       "| Case 3               | Inbound Call         | 25.3.10 9:32         | 25.3.10 9:33         | FL                   | Customer 3           | MacBook Pro          | Referred to Servicer | Mary                 | 2010-03-25 09:32     | 2010 - 03 - 25 09:33 | \n",
       "| Case 4               | Inbound Call         | 6.3.10 11:41         | 6.3.10 11:51         | FL                   | Customer 4           | iPhone               | Referred to Servicer | Fred                 | 2010-03-06 11:41     | 2010 - 03 - 06 11:51 | \n",
       "\n",
       "\n"
      ],
      "text/plain": [
       "  Service.ID Operation     Start.Date    End.Date      Agent.Position\n",
       "1 Case 1     Inbound Call  9.3.10 8:05   9.3.10 8:10   FL            \n",
       "2 Case 1     Handle Case   11.3.10 10:30 11.3.10 10:32 FL            \n",
       "3 Case 1     Call Outbound 11.3.10 11:45 11.3.10 11:52 FL            \n",
       "4 Case 2     Inbound Call  4.3.10 11:43  4.3.10 11:46  FL            \n",
       "5 Case 3     Inbound Call  25.3.10 9:32  25.3.10 9:33  FL            \n",
       "6 Case 4     Inbound Call  6.3.10 11:41  6.3.10 11:51  FL            \n",
       "  Customer.ID Product     Service.Type         Agent SDT             \n",
       "1 Customer 1  MacBook Pro Referred to Servicer Helen 2010-03-09 08:05\n",
       "2 Customer 1  MacBook Pro Referred to Servicer Helen 2010-03-11 10:30\n",
       "3 Customer 1  MacBook Pro Referred to Servicer Henk  2010-03-11 11:45\n",
       "4 Customer 2  MacBook Pro Referred to Servicer Susi  2010-03-04 11:43\n",
       "5 Customer 3  MacBook Pro Referred to Servicer Mary  2010-03-25 09:32\n",
       "6 Customer 4  iPhone      Referred to Servicer Fred  2010-03-06 11:41\n",
       "  EDT                 \n",
       "1 2010 - 03 - 09 08:10\n",
       "2 2010 - 03 - 11 10:32\n",
       "3 2010 - 03 - 11 11:52\n",
       "4 2010 - 03 - 04 11:46\n",
       "5 2010 - 03 - 25 09:33\n",
       "6 2010 - 03 - 06 11:51"
      ]
     },
     "metadata": {},
     "output_type": "display_data"
    }
   ],
   "source": [
    "call$EDT <- paste(edate$EDATE, etd$time)\n",
    "head(call)"
   ]
  },
  {
   "cell_type": "code",
   "execution_count": 37,
   "metadata": {},
   "outputs": [
    {
     "data": {
      "text/html": [
       "<table>\n",
       "<thead><tr><th scope=col>Service.ID</th><th scope=col>Operation</th><th scope=col>Start.Date</th><th scope=col>End.Date</th><th scope=col>Agent.Position</th><th scope=col>Customer.ID</th><th scope=col>Product</th><th scope=col>Service.Type</th><th scope=col>Agent</th></tr></thead>\n",
       "<tbody>\n",
       "\t<tr><td>Case 1              </td><td>Inbound Call        </td><td>2010-03-09 08:05    </td><td>2010 - 03 - 09 08:10</td><td>FL                  </td><td>Customer 1          </td><td>MacBook Pro         </td><td>Referred to Servicer</td><td>Helen               </td></tr>\n",
       "\t<tr><td>Case 1              </td><td>Handle Case         </td><td>2010-03-11 10:30    </td><td>2010 - 03 - 11 10:32</td><td>FL                  </td><td>Customer 1          </td><td>MacBook Pro         </td><td>Referred to Servicer</td><td>Helen               </td></tr>\n",
       "\t<tr><td>Case 1              </td><td>Call Outbound       </td><td>2010-03-11 11:45    </td><td>2010 - 03 - 11 11:52</td><td>FL                  </td><td>Customer 1          </td><td>MacBook Pro         </td><td>Referred to Servicer</td><td>Henk                </td></tr>\n",
       "\t<tr><td>Case 2              </td><td>Inbound Call        </td><td>2010-03-04 11:43    </td><td>2010 - 03 - 04 11:46</td><td>FL                  </td><td>Customer 2          </td><td>MacBook Pro         </td><td>Referred to Servicer</td><td>Susi                </td></tr>\n",
       "\t<tr><td>Case 3              </td><td>Inbound Call        </td><td>2010-03-25 09:32    </td><td>2010 - 03 - 25 09:33</td><td>FL                  </td><td>Customer 3          </td><td>MacBook Pro         </td><td>Referred to Servicer</td><td>Mary                </td></tr>\n",
       "\t<tr><td>Case 4              </td><td>Inbound Call        </td><td>2010-03-06 11:41    </td><td>2010 - 03 - 06 11:51</td><td>FL                  </td><td>Customer 4          </td><td>iPhone              </td><td>Referred to Servicer</td><td>Fred                </td></tr>\n",
       "</tbody>\n",
       "</table>\n"
      ],
      "text/latex": [
       "\\begin{tabular}{r|lllllllll}\n",
       " Service.ID & Operation & Start.Date & End.Date & Agent.Position & Customer.ID & Product & Service.Type & Agent\\\\\n",
       "\\hline\n",
       "\t Case 1               & Inbound Call         & 2010-03-09 08:05     & 2010 - 03 - 09 08:10 & FL                   & Customer 1           & MacBook Pro          & Referred to Servicer & Helen               \\\\\n",
       "\t Case 1               & Handle Case          & 2010-03-11 10:30     & 2010 - 03 - 11 10:32 & FL                   & Customer 1           & MacBook Pro          & Referred to Servicer & Helen               \\\\\n",
       "\t Case 1               & Call Outbound        & 2010-03-11 11:45     & 2010 - 03 - 11 11:52 & FL                   & Customer 1           & MacBook Pro          & Referred to Servicer & Henk                \\\\\n",
       "\t Case 2               & Inbound Call         & 2010-03-04 11:43     & 2010 - 03 - 04 11:46 & FL                   & Customer 2           & MacBook Pro          & Referred to Servicer & Susi                \\\\\n",
       "\t Case 3               & Inbound Call         & 2010-03-25 09:32     & 2010 - 03 - 25 09:33 & FL                   & Customer 3           & MacBook Pro          & Referred to Servicer & Mary                \\\\\n",
       "\t Case 4               & Inbound Call         & 2010-03-06 11:41     & 2010 - 03 - 06 11:51 & FL                   & Customer 4           & iPhone               & Referred to Servicer & Fred                \\\\\n",
       "\\end{tabular}\n"
      ],
      "text/markdown": [
       "\n",
       "Service.ID | Operation | Start.Date | End.Date | Agent.Position | Customer.ID | Product | Service.Type | Agent | \n",
       "|---|---|---|---|---|---|\n",
       "| Case 1               | Inbound Call         | 2010-03-09 08:05     | 2010 - 03 - 09 08:10 | FL                   | Customer 1           | MacBook Pro          | Referred to Servicer | Helen                | \n",
       "| Case 1               | Handle Case          | 2010-03-11 10:30     | 2010 - 03 - 11 10:32 | FL                   | Customer 1           | MacBook Pro          | Referred to Servicer | Helen                | \n",
       "| Case 1               | Call Outbound        | 2010-03-11 11:45     | 2010 - 03 - 11 11:52 | FL                   | Customer 1           | MacBook Pro          | Referred to Servicer | Henk                 | \n",
       "| Case 2               | Inbound Call         | 2010-03-04 11:43     | 2010 - 03 - 04 11:46 | FL                   | Customer 2           | MacBook Pro          | Referred to Servicer | Susi                 | \n",
       "| Case 3               | Inbound Call         | 2010-03-25 09:32     | 2010 - 03 - 25 09:33 | FL                   | Customer 3           | MacBook Pro          | Referred to Servicer | Mary                 | \n",
       "| Case 4               | Inbound Call         | 2010-03-06 11:41     | 2010 - 03 - 06 11:51 | FL                   | Customer 4           | iPhone               | Referred to Servicer | Fred                 | \n",
       "\n",
       "\n"
      ],
      "text/plain": [
       "  Service.ID Operation     Start.Date       End.Date             Agent.Position\n",
       "1 Case 1     Inbound Call  2010-03-09 08:05 2010 - 03 - 09 08:10 FL            \n",
       "2 Case 1     Handle Case   2010-03-11 10:30 2010 - 03 - 11 10:32 FL            \n",
       "3 Case 1     Call Outbound 2010-03-11 11:45 2010 - 03 - 11 11:52 FL            \n",
       "4 Case 2     Inbound Call  2010-03-04 11:43 2010 - 03 - 04 11:46 FL            \n",
       "5 Case 3     Inbound Call  2010-03-25 09:32 2010 - 03 - 25 09:33 FL            \n",
       "6 Case 4     Inbound Call  2010-03-06 11:41 2010 - 03 - 06 11:51 FL            \n",
       "  Customer.ID Product     Service.Type         Agent\n",
       "1 Customer 1  MacBook Pro Referred to Servicer Helen\n",
       "2 Customer 1  MacBook Pro Referred to Servicer Helen\n",
       "3 Customer 1  MacBook Pro Referred to Servicer Henk \n",
       "4 Customer 2  MacBook Pro Referred to Servicer Susi \n",
       "5 Customer 3  MacBook Pro Referred to Servicer Mary \n",
       "6 Customer 4  iPhone      Referred to Servicer Fred "
      ]
     },
     "metadata": {},
     "output_type": "display_data"
    }
   ],
   "source": [
    "call$Start.Date <- call$SDT\n",
    "call$End.Date <- call$EDT\n",
    "call2 <- subset(call, select = c(-SDT, -EDT))\n",
    "head(call2)"
   ]
  },
  {
   "cell_type": "markdown",
   "metadata": {},
   "source": [
    "#### 끝"
   ]
  }
 ],
 "metadata": {
  "kernelspec": {
   "display_name": "R",
   "language": "R",
   "name": "ir"
  },
  "language_info": {
   "codemirror_mode": "r",
   "file_extension": ".r",
   "mimetype": "text/x-r-source",
   "name": "R",
   "pygments_lexer": "r",
   "version": "3.4.3"
  }
 },
 "nbformat": 4,
 "nbformat_minor": 2
}
