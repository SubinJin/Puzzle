{
 "cells": [
  {
   "cell_type": "markdown",
   "metadata": {},
   "source": [
    "# 004_Call Center Extend\n",
    "## Call Center Example의 데이터를 1000개로 늘리기\n",
    "\n",
    "## 1. 조건\n",
    "###   1) Service Type은 주문 프로세스, 반품 프로세스 2가지\n",
    "###   2) 한명의 Agent는 11시부터 5시까지 근무\n",
    "###   3) Agent는 두 개 이상의 Case를 동시에 진행할 수 없음\n",
    "\n",
    "## 2. 데이터 생성 과정\n",
    "### 1) 주문 프로세스 1000개 case 생성\n",
    "### 2) 반품 프로세스 1000개 case 생성\n",
    "### 3) Random Number 1000개 생성\n",
    "### 4) JOIN 이용해서 case2(주문프로세스), case4(반품프로세스)에 붙여서 1000개의 T/F 생성\n",
    "### 5) Agent 생성\n",
    "### 6) Time 생성"
   ]
  },
  {
   "cell_type": "code",
   "execution_count": 1,
   "metadata": {},
   "outputs": [
    {
     "name": "stdout",
     "output_type": "stream",
     "text": [
      "package 'readxl' successfully unpacked and MD5 sums checked\n"
     ]
    },
    {
     "name": "stderr",
     "output_type": "stream",
     "text": [
      "Warning message:\n",
      "\"cannot remove prior installation of package 'readxl'\""
     ]
    },
    {
     "name": "stdout",
     "output_type": "stream",
     "text": [
      "\n",
      "The downloaded binary packages are in\n",
      "\tC:\\Temp\\Rtmpq45aef\\downloaded_packages\n",
      "package 'dplyr' successfully unpacked and MD5 sums checked\n"
     ]
    },
    {
     "name": "stderr",
     "output_type": "stream",
     "text": [
      "Warning message:\n",
      "\"cannot remove prior installation of package 'dplyr'\""
     ]
    },
    {
     "name": "stdout",
     "output_type": "stream",
     "text": [
      "\n",
      "The downloaded binary packages are in\n",
      "\tC:\\Temp\\Rtmpq45aef\\downloaded_packages\n"
     ]
    },
    {
     "name": "stderr",
     "output_type": "stream",
     "text": [
      "\n",
      "Attaching package: 'dplyr'\n",
      "\n",
      "The following objects are masked from 'package:stats':\n",
      "\n",
      "    filter, lag\n",
      "\n",
      "The following objects are masked from 'package:base':\n",
      "\n",
      "    intersect, setdiff, setequal, union\n",
      "\n"
     ]
    }
   ],
   "source": [
    "install.packages(\"readxl\")\n",
    "library(readxl)\n",
    "install.packages(\"dplyr\")\n",
    "library(dplyr)"
   ]
  },
  {
   "cell_type": "code",
   "execution_count": 2,
   "metadata": {},
   "outputs": [],
   "source": [
    "call <- read_xlsx(\"C:\\\\Users\\\\진수빈\\\\Downloads\\\\CallcenterExample_RPA.xlsx\", sheet = 3)"
   ]
  },
  {
   "cell_type": "code",
   "execution_count": 3,
   "metadata": {},
   "outputs": [
    {
     "data": {
      "text/html": [
       "<table>\n",
       "<thead><tr><th scope=col>Agent</th><th scope=col>CallID</th><th scope=col>ServiceType</th><th scope=col>StartTime</th></tr></thead>\n",
       "<tbody>\n",
       "\t<tr><td>홍길동              </td><td>1                   </td><td>첫인사              </td><td>2018-08-27  11:05:00</td></tr>\n",
       "\t<tr><td>홍길동              </td><td>1                   </td><td>상품문의            </td><td>2018-08-27  11:06:31</td></tr>\n",
       "\t<tr><td>홍길동              </td><td>1                   </td><td>주문접수            </td><td>2018-08-27  11:07:00</td></tr>\n",
       "\t<tr><td>홍길동              </td><td>1                   </td><td>대기                </td><td>2018-08-27  11:10:00</td></tr>\n",
       "\t<tr><td>홍길동              </td><td>2                   </td><td>첫인사              </td><td>2018-08-27  11:11:11</td></tr>\n",
       "\t<tr><td>홍길동              </td><td>2                   </td><td>반품                </td><td>2018-08-27  11:11:45</td></tr>\n",
       "</tbody>\n",
       "</table>\n"
      ],
      "text/latex": [
       "\\begin{tabular}{r|llll}\n",
       " Agent & CallID & ServiceType & StartTime\\\\\n",
       "\\hline\n",
       "\t 홍길동               & 1                    & 첫인사               & 2018-08-27  11:05:00\\\\\n",
       "\t 홍길동               & 1                    & 상품문의             & 2018-08-27  11:06:31\\\\\n",
       "\t 홍길동               & 1                    & 주문접수             & 2018-08-27  11:07:00\\\\\n",
       "\t 홍길동               & 1                    & 대기                 & 2018-08-27  11:10:00\\\\\n",
       "\t 홍길동               & 2                    & 첫인사               & 2018-08-27  11:11:11\\\\\n",
       "\t 홍길동               & 2                    & 반품                 & 2018-08-27  11:11:45\\\\\n",
       "\\end{tabular}\n"
      ],
      "text/markdown": [
       "\n",
       "Agent | CallID | ServiceType | StartTime | \n",
       "|---|---|---|---|---|---|\n",
       "| 홍길동               | 1                    | 첫인사               | 2018-08-27  11:05:00 | \n",
       "| 홍길동               | 1                    | 상품문의             | 2018-08-27  11:06:31 | \n",
       "| 홍길동               | 1                    | 주문접수             | 2018-08-27  11:07:00 | \n",
       "| 홍길동               | 1                    | 대기                 | 2018-08-27  11:10:00 | \n",
       "| 홍길동               | 2                    | 첫인사               | 2018-08-27  11:11:11 | \n",
       "| 홍길동               | 2                    | 반품                 | 2018-08-27  11:11:45 | \n",
       "\n",
       "\n"
      ],
      "text/plain": [
       "  Agent  CallID ServiceType StartTime           \n",
       "1 홍길동 1      첫인사      2018-08-27  11:05:00\n",
       "2 홍길동 1      상품문의    2018-08-27  11:06:31\n",
       "3 홍길동 1      주문접수    2018-08-27  11:07:00\n",
       "4 홍길동 1      대기        2018-08-27  11:10:00\n",
       "5 홍길동 2      첫인사      2018-08-27  11:11:11\n",
       "6 홍길동 2      반품        2018-08-27  11:11:45"
      ]
     },
     "metadata": {},
     "output_type": "display_data"
    }
   ],
   "source": [
    "head(call)"
   ]
  },
  {
   "cell_type": "markdown",
   "metadata": {},
   "source": [
    "### 1. Case 생성\n",
    "### 1) 주문 프로세스 1000개 case 생성"
   ]
  },
  {
   "cell_type": "code",
   "execution_count": null,
   "metadata": {},
   "outputs": [],
   "source": []
  },
  {
   "cell_type": "code",
   "execution_count": 4,
   "metadata": {},
   "outputs": [],
   "source": [
    "case <- data.frame(col1 = c(1, 1, 1,1 ), col2 = c(\"첫인사\", \"상품문의\", \"주문접수\", \"대기\"))\n",
    "case2 <- case\n",
    "for(i in 1:999){\n",
    "    case$col1 <- case$col1 + 1\n",
    "    case2 <- rbind(case2, case)\n",
    "}"
   ]
  },
  {
   "cell_type": "code",
   "execution_count": 6,
   "metadata": {},
   "outputs": [
    {
     "data": {
      "text/html": [
       "<table>\n",
       "<thead><tr><th scope=col>col1</th><th scope=col>col2</th></tr></thead>\n",
       "<tbody>\n",
       "\t<tr><td>1       </td><td>첫인사  </td></tr>\n",
       "\t<tr><td>1       </td><td>상품문의</td></tr>\n",
       "\t<tr><td>1       </td><td>주문접수</td></tr>\n",
       "\t<tr><td>1       </td><td>대기    </td></tr>\n",
       "\t<tr><td>2       </td><td>첫인사  </td></tr>\n",
       "\t<tr><td>2       </td><td>상품문의</td></tr>\n",
       "</tbody>\n",
       "</table>\n"
      ],
      "text/latex": [
       "\\begin{tabular}{r|ll}\n",
       " col1 & col2\\\\\n",
       "\\hline\n",
       "\t 1        & 첫인사  \\\\\n",
       "\t 1        & 상품문의\\\\\n",
       "\t 1        & 주문접수\\\\\n",
       "\t 1        & 대기    \\\\\n",
       "\t 2        & 첫인사  \\\\\n",
       "\t 2        & 상품문의\\\\\n",
       "\\end{tabular}\n"
      ],
      "text/markdown": [
       "\n",
       "col1 | col2 | \n",
       "|---|---|---|---|---|---|\n",
       "| 1        | 첫인사   | \n",
       "| 1        | 상품문의 | \n",
       "| 1        | 주문접수 | \n",
       "| 1        | 대기     | \n",
       "| 2        | 첫인사   | \n",
       "| 2        | 상품문의 | \n",
       "\n",
       "\n"
      ],
      "text/plain": [
       "  col1 col2    \n",
       "1 1    첫인사  \n",
       "2 1    상품문의\n",
       "3 1    주문접수\n",
       "4 1    대기    \n",
       "5 2    첫인사  \n",
       "6 2    상품문의"
      ]
     },
     "metadata": {},
     "output_type": "display_data"
    }
   ],
   "source": [
    "head(case2)"
   ]
  },
  {
   "cell_type": "code",
   "execution_count": 7,
   "metadata": {},
   "outputs": [
    {
     "data": {
      "text/html": [
       "'character'"
      ],
      "text/latex": [
       "'character'"
      ],
      "text/markdown": [
       "'character'"
      ],
      "text/plain": [
       "[1] \"character\""
      ]
     },
     "metadata": {},
     "output_type": "display_data"
    }
   ],
   "source": [
    "case2$col1 <- as.character(case2$col1)\n",
    "class(case2$col1)"
   ]
  },
  {
   "cell_type": "markdown",
   "metadata": {},
   "source": [
    "### 2) 반품 프로세스 1000개 case 생성"
   ]
  },
  {
   "cell_type": "code",
   "execution_count": 8,
   "metadata": {},
   "outputs": [],
   "source": [
    "case3 <- data.frame(col1 = c(1, 1, 1), col2 = c(\"첫인사\", \"반품\", \"대기\"))\n",
    "case4 <- case3\n",
    "for (i in 1:999){\n",
    "  case3$col1 <- case3$col1 + 1\n",
    "  case4 <- rbind(case4, case3)\n",
    "}\n",
    "case4$col1 <- as.character(case4$col1)"
   ]
  },
  {
   "cell_type": "code",
   "execution_count": 10,
   "metadata": {},
   "outputs": [
    {
     "data": {
      "text/html": [
       "<table>\n",
       "<thead><tr><th scope=col>col1</th><th scope=col>col2</th></tr></thead>\n",
       "<tbody>\n",
       "\t<tr><td>1     </td><td>첫인사</td></tr>\n",
       "\t<tr><td>1     </td><td>반품  </td></tr>\n",
       "\t<tr><td>1     </td><td>대기  </td></tr>\n",
       "\t<tr><td>2     </td><td>첫인사</td></tr>\n",
       "\t<tr><td>2     </td><td>반품  </td></tr>\n",
       "\t<tr><td>2     </td><td>대기  </td></tr>\n",
       "</tbody>\n",
       "</table>\n"
      ],
      "text/latex": [
       "\\begin{tabular}{r|ll}\n",
       " col1 & col2\\\\\n",
       "\\hline\n",
       "\t 1      & 첫인사\\\\\n",
       "\t 1      & 반품  \\\\\n",
       "\t 1      & 대기  \\\\\n",
       "\t 2      & 첫인사\\\\\n",
       "\t 2      & 반품  \\\\\n",
       "\t 2      & 대기  \\\\\n",
       "\\end{tabular}\n"
      ],
      "text/markdown": [
       "\n",
       "col1 | col2 | \n",
       "|---|---|---|---|---|---|\n",
       "| 1      | 첫인사 | \n",
       "| 1      | 반품   | \n",
       "| 1      | 대기   | \n",
       "| 2      | 첫인사 | \n",
       "| 2      | 반품   | \n",
       "| 2      | 대기   | \n",
       "\n",
       "\n"
      ],
      "text/plain": [
       "  col1 col2  \n",
       "1 1    첫인사\n",
       "2 1    반품  \n",
       "3 1    대기  \n",
       "4 2    첫인사\n",
       "5 2    반품  \n",
       "6 2    대기  "
      ]
     },
     "metadata": {},
     "output_type": "display_data"
    },
    {
     "data": {
      "text/html": [
       "'character'"
      ],
      "text/latex": [
       "'character'"
      ],
      "text/markdown": [
       "'character'"
      ],
      "text/plain": [
       "[1] \"character\""
      ]
     },
     "metadata": {},
     "output_type": "display_data"
    }
   ],
   "source": [
    "head(case4)\n",
    "class(case4$col1)"
   ]
  },
  {
   "cell_type": "markdown",
   "metadata": {},
   "source": [
    "### 3) Random Number 1000개 생성 "
   ]
  },
  {
   "cell_type": "code",
   "execution_count": 12,
   "metadata": {},
   "outputs": [
    {
     "data": {
      "text/html": [
       "<table>\n",
       "<thead><tr><th scope=col>sam</th><th scope=col>sam2</th></tr></thead>\n",
       "<tbody>\n",
       "\t<tr><td>1 </td><td>1 </td></tr>\n",
       "\t<tr><td>2 </td><td>2 </td></tr>\n",
       "\t<tr><td>4 </td><td>4 </td></tr>\n",
       "\t<tr><td>6 </td><td>6 </td></tr>\n",
       "\t<tr><td>11</td><td>11</td></tr>\n",
       "\t<tr><td>12</td><td>12</td></tr>\n",
       "</tbody>\n",
       "</table>\n"
      ],
      "text/latex": [
       "\\begin{tabular}{r|ll}\n",
       " sam & sam2\\\\\n",
       "\\hline\n",
       "\t 1  & 1 \\\\\n",
       "\t 2  & 2 \\\\\n",
       "\t 4  & 4 \\\\\n",
       "\t 6  & 6 \\\\\n",
       "\t 11 & 11\\\\\n",
       "\t 12 & 12\\\\\n",
       "\\end{tabular}\n"
      ],
      "text/markdown": [
       "\n",
       "sam | sam2 | \n",
       "|---|---|---|---|---|---|\n",
       "| 1  | 1  | \n",
       "| 2  | 2  | \n",
       "| 4  | 4  | \n",
       "| 6  | 6  | \n",
       "| 11 | 11 | \n",
       "| 12 | 12 | \n",
       "\n",
       "\n"
      ],
      "text/plain": [
       "  sam sam2\n",
       "1 1   1   \n",
       "2 2   2   \n",
       "3 4   4   \n",
       "4 6   6   \n",
       "5 11  11  \n",
       "6 12  12  "
      ]
     },
     "metadata": {},
     "output_type": "display_data"
    },
    {
     "data": {
      "text/html": [
       "'character'"
      ],
      "text/latex": [
       "'character'"
      ],
      "text/markdown": [
       "'character'"
      ],
      "text/plain": [
       "[1] \"character\""
      ]
     },
     "metadata": {},
     "output_type": "display_data"
    }
   ],
   "source": [
    "sam <- sample(1:1000, 500, replace = FALSE)\n",
    "sam2 <- as.data.frame(sam)\n",
    "sam2 <- arrange(sam2, sam)\n",
    "sam2$sam <- as.character(sam2$sam)\n",
    "\n",
    "sam2$sam2 <- sam2$sam\n",
    "head(sam2)\n",
    "class(sam2$sam)"
   ]
  },
  {
   "cell_type": "code",
   "execution_count": 13,
   "metadata": {},
   "outputs": [
    {
     "data": {
      "text/html": [
       "<table>\n",
       "<thead><tr><th scope=col>col1</th><th scope=col>col2</th><th scope=col>sam2</th></tr></thead>\n",
       "<tbody>\n",
       "\t<tr><td>1       </td><td>첫인사  </td><td>1       </td></tr>\n",
       "\t<tr><td>1       </td><td>상품문의</td><td>1       </td></tr>\n",
       "\t<tr><td>1       </td><td>주문접수</td><td>1       </td></tr>\n",
       "\t<tr><td>1       </td><td>대기    </td><td>1       </td></tr>\n",
       "\t<tr><td>2       </td><td>첫인사  </td><td>2       </td></tr>\n",
       "\t<tr><td>2       </td><td>상품문의</td><td>2       </td></tr>\n",
       "</tbody>\n",
       "</table>\n"
      ],
      "text/latex": [
       "\\begin{tabular}{r|lll}\n",
       " col1 & col2 & sam2\\\\\n",
       "\\hline\n",
       "\t 1        & 첫인사   & 1       \\\\\n",
       "\t 1        & 상품문의 & 1       \\\\\n",
       "\t 1        & 주문접수 & 1       \\\\\n",
       "\t 1        & 대기     & 1       \\\\\n",
       "\t 2        & 첫인사   & 2       \\\\\n",
       "\t 2        & 상품문의 & 2       \\\\\n",
       "\\end{tabular}\n"
      ],
      "text/markdown": [
       "\n",
       "col1 | col2 | sam2 | \n",
       "|---|---|---|---|---|---|\n",
       "| 1        | 첫인사   | 1        | \n",
       "| 1        | 상품문의 | 1        | \n",
       "| 1        | 주문접수 | 1        | \n",
       "| 1        | 대기     | 1        | \n",
       "| 2        | 첫인사   | 2        | \n",
       "| 2        | 상품문의 | 2        | \n",
       "\n",
       "\n"
      ],
      "text/plain": [
       "  col1 col2     sam2\n",
       "1 1    첫인사   1   \n",
       "2 1    상품문의 1   \n",
       "3 1    주문접수 1   \n",
       "4 1    대기     1   \n",
       "5 2    첫인사   2   \n",
       "6 2    상품문의 2   "
      ]
     },
     "metadata": {},
     "output_type": "display_data"
    },
    {
     "data": {
      "text/html": [
       "<table>\n",
       "<thead><tr><th scope=col>col1</th><th scope=col>col2</th><th scope=col>sam2</th></tr></thead>\n",
       "<tbody>\n",
       "\t<tr><td>1     </td><td>첫인사</td><td>1     </td></tr>\n",
       "\t<tr><td>1     </td><td>반품  </td><td>1     </td></tr>\n",
       "\t<tr><td>1     </td><td>대기  </td><td>1     </td></tr>\n",
       "\t<tr><td>2     </td><td>첫인사</td><td>2     </td></tr>\n",
       "\t<tr><td>2     </td><td>반품  </td><td>2     </td></tr>\n",
       "\t<tr><td>2     </td><td>대기  </td><td>2     </td></tr>\n",
       "</tbody>\n",
       "</table>\n"
      ],
      "text/latex": [
       "\\begin{tabular}{r|lll}\n",
       " col1 & col2 & sam2\\\\\n",
       "\\hline\n",
       "\t 1      & 첫인사 & 1     \\\\\n",
       "\t 1      & 반품   & 1     \\\\\n",
       "\t 1      & 대기   & 1     \\\\\n",
       "\t 2      & 첫인사 & 2     \\\\\n",
       "\t 2      & 반품   & 2     \\\\\n",
       "\t 2      & 대기   & 2     \\\\\n",
       "\\end{tabular}\n"
      ],
      "text/markdown": [
       "\n",
       "col1 | col2 | sam2 | \n",
       "|---|---|---|---|---|---|\n",
       "| 1      | 첫인사 | 1      | \n",
       "| 1      | 반품   | 1      | \n",
       "| 1      | 대기   | 1      | \n",
       "| 2      | 첫인사 | 2      | \n",
       "| 2      | 반품   | 2      | \n",
       "| 2      | 대기   | 2      | \n",
       "\n",
       "\n"
      ],
      "text/plain": [
       "  col1 col2   sam2\n",
       "1 1    첫인사 1   \n",
       "2 1    반품   1   \n",
       "3 1    대기   1   \n",
       "4 2    첫인사 2   \n",
       "5 2    반품   2   \n",
       "6 2    대기   2   "
      ]
     },
     "metadata": {},
     "output_type": "display_data"
    }
   ],
   "source": [
    "join_order <- left_join(case2, sam2, by = c(\"col1\" = \"sam\"))\n",
    "head(join_order)\n",
    "join_return <- left_join(case4, sam2, by = c(\"col1\" = \"sam\"))\n",
    "head(join_return)"
   ]
  },
  {
   "cell_type": "code",
   "execution_count": 16,
   "metadata": {},
   "outputs": [
    {
     "data": {
      "text/html": [
       "<table>\n",
       "<thead><tr><th></th><th scope=col>col1</th><th scope=col>col2</th><th scope=col>sam2</th></tr></thead>\n",
       "<tbody>\n",
       "\t<tr><th scope=row>1</th><td>1       </td><td>첫인사  </td><td>1       </td></tr>\n",
       "\t<tr><th scope=row>2</th><td>1       </td><td>상품문의</td><td>1       </td></tr>\n",
       "\t<tr><th scope=row>3</th><td>1       </td><td>주문접수</td><td>1       </td></tr>\n",
       "\t<tr><th scope=row>4</th><td>1       </td><td>대기    </td><td>1       </td></tr>\n",
       "\t<tr><th scope=row>5</th><td>2       </td><td>첫인사  </td><td>2       </td></tr>\n",
       "\t<tr><th scope=row>6</th><td>2       </td><td>상품문의</td><td>2       </td></tr>\n",
       "\t<tr><th scope=row>7</th><td>2       </td><td>주문접수</td><td>2       </td></tr>\n",
       "\t<tr><th scope=row>8</th><td>2       </td><td>대기    </td><td>2       </td></tr>\n",
       "\t<tr><th scope=row>13</th><td>4       </td><td>첫인사  </td><td>4       </td></tr>\n",
       "\t<tr><th scope=row>14</th><td>4       </td><td>상품문의</td><td>4       </td></tr>\n",
       "</tbody>\n",
       "</table>\n"
      ],
      "text/latex": [
       "\\begin{tabular}{r|lll}\n",
       "  & col1 & col2 & sam2\\\\\n",
       "\\hline\n",
       "\t1 & 1        & 첫인사   & 1       \\\\\n",
       "\t2 & 1        & 상품문의 & 1       \\\\\n",
       "\t3 & 1        & 주문접수 & 1       \\\\\n",
       "\t4 & 1        & 대기     & 1       \\\\\n",
       "\t5 & 2        & 첫인사   & 2       \\\\\n",
       "\t6 & 2        & 상품문의 & 2       \\\\\n",
       "\t7 & 2        & 주문접수 & 2       \\\\\n",
       "\t8 & 2        & 대기     & 2       \\\\\n",
       "\t13 & 4        & 첫인사   & 4       \\\\\n",
       "\t14 & 4        & 상품문의 & 4       \\\\\n",
       "\\end{tabular}\n"
      ],
      "text/markdown": [
       "\n",
       "| <!--/--> | col1 | col2 | sam2 | \n",
       "|---|---|---|---|---|---|---|---|---|---|\n",
       "| 1 | 1        | 첫인사   | 1        | \n",
       "| 2 | 1        | 상품문의 | 1        | \n",
       "| 3 | 1        | 주문접수 | 1        | \n",
       "| 4 | 1        | 대기     | 1        | \n",
       "| 5 | 2        | 첫인사   | 2        | \n",
       "| 6 | 2        | 상품문의 | 2        | \n",
       "| 7 | 2        | 주문접수 | 2        | \n",
       "| 8 | 2        | 대기     | 2        | \n",
       "| 13 | 4        | 첫인사   | 4        | \n",
       "| 14 | 4        | 상품문의 | 4        | \n",
       "\n",
       "\n"
      ],
      "text/plain": [
       "   col1 col2     sam2\n",
       "1  1    첫인사   1   \n",
       "2  1    상품문의 1   \n",
       "3  1    주문접수 1   \n",
       "4  1    대기     1   \n",
       "5  2    첫인사   2   \n",
       "6  2    상품문의 2   \n",
       "7  2    주문접수 2   \n",
       "8  2    대기     2   \n",
       "13 4    첫인사   4   \n",
       "14 4    상품문의 4   "
      ]
     },
     "metadata": {},
     "output_type": "display_data"
    }
   ],
   "source": [
    "join_order <- na.omit(join_order)\n",
    "head(join_order, 10)\n",
    "# 3은 날아갔음"
   ]
  },
  {
   "cell_type": "code",
   "execution_count": 17,
   "metadata": {},
   "outputs": [
    {
     "data": {
      "text/html": [
       "<table>\n",
       "<thead><tr><th></th><th scope=col>col1</th><th scope=col>col2</th><th scope=col>sam3</th></tr></thead>\n",
       "<tbody>\n",
       "\t<tr><th scope=row>7</th><td>3     </td><td>첫인사</td><td>1     </td></tr>\n",
       "\t<tr><th scope=row>8</th><td>3     </td><td>반품  </td><td>1     </td></tr>\n",
       "\t<tr><th scope=row>9</th><td>3     </td><td>대기  </td><td>1     </td></tr>\n",
       "\t<tr><th scope=row>13</th><td>5     </td><td>첫인사</td><td>1     </td></tr>\n",
       "\t<tr><th scope=row>14</th><td>5     </td><td>반품  </td><td>1     </td></tr>\n",
       "\t<tr><th scope=row>15</th><td>5     </td><td>대기  </td><td>1     </td></tr>\n",
       "</tbody>\n",
       "</table>\n"
      ],
      "text/latex": [
       "\\begin{tabular}{r|lll}\n",
       "  & col1 & col2 & sam3\\\\\n",
       "\\hline\n",
       "\t7 & 3      & 첫인사 & 1     \\\\\n",
       "\t8 & 3      & 반품   & 1     \\\\\n",
       "\t9 & 3      & 대기   & 1     \\\\\n",
       "\t13 & 5      & 첫인사 & 1     \\\\\n",
       "\t14 & 5      & 반품   & 1     \\\\\n",
       "\t15 & 5      & 대기   & 1     \\\\\n",
       "\\end{tabular}\n"
      ],
      "text/markdown": [
       "\n",
       "| <!--/--> | col1 | col2 | sam3 | \n",
       "|---|---|---|---|---|---|\n",
       "| 7 | 3      | 첫인사 | 1      | \n",
       "| 8 | 3      | 반품   | 1      | \n",
       "| 9 | 3      | 대기   | 1      | \n",
       "| 13 | 5      | 첫인사 | 1      | \n",
       "| 14 | 5      | 반품   | 1      | \n",
       "| 15 | 5      | 대기   | 1      | \n",
       "\n",
       "\n"
      ],
      "text/plain": [
       "   col1 col2   sam3\n",
       "7  3    첫인사 1   \n",
       "8  3    반품   1   \n",
       "9  3    대기   1   \n",
       "13 5    첫인사 1   \n",
       "14 5    반품   1   \n",
       "15 5    대기   1   "
      ]
     },
     "metadata": {},
     "output_type": "display_data"
    }
   ],
   "source": [
    "join_return$sam3 <- ifelse(is.na(join_return$sam2) == TRUE, join_return$sam2 <- 1, join_return$sam2 <- NA)\n",
    "join_return <- subset(join_return, select = c(-sam2))\n",
    "join_return <- na.omit(join_return)\n",
    "head(join_return)\n",
    "## col1로 보면 날아간 숫자 보임"
   ]
  },
  {
   "cell_type": "code",
   "execution_count": 19,
   "metadata": {},
   "outputs": [
    {
     "data": {
      "text/html": [
       "<table>\n",
       "<thead><tr><th></th><th scope=col>CallID</th><th scope=col>ServiceType</th><th scope=col>test</th></tr></thead>\n",
       "<tbody>\n",
       "\t<tr><th scope=row>1</th><td>1       </td><td>첫인사  </td><td>1       </td></tr>\n",
       "\t<tr><th scope=row>2</th><td>1       </td><td>상품문의</td><td>1       </td></tr>\n",
       "\t<tr><th scope=row>3</th><td>1       </td><td>주문접수</td><td>1       </td></tr>\n",
       "\t<tr><th scope=row>4</th><td>1       </td><td>대기    </td><td>1       </td></tr>\n",
       "\t<tr><th scope=row>5</th><td>2       </td><td>첫인사  </td><td>2       </td></tr>\n",
       "\t<tr><th scope=row>6</th><td>2       </td><td>상품문의</td><td>2       </td></tr>\n",
       "\t<tr><th scope=row>7</th><td>2       </td><td>주문접수</td><td>2       </td></tr>\n",
       "\t<tr><th scope=row>8</th><td>2       </td><td>대기    </td><td>2       </td></tr>\n",
       "\t<tr><th scope=row>13</th><td>4       </td><td>첫인사  </td><td>4       </td></tr>\n",
       "\t<tr><th scope=row>14</th><td>4       </td><td>상품문의</td><td>4       </td></tr>\n",
       "</tbody>\n",
       "</table>\n"
      ],
      "text/latex": [
       "\\begin{tabular}{r|lll}\n",
       "  & CallID & ServiceType & test\\\\\n",
       "\\hline\n",
       "\t1 & 1        & 첫인사   & 1       \\\\\n",
       "\t2 & 1        & 상품문의 & 1       \\\\\n",
       "\t3 & 1        & 주문접수 & 1       \\\\\n",
       "\t4 & 1        & 대기     & 1       \\\\\n",
       "\t5 & 2        & 첫인사   & 2       \\\\\n",
       "\t6 & 2        & 상품문의 & 2       \\\\\n",
       "\t7 & 2        & 주문접수 & 2       \\\\\n",
       "\t8 & 2        & 대기     & 2       \\\\\n",
       "\t13 & 4        & 첫인사   & 4       \\\\\n",
       "\t14 & 4        & 상품문의 & 4       \\\\\n",
       "\\end{tabular}\n"
      ],
      "text/markdown": [
       "\n",
       "| <!--/--> | CallID | ServiceType | test | \n",
       "|---|---|---|---|---|---|---|---|---|---|\n",
       "| 1 | 1        | 첫인사   | 1        | \n",
       "| 2 | 1        | 상품문의 | 1        | \n",
       "| 3 | 1        | 주문접수 | 1        | \n",
       "| 4 | 1        | 대기     | 1        | \n",
       "| 5 | 2        | 첫인사   | 2        | \n",
       "| 6 | 2        | 상품문의 | 2        | \n",
       "| 7 | 2        | 주문접수 | 2        | \n",
       "| 8 | 2        | 대기     | 2        | \n",
       "| 13 | 4        | 첫인사   | 4        | \n",
       "| 14 | 4        | 상품문의 | 4        | \n",
       "\n",
       "\n"
      ],
      "text/plain": [
       "   CallID ServiceType test\n",
       "1  1      첫인사      1   \n",
       "2  1      상품문의    1   \n",
       "3  1      주문접수    1   \n",
       "4  1      대기        1   \n",
       "5  2      첫인사      2   \n",
       "6  2      상품문의    2   \n",
       "7  2      주문접수    2   \n",
       "8  2      대기        2   \n",
       "13 4      첫인사      4   \n",
       "14 4      상품문의    4   "
      ]
     },
     "metadata": {},
     "output_type": "display_data"
    },
    {
     "data": {
      "text/html": [
       "<table>\n",
       "<thead><tr><th scope=col>CallID</th><th scope=col>ServiceType</th><th scope=col>test</th></tr></thead>\n",
       "<tbody>\n",
       "\t<tr><td>1       </td><td>첫인사  </td><td>1       </td></tr>\n",
       "\t<tr><td>1       </td><td>상품문의</td><td>1       </td></tr>\n",
       "\t<tr><td>1       </td><td>주문접수</td><td>1       </td></tr>\n",
       "\t<tr><td>1       </td><td>대기    </td><td>1       </td></tr>\n",
       "\t<tr><td>2       </td><td>첫인사  </td><td>2       </td></tr>\n",
       "\t<tr><td>2       </td><td>상품문의</td><td>2       </td></tr>\n",
       "\t<tr><td>2       </td><td>주문접수</td><td>2       </td></tr>\n",
       "\t<tr><td>2       </td><td>대기    </td><td>2       </td></tr>\n",
       "\t<tr><td>3       </td><td>첫인사  </td><td>1       </td></tr>\n",
       "\t<tr><td>3       </td><td>반품    </td><td>1       </td></tr>\n",
       "</tbody>\n",
       "</table>\n"
      ],
      "text/latex": [
       "\\begin{tabular}{r|lll}\n",
       " CallID & ServiceType & test\\\\\n",
       "\\hline\n",
       "\t 1        & 첫인사   & 1       \\\\\n",
       "\t 1        & 상품문의 & 1       \\\\\n",
       "\t 1        & 주문접수 & 1       \\\\\n",
       "\t 1        & 대기     & 1       \\\\\n",
       "\t 2        & 첫인사   & 2       \\\\\n",
       "\t 2        & 상품문의 & 2       \\\\\n",
       "\t 2        & 주문접수 & 2       \\\\\n",
       "\t 2        & 대기     & 2       \\\\\n",
       "\t 3        & 첫인사   & 1       \\\\\n",
       "\t 3        & 반품     & 1       \\\\\n",
       "\\end{tabular}\n"
      ],
      "text/markdown": [
       "\n",
       "CallID | ServiceType | test | \n",
       "|---|---|---|---|---|---|---|---|---|---|\n",
       "| 1        | 첫인사   | 1        | \n",
       "| 1        | 상품문의 | 1        | \n",
       "| 1        | 주문접수 | 1        | \n",
       "| 1        | 대기     | 1        | \n",
       "| 2        | 첫인사   | 2        | \n",
       "| 2        | 상품문의 | 2        | \n",
       "| 2        | 주문접수 | 2        | \n",
       "| 2        | 대기     | 2        | \n",
       "| 3        | 첫인사   | 1        | \n",
       "| 3        | 반품     | 1        | \n",
       "\n",
       "\n"
      ],
      "text/plain": [
       "   CallID ServiceType test\n",
       "1  1      첫인사      1   \n",
       "2  1      상품문의    1   \n",
       "3  1      주문접수    1   \n",
       "4  1      대기        1   \n",
       "5  2      첫인사      2   \n",
       "6  2      상품문의    2   \n",
       "7  2      주문접수    2   \n",
       "8  2      대기        2   \n",
       "9  3      첫인사      1   \n",
       "10 3      반품        1   "
      ]
     },
     "metadata": {},
     "output_type": "display_data"
    },
    {
     "data": {
      "text/html": [
       "<table>\n",
       "<thead><tr><th scope=col>CallID</th><th scope=col>ServiceType</th></tr></thead>\n",
       "<tbody>\n",
       "\t<tr><td>1       </td><td>첫인사  </td></tr>\n",
       "\t<tr><td>1       </td><td>상품문의</td></tr>\n",
       "\t<tr><td>1       </td><td>주문접수</td></tr>\n",
       "\t<tr><td>1       </td><td>대기    </td></tr>\n",
       "\t<tr><td>2       </td><td>첫인사  </td></tr>\n",
       "\t<tr><td>2       </td><td>상품문의</td></tr>\n",
       "\t<tr><td>2       </td><td>주문접수</td></tr>\n",
       "\t<tr><td>2       </td><td>대기    </td></tr>\n",
       "\t<tr><td>3       </td><td>첫인사  </td></tr>\n",
       "\t<tr><td>3       </td><td>반품    </td></tr>\n",
       "</tbody>\n",
       "</table>\n"
      ],
      "text/latex": [
       "\\begin{tabular}{r|ll}\n",
       " CallID & ServiceType\\\\\n",
       "\\hline\n",
       "\t 1        & 첫인사  \\\\\n",
       "\t 1        & 상품문의\\\\\n",
       "\t 1        & 주문접수\\\\\n",
       "\t 1        & 대기    \\\\\n",
       "\t 2        & 첫인사  \\\\\n",
       "\t 2        & 상품문의\\\\\n",
       "\t 2        & 주문접수\\\\\n",
       "\t 2        & 대기    \\\\\n",
       "\t 3        & 첫인사  \\\\\n",
       "\t 3        & 반품    \\\\\n",
       "\\end{tabular}\n"
      ],
      "text/markdown": [
       "\n",
       "CallID | ServiceType | \n",
       "|---|---|---|---|---|---|---|---|---|---|\n",
       "| 1        | 첫인사   | \n",
       "| 1        | 상품문의 | \n",
       "| 1        | 주문접수 | \n",
       "| 1        | 대기     | \n",
       "| 2        | 첫인사   | \n",
       "| 2        | 상품문의 | \n",
       "| 2        | 주문접수 | \n",
       "| 2        | 대기     | \n",
       "| 3        | 첫인사   | \n",
       "| 3        | 반품     | \n",
       "\n",
       "\n"
      ],
      "text/plain": [
       "   CallID ServiceType\n",
       "1  1      첫인사     \n",
       "2  1      상품문의   \n",
       "3  1      주문접수   \n",
       "4  1      대기       \n",
       "5  2      첫인사     \n",
       "6  2      상품문의   \n",
       "7  2      주문접수   \n",
       "8  2      대기       \n",
       "9  3      첫인사     \n",
       "10 3      반품       "
      ]
     },
     "metadata": {},
     "output_type": "display_data"
    }
   ],
   "source": [
    "colnames(join_order) <- c(\"CallID\", \"ServiceType\", \"test\")\n",
    "colnames(join_return) <- c(\"CallID\", \"ServiceType\", \"test\")\n",
    "cist <- rbind(join_order, join_return)\n",
    "head(cist, 10)\n",
    "\n",
    "cist$CallID <- as.integer(cist$CallID)\n",
    "cist <- arrange(cist, CallID)\n",
    "head(cist, 10)\n",
    "\n",
    "cist <- subset(cist, select = c(-test))\n",
    "head(cist, 10)"
   ]
  },
  {
   "cell_type": "markdown",
   "metadata": {},
   "source": [
    "### 5) Agent 생성"
   ]
  },
  {
   "cell_type": "code",
   "execution_count": 20,
   "metadata": {},
   "outputs": [],
   "source": [
    "agent <- c(\"손흥민\", \"기성용\", \"구자철\", \"이승우\", \"조현우\",\n",
    "           \"이청용\", \"이동국\", \"김승규\", \"장현수\", \"김영권\",\n",
    "           \"김신욱\", \"홍정호\", \"지동원\", \"이근호\", \"정성룡\",\n",
    "           \"박주호\", \"김진현\", \"김진수\", \"석현준\", \"김보경\",\n",
    "           \"이재성\", \"이용\", \"남태희\", \"권창훈\", \"곽태휘\")\n",
    "cist$Agent <- \"agent\"\n",
    "for (i in 1:25){\n",
    "  cist$Agent <- ifelse((cist$CallID %/% 40) == (i-1), agent[i], cist$Agent)\n",
    "}\n",
    "cist$Agent <- ifelse(cist$Agent == \"agent\", \"곽태휘\", cist$Agent)"
   ]
  },
  {
   "cell_type": "code",
   "execution_count": 22,
   "metadata": {},
   "outputs": [
    {
     "data": {
      "text/html": [
       "<table>\n",
       "<thead><tr><th scope=col>CallID</th><th scope=col>ServiceType</th><th scope=col>Agent</th></tr></thead>\n",
       "<tbody>\n",
       "\t<tr><td>1       </td><td>첫인사  </td><td>손흥민  </td></tr>\n",
       "\t<tr><td>1       </td><td>상품문의</td><td>손흥민  </td></tr>\n",
       "\t<tr><td>1       </td><td>주문접수</td><td>손흥민  </td></tr>\n",
       "\t<tr><td>1       </td><td>대기    </td><td>손흥민  </td></tr>\n",
       "\t<tr><td>2       </td><td>첫인사  </td><td>손흥민  </td></tr>\n",
       "\t<tr><td>2       </td><td>상품문의</td><td>손흥민  </td></tr>\n",
       "</tbody>\n",
       "</table>\n"
      ],
      "text/latex": [
       "\\begin{tabular}{r|lll}\n",
       " CallID & ServiceType & Agent\\\\\n",
       "\\hline\n",
       "\t 1        & 첫인사   & 손흥민  \\\\\n",
       "\t 1        & 상품문의 & 손흥민  \\\\\n",
       "\t 1        & 주문접수 & 손흥민  \\\\\n",
       "\t 1        & 대기     & 손흥민  \\\\\n",
       "\t 2        & 첫인사   & 손흥민  \\\\\n",
       "\t 2        & 상품문의 & 손흥민  \\\\\n",
       "\\end{tabular}\n"
      ],
      "text/markdown": [
       "\n",
       "CallID | ServiceType | Agent | \n",
       "|---|---|---|---|---|---|\n",
       "| 1        | 첫인사   | 손흥민   | \n",
       "| 1        | 상품문의 | 손흥민   | \n",
       "| 1        | 주문접수 | 손흥민   | \n",
       "| 1        | 대기     | 손흥민   | \n",
       "| 2        | 첫인사   | 손흥민   | \n",
       "| 2        | 상품문의 | 손흥민   | \n",
       "\n",
       "\n"
      ],
      "text/plain": [
       "  CallID ServiceType Agent \n",
       "1 1      첫인사      손흥민\n",
       "2 1      상품문의    손흥민\n",
       "3 1      주문접수    손흥민\n",
       "4 1      대기        손흥민\n",
       "5 2      첫인사      손흥민\n",
       "6 2      상품문의    손흥민"
      ]
     },
     "metadata": {},
     "output_type": "display_data"
    },
    {
     "data": {
      "text/html": [
       "<table>\n",
       "<thead><tr><th></th><th scope=col>CallID</th><th scope=col>ServiceType</th><th scope=col>Agent</th></tr></thead>\n",
       "<tbody>\n",
       "\t<tr><th scope=row>3495</th><td> 999    </td><td>주문접수</td><td>곽태휘  </td></tr>\n",
       "\t<tr><th scope=row>3496</th><td> 999    </td><td>대기    </td><td>곽태휘  </td></tr>\n",
       "\t<tr><th scope=row>3497</th><td>1000    </td><td>첫인사  </td><td>곽태휘  </td></tr>\n",
       "\t<tr><th scope=row>3498</th><td>1000    </td><td>상품문의</td><td>곽태휘  </td></tr>\n",
       "\t<tr><th scope=row>3499</th><td>1000    </td><td>주문접수</td><td>곽태휘  </td></tr>\n",
       "\t<tr><th scope=row>3500</th><td>1000    </td><td>대기    </td><td>곽태휘  </td></tr>\n",
       "</tbody>\n",
       "</table>\n"
      ],
      "text/latex": [
       "\\begin{tabular}{r|lll}\n",
       "  & CallID & ServiceType & Agent\\\\\n",
       "\\hline\n",
       "\t3495 &  999     & 주문접수 & 곽태휘  \\\\\n",
       "\t3496 &  999     & 대기     & 곽태휘  \\\\\n",
       "\t3497 & 1000     & 첫인사   & 곽태휘  \\\\\n",
       "\t3498 & 1000     & 상품문의 & 곽태휘  \\\\\n",
       "\t3499 & 1000     & 주문접수 & 곽태휘  \\\\\n",
       "\t3500 & 1000     & 대기     & 곽태휘  \\\\\n",
       "\\end{tabular}\n"
      ],
      "text/markdown": [
       "\n",
       "| <!--/--> | CallID | ServiceType | Agent | \n",
       "|---|---|---|---|---|---|\n",
       "| 3495 |  999     | 주문접수 | 곽태휘   | \n",
       "| 3496 |  999     | 대기     | 곽태휘   | \n",
       "| 3497 | 1000     | 첫인사   | 곽태휘   | \n",
       "| 3498 | 1000     | 상품문의 | 곽태휘   | \n",
       "| 3499 | 1000     | 주문접수 | 곽태휘   | \n",
       "| 3500 | 1000     | 대기     | 곽태휘   | \n",
       "\n",
       "\n"
      ],
      "text/plain": [
       "     CallID ServiceType Agent \n",
       "3495  999   주문접수    곽태휘\n",
       "3496  999   대기        곽태휘\n",
       "3497 1000   첫인사      곽태휘\n",
       "3498 1000   상품문의    곽태휘\n",
       "3499 1000   주문접수    곽태휘\n",
       "3500 1000   대기        곽태휘"
      ]
     },
     "metadata": {},
     "output_type": "display_data"
    }
   ],
   "source": [
    "head(cist)\n",
    "tail(cist)"
   ]
  },
  {
   "cell_type": "code",
   "execution_count": 24,
   "metadata": {},
   "outputs": [
    {
     "data": {
      "text/html": [
       "<table>\n",
       "<thead><tr><th scope=col>agent</th><th scope=col>Freq</th></tr></thead>\n",
       "<tbody>\n",
       "\t<tr><td>손흥민</td><td>138   </td></tr>\n",
       "\t<tr><td>기성용</td><td>146   </td></tr>\n",
       "\t<tr><td>구자철</td><td>133   </td></tr>\n",
       "\t<tr><td>이승우</td><td>143   </td></tr>\n",
       "\t<tr><td>조현우</td><td>138   </td></tr>\n",
       "\t<tr><td>이청용</td><td>135   </td></tr>\n",
       "</tbody>\n",
       "</table>\n"
      ],
      "text/latex": [
       "\\begin{tabular}{r|ll}\n",
       " agent & Freq\\\\\n",
       "\\hline\n",
       "\t 손흥민 & 138   \\\\\n",
       "\t 기성용 & 146   \\\\\n",
       "\t 구자철 & 133   \\\\\n",
       "\t 이승우 & 143   \\\\\n",
       "\t 조현우 & 138   \\\\\n",
       "\t 이청용 & 135   \\\\\n",
       "\\end{tabular}\n"
      ],
      "text/markdown": [
       "\n",
       "agent | Freq | \n",
       "|---|---|---|---|---|---|\n",
       "| 손흥민 | 138    | \n",
       "| 기성용 | 146    | \n",
       "| 구자철 | 133    | \n",
       "| 이승우 | 143    | \n",
       "| 조현우 | 138    | \n",
       "| 이청용 | 135    | \n",
       "\n",
       "\n"
      ],
      "text/plain": [
       "  agent  Freq\n",
       "1 손흥민 138 \n",
       "2 기성용 146 \n",
       "3 구자철 133 \n",
       "4 이승우 143 \n",
       "5 조현우 138 \n",
       "6 이청용 135 "
      ]
     },
     "metadata": {},
     "output_type": "display_data"
    }
   ],
   "source": [
    "# Agent의 Activity 수 계산\n",
    "a <- as.data.frame(table(cist$Agent))\n",
    "b <- as.data.frame(agent)\n",
    "ab <- left_join(b, a, by = c(\"agent\" = \"Var1\"))\n",
    "head(ab)"
   ]
  },
  {
   "cell_type": "code",
   "execution_count": 33,
   "metadata": {},
   "outputs": [
    {
     "data": {
      "text/html": [
       "<ol class=list-inline>\n",
       "\t<li>138</li>\n",
       "\t<li>146</li>\n",
       "\t<li>133</li>\n",
       "\t<li>143</li>\n",
       "\t<li>138</li>\n",
       "\t<li>135</li>\n",
       "\t<li>143</li>\n",
       "\t<li>139</li>\n",
       "\t<li>138</li>\n",
       "\t<li>144</li>\n",
       "\t<li>143</li>\n",
       "\t<li>137</li>\n",
       "\t<li>142</li>\n",
       "\t<li>137</li>\n",
       "\t<li>142</li>\n",
       "\t<li>140</li>\n",
       "\t<li>136</li>\n",
       "\t<li>140</li>\n",
       "\t<li>136</li>\n",
       "\t<li>142</li>\n",
       "\t<li>142</li>\n",
       "\t<li>140</li>\n",
       "\t<li>140</li>\n",
       "\t<li>141</li>\n",
       "\t<li>145</li>\n",
       "</ol>\n"
      ],
      "text/latex": [
       "\\begin{enumerate*}\n",
       "\\item 138\n",
       "\\item 146\n",
       "\\item 133\n",
       "\\item 143\n",
       "\\item 138\n",
       "\\item 135\n",
       "\\item 143\n",
       "\\item 139\n",
       "\\item 138\n",
       "\\item 144\n",
       "\\item 143\n",
       "\\item 137\n",
       "\\item 142\n",
       "\\item 137\n",
       "\\item 142\n",
       "\\item 140\n",
       "\\item 136\n",
       "\\item 140\n",
       "\\item 136\n",
       "\\item 142\n",
       "\\item 142\n",
       "\\item 140\n",
       "\\item 140\n",
       "\\item 141\n",
       "\\item 145\n",
       "\\end{enumerate*}\n"
      ],
      "text/markdown": [
       "1. 138\n",
       "2. 146\n",
       "3. 133\n",
       "4. 143\n",
       "5. 138\n",
       "6. 135\n",
       "7. 143\n",
       "8. 139\n",
       "9. 138\n",
       "10. 144\n",
       "11. 143\n",
       "12. 137\n",
       "13. 142\n",
       "14. 137\n",
       "15. 142\n",
       "16. 140\n",
       "17. 136\n",
       "18. 140\n",
       "19. 136\n",
       "20. 142\n",
       "21. 142\n",
       "22. 140\n",
       "23. 140\n",
       "24. 141\n",
       "25. 145\n",
       "\n",
       "\n"
      ],
      "text/plain": [
       " [1] 138 146 133 143 138 135 143 139 138 144 143 137 142 137 142 140 136 140 136\n",
       "[20] 142 142 140 140 141 145"
      ]
     },
     "metadata": {},
     "output_type": "display_data"
    },
    {
     "data": {
      "text/html": [
       "3500"
      ],
      "text/latex": [
       "3500"
      ],
      "text/markdown": [
       "3500"
      ],
      "text/plain": [
       "[1] 3500"
      ]
     },
     "metadata": {},
     "output_type": "display_data"
    }
   ],
   "source": [
    "agcnt <- ab$Freq\n",
    "agcnt\n",
    "sum(ab$Freq)"
   ]
  },
  {
   "cell_type": "code",
   "execution_count": 40,
   "metadata": {},
   "outputs": [
    {
     "data": {
      "text/html": [
       "<table>\n",
       "<thead><tr><th scope=col>col1</th><th scope=col>col2</th><th scope=col>col3</th></tr></thead>\n",
       "<tbody>\n",
       "\t<tr><td>0</td><td>0</td><td>0</td></tr>\n",
       "</tbody>\n",
       "</table>\n"
      ],
      "text/latex": [
       "\\begin{tabular}{r|lll}\n",
       " col1 & col2 & col3\\\\\n",
       "\\hline\n",
       "\t 0 & 0 & 0\\\\\n",
       "\\end{tabular}\n"
      ],
      "text/markdown": [
       "\n",
       "col1 | col2 | col3 | \n",
       "|---|\n",
       "| 0 | 0 | 0 | \n",
       "\n",
       "\n"
      ],
      "text/plain": [
       "  col1 col2 col3\n",
       "1 0    0    0   "
      ]
     },
     "metadata": {},
     "output_type": "display_data"
    }
   ],
   "source": [
    "time2 <- data.frame(col1 = 0, col2 = 0 , col3 = 0)\n",
    "time2"
   ]
  },
  {
   "cell_type": "code",
   "execution_count": 41,
   "metadata": {},
   "outputs": [],
   "source": [
    "for (i in 1:length(agcnt)){\n",
    "  hour <- sample(x = 11:17, size = agcnt[i], replace = TRUE)\n",
    "  minute <- sample(x = 0:59, size = agcnt[i], replace = TRUE)\n",
    "  second <- sample(x = 0:59, size = agcnt[i], replace = TRUE)\n",
    "  time <- data.frame(col1 = hour, col2 = minute, col3 = second)\n",
    "  time <- arrange(time, col1, col2, col3)\n",
    "  time2 <- rbind(time2, time)\n",
    "}"
   ]
  },
  {
   "cell_type": "code",
   "execution_count": 42,
   "metadata": {},
   "outputs": [
    {
     "data": {
      "text/html": [
       "<table>\n",
       "<thead><tr><th></th><th scope=col>hour</th><th scope=col>minute</th><th scope=col>second</th></tr></thead>\n",
       "<tbody>\n",
       "\t<tr><th scope=row>3496</th><td>17</td><td>41</td><td>21</td></tr>\n",
       "\t<tr><th scope=row>3497</th><td>17</td><td>41</td><td>47</td></tr>\n",
       "\t<tr><th scope=row>3498</th><td>17</td><td>45</td><td>11</td></tr>\n",
       "\t<tr><th scope=row>3499</th><td>17</td><td>50</td><td>55</td></tr>\n",
       "\t<tr><th scope=row>3500</th><td>17</td><td>53</td><td>43</td></tr>\n",
       "\t<tr><th scope=row>3501</th><td>17</td><td>59</td><td>23</td></tr>\n",
       "</tbody>\n",
       "</table>\n"
      ],
      "text/latex": [
       "\\begin{tabular}{r|lll}\n",
       "  & hour & minute & second\\\\\n",
       "\\hline\n",
       "\t3496 & 17 & 41 & 21\\\\\n",
       "\t3497 & 17 & 41 & 47\\\\\n",
       "\t3498 & 17 & 45 & 11\\\\\n",
       "\t3499 & 17 & 50 & 55\\\\\n",
       "\t3500 & 17 & 53 & 43\\\\\n",
       "\t3501 & 17 & 59 & 23\\\\\n",
       "\\end{tabular}\n"
      ],
      "text/markdown": [
       "\n",
       "| <!--/--> | hour | minute | second | \n",
       "|---|---|---|---|---|---|\n",
       "| 3496 | 17 | 41 | 21 | \n",
       "| 3497 | 17 | 41 | 47 | \n",
       "| 3498 | 17 | 45 | 11 | \n",
       "| 3499 | 17 | 50 | 55 | \n",
       "| 3500 | 17 | 53 | 43 | \n",
       "| 3501 | 17 | 59 | 23 | \n",
       "\n",
       "\n"
      ],
      "text/plain": [
       "     hour minute second\n",
       "3496 17   41     21    \n",
       "3497 17   41     47    \n",
       "3498 17   45     11    \n",
       "3499 17   50     55    \n",
       "3500 17   53     43    \n",
       "3501 17   59     23    "
      ]
     },
     "metadata": {},
     "output_type": "display_data"
    },
    {
     "data": {
      "text/html": [
       "<table>\n",
       "<thead><tr><th></th><th scope=col>hour</th><th scope=col>minute</th><th scope=col>second</th></tr></thead>\n",
       "<tbody>\n",
       "\t<tr><th scope=row>2</th><td>11</td><td> 4</td><td>56</td></tr>\n",
       "\t<tr><th scope=row>3</th><td>11</td><td> 4</td><td>59</td></tr>\n",
       "\t<tr><th scope=row>4</th><td>11</td><td> 5</td><td>40</td></tr>\n",
       "\t<tr><th scope=row>5</th><td>11</td><td> 8</td><td> 2</td></tr>\n",
       "\t<tr><th scope=row>6</th><td>11</td><td>12</td><td>35</td></tr>\n",
       "\t<tr><th scope=row>7</th><td>11</td><td>15</td><td> 0</td></tr>\n",
       "</tbody>\n",
       "</table>\n"
      ],
      "text/latex": [
       "\\begin{tabular}{r|lll}\n",
       "  & hour & minute & second\\\\\n",
       "\\hline\n",
       "\t2 & 11 &  4 & 56\\\\\n",
       "\t3 & 11 &  4 & 59\\\\\n",
       "\t4 & 11 &  5 & 40\\\\\n",
       "\t5 & 11 &  8 &  2\\\\\n",
       "\t6 & 11 & 12 & 35\\\\\n",
       "\t7 & 11 & 15 &  0\\\\\n",
       "\\end{tabular}\n"
      ],
      "text/markdown": [
       "\n",
       "| <!--/--> | hour | minute | second | \n",
       "|---|---|---|---|---|---|\n",
       "| 2 | 11 |  4 | 56 | \n",
       "| 3 | 11 |  4 | 59 | \n",
       "| 4 | 11 |  5 | 40 | \n",
       "| 5 | 11 |  8 |  2 | \n",
       "| 6 | 11 | 12 | 35 | \n",
       "| 7 | 11 | 15 |  0 | \n",
       "\n",
       "\n"
      ],
      "text/plain": [
       "  hour minute second\n",
       "2 11    4     56    \n",
       "3 11    4     59    \n",
       "4 11    5     40    \n",
       "5 11    8      2    \n",
       "6 11   12     35    \n",
       "7 11   15      0    "
      ]
     },
     "metadata": {},
     "output_type": "display_data"
    },
    {
     "data": {
      "text/html": [
       "<table>\n",
       "<thead><tr><th></th><th scope=col>hour</th><th scope=col>minute</th><th scope=col>second</th></tr></thead>\n",
       "<tbody>\n",
       "\t<tr><th scope=row>3496</th><td>17</td><td>41</td><td>21</td></tr>\n",
       "\t<tr><th scope=row>3497</th><td>17</td><td>41</td><td>47</td></tr>\n",
       "\t<tr><th scope=row>3498</th><td>17</td><td>45</td><td>11</td></tr>\n",
       "\t<tr><th scope=row>3499</th><td>17</td><td>50</td><td>55</td></tr>\n",
       "\t<tr><th scope=row>3500</th><td>17</td><td>53</td><td>43</td></tr>\n",
       "\t<tr><th scope=row>3501</th><td>17</td><td>59</td><td>23</td></tr>\n",
       "</tbody>\n",
       "</table>\n"
      ],
      "text/latex": [
       "\\begin{tabular}{r|lll}\n",
       "  & hour & minute & second\\\\\n",
       "\\hline\n",
       "\t3496 & 17 & 41 & 21\\\\\n",
       "\t3497 & 17 & 41 & 47\\\\\n",
       "\t3498 & 17 & 45 & 11\\\\\n",
       "\t3499 & 17 & 50 & 55\\\\\n",
       "\t3500 & 17 & 53 & 43\\\\\n",
       "\t3501 & 17 & 59 & 23\\\\\n",
       "\\end{tabular}\n"
      ],
      "text/markdown": [
       "\n",
       "| <!--/--> | hour | minute | second | \n",
       "|---|---|---|---|---|---|\n",
       "| 3496 | 17 | 41 | 21 | \n",
       "| 3497 | 17 | 41 | 47 | \n",
       "| 3498 | 17 | 45 | 11 | \n",
       "| 3499 | 17 | 50 | 55 | \n",
       "| 3500 | 17 | 53 | 43 | \n",
       "| 3501 | 17 | 59 | 23 | \n",
       "\n",
       "\n"
      ],
      "text/plain": [
       "     hour minute second\n",
       "3496 17   41     21    \n",
       "3497 17   41     47    \n",
       "3498 17   45     11    \n",
       "3499 17   50     55    \n",
       "3500 17   53     43    \n",
       "3501 17   59     23    "
      ]
     },
     "metadata": {},
     "output_type": "display_data"
    }
   ],
   "source": [
    "colnames(time2) <- c(\"hour\", \"minute\", \"second\")\n",
    "tail(time2)\n",
    "time2 <- time2[-1, ]\n",
    "head(time2)\n",
    "tail(time2)"
   ]
  },
  {
   "cell_type": "code",
   "execution_count": 43,
   "metadata": {},
   "outputs": [
    {
     "data": {
      "text/html": [
       "<table>\n",
       "<thead><tr><th></th><th scope=col>hour</th><th scope=col>minute</th><th scope=col>second</th></tr></thead>\n",
       "<tbody>\n",
       "\t<tr><th scope=row>2</th><td>11</td><td>4 </td><td>56</td></tr>\n",
       "\t<tr><th scope=row>3</th><td>11</td><td>4 </td><td>59</td></tr>\n",
       "\t<tr><th scope=row>4</th><td>11</td><td>5 </td><td>40</td></tr>\n",
       "\t<tr><th scope=row>5</th><td>11</td><td>8 </td><td>2 </td></tr>\n",
       "\t<tr><th scope=row>6</th><td>11</td><td>12</td><td>35</td></tr>\n",
       "\t<tr><th scope=row>7</th><td>11</td><td>15</td><td>0 </td></tr>\n",
       "</tbody>\n",
       "</table>\n"
      ],
      "text/latex": [
       "\\begin{tabular}{r|lll}\n",
       "  & hour & minute & second\\\\\n",
       "\\hline\n",
       "\t2 & 11 & 4  & 56\\\\\n",
       "\t3 & 11 & 4  & 59\\\\\n",
       "\t4 & 11 & 5  & 40\\\\\n",
       "\t5 & 11 & 8  & 2 \\\\\n",
       "\t6 & 11 & 12 & 35\\\\\n",
       "\t7 & 11 & 15 & 0 \\\\\n",
       "\\end{tabular}\n"
      ],
      "text/markdown": [
       "\n",
       "| <!--/--> | hour | minute | second | \n",
       "|---|---|---|---|---|---|\n",
       "| 2 | 11 | 4  | 56 | \n",
       "| 3 | 11 | 4  | 59 | \n",
       "| 4 | 11 | 5  | 40 | \n",
       "| 5 | 11 | 8  | 2  | \n",
       "| 6 | 11 | 12 | 35 | \n",
       "| 7 | 11 | 15 | 0  | \n",
       "\n",
       "\n"
      ],
      "text/plain": [
       "  hour minute second\n",
       "2 11   4      56    \n",
       "3 11   4      59    \n",
       "4 11   5      40    \n",
       "5 11   8      2     \n",
       "6 11   12     35    \n",
       "7 11   15     0     "
      ]
     },
     "metadata": {},
     "output_type": "display_data"
    }
   ],
   "source": [
    "time2$hour <- as.character(time2$hour)\n",
    "time2$minute <- as.character(time2$minute)\n",
    "time2$second <- as.character(time2$second)\n",
    "head(time2)"
   ]
  },
  {
   "cell_type": "code",
   "execution_count": 44,
   "metadata": {},
   "outputs": [
    {
     "data": {
      "text/html": [
       "<table>\n",
       "<thead><tr><th></th><th scope=col>hour</th><th scope=col>minute</th><th scope=col>second</th><th scope=col>time</th></tr></thead>\n",
       "<tbody>\n",
       "\t<tr><th scope=row>2</th><td>11                 </td><td>04                 </td><td>56                 </td><td>2018-08-27 11:04:56</td></tr>\n",
       "\t<tr><th scope=row>3</th><td>11                 </td><td>04                 </td><td>59                 </td><td>2018-08-27 11:04:59</td></tr>\n",
       "\t<tr><th scope=row>4</th><td>11                 </td><td>05                 </td><td>40                 </td><td>2018-08-27 11:05:40</td></tr>\n",
       "\t<tr><th scope=row>5</th><td>11                 </td><td>08                 </td><td>02                 </td><td>2018-08-27 11:08:02</td></tr>\n",
       "\t<tr><th scope=row>6</th><td>11                 </td><td>12                 </td><td>35                 </td><td>2018-08-27 11:12:35</td></tr>\n",
       "\t<tr><th scope=row>7</th><td>11                 </td><td>15                 </td><td>00                 </td><td>2018-08-27 11:15:00</td></tr>\n",
       "</tbody>\n",
       "</table>\n"
      ],
      "text/latex": [
       "\\begin{tabular}{r|llll}\n",
       "  & hour & minute & second & time\\\\\n",
       "\\hline\n",
       "\t2 & 11                  & 04                  & 56                  & 2018-08-27 11:04:56\\\\\n",
       "\t3 & 11                  & 04                  & 59                  & 2018-08-27 11:04:59\\\\\n",
       "\t4 & 11                  & 05                  & 40                  & 2018-08-27 11:05:40\\\\\n",
       "\t5 & 11                  & 08                  & 02                  & 2018-08-27 11:08:02\\\\\n",
       "\t6 & 11                  & 12                  & 35                  & 2018-08-27 11:12:35\\\\\n",
       "\t7 & 11                  & 15                  & 00                  & 2018-08-27 11:15:00\\\\\n",
       "\\end{tabular}\n"
      ],
      "text/markdown": [
       "\n",
       "| <!--/--> | hour | minute | second | time | \n",
       "|---|---|---|---|---|---|\n",
       "| 2 | 11                  | 04                  | 56                  | 2018-08-27 11:04:56 | \n",
       "| 3 | 11                  | 04                  | 59                  | 2018-08-27 11:04:59 | \n",
       "| 4 | 11                  | 05                  | 40                  | 2018-08-27 11:05:40 | \n",
       "| 5 | 11                  | 08                  | 02                  | 2018-08-27 11:08:02 | \n",
       "| 6 | 11                  | 12                  | 35                  | 2018-08-27 11:12:35 | \n",
       "| 7 | 11                  | 15                  | 00                  | 2018-08-27 11:15:00 | \n",
       "\n",
       "\n"
      ],
      "text/plain": [
       "  hour minute second time               \n",
       "2 11   04     56     2018-08-27 11:04:56\n",
       "3 11   04     59     2018-08-27 11:04:59\n",
       "4 11   05     40     2018-08-27 11:05:40\n",
       "5 11   08     02     2018-08-27 11:08:02\n",
       "6 11   12     35     2018-08-27 11:12:35\n",
       "7 11   15     00     2018-08-27 11:15:00"
      ]
     },
     "metadata": {},
     "output_type": "display_data"
    },
    {
     "data": {
      "text/html": [
       "<table>\n",
       "<thead><tr><th></th><th scope=col>hour</th><th scope=col>minute</th><th scope=col>second</th><th scope=col>time</th></tr></thead>\n",
       "<tbody>\n",
       "\t<tr><th scope=row>3496</th><td>17                 </td><td>41                 </td><td>21                 </td><td>2018-08-27 17:41:21</td></tr>\n",
       "\t<tr><th scope=row>3497</th><td>17                 </td><td>41                 </td><td>47                 </td><td>2018-08-27 17:41:47</td></tr>\n",
       "\t<tr><th scope=row>3498</th><td>17                 </td><td>45                 </td><td>11                 </td><td>2018-08-27 17:45:11</td></tr>\n",
       "\t<tr><th scope=row>3499</th><td>17                 </td><td>50                 </td><td>55                 </td><td>2018-08-27 17:50:55</td></tr>\n",
       "\t<tr><th scope=row>3500</th><td>17                 </td><td>53                 </td><td>43                 </td><td>2018-08-27 17:53:43</td></tr>\n",
       "\t<tr><th scope=row>3501</th><td>17                 </td><td>59                 </td><td>23                 </td><td>2018-08-27 17:59:23</td></tr>\n",
       "</tbody>\n",
       "</table>\n"
      ],
      "text/latex": [
       "\\begin{tabular}{r|llll}\n",
       "  & hour & minute & second & time\\\\\n",
       "\\hline\n",
       "\t3496 & 17                  & 41                  & 21                  & 2018-08-27 17:41:21\\\\\n",
       "\t3497 & 17                  & 41                  & 47                  & 2018-08-27 17:41:47\\\\\n",
       "\t3498 & 17                  & 45                  & 11                  & 2018-08-27 17:45:11\\\\\n",
       "\t3499 & 17                  & 50                  & 55                  & 2018-08-27 17:50:55\\\\\n",
       "\t3500 & 17                  & 53                  & 43                  & 2018-08-27 17:53:43\\\\\n",
       "\t3501 & 17                  & 59                  & 23                  & 2018-08-27 17:59:23\\\\\n",
       "\\end{tabular}\n"
      ],
      "text/markdown": [
       "\n",
       "| <!--/--> | hour | minute | second | time | \n",
       "|---|---|---|---|---|---|\n",
       "| 3496 | 17                  | 41                  | 21                  | 2018-08-27 17:41:21 | \n",
       "| 3497 | 17                  | 41                  | 47                  | 2018-08-27 17:41:47 | \n",
       "| 3498 | 17                  | 45                  | 11                  | 2018-08-27 17:45:11 | \n",
       "| 3499 | 17                  | 50                  | 55                  | 2018-08-27 17:50:55 | \n",
       "| 3500 | 17                  | 53                  | 43                  | 2018-08-27 17:53:43 | \n",
       "| 3501 | 17                  | 59                  | 23                  | 2018-08-27 17:59:23 | \n",
       "\n",
       "\n"
      ],
      "text/plain": [
       "     hour minute second time               \n",
       "3496 17   41     21     2018-08-27 17:41:21\n",
       "3497 17   41     47     2018-08-27 17:41:47\n",
       "3498 17   45     11     2018-08-27 17:45:11\n",
       "3499 17   50     55     2018-08-27 17:50:55\n",
       "3500 17   53     43     2018-08-27 17:53:43\n",
       "3501 17   59     23     2018-08-27 17:59:23"
      ]
     },
     "metadata": {},
     "output_type": "display_data"
    }
   ],
   "source": [
    "time2$minute <- ifelse(nchar(time2$minute) == 1, paste0(\"0\", time2$minute), time2$minute)\n",
    "time2$second <- ifelse(nchar(time2$second) == 1, paste0(\"0\", time2$second), time2$second)\n",
    "time2$time <- paste0(time2$hour, \":\", time2$minute, \":\", time2$second)\n",
    "time2$time <- paste(\"2018-08-27\", time2$time)\n",
    "head(time2)\n",
    "tail(time2)"
   ]
  },
  {
   "cell_type": "code",
   "execution_count": 45,
   "metadata": {},
   "outputs": [
    {
     "data": {
      "text/html": [
       "<table>\n",
       "<thead><tr><th scope=col>CallID</th><th scope=col>ServiceType</th><th scope=col>Agent</th><th scope=col>TimeStamp</th></tr></thead>\n",
       "<tbody>\n",
       "\t<tr><td>1                  </td><td>첫인사             </td><td>손흥민             </td><td>2018-08-27 11:04:56</td></tr>\n",
       "\t<tr><td>1                  </td><td>상품문의           </td><td>손흥민             </td><td>2018-08-27 11:04:59</td></tr>\n",
       "\t<tr><td>1                  </td><td>주문접수           </td><td>손흥민             </td><td>2018-08-27 11:05:40</td></tr>\n",
       "\t<tr><td>1                  </td><td>대기               </td><td>손흥민             </td><td>2018-08-27 11:08:02</td></tr>\n",
       "\t<tr><td>2                  </td><td>첫인사             </td><td>손흥민             </td><td>2018-08-27 11:12:35</td></tr>\n",
       "\t<tr><td>2                  </td><td>상품문의           </td><td>손흥민             </td><td>2018-08-27 11:15:00</td></tr>\n",
       "</tbody>\n",
       "</table>\n"
      ],
      "text/latex": [
       "\\begin{tabular}{r|llll}\n",
       " CallID & ServiceType & Agent & TimeStamp\\\\\n",
       "\\hline\n",
       "\t 1                   & 첫인사              & 손흥민              & 2018-08-27 11:04:56\\\\\n",
       "\t 1                   & 상품문의            & 손흥민              & 2018-08-27 11:04:59\\\\\n",
       "\t 1                   & 주문접수            & 손흥민              & 2018-08-27 11:05:40\\\\\n",
       "\t 1                   & 대기                & 손흥민              & 2018-08-27 11:08:02\\\\\n",
       "\t 2                   & 첫인사              & 손흥민              & 2018-08-27 11:12:35\\\\\n",
       "\t 2                   & 상품문의            & 손흥민              & 2018-08-27 11:15:00\\\\\n",
       "\\end{tabular}\n"
      ],
      "text/markdown": [
       "\n",
       "CallID | ServiceType | Agent | TimeStamp | \n",
       "|---|---|---|---|---|---|\n",
       "| 1                   | 첫인사              | 손흥민              | 2018-08-27 11:04:56 | \n",
       "| 1                   | 상품문의            | 손흥민              | 2018-08-27 11:04:59 | \n",
       "| 1                   | 주문접수            | 손흥민              | 2018-08-27 11:05:40 | \n",
       "| 1                   | 대기                | 손흥민              | 2018-08-27 11:08:02 | \n",
       "| 2                   | 첫인사              | 손흥민              | 2018-08-27 11:12:35 | \n",
       "| 2                   | 상품문의            | 손흥민              | 2018-08-27 11:15:00 | \n",
       "\n",
       "\n"
      ],
      "text/plain": [
       "  CallID ServiceType Agent  TimeStamp          \n",
       "1 1      첫인사      손흥민 2018-08-27 11:04:56\n",
       "2 1      상품문의    손흥민 2018-08-27 11:04:59\n",
       "3 1      주문접수    손흥민 2018-08-27 11:05:40\n",
       "4 1      대기        손흥민 2018-08-27 11:08:02\n",
       "5 2      첫인사      손흥민 2018-08-27 11:12:35\n",
       "6 2      상품문의    손흥민 2018-08-27 11:15:00"
      ]
     },
     "metadata": {},
     "output_type": "display_data"
    }
   ],
   "source": [
    "cist$TimeStamp <- time2$time\n",
    "head(cist)"
   ]
  },
  {
   "cell_type": "code",
   "execution_count": 46,
   "metadata": {},
   "outputs": [
    {
     "data": {
      "text/html": [
       "<table>\n",
       "<thead><tr><th scope=col>Agent</th><th scope=col>CallID</th><th scope=col>ServiceType</th><th scope=col>TimeStamp</th></tr></thead>\n",
       "<tbody>\n",
       "\t<tr><td>손흥민             </td><td>1                  </td><td>첫인사             </td><td>2018-08-27 11:04:56</td></tr>\n",
       "\t<tr><td>손흥민             </td><td>1                  </td><td>상품문의           </td><td>2018-08-27 11:04:59</td></tr>\n",
       "\t<tr><td>손흥민             </td><td>1                  </td><td>주문접수           </td><td>2018-08-27 11:05:40</td></tr>\n",
       "\t<tr><td>손흥민             </td><td>1                  </td><td>대기               </td><td>2018-08-27 11:08:02</td></tr>\n",
       "\t<tr><td>손흥민             </td><td>2                  </td><td>첫인사             </td><td>2018-08-27 11:12:35</td></tr>\n",
       "\t<tr><td>손흥민             </td><td>2                  </td><td>상품문의           </td><td>2018-08-27 11:15:00</td></tr>\n",
       "</tbody>\n",
       "</table>\n"
      ],
      "text/latex": [
       "\\begin{tabular}{r|llll}\n",
       " Agent & CallID & ServiceType & TimeStamp\\\\\n",
       "\\hline\n",
       "\t 손흥민              & 1                   & 첫인사              & 2018-08-27 11:04:56\\\\\n",
       "\t 손흥민              & 1                   & 상품문의            & 2018-08-27 11:04:59\\\\\n",
       "\t 손흥민              & 1                   & 주문접수            & 2018-08-27 11:05:40\\\\\n",
       "\t 손흥민              & 1                   & 대기                & 2018-08-27 11:08:02\\\\\n",
       "\t 손흥민              & 2                   & 첫인사              & 2018-08-27 11:12:35\\\\\n",
       "\t 손흥민              & 2                   & 상품문의            & 2018-08-27 11:15:00\\\\\n",
       "\\end{tabular}\n"
      ],
      "text/markdown": [
       "\n",
       "Agent | CallID | ServiceType | TimeStamp | \n",
       "|---|---|---|---|---|---|\n",
       "| 손흥민              | 1                   | 첫인사              | 2018-08-27 11:04:56 | \n",
       "| 손흥민              | 1                   | 상품문의            | 2018-08-27 11:04:59 | \n",
       "| 손흥민              | 1                   | 주문접수            | 2018-08-27 11:05:40 | \n",
       "| 손흥민              | 1                   | 대기                | 2018-08-27 11:08:02 | \n",
       "| 손흥민              | 2                   | 첫인사              | 2018-08-27 11:12:35 | \n",
       "| 손흥민              | 2                   | 상품문의            | 2018-08-27 11:15:00 | \n",
       "\n",
       "\n"
      ],
      "text/plain": [
       "  Agent  CallID ServiceType TimeStamp          \n",
       "1 손흥민 1      첫인사      2018-08-27 11:04:56\n",
       "2 손흥민 1      상품문의    2018-08-27 11:04:59\n",
       "3 손흥민 1      주문접수    2018-08-27 11:05:40\n",
       "4 손흥민 1      대기        2018-08-27 11:08:02\n",
       "5 손흥민 2      첫인사      2018-08-27 11:12:35\n",
       "6 손흥민 2      상품문의    2018-08-27 11:15:00"
      ]
     },
     "metadata": {},
     "output_type": "display_data"
    },
    {
     "data": {
      "text/html": [
       "<table>\n",
       "<thead><tr><th></th><th scope=col>Agent</th><th scope=col>CallID</th><th scope=col>ServiceType</th><th scope=col>TimeStamp</th></tr></thead>\n",
       "<tbody>\n",
       "\t<tr><th scope=row>3495</th><td>곽태휘             </td><td> 999               </td><td>주문접수           </td><td>2018-08-27 17:41:21</td></tr>\n",
       "\t<tr><th scope=row>3496</th><td>곽태휘             </td><td> 999               </td><td>대기               </td><td>2018-08-27 17:41:47</td></tr>\n",
       "\t<tr><th scope=row>3497</th><td>곽태휘             </td><td>1000               </td><td>첫인사             </td><td>2018-08-27 17:45:11</td></tr>\n",
       "\t<tr><th scope=row>3498</th><td>곽태휘             </td><td>1000               </td><td>상품문의           </td><td>2018-08-27 17:50:55</td></tr>\n",
       "\t<tr><th scope=row>3499</th><td>곽태휘             </td><td>1000               </td><td>주문접수           </td><td>2018-08-27 17:53:43</td></tr>\n",
       "\t<tr><th scope=row>3500</th><td>곽태휘             </td><td>1000               </td><td>대기               </td><td>2018-08-27 17:59:23</td></tr>\n",
       "</tbody>\n",
       "</table>\n"
      ],
      "text/latex": [
       "\\begin{tabular}{r|llll}\n",
       "  & Agent & CallID & ServiceType & TimeStamp\\\\\n",
       "\\hline\n",
       "\t3495 & 곽태휘              &  999                & 주문접수            & 2018-08-27 17:41:21\\\\\n",
       "\t3496 & 곽태휘              &  999                & 대기                & 2018-08-27 17:41:47\\\\\n",
       "\t3497 & 곽태휘              & 1000                & 첫인사              & 2018-08-27 17:45:11\\\\\n",
       "\t3498 & 곽태휘              & 1000                & 상품문의            & 2018-08-27 17:50:55\\\\\n",
       "\t3499 & 곽태휘              & 1000                & 주문접수            & 2018-08-27 17:53:43\\\\\n",
       "\t3500 & 곽태휘              & 1000                & 대기                & 2018-08-27 17:59:23\\\\\n",
       "\\end{tabular}\n"
      ],
      "text/markdown": [
       "\n",
       "| <!--/--> | Agent | CallID | ServiceType | TimeStamp | \n",
       "|---|---|---|---|---|---|\n",
       "| 3495 | 곽태휘              |  999                | 주문접수            | 2018-08-27 17:41:21 | \n",
       "| 3496 | 곽태휘              |  999                | 대기                | 2018-08-27 17:41:47 | \n",
       "| 3497 | 곽태휘              | 1000                | 첫인사              | 2018-08-27 17:45:11 | \n",
       "| 3498 | 곽태휘              | 1000                | 상품문의            | 2018-08-27 17:50:55 | \n",
       "| 3499 | 곽태휘              | 1000                | 주문접수            | 2018-08-27 17:53:43 | \n",
       "| 3500 | 곽태휘              | 1000                | 대기                | 2018-08-27 17:59:23 | \n",
       "\n",
       "\n"
      ],
      "text/plain": [
       "     Agent  CallID ServiceType TimeStamp          \n",
       "3495 곽태휘  999   주문접수    2018-08-27 17:41:21\n",
       "3496 곽태휘  999   대기        2018-08-27 17:41:47\n",
       "3497 곽태휘 1000   첫인사      2018-08-27 17:45:11\n",
       "3498 곽태휘 1000   상품문의    2018-08-27 17:50:55\n",
       "3499 곽태휘 1000   주문접수    2018-08-27 17:53:43\n",
       "3500 곽태휘 1000   대기        2018-08-27 17:59:23"
      ]
     },
     "metadata": {},
     "output_type": "display_data"
    }
   ],
   "source": [
    "cist <- cist[, c(3, 1, 2, 4)]\n",
    "head(cist)\n",
    "tail(cist)"
   ]
  },
  {
   "cell_type": "code",
   "execution_count": 48,
   "metadata": {},
   "outputs": [],
   "source": [
    "write.csv(cist, file = \"CallCenterExample1000.csv\", row.names = FALSE)"
   ]
  },
  {
   "cell_type": "markdown",
   "metadata": {},
   "source": [
    "# 끝"
   ]
  }
 ],
 "metadata": {
  "kernelspec": {
   "display_name": "R",
   "language": "R",
   "name": "ir"
  },
  "language_info": {
   "codemirror_mode": "r",
   "file_extension": ".r",
   "mimetype": "text/x-r-source",
   "name": "R",
   "pygments_lexer": "r",
   "version": "3.4.3"
  }
 },
 "nbformat": 4,
 "nbformat_minor": 2
}
