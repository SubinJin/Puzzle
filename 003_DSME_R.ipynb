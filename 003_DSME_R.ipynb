{
 "cells": [
  {
   "cell_type": "markdown",
   "metadata": {},
   "source": [
    "# 003_NIPA 조선 해양 과제 Handling\n",
    "## 1. Process가 NA이면 공정 - 이동, 아니면 공정 - 작업으로 공정명 변경\n",
    "## 2. 시작, 끝, Process, Navigate 컬럼 시간형식 바꾸기\n",
    "## 3. 도로명 안에 있는 , 제거하기\n",
    "## 4. 공정 Code명 공정명으로 변경하기\n",
    "## 5. '끝'이 Null인 값 처리\n",
    "## 6. 중량, 거리 컬럼값 Integer 변환 : ProDiscovery에서 Int만 인식함..\n",
    "## 7. 작업 / 이동 따로 분리하기\n",
    "## 8. Process, Navigate 가설"
   ]
  },
  {
   "cell_type": "code",
   "execution_count": 2,
   "metadata": {},
   "outputs": [
    {
     "name": "stdout",
     "output_type": "stream",
     "text": [
      "package 'dplyr' successfully unpacked and MD5 sums checked\n"
     ]
    },
    {
     "name": "stderr",
     "output_type": "stream",
     "text": [
      "Warning message:\n",
      "\"cannot remove prior installation of package 'dplyr'\""
     ]
    },
    {
     "name": "stdout",
     "output_type": "stream",
     "text": [
      "\n",
      "The downloaded binary packages are in\n",
      "\tC:\\Temp\\Rtmpmse42s\\downloaded_packages\n"
     ]
    },
    {
     "name": "stderr",
     "output_type": "stream",
     "text": [
      "\n",
      "Attaching package: 'dplyr'\n",
      "\n",
      "The following objects are masked from 'package:stats':\n",
      "\n",
      "    filter, lag\n",
      "\n",
      "The following objects are masked from 'package:base':\n",
      "\n",
      "    intersect, setdiff, setequal, union\n",
      "\n"
     ]
    },
    {
     "name": "stdout",
     "output_type": "stream",
     "text": [
      "package 'readxl' successfully unpacked and MD5 sums checked\n"
     ]
    },
    {
     "name": "stderr",
     "output_type": "stream",
     "text": [
      "Warning message:\n",
      "\"cannot remove prior installation of package 'readxl'\""
     ]
    },
    {
     "name": "stdout",
     "output_type": "stream",
     "text": [
      "\n",
      "The downloaded binary packages are in\n",
      "\tC:\\Temp\\Rtmpmse42s\\downloaded_packages\n",
      "package 'lubridate' successfully unpacked and MD5 sums checked\n"
     ]
    },
    {
     "name": "stderr",
     "output_type": "stream",
     "text": [
      "Warning message:\n",
      "\"cannot remove prior installation of package 'lubridate'\""
     ]
    },
    {
     "name": "stdout",
     "output_type": "stream",
     "text": [
      "\n",
      "The downloaded binary packages are in\n",
      "\tC:\\Temp\\Rtmpmse42s\\downloaded_packages\n"
     ]
    },
    {
     "name": "stderr",
     "output_type": "stream",
     "text": [
      "\n",
      "Attaching package: 'lubridate'\n",
      "\n",
      "The following object is masked from 'package:base':\n",
      "\n",
      "    date\n",
      "\n"
     ]
    }
   ],
   "source": [
    "install.packages(\"dplyr\")\n",
    "library(dplyr)\n",
    "install.packages(\"readxl\")\n",
    "library(readxl)\n",
    "install.packages(\"lubridate\")\n",
    "library(lubridate)"
   ]
  },
  {
   "cell_type": "code",
   "execution_count": 56,
   "metadata": {},
   "outputs": [],
   "source": [
    "nipa <- read_xlsx(\"C:\\\\Users\\\\진수빈\\\\Downloads\\\\180822_Simulation_Results.xlsx\")"
   ]
  },
  {
   "cell_type": "code",
   "execution_count": 57,
   "metadata": {},
   "outputs": [
    {
     "data": {
      "text/html": [
       "<table>\n",
       "<thead><tr><th scope=col>공정</th><th scope=col>시작</th><th scope=col>끝</th><th scope=col>Process</th><th scope=col>설비</th><th scope=col>제품</th><th scope=col>중량</th><th scope=col>Navigate</th><th scope=col>도로</th><th scope=col>공장</th><th scope=col>거리</th></tr></thead>\n",
       "<tbody>\n",
       "\t<tr><td>BSA000                  </td><td>2016-12-07 오전 1:12:00 </td><td>2016-12-07 오전 1:12:00 </td><td>NA                      </td><td>#101                    </td><td>1040_988_0              </td><td> 82.1                   </td><td>NA                      </td><td>NA                      </td><td>PO30                    </td><td>0                       </td></tr>\n",
       "\t<tr><td>BSA000                  </td><td>2016-12-07 오전 1:12:00 </td><td>2017-03-22 오전 3:08:42 </td><td>2017-03-22 오전 3:08:42 </td><td>NA                      </td><td>1040_988_0              </td><td> 82.1                   </td><td>NA                      </td><td>NA                      </td><td>PO30                    </td><td>0                       </td></tr>\n",
       "\t<tr><td>BSA000                  </td><td>2016-12-13 오전 1:12:00 </td><td>2016-12-13 오전 1:12:00 </td><td>NA                      </td><td>#101                    </td><td>1047_998_0              </td><td> 96.3                   </td><td>NA                      </td><td>NA                      </td><td>DM30                    </td><td>0                       </td></tr>\n",
       "\t<tr><td>BSA000                  </td><td>2016-12-13 오전 1:12:00 </td><td>2017-04-17 오전 1:13:47 </td><td>2017-04-17 오전 1:13:47 </td><td>NA                      </td><td>1047_998_0              </td><td> 96.3                   </td><td>NA                      </td><td>NA                      </td><td>DM30                    </td><td>0                       </td></tr>\n",
       "\t<tr><td>BSA000                  </td><td>2016-12-19 오전 1:12:00 </td><td>2016-12-19 오전 1:12:00 </td><td>NA                      </td><td>#354                    </td><td>1002_131_3              </td><td>283.0                   </td><td>NA                      </td><td>NA                      </td><td>3D3B                    </td><td>0                       </td></tr>\n",
       "\t<tr><td>BSA000                  </td><td>2016-12-19 오전 1:12:00 </td><td>2017-03-16 오전 12:46:19</td><td>2017-03-16 오전 12:46:19</td><td>NA                      </td><td>1002_131_3              </td><td>283.0                   </td><td>NA                      </td><td>NA                      </td><td>3D3B                    </td><td>0                       </td></tr>\n",
       "</tbody>\n",
       "</table>\n"
      ],
      "text/latex": [
       "\\begin{tabular}{r|lllllllllll}\n",
       " 공정 & 시작 & 끝 & Process & 설비 & 제품 & 중량 & Navigate & 도로 & 공장 & 거리\\\\\n",
       "\\hline\n",
       "\t BSA000                   & 2016-12-07 오전 1:12:00  & 2016-12-07 오전 1:12:00  & NA                       & \\#101                   & 1040\\_988\\_0           &  82.1                    & NA                       & NA                       & PO30                     & 0                       \\\\\n",
       "\t BSA000                   & 2016-12-07 오전 1:12:00  & 2017-03-22 오전 3:08:42  & 2017-03-22 오전 3:08:42  & NA                       & 1040\\_988\\_0           &  82.1                    & NA                       & NA                       & PO30                     & 0                       \\\\\n",
       "\t BSA000                   & 2016-12-13 오전 1:12:00  & 2016-12-13 오전 1:12:00  & NA                       & \\#101                   & 1047\\_998\\_0           &  96.3                    & NA                       & NA                       & DM30                     & 0                       \\\\\n",
       "\t BSA000                   & 2016-12-13 오전 1:12:00  & 2017-04-17 오전 1:13:47  & 2017-04-17 오전 1:13:47  & NA                       & 1047\\_998\\_0           &  96.3                    & NA                       & NA                       & DM30                     & 0                       \\\\\n",
       "\t BSA000                   & 2016-12-19 오전 1:12:00  & 2016-12-19 오전 1:12:00  & NA                       & \\#354                   & 1002\\_131\\_3           & 283.0                    & NA                       & NA                       & 3D3B                     & 0                       \\\\\n",
       "\t BSA000                   & 2016-12-19 오전 1:12:00  & 2017-03-16 오전 12:46:19 & 2017-03-16 오전 12:46:19 & NA                       & 1002\\_131\\_3           & 283.0                    & NA                       & NA                       & 3D3B                     & 0                       \\\\\n",
       "\\end{tabular}\n"
      ],
      "text/markdown": [
       "\n",
       "공정 | 시작 | 끝 | Process | 설비 | 제품 | 중량 | Navigate | 도로 | 공장 | 거리 | \n",
       "|---|---|---|---|---|---|\n",
       "| BSA000                   | 2016-12-07 오전 1:12:00  | 2016-12-07 오전 1:12:00  | NA                       | #101                     | 1040_988_0               |  82.1                    | NA                       | NA                       | PO30                     | 0                        | \n",
       "| BSA000                   | 2016-12-07 오전 1:12:00  | 2017-03-22 오전 3:08:42  | 2017-03-22 오전 3:08:42  | NA                       | 1040_988_0               |  82.1                    | NA                       | NA                       | PO30                     | 0                        | \n",
       "| BSA000                   | 2016-12-13 오전 1:12:00  | 2016-12-13 오전 1:12:00  | NA                       | #101                     | 1047_998_0               |  96.3                    | NA                       | NA                       | DM30                     | 0                        | \n",
       "| BSA000                   | 2016-12-13 오전 1:12:00  | 2017-04-17 오전 1:13:47  | 2017-04-17 오전 1:13:47  | NA                       | 1047_998_0               |  96.3                    | NA                       | NA                       | DM30                     | 0                        | \n",
       "| BSA000                   | 2016-12-19 오전 1:12:00  | 2016-12-19 오전 1:12:00  | NA                       | #354                     | 1002_131_3               | 283.0                    | NA                       | NA                       | 3D3B                     | 0                        | \n",
       "| BSA000                   | 2016-12-19 오전 1:12:00  | 2017-03-16 오전 12:46:19 | 2017-03-16 오전 12:46:19 | NA                       | 1002_131_3               | 283.0                    | NA                       | NA                       | 3D3B                     | 0                        | \n",
       "\n",
       "\n"
      ],
      "text/plain": [
       "  공정   시작                    끝                      \n",
       "1 BSA000 2016-12-07 오전 1:12:00 2016-12-07 오전 1:12:00 \n",
       "2 BSA000 2016-12-07 오전 1:12:00 2017-03-22 오전 3:08:42 \n",
       "3 BSA000 2016-12-13 오전 1:12:00 2016-12-13 오전 1:12:00 \n",
       "4 BSA000 2016-12-13 오전 1:12:00 2017-04-17 오전 1:13:47 \n",
       "5 BSA000 2016-12-19 오전 1:12:00 2016-12-19 오전 1:12:00 \n",
       "6 BSA000 2016-12-19 오전 1:12:00 2017-03-16 오전 12:46:19\n",
       "  Process                  설비 제품       중량  Navigate 도로 공장 거리\n",
       "1 NA                       #101 1040_988_0  82.1 NA       NA   PO30 0   \n",
       "2 2017-03-22 오전 3:08:42  NA   1040_988_0  82.1 NA       NA   PO30 0   \n",
       "3 NA                       #101 1047_998_0  96.3 NA       NA   DM30 0   \n",
       "4 2017-04-17 오전 1:13:47  NA   1047_998_0  96.3 NA       NA   DM30 0   \n",
       "5 NA                       #354 1002_131_3 283.0 NA       NA   3D3B 0   \n",
       "6 2017-03-16 오전 12:46:19 NA   1002_131_3 283.0 NA       NA   3D3B 0   "
      ]
     },
     "metadata": {},
     "output_type": "display_data"
    }
   ],
   "source": [
    "head(nipa)"
   ]
  },
  {
   "cell_type": "markdown",
   "metadata": {},
   "source": [
    "## 1. Process가 NA이면 공정 - 이동, 아니면 공정 - 작업으로 공정명 변경"
   ]
  },
  {
   "cell_type": "code",
   "execution_count": 58,
   "metadata": {},
   "outputs": [
    {
     "data": {
      "text/html": [
       "<table>\n",
       "<thead><tr><th scope=col>공정</th><th scope=col>시작</th><th scope=col>끝</th><th scope=col>Process</th><th scope=col>설비</th><th scope=col>제품</th><th scope=col>중량</th><th scope=col>Navigate</th><th scope=col>도로</th><th scope=col>공장</th><th scope=col>거리</th></tr></thead>\n",
       "<tbody>\n",
       "\t<tr><td>BSA000_이동             </td><td>2016-12-07 오전 1:12:00 </td><td>2016-12-07 오전 1:12:00 </td><td>NA                      </td><td>#101                    </td><td>1040_988_0              </td><td> 82.1                   </td><td>NA                      </td><td>NA                      </td><td>PO30                    </td><td>0                       </td></tr>\n",
       "\t<tr><td>BSA000_작업             </td><td>2016-12-07 오전 1:12:00 </td><td>2017-03-22 오전 3:08:42 </td><td>2017-03-22 오전 3:08:42 </td><td>NA                      </td><td>1040_988_0              </td><td> 82.1                   </td><td>NA                      </td><td>NA                      </td><td>PO30                    </td><td>0                       </td></tr>\n",
       "\t<tr><td>BSA000_이동             </td><td>2016-12-13 오전 1:12:00 </td><td>2016-12-13 오전 1:12:00 </td><td>NA                      </td><td>#101                    </td><td>1047_998_0              </td><td> 96.3                   </td><td>NA                      </td><td>NA                      </td><td>DM30                    </td><td>0                       </td></tr>\n",
       "\t<tr><td>BSA000_작업             </td><td>2016-12-13 오전 1:12:00 </td><td>2017-04-17 오전 1:13:47 </td><td>2017-04-17 오전 1:13:47 </td><td>NA                      </td><td>1047_998_0              </td><td> 96.3                   </td><td>NA                      </td><td>NA                      </td><td>DM30                    </td><td>0                       </td></tr>\n",
       "\t<tr><td>BSA000_이동             </td><td>2016-12-19 오전 1:12:00 </td><td>2016-12-19 오전 1:12:00 </td><td>NA                      </td><td>#354                    </td><td>1002_131_3              </td><td>283.0                   </td><td>NA                      </td><td>NA                      </td><td>3D3B                    </td><td>0                       </td></tr>\n",
       "\t<tr><td>BSA000_작업             </td><td>2016-12-19 오전 1:12:00 </td><td>2017-03-16 오전 12:46:19</td><td>2017-03-16 오전 12:46:19</td><td>NA                      </td><td>1002_131_3              </td><td>283.0                   </td><td>NA                      </td><td>NA                      </td><td>3D3B                    </td><td>0                       </td></tr>\n",
       "</tbody>\n",
       "</table>\n"
      ],
      "text/latex": [
       "\\begin{tabular}{r|lllllllllll}\n",
       " 공정 & 시작 & 끝 & Process & 설비 & 제품 & 중량 & Navigate & 도로 & 공장 & 거리\\\\\n",
       "\\hline\n",
       "\t BSA000\\_이동            & 2016-12-07 오전 1:12:00  & 2016-12-07 오전 1:12:00  & NA                       & \\#101                   & 1040\\_988\\_0           &  82.1                    & NA                       & NA                       & PO30                     & 0                       \\\\\n",
       "\t BSA000\\_작업            & 2016-12-07 오전 1:12:00  & 2017-03-22 오전 3:08:42  & 2017-03-22 오전 3:08:42  & NA                       & 1040\\_988\\_0           &  82.1                    & NA                       & NA                       & PO30                     & 0                       \\\\\n",
       "\t BSA000\\_이동            & 2016-12-13 오전 1:12:00  & 2016-12-13 오전 1:12:00  & NA                       & \\#101                   & 1047\\_998\\_0           &  96.3                    & NA                       & NA                       & DM30                     & 0                       \\\\\n",
       "\t BSA000\\_작업            & 2016-12-13 오전 1:12:00  & 2017-04-17 오전 1:13:47  & 2017-04-17 오전 1:13:47  & NA                       & 1047\\_998\\_0           &  96.3                    & NA                       & NA                       & DM30                     & 0                       \\\\\n",
       "\t BSA000\\_이동            & 2016-12-19 오전 1:12:00  & 2016-12-19 오전 1:12:00  & NA                       & \\#354                   & 1002\\_131\\_3           & 283.0                    & NA                       & NA                       & 3D3B                     & 0                       \\\\\n",
       "\t BSA000\\_작업            & 2016-12-19 오전 1:12:00  & 2017-03-16 오전 12:46:19 & 2017-03-16 오전 12:46:19 & NA                       & 1002\\_131\\_3           & 283.0                    & NA                       & NA                       & 3D3B                     & 0                       \\\\\n",
       "\\end{tabular}\n"
      ],
      "text/markdown": [
       "\n",
       "공정 | 시작 | 끝 | Process | 설비 | 제품 | 중량 | Navigate | 도로 | 공장 | 거리 | \n",
       "|---|---|---|---|---|---|\n",
       "| BSA000_이동              | 2016-12-07 오전 1:12:00  | 2016-12-07 오전 1:12:00  | NA                       | #101                     | 1040_988_0               |  82.1                    | NA                       | NA                       | PO30                     | 0                        | \n",
       "| BSA000_작업              | 2016-12-07 오전 1:12:00  | 2017-03-22 오전 3:08:42  | 2017-03-22 오전 3:08:42  | NA                       | 1040_988_0               |  82.1                    | NA                       | NA                       | PO30                     | 0                        | \n",
       "| BSA000_이동              | 2016-12-13 오전 1:12:00  | 2016-12-13 오전 1:12:00  | NA                       | #101                     | 1047_998_0               |  96.3                    | NA                       | NA                       | DM30                     | 0                        | \n",
       "| BSA000_작업              | 2016-12-13 오전 1:12:00  | 2017-04-17 오전 1:13:47  | 2017-04-17 오전 1:13:47  | NA                       | 1047_998_0               |  96.3                    | NA                       | NA                       | DM30                     | 0                        | \n",
       "| BSA000_이동              | 2016-12-19 오전 1:12:00  | 2016-12-19 오전 1:12:00  | NA                       | #354                     | 1002_131_3               | 283.0                    | NA                       | NA                       | 3D3B                     | 0                        | \n",
       "| BSA000_작업              | 2016-12-19 오전 1:12:00  | 2017-03-16 오전 12:46:19 | 2017-03-16 오전 12:46:19 | NA                       | 1002_131_3               | 283.0                    | NA                       | NA                       | 3D3B                     | 0                        | \n",
       "\n",
       "\n"
      ],
      "text/plain": [
       "  공정        시작                    끝                      \n",
       "1 BSA000_이동 2016-12-07 오전 1:12:00 2016-12-07 오전 1:12:00 \n",
       "2 BSA000_작업 2016-12-07 오전 1:12:00 2017-03-22 오전 3:08:42 \n",
       "3 BSA000_이동 2016-12-13 오전 1:12:00 2016-12-13 오전 1:12:00 \n",
       "4 BSA000_작업 2016-12-13 오전 1:12:00 2017-04-17 오전 1:13:47 \n",
       "5 BSA000_이동 2016-12-19 오전 1:12:00 2016-12-19 오전 1:12:00 \n",
       "6 BSA000_작업 2016-12-19 오전 1:12:00 2017-03-16 오전 12:46:19\n",
       "  Process                  설비 제품       중량  Navigate 도로 공장 거리\n",
       "1 NA                       #101 1040_988_0  82.1 NA       NA   PO30 0   \n",
       "2 2017-03-22 오전 3:08:42  NA   1040_988_0  82.1 NA       NA   PO30 0   \n",
       "3 NA                       #101 1047_998_0  96.3 NA       NA   DM30 0   \n",
       "4 2017-04-17 오전 1:13:47  NA   1047_998_0  96.3 NA       NA   DM30 0   \n",
       "5 NA                       #354 1002_131_3 283.0 NA       NA   3D3B 0   \n",
       "6 2017-03-16 오전 12:46:19 NA   1002_131_3 283.0 NA       NA   3D3B 0   "
      ]
     },
     "metadata": {},
     "output_type": "display_data"
    }
   ],
   "source": [
    "nipa$공정 <- ifelse(is.na(nipa$Process) == TRUE, paste0(nipa$공정, \"_이동\"), paste0(nipa$공정, \"_작업\"))\n",
    "head(nipa)"
   ]
  },
  {
   "cell_type": "markdown",
   "metadata": {},
   "source": [
    "## 2. 시작, 끝, Process, Navigate 컬럼 시간형식 바꾸기"
   ]
  },
  {
   "cell_type": "markdown",
   "metadata": {},
   "source": [
    "### 1) 시작"
   ]
  },
  {
   "cell_type": "code",
   "execution_count": 59,
   "metadata": {},
   "outputs": [
    {
     "data": {
      "text/html": [
       "<ol class=list-inline>\n",
       "\t<li>'2016-12-07 오전 1:12:00'</li>\n",
       "\t<li>'2016-12-07 오전 1:12:00'</li>\n",
       "\t<li>'2016-12-13 오전 1:12:00'</li>\n",
       "\t<li>'2016-12-13 오전 1:12:00'</li>\n",
       "\t<li>'2016-12-19 오전 1:12:00'</li>\n",
       "\t<li>'2016-12-19 오전 1:12:00'</li>\n",
       "</ol>\n"
      ],
      "text/latex": [
       "\\begin{enumerate*}\n",
       "\\item '2016-12-07 오전 1:12:00'\n",
       "\\item '2016-12-07 오전 1:12:00'\n",
       "\\item '2016-12-13 오전 1:12:00'\n",
       "\\item '2016-12-13 오전 1:12:00'\n",
       "\\item '2016-12-19 오전 1:12:00'\n",
       "\\item '2016-12-19 오전 1:12:00'\n",
       "\\end{enumerate*}\n"
      ],
      "text/markdown": [
       "1. '2016-12-07 오전 1:12:00'\n",
       "2. '2016-12-07 오전 1:12:00'\n",
       "3. '2016-12-13 오전 1:12:00'\n",
       "4. '2016-12-13 오전 1:12:00'\n",
       "5. '2016-12-19 오전 1:12:00'\n",
       "6. '2016-12-19 오전 1:12:00'\n",
       "\n",
       "\n"
      ],
      "text/plain": [
       "[1] \"2016-12-07 오전 1:12:00\" \"2016-12-07 오전 1:12:00\"\n",
       "[3] \"2016-12-13 오전 1:12:00\" \"2016-12-13 오전 1:12:00\"\n",
       "[5] \"2016-12-19 오전 1:12:00\" \"2016-12-19 오전 1:12:00\""
      ]
     },
     "metadata": {},
     "output_type": "display_data"
    },
    {
     "data": {
      "text/html": [
       "'character'"
      ],
      "text/latex": [
       "'character'"
      ],
      "text/markdown": [
       "'character'"
      ],
      "text/plain": [
       "[1] \"character\""
      ]
     },
     "metadata": {},
     "output_type": "display_data"
    }
   ],
   "source": [
    "st <- nipa$시작\n",
    "head(st)\n",
    "class(st)"
   ]
  },
  {
   "cell_type": "code",
   "execution_count": 60,
   "metadata": {},
   "outputs": [
    {
     "data": {
      "text/html": [
       "<ol>\n",
       "\t<li><ol class=list-inline>\n",
       "\t<li>'2016-12-07'</li>\n",
       "\t<li>'오전'</li>\n",
       "\t<li>'1:12:00'</li>\n",
       "</ol>\n",
       "</li>\n",
       "\t<li><ol class=list-inline>\n",
       "\t<li>'2016-12-07'</li>\n",
       "\t<li>'오전'</li>\n",
       "\t<li>'1:12:00'</li>\n",
       "</ol>\n",
       "</li>\n",
       "\t<li><ol class=list-inline>\n",
       "\t<li>'2016-12-13'</li>\n",
       "\t<li>'오전'</li>\n",
       "\t<li>'1:12:00'</li>\n",
       "</ol>\n",
       "</li>\n",
       "\t<li><ol class=list-inline>\n",
       "\t<li>'2016-12-13'</li>\n",
       "\t<li>'오전'</li>\n",
       "\t<li>'1:12:00'</li>\n",
       "</ol>\n",
       "</li>\n",
       "\t<li><ol class=list-inline>\n",
       "\t<li>'2016-12-19'</li>\n",
       "\t<li>'오전'</li>\n",
       "\t<li>'1:12:00'</li>\n",
       "</ol>\n",
       "</li>\n",
       "\t<li><ol class=list-inline>\n",
       "\t<li>'2016-12-19'</li>\n",
       "\t<li>'오전'</li>\n",
       "\t<li>'1:12:00'</li>\n",
       "</ol>\n",
       "</li>\n",
       "</ol>\n"
      ],
      "text/latex": [
       "\\begin{enumerate}\n",
       "\\item \\begin{enumerate*}\n",
       "\\item '2016-12-07'\n",
       "\\item '오전'\n",
       "\\item '1:12:00'\n",
       "\\end{enumerate*}\n",
       "\n",
       "\\item \\begin{enumerate*}\n",
       "\\item '2016-12-07'\n",
       "\\item '오전'\n",
       "\\item '1:12:00'\n",
       "\\end{enumerate*}\n",
       "\n",
       "\\item \\begin{enumerate*}\n",
       "\\item '2016-12-13'\n",
       "\\item '오전'\n",
       "\\item '1:12:00'\n",
       "\\end{enumerate*}\n",
       "\n",
       "\\item \\begin{enumerate*}\n",
       "\\item '2016-12-13'\n",
       "\\item '오전'\n",
       "\\item '1:12:00'\n",
       "\\end{enumerate*}\n",
       "\n",
       "\\item \\begin{enumerate*}\n",
       "\\item '2016-12-19'\n",
       "\\item '오전'\n",
       "\\item '1:12:00'\n",
       "\\end{enumerate*}\n",
       "\n",
       "\\item \\begin{enumerate*}\n",
       "\\item '2016-12-19'\n",
       "\\item '오전'\n",
       "\\item '1:12:00'\n",
       "\\end{enumerate*}\n",
       "\n",
       "\\end{enumerate}\n"
      ],
      "text/markdown": [
       "1. 1. '2016-12-07'\n",
       "2. '오전'\n",
       "3. '1:12:00'\n",
       "\n",
       "\n",
       "\n",
       "2. 1. '2016-12-07'\n",
       "2. '오전'\n",
       "3. '1:12:00'\n",
       "\n",
       "\n",
       "\n",
       "3. 1. '2016-12-13'\n",
       "2. '오전'\n",
       "3. '1:12:00'\n",
       "\n",
       "\n",
       "\n",
       "4. 1. '2016-12-13'\n",
       "2. '오전'\n",
       "3. '1:12:00'\n",
       "\n",
       "\n",
       "\n",
       "5. 1. '2016-12-19'\n",
       "2. '오전'\n",
       "3. '1:12:00'\n",
       "\n",
       "\n",
       "\n",
       "6. 1. '2016-12-19'\n",
       "2. '오전'\n",
       "3. '1:12:00'\n",
       "\n",
       "\n",
       "\n",
       "\n",
       "\n"
      ],
      "text/plain": [
       "[[1]]\n",
       "[1] \"2016-12-07\" \"오전\"       \"1:12:00\"   \n",
       "\n",
       "[[2]]\n",
       "[1] \"2016-12-07\" \"오전\"       \"1:12:00\"   \n",
       "\n",
       "[[3]]\n",
       "[1] \"2016-12-13\" \"오전\"       \"1:12:00\"   \n",
       "\n",
       "[[4]]\n",
       "[1] \"2016-12-13\" \"오전\"       \"1:12:00\"   \n",
       "\n",
       "[[5]]\n",
       "[1] \"2016-12-19\" \"오전\"       \"1:12:00\"   \n",
       "\n",
       "[[6]]\n",
       "[1] \"2016-12-19\" \"오전\"       \"1:12:00\"   \n"
      ]
     },
     "metadata": {},
     "output_type": "display_data"
    }
   ],
   "source": [
    "st <- strsplit(st, split = \" \")\n",
    "head(st)"
   ]
  },
  {
   "cell_type": "code",
   "execution_count": 61,
   "metadata": {},
   "outputs": [
    {
     "data": {
      "text/html": [
       "<table>\n",
       "<thead><tr><th scope=col>X1</th><th scope=col>X2</th><th scope=col>X3</th></tr></thead>\n",
       "<tbody>\n",
       "\t<tr><td>2016-12-07</td><td>오전      </td><td>1:12:00   </td></tr>\n",
       "\t<tr><td>2016-12-07</td><td>오전      </td><td>1:12:00   </td></tr>\n",
       "\t<tr><td>2016-12-13</td><td>오전      </td><td>1:12:00   </td></tr>\n",
       "\t<tr><td>2016-12-13</td><td>오전      </td><td>1:12:00   </td></tr>\n",
       "\t<tr><td>2016-12-19</td><td>오전      </td><td>1:12:00   </td></tr>\n",
       "\t<tr><td>2016-12-19</td><td>오전      </td><td>1:12:00   </td></tr>\n",
       "</tbody>\n",
       "</table>\n"
      ],
      "text/latex": [
       "\\begin{tabular}{r|lll}\n",
       " X1 & X2 & X3\\\\\n",
       "\\hline\n",
       "\t 2016-12-07 & 오전       & 1:12:00   \\\\\n",
       "\t 2016-12-07 & 오전       & 1:12:00   \\\\\n",
       "\t 2016-12-13 & 오전       & 1:12:00   \\\\\n",
       "\t 2016-12-13 & 오전       & 1:12:00   \\\\\n",
       "\t 2016-12-19 & 오전       & 1:12:00   \\\\\n",
       "\t 2016-12-19 & 오전       & 1:12:00   \\\\\n",
       "\\end{tabular}\n"
      ],
      "text/markdown": [
       "\n",
       "X1 | X2 | X3 | \n",
       "|---|---|---|---|---|---|\n",
       "| 2016-12-07 | 오전       | 1:12:00    | \n",
       "| 2016-12-07 | 오전       | 1:12:00    | \n",
       "| 2016-12-13 | 오전       | 1:12:00    | \n",
       "| 2016-12-13 | 오전       | 1:12:00    | \n",
       "| 2016-12-19 | 오전       | 1:12:00    | \n",
       "| 2016-12-19 | 오전       | 1:12:00    | \n",
       "\n",
       "\n"
      ],
      "text/plain": [
       "  X1         X2   X3     \n",
       "1 2016-12-07 오전 1:12:00\n",
       "2 2016-12-07 오전 1:12:00\n",
       "3 2016-12-13 오전 1:12:00\n",
       "4 2016-12-13 오전 1:12:00\n",
       "5 2016-12-19 오전 1:12:00\n",
       "6 2016-12-19 오전 1:12:00"
      ]
     },
     "metadata": {},
     "output_type": "display_data"
    }
   ],
   "source": [
    "st <- data.frame(t(sapply(st, '[')))\n",
    "head(st)"
   ]
  },
  {
   "cell_type": "code",
   "execution_count": 62,
   "metadata": {},
   "outputs": [
    {
     "data": {
      "text/html": [
       "'factor'"
      ],
      "text/latex": [
       "'factor'"
      ],
      "text/markdown": [
       "'factor'"
      ],
      "text/plain": [
       "[1] \"factor\""
      ]
     },
     "metadata": {},
     "output_type": "display_data"
    }
   ],
   "source": [
    "class(st$X2)"
   ]
  },
  {
   "cell_type": "code",
   "execution_count": 63,
   "metadata": {},
   "outputs": [
    {
     "data": {
      "text/html": [
       "<table>\n",
       "<thead><tr><th scope=col>X1</th><th scope=col>X2</th><th scope=col>X3</th></tr></thead>\n",
       "<tbody>\n",
       "\t<tr><td>2016-12-07</td><td>오전      </td><td>1:12:00   </td></tr>\n",
       "\t<tr><td>2016-12-07</td><td>오전      </td><td>1:12:00   </td></tr>\n",
       "\t<tr><td>2016-12-13</td><td>오전      </td><td>1:12:00   </td></tr>\n",
       "\t<tr><td>2016-12-13</td><td>오전      </td><td>1:12:00   </td></tr>\n",
       "\t<tr><td>2016-12-19</td><td>오전      </td><td>1:12:00   </td></tr>\n",
       "\t<tr><td>2016-12-19</td><td>오전      </td><td>1:12:00   </td></tr>\n",
       "</tbody>\n",
       "</table>\n"
      ],
      "text/latex": [
       "\\begin{tabular}{r|lll}\n",
       " X1 & X2 & X3\\\\\n",
       "\\hline\n",
       "\t 2016-12-07 & 오전       & 1:12:00   \\\\\n",
       "\t 2016-12-07 & 오전       & 1:12:00   \\\\\n",
       "\t 2016-12-13 & 오전       & 1:12:00   \\\\\n",
       "\t 2016-12-13 & 오전       & 1:12:00   \\\\\n",
       "\t 2016-12-19 & 오전       & 1:12:00   \\\\\n",
       "\t 2016-12-19 & 오전       & 1:12:00   \\\\\n",
       "\\end{tabular}\n"
      ],
      "text/markdown": [
       "\n",
       "X1 | X2 | X3 | \n",
       "|---|---|---|---|---|---|\n",
       "| 2016-12-07 | 오전       | 1:12:00    | \n",
       "| 2016-12-07 | 오전       | 1:12:00    | \n",
       "| 2016-12-13 | 오전       | 1:12:00    | \n",
       "| 2016-12-13 | 오전       | 1:12:00    | \n",
       "| 2016-12-19 | 오전       | 1:12:00    | \n",
       "| 2016-12-19 | 오전       | 1:12:00    | \n",
       "\n",
       "\n"
      ],
      "text/plain": [
       "  X1         X2   X3     \n",
       "1 2016-12-07 오전 1:12:00\n",
       "2 2016-12-07 오전 1:12:00\n",
       "3 2016-12-13 오전 1:12:00\n",
       "4 2016-12-13 오전 1:12:00\n",
       "5 2016-12-19 오전 1:12:00\n",
       "6 2016-12-19 오전 1:12:00"
      ]
     },
     "metadata": {},
     "output_type": "display_data"
    },
    {
     "data": {
      "text/html": [
       "'character'"
      ],
      "text/latex": [
       "'character'"
      ],
      "text/markdown": [
       "'character'"
      ],
      "text/plain": [
       "[1] \"character\""
      ]
     },
     "metadata": {},
     "output_type": "display_data"
    }
   ],
   "source": [
    "st$X2 <- as.character(st$X2)\n",
    "head(st)\n",
    "class(st$X2)"
   ]
  },
  {
   "cell_type": "code",
   "execution_count": 64,
   "metadata": {},
   "outputs": [
    {
     "data": {
      "text/html": [
       "<table>\n",
       "<thead><tr><th scope=col>X1</th><th scope=col>X2</th><th scope=col>X3</th></tr></thead>\n",
       "<tbody>\n",
       "\t<tr><td>2016-12-07</td><td>am        </td><td>1:12:00   </td></tr>\n",
       "\t<tr><td>2016-12-07</td><td>am        </td><td>1:12:00   </td></tr>\n",
       "\t<tr><td>2016-12-13</td><td>am        </td><td>1:12:00   </td></tr>\n",
       "\t<tr><td>2016-12-13</td><td>am        </td><td>1:12:00   </td></tr>\n",
       "\t<tr><td>2016-12-19</td><td>am        </td><td>1:12:00   </td></tr>\n",
       "\t<tr><td>2016-12-19</td><td>am        </td><td>1:12:00   </td></tr>\n",
       "</tbody>\n",
       "</table>\n"
      ],
      "text/latex": [
       "\\begin{tabular}{r|lll}\n",
       " X1 & X2 & X3\\\\\n",
       "\\hline\n",
       "\t 2016-12-07 & am         & 1:12:00   \\\\\n",
       "\t 2016-12-07 & am         & 1:12:00   \\\\\n",
       "\t 2016-12-13 & am         & 1:12:00   \\\\\n",
       "\t 2016-12-13 & am         & 1:12:00   \\\\\n",
       "\t 2016-12-19 & am         & 1:12:00   \\\\\n",
       "\t 2016-12-19 & am         & 1:12:00   \\\\\n",
       "\\end{tabular}\n"
      ],
      "text/markdown": [
       "\n",
       "X1 | X2 | X3 | \n",
       "|---|---|---|---|---|---|\n",
       "| 2016-12-07 | am         | 1:12:00    | \n",
       "| 2016-12-07 | am         | 1:12:00    | \n",
       "| 2016-12-13 | am         | 1:12:00    | \n",
       "| 2016-12-13 | am         | 1:12:00    | \n",
       "| 2016-12-19 | am         | 1:12:00    | \n",
       "| 2016-12-19 | am         | 1:12:00    | \n",
       "\n",
       "\n"
      ],
      "text/plain": [
       "  X1         X2 X3     \n",
       "1 2016-12-07 am 1:12:00\n",
       "2 2016-12-07 am 1:12:00\n",
       "3 2016-12-13 am 1:12:00\n",
       "4 2016-12-13 am 1:12:00\n",
       "5 2016-12-19 am 1:12:00\n",
       "6 2016-12-19 am 1:12:00"
      ]
     },
     "metadata": {},
     "output_type": "display_data"
    }
   ],
   "source": [
    "st$X2 <- ifelse(st$X2 == \"오전\", st$X2 <- \"am\", st$X2 <- \"pm\")\n",
    "head(st)"
   ]
  },
  {
   "cell_type": "code",
   "execution_count": 65,
   "metadata": {},
   "outputs": [
    {
     "data": {
      "text/html": [
       "<table>\n",
       "<thead><tr><th scope=col>X1</th><th scope=col>X2</th><th scope=col>X3</th><th scope=col>X4</th></tr></thead>\n",
       "<tbody>\n",
       "\t<tr><td>2016-12-07           </td><td>am                   </td><td>1:12:00              </td><td>2016-12-07 1:12:00 am</td></tr>\n",
       "\t<tr><td>2016-12-07           </td><td>am                   </td><td>1:12:00              </td><td>2016-12-07 1:12:00 am</td></tr>\n",
       "\t<tr><td>2016-12-13           </td><td>am                   </td><td>1:12:00              </td><td>2016-12-13 1:12:00 am</td></tr>\n",
       "\t<tr><td>2016-12-13           </td><td>am                   </td><td>1:12:00              </td><td>2016-12-13 1:12:00 am</td></tr>\n",
       "\t<tr><td>2016-12-19           </td><td>am                   </td><td>1:12:00              </td><td>2016-12-19 1:12:00 am</td></tr>\n",
       "\t<tr><td>2016-12-19           </td><td>am                   </td><td>1:12:00              </td><td>2016-12-19 1:12:00 am</td></tr>\n",
       "</tbody>\n",
       "</table>\n"
      ],
      "text/latex": [
       "\\begin{tabular}{r|llll}\n",
       " X1 & X2 & X3 & X4\\\\\n",
       "\\hline\n",
       "\t 2016-12-07            & am                    & 1:12:00               & 2016-12-07 1:12:00 am\\\\\n",
       "\t 2016-12-07            & am                    & 1:12:00               & 2016-12-07 1:12:00 am\\\\\n",
       "\t 2016-12-13            & am                    & 1:12:00               & 2016-12-13 1:12:00 am\\\\\n",
       "\t 2016-12-13            & am                    & 1:12:00               & 2016-12-13 1:12:00 am\\\\\n",
       "\t 2016-12-19            & am                    & 1:12:00               & 2016-12-19 1:12:00 am\\\\\n",
       "\t 2016-12-19            & am                    & 1:12:00               & 2016-12-19 1:12:00 am\\\\\n",
       "\\end{tabular}\n"
      ],
      "text/markdown": [
       "\n",
       "X1 | X2 | X3 | X4 | \n",
       "|---|---|---|---|---|---|\n",
       "| 2016-12-07            | am                    | 1:12:00               | 2016-12-07 1:12:00 am | \n",
       "| 2016-12-07            | am                    | 1:12:00               | 2016-12-07 1:12:00 am | \n",
       "| 2016-12-13            | am                    | 1:12:00               | 2016-12-13 1:12:00 am | \n",
       "| 2016-12-13            | am                    | 1:12:00               | 2016-12-13 1:12:00 am | \n",
       "| 2016-12-19            | am                    | 1:12:00               | 2016-12-19 1:12:00 am | \n",
       "| 2016-12-19            | am                    | 1:12:00               | 2016-12-19 1:12:00 am | \n",
       "\n",
       "\n"
      ],
      "text/plain": [
       "  X1         X2 X3      X4                   \n",
       "1 2016-12-07 am 1:12:00 2016-12-07 1:12:00 am\n",
       "2 2016-12-07 am 1:12:00 2016-12-07 1:12:00 am\n",
       "3 2016-12-13 am 1:12:00 2016-12-13 1:12:00 am\n",
       "4 2016-12-13 am 1:12:00 2016-12-13 1:12:00 am\n",
       "5 2016-12-19 am 1:12:00 2016-12-19 1:12:00 am\n",
       "6 2016-12-19 am 1:12:00 2016-12-19 1:12:00 am"
      ]
     },
     "metadata": {},
     "output_type": "display_data"
    }
   ],
   "source": [
    "st$X4 <- paste(st$X1, st$X3, st$X2)\n",
    "head(st)"
   ]
  },
  {
   "cell_type": "code",
   "execution_count": 66,
   "metadata": {},
   "outputs": [
    {
     "data": {
      "text/html": [
       "<table>\n",
       "<thead><tr><th scope=col>X1</th><th scope=col>X2</th><th scope=col>X3</th><th scope=col>X4</th><th scope=col>X5</th></tr></thead>\n",
       "<tbody>\n",
       "\t<tr><td>2016-12-07           </td><td>am                   </td><td>1:12:00              </td><td>2016-12-07 1:12:00 am</td><td>2016-12-07 01:12:00  </td></tr>\n",
       "\t<tr><td>2016-12-07           </td><td>am                   </td><td>1:12:00              </td><td>2016-12-07 1:12:00 am</td><td>2016-12-07 01:12:00  </td></tr>\n",
       "\t<tr><td>2016-12-13           </td><td>am                   </td><td>1:12:00              </td><td>2016-12-13 1:12:00 am</td><td>2016-12-13 01:12:00  </td></tr>\n",
       "\t<tr><td>2016-12-13           </td><td>am                   </td><td>1:12:00              </td><td>2016-12-13 1:12:00 am</td><td>2016-12-13 01:12:00  </td></tr>\n",
       "\t<tr><td>2016-12-19           </td><td>am                   </td><td>1:12:00              </td><td>2016-12-19 1:12:00 am</td><td>2016-12-19 01:12:00  </td></tr>\n",
       "\t<tr><td>2016-12-19           </td><td>am                   </td><td>1:12:00              </td><td>2016-12-19 1:12:00 am</td><td>2016-12-19 01:12:00  </td></tr>\n",
       "</tbody>\n",
       "</table>\n"
      ],
      "text/latex": [
       "\\begin{tabular}{r|lllll}\n",
       " X1 & X2 & X3 & X4 & X5\\\\\n",
       "\\hline\n",
       "\t 2016-12-07            & am                    & 1:12:00               & 2016-12-07 1:12:00 am & 2016-12-07 01:12:00  \\\\\n",
       "\t 2016-12-07            & am                    & 1:12:00               & 2016-12-07 1:12:00 am & 2016-12-07 01:12:00  \\\\\n",
       "\t 2016-12-13            & am                    & 1:12:00               & 2016-12-13 1:12:00 am & 2016-12-13 01:12:00  \\\\\n",
       "\t 2016-12-13            & am                    & 1:12:00               & 2016-12-13 1:12:00 am & 2016-12-13 01:12:00  \\\\\n",
       "\t 2016-12-19            & am                    & 1:12:00               & 2016-12-19 1:12:00 am & 2016-12-19 01:12:00  \\\\\n",
       "\t 2016-12-19            & am                    & 1:12:00               & 2016-12-19 1:12:00 am & 2016-12-19 01:12:00  \\\\\n",
       "\\end{tabular}\n"
      ],
      "text/markdown": [
       "\n",
       "X1 | X2 | X3 | X4 | X5 | \n",
       "|---|---|---|---|---|---|\n",
       "| 2016-12-07            | am                    | 1:12:00               | 2016-12-07 1:12:00 am | 2016-12-07 01:12:00   | \n",
       "| 2016-12-07            | am                    | 1:12:00               | 2016-12-07 1:12:00 am | 2016-12-07 01:12:00   | \n",
       "| 2016-12-13            | am                    | 1:12:00               | 2016-12-13 1:12:00 am | 2016-12-13 01:12:00   | \n",
       "| 2016-12-13            | am                    | 1:12:00               | 2016-12-13 1:12:00 am | 2016-12-13 01:12:00   | \n",
       "| 2016-12-19            | am                    | 1:12:00               | 2016-12-19 1:12:00 am | 2016-12-19 01:12:00   | \n",
       "| 2016-12-19            | am                    | 1:12:00               | 2016-12-19 1:12:00 am | 2016-12-19 01:12:00   | \n",
       "\n",
       "\n"
      ],
      "text/plain": [
       "  X1         X2 X3      X4                    X5                 \n",
       "1 2016-12-07 am 1:12:00 2016-12-07 1:12:00 am 2016-12-07 01:12:00\n",
       "2 2016-12-07 am 1:12:00 2016-12-07 1:12:00 am 2016-12-07 01:12:00\n",
       "3 2016-12-13 am 1:12:00 2016-12-13 1:12:00 am 2016-12-13 01:12:00\n",
       "4 2016-12-13 am 1:12:00 2016-12-13 1:12:00 am 2016-12-13 01:12:00\n",
       "5 2016-12-19 am 1:12:00 2016-12-19 1:12:00 am 2016-12-19 01:12:00\n",
       "6 2016-12-19 am 1:12:00 2016-12-19 1:12:00 am 2016-12-19 01:12:00"
      ]
     },
     "metadata": {},
     "output_type": "display_data"
    },
    {
     "data": {
      "text/html": [
       "<table>\n",
       "<thead><tr><th></th><th scope=col>X1</th><th scope=col>X2</th><th scope=col>X3</th><th scope=col>X4</th><th scope=col>X5</th></tr></thead>\n",
       "<tbody>\n",
       "\t<tr><th scope=row>3580</th><td>2017-10-17            </td><td>am                    </td><td>3:31:55               </td><td>2017-10-17 3:31:55 am </td><td>2017-10-17 03:31:55   </td></tr>\n",
       "\t<tr><th scope=row>3581</th><td>2017-10-17            </td><td>am                    </td><td>3:34:46               </td><td>2017-10-17 3:34:46 am </td><td>2017-10-17 03:34:46   </td></tr>\n",
       "\t<tr><th scope=row>3582</th><td>2017-10-17            </td><td>pm                    </td><td>4:51:06               </td><td>2017-10-17 4:51:06 pm </td><td>2017-10-17 16:51:06   </td></tr>\n",
       "\t<tr><th scope=row>3583</th><td>2017-10-17            </td><td>pm                    </td><td>7:32:12               </td><td>2017-10-17 7:32:12 pm </td><td>2017-10-17 19:32:12   </td></tr>\n",
       "\t<tr><th scope=row>3584</th><td>2017-10-18            </td><td>am                    </td><td>12:22:26              </td><td>2017-10-18 12:22:26 am</td><td>2017-10-18 00:22:26   </td></tr>\n",
       "\t<tr><th scope=row>3585</th><td>2017-10-18            </td><td>am                    </td><td>12:22:26              </td><td>2017-10-18 12:22:26 am</td><td>2017-10-18 00:22:26   </td></tr>\n",
       "\t<tr><th scope=row>3586</th><td>2017-10-18            </td><td>am                    </td><td>12:43:30              </td><td>2017-10-18 12:43:30 am</td><td>2017-10-18 00:43:30   </td></tr>\n",
       "\t<tr><th scope=row>3587</th><td>2017-10-18            </td><td>am                    </td><td>12:58:47              </td><td>2017-10-18 12:58:47 am</td><td>2017-10-18 00:58:47   </td></tr>\n",
       "\t<tr><th scope=row>3588</th><td>2017-10-18            </td><td>am                    </td><td>9:57:34               </td><td>2017-10-18 9:57:34 am </td><td>2017-10-18 09:57:34   </td></tr>\n",
       "\t<tr><th scope=row>3589</th><td>2017-10-18            </td><td>pm                    </td><td>1:13:34               </td><td>2017-10-18 1:13:34 pm </td><td>2017-10-18 13:13:34   </td></tr>\n",
       "\t<tr><th scope=row>3590</th><td>2017-10-19            </td><td>am                    </td><td>1:10:35               </td><td>2017-10-19 1:10:35 am </td><td>2017-10-19 01:10:35   </td></tr>\n",
       "\t<tr><th scope=row>3591</th><td>2017-10-19            </td><td>am                    </td><td>12:11:09              </td><td>2017-10-19 12:11:09 am</td><td>2017-10-19 00:11:09   </td></tr>\n",
       "\t<tr><th scope=row>3592</th><td>2017-10-19            </td><td>am                    </td><td>12:36:20              </td><td>2017-10-19 12:36:20 am</td><td>2017-10-19 00:36:20   </td></tr>\n",
       "\t<tr><th scope=row>3593</th><td>2017-10-19            </td><td>am                    </td><td>12:43:24              </td><td>2017-10-19 12:43:24 am</td><td>2017-10-19 00:43:24   </td></tr>\n",
       "\t<tr><th scope=row>3594</th><td>2017-10-27            </td><td>am                    </td><td>12:15:35              </td><td>2017-10-27 12:15:35 am</td><td>2017-10-27 00:15:35   </td></tr>\n",
       "\t<tr><th scope=row>3595</th><td>2017-10-27            </td><td>am                    </td><td>2:25:42               </td><td>2017-10-27 2:25:42 am </td><td>2017-10-27 02:25:42   </td></tr>\n",
       "\t<tr><th scope=row>3596</th><td>2017-10-30            </td><td>am                    </td><td>1:25:53               </td><td>2017-10-30 1:25:53 am </td><td>2017-10-30 01:25:53   </td></tr>\n",
       "\t<tr><th scope=row>3597</th><td>2017-10-30            </td><td>am                    </td><td>12:07:18              </td><td>2017-10-30 12:07:18 am</td><td>2017-10-30 00:07:18   </td></tr>\n",
       "\t<tr><th scope=row>3598</th><td>2017-10-30            </td><td>am                    </td><td>12:07:18              </td><td>2017-10-30 12:07:18 am</td><td>2017-10-30 00:07:18   </td></tr>\n",
       "\t<tr><th scope=row>3599</th><td>2017-10-30            </td><td>am                    </td><td>2:41:58               </td><td>2017-10-30 2:41:58 am </td><td>2017-10-30 02:41:58   </td></tr>\n",
       "</tbody>\n",
       "</table>\n"
      ],
      "text/latex": [
       "\\begin{tabular}{r|lllll}\n",
       "  & X1 & X2 & X3 & X4 & X5\\\\\n",
       "\\hline\n",
       "\t3580 & 2017-10-17             & am                     & 3:31:55                & 2017-10-17 3:31:55 am  & 2017-10-17 03:31:55   \\\\\n",
       "\t3581 & 2017-10-17             & am                     & 3:34:46                & 2017-10-17 3:34:46 am  & 2017-10-17 03:34:46   \\\\\n",
       "\t3582 & 2017-10-17             & pm                     & 4:51:06                & 2017-10-17 4:51:06 pm  & 2017-10-17 16:51:06   \\\\\n",
       "\t3583 & 2017-10-17             & pm                     & 7:32:12                & 2017-10-17 7:32:12 pm  & 2017-10-17 19:32:12   \\\\\n",
       "\t3584 & 2017-10-18             & am                     & 12:22:26               & 2017-10-18 12:22:26 am & 2017-10-18 00:22:26   \\\\\n",
       "\t3585 & 2017-10-18             & am                     & 12:22:26               & 2017-10-18 12:22:26 am & 2017-10-18 00:22:26   \\\\\n",
       "\t3586 & 2017-10-18             & am                     & 12:43:30               & 2017-10-18 12:43:30 am & 2017-10-18 00:43:30   \\\\\n",
       "\t3587 & 2017-10-18             & am                     & 12:58:47               & 2017-10-18 12:58:47 am & 2017-10-18 00:58:47   \\\\\n",
       "\t3588 & 2017-10-18             & am                     & 9:57:34                & 2017-10-18 9:57:34 am  & 2017-10-18 09:57:34   \\\\\n",
       "\t3589 & 2017-10-18             & pm                     & 1:13:34                & 2017-10-18 1:13:34 pm  & 2017-10-18 13:13:34   \\\\\n",
       "\t3590 & 2017-10-19             & am                     & 1:10:35                & 2017-10-19 1:10:35 am  & 2017-10-19 01:10:35   \\\\\n",
       "\t3591 & 2017-10-19             & am                     & 12:11:09               & 2017-10-19 12:11:09 am & 2017-10-19 00:11:09   \\\\\n",
       "\t3592 & 2017-10-19             & am                     & 12:36:20               & 2017-10-19 12:36:20 am & 2017-10-19 00:36:20   \\\\\n",
       "\t3593 & 2017-10-19             & am                     & 12:43:24               & 2017-10-19 12:43:24 am & 2017-10-19 00:43:24   \\\\\n",
       "\t3594 & 2017-10-27             & am                     & 12:15:35               & 2017-10-27 12:15:35 am & 2017-10-27 00:15:35   \\\\\n",
       "\t3595 & 2017-10-27             & am                     & 2:25:42                & 2017-10-27 2:25:42 am  & 2017-10-27 02:25:42   \\\\\n",
       "\t3596 & 2017-10-30             & am                     & 1:25:53                & 2017-10-30 1:25:53 am  & 2017-10-30 01:25:53   \\\\\n",
       "\t3597 & 2017-10-30             & am                     & 12:07:18               & 2017-10-30 12:07:18 am & 2017-10-30 00:07:18   \\\\\n",
       "\t3598 & 2017-10-30             & am                     & 12:07:18               & 2017-10-30 12:07:18 am & 2017-10-30 00:07:18   \\\\\n",
       "\t3599 & 2017-10-30             & am                     & 2:41:58                & 2017-10-30 2:41:58 am  & 2017-10-30 02:41:58   \\\\\n",
       "\\end{tabular}\n"
      ],
      "text/markdown": [
       "\n",
       "| <!--/--> | X1 | X2 | X3 | X4 | X5 | \n",
       "|---|---|---|---|---|---|---|---|---|---|---|---|---|---|---|---|---|---|---|---|\n",
       "| 3580 | 2017-10-17             | am                     | 3:31:55                | 2017-10-17 3:31:55 am  | 2017-10-17 03:31:55    | \n",
       "| 3581 | 2017-10-17             | am                     | 3:34:46                | 2017-10-17 3:34:46 am  | 2017-10-17 03:34:46    | \n",
       "| 3582 | 2017-10-17             | pm                     | 4:51:06                | 2017-10-17 4:51:06 pm  | 2017-10-17 16:51:06    | \n",
       "| 3583 | 2017-10-17             | pm                     | 7:32:12                | 2017-10-17 7:32:12 pm  | 2017-10-17 19:32:12    | \n",
       "| 3584 | 2017-10-18             | am                     | 12:22:26               | 2017-10-18 12:22:26 am | 2017-10-18 00:22:26    | \n",
       "| 3585 | 2017-10-18             | am                     | 12:22:26               | 2017-10-18 12:22:26 am | 2017-10-18 00:22:26    | \n",
       "| 3586 | 2017-10-18             | am                     | 12:43:30               | 2017-10-18 12:43:30 am | 2017-10-18 00:43:30    | \n",
       "| 3587 | 2017-10-18             | am                     | 12:58:47               | 2017-10-18 12:58:47 am | 2017-10-18 00:58:47    | \n",
       "| 3588 | 2017-10-18             | am                     | 9:57:34                | 2017-10-18 9:57:34 am  | 2017-10-18 09:57:34    | \n",
       "| 3589 | 2017-10-18             | pm                     | 1:13:34                | 2017-10-18 1:13:34 pm  | 2017-10-18 13:13:34    | \n",
       "| 3590 | 2017-10-19             | am                     | 1:10:35                | 2017-10-19 1:10:35 am  | 2017-10-19 01:10:35    | \n",
       "| 3591 | 2017-10-19             | am                     | 12:11:09               | 2017-10-19 12:11:09 am | 2017-10-19 00:11:09    | \n",
       "| 3592 | 2017-10-19             | am                     | 12:36:20               | 2017-10-19 12:36:20 am | 2017-10-19 00:36:20    | \n",
       "| 3593 | 2017-10-19             | am                     | 12:43:24               | 2017-10-19 12:43:24 am | 2017-10-19 00:43:24    | \n",
       "| 3594 | 2017-10-27             | am                     | 12:15:35               | 2017-10-27 12:15:35 am | 2017-10-27 00:15:35    | \n",
       "| 3595 | 2017-10-27             | am                     | 2:25:42                | 2017-10-27 2:25:42 am  | 2017-10-27 02:25:42    | \n",
       "| 3596 | 2017-10-30             | am                     | 1:25:53                | 2017-10-30 1:25:53 am  | 2017-10-30 01:25:53    | \n",
       "| 3597 | 2017-10-30             | am                     | 12:07:18               | 2017-10-30 12:07:18 am | 2017-10-30 00:07:18    | \n",
       "| 3598 | 2017-10-30             | am                     | 12:07:18               | 2017-10-30 12:07:18 am | 2017-10-30 00:07:18    | \n",
       "| 3599 | 2017-10-30             | am                     | 2:41:58                | 2017-10-30 2:41:58 am  | 2017-10-30 02:41:58    | \n",
       "\n",
       "\n"
      ],
      "text/plain": [
       "     X1         X2 X3       X4                     X5                 \n",
       "3580 2017-10-17 am 3:31:55  2017-10-17 3:31:55 am  2017-10-17 03:31:55\n",
       "3581 2017-10-17 am 3:34:46  2017-10-17 3:34:46 am  2017-10-17 03:34:46\n",
       "3582 2017-10-17 pm 4:51:06  2017-10-17 4:51:06 pm  2017-10-17 16:51:06\n",
       "3583 2017-10-17 pm 7:32:12  2017-10-17 7:32:12 pm  2017-10-17 19:32:12\n",
       "3584 2017-10-18 am 12:22:26 2017-10-18 12:22:26 am 2017-10-18 00:22:26\n",
       "3585 2017-10-18 am 12:22:26 2017-10-18 12:22:26 am 2017-10-18 00:22:26\n",
       "3586 2017-10-18 am 12:43:30 2017-10-18 12:43:30 am 2017-10-18 00:43:30\n",
       "3587 2017-10-18 am 12:58:47 2017-10-18 12:58:47 am 2017-10-18 00:58:47\n",
       "3588 2017-10-18 am 9:57:34  2017-10-18 9:57:34 am  2017-10-18 09:57:34\n",
       "3589 2017-10-18 pm 1:13:34  2017-10-18 1:13:34 pm  2017-10-18 13:13:34\n",
       "3590 2017-10-19 am 1:10:35  2017-10-19 1:10:35 am  2017-10-19 01:10:35\n",
       "3591 2017-10-19 am 12:11:09 2017-10-19 12:11:09 am 2017-10-19 00:11:09\n",
       "3592 2017-10-19 am 12:36:20 2017-10-19 12:36:20 am 2017-10-19 00:36:20\n",
       "3593 2017-10-19 am 12:43:24 2017-10-19 12:43:24 am 2017-10-19 00:43:24\n",
       "3594 2017-10-27 am 12:15:35 2017-10-27 12:15:35 am 2017-10-27 00:15:35\n",
       "3595 2017-10-27 am 2:25:42  2017-10-27 2:25:42 am  2017-10-27 02:25:42\n",
       "3596 2017-10-30 am 1:25:53  2017-10-30 1:25:53 am  2017-10-30 01:25:53\n",
       "3597 2017-10-30 am 12:07:18 2017-10-30 12:07:18 am 2017-10-30 00:07:18\n",
       "3598 2017-10-30 am 12:07:18 2017-10-30 12:07:18 am 2017-10-30 00:07:18\n",
       "3599 2017-10-30 am 2:41:58  2017-10-30 2:41:58 am  2017-10-30 02:41:58"
      ]
     },
     "metadata": {},
     "output_type": "display_data"
    }
   ],
   "source": [
    "st$X5 <- parse_date_time(st$X4, c(\"%Y-%m-%d %H:%M:%S %p\"))\n",
    "head(st)\n",
    "# pm이 제대로 변환 됐는지 확인하기 위해 20개 봄\n",
    "tail(st, 20)"
   ]
  },
  {
   "cell_type": "code",
   "execution_count": 67,
   "metadata": {},
   "outputs": [
    {
     "data": {
      "text/html": [
       "<table>\n",
       "<thead><tr><th scope=col>공정</th><th scope=col>시작</th><th scope=col>끝</th><th scope=col>Process</th><th scope=col>설비</th><th scope=col>제품</th><th scope=col>중량</th><th scope=col>Navigate</th><th scope=col>도로</th><th scope=col>공장</th><th scope=col>거리</th><th scope=col>sttime</th></tr></thead>\n",
       "<tbody>\n",
       "\t<tr><td>BSA000_이동             </td><td>2016-12-07 오전 1:12:00 </td><td>2016-12-07 오전 1:12:00 </td><td>NA                      </td><td>#101                    </td><td>1040_988_0              </td><td> 82.1                   </td><td>NA                      </td><td>NA                      </td><td>PO30                    </td><td>0                       </td><td>2016-12-07 01:12:00     </td></tr>\n",
       "\t<tr><td>BSA000_작업             </td><td>2016-12-07 오전 1:12:00 </td><td>2017-03-22 오전 3:08:42 </td><td>2017-03-22 오전 3:08:42 </td><td>NA                      </td><td>1040_988_0              </td><td> 82.1                   </td><td>NA                      </td><td>NA                      </td><td>PO30                    </td><td>0                       </td><td>2016-12-07 01:12:00     </td></tr>\n",
       "\t<tr><td>BSA000_이동             </td><td>2016-12-13 오전 1:12:00 </td><td>2016-12-13 오전 1:12:00 </td><td>NA                      </td><td>#101                    </td><td>1047_998_0              </td><td> 96.3                   </td><td>NA                      </td><td>NA                      </td><td>DM30                    </td><td>0                       </td><td>2016-12-13 01:12:00     </td></tr>\n",
       "\t<tr><td>BSA000_작업             </td><td>2016-12-13 오전 1:12:00 </td><td>2017-04-17 오전 1:13:47 </td><td>2017-04-17 오전 1:13:47 </td><td>NA                      </td><td>1047_998_0              </td><td> 96.3                   </td><td>NA                      </td><td>NA                      </td><td>DM30                    </td><td>0                       </td><td>2016-12-13 01:12:00     </td></tr>\n",
       "\t<tr><td>BSA000_이동             </td><td>2016-12-19 오전 1:12:00 </td><td>2016-12-19 오전 1:12:00 </td><td>NA                      </td><td>#354                    </td><td>1002_131_3              </td><td>283.0                   </td><td>NA                      </td><td>NA                      </td><td>3D3B                    </td><td>0                       </td><td>2016-12-19 01:12:00     </td></tr>\n",
       "\t<tr><td>BSA000_작업             </td><td>2016-12-19 오전 1:12:00 </td><td>2017-03-16 오전 12:46:19</td><td>2017-03-16 오전 12:46:19</td><td>NA                      </td><td>1002_131_3              </td><td>283.0                   </td><td>NA                      </td><td>NA                      </td><td>3D3B                    </td><td>0                       </td><td>2016-12-19 01:12:00     </td></tr>\n",
       "</tbody>\n",
       "</table>\n"
      ],
      "text/latex": [
       "\\begin{tabular}{r|llllllllllll}\n",
       " 공정 & 시작 & 끝 & Process & 설비 & 제품 & 중량 & Navigate & 도로 & 공장 & 거리 & sttime\\\\\n",
       "\\hline\n",
       "\t BSA000\\_이동            & 2016-12-07 오전 1:12:00  & 2016-12-07 오전 1:12:00  & NA                       & \\#101                   & 1040\\_988\\_0           &  82.1                    & NA                       & NA                       & PO30                     & 0                        & 2016-12-07 01:12:00     \\\\\n",
       "\t BSA000\\_작업            & 2016-12-07 오전 1:12:00  & 2017-03-22 오전 3:08:42  & 2017-03-22 오전 3:08:42  & NA                       & 1040\\_988\\_0           &  82.1                    & NA                       & NA                       & PO30                     & 0                        & 2016-12-07 01:12:00     \\\\\n",
       "\t BSA000\\_이동            & 2016-12-13 오전 1:12:00  & 2016-12-13 오전 1:12:00  & NA                       & \\#101                   & 1047\\_998\\_0           &  96.3                    & NA                       & NA                       & DM30                     & 0                        & 2016-12-13 01:12:00     \\\\\n",
       "\t BSA000\\_작업            & 2016-12-13 오전 1:12:00  & 2017-04-17 오전 1:13:47  & 2017-04-17 오전 1:13:47  & NA                       & 1047\\_998\\_0           &  96.3                    & NA                       & NA                       & DM30                     & 0                        & 2016-12-13 01:12:00     \\\\\n",
       "\t BSA000\\_이동            & 2016-12-19 오전 1:12:00  & 2016-12-19 오전 1:12:00  & NA                       & \\#354                   & 1002\\_131\\_3           & 283.0                    & NA                       & NA                       & 3D3B                     & 0                        & 2016-12-19 01:12:00     \\\\\n",
       "\t BSA000\\_작업            & 2016-12-19 오전 1:12:00  & 2017-03-16 오전 12:46:19 & 2017-03-16 오전 12:46:19 & NA                       & 1002\\_131\\_3           & 283.0                    & NA                       & NA                       & 3D3B                     & 0                        & 2016-12-19 01:12:00     \\\\\n",
       "\\end{tabular}\n"
      ],
      "text/markdown": [
       "\n",
       "공정 | 시작 | 끝 | Process | 설비 | 제품 | 중량 | Navigate | 도로 | 공장 | 거리 | sttime | \n",
       "|---|---|---|---|---|---|\n",
       "| BSA000_이동              | 2016-12-07 오전 1:12:00  | 2016-12-07 오전 1:12:00  | NA                       | #101                     | 1040_988_0               |  82.1                    | NA                       | NA                       | PO30                     | 0                        | 2016-12-07 01:12:00      | \n",
       "| BSA000_작업              | 2016-12-07 오전 1:12:00  | 2017-03-22 오전 3:08:42  | 2017-03-22 오전 3:08:42  | NA                       | 1040_988_0               |  82.1                    | NA                       | NA                       | PO30                     | 0                        | 2016-12-07 01:12:00      | \n",
       "| BSA000_이동              | 2016-12-13 오전 1:12:00  | 2016-12-13 오전 1:12:00  | NA                       | #101                     | 1047_998_0               |  96.3                    | NA                       | NA                       | DM30                     | 0                        | 2016-12-13 01:12:00      | \n",
       "| BSA000_작업              | 2016-12-13 오전 1:12:00  | 2017-04-17 오전 1:13:47  | 2017-04-17 오전 1:13:47  | NA                       | 1047_998_0               |  96.3                    | NA                       | NA                       | DM30                     | 0                        | 2016-12-13 01:12:00      | \n",
       "| BSA000_이동              | 2016-12-19 오전 1:12:00  | 2016-12-19 오전 1:12:00  | NA                       | #354                     | 1002_131_3               | 283.0                    | NA                       | NA                       | 3D3B                     | 0                        | 2016-12-19 01:12:00      | \n",
       "| BSA000_작업              | 2016-12-19 오전 1:12:00  | 2017-03-16 오전 12:46:19 | 2017-03-16 오전 12:46:19 | NA                       | 1002_131_3               | 283.0                    | NA                       | NA                       | 3D3B                     | 0                        | 2016-12-19 01:12:00      | \n",
       "\n",
       "\n"
      ],
      "text/plain": [
       "  공정        시작                    끝                      \n",
       "1 BSA000_이동 2016-12-07 오전 1:12:00 2016-12-07 오전 1:12:00 \n",
       "2 BSA000_작업 2016-12-07 오전 1:12:00 2017-03-22 오전 3:08:42 \n",
       "3 BSA000_이동 2016-12-13 오전 1:12:00 2016-12-13 오전 1:12:00 \n",
       "4 BSA000_작업 2016-12-13 오전 1:12:00 2017-04-17 오전 1:13:47 \n",
       "5 BSA000_이동 2016-12-19 오전 1:12:00 2016-12-19 오전 1:12:00 \n",
       "6 BSA000_작업 2016-12-19 오전 1:12:00 2017-03-16 오전 12:46:19\n",
       "  Process                  설비 제품       중량  Navigate 도로 공장 거리\n",
       "1 NA                       #101 1040_988_0  82.1 NA       NA   PO30 0   \n",
       "2 2017-03-22 오전 3:08:42  NA   1040_988_0  82.1 NA       NA   PO30 0   \n",
       "3 NA                       #101 1047_998_0  96.3 NA       NA   DM30 0   \n",
       "4 2017-04-17 오전 1:13:47  NA   1047_998_0  96.3 NA       NA   DM30 0   \n",
       "5 NA                       #354 1002_131_3 283.0 NA       NA   3D3B 0   \n",
       "6 2017-03-16 오전 12:46:19 NA   1002_131_3 283.0 NA       NA   3D3B 0   \n",
       "  sttime             \n",
       "1 2016-12-07 01:12:00\n",
       "2 2016-12-07 01:12:00\n",
       "3 2016-12-13 01:12:00\n",
       "4 2016-12-13 01:12:00\n",
       "5 2016-12-19 01:12:00\n",
       "6 2016-12-19 01:12:00"
      ]
     },
     "metadata": {},
     "output_type": "display_data"
    }
   ],
   "source": [
    "nipa$sttime <- st$X5\n",
    "head(nipa)"
   ]
  },
  {
   "cell_type": "markdown",
   "metadata": {},
   "source": [
    "### 2) 끝"
   ]
  },
  {
   "cell_type": "code",
   "execution_count": 68,
   "metadata": {},
   "outputs": [
    {
     "data": {
      "text/html": [
       "<ol class=list-inline>\n",
       "\t<li>'2016-12-07 오전 1:12:00'</li>\n",
       "\t<li>'2017-03-22 오전 3:08:42'</li>\n",
       "\t<li>'2016-12-13 오전 1:12:00'</li>\n",
       "\t<li>'2017-04-17 오전 1:13:47'</li>\n",
       "\t<li>'2016-12-19 오전 1:12:00'</li>\n",
       "\t<li>'2017-03-16 오전 12:46:19'</li>\n",
       "</ol>\n"
      ],
      "text/latex": [
       "\\begin{enumerate*}\n",
       "\\item '2016-12-07 오전 1:12:00'\n",
       "\\item '2017-03-22 오전 3:08:42'\n",
       "\\item '2016-12-13 오전 1:12:00'\n",
       "\\item '2017-04-17 오전 1:13:47'\n",
       "\\item '2016-12-19 오전 1:12:00'\n",
       "\\item '2017-03-16 오전 12:46:19'\n",
       "\\end{enumerate*}\n"
      ],
      "text/markdown": [
       "1. '2016-12-07 오전 1:12:00'\n",
       "2. '2017-03-22 오전 3:08:42'\n",
       "3. '2016-12-13 오전 1:12:00'\n",
       "4. '2017-04-17 오전 1:13:47'\n",
       "5. '2016-12-19 오전 1:12:00'\n",
       "6. '2017-03-16 오전 12:46:19'\n",
       "\n",
       "\n"
      ],
      "text/plain": [
       "[1] \"2016-12-07 오전 1:12:00\"  \"2017-03-22 오전 3:08:42\" \n",
       "[3] \"2016-12-13 오전 1:12:00\"  \"2017-04-17 오전 1:13:47\" \n",
       "[5] \"2016-12-19 오전 1:12:00\"  \"2017-03-16 오전 12:46:19\""
      ]
     },
     "metadata": {},
     "output_type": "display_data"
    },
    {
     "data": {
      "text/html": [
       "'character'"
      ],
      "text/latex": [
       "'character'"
      ],
      "text/markdown": [
       "'character'"
      ],
      "text/plain": [
       "[1] \"character\""
      ]
     },
     "metadata": {},
     "output_type": "display_data"
    }
   ],
   "source": [
    "et <- nipa$끝\n",
    "head(et)\n",
    "class(et)"
   ]
  },
  {
   "cell_type": "code",
   "execution_count": 69,
   "metadata": {},
   "outputs": [],
   "source": [
    "et <- strsplit(et, split = \" \")"
   ]
  },
  {
   "cell_type": "code",
   "execution_count": 70,
   "metadata": {},
   "outputs": [
    {
     "data": {
      "text/html": [
       "<table>\n",
       "<thead><tr><th scope=col>X1</th><th scope=col>X2</th><th scope=col>X3</th><th scope=col>X4</th><th scope=col>X5</th><th scope=col>X6</th><th scope=col>X7</th><th scope=col>X8</th><th scope=col>X9</th><th scope=col>X10</th><th scope=col>...</th><th scope=col>X3590</th><th scope=col>X3591</th><th scope=col>X3592</th><th scope=col>X3593</th><th scope=col>X3594</th><th scope=col>X3595</th><th scope=col>X3596</th><th scope=col>X3597</th><th scope=col>X3598</th><th scope=col>X3599</th></tr></thead>\n",
       "<tbody>\n",
       "\t<tr><td>2016-12-07, 오전      , 1:12:00   </td><td>2017-03-22, 오전      , 3:08:42   </td><td>2016-12-13, 오전      , 1:12:00   </td><td>2017-04-17, 오전      , 1:13:47   </td><td>2016-12-19, 오전      , 1:12:00   </td><td>2017-03-16, 오전      , 12:46:19  </td><td>2016-12-20, 오전      , 1:12:00   </td><td>2017-03-17, 오전      , 12:48:46  </td><td>2016-12-20, 오전      , 1:12:00   </td><td>2017-04-26, 오전      , 3:07:26   </td><td>...                               </td><td>2017-10-27, 오전      , 2:25:42   </td><td>2017-10-19, 오전      , 12:43:24  </td><td>2017-10-19, 오전      , 1:10:35   </td><td>2017-10-27, 오전      , 12:15:35  </td><td>2017-10-30, 오전      , 1:25:53   </td><td>2017-10-30, 오전      , 12:07:18  </td><td>2017-10-30, 오전      , 2:41:58   </td><td>2017-10-30, 오전      , 12:07:18  </td><td>2017-10-30, 오전      , 7:44:25   </td><td>2017-10-30, 오전      , 11:39:00  </td></tr>\n",
       "</tbody>\n",
       "</table>\n"
      ],
      "text/latex": [
       "\\begin{tabular}{r|lllllllllllllllllllllllllllllllllllllllllllllllllllllllllllllllllllllllllllllllllllllllllllllllllllllllllllllllllllllllllllllllllllllllllllllllllllllllllllllllllllllllllllllllllllllllllllllllllllllllllllllllllllllllllllllllllllllllllllllllllllllllllllllllllllllllllllllllllllllllllllllllllllllllllllllllllllllllllllllllllllllllllllllllllllllllllllllllllllllllllllllllllllllllllllllllllllllllllllllllllllllllllllllllllllllllllllllllllllllllllllllllllllllllllllllllllllllllllllllllllllllllllllllllllllllllllllllllllllllllllllllllllllllllllllllllllllllllllllllllllllllllllllllllllllllllllllllllllllllllllllllllllllllllllllllllllllllllllllllllllllllllllllllllllllllllllllllllllllllllllllllllllllllllllllllllllllllllllllllllllllllllllllllllllllllllllllllllllllllllllllllllllllllllllllllllllllllllllllllllllllllllllllllllllllllllllllllllllllllllllllllllllllllllllllllllllllllllllllllllllllllllllllllllllllllllllllllllllllllllllllllllllllllllllllllllllllllllllllllllllllllllllllllllllllllllllllllllllllllllllllllllllllllllllllllllllllllllllllllllllllllllllllllllllllllllllllllllllllllllllllllllllllllllllllllllllllllllllllllllllllllllllllllllllllllllllllllllllllllllllllllllllllllllllllllllllllllllllllllllllllllllllllllllllllllllllllllllllllllllllllllllllllllllllllllllllllllllllllllllllllllllllllllllllllllllllllllllllllllllllllllllllllllllllllllllllllllllllllllllllllllllllllllllllllllllllllllllllllllllllllllllllllllllllllllllllllllllllllllllllllllllllllllllllllllllllllllllllllllllllllllllllllllllllllllllllllllllllllllllllllllllllllllllllllllllllllllllllllllllllllllllllllllllllllllllllllllllllllllllllllllllllllllllllllllllllllllllllllllllllllllllllllllllllllllllllllllllllllllllllllllllllllllllllllllllllllllllllllllllllllllllllllllllllllllllllllllllllllllllllllllllllllllllllllllllllllllllllllllllllllllllllllllllllllllllllllllllllllllllllllllllllllllllllllllllllllllllllllllllllllllllllllllllllllllllllllllllllllllllllllllllllllllllllllllllllllllllllllllllllllllllllllllllllllllllllllllllllllllllllllllllllllllllllllllllllllllllllllllllllllllllllllllllllllllllllllllllllllllllllllllllllllllllllllllllllllllllllllllllllllllllllllllllllllllllllllllllllllllllllllllllllllllllllllllllllllllllllllllllllllllllllllllllllllllllllllllllllllllllllllllllllllllllllllllllllllllllllllllllllllllllllllllllllllllllllllllllllllllllllllllllllllllllllllllllllllllllllllllllllllllllllllllllllllllllllllllllllllllllllllllllllllllllllllllllllllllllllllllllllllllllllllllllllllllllllllllllllllllllllllllllllllllllllllllllllllllllllllllllllllllllllllllllllllllllllllllllllllllllllllllllllllllllllllllllllllllllllllllllllllllllllllllllllllllllllllllllllllllllllllllllllllllllllllllllllllllllllllllllllllllllllllllllllllllllllllllllllllllllllllllllllllllllllllllllllllllllllllllllllllllllllllllllllllllllllllllllllllllllllllllllllllllllllllllllllllllllllllllllllllllllllllllllllllllllllllllllllllllllllllllllllllllllllllllllllllllllllllllllllllllllllllllllllllllllllllllllllllllllllllllllllllllllllllllllllllllllllllllllllllllllllllllllllllllllllllllllllllllllllllllllllllllllllllllllllllllllllllllllllllllllllllllllllllllllllllllllllllllllllllllllllllllllllllllllllllllllllllllllllllllllllllllllllllllllllllllllllllllllllllllllllllllllllllllllllllllllllllllllllllllllllllllllllllllllllllllllllllllllllllllllllllllllllllllllllllllllllllllllllllllllllllllllllllllllllllllllllllllllllllllllllllllllllllllllllllllllllllllllllllllllllllllllllllllllllllllllllllllllllllllllllllllllllllllllllllllllllllllllllllllllllllllllllllllllllllllllllllllllllllllllllllllllllllllllllllllllllllllllllllllllllllllllllllllllllllllllllllllll}\n",
       " X1 & X2 & X3 & X4 & X5 & X6 & X7 & X8 & X9 & X10 & ... & X3590 & X3591 & X3592 & X3593 & X3594 & X3595 & X3596 & X3597 & X3598 & X3599\\\\\n",
       "\\hline\n",
       "\t 2016-12-07, 오전      , 1:12:00    & 2017-03-22, 오전      , 3:08:42    & 2016-12-13, 오전      , 1:12:00    & 2017-04-17, 오전      , 1:13:47    & 2016-12-19, 오전      , 1:12:00    & 2017-03-16, 오전      , 12:46:19   & 2016-12-20, 오전      , 1:12:00    & 2017-03-17, 오전      , 12:48:46   & 2016-12-20, 오전      , 1:12:00    & 2017-04-26, 오전      , 3:07:26    & ...                                & 2017-10-27, 오전      , 2:25:42    & 2017-10-19, 오전      , 12:43:24   & 2017-10-19, 오전      , 1:10:35    & 2017-10-27, 오전      , 12:15:35   & 2017-10-30, 오전      , 1:25:53    & 2017-10-30, 오전      , 12:07:18   & 2017-10-30, 오전      , 2:41:58    & 2017-10-30, 오전      , 12:07:18   & 2017-10-30, 오전      , 7:44:25    & 2017-10-30, 오전      , 11:39:00  \\\\\n",
       "\\end{tabular}\n"
      ],
      "text/markdown": [
       "\n",
       "X1 | X2 | X3 | X4 | X5 | X6 | X7 | X8 | X9 | X10 | ... | X3590 | X3591 | X3592 | X3593 | X3594 | X3595 | X3596 | X3597 | X3598 | X3599 | \n",
       "|---|\n",
       "| 2016-12-07, 오전      , 1:12:00    | 2017-03-22, 오전      , 3:08:42    | 2016-12-13, 오전      , 1:12:00    | 2017-04-17, 오전      , 1:13:47    | 2016-12-19, 오전      , 1:12:00    | 2017-03-16, 오전      , 12:46:19   | 2016-12-20, 오전      , 1:12:00    | 2017-03-17, 오전      , 12:48:46   | 2016-12-20, 오전      , 1:12:00    | 2017-04-26, 오전      , 3:07:26    | ...                                | 2017-10-27, 오전      , 2:25:42    | 2017-10-19, 오전      , 12:43:24   | 2017-10-19, 오전      , 1:10:35    | 2017-10-27, 오전      , 12:15:35   | 2017-10-30, 오전      , 1:25:53    | 2017-10-30, 오전      , 12:07:18   | 2017-10-30, 오전      , 2:41:58    | 2017-10-30, 오전      , 12:07:18   | 2017-10-30, 오전      , 7:44:25    | 2017-10-30, 오전      , 11:39:00   | \n",
       "\n",
       "\n"
      ],
      "text/plain": [
       "  X1                                 X2                                \n",
       "1 2016-12-07, 오전      , 1:12:00    2017-03-22, 오전      , 3:08:42   \n",
       "  X3                                 X4                                \n",
       "1 2016-12-13, 오전      , 1:12:00    2017-04-17, 오전      , 1:13:47   \n",
       "  X5                                 X6                                \n",
       "1 2016-12-19, 오전      , 1:12:00    2017-03-16, 오전      , 12:46:19  \n",
       "  X7                                 X8                                \n",
       "1 2016-12-20, 오전      , 1:12:00    2017-03-17, 오전      , 12:48:46  \n",
       "  X9                                 X10                                ...\n",
       "1 2016-12-20, 오전      , 1:12:00    2017-04-26, 오전      , 3:07:26    ...\n",
       "  X3590                              X3591                             \n",
       "1 2017-10-27, 오전      , 2:25:42    2017-10-19, 오전      , 12:43:24  \n",
       "  X3592                              X3593                             \n",
       "1 2017-10-19, 오전      , 1:10:35    2017-10-27, 오전      , 12:15:35  \n",
       "  X3594                              X3595                             \n",
       "1 2017-10-30, 오전      , 1:25:53    2017-10-30, 오전      , 12:07:18  \n",
       "  X3596                              X3597                             \n",
       "1 2017-10-30, 오전      , 2:41:58    2017-10-30, 오전      , 12:07:18  \n",
       "  X3598                              X3599                             \n",
       "1 2017-10-30, 오전      , 7:44:25    2017-10-30, 오전      , 11:39:00  "
      ]
     },
     "metadata": {},
     "output_type": "display_data"
    }
   ],
   "source": [
    "et <- data.frame(t(sapply(et, '[')))\n",
    "head(et)"
   ]
  },
  {
   "cell_type": "markdown",
   "metadata": {},
   "source": [
    "### 왜 이런 오류가 생기는지 모르겠음\n",
    "### 아무튼 생겼기 때문에 다른 방법으로 작업\n",
    "### NA가 있어서 생긴 오류가 아닐까 추정됨"
   ]
  },
  {
   "cell_type": "code",
   "execution_count": 71,
   "metadata": {},
   "outputs": [],
   "source": [
    "et <- nipa$끝"
   ]
  },
  {
   "cell_type": "code",
   "execution_count": 72,
   "metadata": {},
   "outputs": [
    {
     "data": {
      "text/html": [
       "<table>\n",
       "<thead><tr><th scope=col>et</th></tr></thead>\n",
       "<tbody>\n",
       "\t<tr><td>2016-12-07 오전 1:12:00 </td></tr>\n",
       "\t<tr><td>2017-03-22 오전 3:08:42 </td></tr>\n",
       "\t<tr><td>2016-12-13 오전 1:12:00 </td></tr>\n",
       "\t<tr><td>2017-04-17 오전 1:13:47 </td></tr>\n",
       "\t<tr><td>2016-12-19 오전 1:12:00 </td></tr>\n",
       "\t<tr><td>2017-03-16 오전 12:46:19</td></tr>\n",
       "</tbody>\n",
       "</table>\n"
      ],
      "text/latex": [
       "\\begin{tabular}{r|l}\n",
       " et\\\\\n",
       "\\hline\n",
       "\t 2016-12-07 오전 1:12:00 \\\\\n",
       "\t 2017-03-22 오전 3:08:42 \\\\\n",
       "\t 2016-12-13 오전 1:12:00 \\\\\n",
       "\t 2017-04-17 오전 1:13:47 \\\\\n",
       "\t 2016-12-19 오전 1:12:00 \\\\\n",
       "\t 2017-03-16 오전 12:46:19\\\\\n",
       "\\end{tabular}\n"
      ],
      "text/markdown": [
       "\n",
       "et | \n",
       "|---|---|---|---|---|---|\n",
       "| 2016-12-07 오전 1:12:00  | \n",
       "| 2017-03-22 오전 3:08:42  | \n",
       "| 2016-12-13 오전 1:12:00  | \n",
       "| 2017-04-17 오전 1:13:47  | \n",
       "| 2016-12-19 오전 1:12:00  | \n",
       "| 2017-03-16 오전 12:46:19 | \n",
       "\n",
       "\n"
      ],
      "text/plain": [
       "  et                      \n",
       "1 2016-12-07 오전 1:12:00 \n",
       "2 2017-03-22 오전 3:08:42 \n",
       "3 2016-12-13 오전 1:12:00 \n",
       "4 2017-04-17 오전 1:13:47 \n",
       "5 2016-12-19 오전 1:12:00 \n",
       "6 2017-03-16 오전 12:46:19"
      ]
     },
     "metadata": {},
     "output_type": "display_data"
    }
   ],
   "source": [
    "et2 <- as.data.frame(et)\n",
    "head(et2)"
   ]
  },
  {
   "cell_type": "code",
   "execution_count": 73,
   "metadata": {},
   "outputs": [
    {
     "data": {
      "text/html": [
       "<table>\n",
       "<thead><tr><th scope=col>et</th><th scope=col>X1</th><th scope=col>X2</th><th scope=col>X3</th></tr></thead>\n",
       "<tbody>\n",
       "\t<tr><td>2016-12-07 오전 1:12:00 </td><td>2016-12-07              </td><td>오전                    </td><td> 1:12:00                </td></tr>\n",
       "\t<tr><td>2017-03-22 오전 3:08:42 </td><td>2017-03-22              </td><td>오전                    </td><td> 3:08:42                </td></tr>\n",
       "\t<tr><td>2016-12-13 오전 1:12:00 </td><td>2016-12-13              </td><td>오전                    </td><td> 1:12:00                </td></tr>\n",
       "\t<tr><td>2017-04-17 오전 1:13:47 </td><td>2017-04-17              </td><td>오전                    </td><td> 1:13:47                </td></tr>\n",
       "\t<tr><td>2016-12-19 오전 1:12:00 </td><td>2016-12-19              </td><td>오전                    </td><td> 1:12:00                </td></tr>\n",
       "\t<tr><td>2017-03-16 오전 12:46:19</td><td>2017-03-16              </td><td>오전                    </td><td> 12:46:19               </td></tr>\n",
       "</tbody>\n",
       "</table>\n"
      ],
      "text/latex": [
       "\\begin{tabular}{r|llll}\n",
       " et & X1 & X2 & X3\\\\\n",
       "\\hline\n",
       "\t 2016-12-07 오전 1:12:00  & 2016-12-07               & 오전                     &  1:12:00                \\\\\n",
       "\t 2017-03-22 오전 3:08:42  & 2017-03-22               & 오전                     &  3:08:42                \\\\\n",
       "\t 2016-12-13 오전 1:12:00  & 2016-12-13               & 오전                     &  1:12:00                \\\\\n",
       "\t 2017-04-17 오전 1:13:47  & 2017-04-17               & 오전                     &  1:13:47                \\\\\n",
       "\t 2016-12-19 오전 1:12:00  & 2016-12-19               & 오전                     &  1:12:00                \\\\\n",
       "\t 2017-03-16 오전 12:46:19 & 2017-03-16               & 오전                     &  12:46:19               \\\\\n",
       "\\end{tabular}\n"
      ],
      "text/markdown": [
       "\n",
       "et | X1 | X2 | X3 | \n",
       "|---|---|---|---|---|---|\n",
       "| 2016-12-07 오전 1:12:00  | 2016-12-07               | 오전                     |  1:12:00                 | \n",
       "| 2017-03-22 오전 3:08:42  | 2017-03-22               | 오전                     |  3:08:42                 | \n",
       "| 2016-12-13 오전 1:12:00  | 2016-12-13               | 오전                     |  1:12:00                 | \n",
       "| 2017-04-17 오전 1:13:47  | 2017-04-17               | 오전                     |  1:13:47                 | \n",
       "| 2016-12-19 오전 1:12:00  | 2016-12-19               | 오전                     |  1:12:00                 | \n",
       "| 2017-03-16 오전 12:46:19 | 2017-03-16               | 오전                     |  12:46:19                | \n",
       "\n",
       "\n"
      ],
      "text/plain": [
       "  et                       X1         X2   X3       \n",
       "1 2016-12-07 오전 1:12:00  2016-12-07 오전  1:12:00 \n",
       "2 2017-03-22 오전 3:08:42  2017-03-22 오전  3:08:42 \n",
       "3 2016-12-13 오전 1:12:00  2016-12-13 오전  1:12:00 \n",
       "4 2017-04-17 오전 1:13:47  2017-04-17 오전  1:13:47 \n",
       "5 2016-12-19 오전 1:12:00  2016-12-19 오전  1:12:00 \n",
       "6 2017-03-16 오전 12:46:19 2017-03-16 오전  12:46:19"
      ]
     },
     "metadata": {},
     "output_type": "display_data"
    }
   ],
   "source": [
    "et2$X1 <- substr(et, 1, 10)\n",
    "et2$X2 <- substr(et, 12, 13)\n",
    "et2$X3 <- substr(et, 14, 22)\n",
    "head(et2)"
   ]
  },
  {
   "cell_type": "code",
   "execution_count": 74,
   "metadata": {},
   "outputs": [
    {
     "data": {
      "text/html": [
       "<table>\n",
       "<thead><tr><th scope=col>et</th><th scope=col>X1</th><th scope=col>X2</th><th scope=col>X3</th></tr></thead>\n",
       "<tbody>\n",
       "\t<tr><td>2016-12-07 오전 1:12:00 </td><td>2016-12-07              </td><td>am                      </td><td> 1:12:00                </td></tr>\n",
       "\t<tr><td>2017-03-22 오전 3:08:42 </td><td>2017-03-22              </td><td>am                      </td><td> 3:08:42                </td></tr>\n",
       "\t<tr><td>2016-12-13 오전 1:12:00 </td><td>2016-12-13              </td><td>am                      </td><td> 1:12:00                </td></tr>\n",
       "\t<tr><td>2017-04-17 오전 1:13:47 </td><td>2017-04-17              </td><td>am                      </td><td> 1:13:47                </td></tr>\n",
       "\t<tr><td>2016-12-19 오전 1:12:00 </td><td>2016-12-19              </td><td>am                      </td><td> 1:12:00                </td></tr>\n",
       "\t<tr><td>2017-03-16 오전 12:46:19</td><td>2017-03-16              </td><td>am                      </td><td> 12:46:19               </td></tr>\n",
       "</tbody>\n",
       "</table>\n"
      ],
      "text/latex": [
       "\\begin{tabular}{r|llll}\n",
       " et & X1 & X2 & X3\\\\\n",
       "\\hline\n",
       "\t 2016-12-07 오전 1:12:00  & 2016-12-07               & am                       &  1:12:00                \\\\\n",
       "\t 2017-03-22 오전 3:08:42  & 2017-03-22               & am                       &  3:08:42                \\\\\n",
       "\t 2016-12-13 오전 1:12:00  & 2016-12-13               & am                       &  1:12:00                \\\\\n",
       "\t 2017-04-17 오전 1:13:47  & 2017-04-17               & am                       &  1:13:47                \\\\\n",
       "\t 2016-12-19 오전 1:12:00  & 2016-12-19               & am                       &  1:12:00                \\\\\n",
       "\t 2017-03-16 오전 12:46:19 & 2017-03-16               & am                       &  12:46:19               \\\\\n",
       "\\end{tabular}\n"
      ],
      "text/markdown": [
       "\n",
       "et | X1 | X2 | X3 | \n",
       "|---|---|---|---|---|---|\n",
       "| 2016-12-07 오전 1:12:00  | 2016-12-07               | am                       |  1:12:00                 | \n",
       "| 2017-03-22 오전 3:08:42  | 2017-03-22               | am                       |  3:08:42                 | \n",
       "| 2016-12-13 오전 1:12:00  | 2016-12-13               | am                       |  1:12:00                 | \n",
       "| 2017-04-17 오전 1:13:47  | 2017-04-17               | am                       |  1:13:47                 | \n",
       "| 2016-12-19 오전 1:12:00  | 2016-12-19               | am                       |  1:12:00                 | \n",
       "| 2017-03-16 오전 12:46:19 | 2017-03-16               | am                       |  12:46:19                | \n",
       "\n",
       "\n"
      ],
      "text/plain": [
       "  et                       X1         X2 X3       \n",
       "1 2016-12-07 오전 1:12:00  2016-12-07 am  1:12:00 \n",
       "2 2017-03-22 오전 3:08:42  2017-03-22 am  3:08:42 \n",
       "3 2016-12-13 오전 1:12:00  2016-12-13 am  1:12:00 \n",
       "4 2017-04-17 오전 1:13:47  2017-04-17 am  1:13:47 \n",
       "5 2016-12-19 오전 1:12:00  2016-12-19 am  1:12:00 \n",
       "6 2017-03-16 오전 12:46:19 2017-03-16 am  12:46:19"
      ]
     },
     "metadata": {},
     "output_type": "display_data"
    }
   ],
   "source": [
    "et2$X2 <- as.character(et2$X2)\n",
    "et2$X2 <- ifelse(et2$X2 == \"오전\", et2$X2 <- \"am\", et2$X2 <- \"pm\")\n",
    "head(et2)"
   ]
  },
  {
   "cell_type": "code",
   "execution_count": 75,
   "metadata": {},
   "outputs": [
    {
     "data": {
      "text/html": [
       "<table>\n",
       "<thead><tr><th scope=col>et</th><th scope=col>X1</th><th scope=col>X2</th><th scope=col>X3</th><th scope=col>X4</th></tr></thead>\n",
       "<tbody>\n",
       "\t<tr><td>2016-12-07 오전 1:12:00 </td><td>2016-12-07              </td><td>am                      </td><td> 1:12:00                </td><td>2016-12-07  1:12:00 am  </td></tr>\n",
       "\t<tr><td>2017-03-22 오전 3:08:42 </td><td>2017-03-22              </td><td>am                      </td><td> 3:08:42                </td><td>2017-03-22  3:08:42 am  </td></tr>\n",
       "\t<tr><td>2016-12-13 오전 1:12:00 </td><td>2016-12-13              </td><td>am                      </td><td> 1:12:00                </td><td>2016-12-13  1:12:00 am  </td></tr>\n",
       "\t<tr><td>2017-04-17 오전 1:13:47 </td><td>2017-04-17              </td><td>am                      </td><td> 1:13:47                </td><td>2017-04-17  1:13:47 am  </td></tr>\n",
       "\t<tr><td>2016-12-19 오전 1:12:00 </td><td>2016-12-19              </td><td>am                      </td><td> 1:12:00                </td><td>2016-12-19  1:12:00 am  </td></tr>\n",
       "\t<tr><td>2017-03-16 오전 12:46:19</td><td>2017-03-16              </td><td>am                      </td><td> 12:46:19               </td><td>2017-03-16  12:46:19 am </td></tr>\n",
       "</tbody>\n",
       "</table>\n"
      ],
      "text/latex": [
       "\\begin{tabular}{r|lllll}\n",
       " et & X1 & X2 & X3 & X4\\\\\n",
       "\\hline\n",
       "\t 2016-12-07 오전 1:12:00  & 2016-12-07               & am                       &  1:12:00                 & 2016-12-07  1:12:00 am  \\\\\n",
       "\t 2017-03-22 오전 3:08:42  & 2017-03-22               & am                       &  3:08:42                 & 2017-03-22  3:08:42 am  \\\\\n",
       "\t 2016-12-13 오전 1:12:00  & 2016-12-13               & am                       &  1:12:00                 & 2016-12-13  1:12:00 am  \\\\\n",
       "\t 2017-04-17 오전 1:13:47  & 2017-04-17               & am                       &  1:13:47                 & 2017-04-17  1:13:47 am  \\\\\n",
       "\t 2016-12-19 오전 1:12:00  & 2016-12-19               & am                       &  1:12:00                 & 2016-12-19  1:12:00 am  \\\\\n",
       "\t 2017-03-16 오전 12:46:19 & 2017-03-16               & am                       &  12:46:19                & 2017-03-16  12:46:19 am \\\\\n",
       "\\end{tabular}\n"
      ],
      "text/markdown": [
       "\n",
       "et | X1 | X2 | X3 | X4 | \n",
       "|---|---|---|---|---|---|\n",
       "| 2016-12-07 오전 1:12:00  | 2016-12-07               | am                       |  1:12:00                 | 2016-12-07  1:12:00 am   | \n",
       "| 2017-03-22 오전 3:08:42  | 2017-03-22               | am                       |  3:08:42                 | 2017-03-22  3:08:42 am   | \n",
       "| 2016-12-13 오전 1:12:00  | 2016-12-13               | am                       |  1:12:00                 | 2016-12-13  1:12:00 am   | \n",
       "| 2017-04-17 오전 1:13:47  | 2017-04-17               | am                       |  1:13:47                 | 2017-04-17  1:13:47 am   | \n",
       "| 2016-12-19 오전 1:12:00  | 2016-12-19               | am                       |  1:12:00                 | 2016-12-19  1:12:00 am   | \n",
       "| 2017-03-16 오전 12:46:19 | 2017-03-16               | am                       |  12:46:19                | 2017-03-16  12:46:19 am  | \n",
       "\n",
       "\n"
      ],
      "text/plain": [
       "  et                       X1         X2 X3        X4                     \n",
       "1 2016-12-07 오전 1:12:00  2016-12-07 am  1:12:00  2016-12-07  1:12:00 am \n",
       "2 2017-03-22 오전 3:08:42  2017-03-22 am  3:08:42  2017-03-22  3:08:42 am \n",
       "3 2016-12-13 오전 1:12:00  2016-12-13 am  1:12:00  2016-12-13  1:12:00 am \n",
       "4 2017-04-17 오전 1:13:47  2017-04-17 am  1:13:47  2017-04-17  1:13:47 am \n",
       "5 2016-12-19 오전 1:12:00  2016-12-19 am  1:12:00  2016-12-19  1:12:00 am \n",
       "6 2017-03-16 오전 12:46:19 2017-03-16 am  12:46:19 2017-03-16  12:46:19 am"
      ]
     },
     "metadata": {},
     "output_type": "display_data"
    }
   ],
   "source": [
    "et2$X4 <- paste(et2$X1, et2$X3, et2$X2)\n",
    "head(et2)"
   ]
  },
  {
   "cell_type": "code",
   "execution_count": 76,
   "metadata": {},
   "outputs": [
    {
     "name": "stderr",
     "output_type": "stream",
     "text": [
      "Warning message:\n",
      "\" 381 failed to parse.\""
     ]
    },
    {
     "data": {
      "text/html": [
       "<table>\n",
       "<thead><tr><th scope=col>et</th><th scope=col>X1</th><th scope=col>X2</th><th scope=col>X3</th><th scope=col>X4</th><th scope=col>X5</th></tr></thead>\n",
       "<tbody>\n",
       "\t<tr><td>2016-12-07 오전 1:12:00 </td><td>2016-12-07              </td><td>am                      </td><td> 1:12:00                </td><td>2016-12-07  1:12:00 am  </td><td>2016-12-07 01:12:00     </td></tr>\n",
       "\t<tr><td>2017-03-22 오전 3:08:42 </td><td>2017-03-22              </td><td>am                      </td><td> 3:08:42                </td><td>2017-03-22  3:08:42 am  </td><td>2017-03-22 03:08:42     </td></tr>\n",
       "\t<tr><td>2016-12-13 오전 1:12:00 </td><td>2016-12-13              </td><td>am                      </td><td> 1:12:00                </td><td>2016-12-13  1:12:00 am  </td><td>2016-12-13 01:12:00     </td></tr>\n",
       "\t<tr><td>2017-04-17 오전 1:13:47 </td><td>2017-04-17              </td><td>am                      </td><td> 1:13:47                </td><td>2017-04-17  1:13:47 am  </td><td>2017-04-17 01:13:47     </td></tr>\n",
       "\t<tr><td>2016-12-19 오전 1:12:00 </td><td>2016-12-19              </td><td>am                      </td><td> 1:12:00                </td><td>2016-12-19  1:12:00 am  </td><td>2016-12-19 01:12:00     </td></tr>\n",
       "\t<tr><td>2017-03-16 오전 12:46:19</td><td>2017-03-16              </td><td>am                      </td><td> 12:46:19               </td><td>2017-03-16  12:46:19 am </td><td>2017-03-16 00:46:19     </td></tr>\n",
       "</tbody>\n",
       "</table>\n"
      ],
      "text/latex": [
       "\\begin{tabular}{r|llllll}\n",
       " et & X1 & X2 & X3 & X4 & X5\\\\\n",
       "\\hline\n",
       "\t 2016-12-07 오전 1:12:00  & 2016-12-07               & am                       &  1:12:00                 & 2016-12-07  1:12:00 am   & 2016-12-07 01:12:00     \\\\\n",
       "\t 2017-03-22 오전 3:08:42  & 2017-03-22               & am                       &  3:08:42                 & 2017-03-22  3:08:42 am   & 2017-03-22 03:08:42     \\\\\n",
       "\t 2016-12-13 오전 1:12:00  & 2016-12-13               & am                       &  1:12:00                 & 2016-12-13  1:12:00 am   & 2016-12-13 01:12:00     \\\\\n",
       "\t 2017-04-17 오전 1:13:47  & 2017-04-17               & am                       &  1:13:47                 & 2017-04-17  1:13:47 am   & 2017-04-17 01:13:47     \\\\\n",
       "\t 2016-12-19 오전 1:12:00  & 2016-12-19               & am                       &  1:12:00                 & 2016-12-19  1:12:00 am   & 2016-12-19 01:12:00     \\\\\n",
       "\t 2017-03-16 오전 12:46:19 & 2017-03-16               & am                       &  12:46:19                & 2017-03-16  12:46:19 am  & 2017-03-16 00:46:19     \\\\\n",
       "\\end{tabular}\n"
      ],
      "text/markdown": [
       "\n",
       "et | X1 | X2 | X3 | X4 | X5 | \n",
       "|---|---|---|---|---|---|\n",
       "| 2016-12-07 오전 1:12:00  | 2016-12-07               | am                       |  1:12:00                 | 2016-12-07  1:12:00 am   | 2016-12-07 01:12:00      | \n",
       "| 2017-03-22 오전 3:08:42  | 2017-03-22               | am                       |  3:08:42                 | 2017-03-22  3:08:42 am   | 2017-03-22 03:08:42      | \n",
       "| 2016-12-13 오전 1:12:00  | 2016-12-13               | am                       |  1:12:00                 | 2016-12-13  1:12:00 am   | 2016-12-13 01:12:00      | \n",
       "| 2017-04-17 오전 1:13:47  | 2017-04-17               | am                       |  1:13:47                 | 2017-04-17  1:13:47 am   | 2017-04-17 01:13:47      | \n",
       "| 2016-12-19 오전 1:12:00  | 2016-12-19               | am                       |  1:12:00                 | 2016-12-19  1:12:00 am   | 2016-12-19 01:12:00      | \n",
       "| 2017-03-16 오전 12:46:19 | 2017-03-16               | am                       |  12:46:19                | 2017-03-16  12:46:19 am  | 2017-03-16 00:46:19      | \n",
       "\n",
       "\n"
      ],
      "text/plain": [
       "  et                       X1         X2 X3        X4                     \n",
       "1 2016-12-07 오전 1:12:00  2016-12-07 am  1:12:00  2016-12-07  1:12:00 am \n",
       "2 2017-03-22 오전 3:08:42  2017-03-22 am  3:08:42  2017-03-22  3:08:42 am \n",
       "3 2016-12-13 오전 1:12:00  2016-12-13 am  1:12:00  2016-12-13  1:12:00 am \n",
       "4 2017-04-17 오전 1:13:47  2017-04-17 am  1:13:47  2017-04-17  1:13:47 am \n",
       "5 2016-12-19 오전 1:12:00  2016-12-19 am  1:12:00  2016-12-19  1:12:00 am \n",
       "6 2017-03-16 오전 12:46:19 2017-03-16 am  12:46:19 2017-03-16  12:46:19 am\n",
       "  X5                 \n",
       "1 2016-12-07 01:12:00\n",
       "2 2017-03-22 03:08:42\n",
       "3 2016-12-13 01:12:00\n",
       "4 2017-04-17 01:13:47\n",
       "5 2016-12-19 01:12:00\n",
       "6 2017-03-16 00:46:19"
      ]
     },
     "metadata": {},
     "output_type": "display_data"
    }
   ],
   "source": [
    "et2$X5 <- parse_date_time(et2$X4, c(\"%Y-%m-%d %H:%M:%S %p\"))\n",
    "head(et2)"
   ]
  },
  {
   "cell_type": "markdown",
   "metadata": {},
   "source": [
    "### NA값이 있기 때문에 381개 변환실패"
   ]
  },
  {
   "cell_type": "code",
   "execution_count": 77,
   "metadata": {},
   "outputs": [
    {
     "data": {
      "text/html": [
       "<table>\n",
       "<thead><tr><th scope=col>공정</th><th scope=col>시작</th><th scope=col>끝</th><th scope=col>Process</th><th scope=col>설비</th><th scope=col>제품</th><th scope=col>중량</th><th scope=col>Navigate</th><th scope=col>도로</th><th scope=col>공장</th><th scope=col>거리</th><th scope=col>sttime</th><th scope=col>etime</th></tr></thead>\n",
       "<tbody>\n",
       "\t<tr><td>BSA000_이동             </td><td>2016-12-07 오전 1:12:00 </td><td>2016-12-07 오전 1:12:00 </td><td>NA                      </td><td>#101                    </td><td>1040_988_0              </td><td> 82.1                   </td><td>NA                      </td><td>NA                      </td><td>PO30                    </td><td>0                       </td><td>2016-12-07 01:12:00     </td><td>2016-12-07 01:12:00     </td></tr>\n",
       "\t<tr><td>BSA000_작업             </td><td>2016-12-07 오전 1:12:00 </td><td>2017-03-22 오전 3:08:42 </td><td>2017-03-22 오전 3:08:42 </td><td>NA                      </td><td>1040_988_0              </td><td> 82.1                   </td><td>NA                      </td><td>NA                      </td><td>PO30                    </td><td>0                       </td><td>2016-12-07 01:12:00     </td><td>2017-03-22 03:08:42     </td></tr>\n",
       "\t<tr><td>BSA000_이동             </td><td>2016-12-13 오전 1:12:00 </td><td>2016-12-13 오전 1:12:00 </td><td>NA                      </td><td>#101                    </td><td>1047_998_0              </td><td> 96.3                   </td><td>NA                      </td><td>NA                      </td><td>DM30                    </td><td>0                       </td><td>2016-12-13 01:12:00     </td><td>2016-12-13 01:12:00     </td></tr>\n",
       "\t<tr><td>BSA000_작업             </td><td>2016-12-13 오전 1:12:00 </td><td>2017-04-17 오전 1:13:47 </td><td>2017-04-17 오전 1:13:47 </td><td>NA                      </td><td>1047_998_0              </td><td> 96.3                   </td><td>NA                      </td><td>NA                      </td><td>DM30                    </td><td>0                       </td><td>2016-12-13 01:12:00     </td><td>2017-04-17 01:13:47     </td></tr>\n",
       "\t<tr><td>BSA000_이동             </td><td>2016-12-19 오전 1:12:00 </td><td>2016-12-19 오전 1:12:00 </td><td>NA                      </td><td>#354                    </td><td>1002_131_3              </td><td>283.0                   </td><td>NA                      </td><td>NA                      </td><td>3D3B                    </td><td>0                       </td><td>2016-12-19 01:12:00     </td><td>2016-12-19 01:12:00     </td></tr>\n",
       "\t<tr><td>BSA000_작업             </td><td>2016-12-19 오전 1:12:00 </td><td>2017-03-16 오전 12:46:19</td><td>2017-03-16 오전 12:46:19</td><td>NA                      </td><td>1002_131_3              </td><td>283.0                   </td><td>NA                      </td><td>NA                      </td><td>3D3B                    </td><td>0                       </td><td>2016-12-19 01:12:00     </td><td>2017-03-16 00:46:19     </td></tr>\n",
       "</tbody>\n",
       "</table>\n"
      ],
      "text/latex": [
       "\\begin{tabular}{r|lllllllllllll}\n",
       " 공정 & 시작 & 끝 & Process & 설비 & 제품 & 중량 & Navigate & 도로 & 공장 & 거리 & sttime & etime\\\\\n",
       "\\hline\n",
       "\t BSA000\\_이동            & 2016-12-07 오전 1:12:00  & 2016-12-07 오전 1:12:00  & NA                       & \\#101                   & 1040\\_988\\_0           &  82.1                    & NA                       & NA                       & PO30                     & 0                        & 2016-12-07 01:12:00      & 2016-12-07 01:12:00     \\\\\n",
       "\t BSA000\\_작업            & 2016-12-07 오전 1:12:00  & 2017-03-22 오전 3:08:42  & 2017-03-22 오전 3:08:42  & NA                       & 1040\\_988\\_0           &  82.1                    & NA                       & NA                       & PO30                     & 0                        & 2016-12-07 01:12:00      & 2017-03-22 03:08:42     \\\\\n",
       "\t BSA000\\_이동            & 2016-12-13 오전 1:12:00  & 2016-12-13 오전 1:12:00  & NA                       & \\#101                   & 1047\\_998\\_0           &  96.3                    & NA                       & NA                       & DM30                     & 0                        & 2016-12-13 01:12:00      & 2016-12-13 01:12:00     \\\\\n",
       "\t BSA000\\_작업            & 2016-12-13 오전 1:12:00  & 2017-04-17 오전 1:13:47  & 2017-04-17 오전 1:13:47  & NA                       & 1047\\_998\\_0           &  96.3                    & NA                       & NA                       & DM30                     & 0                        & 2016-12-13 01:12:00      & 2017-04-17 01:13:47     \\\\\n",
       "\t BSA000\\_이동            & 2016-12-19 오전 1:12:00  & 2016-12-19 오전 1:12:00  & NA                       & \\#354                   & 1002\\_131\\_3           & 283.0                    & NA                       & NA                       & 3D3B                     & 0                        & 2016-12-19 01:12:00      & 2016-12-19 01:12:00     \\\\\n",
       "\t BSA000\\_작업            & 2016-12-19 오전 1:12:00  & 2017-03-16 오전 12:46:19 & 2017-03-16 오전 12:46:19 & NA                       & 1002\\_131\\_3           & 283.0                    & NA                       & NA                       & 3D3B                     & 0                        & 2016-12-19 01:12:00      & 2017-03-16 00:46:19     \\\\\n",
       "\\end{tabular}\n"
      ],
      "text/markdown": [
       "\n",
       "공정 | 시작 | 끝 | Process | 설비 | 제품 | 중량 | Navigate | 도로 | 공장 | 거리 | sttime | etime | \n",
       "|---|---|---|---|---|---|\n",
       "| BSA000_이동              | 2016-12-07 오전 1:12:00  | 2016-12-07 오전 1:12:00  | NA                       | #101                     | 1040_988_0               |  82.1                    | NA                       | NA                       | PO30                     | 0                        | 2016-12-07 01:12:00      | 2016-12-07 01:12:00      | \n",
       "| BSA000_작업              | 2016-12-07 오전 1:12:00  | 2017-03-22 오전 3:08:42  | 2017-03-22 오전 3:08:42  | NA                       | 1040_988_0               |  82.1                    | NA                       | NA                       | PO30                     | 0                        | 2016-12-07 01:12:00      | 2017-03-22 03:08:42      | \n",
       "| BSA000_이동              | 2016-12-13 오전 1:12:00  | 2016-12-13 오전 1:12:00  | NA                       | #101                     | 1047_998_0               |  96.3                    | NA                       | NA                       | DM30                     | 0                        | 2016-12-13 01:12:00      | 2016-12-13 01:12:00      | \n",
       "| BSA000_작업              | 2016-12-13 오전 1:12:00  | 2017-04-17 오전 1:13:47  | 2017-04-17 오전 1:13:47  | NA                       | 1047_998_0               |  96.3                    | NA                       | NA                       | DM30                     | 0                        | 2016-12-13 01:12:00      | 2017-04-17 01:13:47      | \n",
       "| BSA000_이동              | 2016-12-19 오전 1:12:00  | 2016-12-19 오전 1:12:00  | NA                       | #354                     | 1002_131_3               | 283.0                    | NA                       | NA                       | 3D3B                     | 0                        | 2016-12-19 01:12:00      | 2016-12-19 01:12:00      | \n",
       "| BSA000_작업              | 2016-12-19 오전 1:12:00  | 2017-03-16 오전 12:46:19 | 2017-03-16 오전 12:46:19 | NA                       | 1002_131_3               | 283.0                    | NA                       | NA                       | 3D3B                     | 0                        | 2016-12-19 01:12:00      | 2017-03-16 00:46:19      | \n",
       "\n",
       "\n"
      ],
      "text/plain": [
       "  공정        시작                    끝                      \n",
       "1 BSA000_이동 2016-12-07 오전 1:12:00 2016-12-07 오전 1:12:00 \n",
       "2 BSA000_작업 2016-12-07 오전 1:12:00 2017-03-22 오전 3:08:42 \n",
       "3 BSA000_이동 2016-12-13 오전 1:12:00 2016-12-13 오전 1:12:00 \n",
       "4 BSA000_작업 2016-12-13 오전 1:12:00 2017-04-17 오전 1:13:47 \n",
       "5 BSA000_이동 2016-12-19 오전 1:12:00 2016-12-19 오전 1:12:00 \n",
       "6 BSA000_작업 2016-12-19 오전 1:12:00 2017-03-16 오전 12:46:19\n",
       "  Process                  설비 제품       중량  Navigate 도로 공장 거리\n",
       "1 NA                       #101 1040_988_0  82.1 NA       NA   PO30 0   \n",
       "2 2017-03-22 오전 3:08:42  NA   1040_988_0  82.1 NA       NA   PO30 0   \n",
       "3 NA                       #101 1047_998_0  96.3 NA       NA   DM30 0   \n",
       "4 2017-04-17 오전 1:13:47  NA   1047_998_0  96.3 NA       NA   DM30 0   \n",
       "5 NA                       #354 1002_131_3 283.0 NA       NA   3D3B 0   \n",
       "6 2017-03-16 오전 12:46:19 NA   1002_131_3 283.0 NA       NA   3D3B 0   \n",
       "  sttime              etime              \n",
       "1 2016-12-07 01:12:00 2016-12-07 01:12:00\n",
       "2 2016-12-07 01:12:00 2017-03-22 03:08:42\n",
       "3 2016-12-13 01:12:00 2016-12-13 01:12:00\n",
       "4 2016-12-13 01:12:00 2017-04-17 01:13:47\n",
       "5 2016-12-19 01:12:00 2016-12-19 01:12:00\n",
       "6 2016-12-19 01:12:00 2017-03-16 00:46:19"
      ]
     },
     "metadata": {},
     "output_type": "display_data"
    }
   ],
   "source": [
    "nipa$etime <- et2$X5\n",
    "head(nipa)"
   ]
  },
  {
   "cell_type": "markdown",
   "metadata": {},
   "source": [
    "### 3) Porcess, Navigate는 같은 방법으로 '끝'과 같은 방법으로 처리"
   ]
  },
  {
   "cell_type": "code",
   "execution_count": 78,
   "metadata": {},
   "outputs": [
    {
     "data": {
      "text/html": [
       "<ol class=list-inline>\n",
       "\t<li>NA</li>\n",
       "\t<li>'2017-03-22 오전 3:08:42'</li>\n",
       "\t<li>NA</li>\n",
       "\t<li>'2017-04-17 오전 1:13:47'</li>\n",
       "\t<li>NA</li>\n",
       "\t<li>'2017-03-16 오전 12:46:19'</li>\n",
       "</ol>\n"
      ],
      "text/latex": [
       "\\begin{enumerate*}\n",
       "\\item NA\n",
       "\\item '2017-03-22 오전 3:08:42'\n",
       "\\item NA\n",
       "\\item '2017-04-17 오전 1:13:47'\n",
       "\\item NA\n",
       "\\item '2017-03-16 오전 12:46:19'\n",
       "\\end{enumerate*}\n"
      ],
      "text/markdown": [
       "1. NA\n",
       "2. '2017-03-22 오전 3:08:42'\n",
       "3. NA\n",
       "4. '2017-04-17 오전 1:13:47'\n",
       "5. NA\n",
       "6. '2017-03-16 오전 12:46:19'\n",
       "\n",
       "\n"
      ],
      "text/plain": [
       "[1] NA                         \"2017-03-22 오전 3:08:42\" \n",
       "[3] NA                         \"2017-04-17 오전 1:13:47\" \n",
       "[5] NA                         \"2017-03-16 오전 12:46:19\""
      ]
     },
     "metadata": {},
     "output_type": "display_data"
    },
    {
     "data": {
      "text/html": [
       "<table>\n",
       "<thead><tr><th scope=col>pt</th></tr></thead>\n",
       "<tbody>\n",
       "\t<tr><td>NA                      </td></tr>\n",
       "\t<tr><td>2017-03-22 오전 3:08:42 </td></tr>\n",
       "\t<tr><td>NA                      </td></tr>\n",
       "\t<tr><td>2017-04-17 오전 1:13:47 </td></tr>\n",
       "\t<tr><td>NA                      </td></tr>\n",
       "\t<tr><td>2017-03-16 오전 12:46:19</td></tr>\n",
       "</tbody>\n",
       "</table>\n"
      ],
      "text/latex": [
       "\\begin{tabular}{r|l}\n",
       " pt\\\\\n",
       "\\hline\n",
       "\t NA                      \\\\\n",
       "\t 2017-03-22 오전 3:08:42 \\\\\n",
       "\t NA                      \\\\\n",
       "\t 2017-04-17 오전 1:13:47 \\\\\n",
       "\t NA                      \\\\\n",
       "\t 2017-03-16 오전 12:46:19\\\\\n",
       "\\end{tabular}\n"
      ],
      "text/markdown": [
       "\n",
       "pt | \n",
       "|---|---|---|---|---|---|\n",
       "| NA                       | \n",
       "| 2017-03-22 오전 3:08:42  | \n",
       "| NA                       | \n",
       "| 2017-04-17 오전 1:13:47  | \n",
       "| NA                       | \n",
       "| 2017-03-16 오전 12:46:19 | \n",
       "\n",
       "\n"
      ],
      "text/plain": [
       "  pt                      \n",
       "1 NA                      \n",
       "2 2017-03-22 오전 3:08:42 \n",
       "3 NA                      \n",
       "4 2017-04-17 오전 1:13:47 \n",
       "5 NA                      \n",
       "6 2017-03-16 오전 12:46:19"
      ]
     },
     "metadata": {},
     "output_type": "display_data"
    },
    {
     "data": {
      "text/html": [
       "<table>\n",
       "<thead><tr><th scope=col>pt</th><th scope=col>X1</th><th scope=col>X2</th><th scope=col>X3</th></tr></thead>\n",
       "<tbody>\n",
       "\t<tr><td>NA                      </td><td>NA                      </td><td>NA                      </td><td>NA                      </td></tr>\n",
       "\t<tr><td>2017-03-22 오전 3:08:42 </td><td>2017-03-22              </td><td>오전                    </td><td>3:08:42                 </td></tr>\n",
       "\t<tr><td>NA                      </td><td>NA                      </td><td>NA                      </td><td>NA                      </td></tr>\n",
       "\t<tr><td>2017-04-17 오전 1:13:47 </td><td>2017-04-17              </td><td>오전                    </td><td>1:13:47                 </td></tr>\n",
       "\t<tr><td>NA                      </td><td>NA                      </td><td>NA                      </td><td>NA                      </td></tr>\n",
       "\t<tr><td>2017-03-16 오전 12:46:19</td><td>2017-03-16              </td><td>오전                    </td><td>12:46:19                </td></tr>\n",
       "</tbody>\n",
       "</table>\n"
      ],
      "text/latex": [
       "\\begin{tabular}{r|llll}\n",
       " pt & X1 & X2 & X3\\\\\n",
       "\\hline\n",
       "\t NA                       & NA                       & NA                       & NA                      \\\\\n",
       "\t 2017-03-22 오전 3:08:42  & 2017-03-22               & 오전                     & 3:08:42                 \\\\\n",
       "\t NA                       & NA                       & NA                       & NA                      \\\\\n",
       "\t 2017-04-17 오전 1:13:47  & 2017-04-17               & 오전                     & 1:13:47                 \\\\\n",
       "\t NA                       & NA                       & NA                       & NA                      \\\\\n",
       "\t 2017-03-16 오전 12:46:19 & 2017-03-16               & 오전                     & 12:46:19                \\\\\n",
       "\\end{tabular}\n"
      ],
      "text/markdown": [
       "\n",
       "pt | X1 | X2 | X3 | \n",
       "|---|---|---|---|---|---|\n",
       "| NA                       | NA                       | NA                       | NA                       | \n",
       "| 2017-03-22 오전 3:08:42  | 2017-03-22               | 오전                     | 3:08:42                  | \n",
       "| NA                       | NA                       | NA                       | NA                       | \n",
       "| 2017-04-17 오전 1:13:47  | 2017-04-17               | 오전                     | 1:13:47                  | \n",
       "| NA                       | NA                       | NA                       | NA                       | \n",
       "| 2017-03-16 오전 12:46:19 | 2017-03-16               | 오전                     | 12:46:19                 | \n",
       "\n",
       "\n"
      ],
      "text/plain": [
       "  pt                       X1         X2   X3      \n",
       "1 NA                       NA         NA   NA      \n",
       "2 2017-03-22 오전 3:08:42  2017-03-22 오전 3:08:42 \n",
       "3 NA                       NA         NA   NA      \n",
       "4 2017-04-17 오전 1:13:47  2017-04-17 오전 1:13:47 \n",
       "5 NA                       NA         NA   NA      \n",
       "6 2017-03-16 오전 12:46:19 2017-03-16 오전 12:46:19"
      ]
     },
     "metadata": {},
     "output_type": "display_data"
    },
    {
     "data": {
      "text/html": [
       "<table>\n",
       "<thead><tr><th scope=col>pt</th><th scope=col>X1</th><th scope=col>X2</th><th scope=col>X3</th></tr></thead>\n",
       "<tbody>\n",
       "\t<tr><td>NA                      </td><td>NA                      </td><td>NA                      </td><td>NA                      </td></tr>\n",
       "\t<tr><td>2017-03-22 오전 3:08:42 </td><td>2017-03-22              </td><td>am                      </td><td>3:08:42                 </td></tr>\n",
       "\t<tr><td>NA                      </td><td>NA                      </td><td>NA                      </td><td>NA                      </td></tr>\n",
       "\t<tr><td>2017-04-17 오전 1:13:47 </td><td>2017-04-17              </td><td>am                      </td><td>1:13:47                 </td></tr>\n",
       "\t<tr><td>NA                      </td><td>NA                      </td><td>NA                      </td><td>NA                      </td></tr>\n",
       "\t<tr><td>2017-03-16 오전 12:46:19</td><td>2017-03-16              </td><td>am                      </td><td>12:46:19                </td></tr>\n",
       "</tbody>\n",
       "</table>\n"
      ],
      "text/latex": [
       "\\begin{tabular}{r|llll}\n",
       " pt & X1 & X2 & X3\\\\\n",
       "\\hline\n",
       "\t NA                       & NA                       & NA                       & NA                      \\\\\n",
       "\t 2017-03-22 오전 3:08:42  & 2017-03-22               & am                       & 3:08:42                 \\\\\n",
       "\t NA                       & NA                       & NA                       & NA                      \\\\\n",
       "\t 2017-04-17 오전 1:13:47  & 2017-04-17               & am                       & 1:13:47                 \\\\\n",
       "\t NA                       & NA                       & NA                       & NA                      \\\\\n",
       "\t 2017-03-16 오전 12:46:19 & 2017-03-16               & am                       & 12:46:19                \\\\\n",
       "\\end{tabular}\n"
      ],
      "text/markdown": [
       "\n",
       "pt | X1 | X2 | X3 | \n",
       "|---|---|---|---|---|---|\n",
       "| NA                       | NA                       | NA                       | NA                       | \n",
       "| 2017-03-22 오전 3:08:42  | 2017-03-22               | am                       | 3:08:42                  | \n",
       "| NA                       | NA                       | NA                       | NA                       | \n",
       "| 2017-04-17 오전 1:13:47  | 2017-04-17               | am                       | 1:13:47                  | \n",
       "| NA                       | NA                       | NA                       | NA                       | \n",
       "| 2017-03-16 오전 12:46:19 | 2017-03-16               | am                       | 12:46:19                 | \n",
       "\n",
       "\n"
      ],
      "text/plain": [
       "  pt                       X1         X2 X3      \n",
       "1 NA                       NA         NA NA      \n",
       "2 2017-03-22 오전 3:08:42  2017-03-22 am 3:08:42 \n",
       "3 NA                       NA         NA NA      \n",
       "4 2017-04-17 오전 1:13:47  2017-04-17 am 1:13:47 \n",
       "5 NA                       NA         NA NA      \n",
       "6 2017-03-16 오전 12:46:19 2017-03-16 am 12:46:19"
      ]
     },
     "metadata": {},
     "output_type": "display_data"
    },
    {
     "data": {
      "text/html": [
       "<table>\n",
       "<thead><tr><th scope=col>pt</th><th scope=col>X1</th><th scope=col>X2</th><th scope=col>X3</th><th scope=col>X4</th></tr></thead>\n",
       "<tbody>\n",
       "\t<tr><td>NA                      </td><td>NA                      </td><td>NA                      </td><td>NA                      </td><td>NA                      </td></tr>\n",
       "\t<tr><td>2017-03-22 오전 3:08:42 </td><td>2017-03-22              </td><td>am                      </td><td>3:08:42                 </td><td>2017-03-22 3:08:42 am   </td></tr>\n",
       "\t<tr><td>NA                      </td><td>NA                      </td><td>NA                      </td><td>NA                      </td><td>NA                      </td></tr>\n",
       "\t<tr><td>2017-04-17 오전 1:13:47 </td><td>2017-04-17              </td><td>am                      </td><td>1:13:47                 </td><td>2017-04-17 1:13:47 am   </td></tr>\n",
       "\t<tr><td>NA                      </td><td>NA                      </td><td>NA                      </td><td>NA                      </td><td>NA                      </td></tr>\n",
       "\t<tr><td>2017-03-16 오전 12:46:19</td><td>2017-03-16              </td><td>am                      </td><td>12:46:19                </td><td>2017-03-16 12:46:19 am  </td></tr>\n",
       "</tbody>\n",
       "</table>\n"
      ],
      "text/latex": [
       "\\begin{tabular}{r|lllll}\n",
       " pt & X1 & X2 & X3 & X4\\\\\n",
       "\\hline\n",
       "\t NA                       & NA                       & NA                       & NA                       & NA                      \\\\\n",
       "\t 2017-03-22 오전 3:08:42  & 2017-03-22               & am                       & 3:08:42                  & 2017-03-22 3:08:42 am   \\\\\n",
       "\t NA                       & NA                       & NA                       & NA                       & NA                      \\\\\n",
       "\t 2017-04-17 오전 1:13:47  & 2017-04-17               & am                       & 1:13:47                  & 2017-04-17 1:13:47 am   \\\\\n",
       "\t NA                       & NA                       & NA                       & NA                       & NA                      \\\\\n",
       "\t 2017-03-16 오전 12:46:19 & 2017-03-16               & am                       & 12:46:19                 & 2017-03-16 12:46:19 am  \\\\\n",
       "\\end{tabular}\n"
      ],
      "text/markdown": [
       "\n",
       "pt | X1 | X2 | X3 | X4 | \n",
       "|---|---|---|---|---|---|\n",
       "| NA                       | NA                       | NA                       | NA                       | NA                       | \n",
       "| 2017-03-22 오전 3:08:42  | 2017-03-22               | am                       | 3:08:42                  | 2017-03-22 3:08:42 am    | \n",
       "| NA                       | NA                       | NA                       | NA                       | NA                       | \n",
       "| 2017-04-17 오전 1:13:47  | 2017-04-17               | am                       | 1:13:47                  | 2017-04-17 1:13:47 am    | \n",
       "| NA                       | NA                       | NA                       | NA                       | NA                       | \n",
       "| 2017-03-16 오전 12:46:19 | 2017-03-16               | am                       | 12:46:19                 | 2017-03-16 12:46:19 am   | \n",
       "\n",
       "\n"
      ],
      "text/plain": [
       "  pt                       X1         X2 X3       X4                    \n",
       "1 NA                       NA         NA NA       NA                    \n",
       "2 2017-03-22 오전 3:08:42  2017-03-22 am 3:08:42  2017-03-22 3:08:42 am \n",
       "3 NA                       NA         NA NA       NA                    \n",
       "4 2017-04-17 오전 1:13:47  2017-04-17 am 1:13:47  2017-04-17 1:13:47 am \n",
       "5 NA                       NA         NA NA       NA                    \n",
       "6 2017-03-16 오전 12:46:19 2017-03-16 am 12:46:19 2017-03-16 12:46:19 am"
      ]
     },
     "metadata": {},
     "output_type": "display_data"
    },
    {
     "data": {
      "text/html": [
       "<table>\n",
       "<thead><tr><th scope=col>pt</th><th scope=col>X1</th><th scope=col>X2</th><th scope=col>X3</th><th scope=col>X4</th><th scope=col>X5</th></tr></thead>\n",
       "<tbody>\n",
       "\t<tr><td>NA                      </td><td>NA                      </td><td>NA                      </td><td>NA                      </td><td>NA                      </td><td>NA                      </td></tr>\n",
       "\t<tr><td>2017-03-22 오전 3:08:42 </td><td>2017-03-22              </td><td>am                      </td><td>3:08:42                 </td><td>2017-03-22 3:08:42 am   </td><td>2017-03-22 03:08:42     </td></tr>\n",
       "\t<tr><td>NA                      </td><td>NA                      </td><td>NA                      </td><td>NA                      </td><td>NA                      </td><td>NA                      </td></tr>\n",
       "\t<tr><td>2017-04-17 오전 1:13:47 </td><td>2017-04-17              </td><td>am                      </td><td>1:13:47                 </td><td>2017-04-17 1:13:47 am   </td><td>2017-04-17 01:13:47     </td></tr>\n",
       "\t<tr><td>NA                      </td><td>NA                      </td><td>NA                      </td><td>NA                      </td><td>NA                      </td><td>NA                      </td></tr>\n",
       "\t<tr><td>2017-03-16 오전 12:46:19</td><td>2017-03-16              </td><td>am                      </td><td>12:46:19                </td><td>2017-03-16 12:46:19 am  </td><td>2017-03-16 00:46:19     </td></tr>\n",
       "</tbody>\n",
       "</table>\n"
      ],
      "text/latex": [
       "\\begin{tabular}{r|llllll}\n",
       " pt & X1 & X2 & X3 & X4 & X5\\\\\n",
       "\\hline\n",
       "\t NA                       & NA                       & NA                       & NA                       & NA                       & NA                      \\\\\n",
       "\t 2017-03-22 오전 3:08:42  & 2017-03-22               & am                       & 3:08:42                  & 2017-03-22 3:08:42 am    & 2017-03-22 03:08:42     \\\\\n",
       "\t NA                       & NA                       & NA                       & NA                       & NA                       & NA                      \\\\\n",
       "\t 2017-04-17 오전 1:13:47  & 2017-04-17               & am                       & 1:13:47                  & 2017-04-17 1:13:47 am    & 2017-04-17 01:13:47     \\\\\n",
       "\t NA                       & NA                       & NA                       & NA                       & NA                       & NA                      \\\\\n",
       "\t 2017-03-16 오전 12:46:19 & 2017-03-16               & am                       & 12:46:19                 & 2017-03-16 12:46:19 am   & 2017-03-16 00:46:19     \\\\\n",
       "\\end{tabular}\n"
      ],
      "text/markdown": [
       "\n",
       "pt | X1 | X2 | X3 | X4 | X5 | \n",
       "|---|---|---|---|---|---|\n",
       "| NA                       | NA                       | NA                       | NA                       | NA                       | NA                       | \n",
       "| 2017-03-22 오전 3:08:42  | 2017-03-22               | am                       | 3:08:42                  | 2017-03-22 3:08:42 am    | 2017-03-22 03:08:42      | \n",
       "| NA                       | NA                       | NA                       | NA                       | NA                       | NA                       | \n",
       "| 2017-04-17 오전 1:13:47  | 2017-04-17               | am                       | 1:13:47                  | 2017-04-17 1:13:47 am    | 2017-04-17 01:13:47      | \n",
       "| NA                       | NA                       | NA                       | NA                       | NA                       | NA                       | \n",
       "| 2017-03-16 오전 12:46:19 | 2017-03-16               | am                       | 12:46:19                 | 2017-03-16 12:46:19 am   | 2017-03-16 00:46:19      | \n",
       "\n",
       "\n"
      ],
      "text/plain": [
       "  pt                       X1         X2 X3       X4                    \n",
       "1 NA                       NA         NA NA       NA                    \n",
       "2 2017-03-22 오전 3:08:42  2017-03-22 am 3:08:42  2017-03-22 3:08:42 am \n",
       "3 NA                       NA         NA NA       NA                    \n",
       "4 2017-04-17 오전 1:13:47  2017-04-17 am 1:13:47  2017-04-17 1:13:47 am \n",
       "5 NA                       NA         NA NA       NA                    \n",
       "6 2017-03-16 오전 12:46:19 2017-03-16 am 12:46:19 2017-03-16 12:46:19 am\n",
       "  X5                 \n",
       "1 <NA>               \n",
       "2 2017-03-22 03:08:42\n",
       "3 <NA>               \n",
       "4 2017-04-17 01:13:47\n",
       "5 <NA>               \n",
       "6 2017-03-16 00:46:19"
      ]
     },
     "metadata": {},
     "output_type": "display_data"
    },
    {
     "data": {
      "text/html": [
       "<table>\n",
       "<thead><tr><th scope=col>공정</th><th scope=col>시작</th><th scope=col>끝</th><th scope=col>Process</th><th scope=col>설비</th><th scope=col>제품</th><th scope=col>중량</th><th scope=col>Navigate</th><th scope=col>도로</th><th scope=col>공장</th><th scope=col>거리</th><th scope=col>sttime</th><th scope=col>etime</th><th scope=col>prc</th></tr></thead>\n",
       "<tbody>\n",
       "\t<tr><td>BSA000_이동             </td><td>2016-12-07 오전 1:12:00 </td><td>2016-12-07 오전 1:12:00 </td><td>NA                      </td><td>#101                    </td><td>1040_988_0              </td><td> 82.1                   </td><td>NA                      </td><td>NA                      </td><td>PO30                    </td><td>0                       </td><td>2016-12-07 01:12:00     </td><td>2016-12-07 01:12:00     </td><td>NA                      </td></tr>\n",
       "\t<tr><td>BSA000_작업             </td><td>2016-12-07 오전 1:12:00 </td><td>2017-03-22 오전 3:08:42 </td><td>2017-03-22 오전 3:08:42 </td><td>NA                      </td><td>1040_988_0              </td><td> 82.1                   </td><td>NA                      </td><td>NA                      </td><td>PO30                    </td><td>0                       </td><td>2016-12-07 01:12:00     </td><td>2017-03-22 03:08:42     </td><td>2017-03-22 03:08:42     </td></tr>\n",
       "\t<tr><td>BSA000_이동             </td><td>2016-12-13 오전 1:12:00 </td><td>2016-12-13 오전 1:12:00 </td><td>NA                      </td><td>#101                    </td><td>1047_998_0              </td><td> 96.3                   </td><td>NA                      </td><td>NA                      </td><td>DM30                    </td><td>0                       </td><td>2016-12-13 01:12:00     </td><td>2016-12-13 01:12:00     </td><td>NA                      </td></tr>\n",
       "\t<tr><td>BSA000_작업             </td><td>2016-12-13 오전 1:12:00 </td><td>2017-04-17 오전 1:13:47 </td><td>2017-04-17 오전 1:13:47 </td><td>NA                      </td><td>1047_998_0              </td><td> 96.3                   </td><td>NA                      </td><td>NA                      </td><td>DM30                    </td><td>0                       </td><td>2016-12-13 01:12:00     </td><td>2017-04-17 01:13:47     </td><td>2017-04-17 01:13:47     </td></tr>\n",
       "\t<tr><td>BSA000_이동             </td><td>2016-12-19 오전 1:12:00 </td><td>2016-12-19 오전 1:12:00 </td><td>NA                      </td><td>#354                    </td><td>1002_131_3              </td><td>283.0                   </td><td>NA                      </td><td>NA                      </td><td>3D3B                    </td><td>0                       </td><td>2016-12-19 01:12:00     </td><td>2016-12-19 01:12:00     </td><td>NA                      </td></tr>\n",
       "\t<tr><td>BSA000_작업             </td><td>2016-12-19 오전 1:12:00 </td><td>2017-03-16 오전 12:46:19</td><td>2017-03-16 오전 12:46:19</td><td>NA                      </td><td>1002_131_3              </td><td>283.0                   </td><td>NA                      </td><td>NA                      </td><td>3D3B                    </td><td>0                       </td><td>2016-12-19 01:12:00     </td><td>2017-03-16 00:46:19     </td><td>2017-03-16 00:46:19     </td></tr>\n",
       "</tbody>\n",
       "</table>\n"
      ],
      "text/latex": [
       "\\begin{tabular}{r|llllllllllllll}\n",
       " 공정 & 시작 & 끝 & Process & 설비 & 제품 & 중량 & Navigate & 도로 & 공장 & 거리 & sttime & etime & prc\\\\\n",
       "\\hline\n",
       "\t BSA000\\_이동            & 2016-12-07 오전 1:12:00  & 2016-12-07 오전 1:12:00  & NA                       & \\#101                   & 1040\\_988\\_0           &  82.1                    & NA                       & NA                       & PO30                     & 0                        & 2016-12-07 01:12:00      & 2016-12-07 01:12:00      & NA                      \\\\\n",
       "\t BSA000\\_작업            & 2016-12-07 오전 1:12:00  & 2017-03-22 오전 3:08:42  & 2017-03-22 오전 3:08:42  & NA                       & 1040\\_988\\_0           &  82.1                    & NA                       & NA                       & PO30                     & 0                        & 2016-12-07 01:12:00      & 2017-03-22 03:08:42      & 2017-03-22 03:08:42     \\\\\n",
       "\t BSA000\\_이동            & 2016-12-13 오전 1:12:00  & 2016-12-13 오전 1:12:00  & NA                       & \\#101                   & 1047\\_998\\_0           &  96.3                    & NA                       & NA                       & DM30                     & 0                        & 2016-12-13 01:12:00      & 2016-12-13 01:12:00      & NA                      \\\\\n",
       "\t BSA000\\_작업            & 2016-12-13 오전 1:12:00  & 2017-04-17 오전 1:13:47  & 2017-04-17 오전 1:13:47  & NA                       & 1047\\_998\\_0           &  96.3                    & NA                       & NA                       & DM30                     & 0                        & 2016-12-13 01:12:00      & 2017-04-17 01:13:47      & 2017-04-17 01:13:47     \\\\\n",
       "\t BSA000\\_이동            & 2016-12-19 오전 1:12:00  & 2016-12-19 오전 1:12:00  & NA                       & \\#354                   & 1002\\_131\\_3           & 283.0                    & NA                       & NA                       & 3D3B                     & 0                        & 2016-12-19 01:12:00      & 2016-12-19 01:12:00      & NA                      \\\\\n",
       "\t BSA000\\_작업            & 2016-12-19 오전 1:12:00  & 2017-03-16 오전 12:46:19 & 2017-03-16 오전 12:46:19 & NA                       & 1002\\_131\\_3           & 283.0                    & NA                       & NA                       & 3D3B                     & 0                        & 2016-12-19 01:12:00      & 2017-03-16 00:46:19      & 2017-03-16 00:46:19     \\\\\n",
       "\\end{tabular}\n"
      ],
      "text/markdown": [
       "\n",
       "공정 | 시작 | 끝 | Process | 설비 | 제품 | 중량 | Navigate | 도로 | 공장 | 거리 | sttime | etime | prc | \n",
       "|---|---|---|---|---|---|\n",
       "| BSA000_이동              | 2016-12-07 오전 1:12:00  | 2016-12-07 오전 1:12:00  | NA                       | #101                     | 1040_988_0               |  82.1                    | NA                       | NA                       | PO30                     | 0                        | 2016-12-07 01:12:00      | 2016-12-07 01:12:00      | NA                       | \n",
       "| BSA000_작업              | 2016-12-07 오전 1:12:00  | 2017-03-22 오전 3:08:42  | 2017-03-22 오전 3:08:42  | NA                       | 1040_988_0               |  82.1                    | NA                       | NA                       | PO30                     | 0                        | 2016-12-07 01:12:00      | 2017-03-22 03:08:42      | 2017-03-22 03:08:42      | \n",
       "| BSA000_이동              | 2016-12-13 오전 1:12:00  | 2016-12-13 오전 1:12:00  | NA                       | #101                     | 1047_998_0               |  96.3                    | NA                       | NA                       | DM30                     | 0                        | 2016-12-13 01:12:00      | 2016-12-13 01:12:00      | NA                       | \n",
       "| BSA000_작업              | 2016-12-13 오전 1:12:00  | 2017-04-17 오전 1:13:47  | 2017-04-17 오전 1:13:47  | NA                       | 1047_998_0               |  96.3                    | NA                       | NA                       | DM30                     | 0                        | 2016-12-13 01:12:00      | 2017-04-17 01:13:47      | 2017-04-17 01:13:47      | \n",
       "| BSA000_이동              | 2016-12-19 오전 1:12:00  | 2016-12-19 오전 1:12:00  | NA                       | #354                     | 1002_131_3               | 283.0                    | NA                       | NA                       | 3D3B                     | 0                        | 2016-12-19 01:12:00      | 2016-12-19 01:12:00      | NA                       | \n",
       "| BSA000_작업              | 2016-12-19 오전 1:12:00  | 2017-03-16 오전 12:46:19 | 2017-03-16 오전 12:46:19 | NA                       | 1002_131_3               | 283.0                    | NA                       | NA                       | 3D3B                     | 0                        | 2016-12-19 01:12:00      | 2017-03-16 00:46:19      | 2017-03-16 00:46:19      | \n",
       "\n",
       "\n"
      ],
      "text/plain": [
       "  공정        시작                    끝                      \n",
       "1 BSA000_이동 2016-12-07 오전 1:12:00 2016-12-07 오전 1:12:00 \n",
       "2 BSA000_작업 2016-12-07 오전 1:12:00 2017-03-22 오전 3:08:42 \n",
       "3 BSA000_이동 2016-12-13 오전 1:12:00 2016-12-13 오전 1:12:00 \n",
       "4 BSA000_작업 2016-12-13 오전 1:12:00 2017-04-17 오전 1:13:47 \n",
       "5 BSA000_이동 2016-12-19 오전 1:12:00 2016-12-19 오전 1:12:00 \n",
       "6 BSA000_작업 2016-12-19 오전 1:12:00 2017-03-16 오전 12:46:19\n",
       "  Process                  설비 제품       중량  Navigate 도로 공장 거리\n",
       "1 NA                       #101 1040_988_0  82.1 NA       NA   PO30 0   \n",
       "2 2017-03-22 오전 3:08:42  NA   1040_988_0  82.1 NA       NA   PO30 0   \n",
       "3 NA                       #101 1047_998_0  96.3 NA       NA   DM30 0   \n",
       "4 2017-04-17 오전 1:13:47  NA   1047_998_0  96.3 NA       NA   DM30 0   \n",
       "5 NA                       #354 1002_131_3 283.0 NA       NA   3D3B 0   \n",
       "6 2017-03-16 오전 12:46:19 NA   1002_131_3 283.0 NA       NA   3D3B 0   \n",
       "  sttime              etime               prc                \n",
       "1 2016-12-07 01:12:00 2016-12-07 01:12:00 <NA>               \n",
       "2 2016-12-07 01:12:00 2017-03-22 03:08:42 2017-03-22 03:08:42\n",
       "3 2016-12-13 01:12:00 2016-12-13 01:12:00 <NA>               \n",
       "4 2016-12-13 01:12:00 2017-04-17 01:13:47 2017-04-17 01:13:47\n",
       "5 2016-12-19 01:12:00 2016-12-19 01:12:00 <NA>               \n",
       "6 2016-12-19 01:12:00 2017-03-16 00:46:19 2017-03-16 00:46:19"
      ]
     },
     "metadata": {},
     "output_type": "display_data"
    }
   ],
   "source": [
    "pt <- nipa$Process\n",
    "head(pt)\n",
    "pt2 <- as.data.frame(pt)\n",
    "head(pt2)\n",
    "pt2$X1 <- substr(pt, 1, 10)\n",
    "pt2$X2 <- substr(pt, 12, 13)\n",
    "pt2$X3 <- substr(pt, 15, 22)\n",
    "head(pt2)\n",
    "pt2$X2 <- ifelse(is.na(pt2$X2) == TRUE, pt2$X2, ifelse(pt2$X2 == \"오전\", pt2$X2 <- \"am\", et2$X2 <- \"pm\"))\n",
    "head(pt2)\n",
    "pt2$X4 <- ifelse(is.na(pt2$pt) == TRUE, pt2$pt, paste(pt2$X1, pt2$X3, pt2$X2))\n",
    "head(pt2)\n",
    "pt2$X5 <- parse_date_time(pt2$X4, c(\"%Y-%m-%d %H:%M:%S %p\"))\n",
    "head(pt2)\n",
    "nipa$prc <- pt2$X5\n",
    "head(nipa)"
   ]
  },
  {
   "cell_type": "code",
   "execution_count": 79,
   "metadata": {},
   "outputs": [
    {
     "data": {
      "text/html": [
       "<ol class=list-inline>\n",
       "\t<li>NA</li>\n",
       "\t<li>NA</li>\n",
       "\t<li>NA</li>\n",
       "\t<li>NA</li>\n",
       "\t<li>NA</li>\n",
       "\t<li>NA</li>\n",
       "</ol>\n"
      ],
      "text/latex": [
       "\\begin{enumerate*}\n",
       "\\item NA\n",
       "\\item NA\n",
       "\\item NA\n",
       "\\item NA\n",
       "\\item NA\n",
       "\\item NA\n",
       "\\end{enumerate*}\n"
      ],
      "text/markdown": [
       "1. NA\n",
       "2. NA\n",
       "3. NA\n",
       "4. NA\n",
       "5. NA\n",
       "6. NA\n",
       "\n",
       "\n"
      ],
      "text/plain": [
       "[1] NA NA NA NA NA NA"
      ]
     },
     "metadata": {},
     "output_type": "display_data"
    },
    {
     "data": {
      "text/html": [
       "<ol class=list-inline>\n",
       "\t<li>'2017-10-27 오전 1:41:28'</li>\n",
       "\t<li>'2017-10-27 오전 2:33:00'</li>\n",
       "\t<li>'2017-10-30 오전 2:41:58'</li>\n",
       "\t<li>NA</li>\n",
       "\t<li>NA</li>\n",
       "\t<li>NA</li>\n",
       "</ol>\n"
      ],
      "text/latex": [
       "\\begin{enumerate*}\n",
       "\\item '2017-10-27 오전 1:41:28'\n",
       "\\item '2017-10-27 오전 2:33:00'\n",
       "\\item '2017-10-30 오전 2:41:58'\n",
       "\\item NA\n",
       "\\item NA\n",
       "\\item NA\n",
       "\\end{enumerate*}\n"
      ],
      "text/markdown": [
       "1. '2017-10-27 오전 1:41:28'\n",
       "2. '2017-10-27 오전 2:33:00'\n",
       "3. '2017-10-30 오전 2:41:58'\n",
       "4. NA\n",
       "5. NA\n",
       "6. NA\n",
       "\n",
       "\n"
      ],
      "text/plain": [
       "[1] \"2017-10-27 오전 1:41:28\" \"2017-10-27 오전 2:33:00\"\n",
       "[3] \"2017-10-30 오전 2:41:58\" NA                       \n",
       "[5] NA                        NA                       "
      ]
     },
     "metadata": {},
     "output_type": "display_data"
    },
    {
     "data": {
      "text/html": [
       "<table>\n",
       "<thead><tr><th></th><th scope=col>nv</th><th scope=col>X1</th><th scope=col>X2</th><th scope=col>X3</th></tr></thead>\n",
       "<tbody>\n",
       "\t<tr><th scope=row>3594</th><td>2017-10-27 오전 1:41:28</td><td>2017-10-27             </td><td>오전                   </td><td>1:41:28                </td></tr>\n",
       "\t<tr><th scope=row>3595</th><td>2017-10-27 오전 2:33:00</td><td>2017-10-27             </td><td>오전                   </td><td>2:33:00                </td></tr>\n",
       "\t<tr><th scope=row>3596</th><td>2017-10-30 오전 2:41:58</td><td>2017-10-30             </td><td>오전                   </td><td>2:41:58                </td></tr>\n",
       "\t<tr><th scope=row>3597</th><td>NA                     </td><td>NA                     </td><td>NA                     </td><td>NA                     </td></tr>\n",
       "\t<tr><th scope=row>3598</th><td>NA                     </td><td>NA                     </td><td>NA                     </td><td>NA                     </td></tr>\n",
       "\t<tr><th scope=row>3599</th><td>NA                     </td><td>NA                     </td><td>NA                     </td><td>NA                     </td></tr>\n",
       "</tbody>\n",
       "</table>\n"
      ],
      "text/latex": [
       "\\begin{tabular}{r|llll}\n",
       "  & nv & X1 & X2 & X3\\\\\n",
       "\\hline\n",
       "\t3594 & 2017-10-27 오전 1:41:28 & 2017-10-27              & 오전                    & 1:41:28                \\\\\n",
       "\t3595 & 2017-10-27 오전 2:33:00 & 2017-10-27              & 오전                    & 2:33:00                \\\\\n",
       "\t3596 & 2017-10-30 오전 2:41:58 & 2017-10-30              & 오전                    & 2:41:58                \\\\\n",
       "\t3597 & NA                      & NA                      & NA                      & NA                     \\\\\n",
       "\t3598 & NA                      & NA                      & NA                      & NA                     \\\\\n",
       "\t3599 & NA                      & NA                      & NA                      & NA                     \\\\\n",
       "\\end{tabular}\n"
      ],
      "text/markdown": [
       "\n",
       "| <!--/--> | nv | X1 | X2 | X3 | \n",
       "|---|---|---|---|---|---|\n",
       "| 3594 | 2017-10-27 오전 1:41:28 | 2017-10-27              | 오전                    | 1:41:28                 | \n",
       "| 3595 | 2017-10-27 오전 2:33:00 | 2017-10-27              | 오전                    | 2:33:00                 | \n",
       "| 3596 | 2017-10-30 오전 2:41:58 | 2017-10-30              | 오전                    | 2:41:58                 | \n",
       "| 3597 | NA                      | NA                      | NA                      | NA                      | \n",
       "| 3598 | NA                      | NA                      | NA                      | NA                      | \n",
       "| 3599 | NA                      | NA                      | NA                      | NA                      | \n",
       "\n",
       "\n"
      ],
      "text/plain": [
       "     nv                      X1         X2   X3     \n",
       "3594 2017-10-27 오전 1:41:28 2017-10-27 오전 1:41:28\n",
       "3595 2017-10-27 오전 2:33:00 2017-10-27 오전 2:33:00\n",
       "3596 2017-10-30 오전 2:41:58 2017-10-30 오전 2:41:58\n",
       "3597 NA                      NA         NA   NA     \n",
       "3598 NA                      NA         NA   NA     \n",
       "3599 NA                      NA         NA   NA     "
      ]
     },
     "metadata": {},
     "output_type": "display_data"
    },
    {
     "data": {
      "text/html": [
       "<table>\n",
       "<thead><tr><th></th><th scope=col>nv</th><th scope=col>X1</th><th scope=col>X2</th><th scope=col>X3</th></tr></thead>\n",
       "<tbody>\n",
       "\t<tr><th scope=row>3594</th><td>2017-10-27 오전 1:41:28</td><td>2017-10-27             </td><td>am                     </td><td>1:41:28                </td></tr>\n",
       "\t<tr><th scope=row>3595</th><td>2017-10-27 오전 2:33:00</td><td>2017-10-27             </td><td>am                     </td><td>2:33:00                </td></tr>\n",
       "\t<tr><th scope=row>3596</th><td>2017-10-30 오전 2:41:58</td><td>2017-10-30             </td><td>am                     </td><td>2:41:58                </td></tr>\n",
       "\t<tr><th scope=row>3597</th><td>NA                     </td><td>NA                     </td><td>NA                     </td><td>NA                     </td></tr>\n",
       "\t<tr><th scope=row>3598</th><td>NA                     </td><td>NA                     </td><td>NA                     </td><td>NA                     </td></tr>\n",
       "\t<tr><th scope=row>3599</th><td>NA                     </td><td>NA                     </td><td>NA                     </td><td>NA                     </td></tr>\n",
       "</tbody>\n",
       "</table>\n"
      ],
      "text/latex": [
       "\\begin{tabular}{r|llll}\n",
       "  & nv & X1 & X2 & X3\\\\\n",
       "\\hline\n",
       "\t3594 & 2017-10-27 오전 1:41:28 & 2017-10-27              & am                      & 1:41:28                \\\\\n",
       "\t3595 & 2017-10-27 오전 2:33:00 & 2017-10-27              & am                      & 2:33:00                \\\\\n",
       "\t3596 & 2017-10-30 오전 2:41:58 & 2017-10-30              & am                      & 2:41:58                \\\\\n",
       "\t3597 & NA                      & NA                      & NA                      & NA                     \\\\\n",
       "\t3598 & NA                      & NA                      & NA                      & NA                     \\\\\n",
       "\t3599 & NA                      & NA                      & NA                      & NA                     \\\\\n",
       "\\end{tabular}\n"
      ],
      "text/markdown": [
       "\n",
       "| <!--/--> | nv | X1 | X2 | X3 | \n",
       "|---|---|---|---|---|---|\n",
       "| 3594 | 2017-10-27 오전 1:41:28 | 2017-10-27              | am                      | 1:41:28                 | \n",
       "| 3595 | 2017-10-27 오전 2:33:00 | 2017-10-27              | am                      | 2:33:00                 | \n",
       "| 3596 | 2017-10-30 오전 2:41:58 | 2017-10-30              | am                      | 2:41:58                 | \n",
       "| 3597 | NA                      | NA                      | NA                      | NA                      | \n",
       "| 3598 | NA                      | NA                      | NA                      | NA                      | \n",
       "| 3599 | NA                      | NA                      | NA                      | NA                      | \n",
       "\n",
       "\n"
      ],
      "text/plain": [
       "     nv                      X1         X2 X3     \n",
       "3594 2017-10-27 오전 1:41:28 2017-10-27 am 1:41:28\n",
       "3595 2017-10-27 오전 2:33:00 2017-10-27 am 2:33:00\n",
       "3596 2017-10-30 오전 2:41:58 2017-10-30 am 2:41:58\n",
       "3597 NA                      NA         NA NA     \n",
       "3598 NA                      NA         NA NA     \n",
       "3599 NA                      NA         NA NA     "
      ]
     },
     "metadata": {},
     "output_type": "display_data"
    },
    {
     "data": {
      "text/html": [
       "<table>\n",
       "<thead><tr><th></th><th scope=col>nv</th><th scope=col>X1</th><th scope=col>X2</th><th scope=col>X3</th><th scope=col>X4</th></tr></thead>\n",
       "<tbody>\n",
       "\t<tr><th scope=row>3594</th><td>2017-10-27 오전 1:41:28</td><td>2017-10-27             </td><td>am                     </td><td>1:41:28                </td><td>2017-10-27 1:41:28 am  </td></tr>\n",
       "\t<tr><th scope=row>3595</th><td>2017-10-27 오전 2:33:00</td><td>2017-10-27             </td><td>am                     </td><td>2:33:00                </td><td>2017-10-27 2:33:00 am  </td></tr>\n",
       "\t<tr><th scope=row>3596</th><td>2017-10-30 오전 2:41:58</td><td>2017-10-30             </td><td>am                     </td><td>2:41:58                </td><td>2017-10-30 2:41:58 am  </td></tr>\n",
       "\t<tr><th scope=row>3597</th><td>NA                     </td><td>NA                     </td><td>NA                     </td><td>NA                     </td><td>NA                     </td></tr>\n",
       "\t<tr><th scope=row>3598</th><td>NA                     </td><td>NA                     </td><td>NA                     </td><td>NA                     </td><td>NA                     </td></tr>\n",
       "\t<tr><th scope=row>3599</th><td>NA                     </td><td>NA                     </td><td>NA                     </td><td>NA                     </td><td>NA                     </td></tr>\n",
       "</tbody>\n",
       "</table>\n"
      ],
      "text/latex": [
       "\\begin{tabular}{r|lllll}\n",
       "  & nv & X1 & X2 & X3 & X4\\\\\n",
       "\\hline\n",
       "\t3594 & 2017-10-27 오전 1:41:28 & 2017-10-27              & am                      & 1:41:28                 & 2017-10-27 1:41:28 am  \\\\\n",
       "\t3595 & 2017-10-27 오전 2:33:00 & 2017-10-27              & am                      & 2:33:00                 & 2017-10-27 2:33:00 am  \\\\\n",
       "\t3596 & 2017-10-30 오전 2:41:58 & 2017-10-30              & am                      & 2:41:58                 & 2017-10-30 2:41:58 am  \\\\\n",
       "\t3597 & NA                      & NA                      & NA                      & NA                      & NA                     \\\\\n",
       "\t3598 & NA                      & NA                      & NA                      & NA                      & NA                     \\\\\n",
       "\t3599 & NA                      & NA                      & NA                      & NA                      & NA                     \\\\\n",
       "\\end{tabular}\n"
      ],
      "text/markdown": [
       "\n",
       "| <!--/--> | nv | X1 | X2 | X3 | X4 | \n",
       "|---|---|---|---|---|---|\n",
       "| 3594 | 2017-10-27 오전 1:41:28 | 2017-10-27              | am                      | 1:41:28                 | 2017-10-27 1:41:28 am   | \n",
       "| 3595 | 2017-10-27 오전 2:33:00 | 2017-10-27              | am                      | 2:33:00                 | 2017-10-27 2:33:00 am   | \n",
       "| 3596 | 2017-10-30 오전 2:41:58 | 2017-10-30              | am                      | 2:41:58                 | 2017-10-30 2:41:58 am   | \n",
       "| 3597 | NA                      | NA                      | NA                      | NA                      | NA                      | \n",
       "| 3598 | NA                      | NA                      | NA                      | NA                      | NA                      | \n",
       "| 3599 | NA                      | NA                      | NA                      | NA                      | NA                      | \n",
       "\n",
       "\n"
      ],
      "text/plain": [
       "     nv                      X1         X2 X3      X4                   \n",
       "3594 2017-10-27 오전 1:41:28 2017-10-27 am 1:41:28 2017-10-27 1:41:28 am\n",
       "3595 2017-10-27 오전 2:33:00 2017-10-27 am 2:33:00 2017-10-27 2:33:00 am\n",
       "3596 2017-10-30 오전 2:41:58 2017-10-30 am 2:41:58 2017-10-30 2:41:58 am\n",
       "3597 NA                      NA         NA NA      NA                   \n",
       "3598 NA                      NA         NA NA      NA                   \n",
       "3599 NA                      NA         NA NA      NA                   "
      ]
     },
     "metadata": {},
     "output_type": "display_data"
    },
    {
     "data": {
      "text/html": [
       "<table>\n",
       "<thead><tr><th></th><th scope=col>nv</th><th scope=col>X1</th><th scope=col>X2</th><th scope=col>X3</th><th scope=col>X4</th><th scope=col>X5</th></tr></thead>\n",
       "<tbody>\n",
       "\t<tr><th scope=row>3594</th><td>2017-10-27 오전 1:41:28</td><td>2017-10-27             </td><td>am                     </td><td>1:41:28                </td><td>2017-10-27 1:41:28 am  </td><td>2017-10-27 01:41:28    </td></tr>\n",
       "\t<tr><th scope=row>3595</th><td>2017-10-27 오전 2:33:00</td><td>2017-10-27             </td><td>am                     </td><td>2:33:00                </td><td>2017-10-27 2:33:00 am  </td><td>2017-10-27 02:33:00    </td></tr>\n",
       "\t<tr><th scope=row>3596</th><td>2017-10-30 오전 2:41:58</td><td>2017-10-30             </td><td>am                     </td><td>2:41:58                </td><td>2017-10-30 2:41:58 am  </td><td>2017-10-30 02:41:58    </td></tr>\n",
       "\t<tr><th scope=row>3597</th><td>NA                     </td><td>NA                     </td><td>NA                     </td><td>NA                     </td><td>NA                     </td><td>NA                     </td></tr>\n",
       "\t<tr><th scope=row>3598</th><td>NA                     </td><td>NA                     </td><td>NA                     </td><td>NA                     </td><td>NA                     </td><td>NA                     </td></tr>\n",
       "\t<tr><th scope=row>3599</th><td>NA                     </td><td>NA                     </td><td>NA                     </td><td>NA                     </td><td>NA                     </td><td>NA                     </td></tr>\n",
       "</tbody>\n",
       "</table>\n"
      ],
      "text/latex": [
       "\\begin{tabular}{r|llllll}\n",
       "  & nv & X1 & X2 & X3 & X4 & X5\\\\\n",
       "\\hline\n",
       "\t3594 & 2017-10-27 오전 1:41:28 & 2017-10-27              & am                      & 1:41:28                 & 2017-10-27 1:41:28 am   & 2017-10-27 01:41:28    \\\\\n",
       "\t3595 & 2017-10-27 오전 2:33:00 & 2017-10-27              & am                      & 2:33:00                 & 2017-10-27 2:33:00 am   & 2017-10-27 02:33:00    \\\\\n",
       "\t3596 & 2017-10-30 오전 2:41:58 & 2017-10-30              & am                      & 2:41:58                 & 2017-10-30 2:41:58 am   & 2017-10-30 02:41:58    \\\\\n",
       "\t3597 & NA                      & NA                      & NA                      & NA                      & NA                      & NA                     \\\\\n",
       "\t3598 & NA                      & NA                      & NA                      & NA                      & NA                      & NA                     \\\\\n",
       "\t3599 & NA                      & NA                      & NA                      & NA                      & NA                      & NA                     \\\\\n",
       "\\end{tabular}\n"
      ],
      "text/markdown": [
       "\n",
       "| <!--/--> | nv | X1 | X2 | X3 | X4 | X5 | \n",
       "|---|---|---|---|---|---|\n",
       "| 3594 | 2017-10-27 오전 1:41:28 | 2017-10-27              | am                      | 1:41:28                 | 2017-10-27 1:41:28 am   | 2017-10-27 01:41:28     | \n",
       "| 3595 | 2017-10-27 오전 2:33:00 | 2017-10-27              | am                      | 2:33:00                 | 2017-10-27 2:33:00 am   | 2017-10-27 02:33:00     | \n",
       "| 3596 | 2017-10-30 오전 2:41:58 | 2017-10-30              | am                      | 2:41:58                 | 2017-10-30 2:41:58 am   | 2017-10-30 02:41:58     | \n",
       "| 3597 | NA                      | NA                      | NA                      | NA                      | NA                      | NA                      | \n",
       "| 3598 | NA                      | NA                      | NA                      | NA                      | NA                      | NA                      | \n",
       "| 3599 | NA                      | NA                      | NA                      | NA                      | NA                      | NA                      | \n",
       "\n",
       "\n"
      ],
      "text/plain": [
       "     nv                      X1         X2 X3      X4                   \n",
       "3594 2017-10-27 오전 1:41:28 2017-10-27 am 1:41:28 2017-10-27 1:41:28 am\n",
       "3595 2017-10-27 오전 2:33:00 2017-10-27 am 2:33:00 2017-10-27 2:33:00 am\n",
       "3596 2017-10-30 오전 2:41:58 2017-10-30 am 2:41:58 2017-10-30 2:41:58 am\n",
       "3597 NA                      NA         NA NA      NA                   \n",
       "3598 NA                      NA         NA NA      NA                   \n",
       "3599 NA                      NA         NA NA      NA                   \n",
       "     X5                 \n",
       "3594 2017-10-27 01:41:28\n",
       "3595 2017-10-27 02:33:00\n",
       "3596 2017-10-30 02:41:58\n",
       "3597 <NA>               \n",
       "3598 <NA>               \n",
       "3599 <NA>               "
      ]
     },
     "metadata": {},
     "output_type": "display_data"
    },
    {
     "data": {
      "text/html": [
       "<table>\n",
       "<thead><tr><th scope=col>공정</th><th scope=col>시작</th><th scope=col>끝</th><th scope=col>Process</th><th scope=col>설비</th><th scope=col>제품</th><th scope=col>중량</th><th scope=col>Navigate</th><th scope=col>도로</th><th scope=col>공장</th><th scope=col>거리</th><th scope=col>sttime</th><th scope=col>etime</th><th scope=col>prc</th><th scope=col>nav</th></tr></thead>\n",
       "<tbody>\n",
       "\t<tr><td>BSA000_이동             </td><td>2016-12-07 오전 1:12:00 </td><td>2016-12-07 오전 1:12:00 </td><td>NA                      </td><td>#101                    </td><td>1040_988_0              </td><td> 82.1                   </td><td>NA                      </td><td>NA                      </td><td>PO30                    </td><td>0                       </td><td>2016-12-07 01:12:00     </td><td>2016-12-07 01:12:00     </td><td>NA                      </td><td>NA                      </td></tr>\n",
       "\t<tr><td>BSA000_작업             </td><td>2016-12-07 오전 1:12:00 </td><td>2017-03-22 오전 3:08:42 </td><td>2017-03-22 오전 3:08:42 </td><td>NA                      </td><td>1040_988_0              </td><td> 82.1                   </td><td>NA                      </td><td>NA                      </td><td>PO30                    </td><td>0                       </td><td>2016-12-07 01:12:00     </td><td>2017-03-22 03:08:42     </td><td>2017-03-22 03:08:42     </td><td>NA                      </td></tr>\n",
       "\t<tr><td>BSA000_이동             </td><td>2016-12-13 오전 1:12:00 </td><td>2016-12-13 오전 1:12:00 </td><td>NA                      </td><td>#101                    </td><td>1047_998_0              </td><td> 96.3                   </td><td>NA                      </td><td>NA                      </td><td>DM30                    </td><td>0                       </td><td>2016-12-13 01:12:00     </td><td>2016-12-13 01:12:00     </td><td>NA                      </td><td>NA                      </td></tr>\n",
       "\t<tr><td>BSA000_작업             </td><td>2016-12-13 오전 1:12:00 </td><td>2017-04-17 오전 1:13:47 </td><td>2017-04-17 오전 1:13:47 </td><td>NA                      </td><td>1047_998_0              </td><td> 96.3                   </td><td>NA                      </td><td>NA                      </td><td>DM30                    </td><td>0                       </td><td>2016-12-13 01:12:00     </td><td>2017-04-17 01:13:47     </td><td>2017-04-17 01:13:47     </td><td>NA                      </td></tr>\n",
       "\t<tr><td>BSA000_이동             </td><td>2016-12-19 오전 1:12:00 </td><td>2016-12-19 오전 1:12:00 </td><td>NA                      </td><td>#354                    </td><td>1002_131_3              </td><td>283.0                   </td><td>NA                      </td><td>NA                      </td><td>3D3B                    </td><td>0                       </td><td>2016-12-19 01:12:00     </td><td>2016-12-19 01:12:00     </td><td>NA                      </td><td>NA                      </td></tr>\n",
       "\t<tr><td>BSA000_작업             </td><td>2016-12-19 오전 1:12:00 </td><td>2017-03-16 오전 12:46:19</td><td>2017-03-16 오전 12:46:19</td><td>NA                      </td><td>1002_131_3              </td><td>283.0                   </td><td>NA                      </td><td>NA                      </td><td>3D3B                    </td><td>0                       </td><td>2016-12-19 01:12:00     </td><td>2017-03-16 00:46:19     </td><td>2017-03-16 00:46:19     </td><td>NA                      </td></tr>\n",
       "</tbody>\n",
       "</table>\n"
      ],
      "text/latex": [
       "\\begin{tabular}{r|lllllllllllllll}\n",
       " 공정 & 시작 & 끝 & Process & 설비 & 제품 & 중량 & Navigate & 도로 & 공장 & 거리 & sttime & etime & prc & nav\\\\\n",
       "\\hline\n",
       "\t BSA000\\_이동            & 2016-12-07 오전 1:12:00  & 2016-12-07 오전 1:12:00  & NA                       & \\#101                   & 1040\\_988\\_0           &  82.1                    & NA                       & NA                       & PO30                     & 0                        & 2016-12-07 01:12:00      & 2016-12-07 01:12:00      & NA                       & NA                      \\\\\n",
       "\t BSA000\\_작업            & 2016-12-07 오전 1:12:00  & 2017-03-22 오전 3:08:42  & 2017-03-22 오전 3:08:42  & NA                       & 1040\\_988\\_0           &  82.1                    & NA                       & NA                       & PO30                     & 0                        & 2016-12-07 01:12:00      & 2017-03-22 03:08:42      & 2017-03-22 03:08:42      & NA                      \\\\\n",
       "\t BSA000\\_이동            & 2016-12-13 오전 1:12:00  & 2016-12-13 오전 1:12:00  & NA                       & \\#101                   & 1047\\_998\\_0           &  96.3                    & NA                       & NA                       & DM30                     & 0                        & 2016-12-13 01:12:00      & 2016-12-13 01:12:00      & NA                       & NA                      \\\\\n",
       "\t BSA000\\_작업            & 2016-12-13 오전 1:12:00  & 2017-04-17 오전 1:13:47  & 2017-04-17 오전 1:13:47  & NA                       & 1047\\_998\\_0           &  96.3                    & NA                       & NA                       & DM30                     & 0                        & 2016-12-13 01:12:00      & 2017-04-17 01:13:47      & 2017-04-17 01:13:47      & NA                      \\\\\n",
       "\t BSA000\\_이동            & 2016-12-19 오전 1:12:00  & 2016-12-19 오전 1:12:00  & NA                       & \\#354                   & 1002\\_131\\_3           & 283.0                    & NA                       & NA                       & 3D3B                     & 0                        & 2016-12-19 01:12:00      & 2016-12-19 01:12:00      & NA                       & NA                      \\\\\n",
       "\t BSA000\\_작업            & 2016-12-19 오전 1:12:00  & 2017-03-16 오전 12:46:19 & 2017-03-16 오전 12:46:19 & NA                       & 1002\\_131\\_3           & 283.0                    & NA                       & NA                       & 3D3B                     & 0                        & 2016-12-19 01:12:00      & 2017-03-16 00:46:19      & 2017-03-16 00:46:19      & NA                      \\\\\n",
       "\\end{tabular}\n"
      ],
      "text/markdown": [
       "\n",
       "공정 | 시작 | 끝 | Process | 설비 | 제품 | 중량 | Navigate | 도로 | 공장 | 거리 | sttime | etime | prc | nav | \n",
       "|---|---|---|---|---|---|\n",
       "| BSA000_이동              | 2016-12-07 오전 1:12:00  | 2016-12-07 오전 1:12:00  | NA                       | #101                     | 1040_988_0               |  82.1                    | NA                       | NA                       | PO30                     | 0                        | 2016-12-07 01:12:00      | 2016-12-07 01:12:00      | NA                       | NA                       | \n",
       "| BSA000_작업              | 2016-12-07 오전 1:12:00  | 2017-03-22 오전 3:08:42  | 2017-03-22 오전 3:08:42  | NA                       | 1040_988_0               |  82.1                    | NA                       | NA                       | PO30                     | 0                        | 2016-12-07 01:12:00      | 2017-03-22 03:08:42      | 2017-03-22 03:08:42      | NA                       | \n",
       "| BSA000_이동              | 2016-12-13 오전 1:12:00  | 2016-12-13 오전 1:12:00  | NA                       | #101                     | 1047_998_0               |  96.3                    | NA                       | NA                       | DM30                     | 0                        | 2016-12-13 01:12:00      | 2016-12-13 01:12:00      | NA                       | NA                       | \n",
       "| BSA000_작업              | 2016-12-13 오전 1:12:00  | 2017-04-17 오전 1:13:47  | 2017-04-17 오전 1:13:47  | NA                       | 1047_998_0               |  96.3                    | NA                       | NA                       | DM30                     | 0                        | 2016-12-13 01:12:00      | 2017-04-17 01:13:47      | 2017-04-17 01:13:47      | NA                       | \n",
       "| BSA000_이동              | 2016-12-19 오전 1:12:00  | 2016-12-19 오전 1:12:00  | NA                       | #354                     | 1002_131_3               | 283.0                    | NA                       | NA                       | 3D3B                     | 0                        | 2016-12-19 01:12:00      | 2016-12-19 01:12:00      | NA                       | NA                       | \n",
       "| BSA000_작업              | 2016-12-19 오전 1:12:00  | 2017-03-16 오전 12:46:19 | 2017-03-16 오전 12:46:19 | NA                       | 1002_131_3               | 283.0                    | NA                       | NA                       | 3D3B                     | 0                        | 2016-12-19 01:12:00      | 2017-03-16 00:46:19      | 2017-03-16 00:46:19      | NA                       | \n",
       "\n",
       "\n"
      ],
      "text/plain": [
       "  공정        시작                    끝                      \n",
       "1 BSA000_이동 2016-12-07 오전 1:12:00 2016-12-07 오전 1:12:00 \n",
       "2 BSA000_작업 2016-12-07 오전 1:12:00 2017-03-22 오전 3:08:42 \n",
       "3 BSA000_이동 2016-12-13 오전 1:12:00 2016-12-13 오전 1:12:00 \n",
       "4 BSA000_작업 2016-12-13 오전 1:12:00 2017-04-17 오전 1:13:47 \n",
       "5 BSA000_이동 2016-12-19 오전 1:12:00 2016-12-19 오전 1:12:00 \n",
       "6 BSA000_작업 2016-12-19 오전 1:12:00 2017-03-16 오전 12:46:19\n",
       "  Process                  설비 제품       중량  Navigate 도로 공장 거리\n",
       "1 NA                       #101 1040_988_0  82.1 NA       NA   PO30 0   \n",
       "2 2017-03-22 오전 3:08:42  NA   1040_988_0  82.1 NA       NA   PO30 0   \n",
       "3 NA                       #101 1047_998_0  96.3 NA       NA   DM30 0   \n",
       "4 2017-04-17 오전 1:13:47  NA   1047_998_0  96.3 NA       NA   DM30 0   \n",
       "5 NA                       #354 1002_131_3 283.0 NA       NA   3D3B 0   \n",
       "6 2017-03-16 오전 12:46:19 NA   1002_131_3 283.0 NA       NA   3D3B 0   \n",
       "  sttime              etime               prc                 nav \n",
       "1 2016-12-07 01:12:00 2016-12-07 01:12:00 <NA>                <NA>\n",
       "2 2016-12-07 01:12:00 2017-03-22 03:08:42 2017-03-22 03:08:42 <NA>\n",
       "3 2016-12-13 01:12:00 2016-12-13 01:12:00 <NA>                <NA>\n",
       "4 2016-12-13 01:12:00 2017-04-17 01:13:47 2017-04-17 01:13:47 <NA>\n",
       "5 2016-12-19 01:12:00 2016-12-19 01:12:00 <NA>                <NA>\n",
       "6 2016-12-19 01:12:00 2017-03-16 00:46:19 2017-03-16 00:46:19 <NA>"
      ]
     },
     "metadata": {},
     "output_type": "display_data"
    }
   ],
   "source": [
    "nv <- nipa$Navigate\n",
    "head(nv)\n",
    "nv2 <- as.data.frame(nv)\n",
    "tail(nv)\n",
    "nv2$X1 <- substr(nv, 1, 10)\n",
    "nv2$X2 <- substr(nv, 12, 13)\n",
    "nv2$X3 <- substr(nv, 15, 22)\n",
    "tail(nv2)\n",
    "nv2$X2 <- ifelse(is.na(nv2$X2) == TRUE, nv2$X2, ifelse(nv2$X2 == \"오전\", nv2$X2 <- \"am\", nv2$X2 <- \"pm\"))\n",
    "tail(nv2)\n",
    "nv2$X4 <- ifelse(is.na(nv2$X2) == TRUE, nv2$X2, paste(nv2$X1, nv2$X3, nv2$X2))\n",
    "tail(nv2)\n",
    "nv2$X5 <- parse_date_time(nv2$X4, c(\"%Y-%m-%d %H:%M:%S %p\"))\n",
    "tail(nv2)\n",
    "nipa$nav <- nv2$X5\n",
    "head(nipa)"
   ]
  },
  {
   "cell_type": "code",
   "execution_count": 80,
   "metadata": {},
   "outputs": [
    {
     "data": {
      "text/html": [
       "<ol class=list-inline>\n",
       "\t<li>NA</li>\n",
       "\t<li>NA</li>\n",
       "\t<li>NA</li>\n",
       "\t<li>NA</li>\n",
       "\t<li>NA</li>\n",
       "\t<li>NA</li>\n",
       "</ol>\n"
      ],
      "text/latex": [
       "\\begin{enumerate*}\n",
       "\\item NA\n",
       "\\item NA\n",
       "\\item NA\n",
       "\\item NA\n",
       "\\item NA\n",
       "\\item NA\n",
       "\\end{enumerate*}\n"
      ],
      "text/markdown": [
       "1. NA\n",
       "2. NA\n",
       "3. NA\n",
       "4. NA\n",
       "5. NA\n",
       "6. NA\n",
       "\n",
       "\n"
      ],
      "text/plain": [
       "[1] NA NA NA NA NA NA"
      ]
     },
     "metadata": {},
     "output_type": "display_data"
    },
    {
     "data": {
      "text/html": [
       "<ol class=list-inline>\n",
       "\t<li>'2017-10-27 오전 1:41:28'</li>\n",
       "\t<li>'2017-10-27 오전 2:33:00'</li>\n",
       "\t<li>'2017-10-30 오전 2:41:58'</li>\n",
       "\t<li>NA</li>\n",
       "\t<li>NA</li>\n",
       "\t<li>NA</li>\n",
       "</ol>\n"
      ],
      "text/latex": [
       "\\begin{enumerate*}\n",
       "\\item '2017-10-27 오전 1:41:28'\n",
       "\\item '2017-10-27 오전 2:33:00'\n",
       "\\item '2017-10-30 오전 2:41:58'\n",
       "\\item NA\n",
       "\\item NA\n",
       "\\item NA\n",
       "\\end{enumerate*}\n"
      ],
      "text/markdown": [
       "1. '2017-10-27 오전 1:41:28'\n",
       "2. '2017-10-27 오전 2:33:00'\n",
       "3. '2017-10-30 오전 2:41:58'\n",
       "4. NA\n",
       "5. NA\n",
       "6. NA\n",
       "\n",
       "\n"
      ],
      "text/plain": [
       "[1] \"2017-10-27 오전 1:41:28\" \"2017-10-27 오전 2:33:00\"\n",
       "[3] \"2017-10-30 오전 2:41:58\" NA                       \n",
       "[5] NA                        NA                       "
      ]
     },
     "metadata": {},
     "output_type": "display_data"
    },
    {
     "data": {
      "text/html": [
       "<table>\n",
       "<thead><tr><th></th><th scope=col>nv</th><th scope=col>X1</th><th scope=col>X2</th><th scope=col>X3</th></tr></thead>\n",
       "<tbody>\n",
       "\t<tr><th scope=row>3594</th><td>2017-10-27 오전 1:41:28</td><td>2017-10-27             </td><td>오전                   </td><td>1:41:28                </td></tr>\n",
       "\t<tr><th scope=row>3595</th><td>2017-10-27 오전 2:33:00</td><td>2017-10-27             </td><td>오전                   </td><td>2:33:00                </td></tr>\n",
       "\t<tr><th scope=row>3596</th><td>2017-10-30 오전 2:41:58</td><td>2017-10-30             </td><td>오전                   </td><td>2:41:58                </td></tr>\n",
       "\t<tr><th scope=row>3597</th><td>NA                     </td><td>NA                     </td><td>NA                     </td><td>NA                     </td></tr>\n",
       "\t<tr><th scope=row>3598</th><td>NA                     </td><td>NA                     </td><td>NA                     </td><td>NA                     </td></tr>\n",
       "\t<tr><th scope=row>3599</th><td>NA                     </td><td>NA                     </td><td>NA                     </td><td>NA                     </td></tr>\n",
       "</tbody>\n",
       "</table>\n"
      ],
      "text/latex": [
       "\\begin{tabular}{r|llll}\n",
       "  & nv & X1 & X2 & X3\\\\\n",
       "\\hline\n",
       "\t3594 & 2017-10-27 오전 1:41:28 & 2017-10-27              & 오전                    & 1:41:28                \\\\\n",
       "\t3595 & 2017-10-27 오전 2:33:00 & 2017-10-27              & 오전                    & 2:33:00                \\\\\n",
       "\t3596 & 2017-10-30 오전 2:41:58 & 2017-10-30              & 오전                    & 2:41:58                \\\\\n",
       "\t3597 & NA                      & NA                      & NA                      & NA                     \\\\\n",
       "\t3598 & NA                      & NA                      & NA                      & NA                     \\\\\n",
       "\t3599 & NA                      & NA                      & NA                      & NA                     \\\\\n",
       "\\end{tabular}\n"
      ],
      "text/markdown": [
       "\n",
       "| <!--/--> | nv | X1 | X2 | X3 | \n",
       "|---|---|---|---|---|---|\n",
       "| 3594 | 2017-10-27 오전 1:41:28 | 2017-10-27              | 오전                    | 1:41:28                 | \n",
       "| 3595 | 2017-10-27 오전 2:33:00 | 2017-10-27              | 오전                    | 2:33:00                 | \n",
       "| 3596 | 2017-10-30 오전 2:41:58 | 2017-10-30              | 오전                    | 2:41:58                 | \n",
       "| 3597 | NA                      | NA                      | NA                      | NA                      | \n",
       "| 3598 | NA                      | NA                      | NA                      | NA                      | \n",
       "| 3599 | NA                      | NA                      | NA                      | NA                      | \n",
       "\n",
       "\n"
      ],
      "text/plain": [
       "     nv                      X1         X2   X3     \n",
       "3594 2017-10-27 오전 1:41:28 2017-10-27 오전 1:41:28\n",
       "3595 2017-10-27 오전 2:33:00 2017-10-27 오전 2:33:00\n",
       "3596 2017-10-30 오전 2:41:58 2017-10-30 오전 2:41:58\n",
       "3597 NA                      NA         NA   NA     \n",
       "3598 NA                      NA         NA   NA     \n",
       "3599 NA                      NA         NA   NA     "
      ]
     },
     "metadata": {},
     "output_type": "display_data"
    },
    {
     "data": {
      "text/html": [
       "<table>\n",
       "<thead><tr><th></th><th scope=col>nv</th><th scope=col>X1</th><th scope=col>X2</th><th scope=col>X3</th></tr></thead>\n",
       "<tbody>\n",
       "\t<tr><th scope=row>3594</th><td>2017-10-27 오전 1:41:28</td><td>2017-10-27             </td><td>am                     </td><td>1:41:28                </td></tr>\n",
       "\t<tr><th scope=row>3595</th><td>2017-10-27 오전 2:33:00</td><td>2017-10-27             </td><td>am                     </td><td>2:33:00                </td></tr>\n",
       "\t<tr><th scope=row>3596</th><td>2017-10-30 오전 2:41:58</td><td>2017-10-30             </td><td>am                     </td><td>2:41:58                </td></tr>\n",
       "\t<tr><th scope=row>3597</th><td>NA                     </td><td>NA                     </td><td>NA                     </td><td>NA                     </td></tr>\n",
       "\t<tr><th scope=row>3598</th><td>NA                     </td><td>NA                     </td><td>NA                     </td><td>NA                     </td></tr>\n",
       "\t<tr><th scope=row>3599</th><td>NA                     </td><td>NA                     </td><td>NA                     </td><td>NA                     </td></tr>\n",
       "</tbody>\n",
       "</table>\n"
      ],
      "text/latex": [
       "\\begin{tabular}{r|llll}\n",
       "  & nv & X1 & X2 & X3\\\\\n",
       "\\hline\n",
       "\t3594 & 2017-10-27 오전 1:41:28 & 2017-10-27              & am                      & 1:41:28                \\\\\n",
       "\t3595 & 2017-10-27 오전 2:33:00 & 2017-10-27              & am                      & 2:33:00                \\\\\n",
       "\t3596 & 2017-10-30 오전 2:41:58 & 2017-10-30              & am                      & 2:41:58                \\\\\n",
       "\t3597 & NA                      & NA                      & NA                      & NA                     \\\\\n",
       "\t3598 & NA                      & NA                      & NA                      & NA                     \\\\\n",
       "\t3599 & NA                      & NA                      & NA                      & NA                     \\\\\n",
       "\\end{tabular}\n"
      ],
      "text/markdown": [
       "\n",
       "| <!--/--> | nv | X1 | X2 | X3 | \n",
       "|---|---|---|---|---|---|\n",
       "| 3594 | 2017-10-27 오전 1:41:28 | 2017-10-27              | am                      | 1:41:28                 | \n",
       "| 3595 | 2017-10-27 오전 2:33:00 | 2017-10-27              | am                      | 2:33:00                 | \n",
       "| 3596 | 2017-10-30 오전 2:41:58 | 2017-10-30              | am                      | 2:41:58                 | \n",
       "| 3597 | NA                      | NA                      | NA                      | NA                      | \n",
       "| 3598 | NA                      | NA                      | NA                      | NA                      | \n",
       "| 3599 | NA                      | NA                      | NA                      | NA                      | \n",
       "\n",
       "\n"
      ],
      "text/plain": [
       "     nv                      X1         X2 X3     \n",
       "3594 2017-10-27 오전 1:41:28 2017-10-27 am 1:41:28\n",
       "3595 2017-10-27 오전 2:33:00 2017-10-27 am 2:33:00\n",
       "3596 2017-10-30 오전 2:41:58 2017-10-30 am 2:41:58\n",
       "3597 NA                      NA         NA NA     \n",
       "3598 NA                      NA         NA NA     \n",
       "3599 NA                      NA         NA NA     "
      ]
     },
     "metadata": {},
     "output_type": "display_data"
    },
    {
     "data": {
      "text/html": [
       "<table>\n",
       "<thead><tr><th></th><th scope=col>nv</th><th scope=col>X1</th><th scope=col>X2</th><th scope=col>X3</th><th scope=col>X4</th></tr></thead>\n",
       "<tbody>\n",
       "\t<tr><th scope=row>3594</th><td>2017-10-27 오전 1:41:28</td><td>2017-10-27             </td><td>am                     </td><td>1:41:28                </td><td>2017-10-27 1:41:28 am  </td></tr>\n",
       "\t<tr><th scope=row>3595</th><td>2017-10-27 오전 2:33:00</td><td>2017-10-27             </td><td>am                     </td><td>2:33:00                </td><td>2017-10-27 2:33:00 am  </td></tr>\n",
       "\t<tr><th scope=row>3596</th><td>2017-10-30 오전 2:41:58</td><td>2017-10-30             </td><td>am                     </td><td>2:41:58                </td><td>2017-10-30 2:41:58 am  </td></tr>\n",
       "\t<tr><th scope=row>3597</th><td>NA                     </td><td>NA                     </td><td>NA                     </td><td>NA                     </td><td>NA                     </td></tr>\n",
       "\t<tr><th scope=row>3598</th><td>NA                     </td><td>NA                     </td><td>NA                     </td><td>NA                     </td><td>NA                     </td></tr>\n",
       "\t<tr><th scope=row>3599</th><td>NA                     </td><td>NA                     </td><td>NA                     </td><td>NA                     </td><td>NA                     </td></tr>\n",
       "</tbody>\n",
       "</table>\n"
      ],
      "text/latex": [
       "\\begin{tabular}{r|lllll}\n",
       "  & nv & X1 & X2 & X3 & X4\\\\\n",
       "\\hline\n",
       "\t3594 & 2017-10-27 오전 1:41:28 & 2017-10-27              & am                      & 1:41:28                 & 2017-10-27 1:41:28 am  \\\\\n",
       "\t3595 & 2017-10-27 오전 2:33:00 & 2017-10-27              & am                      & 2:33:00                 & 2017-10-27 2:33:00 am  \\\\\n",
       "\t3596 & 2017-10-30 오전 2:41:58 & 2017-10-30              & am                      & 2:41:58                 & 2017-10-30 2:41:58 am  \\\\\n",
       "\t3597 & NA                      & NA                      & NA                      & NA                      & NA                     \\\\\n",
       "\t3598 & NA                      & NA                      & NA                      & NA                      & NA                     \\\\\n",
       "\t3599 & NA                      & NA                      & NA                      & NA                      & NA                     \\\\\n",
       "\\end{tabular}\n"
      ],
      "text/markdown": [
       "\n",
       "| <!--/--> | nv | X1 | X2 | X3 | X4 | \n",
       "|---|---|---|---|---|---|\n",
       "| 3594 | 2017-10-27 오전 1:41:28 | 2017-10-27              | am                      | 1:41:28                 | 2017-10-27 1:41:28 am   | \n",
       "| 3595 | 2017-10-27 오전 2:33:00 | 2017-10-27              | am                      | 2:33:00                 | 2017-10-27 2:33:00 am   | \n",
       "| 3596 | 2017-10-30 오전 2:41:58 | 2017-10-30              | am                      | 2:41:58                 | 2017-10-30 2:41:58 am   | \n",
       "| 3597 | NA                      | NA                      | NA                      | NA                      | NA                      | \n",
       "| 3598 | NA                      | NA                      | NA                      | NA                      | NA                      | \n",
       "| 3599 | NA                      | NA                      | NA                      | NA                      | NA                      | \n",
       "\n",
       "\n"
      ],
      "text/plain": [
       "     nv                      X1         X2 X3      X4                   \n",
       "3594 2017-10-27 오전 1:41:28 2017-10-27 am 1:41:28 2017-10-27 1:41:28 am\n",
       "3595 2017-10-27 오전 2:33:00 2017-10-27 am 2:33:00 2017-10-27 2:33:00 am\n",
       "3596 2017-10-30 오전 2:41:58 2017-10-30 am 2:41:58 2017-10-30 2:41:58 am\n",
       "3597 NA                      NA         NA NA      NA                   \n",
       "3598 NA                      NA         NA NA      NA                   \n",
       "3599 NA                      NA         NA NA      NA                   "
      ]
     },
     "metadata": {},
     "output_type": "display_data"
    },
    {
     "data": {
      "text/html": [
       "<table>\n",
       "<thead><tr><th></th><th scope=col>nv</th><th scope=col>X1</th><th scope=col>X2</th><th scope=col>X3</th><th scope=col>X4</th><th scope=col>X5</th></tr></thead>\n",
       "<tbody>\n",
       "\t<tr><th scope=row>3594</th><td>2017-10-27 오전 1:41:28</td><td>2017-10-27             </td><td>am                     </td><td>1:41:28                </td><td>2017-10-27 1:41:28 am  </td><td>2017-10-27 01:41:28    </td></tr>\n",
       "\t<tr><th scope=row>3595</th><td>2017-10-27 오전 2:33:00</td><td>2017-10-27             </td><td>am                     </td><td>2:33:00                </td><td>2017-10-27 2:33:00 am  </td><td>2017-10-27 02:33:00    </td></tr>\n",
       "\t<tr><th scope=row>3596</th><td>2017-10-30 오전 2:41:58</td><td>2017-10-30             </td><td>am                     </td><td>2:41:58                </td><td>2017-10-30 2:41:58 am  </td><td>2017-10-30 02:41:58    </td></tr>\n",
       "\t<tr><th scope=row>3597</th><td>NA                     </td><td>NA                     </td><td>NA                     </td><td>NA                     </td><td>NA                     </td><td>NA                     </td></tr>\n",
       "\t<tr><th scope=row>3598</th><td>NA                     </td><td>NA                     </td><td>NA                     </td><td>NA                     </td><td>NA                     </td><td>NA                     </td></tr>\n",
       "\t<tr><th scope=row>3599</th><td>NA                     </td><td>NA                     </td><td>NA                     </td><td>NA                     </td><td>NA                     </td><td>NA                     </td></tr>\n",
       "</tbody>\n",
       "</table>\n"
      ],
      "text/latex": [
       "\\begin{tabular}{r|llllll}\n",
       "  & nv & X1 & X2 & X3 & X4 & X5\\\\\n",
       "\\hline\n",
       "\t3594 & 2017-10-27 오전 1:41:28 & 2017-10-27              & am                      & 1:41:28                 & 2017-10-27 1:41:28 am   & 2017-10-27 01:41:28    \\\\\n",
       "\t3595 & 2017-10-27 오전 2:33:00 & 2017-10-27              & am                      & 2:33:00                 & 2017-10-27 2:33:00 am   & 2017-10-27 02:33:00    \\\\\n",
       "\t3596 & 2017-10-30 오전 2:41:58 & 2017-10-30              & am                      & 2:41:58                 & 2017-10-30 2:41:58 am   & 2017-10-30 02:41:58    \\\\\n",
       "\t3597 & NA                      & NA                      & NA                      & NA                      & NA                      & NA                     \\\\\n",
       "\t3598 & NA                      & NA                      & NA                      & NA                      & NA                      & NA                     \\\\\n",
       "\t3599 & NA                      & NA                      & NA                      & NA                      & NA                      & NA                     \\\\\n",
       "\\end{tabular}\n"
      ],
      "text/markdown": [
       "\n",
       "| <!--/--> | nv | X1 | X2 | X3 | X4 | X5 | \n",
       "|---|---|---|---|---|---|\n",
       "| 3594 | 2017-10-27 오전 1:41:28 | 2017-10-27              | am                      | 1:41:28                 | 2017-10-27 1:41:28 am   | 2017-10-27 01:41:28     | \n",
       "| 3595 | 2017-10-27 오전 2:33:00 | 2017-10-27              | am                      | 2:33:00                 | 2017-10-27 2:33:00 am   | 2017-10-27 02:33:00     | \n",
       "| 3596 | 2017-10-30 오전 2:41:58 | 2017-10-30              | am                      | 2:41:58                 | 2017-10-30 2:41:58 am   | 2017-10-30 02:41:58     | \n",
       "| 3597 | NA                      | NA                      | NA                      | NA                      | NA                      | NA                      | \n",
       "| 3598 | NA                      | NA                      | NA                      | NA                      | NA                      | NA                      | \n",
       "| 3599 | NA                      | NA                      | NA                      | NA                      | NA                      | NA                      | \n",
       "\n",
       "\n"
      ],
      "text/plain": [
       "     nv                      X1         X2 X3      X4                   \n",
       "3594 2017-10-27 오전 1:41:28 2017-10-27 am 1:41:28 2017-10-27 1:41:28 am\n",
       "3595 2017-10-27 오전 2:33:00 2017-10-27 am 2:33:00 2017-10-27 2:33:00 am\n",
       "3596 2017-10-30 오전 2:41:58 2017-10-30 am 2:41:58 2017-10-30 2:41:58 am\n",
       "3597 NA                      NA         NA NA      NA                   \n",
       "3598 NA                      NA         NA NA      NA                   \n",
       "3599 NA                      NA         NA NA      NA                   \n",
       "     X5                 \n",
       "3594 2017-10-27 01:41:28\n",
       "3595 2017-10-27 02:33:00\n",
       "3596 2017-10-30 02:41:58\n",
       "3597 <NA>               \n",
       "3598 <NA>               \n",
       "3599 <NA>               "
      ]
     },
     "metadata": {},
     "output_type": "display_data"
    },
    {
     "data": {
      "text/html": [
       "<table>\n",
       "<thead><tr><th scope=col>공정</th><th scope=col>시작</th><th scope=col>끝</th><th scope=col>Process</th><th scope=col>설비</th><th scope=col>제품</th><th scope=col>중량</th><th scope=col>Navigate</th><th scope=col>도로</th><th scope=col>공장</th><th scope=col>거리</th><th scope=col>sttime</th><th scope=col>etime</th><th scope=col>prc</th><th scope=col>nav</th></tr></thead>\n",
       "<tbody>\n",
       "\t<tr><td>BSA000_이동             </td><td>2016-12-07 오전 1:12:00 </td><td>2016-12-07 오전 1:12:00 </td><td>NA                      </td><td>#101                    </td><td>1040_988_0              </td><td> 82.1                   </td><td>NA                      </td><td>NA                      </td><td>PO30                    </td><td>0                       </td><td>2016-12-07 01:12:00     </td><td>2016-12-07 01:12:00     </td><td>NA                      </td><td>NA                      </td></tr>\n",
       "\t<tr><td>BSA000_작업             </td><td>2016-12-07 오전 1:12:00 </td><td>2017-03-22 오전 3:08:42 </td><td>2017-03-22 오전 3:08:42 </td><td>NA                      </td><td>1040_988_0              </td><td> 82.1                   </td><td>NA                      </td><td>NA                      </td><td>PO30                    </td><td>0                       </td><td>2016-12-07 01:12:00     </td><td>2017-03-22 03:08:42     </td><td>2017-03-22 03:08:42     </td><td>NA                      </td></tr>\n",
       "\t<tr><td>BSA000_이동             </td><td>2016-12-13 오전 1:12:00 </td><td>2016-12-13 오전 1:12:00 </td><td>NA                      </td><td>#101                    </td><td>1047_998_0              </td><td> 96.3                   </td><td>NA                      </td><td>NA                      </td><td>DM30                    </td><td>0                       </td><td>2016-12-13 01:12:00     </td><td>2016-12-13 01:12:00     </td><td>NA                      </td><td>NA                      </td></tr>\n",
       "\t<tr><td>BSA000_작업             </td><td>2016-12-13 오전 1:12:00 </td><td>2017-04-17 오전 1:13:47 </td><td>2017-04-17 오전 1:13:47 </td><td>NA                      </td><td>1047_998_0              </td><td> 96.3                   </td><td>NA                      </td><td>NA                      </td><td>DM30                    </td><td>0                       </td><td>2016-12-13 01:12:00     </td><td>2017-04-17 01:13:47     </td><td>2017-04-17 01:13:47     </td><td>NA                      </td></tr>\n",
       "\t<tr><td>BSA000_이동             </td><td>2016-12-19 오전 1:12:00 </td><td>2016-12-19 오전 1:12:00 </td><td>NA                      </td><td>#354                    </td><td>1002_131_3              </td><td>283.0                   </td><td>NA                      </td><td>NA                      </td><td>3D3B                    </td><td>0                       </td><td>2016-12-19 01:12:00     </td><td>2016-12-19 01:12:00     </td><td>NA                      </td><td>NA                      </td></tr>\n",
       "\t<tr><td>BSA000_작업             </td><td>2016-12-19 오전 1:12:00 </td><td>2017-03-16 오전 12:46:19</td><td>2017-03-16 오전 12:46:19</td><td>NA                      </td><td>1002_131_3              </td><td>283.0                   </td><td>NA                      </td><td>NA                      </td><td>3D3B                    </td><td>0                       </td><td>2016-12-19 01:12:00     </td><td>2017-03-16 00:46:19     </td><td>2017-03-16 00:46:19     </td><td>NA                      </td></tr>\n",
       "</tbody>\n",
       "</table>\n"
      ],
      "text/latex": [
       "\\begin{tabular}{r|lllllllllllllll}\n",
       " 공정 & 시작 & 끝 & Process & 설비 & 제품 & 중량 & Navigate & 도로 & 공장 & 거리 & sttime & etime & prc & nav\\\\\n",
       "\\hline\n",
       "\t BSA000\\_이동            & 2016-12-07 오전 1:12:00  & 2016-12-07 오전 1:12:00  & NA                       & \\#101                   & 1040\\_988\\_0           &  82.1                    & NA                       & NA                       & PO30                     & 0                        & 2016-12-07 01:12:00      & 2016-12-07 01:12:00      & NA                       & NA                      \\\\\n",
       "\t BSA000\\_작업            & 2016-12-07 오전 1:12:00  & 2017-03-22 오전 3:08:42  & 2017-03-22 오전 3:08:42  & NA                       & 1040\\_988\\_0           &  82.1                    & NA                       & NA                       & PO30                     & 0                        & 2016-12-07 01:12:00      & 2017-03-22 03:08:42      & 2017-03-22 03:08:42      & NA                      \\\\\n",
       "\t BSA000\\_이동            & 2016-12-13 오전 1:12:00  & 2016-12-13 오전 1:12:00  & NA                       & \\#101                   & 1047\\_998\\_0           &  96.3                    & NA                       & NA                       & DM30                     & 0                        & 2016-12-13 01:12:00      & 2016-12-13 01:12:00      & NA                       & NA                      \\\\\n",
       "\t BSA000\\_작업            & 2016-12-13 오전 1:12:00  & 2017-04-17 오전 1:13:47  & 2017-04-17 오전 1:13:47  & NA                       & 1047\\_998\\_0           &  96.3                    & NA                       & NA                       & DM30                     & 0                        & 2016-12-13 01:12:00      & 2017-04-17 01:13:47      & 2017-04-17 01:13:47      & NA                      \\\\\n",
       "\t BSA000\\_이동            & 2016-12-19 오전 1:12:00  & 2016-12-19 오전 1:12:00  & NA                       & \\#354                   & 1002\\_131\\_3           & 283.0                    & NA                       & NA                       & 3D3B                     & 0                        & 2016-12-19 01:12:00      & 2016-12-19 01:12:00      & NA                       & NA                      \\\\\n",
       "\t BSA000\\_작업            & 2016-12-19 오전 1:12:00  & 2017-03-16 오전 12:46:19 & 2017-03-16 오전 12:46:19 & NA                       & 1002\\_131\\_3           & 283.0                    & NA                       & NA                       & 3D3B                     & 0                        & 2016-12-19 01:12:00      & 2017-03-16 00:46:19      & 2017-03-16 00:46:19      & NA                      \\\\\n",
       "\\end{tabular}\n"
      ],
      "text/markdown": [
       "\n",
       "공정 | 시작 | 끝 | Process | 설비 | 제품 | 중량 | Navigate | 도로 | 공장 | 거리 | sttime | etime | prc | nav | \n",
       "|---|---|---|---|---|---|\n",
       "| BSA000_이동              | 2016-12-07 오전 1:12:00  | 2016-12-07 오전 1:12:00  | NA                       | #101                     | 1040_988_0               |  82.1                    | NA                       | NA                       | PO30                     | 0                        | 2016-12-07 01:12:00      | 2016-12-07 01:12:00      | NA                       | NA                       | \n",
       "| BSA000_작업              | 2016-12-07 오전 1:12:00  | 2017-03-22 오전 3:08:42  | 2017-03-22 오전 3:08:42  | NA                       | 1040_988_0               |  82.1                    | NA                       | NA                       | PO30                     | 0                        | 2016-12-07 01:12:00      | 2017-03-22 03:08:42      | 2017-03-22 03:08:42      | NA                       | \n",
       "| BSA000_이동              | 2016-12-13 오전 1:12:00  | 2016-12-13 오전 1:12:00  | NA                       | #101                     | 1047_998_0               |  96.3                    | NA                       | NA                       | DM30                     | 0                        | 2016-12-13 01:12:00      | 2016-12-13 01:12:00      | NA                       | NA                       | \n",
       "| BSA000_작업              | 2016-12-13 오전 1:12:00  | 2017-04-17 오전 1:13:47  | 2017-04-17 오전 1:13:47  | NA                       | 1047_998_0               |  96.3                    | NA                       | NA                       | DM30                     | 0                        | 2016-12-13 01:12:00      | 2017-04-17 01:13:47      | 2017-04-17 01:13:47      | NA                       | \n",
       "| BSA000_이동              | 2016-12-19 오전 1:12:00  | 2016-12-19 오전 1:12:00  | NA                       | #354                     | 1002_131_3               | 283.0                    | NA                       | NA                       | 3D3B                     | 0                        | 2016-12-19 01:12:00      | 2016-12-19 01:12:00      | NA                       | NA                       | \n",
       "| BSA000_작업              | 2016-12-19 오전 1:12:00  | 2017-03-16 오전 12:46:19 | 2017-03-16 오전 12:46:19 | NA                       | 1002_131_3               | 283.0                    | NA                       | NA                       | 3D3B                     | 0                        | 2016-12-19 01:12:00      | 2017-03-16 00:46:19      | 2017-03-16 00:46:19      | NA                       | \n",
       "\n",
       "\n"
      ],
      "text/plain": [
       "  공정        시작                    끝                      \n",
       "1 BSA000_이동 2016-12-07 오전 1:12:00 2016-12-07 오전 1:12:00 \n",
       "2 BSA000_작업 2016-12-07 오전 1:12:00 2017-03-22 오전 3:08:42 \n",
       "3 BSA000_이동 2016-12-13 오전 1:12:00 2016-12-13 오전 1:12:00 \n",
       "4 BSA000_작업 2016-12-13 오전 1:12:00 2017-04-17 오전 1:13:47 \n",
       "5 BSA000_이동 2016-12-19 오전 1:12:00 2016-12-19 오전 1:12:00 \n",
       "6 BSA000_작업 2016-12-19 오전 1:12:00 2017-03-16 오전 12:46:19\n",
       "  Process                  설비 제품       중량  Navigate 도로 공장 거리\n",
       "1 NA                       #101 1040_988_0  82.1 NA       NA   PO30 0   \n",
       "2 2017-03-22 오전 3:08:42  NA   1040_988_0  82.1 NA       NA   PO30 0   \n",
       "3 NA                       #101 1047_998_0  96.3 NA       NA   DM30 0   \n",
       "4 2017-04-17 오전 1:13:47  NA   1047_998_0  96.3 NA       NA   DM30 0   \n",
       "5 NA                       #354 1002_131_3 283.0 NA       NA   3D3B 0   \n",
       "6 2017-03-16 오전 12:46:19 NA   1002_131_3 283.0 NA       NA   3D3B 0   \n",
       "  sttime              etime               prc                 nav \n",
       "1 2016-12-07 01:12:00 2016-12-07 01:12:00 <NA>                <NA>\n",
       "2 2016-12-07 01:12:00 2017-03-22 03:08:42 2017-03-22 03:08:42 <NA>\n",
       "3 2016-12-13 01:12:00 2016-12-13 01:12:00 <NA>                <NA>\n",
       "4 2016-12-13 01:12:00 2017-04-17 01:13:47 2017-04-17 01:13:47 <NA>\n",
       "5 2016-12-19 01:12:00 2016-12-19 01:12:00 <NA>                <NA>\n",
       "6 2016-12-19 01:12:00 2017-03-16 00:46:19 2017-03-16 00:46:19 <NA>"
      ]
     },
     "metadata": {},
     "output_type": "display_data"
    }
   ],
   "source": [
    "nv <- nipa$Navigate\n",
    "head(nv)\n",
    "nv2 <- as.data.frame(nv)\n",
    "tail(nv)\n",
    "nv2$X1 <- substr(nv, 1, 10)\n",
    "nv2$X2 <- substr(nv, 12, 13)\n",
    "nv2$X3 <- substr(nv, 15, 22)\n",
    "tail(nv2)\n",
    "nv2$X2 <- ifelse(is.na(nv2$X2) == TRUE, nv2$X2, ifelse(nv2$X2 == \"오전\", nv2$X2 <- \"am\", nv2$X2 <- \"pm\"))\n",
    "tail(nv2)\n",
    "nv2$X4 <- ifelse(is.na(nv2$X2) == TRUE, nv2$X2, paste(nv2$X1, nv2$X3, nv2$X2))\n",
    "tail(nv2)\n",
    "nv2$X5 <- parse_date_time(nv2$X4, c(\"%Y-%m-%d %H:%M:%S %p\"))\n",
    "tail(nv2)\n",
    "nipa$nav <- nv2$X5\n",
    "head(nipa)"
   ]
  },
  {
   "cell_type": "code",
   "execution_count": 81,
   "metadata": {},
   "outputs": [],
   "source": [
    "nipa$시작 <- nipa$sttime\n",
    "nipa$끝 <- nipa$etime\n",
    "nipa$Process <- nipa$prc\n",
    "nipa$Navigate <- nipa$nav\n",
    "nipa <- subset(nipa, select = c(-sttime, -etime, -prc, -nav))"
   ]
  },
  {
   "cell_type": "code",
   "execution_count": 82,
   "metadata": {},
   "outputs": [
    {
     "data": {
      "text/html": [
       "<table>\n",
       "<thead><tr><th scope=col>공정</th><th scope=col>시작</th><th scope=col>끝</th><th scope=col>Process</th><th scope=col>설비</th><th scope=col>제품</th><th scope=col>중량</th><th scope=col>Navigate</th><th scope=col>도로</th><th scope=col>공장</th><th scope=col>거리</th></tr></thead>\n",
       "<tbody>\n",
       "\t<tr><td>BSA000_이동        </td><td>2016-12-07 01:12:00</td><td>2016-12-07 01:12:00</td><td>NA                 </td><td>#101               </td><td>1040_988_0         </td><td> 82.1              </td><td>NA                 </td><td>NA                 </td><td>PO30               </td><td>0                  </td></tr>\n",
       "\t<tr><td>BSA000_작업        </td><td>2016-12-07 01:12:00</td><td>2017-03-22 03:08:42</td><td>2017-03-22 03:08:42</td><td>NA                 </td><td>1040_988_0         </td><td> 82.1              </td><td>NA                 </td><td>NA                 </td><td>PO30               </td><td>0                  </td></tr>\n",
       "\t<tr><td>BSA000_이동        </td><td>2016-12-13 01:12:00</td><td>2016-12-13 01:12:00</td><td>NA                 </td><td>#101               </td><td>1047_998_0         </td><td> 96.3              </td><td>NA                 </td><td>NA                 </td><td>DM30               </td><td>0                  </td></tr>\n",
       "\t<tr><td>BSA000_작업        </td><td>2016-12-13 01:12:00</td><td>2017-04-17 01:13:47</td><td>2017-04-17 01:13:47</td><td>NA                 </td><td>1047_998_0         </td><td> 96.3              </td><td>NA                 </td><td>NA                 </td><td>DM30               </td><td>0                  </td></tr>\n",
       "\t<tr><td>BSA000_이동        </td><td>2016-12-19 01:12:00</td><td>2016-12-19 01:12:00</td><td>NA                 </td><td>#354               </td><td>1002_131_3         </td><td>283.0              </td><td>NA                 </td><td>NA                 </td><td>3D3B               </td><td>0                  </td></tr>\n",
       "\t<tr><td>BSA000_작업        </td><td>2016-12-19 01:12:00</td><td>2017-03-16 00:46:19</td><td>2017-03-16 00:46:19</td><td>NA                 </td><td>1002_131_3         </td><td>283.0              </td><td>NA                 </td><td>NA                 </td><td>3D3B               </td><td>0                  </td></tr>\n",
       "</tbody>\n",
       "</table>\n"
      ],
      "text/latex": [
       "\\begin{tabular}{r|lllllllllll}\n",
       " 공정 & 시작 & 끝 & Process & 설비 & 제품 & 중량 & Navigate & 도로 & 공장 & 거리\\\\\n",
       "\\hline\n",
       "\t BSA000\\_이동       & 2016-12-07 01:12:00 & 2016-12-07 01:12:00 & NA                  & \\#101              & 1040\\_988\\_0      &  82.1               & NA                  & NA                  & PO30                & 0                  \\\\\n",
       "\t BSA000\\_작업       & 2016-12-07 01:12:00 & 2017-03-22 03:08:42 & 2017-03-22 03:08:42 & NA                  & 1040\\_988\\_0      &  82.1               & NA                  & NA                  & PO30                & 0                  \\\\\n",
       "\t BSA000\\_이동       & 2016-12-13 01:12:00 & 2016-12-13 01:12:00 & NA                  & \\#101              & 1047\\_998\\_0      &  96.3               & NA                  & NA                  & DM30                & 0                  \\\\\n",
       "\t BSA000\\_작업       & 2016-12-13 01:12:00 & 2017-04-17 01:13:47 & 2017-04-17 01:13:47 & NA                  & 1047\\_998\\_0      &  96.3               & NA                  & NA                  & DM30                & 0                  \\\\\n",
       "\t BSA000\\_이동       & 2016-12-19 01:12:00 & 2016-12-19 01:12:00 & NA                  & \\#354              & 1002\\_131\\_3      & 283.0               & NA                  & NA                  & 3D3B                & 0                  \\\\\n",
       "\t BSA000\\_작업       & 2016-12-19 01:12:00 & 2017-03-16 00:46:19 & 2017-03-16 00:46:19 & NA                  & 1002\\_131\\_3      & 283.0               & NA                  & NA                  & 3D3B                & 0                  \\\\\n",
       "\\end{tabular}\n"
      ],
      "text/markdown": [
       "\n",
       "공정 | 시작 | 끝 | Process | 설비 | 제품 | 중량 | Navigate | 도로 | 공장 | 거리 | \n",
       "|---|---|---|---|---|---|\n",
       "| BSA000_이동         | 2016-12-07 01:12:00 | 2016-12-07 01:12:00 | NA                  | #101                | 1040_988_0          |  82.1               | NA                  | NA                  | PO30                | 0                   | \n",
       "| BSA000_작업         | 2016-12-07 01:12:00 | 2017-03-22 03:08:42 | 2017-03-22 03:08:42 | NA                  | 1040_988_0          |  82.1               | NA                  | NA                  | PO30                | 0                   | \n",
       "| BSA000_이동         | 2016-12-13 01:12:00 | 2016-12-13 01:12:00 | NA                  | #101                | 1047_998_0          |  96.3               | NA                  | NA                  | DM30                | 0                   | \n",
       "| BSA000_작업         | 2016-12-13 01:12:00 | 2017-04-17 01:13:47 | 2017-04-17 01:13:47 | NA                  | 1047_998_0          |  96.3               | NA                  | NA                  | DM30                | 0                   | \n",
       "| BSA000_이동         | 2016-12-19 01:12:00 | 2016-12-19 01:12:00 | NA                  | #354                | 1002_131_3          | 283.0               | NA                  | NA                  | 3D3B                | 0                   | \n",
       "| BSA000_작업         | 2016-12-19 01:12:00 | 2017-03-16 00:46:19 | 2017-03-16 00:46:19 | NA                  | 1002_131_3          | 283.0               | NA                  | NA                  | 3D3B                | 0                   | \n",
       "\n",
       "\n"
      ],
      "text/plain": [
       "  공정        시작                끝                  Process             설비\n",
       "1 BSA000_이동 2016-12-07 01:12:00 2016-12-07 01:12:00 <NA>                #101\n",
       "2 BSA000_작업 2016-12-07 01:12:00 2017-03-22 03:08:42 2017-03-22 03:08:42 NA  \n",
       "3 BSA000_이동 2016-12-13 01:12:00 2016-12-13 01:12:00 <NA>                #101\n",
       "4 BSA000_작업 2016-12-13 01:12:00 2017-04-17 01:13:47 2017-04-17 01:13:47 NA  \n",
       "5 BSA000_이동 2016-12-19 01:12:00 2016-12-19 01:12:00 <NA>                #354\n",
       "6 BSA000_작업 2016-12-19 01:12:00 2017-03-16 00:46:19 2017-03-16 00:46:19 NA  \n",
       "  제품       중량  Navigate 도로 공장 거리\n",
       "1 1040_988_0  82.1 <NA>     NA   PO30 0   \n",
       "2 1040_988_0  82.1 <NA>     NA   PO30 0   \n",
       "3 1047_998_0  96.3 <NA>     NA   DM30 0   \n",
       "4 1047_998_0  96.3 <NA>     NA   DM30 0   \n",
       "5 1002_131_3 283.0 <NA>     NA   3D3B 0   \n",
       "6 1002_131_3 283.0 <NA>     NA   3D3B 0   "
      ]
     },
     "metadata": {},
     "output_type": "display_data"
    }
   ],
   "source": [
    "head(nipa)"
   ]
  },
  {
   "cell_type": "markdown",
   "metadata": {},
   "source": [
    "## 3. 도로명 안에 있는 , 제거하기"
   ]
  },
  {
   "cell_type": "code",
   "execution_count": 83,
   "metadata": {},
   "outputs": [
    {
     "data": {
      "text/html": [
       "<table>\n",
       "<thead><tr><th scope=col>공정</th><th scope=col>시작</th><th scope=col>끝</th><th scope=col>Process</th><th scope=col>설비</th><th scope=col>제품</th><th scope=col>중량</th><th scope=col>Navigate</th><th scope=col>도로</th><th scope=col>공장</th><th scope=col>거리</th></tr></thead>\n",
       "<tbody>\n",
       "\t<tr><td>BZZBR0_이동                                          </td><td>2017-10-27 00:15:35                                  </td><td>2017-10-30 01:25:53                                  </td><td>NA                                                   </td><td>#101                                                 </td><td>1045_988_0                                           </td><td>82.1                                                 </td><td>2017-10-27 01:41:28                                  </td><td>Road_37, Road_27, Road_3, Road_50, Road_147, Road_151</td><td>A7E1                                                 </td><td>1091.8654                                            </td></tr>\n",
       "\t<tr><td>BZZBR0_이동                                          </td><td>2017-10-27 02:25:42                                  </td><td>2017-10-30 00:07:18                                  </td><td>NA                                                   </td><td>#553                                                 </td><td>1045_998_0                                           </td><td>82.1                                                 </td><td>2017-10-27 02:33:00                                  </td><td>Road_37, Road_27                                     </td><td>OC1N                                                 </td><td> 230.5024                                            </td></tr>\n",
       "\t<tr><td>BZZBR0_이동                                          </td><td>2017-10-30 01:25:53                                  </td><td>2017-10-30 02:41:58                                  </td><td>NA                                                   </td><td>#1032                                                </td><td>1045_988_0                                           </td><td>82.1                                                 </td><td>2017-10-30 02:41:58                                  </td><td>Road_151, Road_147, Road_50, Road_3, Road_27         </td><td>OC1N                                                 </td><td> 994.9071                                            </td></tr>\n",
       "\t<tr><td>BZZBR0_이동                                          </td><td>2017-10-30 00:07:18                                  </td><td>2017-10-30 00:07:18                                  </td><td>NA                                                   </td><td>#1041                                                </td><td>1045_998_0                                           </td><td>82.1                                                 </td><td>NA                                                   </td><td>NA                                                   </td><td>OC1N                                                 </td><td>   0.0000                                            </td></tr>\n",
       "\t<tr><td>BZZBR0_작업                                          </td><td>2017-10-30 00:07:18                                  </td><td>2017-10-30 07:44:25                                  </td><td>2017-10-30 07:44:25                                  </td><td>NA                                                   </td><td>1045_998_0                                           </td><td>82.1                                                 </td><td>NA                                                   </td><td>NA                                                   </td><td>OC1N                                                 </td><td>   0.0000                                            </td></tr>\n",
       "\t<tr><td>BZZBR0_작업                                          </td><td>2017-10-30 02:41:58                                  </td><td>2017-10-30 11:39:00                                  </td><td>2017-10-30 11:39:00                                  </td><td>NA                                                   </td><td>1045_988_0                                           </td><td>82.1                                                 </td><td>NA                                                   </td><td>NA                                                   </td><td>OC1N                                                 </td><td>   0.0000                                            </td></tr>\n",
       "</tbody>\n",
       "</table>\n"
      ],
      "text/latex": [
       "\\begin{tabular}{r|lllllllllll}\n",
       " 공정 & 시작 & 끝 & Process & 설비 & 제품 & 중량 & Navigate & 도로 & 공장 & 거리\\\\\n",
       "\\hline\n",
       "\t BZZBR0\\_이동                                                     & 2017-10-27 00:15:35                                               & 2017-10-30 01:25:53                                               & NA                                                                & \\#101                                                            & 1045\\_988\\_0                                                    & 82.1                                                              & 2017-10-27 01:41:28                                               & Road\\_37, Road\\_27, Road\\_3, Road\\_50, Road\\_147, Road\\_151 & A7E1                                                              & 1091.8654                                                        \\\\\n",
       "\t BZZBR0\\_이동                                             & 2017-10-27 02:25:42                                       & 2017-10-30 00:07:18                                       & NA                                                        & \\#553                                                    & 1045\\_998\\_0                                            & 82.1                                                      & 2017-10-27 02:33:00                                       & Road\\_37, Road\\_27                                      & OC1N                                                      &  230.5024                                                \\\\\n",
       "\t BZZBR0\\_이동                                                   & 2017-10-30 01:25:53                                             & 2017-10-30 02:41:58                                             & NA                                                              & \\#1032                                                         & 1045\\_988\\_0                                                  & 82.1                                                            & 2017-10-30 02:41:58                                             & Road\\_151, Road\\_147, Road\\_50, Road\\_3, Road\\_27          & OC1N                                                            &  994.9071                                                      \\\\\n",
       "\t BZZBR0\\_이동                                         & 2017-10-30 00:07:18                                   & 2017-10-30 00:07:18                                   & NA                                                    & \\#1041                                               & 1045\\_998\\_0                                        & 82.1                                                  & NA                                                    & NA                                                    & OC1N                                                  &    0.0000                                            \\\\\n",
       "\t BZZBR0\\_작업                                         & 2017-10-30 00:07:18                                   & 2017-10-30 07:44:25                                   & 2017-10-30 07:44:25                                   & NA                                                    & 1045\\_998\\_0                                        & 82.1                                                  & NA                                                    & NA                                                    & OC1N                                                  &    0.0000                                            \\\\\n",
       "\t BZZBR0\\_작업                                         & 2017-10-30 02:41:58                                   & 2017-10-30 11:39:00                                   & 2017-10-30 11:39:00                                   & NA                                                    & 1045\\_988\\_0                                        & 82.1                                                  & NA                                                    & NA                                                    & OC1N                                                  &    0.0000                                            \\\\\n",
       "\\end{tabular}\n"
      ],
      "text/markdown": [
       "\n",
       "공정 | 시작 | 끝 | Process | 설비 | 제품 | 중량 | Navigate | 도로 | 공장 | 거리 | \n",
       "|---|---|---|---|---|---|\n",
       "| BZZBR0_이동                                           | 2017-10-27 00:15:35                                   | 2017-10-30 01:25:53                                   | NA                                                    | #101                                                  | 1045_988_0                                            | 82.1                                                  | 2017-10-27 01:41:28                                   | Road_37, Road_27, Road_3, Road_50, Road_147, Road_151 | A7E1                                                  | 1091.8654                                             | \n",
       "| BZZBR0_이동                                           | 2017-10-27 02:25:42                                   | 2017-10-30 00:07:18                                   | NA                                                    | #553                                                  | 1045_998_0                                            | 82.1                                                  | 2017-10-27 02:33:00                                   | Road_37, Road_27                                      | OC1N                                                  |  230.5024                                             | \n",
       "| BZZBR0_이동                                           | 2017-10-30 01:25:53                                   | 2017-10-30 02:41:58                                   | NA                                                    | #1032                                                 | 1045_988_0                                            | 82.1                                                  | 2017-10-30 02:41:58                                   | Road_151, Road_147, Road_50, Road_3, Road_27          | OC1N                                                  |  994.9071                                             | \n",
       "| BZZBR0_이동                                           | 2017-10-30 00:07:18                                   | 2017-10-30 00:07:18                                   | NA                                                    | #1041                                                 | 1045_998_0                                            | 82.1                                                  | NA                                                    | NA                                                    | OC1N                                                  |    0.0000                                             | \n",
       "| BZZBR0_작업                                           | 2017-10-30 00:07:18                                   | 2017-10-30 07:44:25                                   | 2017-10-30 07:44:25                                   | NA                                                    | 1045_998_0                                            | 82.1                                                  | NA                                                    | NA                                                    | OC1N                                                  |    0.0000                                             | \n",
       "| BZZBR0_작업                                           | 2017-10-30 02:41:58                                   | 2017-10-30 11:39:00                                   | 2017-10-30 11:39:00                                   | NA                                                    | 1045_988_0                                            | 82.1                                                  | NA                                                    | NA                                                    | OC1N                                                  |    0.0000                                             | \n",
       "\n",
       "\n"
      ],
      "text/plain": [
       "  공정        시작                끝                  Process             설비 \n",
       "1 BZZBR0_이동 2017-10-27 00:15:35 2017-10-30 01:25:53 <NA>                #101 \n",
       "2 BZZBR0_이동 2017-10-27 02:25:42 2017-10-30 00:07:18 <NA>                #553 \n",
       "3 BZZBR0_이동 2017-10-30 01:25:53 2017-10-30 02:41:58 <NA>                #1032\n",
       "4 BZZBR0_이동 2017-10-30 00:07:18 2017-10-30 00:07:18 <NA>                #1041\n",
       "5 BZZBR0_작업 2017-10-30 00:07:18 2017-10-30 07:44:25 2017-10-30 07:44:25 NA   \n",
       "6 BZZBR0_작업 2017-10-30 02:41:58 2017-10-30 11:39:00 2017-10-30 11:39:00 NA   \n",
       "  제품       중량 Navigate           \n",
       "1 1045_988_0 82.1 2017-10-27 01:41:28\n",
       "2 1045_998_0 82.1 2017-10-27 02:33:00\n",
       "3 1045_988_0 82.1 2017-10-30 02:41:58\n",
       "4 1045_998_0 82.1 <NA>               \n",
       "5 1045_998_0 82.1 <NA>               \n",
       "6 1045_988_0 82.1 <NA>               \n",
       "  도로                                                  공장 거리     \n",
       "1 Road_37, Road_27, Road_3, Road_50, Road_147, Road_151 A7E1 1091.8654\n",
       "2 Road_37, Road_27                                      OC1N  230.5024\n",
       "3 Road_151, Road_147, Road_50, Road_3, Road_27          OC1N  994.9071\n",
       "4 NA                                                    OC1N    0.0000\n",
       "5 NA                                                    OC1N    0.0000\n",
       "6 NA                                                    OC1N    0.0000"
      ]
     },
     "metadata": {},
     "output_type": "display_data"
    }
   ],
   "source": [
    "tail(nipa)"
   ]
  },
  {
   "cell_type": "code",
   "execution_count": 84,
   "metadata": {},
   "outputs": [
    {
     "data": {
      "text/html": [
       "<ol class=list-inline>\n",
       "\t<li>'Road_37, Road_27, Road_3, Road_50, Road_147, Road_151'</li>\n",
       "\t<li>'Road_37, Road_27'</li>\n",
       "\t<li>'Road_151, Road_147, Road_50, Road_3, Road_27'</li>\n",
       "\t<li>NA</li>\n",
       "\t<li>NA</li>\n",
       "\t<li>NA</li>\n",
       "</ol>\n"
      ],
      "text/latex": [
       "\\begin{enumerate*}\n",
       "\\item 'Road\\_37, Road\\_27, Road\\_3, Road\\_50, Road\\_147, Road\\_151'\n",
       "\\item 'Road\\_37, Road\\_27'\n",
       "\\item 'Road\\_151, Road\\_147, Road\\_50, Road\\_3, Road\\_27'\n",
       "\\item NA\n",
       "\\item NA\n",
       "\\item NA\n",
       "\\end{enumerate*}\n"
      ],
      "text/markdown": [
       "1. 'Road_37, Road_27, Road_3, Road_50, Road_147, Road_151'\n",
       "2. 'Road_37, Road_27'\n",
       "3. 'Road_151, Road_147, Road_50, Road_3, Road_27'\n",
       "4. NA\n",
       "5. NA\n",
       "6. NA\n",
       "\n",
       "\n"
      ],
      "text/plain": [
       "[1] \"Road_37, Road_27, Road_3, Road_50, Road_147, Road_151\"\n",
       "[2] \"Road_37, Road_27\"                                     \n",
       "[3] \"Road_151, Road_147, Road_50, Road_3, Road_27\"         \n",
       "[4] NA                                                     \n",
       "[5] NA                                                     \n",
       "[6] NA                                                     "
      ]
     },
     "metadata": {},
     "output_type": "display_data"
    }
   ],
   "source": [
    "rod <- nipa$도로\n",
    "tail(rod)"
   ]
  },
  {
   "cell_type": "code",
   "execution_count": 85,
   "metadata": {},
   "outputs": [
    {
     "data": {
      "text/html": [
       "<table>\n",
       "<thead><tr><th></th><th scope=col>rod</th></tr></thead>\n",
       "<tbody>\n",
       "\t<tr><th scope=row>3594</th><td>Road_37, Road_27, Road_3, Road_50, Road_147, Road_151</td></tr>\n",
       "\t<tr><th scope=row>3595</th><td>Road_37, Road_27                                     </td></tr>\n",
       "\t<tr><th scope=row>3596</th><td>Road_151, Road_147, Road_50, Road_3, Road_27         </td></tr>\n",
       "\t<tr><th scope=row>3597</th><td>NA                                                   </td></tr>\n",
       "\t<tr><th scope=row>3598</th><td>NA                                                   </td></tr>\n",
       "\t<tr><th scope=row>3599</th><td>NA                                                   </td></tr>\n",
       "</tbody>\n",
       "</table>\n"
      ],
      "text/latex": [
       "\\begin{tabular}{r|l}\n",
       "  & rod\\\\\n",
       "\\hline\n",
       "\t3594 & Road\\_37, Road\\_27, Road\\_3, Road\\_50, Road\\_147, Road\\_151\\\\\n",
       "\t3595 & Road\\_37, Road\\_27                                     \\\\\n",
       "\t3596 & Road\\_151, Road\\_147, Road\\_50, Road\\_3, Road\\_27         \\\\\n",
       "\t3597 & NA                                                   \\\\\n",
       "\t3598 & NA                                                   \\\\\n",
       "\t3599 & NA                                                   \\\\\n",
       "\\end{tabular}\n"
      ],
      "text/markdown": [
       "\n",
       "| <!--/--> | rod | \n",
       "|---|---|---|---|---|---|\n",
       "| 3594 | Road_37, Road_27, Road_3, Road_50, Road_147, Road_151 | \n",
       "| 3595 | Road_37, Road_27                                      | \n",
       "| 3596 | Road_151, Road_147, Road_50, Road_3, Road_27          | \n",
       "| 3597 | NA                                                    | \n",
       "| 3598 | NA                                                    | \n",
       "| 3599 | NA                                                    | \n",
       "\n",
       "\n"
      ],
      "text/plain": [
       "     rod                                                  \n",
       "3594 Road_37, Road_27, Road_3, Road_50, Road_147, Road_151\n",
       "3595 Road_37, Road_27                                     \n",
       "3596 Road_151, Road_147, Road_50, Road_3, Road_27         \n",
       "3597 NA                                                   \n",
       "3598 NA                                                   \n",
       "3599 NA                                                   "
      ]
     },
     "metadata": {},
     "output_type": "display_data"
    }
   ],
   "source": [
    "rod2 <- as.data.frame(rod)\n",
    "tail(rod2)"
   ]
  },
  {
   "cell_type": "code",
   "execution_count": 86,
   "metadata": {},
   "outputs": [
    {
     "data": {
      "text/html": [
       "<table>\n",
       "<thead><tr><th></th><th scope=col>rod</th><th scope=col>rod2</th></tr></thead>\n",
       "<tbody>\n",
       "\t<tr><th scope=row>3594</th><td>Road_37, Road_27, Road_3, Road_50, Road_147, Road_151</td><td>Road_37 Road_27 Road_3 Road_50 Road_147 Road_151     </td></tr>\n",
       "\t<tr><th scope=row>3595</th><td>Road_37, Road_27                                     </td><td>Road_37 Road_27                                      </td></tr>\n",
       "\t<tr><th scope=row>3596</th><td>Road_151, Road_147, Road_50, Road_3, Road_27         </td><td>Road_151 Road_147 Road_50 Road_3 Road_27             </td></tr>\n",
       "\t<tr><th scope=row>3597</th><td>NA                                                   </td><td>NA                                                   </td></tr>\n",
       "\t<tr><th scope=row>3598</th><td>NA                                                   </td><td>NA                                                   </td></tr>\n",
       "\t<tr><th scope=row>3599</th><td>NA                                                   </td><td>NA                                                   </td></tr>\n",
       "</tbody>\n",
       "</table>\n"
      ],
      "text/latex": [
       "\\begin{tabular}{r|ll}\n",
       "  & rod & rod2\\\\\n",
       "\\hline\n",
       "\t3594 & Road\\_37, Road\\_27, Road\\_3, Road\\_50, Road\\_147, Road\\_151 & Road\\_37 Road\\_27 Road\\_3 Road\\_50 Road\\_147 Road\\_151     \\\\\n",
       "\t3595 & Road\\_37, Road\\_27                                      & Road\\_37 Road\\_27                                      \\\\\n",
       "\t3596 & Road\\_151, Road\\_147, Road\\_50, Road\\_3, Road\\_27          & Road\\_151 Road\\_147 Road\\_50 Road\\_3 Road\\_27             \\\\\n",
       "\t3597 & NA                                                    & NA                                                   \\\\\n",
       "\t3598 & NA                                                    & NA                                                   \\\\\n",
       "\t3599 & NA                                                    & NA                                                   \\\\\n",
       "\\end{tabular}\n"
      ],
      "text/markdown": [
       "\n",
       "| <!--/--> | rod | rod2 | \n",
       "|---|---|---|---|---|---|\n",
       "| 3594 | Road_37, Road_27, Road_3, Road_50, Road_147, Road_151 | Road_37 Road_27 Road_3 Road_50 Road_147 Road_151      | \n",
       "| 3595 | Road_37, Road_27                                      | Road_37 Road_27                                       | \n",
       "| 3596 | Road_151, Road_147, Road_50, Road_3, Road_27          | Road_151 Road_147 Road_50 Road_3 Road_27              | \n",
       "| 3597 | NA                                                    | NA                                                    | \n",
       "| 3598 | NA                                                    | NA                                                    | \n",
       "| 3599 | NA                                                    | NA                                                    | \n",
       "\n",
       "\n"
      ],
      "text/plain": [
       "     rod                                                  \n",
       "3594 Road_37, Road_27, Road_3, Road_50, Road_147, Road_151\n",
       "3595 Road_37, Road_27                                     \n",
       "3596 Road_151, Road_147, Road_50, Road_3, Road_27         \n",
       "3597 NA                                                   \n",
       "3598 NA                                                   \n",
       "3599 NA                                                   \n",
       "     rod2                                            \n",
       "3594 Road_37 Road_27 Road_3 Road_50 Road_147 Road_151\n",
       "3595 Road_37 Road_27                                 \n",
       "3596 Road_151 Road_147 Road_50 Road_3 Road_27        \n",
       "3597 NA                                              \n",
       "3598 NA                                              \n",
       "3599 NA                                              "
      ]
     },
     "metadata": {},
     "output_type": "display_data"
    }
   ],
   "source": [
    "rod2$rod2 <- gsub(',','', rod2$rod)\n",
    "tail(rod2)"
   ]
  },
  {
   "cell_type": "code",
   "execution_count": 87,
   "metadata": {
    "scrolled": true
   },
   "outputs": [
    {
     "data": {
      "text/html": [
       "<table>\n",
       "<thead><tr><th scope=col>공정</th><th scope=col>시작</th><th scope=col>끝</th><th scope=col>Process</th><th scope=col>설비</th><th scope=col>제품</th><th scope=col>중량</th><th scope=col>Navigate</th><th scope=col>도로</th><th scope=col>공장</th><th scope=col>거리</th></tr></thead>\n",
       "<tbody>\n",
       "\t<tr><td>BZZBR0_이동                                     </td><td>2017-10-27 00:15:35                             </td><td>2017-10-30 01:25:53                             </td><td>NA                                              </td><td>#101                                            </td><td>1045_988_0                                      </td><td>82.1                                            </td><td>2017-10-27 01:41:28                             </td><td>Road_37 Road_27 Road_3 Road_50 Road_147 Road_151</td><td>A7E1                                            </td><td>1091.8654                                       </td></tr>\n",
       "\t<tr><td>BZZBR0_이동                                     </td><td>2017-10-27 02:25:42                             </td><td>2017-10-30 00:07:18                             </td><td>NA                                              </td><td>#553                                            </td><td>1045_998_0                                      </td><td>82.1                                            </td><td>2017-10-27 02:33:00                             </td><td>Road_37 Road_27                                 </td><td>OC1N                                            </td><td> 230.5024                                       </td></tr>\n",
       "\t<tr><td>BZZBR0_이동                                     </td><td>2017-10-30 01:25:53                             </td><td>2017-10-30 02:41:58                             </td><td>NA                                              </td><td>#1032                                           </td><td>1045_988_0                                      </td><td>82.1                                            </td><td>2017-10-30 02:41:58                             </td><td>Road_151 Road_147 Road_50 Road_3 Road_27        </td><td>OC1N                                            </td><td> 994.9071                                       </td></tr>\n",
       "\t<tr><td>BZZBR0_이동                                     </td><td>2017-10-30 00:07:18                             </td><td>2017-10-30 00:07:18                             </td><td>NA                                              </td><td>#1041                                           </td><td>1045_998_0                                      </td><td>82.1                                            </td><td>NA                                              </td><td>NA                                              </td><td>OC1N                                            </td><td>   0.0000                                       </td></tr>\n",
       "\t<tr><td>BZZBR0_작업                                     </td><td>2017-10-30 00:07:18                             </td><td>2017-10-30 07:44:25                             </td><td>2017-10-30 07:44:25                             </td><td>NA                                              </td><td>1045_998_0                                      </td><td>82.1                                            </td><td>NA                                              </td><td>NA                                              </td><td>OC1N                                            </td><td>   0.0000                                       </td></tr>\n",
       "\t<tr><td>BZZBR0_작업                                     </td><td>2017-10-30 02:41:58                             </td><td>2017-10-30 11:39:00                             </td><td>2017-10-30 11:39:00                             </td><td>NA                                              </td><td>1045_988_0                                      </td><td>82.1                                            </td><td>NA                                              </td><td>NA                                              </td><td>OC1N                                            </td><td>   0.0000                                       </td></tr>\n",
       "</tbody>\n",
       "</table>\n"
      ],
      "text/latex": [
       "\\begin{tabular}{r|lllllllllll}\n",
       " 공정 & 시작 & 끝 & Process & 설비 & 제품 & 중량 & Navigate & 도로 & 공장 & 거리\\\\\n",
       "\\hline\n",
       "\t BZZBR0\\_이동                                                & 2017-10-27 00:15:35                                          & 2017-10-30 01:25:53                                          & NA                                                           & \\#101                                                       & 1045\\_988\\_0                                               & 82.1                                                         & 2017-10-27 01:41:28                                          & Road\\_37 Road\\_27 Road\\_3 Road\\_50 Road\\_147 Road\\_151 & A7E1                                                         & 1091.8654                                                   \\\\\n",
       "\t BZZBR0\\_이동                                        & 2017-10-27 02:25:42                                  & 2017-10-30 00:07:18                                  & NA                                                   & \\#553                                               & 1045\\_998\\_0                                       & 82.1                                                 & 2017-10-27 02:33:00                                  & Road\\_37 Road\\_27                                  & OC1N                                                 &  230.5024                                           \\\\\n",
       "\t BZZBR0\\_이동                                              & 2017-10-30 01:25:53                                        & 2017-10-30 02:41:58                                        & NA                                                         & \\#1032                                                    & 1045\\_988\\_0                                             & 82.1                                                       & 2017-10-30 02:41:58                                        & Road\\_151 Road\\_147 Road\\_50 Road\\_3 Road\\_27         & OC1N                                                       &  994.9071                                                 \\\\\n",
       "\t BZZBR0\\_이동                                    & 2017-10-30 00:07:18                              & 2017-10-30 00:07:18                              & NA                                               & \\#1041                                          & 1045\\_998\\_0                                   & 82.1                                             & NA                                               & NA                                               & OC1N                                             &    0.0000                                       \\\\\n",
       "\t BZZBR0\\_작업                                    & 2017-10-30 00:07:18                              & 2017-10-30 07:44:25                              & 2017-10-30 07:44:25                              & NA                                               & 1045\\_998\\_0                                   & 82.1                                             & NA                                               & NA                                               & OC1N                                             &    0.0000                                       \\\\\n",
       "\t BZZBR0\\_작업                                    & 2017-10-30 02:41:58                              & 2017-10-30 11:39:00                              & 2017-10-30 11:39:00                              & NA                                               & 1045\\_988\\_0                                   & 82.1                                             & NA                                               & NA                                               & OC1N                                             &    0.0000                                       \\\\\n",
       "\\end{tabular}\n"
      ],
      "text/markdown": [
       "\n",
       "공정 | 시작 | 끝 | Process | 설비 | 제품 | 중량 | Navigate | 도로 | 공장 | 거리 | \n",
       "|---|---|---|---|---|---|\n",
       "| BZZBR0_이동                                      | 2017-10-27 00:15:35                              | 2017-10-30 01:25:53                              | NA                                               | #101                                             | 1045_988_0                                       | 82.1                                             | 2017-10-27 01:41:28                              | Road_37 Road_27 Road_3 Road_50 Road_147 Road_151 | A7E1                                             | 1091.8654                                        | \n",
       "| BZZBR0_이동                                      | 2017-10-27 02:25:42                              | 2017-10-30 00:07:18                              | NA                                               | #553                                             | 1045_998_0                                       | 82.1                                             | 2017-10-27 02:33:00                              | Road_37 Road_27                                  | OC1N                                             |  230.5024                                        | \n",
       "| BZZBR0_이동                                      | 2017-10-30 01:25:53                              | 2017-10-30 02:41:58                              | NA                                               | #1032                                            | 1045_988_0                                       | 82.1                                             | 2017-10-30 02:41:58                              | Road_151 Road_147 Road_50 Road_3 Road_27         | OC1N                                             |  994.9071                                        | \n",
       "| BZZBR0_이동                                      | 2017-10-30 00:07:18                              | 2017-10-30 00:07:18                              | NA                                               | #1041                                            | 1045_998_0                                       | 82.1                                             | NA                                               | NA                                               | OC1N                                             |    0.0000                                        | \n",
       "| BZZBR0_작업                                      | 2017-10-30 00:07:18                              | 2017-10-30 07:44:25                              | 2017-10-30 07:44:25                              | NA                                               | 1045_998_0                                       | 82.1                                             | NA                                               | NA                                               | OC1N                                             |    0.0000                                        | \n",
       "| BZZBR0_작업                                      | 2017-10-30 02:41:58                              | 2017-10-30 11:39:00                              | 2017-10-30 11:39:00                              | NA                                               | 1045_988_0                                       | 82.1                                             | NA                                               | NA                                               | OC1N                                             |    0.0000                                        | \n",
       "\n",
       "\n"
      ],
      "text/plain": [
       "  공정        시작                끝                  Process             설비 \n",
       "1 BZZBR0_이동 2017-10-27 00:15:35 2017-10-30 01:25:53 <NA>                #101 \n",
       "2 BZZBR0_이동 2017-10-27 02:25:42 2017-10-30 00:07:18 <NA>                #553 \n",
       "3 BZZBR0_이동 2017-10-30 01:25:53 2017-10-30 02:41:58 <NA>                #1032\n",
       "4 BZZBR0_이동 2017-10-30 00:07:18 2017-10-30 00:07:18 <NA>                #1041\n",
       "5 BZZBR0_작업 2017-10-30 00:07:18 2017-10-30 07:44:25 2017-10-30 07:44:25 NA   \n",
       "6 BZZBR0_작업 2017-10-30 02:41:58 2017-10-30 11:39:00 2017-10-30 11:39:00 NA   \n",
       "  제품       중량 Navigate           \n",
       "1 1045_988_0 82.1 2017-10-27 01:41:28\n",
       "2 1045_998_0 82.1 2017-10-27 02:33:00\n",
       "3 1045_988_0 82.1 2017-10-30 02:41:58\n",
       "4 1045_998_0 82.1 <NA>               \n",
       "5 1045_998_0 82.1 <NA>               \n",
       "6 1045_988_0 82.1 <NA>               \n",
       "  도로                                             공장 거리     \n",
       "1 Road_37 Road_27 Road_3 Road_50 Road_147 Road_151 A7E1 1091.8654\n",
       "2 Road_37 Road_27                                  OC1N  230.5024\n",
       "3 Road_151 Road_147 Road_50 Road_3 Road_27         OC1N  994.9071\n",
       "4 NA                                               OC1N    0.0000\n",
       "5 NA                                               OC1N    0.0000\n",
       "6 NA                                               OC1N    0.0000"
      ]
     },
     "metadata": {},
     "output_type": "display_data"
    }
   ],
   "source": [
    "nipa$도로 <- rod2$rod2\n",
    "tail(nipa)"
   ]
  },
  {
   "cell_type": "markdown",
   "metadata": {},
   "source": [
    "## 4. 공정 Code명 공정명으로 변경하기"
   ]
  },
  {
   "cell_type": "code",
   "execution_count": 88,
   "metadata": {},
   "outputs": [
    {
     "data": {
      "text/html": [
       "<table>\n",
       "<thead><tr><th scope=col>코드</th><th scope=col>액티비티이름</th></tr></thead>\n",
       "<tbody>\n",
       "\t<tr><td>BSA000  </td><td>조립    </td></tr>\n",
       "\t<tr><td>PEP000  </td><td>PE선각  </td></tr>\n",
       "\t<tr><td>EWOE00  </td><td>선PE의장</td></tr>\n",
       "\t<tr><td>BPBC00  </td><td>전처리  </td></tr>\n",
       "\t<tr><td>BPBP00  </td><td>도장    </td></tr>\n",
       "\t<tr><td>BPBP01  </td><td>보수도장</td></tr>\n",
       "</tbody>\n",
       "</table>\n"
      ],
      "text/latex": [
       "\\begin{tabular}{r|ll}\n",
       " 코드 & 액티비티이름\\\\\n",
       "\\hline\n",
       "\t BSA000   & 조립    \\\\\n",
       "\t PEP000   & PE선각  \\\\\n",
       "\t EWOE00   & 선PE의장\\\\\n",
       "\t BPBC00   & 전처리  \\\\\n",
       "\t BPBP00   & 도장    \\\\\n",
       "\t BPBP01   & 보수도장\\\\\n",
       "\\end{tabular}\n"
      ],
      "text/markdown": [
       "\n",
       "코드 | 액티비티이름 | \n",
       "|---|---|---|---|---|---|\n",
       "| BSA000   | 조립     | \n",
       "| PEP000   | PE선각   | \n",
       "| EWOE00   | 선PE의장 | \n",
       "| BPBC00   | 전처리   | \n",
       "| BPBP00   | 도장     | \n",
       "| BPBP01   | 보수도장 | \n",
       "\n",
       "\n"
      ],
      "text/plain": [
       "  코드   액티비티이름\n",
       "1 BSA000 조립        \n",
       "2 PEP000 PE선각      \n",
       "3 EWOE00 선PE의장    \n",
       "4 BPBC00 전처리      \n",
       "5 BPBP00 도장        \n",
       "6 BPBP01 보수도장    "
      ]
     },
     "metadata": {},
     "output_type": "display_data"
    }
   ],
   "source": [
    "code <- read_xlsx(\"C:\\\\Users\\\\진수빈\\\\Downloads\\\\180822_Simulation_Results.xlsx\", sheet = 4)\n",
    "head(code)"
   ]
  },
  {
   "cell_type": "code",
   "execution_count": 89,
   "metadata": {},
   "outputs": [],
   "source": [
    "for (i in 1:17) {\n",
    "  nipa$공정 <- gsub(code$코드[i], code$액티비티이름[i], nipa$공정)\n",
    "}"
   ]
  },
  {
   "cell_type": "code",
   "execution_count": 90,
   "metadata": {
    "scrolled": true
   },
   "outputs": [
    {
     "data": {
      "text/html": [
       "<table>\n",
       "<thead><tr><th scope=col>공정</th><th scope=col>시작</th><th scope=col>끝</th><th scope=col>Process</th><th scope=col>설비</th><th scope=col>제품</th><th scope=col>중량</th><th scope=col>Navigate</th><th scope=col>도로</th><th scope=col>공장</th><th scope=col>거리</th></tr></thead>\n",
       "<tbody>\n",
       "\t<tr><td>조립_이동          </td><td>2016-12-07 01:12:00</td><td>2016-12-07 01:12:00</td><td>NA                 </td><td>#101               </td><td>1040_988_0         </td><td> 82.1              </td><td>NA                 </td><td>NA                 </td><td>PO30               </td><td>0                  </td></tr>\n",
       "\t<tr><td>조립_작업          </td><td>2016-12-07 01:12:00</td><td>2017-03-22 03:08:42</td><td>2017-03-22 03:08:42</td><td>NA                 </td><td>1040_988_0         </td><td> 82.1              </td><td>NA                 </td><td>NA                 </td><td>PO30               </td><td>0                  </td></tr>\n",
       "\t<tr><td>조립_이동          </td><td>2016-12-13 01:12:00</td><td>2016-12-13 01:12:00</td><td>NA                 </td><td>#101               </td><td>1047_998_0         </td><td> 96.3              </td><td>NA                 </td><td>NA                 </td><td>DM30               </td><td>0                  </td></tr>\n",
       "\t<tr><td>조립_작업          </td><td>2016-12-13 01:12:00</td><td>2017-04-17 01:13:47</td><td>2017-04-17 01:13:47</td><td>NA                 </td><td>1047_998_0         </td><td> 96.3              </td><td>NA                 </td><td>NA                 </td><td>DM30               </td><td>0                  </td></tr>\n",
       "\t<tr><td>조립_이동          </td><td>2016-12-19 01:12:00</td><td>2016-12-19 01:12:00</td><td>NA                 </td><td>#354               </td><td>1002_131_3         </td><td>283.0              </td><td>NA                 </td><td>NA                 </td><td>3D3B               </td><td>0                  </td></tr>\n",
       "\t<tr><td>조립_작업          </td><td>2016-12-19 01:12:00</td><td>2017-03-16 00:46:19</td><td>2017-03-16 00:46:19</td><td>NA                 </td><td>1002_131_3         </td><td>283.0              </td><td>NA                 </td><td>NA                 </td><td>3D3B               </td><td>0                  </td></tr>\n",
       "</tbody>\n",
       "</table>\n"
      ],
      "text/latex": [
       "\\begin{tabular}{r|lllllllllll}\n",
       " 공정 & 시작 & 끝 & Process & 설비 & 제품 & 중량 & Navigate & 도로 & 공장 & 거리\\\\\n",
       "\\hline\n",
       "\t 조립\\_이동         & 2016-12-07 01:12:00 & 2016-12-07 01:12:00 & NA                  & \\#101              & 1040\\_988\\_0      &  82.1               & NA                  & NA                  & PO30                & 0                  \\\\\n",
       "\t 조립\\_작업         & 2016-12-07 01:12:00 & 2017-03-22 03:08:42 & 2017-03-22 03:08:42 & NA                  & 1040\\_988\\_0      &  82.1               & NA                  & NA                  & PO30                & 0                  \\\\\n",
       "\t 조립\\_이동         & 2016-12-13 01:12:00 & 2016-12-13 01:12:00 & NA                  & \\#101              & 1047\\_998\\_0      &  96.3               & NA                  & NA                  & DM30                & 0                  \\\\\n",
       "\t 조립\\_작업         & 2016-12-13 01:12:00 & 2017-04-17 01:13:47 & 2017-04-17 01:13:47 & NA                  & 1047\\_998\\_0      &  96.3               & NA                  & NA                  & DM30                & 0                  \\\\\n",
       "\t 조립\\_이동         & 2016-12-19 01:12:00 & 2016-12-19 01:12:00 & NA                  & \\#354              & 1002\\_131\\_3      & 283.0               & NA                  & NA                  & 3D3B                & 0                  \\\\\n",
       "\t 조립\\_작업         & 2016-12-19 01:12:00 & 2017-03-16 00:46:19 & 2017-03-16 00:46:19 & NA                  & 1002\\_131\\_3      & 283.0               & NA                  & NA                  & 3D3B                & 0                  \\\\\n",
       "\\end{tabular}\n"
      ],
      "text/markdown": [
       "\n",
       "공정 | 시작 | 끝 | Process | 설비 | 제품 | 중량 | Navigate | 도로 | 공장 | 거리 | \n",
       "|---|---|---|---|---|---|\n",
       "| 조립_이동           | 2016-12-07 01:12:00 | 2016-12-07 01:12:00 | NA                  | #101                | 1040_988_0          |  82.1               | NA                  | NA                  | PO30                | 0                   | \n",
       "| 조립_작업           | 2016-12-07 01:12:00 | 2017-03-22 03:08:42 | 2017-03-22 03:08:42 | NA                  | 1040_988_0          |  82.1               | NA                  | NA                  | PO30                | 0                   | \n",
       "| 조립_이동           | 2016-12-13 01:12:00 | 2016-12-13 01:12:00 | NA                  | #101                | 1047_998_0          |  96.3               | NA                  | NA                  | DM30                | 0                   | \n",
       "| 조립_작업           | 2016-12-13 01:12:00 | 2017-04-17 01:13:47 | 2017-04-17 01:13:47 | NA                  | 1047_998_0          |  96.3               | NA                  | NA                  | DM30                | 0                   | \n",
       "| 조립_이동           | 2016-12-19 01:12:00 | 2016-12-19 01:12:00 | NA                  | #354                | 1002_131_3          | 283.0               | NA                  | NA                  | 3D3B                | 0                   | \n",
       "| 조립_작업           | 2016-12-19 01:12:00 | 2017-03-16 00:46:19 | 2017-03-16 00:46:19 | NA                  | 1002_131_3          | 283.0               | NA                  | NA                  | 3D3B                | 0                   | \n",
       "\n",
       "\n"
      ],
      "text/plain": [
       "  공정      시작                끝                  Process             설비\n",
       "1 조립_이동 2016-12-07 01:12:00 2016-12-07 01:12:00 <NA>                #101\n",
       "2 조립_작업 2016-12-07 01:12:00 2017-03-22 03:08:42 2017-03-22 03:08:42 NA  \n",
       "3 조립_이동 2016-12-13 01:12:00 2016-12-13 01:12:00 <NA>                #101\n",
       "4 조립_작업 2016-12-13 01:12:00 2017-04-17 01:13:47 2017-04-17 01:13:47 NA  \n",
       "5 조립_이동 2016-12-19 01:12:00 2016-12-19 01:12:00 <NA>                #354\n",
       "6 조립_작업 2016-12-19 01:12:00 2017-03-16 00:46:19 2017-03-16 00:46:19 NA  \n",
       "  제품       중량  Navigate 도로 공장 거리\n",
       "1 1040_988_0  82.1 <NA>     NA   PO30 0   \n",
       "2 1040_988_0  82.1 <NA>     NA   PO30 0   \n",
       "3 1047_998_0  96.3 <NA>     NA   DM30 0   \n",
       "4 1047_998_0  96.3 <NA>     NA   DM30 0   \n",
       "5 1002_131_3 283.0 <NA>     NA   3D3B 0   \n",
       "6 1002_131_3 283.0 <NA>     NA   3D3B 0   "
      ]
     },
     "metadata": {},
     "output_type": "display_data"
    },
    {
     "data": {
      "text/html": [
       "<table>\n",
       "<thead><tr><th scope=col>공정</th><th scope=col>시작</th><th scope=col>끝</th><th scope=col>Process</th><th scope=col>설비</th><th scope=col>제품</th><th scope=col>중량</th><th scope=col>Navigate</th><th scope=col>도로</th><th scope=col>공장</th><th scope=col>거리</th></tr></thead>\n",
       "<tbody>\n",
       "\t<tr><td>발판해체_이동                                   </td><td>2017-10-27 00:15:35                             </td><td>2017-10-30 01:25:53                             </td><td>NA                                              </td><td>#101                                            </td><td>1045_988_0                                      </td><td>82.1                                            </td><td>2017-10-27 01:41:28                             </td><td>Road_37 Road_27 Road_3 Road_50 Road_147 Road_151</td><td>A7E1                                            </td><td>1091.8654                                       </td></tr>\n",
       "\t<tr><td>발판해체_이동                                   </td><td>2017-10-27 02:25:42                             </td><td>2017-10-30 00:07:18                             </td><td>NA                                              </td><td>#553                                            </td><td>1045_998_0                                      </td><td>82.1                                            </td><td>2017-10-27 02:33:00                             </td><td>Road_37 Road_27                                 </td><td>OC1N                                            </td><td> 230.5024                                       </td></tr>\n",
       "\t<tr><td>발판해체_이동                                   </td><td>2017-10-30 01:25:53                             </td><td>2017-10-30 02:41:58                             </td><td>NA                                              </td><td>#1032                                           </td><td>1045_988_0                                      </td><td>82.1                                            </td><td>2017-10-30 02:41:58                             </td><td>Road_151 Road_147 Road_50 Road_3 Road_27        </td><td>OC1N                                            </td><td> 994.9071                                       </td></tr>\n",
       "\t<tr><td>발판해체_이동                                   </td><td>2017-10-30 00:07:18                             </td><td>2017-10-30 00:07:18                             </td><td>NA                                              </td><td>#1041                                           </td><td>1045_998_0                                      </td><td>82.1                                            </td><td>NA                                              </td><td>NA                                              </td><td>OC1N                                            </td><td>   0.0000                                       </td></tr>\n",
       "\t<tr><td>발판해체_작업                                   </td><td>2017-10-30 00:07:18                             </td><td>2017-10-30 07:44:25                             </td><td>2017-10-30 07:44:25                             </td><td>NA                                              </td><td>1045_998_0                                      </td><td>82.1                                            </td><td>NA                                              </td><td>NA                                              </td><td>OC1N                                            </td><td>   0.0000                                       </td></tr>\n",
       "\t<tr><td>발판해체_작업                                   </td><td>2017-10-30 02:41:58                             </td><td>2017-10-30 11:39:00                             </td><td>2017-10-30 11:39:00                             </td><td>NA                                              </td><td>1045_988_0                                      </td><td>82.1                                            </td><td>NA                                              </td><td>NA                                              </td><td>OC1N                                            </td><td>   0.0000                                       </td></tr>\n",
       "</tbody>\n",
       "</table>\n"
      ],
      "text/latex": [
       "\\begin{tabular}{r|lllllllllll}\n",
       " 공정 & 시작 & 끝 & Process & 설비 & 제품 & 중량 & Navigate & 도로 & 공장 & 거리\\\\\n",
       "\\hline\n",
       "\t 발판해체\\_이동                                              & 2017-10-27 00:15:35                                          & 2017-10-30 01:25:53                                          & NA                                                           & \\#101                                                       & 1045\\_988\\_0                                               & 82.1                                                         & 2017-10-27 01:41:28                                          & Road\\_37 Road\\_27 Road\\_3 Road\\_50 Road\\_147 Road\\_151 & A7E1                                                         & 1091.8654                                                   \\\\\n",
       "\t 발판해체\\_이동                                      & 2017-10-27 02:25:42                                  & 2017-10-30 00:07:18                                  & NA                                                   & \\#553                                               & 1045\\_998\\_0                                       & 82.1                                                 & 2017-10-27 02:33:00                                  & Road\\_37 Road\\_27                                  & OC1N                                                 &  230.5024                                           \\\\\n",
       "\t 발판해체\\_이동                                            & 2017-10-30 01:25:53                                        & 2017-10-30 02:41:58                                        & NA                                                         & \\#1032                                                    & 1045\\_988\\_0                                             & 82.1                                                       & 2017-10-30 02:41:58                                        & Road\\_151 Road\\_147 Road\\_50 Road\\_3 Road\\_27         & OC1N                                                       &  994.9071                                                 \\\\\n",
       "\t 발판해체\\_이동                                  & 2017-10-30 00:07:18                              & 2017-10-30 00:07:18                              & NA                                               & \\#1041                                          & 1045\\_998\\_0                                   & 82.1                                             & NA                                               & NA                                               & OC1N                                             &    0.0000                                       \\\\\n",
       "\t 발판해체\\_작업                                  & 2017-10-30 00:07:18                              & 2017-10-30 07:44:25                              & 2017-10-30 07:44:25                              & NA                                               & 1045\\_998\\_0                                   & 82.1                                             & NA                                               & NA                                               & OC1N                                             &    0.0000                                       \\\\\n",
       "\t 발판해체\\_작업                                  & 2017-10-30 02:41:58                              & 2017-10-30 11:39:00                              & 2017-10-30 11:39:00                              & NA                                               & 1045\\_988\\_0                                   & 82.1                                             & NA                                               & NA                                               & OC1N                                             &    0.0000                                       \\\\\n",
       "\\end{tabular}\n"
      ],
      "text/markdown": [
       "\n",
       "공정 | 시작 | 끝 | Process | 설비 | 제품 | 중량 | Navigate | 도로 | 공장 | 거리 | \n",
       "|---|---|---|---|---|---|\n",
       "| 발판해체_이동                                    | 2017-10-27 00:15:35                              | 2017-10-30 01:25:53                              | NA                                               | #101                                             | 1045_988_0                                       | 82.1                                             | 2017-10-27 01:41:28                              | Road_37 Road_27 Road_3 Road_50 Road_147 Road_151 | A7E1                                             | 1091.8654                                        | \n",
       "| 발판해체_이동                                    | 2017-10-27 02:25:42                              | 2017-10-30 00:07:18                              | NA                                               | #553                                             | 1045_998_0                                       | 82.1                                             | 2017-10-27 02:33:00                              | Road_37 Road_27                                  | OC1N                                             |  230.5024                                        | \n",
       "| 발판해체_이동                                    | 2017-10-30 01:25:53                              | 2017-10-30 02:41:58                              | NA                                               | #1032                                            | 1045_988_0                                       | 82.1                                             | 2017-10-30 02:41:58                              | Road_151 Road_147 Road_50 Road_3 Road_27         | OC1N                                             |  994.9071                                        | \n",
       "| 발판해체_이동                                    | 2017-10-30 00:07:18                              | 2017-10-30 00:07:18                              | NA                                               | #1041                                            | 1045_998_0                                       | 82.1                                             | NA                                               | NA                                               | OC1N                                             |    0.0000                                        | \n",
       "| 발판해체_작업                                    | 2017-10-30 00:07:18                              | 2017-10-30 07:44:25                              | 2017-10-30 07:44:25                              | NA                                               | 1045_998_0                                       | 82.1                                             | NA                                               | NA                                               | OC1N                                             |    0.0000                                        | \n",
       "| 발판해체_작업                                    | 2017-10-30 02:41:58                              | 2017-10-30 11:39:00                              | 2017-10-30 11:39:00                              | NA                                               | 1045_988_0                                       | 82.1                                             | NA                                               | NA                                               | OC1N                                             |    0.0000                                        | \n",
       "\n",
       "\n"
      ],
      "text/plain": [
       "  공정          시작                끝                  Process            \n",
       "1 발판해체_이동 2017-10-27 00:15:35 2017-10-30 01:25:53 <NA>               \n",
       "2 발판해체_이동 2017-10-27 02:25:42 2017-10-30 00:07:18 <NA>               \n",
       "3 발판해체_이동 2017-10-30 01:25:53 2017-10-30 02:41:58 <NA>               \n",
       "4 발판해체_이동 2017-10-30 00:07:18 2017-10-30 00:07:18 <NA>               \n",
       "5 발판해체_작업 2017-10-30 00:07:18 2017-10-30 07:44:25 2017-10-30 07:44:25\n",
       "6 발판해체_작업 2017-10-30 02:41:58 2017-10-30 11:39:00 2017-10-30 11:39:00\n",
       "  설비  제품       중량 Navigate           \n",
       "1 #101  1045_988_0 82.1 2017-10-27 01:41:28\n",
       "2 #553  1045_998_0 82.1 2017-10-27 02:33:00\n",
       "3 #1032 1045_988_0 82.1 2017-10-30 02:41:58\n",
       "4 #1041 1045_998_0 82.1 <NA>               \n",
       "5 NA    1045_998_0 82.1 <NA>               \n",
       "6 NA    1045_988_0 82.1 <NA>               \n",
       "  도로                                             공장 거리     \n",
       "1 Road_37 Road_27 Road_3 Road_50 Road_147 Road_151 A7E1 1091.8654\n",
       "2 Road_37 Road_27                                  OC1N  230.5024\n",
       "3 Road_151 Road_147 Road_50 Road_3 Road_27         OC1N  994.9071\n",
       "4 NA                                               OC1N    0.0000\n",
       "5 NA                                               OC1N    0.0000\n",
       "6 NA                                               OC1N    0.0000"
      ]
     },
     "metadata": {},
     "output_type": "display_data"
    }
   ],
   "source": [
    "head(nipa)\n",
    "tail(nipa)"
   ]
  },
  {
   "cell_type": "markdown",
   "metadata": {},
   "source": [
    "## 5. '끝'이 Null인 값 처리\n",
    "### 1) Process 값을 가지고 있으면 끝 <- Process\n",
    "### 2) Navigate 값을 가지고 있으면 끝 <- Navigate\n",
    "### 3) 둘 다 없으면 끝 <- 시작"
   ]
  },
  {
   "cell_type": "code",
   "execution_count": 91,
   "metadata": {},
   "outputs": [
    {
     "data": {
      "text/plain": [
       "\n",
       "FALSE  TRUE \n",
       " 3218   381 "
      ]
     },
     "metadata": {},
     "output_type": "display_data"
    }
   ],
   "source": [
    "table(is.na(nipa$끝) == TRUE)"
   ]
  },
  {
   "cell_type": "code",
   "execution_count": 92,
   "metadata": {},
   "outputs": [],
   "source": [
    "nipa$시작 <- as.character(nipa$시작)\n",
    "nipa$끝 <- as.character(nipa$끝)\n",
    "nipa$Process <- as.character(nipa$Process)\n",
    "nipa$Navigate <- as.character(nipa$Navigate)"
   ]
  },
  {
   "cell_type": "code",
   "execution_count": 93,
   "metadata": {},
   "outputs": [
    {
     "data": {
      "text/plain": [
       "\n",
       "FALSE  TRUE \n",
       " 3580    19 "
      ]
     },
     "metadata": {},
     "output_type": "display_data"
    }
   ],
   "source": [
    "nipa$끝 <- ifelse(is.na(nipa$끝) == TRUE, nipa$Process, nipa$끝)\n",
    "table(is.na(nipa$끝) == TRUE)"
   ]
  },
  {
   "cell_type": "code",
   "execution_count": 94,
   "metadata": {},
   "outputs": [
    {
     "data": {
      "text/plain": [
       "\n",
       "FALSE  TRUE \n",
       " 3598     1 "
      ]
     },
     "metadata": {},
     "output_type": "display_data"
    }
   ],
   "source": [
    "nipa$끝 <- ifelse(is.na(nipa$끝) == TRUE, nipa$Navigate, nipa$끝)\n",
    "table(is.na(nipa$끝) == TRUE)"
   ]
  },
  {
   "cell_type": "code",
   "execution_count": 95,
   "metadata": {},
   "outputs": [
    {
     "data": {
      "text/plain": [
       "\n",
       "FALSE \n",
       " 3599 "
      ]
     },
     "metadata": {},
     "output_type": "display_data"
    }
   ],
   "source": [
    "nipa$끝 <- ifelse(is.na(nipa$끝) == TRUE, nipa$시작, nipa$끝)\n",
    "table(is.na(nipa$끝) == TRUE)"
   ]
  },
  {
   "cell_type": "code",
   "execution_count": null,
   "metadata": {},
   "outputs": [],
   "source": [
    "write.csv(nipa, file = \"180822_Simulation_Results_Full_Ver.csv\", row.names = FALSE)"
   ]
  },
  {
   "cell_type": "markdown",
   "metadata": {},
   "source": [
    "## 6. 중량, 거리 컬럼값 Integer 변환 : ProDiscovery에서 Int만 인식함.."
   ]
  },
  {
   "cell_type": "code",
   "execution_count": 112,
   "metadata": {},
   "outputs": [],
   "source": [
    "nipa_int <- nipa\n",
    "nipa_int$거리 <- as.integer(nipa_int$거리)\n",
    "nipa_int$중량 <- as.integer(nipa_int$중량)"
   ]
  },
  {
   "cell_type": "code",
   "execution_count": 113,
   "metadata": {},
   "outputs": [
    {
     "data": {
      "text/html": [
       "<table>\n",
       "<thead><tr><th scope=col>공정</th><th scope=col>시작</th><th scope=col>끝</th><th scope=col>Process</th><th scope=col>설비</th><th scope=col>제품</th><th scope=col>중량</th><th scope=col>Navigate</th><th scope=col>도로</th><th scope=col>공장</th><th scope=col>거리</th></tr></thead>\n",
       "<tbody>\n",
       "\t<tr><td>도장_작업                                       </td><td>2017-10-19 01:10:35                             </td><td>2017-10-27 02:25:42                             </td><td>2017-10-27 02:25:42                             </td><td>NA                                              </td><td>1045_998_0                                      </td><td>82                                              </td><td>NA                                              </td><td>NA                                              </td><td>2BP4                                            </td><td>   0                                            </td></tr>\n",
       "\t<tr><td>도장_이동                                       </td><td>2017-10-19 00:11:09                             </td><td>2017-10-19 00:43:24                             </td><td>NA                                              </td><td>#503                                            </td><td>1045_988_0                                      </td><td>82                                              </td><td>2017-10-19 00:43:24                             </td><td>Road_3 Road_27 Road_37                          </td><td>2BP3                                            </td><td> 688                                            </td></tr>\n",
       "\t<tr><td>도장_이동                                       </td><td>2017-10-19 00:36:20                             </td><td>2017-10-19 01:10:35                             </td><td>NA                                              </td><td>#352                                            </td><td>1045_998_0                                      </td><td>82                                              </td><td>2017-10-19 01:10:35                             </td><td>Road_3 Road_27 Road_37                          </td><td>2BP4                                            </td><td> 754                                            </td></tr>\n",
       "\t<tr><td>도장_작업                                       </td><td>2017-10-19 00:43:24                             </td><td>2017-10-27 00:15:35                             </td><td>2017-10-27 00:15:35                             </td><td>NA                                              </td><td>1045_988_0                                      </td><td>82                                              </td><td>NA                                              </td><td>NA                                              </td><td>2BP3                                            </td><td>   0                                            </td></tr>\n",
       "\t<tr><td>발판해체_이동                                   </td><td>2017-10-27 00:15:35                             </td><td>2017-10-30 01:25:53                             </td><td>NA                                              </td><td>#101                                            </td><td>1045_988_0                                      </td><td>82                                              </td><td>2017-10-27 01:41:28                             </td><td>Road_37 Road_27 Road_3 Road_50 Road_147 Road_151</td><td>A7E1                                            </td><td>1091                                            </td></tr>\n",
       "\t<tr><td>발판해체_이동                                   </td><td>2017-10-27 02:25:42                             </td><td>2017-10-30 00:07:18                             </td><td>NA                                              </td><td>#553                                            </td><td>1045_998_0                                      </td><td>82                                              </td><td>2017-10-27 02:33:00                             </td><td>Road_37 Road_27                                 </td><td>OC1N                                            </td><td> 230                                            </td></tr>\n",
       "\t<tr><td>발판해체_이동                                   </td><td>2017-10-30 01:25:53                             </td><td>2017-10-30 02:41:58                             </td><td>NA                                              </td><td>#1032                                           </td><td>1045_988_0                                      </td><td>82                                              </td><td>2017-10-30 02:41:58                             </td><td>Road_151 Road_147 Road_50 Road_3 Road_27        </td><td>OC1N                                            </td><td> 994                                            </td></tr>\n",
       "\t<tr><td>발판해체_이동                                   </td><td>2017-10-30 00:07:18                             </td><td>2017-10-30 00:07:18                             </td><td>NA                                              </td><td>#1041                                           </td><td>1045_998_0                                      </td><td>82                                              </td><td>NA                                              </td><td>NA                                              </td><td>OC1N                                            </td><td>   0                                            </td></tr>\n",
       "\t<tr><td>발판해체_작업                                   </td><td>2017-10-30 00:07:18                             </td><td>2017-10-30 07:44:25                             </td><td>2017-10-30 07:44:25                             </td><td>NA                                              </td><td>1045_998_0                                      </td><td>82                                              </td><td>NA                                              </td><td>NA                                              </td><td>OC1N                                            </td><td>   0                                            </td></tr>\n",
       "\t<tr><td>발판해체_작업                                   </td><td>2017-10-30 02:41:58                             </td><td>2017-10-30 11:39:00                             </td><td>2017-10-30 11:39:00                             </td><td>NA                                              </td><td>1045_988_0                                      </td><td>82                                              </td><td>NA                                              </td><td>NA                                              </td><td>OC1N                                            </td><td>   0                                            </td></tr>\n",
       "</tbody>\n",
       "</table>\n"
      ],
      "text/latex": [
       "\\begin{tabular}{r|lllllllllll}\n",
       " 공정 & 시작 & 끝 & Process & 설비 & 제품 & 중량 & Navigate & 도로 & 공장 & 거리\\\\\n",
       "\\hline\n",
       "\t 도장\\_작업                                      & 2017-10-19 01:10:35                              & 2017-10-27 02:25:42                              & 2017-10-27 02:25:42                              & NA                                               & 1045\\_998\\_0                                   & 82                                               & NA                                               & NA                                               & 2BP4                                             &    0                                            \\\\\n",
       "\t 도장\\_이동                                            & 2017-10-19 00:11:09                                    & 2017-10-19 00:43:24                                    & NA                                                     & \\#503                                                 & 1045\\_988\\_0                                         & 82                                                     & 2017-10-19 00:43:24                                    & Road\\_3 Road\\_27 Road\\_37                           & 2BP3                                                   &  688                                                  \\\\\n",
       "\t 도장\\_이동                                            & 2017-10-19 00:36:20                                    & 2017-10-19 01:10:35                                    & NA                                                     & \\#352                                                 & 1045\\_998\\_0                                         & 82                                                     & 2017-10-19 01:10:35                                    & Road\\_3 Road\\_27 Road\\_37                           & 2BP4                                                   &  754                                                  \\\\\n",
       "\t 도장\\_작업                                      & 2017-10-19 00:43:24                              & 2017-10-27 00:15:35                              & 2017-10-27 00:15:35                              & NA                                               & 1045\\_988\\_0                                   & 82                                               & NA                                               & NA                                               & 2BP3                                             &    0                                            \\\\\n",
       "\t 발판해체\\_이동                                              & 2017-10-27 00:15:35                                          & 2017-10-30 01:25:53                                          & NA                                                           & \\#101                                                       & 1045\\_988\\_0                                               & 82                                                           & 2017-10-27 01:41:28                                          & Road\\_37 Road\\_27 Road\\_3 Road\\_50 Road\\_147 Road\\_151 & A7E1                                                         & 1091                                                        \\\\\n",
       "\t 발판해체\\_이동                                      & 2017-10-27 02:25:42                                  & 2017-10-30 00:07:18                                  & NA                                                   & \\#553                                               & 1045\\_998\\_0                                       & 82                                                   & 2017-10-27 02:33:00                                  & Road\\_37 Road\\_27                                  & OC1N                                                 &  230                                                \\\\\n",
       "\t 발판해체\\_이동                                            & 2017-10-30 01:25:53                                        & 2017-10-30 02:41:58                                        & NA                                                         & \\#1032                                                    & 1045\\_988\\_0                                             & 82                                                         & 2017-10-30 02:41:58                                        & Road\\_151 Road\\_147 Road\\_50 Road\\_3 Road\\_27         & OC1N                                                       &  994                                                      \\\\\n",
       "\t 발판해체\\_이동                                  & 2017-10-30 00:07:18                              & 2017-10-30 00:07:18                              & NA                                               & \\#1041                                          & 1045\\_998\\_0                                   & 82                                               & NA                                               & NA                                               & OC1N                                             &    0                                            \\\\\n",
       "\t 발판해체\\_작업                                  & 2017-10-30 00:07:18                              & 2017-10-30 07:44:25                              & 2017-10-30 07:44:25                              & NA                                               & 1045\\_998\\_0                                   & 82                                               & NA                                               & NA                                               & OC1N                                             &    0                                            \\\\\n",
       "\t 발판해체\\_작업                                  & 2017-10-30 02:41:58                              & 2017-10-30 11:39:00                              & 2017-10-30 11:39:00                              & NA                                               & 1045\\_988\\_0                                   & 82                                               & NA                                               & NA                                               & OC1N                                             &    0                                            \\\\\n",
       "\\end{tabular}\n"
      ],
      "text/markdown": [
       "\n",
       "공정 | 시작 | 끝 | Process | 설비 | 제품 | 중량 | Navigate | 도로 | 공장 | 거리 | \n",
       "|---|---|---|---|---|---|---|---|---|---|\n",
       "| 도장_작업                                        | 2017-10-19 01:10:35                              | 2017-10-27 02:25:42                              | 2017-10-27 02:25:42                              | NA                                               | 1045_998_0                                       | 82                                               | NA                                               | NA                                               | 2BP4                                             |    0                                             | \n",
       "| 도장_이동                                        | 2017-10-19 00:11:09                              | 2017-10-19 00:43:24                              | NA                                               | #503                                             | 1045_988_0                                       | 82                                               | 2017-10-19 00:43:24                              | Road_3 Road_27 Road_37                           | 2BP3                                             |  688                                             | \n",
       "| 도장_이동                                        | 2017-10-19 00:36:20                              | 2017-10-19 01:10:35                              | NA                                               | #352                                             | 1045_998_0                                       | 82                                               | 2017-10-19 01:10:35                              | Road_3 Road_27 Road_37                           | 2BP4                                             |  754                                             | \n",
       "| 도장_작업                                        | 2017-10-19 00:43:24                              | 2017-10-27 00:15:35                              | 2017-10-27 00:15:35                              | NA                                               | 1045_988_0                                       | 82                                               | NA                                               | NA                                               | 2BP3                                             |    0                                             | \n",
       "| 발판해체_이동                                    | 2017-10-27 00:15:35                              | 2017-10-30 01:25:53                              | NA                                               | #101                                             | 1045_988_0                                       | 82                                               | 2017-10-27 01:41:28                              | Road_37 Road_27 Road_3 Road_50 Road_147 Road_151 | A7E1                                             | 1091                                             | \n",
       "| 발판해체_이동                                    | 2017-10-27 02:25:42                              | 2017-10-30 00:07:18                              | NA                                               | #553                                             | 1045_998_0                                       | 82                                               | 2017-10-27 02:33:00                              | Road_37 Road_27                                  | OC1N                                             |  230                                             | \n",
       "| 발판해체_이동                                    | 2017-10-30 01:25:53                              | 2017-10-30 02:41:58                              | NA                                               | #1032                                            | 1045_988_0                                       | 82                                               | 2017-10-30 02:41:58                              | Road_151 Road_147 Road_50 Road_3 Road_27         | OC1N                                             |  994                                             | \n",
       "| 발판해체_이동                                    | 2017-10-30 00:07:18                              | 2017-10-30 00:07:18                              | NA                                               | #1041                                            | 1045_998_0                                       | 82                                               | NA                                               | NA                                               | OC1N                                             |    0                                             | \n",
       "| 발판해체_작업                                    | 2017-10-30 00:07:18                              | 2017-10-30 07:44:25                              | 2017-10-30 07:44:25                              | NA                                               | 1045_998_0                                       | 82                                               | NA                                               | NA                                               | OC1N                                             |    0                                             | \n",
       "| 발판해체_작업                                    | 2017-10-30 02:41:58                              | 2017-10-30 11:39:00                              | 2017-10-30 11:39:00                              | NA                                               | 1045_988_0                                       | 82                                               | NA                                               | NA                                               | OC1N                                             |    0                                             | \n",
       "\n",
       "\n"
      ],
      "text/plain": [
       "   공정          시작                끝                  Process            \n",
       "1  도장_작업     2017-10-19 01:10:35 2017-10-27 02:25:42 2017-10-27 02:25:42\n",
       "2  도장_이동     2017-10-19 00:11:09 2017-10-19 00:43:24 NA                 \n",
       "3  도장_이동     2017-10-19 00:36:20 2017-10-19 01:10:35 NA                 \n",
       "4  도장_작업     2017-10-19 00:43:24 2017-10-27 00:15:35 2017-10-27 00:15:35\n",
       "5  발판해체_이동 2017-10-27 00:15:35 2017-10-30 01:25:53 NA                 \n",
       "6  발판해체_이동 2017-10-27 02:25:42 2017-10-30 00:07:18 NA                 \n",
       "7  발판해체_이동 2017-10-30 01:25:53 2017-10-30 02:41:58 NA                 \n",
       "8  발판해체_이동 2017-10-30 00:07:18 2017-10-30 00:07:18 NA                 \n",
       "9  발판해체_작업 2017-10-30 00:07:18 2017-10-30 07:44:25 2017-10-30 07:44:25\n",
       "10 발판해체_작업 2017-10-30 02:41:58 2017-10-30 11:39:00 2017-10-30 11:39:00\n",
       "   설비  제품       중량 Navigate           \n",
       "1  NA    1045_998_0 82   NA                 \n",
       "2  #503  1045_988_0 82   2017-10-19 00:43:24\n",
       "3  #352  1045_998_0 82   2017-10-19 01:10:35\n",
       "4  NA    1045_988_0 82   NA                 \n",
       "5  #101  1045_988_0 82   2017-10-27 01:41:28\n",
       "6  #553  1045_998_0 82   2017-10-27 02:33:00\n",
       "7  #1032 1045_988_0 82   2017-10-30 02:41:58\n",
       "8  #1041 1045_998_0 82   NA                 \n",
       "9  NA    1045_998_0 82   NA                 \n",
       "10 NA    1045_988_0 82   NA                 \n",
       "   도로                                             공장 거리\n",
       "1  NA                                               2BP4    0\n",
       "2  Road_3 Road_27 Road_37                           2BP3  688\n",
       "3  Road_3 Road_27 Road_37                           2BP4  754\n",
       "4  NA                                               2BP3    0\n",
       "5  Road_37 Road_27 Road_3 Road_50 Road_147 Road_151 A7E1 1091\n",
       "6  Road_37 Road_27                                  OC1N  230\n",
       "7  Road_151 Road_147 Road_50 Road_3 Road_27         OC1N  994\n",
       "8  NA                                               OC1N    0\n",
       "9  NA                                               OC1N    0\n",
       "10 NA                                               OC1N    0"
      ]
     },
     "metadata": {},
     "output_type": "display_data"
    }
   ],
   "source": [
    "tail(nipa_int, 10)"
   ]
  },
  {
   "cell_type": "code",
   "execution_count": null,
   "metadata": {},
   "outputs": [],
   "source": [
    "write.csv(nipa_int, file = \"180822_Simulation_Results_Int_Ver.csv\", ro.names = FALSE)"
   ]
  },
  {
   "cell_type": "markdown",
   "metadata": {},
   "source": [
    "## 7. 작업 / 이동 따로 분리하기\n",
    "### 1) 작업만 따로 뽑기 - Process가 NA인 값 제외"
   ]
  },
  {
   "cell_type": "code",
   "execution_count": 98,
   "metadata": {},
   "outputs": [
    {
     "data": {
      "text/html": [
       "<table>\n",
       "<thead><tr><th scope=col>공정</th><th scope=col>시작</th><th scope=col>끝</th><th scope=col>Process</th><th scope=col>설비</th><th scope=col>제품</th><th scope=col>중량</th><th scope=col>Navigate</th><th scope=col>도로</th><th scope=col>공장</th><th scope=col>거리</th></tr></thead>\n",
       "<tbody>\n",
       "\t<tr><td>조립_작업          </td><td>2016-12-07 01:12:00</td><td>2017-03-22 03:08:42</td><td>2017-03-22 03:08:42</td><td>NA                 </td><td>1040_988_0         </td><td> 82.1              </td><td>NA                 </td><td>NA                 </td><td>PO30               </td><td>0                  </td></tr>\n",
       "\t<tr><td>조립_작업          </td><td>2016-12-13 01:12:00</td><td>2017-04-17 01:13:47</td><td>2017-04-17 01:13:47</td><td>NA                 </td><td>1047_998_0         </td><td> 96.3              </td><td>NA                 </td><td>NA                 </td><td>DM30               </td><td>0                  </td></tr>\n",
       "\t<tr><td>조립_작업          </td><td>2016-12-19 01:12:00</td><td>2017-03-16 00:46:19</td><td>2017-03-16 00:46:19</td><td>NA                 </td><td>1002_131_3         </td><td>283.0              </td><td>NA                 </td><td>NA                 </td><td>3D3B               </td><td>0                  </td></tr>\n",
       "\t<tr><td>조립_작업          </td><td>2016-12-20 01:12:00</td><td>2017-03-17 00:48:46</td><td>2017-03-17 00:48:46</td><td>NA                 </td><td>1002_121_2         </td><td>268.4              </td><td>NA                 </td><td>NA                 </td><td>3D3B               </td><td>0                  </td></tr>\n",
       "\t<tr><td>조립_작업          </td><td>2016-12-20 01:12:00</td><td>2017-04-26 03:07:26</td><td>2017-04-24 09:38:20</td><td>NA                 </td><td>1018_988_0         </td><td> 36.0              </td><td>NA                 </td><td>NA                 </td><td>E310               </td><td>0                  </td></tr>\n",
       "\t<tr><td>조립_작업          </td><td>2016-12-27 01:12:00</td><td>2017-04-26 03:07:26</td><td>2017-04-24 08:08:33</td><td>NA                 </td><td>1018_998_0         </td><td> 36.0              </td><td>NA                 </td><td>NA                 </td><td>DMH0               </td><td>0                  </td></tr>\n",
       "\t<tr><td>조립_작업          </td><td>2016-12-30 01:12:00</td><td>2017-03-29 02:34:29</td><td>2017-03-29 02:34:29</td><td>NA                 </td><td>1002_105_7         </td><td>270.3              </td><td>NA                 </td><td>NA                 </td><td>GB1S               </td><td>0                  </td></tr>\n",
       "\t<tr><td>조립_작업          </td><td>2017-01-05 01:12:00</td><td>2017-03-21 10:16:16</td><td>2017-03-21 10:16:16</td><td>NA                 </td><td>1002_112_1         </td><td>240.8              </td><td>NA                 </td><td>NA                 </td><td>NP2B               </td><td>0                  </td></tr>\n",
       "\t<tr><td>조립_작업          </td><td>2017-01-05 01:12:00</td><td>2017-03-22 01:34:31</td><td>2017-03-22 01:34:31</td><td>NA                 </td><td>1002_133_2         </td><td>227.3              </td><td>NA                 </td><td>NA                 </td><td>NP3B               </td><td>0                  </td></tr>\n",
       "\t<tr><td>조립_작업          </td><td>2017-01-05 01:12:00</td><td>2017-03-22 04:58:59</td><td>2017-03-22 04:58:59</td><td>NA                 </td><td>1002_123_1         </td><td>243.8              </td><td>NA                 </td><td>NA                 </td><td>NP3S               </td><td>0                  </td></tr>\n",
       "\t<tr><td>조립_작업          </td><td>2017-01-09 01:12:00</td><td>2017-03-31 09:38:08</td><td>2017-03-31 09:38:08</td><td>NA                 </td><td>1002_172_1         </td><td>273.0              </td><td>NA                 </td><td>NA                 </td><td>GB3B               </td><td>0                  </td></tr>\n",
       "\t<tr><td>조립_작업          </td><td>2017-01-12 01:12:00</td><td>2017-05-18 04:30:24</td><td>2017-05-18 04:30:24</td><td>NA                 </td><td>1052_998_0         </td><td> 75.0              </td><td>NA                 </td><td>NA                 </td><td>DMH0               </td><td>0                  </td></tr>\n",
       "\t<tr><td>조립_작업          </td><td>2017-01-13 01:12:00</td><td>2017-04-27 02:12:00</td><td>2017-04-25 09:52:11</td><td>NA                 </td><td>1040_998_0         </td><td> 82.1              </td><td>NA                 </td><td>NA                 </td><td>OF30               </td><td>0                  </td></tr>\n",
       "\t<tr><td>조립_작업          </td><td>2017-01-16 01:12:00</td><td>2017-04-03 11:55:04</td><td>2017-04-03 11:55:04</td><td>NA                 </td><td>1002_162_1         </td><td>281.2              </td><td>NA                 </td><td>NA                 </td><td>GB3B               </td><td>0                  </td></tr>\n",
       "\t<tr><td>조립_작업          </td><td>2017-01-16 01:12:00</td><td>2017-03-30 05:41:34</td><td>2017-03-30 05:41:34</td><td>NA                 </td><td>1002_111_4         </td><td>253.0              </td><td>NA                 </td><td>NA                 </td><td>NP2B               </td><td>0                  </td></tr>\n",
       "\t<tr><td>조립_작업          </td><td>2017-01-18 01:12:00</td><td>2017-03-21 10:51:09</td><td>2017-03-21 10:51:09</td><td>NA                 </td><td>1002_142_2         </td><td>177.2              </td><td>NA                 </td><td>NA                 </td><td>NP2B               </td><td>0                  </td></tr>\n",
       "\t<tr><td>조립_작업          </td><td>2017-01-18 01:12:00</td><td>2017-03-20 00:30:42</td><td>2017-03-20 00:30:42</td><td>NA                 </td><td>1002_152_2         </td><td>169.7              </td><td>NA                 </td><td>NA                 </td><td>NP2S               </td><td>0                  </td></tr>\n",
       "\t<tr><td>조립_작업          </td><td>2017-01-20 01:12:00</td><td>2017-03-24 07:46:30</td><td>2017-03-24 07:46:30</td><td>NA                 </td><td>1002_173_6         </td><td>133.1              </td><td>NA                 </td><td>NA                 </td><td>NP2B               </td><td>0                  </td></tr>\n",
       "\t<tr><td>조립_작업          </td><td>2017-01-23 01:12:00</td><td>2017-03-27 06:27:46</td><td>2017-03-27 06:27:46</td><td>NA                 </td><td>1002_163_5         </td><td>133.3              </td><td>NA                 </td><td>NA                 </td><td>NP3B               </td><td>0                  </td></tr>\n",
       "\t<tr><td>조립_작업          </td><td>2017-01-25 01:12:00</td><td>2017-05-04 01:12:00</td><td>2017-05-02 08:27:50</td><td>NA                 </td><td>1011_988_0         </td><td> 33.0              </td><td>NA                 </td><td>NA                 </td><td>E320               </td><td>0                  </td></tr>\n",
       "</tbody>\n",
       "</table>\n"
      ],
      "text/latex": [
       "\\begin{tabular}{r|lllllllllll}\n",
       " 공정 & 시작 & 끝 & Process & 설비 & 제품 & 중량 & Navigate & 도로 & 공장 & 거리\\\\\n",
       "\\hline\n",
       "\t 조립\\_작업         & 2016-12-07 01:12:00 & 2017-03-22 03:08:42 & 2017-03-22 03:08:42 & NA                  & 1040\\_988\\_0      &  82.1               & NA                  & NA                  & PO30                & 0                  \\\\\n",
       "\t 조립\\_작업         & 2016-12-13 01:12:00 & 2017-04-17 01:13:47 & 2017-04-17 01:13:47 & NA                  & 1047\\_998\\_0      &  96.3               & NA                  & NA                  & DM30                & 0                  \\\\\n",
       "\t 조립\\_작업         & 2016-12-19 01:12:00 & 2017-03-16 00:46:19 & 2017-03-16 00:46:19 & NA                  & 1002\\_131\\_3      & 283.0               & NA                  & NA                  & 3D3B                & 0                  \\\\\n",
       "\t 조립\\_작업         & 2016-12-20 01:12:00 & 2017-03-17 00:48:46 & 2017-03-17 00:48:46 & NA                  & 1002\\_121\\_2      & 268.4               & NA                  & NA                  & 3D3B                & 0                  \\\\\n",
       "\t 조립\\_작업         & 2016-12-20 01:12:00 & 2017-04-26 03:07:26 & 2017-04-24 09:38:20 & NA                  & 1018\\_988\\_0      &  36.0               & NA                  & NA                  & E310                & 0                  \\\\\n",
       "\t 조립\\_작업         & 2016-12-27 01:12:00 & 2017-04-26 03:07:26 & 2017-04-24 08:08:33 & NA                  & 1018\\_998\\_0      &  36.0               & NA                  & NA                  & DMH0                & 0                  \\\\\n",
       "\t 조립\\_작업         & 2016-12-30 01:12:00 & 2017-03-29 02:34:29 & 2017-03-29 02:34:29 & NA                  & 1002\\_105\\_7      & 270.3               & NA                  & NA                  & GB1S                & 0                  \\\\\n",
       "\t 조립\\_작업         & 2017-01-05 01:12:00 & 2017-03-21 10:16:16 & 2017-03-21 10:16:16 & NA                  & 1002\\_112\\_1      & 240.8               & NA                  & NA                  & NP2B                & 0                  \\\\\n",
       "\t 조립\\_작업         & 2017-01-05 01:12:00 & 2017-03-22 01:34:31 & 2017-03-22 01:34:31 & NA                  & 1002\\_133\\_2      & 227.3               & NA                  & NA                  & NP3B                & 0                  \\\\\n",
       "\t 조립\\_작업         & 2017-01-05 01:12:00 & 2017-03-22 04:58:59 & 2017-03-22 04:58:59 & NA                  & 1002\\_123\\_1      & 243.8               & NA                  & NA                  & NP3S                & 0                  \\\\\n",
       "\t 조립\\_작업         & 2017-01-09 01:12:00 & 2017-03-31 09:38:08 & 2017-03-31 09:38:08 & NA                  & 1002\\_172\\_1      & 273.0               & NA                  & NA                  & GB3B                & 0                  \\\\\n",
       "\t 조립\\_작업         & 2017-01-12 01:12:00 & 2017-05-18 04:30:24 & 2017-05-18 04:30:24 & NA                  & 1052\\_998\\_0      &  75.0               & NA                  & NA                  & DMH0                & 0                  \\\\\n",
       "\t 조립\\_작업         & 2017-01-13 01:12:00 & 2017-04-27 02:12:00 & 2017-04-25 09:52:11 & NA                  & 1040\\_998\\_0      &  82.1               & NA                  & NA                  & OF30                & 0                  \\\\\n",
       "\t 조립\\_작업         & 2017-01-16 01:12:00 & 2017-04-03 11:55:04 & 2017-04-03 11:55:04 & NA                  & 1002\\_162\\_1      & 281.2               & NA                  & NA                  & GB3B                & 0                  \\\\\n",
       "\t 조립\\_작업         & 2017-01-16 01:12:00 & 2017-03-30 05:41:34 & 2017-03-30 05:41:34 & NA                  & 1002\\_111\\_4      & 253.0               & NA                  & NA                  & NP2B                & 0                  \\\\\n",
       "\t 조립\\_작업         & 2017-01-18 01:12:00 & 2017-03-21 10:51:09 & 2017-03-21 10:51:09 & NA                  & 1002\\_142\\_2      & 177.2               & NA                  & NA                  & NP2B                & 0                  \\\\\n",
       "\t 조립\\_작업         & 2017-01-18 01:12:00 & 2017-03-20 00:30:42 & 2017-03-20 00:30:42 & NA                  & 1002\\_152\\_2      & 169.7               & NA                  & NA                  & NP2S                & 0                  \\\\\n",
       "\t 조립\\_작업         & 2017-01-20 01:12:00 & 2017-03-24 07:46:30 & 2017-03-24 07:46:30 & NA                  & 1002\\_173\\_6      & 133.1               & NA                  & NA                  & NP2B                & 0                  \\\\\n",
       "\t 조립\\_작업         & 2017-01-23 01:12:00 & 2017-03-27 06:27:46 & 2017-03-27 06:27:46 & NA                  & 1002\\_163\\_5      & 133.3               & NA                  & NA                  & NP3B                & 0                  \\\\\n",
       "\t 조립\\_작업         & 2017-01-25 01:12:00 & 2017-05-04 01:12:00 & 2017-05-02 08:27:50 & NA                  & 1011\\_988\\_0      &  33.0               & NA                  & NA                  & E320                & 0                  \\\\\n",
       "\\end{tabular}\n"
      ],
      "text/markdown": [
       "\n",
       "공정 | 시작 | 끝 | Process | 설비 | 제품 | 중량 | Navigate | 도로 | 공장 | 거리 | \n",
       "|---|---|---|---|---|---|---|---|---|---|---|---|---|---|---|---|---|---|---|---|\n",
       "| 조립_작업           | 2016-12-07 01:12:00 | 2017-03-22 03:08:42 | 2017-03-22 03:08:42 | NA                  | 1040_988_0          |  82.1               | NA                  | NA                  | PO30                | 0                   | \n",
       "| 조립_작업           | 2016-12-13 01:12:00 | 2017-04-17 01:13:47 | 2017-04-17 01:13:47 | NA                  | 1047_998_0          |  96.3               | NA                  | NA                  | DM30                | 0                   | \n",
       "| 조립_작업           | 2016-12-19 01:12:00 | 2017-03-16 00:46:19 | 2017-03-16 00:46:19 | NA                  | 1002_131_3          | 283.0               | NA                  | NA                  | 3D3B                | 0                   | \n",
       "| 조립_작업           | 2016-12-20 01:12:00 | 2017-03-17 00:48:46 | 2017-03-17 00:48:46 | NA                  | 1002_121_2          | 268.4               | NA                  | NA                  | 3D3B                | 0                   | \n",
       "| 조립_작업           | 2016-12-20 01:12:00 | 2017-04-26 03:07:26 | 2017-04-24 09:38:20 | NA                  | 1018_988_0          |  36.0               | NA                  | NA                  | E310                | 0                   | \n",
       "| 조립_작업           | 2016-12-27 01:12:00 | 2017-04-26 03:07:26 | 2017-04-24 08:08:33 | NA                  | 1018_998_0          |  36.0               | NA                  | NA                  | DMH0                | 0                   | \n",
       "| 조립_작업           | 2016-12-30 01:12:00 | 2017-03-29 02:34:29 | 2017-03-29 02:34:29 | NA                  | 1002_105_7          | 270.3               | NA                  | NA                  | GB1S                | 0                   | \n",
       "| 조립_작업           | 2017-01-05 01:12:00 | 2017-03-21 10:16:16 | 2017-03-21 10:16:16 | NA                  | 1002_112_1          | 240.8               | NA                  | NA                  | NP2B                | 0                   | \n",
       "| 조립_작업           | 2017-01-05 01:12:00 | 2017-03-22 01:34:31 | 2017-03-22 01:34:31 | NA                  | 1002_133_2          | 227.3               | NA                  | NA                  | NP3B                | 0                   | \n",
       "| 조립_작업           | 2017-01-05 01:12:00 | 2017-03-22 04:58:59 | 2017-03-22 04:58:59 | NA                  | 1002_123_1          | 243.8               | NA                  | NA                  | NP3S                | 0                   | \n",
       "| 조립_작업           | 2017-01-09 01:12:00 | 2017-03-31 09:38:08 | 2017-03-31 09:38:08 | NA                  | 1002_172_1          | 273.0               | NA                  | NA                  | GB3B                | 0                   | \n",
       "| 조립_작업           | 2017-01-12 01:12:00 | 2017-05-18 04:30:24 | 2017-05-18 04:30:24 | NA                  | 1052_998_0          |  75.0               | NA                  | NA                  | DMH0                | 0                   | \n",
       "| 조립_작업           | 2017-01-13 01:12:00 | 2017-04-27 02:12:00 | 2017-04-25 09:52:11 | NA                  | 1040_998_0          |  82.1               | NA                  | NA                  | OF30                | 0                   | \n",
       "| 조립_작업           | 2017-01-16 01:12:00 | 2017-04-03 11:55:04 | 2017-04-03 11:55:04 | NA                  | 1002_162_1          | 281.2               | NA                  | NA                  | GB3B                | 0                   | \n",
       "| 조립_작업           | 2017-01-16 01:12:00 | 2017-03-30 05:41:34 | 2017-03-30 05:41:34 | NA                  | 1002_111_4          | 253.0               | NA                  | NA                  | NP2B                | 0                   | \n",
       "| 조립_작업           | 2017-01-18 01:12:00 | 2017-03-21 10:51:09 | 2017-03-21 10:51:09 | NA                  | 1002_142_2          | 177.2               | NA                  | NA                  | NP2B                | 0                   | \n",
       "| 조립_작업           | 2017-01-18 01:12:00 | 2017-03-20 00:30:42 | 2017-03-20 00:30:42 | NA                  | 1002_152_2          | 169.7               | NA                  | NA                  | NP2S                | 0                   | \n",
       "| 조립_작업           | 2017-01-20 01:12:00 | 2017-03-24 07:46:30 | 2017-03-24 07:46:30 | NA                  | 1002_173_6          | 133.1               | NA                  | NA                  | NP2B                | 0                   | \n",
       "| 조립_작업           | 2017-01-23 01:12:00 | 2017-03-27 06:27:46 | 2017-03-27 06:27:46 | NA                  | 1002_163_5          | 133.3               | NA                  | NA                  | NP3B                | 0                   | \n",
       "| 조립_작업           | 2017-01-25 01:12:00 | 2017-05-04 01:12:00 | 2017-05-02 08:27:50 | NA                  | 1011_988_0          |  33.0               | NA                  | NA                  | E320                | 0                   | \n",
       "\n",
       "\n"
      ],
      "text/plain": [
       "   공정      시작                끝                  Process             설비\n",
       "1  조립_작업 2016-12-07 01:12:00 2017-03-22 03:08:42 2017-03-22 03:08:42 NA  \n",
       "2  조립_작업 2016-12-13 01:12:00 2017-04-17 01:13:47 2017-04-17 01:13:47 NA  \n",
       "3  조립_작업 2016-12-19 01:12:00 2017-03-16 00:46:19 2017-03-16 00:46:19 NA  \n",
       "4  조립_작업 2016-12-20 01:12:00 2017-03-17 00:48:46 2017-03-17 00:48:46 NA  \n",
       "5  조립_작업 2016-12-20 01:12:00 2017-04-26 03:07:26 2017-04-24 09:38:20 NA  \n",
       "6  조립_작업 2016-12-27 01:12:00 2017-04-26 03:07:26 2017-04-24 08:08:33 NA  \n",
       "7  조립_작업 2016-12-30 01:12:00 2017-03-29 02:34:29 2017-03-29 02:34:29 NA  \n",
       "8  조립_작업 2017-01-05 01:12:00 2017-03-21 10:16:16 2017-03-21 10:16:16 NA  \n",
       "9  조립_작업 2017-01-05 01:12:00 2017-03-22 01:34:31 2017-03-22 01:34:31 NA  \n",
       "10 조립_작업 2017-01-05 01:12:00 2017-03-22 04:58:59 2017-03-22 04:58:59 NA  \n",
       "11 조립_작업 2017-01-09 01:12:00 2017-03-31 09:38:08 2017-03-31 09:38:08 NA  \n",
       "12 조립_작업 2017-01-12 01:12:00 2017-05-18 04:30:24 2017-05-18 04:30:24 NA  \n",
       "13 조립_작업 2017-01-13 01:12:00 2017-04-27 02:12:00 2017-04-25 09:52:11 NA  \n",
       "14 조립_작업 2017-01-16 01:12:00 2017-04-03 11:55:04 2017-04-03 11:55:04 NA  \n",
       "15 조립_작업 2017-01-16 01:12:00 2017-03-30 05:41:34 2017-03-30 05:41:34 NA  \n",
       "16 조립_작업 2017-01-18 01:12:00 2017-03-21 10:51:09 2017-03-21 10:51:09 NA  \n",
       "17 조립_작업 2017-01-18 01:12:00 2017-03-20 00:30:42 2017-03-20 00:30:42 NA  \n",
       "18 조립_작업 2017-01-20 01:12:00 2017-03-24 07:46:30 2017-03-24 07:46:30 NA  \n",
       "19 조립_작업 2017-01-23 01:12:00 2017-03-27 06:27:46 2017-03-27 06:27:46 NA  \n",
       "20 조립_작업 2017-01-25 01:12:00 2017-05-04 01:12:00 2017-05-02 08:27:50 NA  \n",
       "   제품       중량  Navigate 도로 공장 거리\n",
       "1  1040_988_0  82.1 NA       NA   PO30 0   \n",
       "2  1047_998_0  96.3 NA       NA   DM30 0   \n",
       "3  1002_131_3 283.0 NA       NA   3D3B 0   \n",
       "4  1002_121_2 268.4 NA       NA   3D3B 0   \n",
       "5  1018_988_0  36.0 NA       NA   E310 0   \n",
       "6  1018_998_0  36.0 NA       NA   DMH0 0   \n",
       "7  1002_105_7 270.3 NA       NA   GB1S 0   \n",
       "8  1002_112_1 240.8 NA       NA   NP2B 0   \n",
       "9  1002_133_2 227.3 NA       NA   NP3B 0   \n",
       "10 1002_123_1 243.8 NA       NA   NP3S 0   \n",
       "11 1002_172_1 273.0 NA       NA   GB3B 0   \n",
       "12 1052_998_0  75.0 NA       NA   DMH0 0   \n",
       "13 1040_998_0  82.1 NA       NA   OF30 0   \n",
       "14 1002_162_1 281.2 NA       NA   GB3B 0   \n",
       "15 1002_111_4 253.0 NA       NA   NP2B 0   \n",
       "16 1002_142_2 177.2 NA       NA   NP2B 0   \n",
       "17 1002_152_2 169.7 NA       NA   NP2S 0   \n",
       "18 1002_173_6 133.1 NA       NA   NP2B 0   \n",
       "19 1002_163_5 133.3 NA       NA   NP3B 0   \n",
       "20 1011_988_0  33.0 NA       NA   E320 0   "
      ]
     },
     "metadata": {},
     "output_type": "display_data"
    }
   ],
   "source": [
    "nipa_op <- nipa[complete.cases(nipa[, c(\"Process\")]), ]\n",
    "head(nipa_op, 20)"
   ]
  },
  {
   "cell_type": "code",
   "execution_count": 104,
   "metadata": {},
   "outputs": [
    {
     "data": {
      "text/html": [
       "<table>\n",
       "<thead><tr><th scope=col>공정</th><th scope=col>시작</th><th scope=col>끝</th><th scope=col>Process</th><th scope=col>제품</th><th scope=col>중량</th><th scope=col>Navigate</th><th scope=col>도로</th><th scope=col>공장</th><th scope=col>거리</th></tr></thead>\n",
       "<tbody>\n",
       "\t<tr><td>조립_작업          </td><td>2016-12-07 01:12:00</td><td>2017-03-22 03:08:42</td><td>2017-03-22 03:08:42</td><td>1040_988_0         </td><td> 82.1              </td><td>NA                 </td><td>NA                 </td><td>PO30               </td><td>0                  </td></tr>\n",
       "\t<tr><td>조립_작업          </td><td>2016-12-13 01:12:00</td><td>2017-04-17 01:13:47</td><td>2017-04-17 01:13:47</td><td>1047_998_0         </td><td> 96.3              </td><td>NA                 </td><td>NA                 </td><td>DM30               </td><td>0                  </td></tr>\n",
       "\t<tr><td>조립_작업          </td><td>2016-12-19 01:12:00</td><td>2017-03-16 00:46:19</td><td>2017-03-16 00:46:19</td><td>1002_131_3         </td><td>283.0              </td><td>NA                 </td><td>NA                 </td><td>3D3B               </td><td>0                  </td></tr>\n",
       "\t<tr><td>조립_작업          </td><td>2016-12-20 01:12:00</td><td>2017-03-17 00:48:46</td><td>2017-03-17 00:48:46</td><td>1002_121_2         </td><td>268.4              </td><td>NA                 </td><td>NA                 </td><td>3D3B               </td><td>0                  </td></tr>\n",
       "\t<tr><td>조립_작업          </td><td>2016-12-20 01:12:00</td><td>2017-04-26 03:07:26</td><td>2017-04-24 09:38:20</td><td>1018_988_0         </td><td> 36.0              </td><td>NA                 </td><td>NA                 </td><td>E310               </td><td>0                  </td></tr>\n",
       "\t<tr><td>조립_작업          </td><td>2016-12-27 01:12:00</td><td>2017-04-26 03:07:26</td><td>2017-04-24 08:08:33</td><td>1018_998_0         </td><td> 36.0              </td><td>NA                 </td><td>NA                 </td><td>DMH0               </td><td>0                  </td></tr>\n",
       "</tbody>\n",
       "</table>\n"
      ],
      "text/latex": [
       "\\begin{tabular}{r|llllllllll}\n",
       " 공정 & 시작 & 끝 & Process & 제품 & 중량 & Navigate & 도로 & 공장 & 거리\\\\\n",
       "\\hline\n",
       "\t 조립\\_작업         & 2016-12-07 01:12:00 & 2017-03-22 03:08:42 & 2017-03-22 03:08:42 & 1040\\_988\\_0      &  82.1               & NA                  & NA                  & PO30                & 0                  \\\\\n",
       "\t 조립\\_작업         & 2016-12-13 01:12:00 & 2017-04-17 01:13:47 & 2017-04-17 01:13:47 & 1047\\_998\\_0      &  96.3               & NA                  & NA                  & DM30                & 0                  \\\\\n",
       "\t 조립\\_작업         & 2016-12-19 01:12:00 & 2017-03-16 00:46:19 & 2017-03-16 00:46:19 & 1002\\_131\\_3      & 283.0               & NA                  & NA                  & 3D3B                & 0                  \\\\\n",
       "\t 조립\\_작업         & 2016-12-20 01:12:00 & 2017-03-17 00:48:46 & 2017-03-17 00:48:46 & 1002\\_121\\_2      & 268.4               & NA                  & NA                  & 3D3B                & 0                  \\\\\n",
       "\t 조립\\_작업         & 2016-12-20 01:12:00 & 2017-04-26 03:07:26 & 2017-04-24 09:38:20 & 1018\\_988\\_0      &  36.0               & NA                  & NA                  & E310                & 0                  \\\\\n",
       "\t 조립\\_작업         & 2016-12-27 01:12:00 & 2017-04-26 03:07:26 & 2017-04-24 08:08:33 & 1018\\_998\\_0      &  36.0               & NA                  & NA                  & DMH0                & 0                  \\\\\n",
       "\\end{tabular}\n"
      ],
      "text/markdown": [
       "\n",
       "공정 | 시작 | 끝 | Process | 제품 | 중량 | Navigate | 도로 | 공장 | 거리 | \n",
       "|---|---|---|---|---|---|\n",
       "| 조립_작업           | 2016-12-07 01:12:00 | 2017-03-22 03:08:42 | 2017-03-22 03:08:42 | 1040_988_0          |  82.1               | NA                  | NA                  | PO30                | 0                   | \n",
       "| 조립_작업           | 2016-12-13 01:12:00 | 2017-04-17 01:13:47 | 2017-04-17 01:13:47 | 1047_998_0          |  96.3               | NA                  | NA                  | DM30                | 0                   | \n",
       "| 조립_작업           | 2016-12-19 01:12:00 | 2017-03-16 00:46:19 | 2017-03-16 00:46:19 | 1002_131_3          | 283.0               | NA                  | NA                  | 3D3B                | 0                   | \n",
       "| 조립_작업           | 2016-12-20 01:12:00 | 2017-03-17 00:48:46 | 2017-03-17 00:48:46 | 1002_121_2          | 268.4               | NA                  | NA                  | 3D3B                | 0                   | \n",
       "| 조립_작업           | 2016-12-20 01:12:00 | 2017-04-26 03:07:26 | 2017-04-24 09:38:20 | 1018_988_0          |  36.0               | NA                  | NA                  | E310                | 0                   | \n",
       "| 조립_작업           | 2016-12-27 01:12:00 | 2017-04-26 03:07:26 | 2017-04-24 08:08:33 | 1018_998_0          |  36.0               | NA                  | NA                  | DMH0                | 0                   | \n",
       "\n",
       "\n"
      ],
      "text/plain": [
       "  공정      시작                끝                  Process            \n",
       "1 조립_작업 2016-12-07 01:12:00 2017-03-22 03:08:42 2017-03-22 03:08:42\n",
       "2 조립_작업 2016-12-13 01:12:00 2017-04-17 01:13:47 2017-04-17 01:13:47\n",
       "3 조립_작업 2016-12-19 01:12:00 2017-03-16 00:46:19 2017-03-16 00:46:19\n",
       "4 조립_작업 2016-12-20 01:12:00 2017-03-17 00:48:46 2017-03-17 00:48:46\n",
       "5 조립_작업 2016-12-20 01:12:00 2017-04-26 03:07:26 2017-04-24 09:38:20\n",
       "6 조립_작업 2016-12-27 01:12:00 2017-04-26 03:07:26 2017-04-24 08:08:33\n",
       "  제품       중량  Navigate 도로 공장 거리\n",
       "1 1040_988_0  82.1 NA       NA   PO30 0   \n",
       "2 1047_998_0  96.3 NA       NA   DM30 0   \n",
       "3 1002_131_3 283.0 NA       NA   3D3B 0   \n",
       "4 1002_121_2 268.4 NA       NA   3D3B 0   \n",
       "5 1018_988_0  36.0 NA       NA   E310 0   \n",
       "6 1018_998_0  36.0 NA       NA   DMH0 0   "
      ]
     },
     "metadata": {},
     "output_type": "display_data"
    }
   ],
   "source": [
    "nipa_op <- subset(nipa_op, select = c(-설비))\n",
    "head(nipa_op)"
   ]
  },
  {
   "cell_type": "code",
   "execution_count": null,
   "metadata": {},
   "outputs": [],
   "source": [
    "write.csv(nipa_op, file = \"180822_Simulation_Results_OP_Ver.csv\", row.names = FALSE)"
   ]
  },
  {
   "cell_type": "markdown",
   "metadata": {},
   "source": [
    "### 2) 이동만 따로 뽑기 '설비'가 NA인 값 제외"
   ]
  },
  {
   "cell_type": "code",
   "execution_count": 105,
   "metadata": {},
   "outputs": [
    {
     "data": {
      "text/html": [
       "<table>\n",
       "<thead><tr><th scope=col>공정</th><th scope=col>시작</th><th scope=col>끝</th><th scope=col>설비</th><th scope=col>제품</th><th scope=col>중량</th><th scope=col>Navigate</th><th scope=col>도로</th><th scope=col>공장</th><th scope=col>거리</th></tr></thead>\n",
       "<tbody>\n",
       "\t<tr><td>조립_이동          </td><td>2016-12-07 01:12:00</td><td>2016-12-07 01:12:00</td><td>#101               </td><td>1040_988_0         </td><td> 82.1              </td><td>NA                 </td><td>NA                 </td><td>PO30               </td><td>0                  </td></tr>\n",
       "\t<tr><td>조립_이동          </td><td>2016-12-13 01:12:00</td><td>2016-12-13 01:12:00</td><td>#101               </td><td>1047_998_0         </td><td> 96.3              </td><td>NA                 </td><td>NA                 </td><td>DM30               </td><td>0                  </td></tr>\n",
       "\t<tr><td>조립_이동          </td><td>2016-12-19 01:12:00</td><td>2016-12-19 01:12:00</td><td>#354               </td><td>1002_131_3         </td><td>283.0              </td><td>NA                 </td><td>NA                 </td><td>3D3B               </td><td>0                  </td></tr>\n",
       "\t<tr><td>조립_이동          </td><td>2016-12-20 01:12:00</td><td>2016-12-20 01:12:00</td><td>#354               </td><td>1002_121_2         </td><td>268.4              </td><td>NA                 </td><td>NA                 </td><td>3D3B               </td><td>0                  </td></tr>\n",
       "\t<tr><td>조립_이동          </td><td>2016-12-20 01:12:00</td><td>2016-12-20 01:12:00</td><td>#101               </td><td>1018_988_0         </td><td> 36.0              </td><td>NA                 </td><td>NA                 </td><td>E310               </td><td>0                  </td></tr>\n",
       "\t<tr><td>조립_이동          </td><td>2016-12-27 01:12:00</td><td>2016-12-27 01:12:00</td><td>#101               </td><td>1018_998_0         </td><td> 36.0              </td><td>NA                 </td><td>NA                 </td><td>DMH0               </td><td>0                  </td></tr>\n",
       "</tbody>\n",
       "</table>\n"
      ],
      "text/latex": [
       "\\begin{tabular}{r|llllllllll}\n",
       " 공정 & 시작 & 끝 & 설비 & 제품 & 중량 & Navigate & 도로 & 공장 & 거리\\\\\n",
       "\\hline\n",
       "\t 조립\\_이동         & 2016-12-07 01:12:00 & 2016-12-07 01:12:00 & \\#101              & 1040\\_988\\_0      &  82.1               & NA                  & NA                  & PO30                & 0                  \\\\\n",
       "\t 조립\\_이동         & 2016-12-13 01:12:00 & 2016-12-13 01:12:00 & \\#101              & 1047\\_998\\_0      &  96.3               & NA                  & NA                  & DM30                & 0                  \\\\\n",
       "\t 조립\\_이동         & 2016-12-19 01:12:00 & 2016-12-19 01:12:00 & \\#354              & 1002\\_131\\_3      & 283.0               & NA                  & NA                  & 3D3B                & 0                  \\\\\n",
       "\t 조립\\_이동         & 2016-12-20 01:12:00 & 2016-12-20 01:12:00 & \\#354              & 1002\\_121\\_2      & 268.4               & NA                  & NA                  & 3D3B                & 0                  \\\\\n",
       "\t 조립\\_이동         & 2016-12-20 01:12:00 & 2016-12-20 01:12:00 & \\#101              & 1018\\_988\\_0      &  36.0               & NA                  & NA                  & E310                & 0                  \\\\\n",
       "\t 조립\\_이동         & 2016-12-27 01:12:00 & 2016-12-27 01:12:00 & \\#101              & 1018\\_998\\_0      &  36.0               & NA                  & NA                  & DMH0                & 0                  \\\\\n",
       "\\end{tabular}\n"
      ],
      "text/markdown": [
       "\n",
       "공정 | 시작 | 끝 | 설비 | 제품 | 중량 | Navigate | 도로 | 공장 | 거리 | \n",
       "|---|---|---|---|---|---|\n",
       "| 조립_이동           | 2016-12-07 01:12:00 | 2016-12-07 01:12:00 | #101                | 1040_988_0          |  82.1               | NA                  | NA                  | PO30                | 0                   | \n",
       "| 조립_이동           | 2016-12-13 01:12:00 | 2016-12-13 01:12:00 | #101                | 1047_998_0          |  96.3               | NA                  | NA                  | DM30                | 0                   | \n",
       "| 조립_이동           | 2016-12-19 01:12:00 | 2016-12-19 01:12:00 | #354                | 1002_131_3          | 283.0               | NA                  | NA                  | 3D3B                | 0                   | \n",
       "| 조립_이동           | 2016-12-20 01:12:00 | 2016-12-20 01:12:00 | #354                | 1002_121_2          | 268.4               | NA                  | NA                  | 3D3B                | 0                   | \n",
       "| 조립_이동           | 2016-12-20 01:12:00 | 2016-12-20 01:12:00 | #101                | 1018_988_0          |  36.0               | NA                  | NA                  | E310                | 0                   | \n",
       "| 조립_이동           | 2016-12-27 01:12:00 | 2016-12-27 01:12:00 | #101                | 1018_998_0          |  36.0               | NA                  | NA                  | DMH0                | 0                   | \n",
       "\n",
       "\n"
      ],
      "text/plain": [
       "  공정      시작                끝                  설비 제품       중량 \n",
       "1 조립_이동 2016-12-07 01:12:00 2016-12-07 01:12:00 #101 1040_988_0  82.1\n",
       "2 조립_이동 2016-12-13 01:12:00 2016-12-13 01:12:00 #101 1047_998_0  96.3\n",
       "3 조립_이동 2016-12-19 01:12:00 2016-12-19 01:12:00 #354 1002_131_3 283.0\n",
       "4 조립_이동 2016-12-20 01:12:00 2016-12-20 01:12:00 #354 1002_121_2 268.4\n",
       "5 조립_이동 2016-12-20 01:12:00 2016-12-20 01:12:00 #101 1018_988_0  36.0\n",
       "6 조립_이동 2016-12-27 01:12:00 2016-12-27 01:12:00 #101 1018_998_0  36.0\n",
       "  Navigate 도로 공장 거리\n",
       "1 NA       NA   PO30 0   \n",
       "2 NA       NA   DM30 0   \n",
       "3 NA       NA   3D3B 0   \n",
       "4 NA       NA   3D3B 0   \n",
       "5 NA       NA   E310 0   \n",
       "6 NA       NA   DMH0 0   "
      ]
     },
     "metadata": {},
     "output_type": "display_data"
    },
    {
     "data": {
      "text/html": [
       "<table>\n",
       "<thead><tr><th scope=col>공정</th><th scope=col>시작</th><th scope=col>끝</th><th scope=col>설비</th><th scope=col>제품</th><th scope=col>중량</th><th scope=col>Navigate</th><th scope=col>도로</th><th scope=col>공장</th><th scope=col>거리</th></tr></thead>\n",
       "<tbody>\n",
       "\t<tr><td>도장_이동                                       </td><td>2017-10-19 00:11:09                             </td><td>2017-10-19 00:43:24                             </td><td>#503                                            </td><td>1045_988_0                                      </td><td>82.1                                            </td><td>2017-10-19 00:43:24                             </td><td>Road_3 Road_27 Road_37                          </td><td>2BP3                                            </td><td> 688.5895                                       </td></tr>\n",
       "\t<tr><td>도장_이동                                       </td><td>2017-10-19 00:36:20                             </td><td>2017-10-19 01:10:35                             </td><td>#352                                            </td><td>1045_998_0                                      </td><td>82.1                                            </td><td>2017-10-19 01:10:35                             </td><td>Road_3 Road_27 Road_37                          </td><td>2BP4                                            </td><td> 754.9666                                       </td></tr>\n",
       "\t<tr><td>발판해체_이동                                   </td><td>2017-10-27 00:15:35                             </td><td>2017-10-30 01:25:53                             </td><td>#101                                            </td><td>1045_988_0                                      </td><td>82.1                                            </td><td>2017-10-27 01:41:28                             </td><td>Road_37 Road_27 Road_3 Road_50 Road_147 Road_151</td><td>A7E1                                            </td><td>1091.8654                                       </td></tr>\n",
       "\t<tr><td>발판해체_이동                                   </td><td>2017-10-27 02:25:42                             </td><td>2017-10-30 00:07:18                             </td><td>#553                                            </td><td>1045_998_0                                      </td><td>82.1                                            </td><td>2017-10-27 02:33:00                             </td><td>Road_37 Road_27                                 </td><td>OC1N                                            </td><td> 230.5024                                       </td></tr>\n",
       "\t<tr><td>발판해체_이동                                   </td><td>2017-10-30 01:25:53                             </td><td>2017-10-30 02:41:58                             </td><td>#1032                                           </td><td>1045_988_0                                      </td><td>82.1                                            </td><td>2017-10-30 02:41:58                             </td><td>Road_151 Road_147 Road_50 Road_3 Road_27        </td><td>OC1N                                            </td><td> 994.9071                                       </td></tr>\n",
       "\t<tr><td>발판해체_이동                                   </td><td>2017-10-30 00:07:18                             </td><td>2017-10-30 00:07:18                             </td><td>#1041                                           </td><td>1045_998_0                                      </td><td>82.1                                            </td><td>NA                                              </td><td>NA                                              </td><td>OC1N                                            </td><td>   0.0000                                       </td></tr>\n",
       "</tbody>\n",
       "</table>\n"
      ],
      "text/latex": [
       "\\begin{tabular}{r|llllllllll}\n",
       " 공정 & 시작 & 끝 & 설비 & 제품 & 중량 & Navigate & 도로 & 공장 & 거리\\\\\n",
       "\\hline\n",
       "\t 도장\\_이동                                            & 2017-10-19 00:11:09                                    & 2017-10-19 00:43:24                                    & \\#503                                                 & 1045\\_988\\_0                                         & 82.1                                                   & 2017-10-19 00:43:24                                    & Road\\_3 Road\\_27 Road\\_37                           & 2BP3                                                   &  688.5895                                             \\\\\n",
       "\t 도장\\_이동                                            & 2017-10-19 00:36:20                                    & 2017-10-19 01:10:35                                    & \\#352                                                 & 1045\\_998\\_0                                         & 82.1                                                   & 2017-10-19 01:10:35                                    & Road\\_3 Road\\_27 Road\\_37                           & 2BP4                                                   &  754.9666                                             \\\\\n",
       "\t 발판해체\\_이동                                              & 2017-10-27 00:15:35                                          & 2017-10-30 01:25:53                                          & \\#101                                                       & 1045\\_988\\_0                                               & 82.1                                                         & 2017-10-27 01:41:28                                          & Road\\_37 Road\\_27 Road\\_3 Road\\_50 Road\\_147 Road\\_151 & A7E1                                                         & 1091.8654                                                   \\\\\n",
       "\t 발판해체\\_이동                                      & 2017-10-27 02:25:42                                  & 2017-10-30 00:07:18                                  & \\#553                                               & 1045\\_998\\_0                                       & 82.1                                                 & 2017-10-27 02:33:00                                  & Road\\_37 Road\\_27                                  & OC1N                                                 &  230.5024                                           \\\\\n",
       "\t 발판해체\\_이동                                            & 2017-10-30 01:25:53                                        & 2017-10-30 02:41:58                                        & \\#1032                                                    & 1045\\_988\\_0                                             & 82.1                                                       & 2017-10-30 02:41:58                                        & Road\\_151 Road\\_147 Road\\_50 Road\\_3 Road\\_27         & OC1N                                                       &  994.9071                                                 \\\\\n",
       "\t 발판해체\\_이동                                  & 2017-10-30 00:07:18                              & 2017-10-30 00:07:18                              & \\#1041                                          & 1045\\_998\\_0                                   & 82.1                                             & NA                                               & NA                                               & OC1N                                             &    0.0000                                       \\\\\n",
       "\\end{tabular}\n"
      ],
      "text/markdown": [
       "\n",
       "공정 | 시작 | 끝 | 설비 | 제품 | 중량 | Navigate | 도로 | 공장 | 거리 | \n",
       "|---|---|---|---|---|---|\n",
       "| 도장_이동                                        | 2017-10-19 00:11:09                              | 2017-10-19 00:43:24                              | #503                                             | 1045_988_0                                       | 82.1                                             | 2017-10-19 00:43:24                              | Road_3 Road_27 Road_37                           | 2BP3                                             |  688.5895                                        | \n",
       "| 도장_이동                                        | 2017-10-19 00:36:20                              | 2017-10-19 01:10:35                              | #352                                             | 1045_998_0                                       | 82.1                                             | 2017-10-19 01:10:35                              | Road_3 Road_27 Road_37                           | 2BP4                                             |  754.9666                                        | \n",
       "| 발판해체_이동                                    | 2017-10-27 00:15:35                              | 2017-10-30 01:25:53                              | #101                                             | 1045_988_0                                       | 82.1                                             | 2017-10-27 01:41:28                              | Road_37 Road_27 Road_3 Road_50 Road_147 Road_151 | A7E1                                             | 1091.8654                                        | \n",
       "| 발판해체_이동                                    | 2017-10-27 02:25:42                              | 2017-10-30 00:07:18                              | #553                                             | 1045_998_0                                       | 82.1                                             | 2017-10-27 02:33:00                              | Road_37 Road_27                                  | OC1N                                             |  230.5024                                        | \n",
       "| 발판해체_이동                                    | 2017-10-30 01:25:53                              | 2017-10-30 02:41:58                              | #1032                                            | 1045_988_0                                       | 82.1                                             | 2017-10-30 02:41:58                              | Road_151 Road_147 Road_50 Road_3 Road_27         | OC1N                                             |  994.9071                                        | \n",
       "| 발판해체_이동                                    | 2017-10-30 00:07:18                              | 2017-10-30 00:07:18                              | #1041                                            | 1045_998_0                                       | 82.1                                             | NA                                               | NA                                               | OC1N                                             |    0.0000                                        | \n",
       "\n",
       "\n"
      ],
      "text/plain": [
       "  공정          시작                끝                  설비  제품       중량\n",
       "1 도장_이동     2017-10-19 00:11:09 2017-10-19 00:43:24 #503  1045_988_0 82.1\n",
       "2 도장_이동     2017-10-19 00:36:20 2017-10-19 01:10:35 #352  1045_998_0 82.1\n",
       "3 발판해체_이동 2017-10-27 00:15:35 2017-10-30 01:25:53 #101  1045_988_0 82.1\n",
       "4 발판해체_이동 2017-10-27 02:25:42 2017-10-30 00:07:18 #553  1045_998_0 82.1\n",
       "5 발판해체_이동 2017-10-30 01:25:53 2017-10-30 02:41:58 #1032 1045_988_0 82.1\n",
       "6 발판해체_이동 2017-10-30 00:07:18 2017-10-30 00:07:18 #1041 1045_998_0 82.1\n",
       "  Navigate            도로                                             공장\n",
       "1 2017-10-19 00:43:24 Road_3 Road_27 Road_37                           2BP3\n",
       "2 2017-10-19 01:10:35 Road_3 Road_27 Road_37                           2BP4\n",
       "3 2017-10-27 01:41:28 Road_37 Road_27 Road_3 Road_50 Road_147 Road_151 A7E1\n",
       "4 2017-10-27 02:33:00 Road_37 Road_27                                  OC1N\n",
       "5 2017-10-30 02:41:58 Road_151 Road_147 Road_50 Road_3 Road_27         OC1N\n",
       "6 NA                  NA                                               OC1N\n",
       "  거리     \n",
       "1  688.5895\n",
       "2  754.9666\n",
       "3 1091.8654\n",
       "4  230.5024\n",
       "5  994.9071\n",
       "6    0.0000"
      ]
     },
     "metadata": {},
     "output_type": "display_data"
    }
   ],
   "source": [
    "nipa_move <- nipa[complete.cases(nipa[, c(\"설비\")]), ]\n",
    "nipa_move <- subset(nipa_move, select = c(-Process))\n",
    "head(nipa_move)\n",
    "tail(nipa_move)"
   ]
  },
  {
   "cell_type": "code",
   "execution_count": null,
   "metadata": {},
   "outputs": [],
   "source": [
    "write.csv(nipa_move file = \"180822_Simulation_Results_Move_Ver.csv\", row.names = FALSE)"
   ]
  },
  {
   "cell_type": "markdown",
   "metadata": {},
   "source": [
    "## 8. Process, Navigate 가설\n",
    "### 1) Process가 작업의 실제 종료 시간이다\n",
    "### 2) Navigate가 이동의 실제 이동 종료 시간이다"
   ]
  },
  {
   "cell_type": "code",
   "execution_count": 109,
   "metadata": {},
   "outputs": [],
   "source": [
    "nipa_theory <- nipa_int"
   ]
  },
  {
   "cell_type": "code",
   "execution_count": 110,
   "metadata": {},
   "outputs": [
    {
     "data": {
      "text/plain": [
       "\n",
       "FALSE  TRUE \n",
       " 2802   797 "
      ]
     },
     "metadata": {},
     "output_type": "display_data"
    }
   ],
   "source": [
    "nipa_theory$Theory <- ifelse(is.na(nipa_theory$Process) == TRUE, nipa_theory$Navigate, nipa_theory$Process)\n",
    "table(is.na(nipa_theory$Theory) == TRUE)"
   ]
  },
  {
   "cell_type": "code",
   "execution_count": 111,
   "metadata": {},
   "outputs": [
    {
     "data": {
      "text/plain": [
       "\n",
       "FALSE \n",
       " 3599 "
      ]
     },
     "metadata": {},
     "output_type": "display_data"
    }
   ],
   "source": [
    "nipa_theory$Theory <- ifelse(is.na(nipa_theory$Theory) == TRUE, nipa_theory$끝, nipa_theory$Theory)\n",
    "table(is.na(nipa_theory$Theory) == TRUE)"
   ]
  },
  {
   "cell_type": "code",
   "execution_count": 101,
   "metadata": {},
   "outputs": [],
   "source": [
    "write.csv(nipa_theory, file = \"180822_Simulation_Results_Theory_Ver.csv\", row.names = FALSE)"
   ]
  },
  {
   "cell_type": "markdown",
   "metadata": {},
   "source": [
    "# 끝"
   ]
  }
 ],
 "metadata": {
  "kernelspec": {
   "display_name": "R",
   "language": "R",
   "name": "ir"
  },
  "language_info": {
   "codemirror_mode": "r",
   "file_extension": ".r",
   "mimetype": "text/x-r-source",
   "name": "R",
   "pygments_lexer": "r",
   "version": "3.4.3"
  }
 },
 "nbformat": 4,
 "nbformat_minor": 2
}
