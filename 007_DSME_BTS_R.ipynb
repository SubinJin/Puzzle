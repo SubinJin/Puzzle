{
 "cells": [
  {
   "cell_type": "markdown",
   "metadata": {},
   "source": [
    "# 007_DSME_BTS_R\n",
    "## DSME BTS_운반처리 데이터\n",
    "\n",
    "## 데이터 처리 과정\n",
    "### 1. 시간 연산을 위한 형변환\n",
    "### 2. 원래 하려던 ifelse가 POSIXlt 형식에서 안먹히는 것 같음\n",
    "### 3. st, et에 따라 row split & 시간 연산\n",
    "### 4. split해서 처리 후 rbind & 시간 값 table 확인\n",
    "### 5. 시간 값 작업\n",
    "### 6. JOIN\n",
    "### 7. 특정 Column명 바꾸기"
   ]
  },
  {
   "cell_type": "code",
   "execution_count": 1,
   "metadata": {},
   "outputs": [
    {
     "name": "stderr",
     "output_type": "stream",
     "text": [
      "-- Attaching packages --------------------------------------- tidyverse 1.2.1 --\n",
      "√ ggplot2 2.2.1     √ purrr   0.2.4\n",
      "√ tibble  1.4.1     √ dplyr   0.7.4\n",
      "√ tidyr   0.7.2     √ stringr 1.2.0\n",
      "√ readr   1.1.1     √ forcats 0.2.0\n",
      "-- Conflicts ------------------------------------------ tidyverse_conflicts() --\n",
      "x dplyr::filter() masks stats::filter()\n",
      "x dplyr::lag()    masks stats::lag()\n"
     ]
    }
   ],
   "source": [
    "library(tidyverse)"
   ]
  },
  {
   "cell_type": "code",
   "execution_count": 2,
   "metadata": {},
   "outputs": [
    {
     "data": {
      "text/html": [
       "<table>\n",
       "<thead><tr><th scope=col>MOVE_ACTL_ID</th><th scope=col>PCS_LEFT</th><th scope=col>PCS_TOP</th><th scope=col>ROT_ANGL</th><th scope=col>ACTL_RGSR_EQP_CODE</th><th scope=col>ACTL_INDC</th><th scope=col>RMRK</th><th scope=col>MOVE_OBJT_ID</th><th scope=col>MOVE_REQ_ID</th><th scope=col>RGSR_USER_ID</th><th scope=col>...</th><th scope=col>ARUD_ADDR_NO</th><th scope=col>ALRM_INDC</th><th scope=col>BLK_FLAG</th><th scope=col>CMPL_INDC</th><th scope=col>MNT_AREA_NO</th><th scope=col>MNT_BLK_FLAG</th><th scope=col>JIG_CODE</th><th scope=col>JIG_QTY</th><th scope=col>MNT_PCS_LEFT</th><th scope=col>MNT_PCS_TOP</th></tr></thead>\n",
       "<tbody>\n",
       "\t<tr><td>20180111_333 </td><td>173017.6     </td><td>252124.5     </td><td>NA           </td><td>TP           </td><td>             </td><td>             </td><td>5441_123     </td><td>20180111_333 </td><td>             </td><td>...          </td><td>NA           </td><td>NA           </td><td>             </td><td>NA           </td><td>GB1S03       </td><td>NA           </td><td>             </td><td>NA           </td><td>0            </td><td>0            </td></tr>\n",
       "\t<tr><td>20180112_287 </td><td>172548.0     </td><td>252400.4     </td><td> 0           </td><td>TP           </td><td>             </td><td>도경(반출)   </td><td>2488_865     </td><td>20180112_287 </td><td>Migration    </td><td>...          </td><td>NA           </td><td>NA           </td><td>             </td><td>NA           </td><td>NP3S         </td><td>NA           </td><td>             </td><td> 0           </td><td>0            </td><td>0            </td></tr>\n",
       "\t<tr><td>20180111_384 </td><td>172933.5     </td><td>252196.8     </td><td>NA           </td><td>TP           </td><td>             </td><td>             </td><td>2431_223     </td><td>20180111_384 </td><td>             </td><td>...          </td><td>NA           </td><td>NA           </td><td>             </td><td>NA           </td><td>GB2W04       </td><td>NA           </td><td>             </td><td>NA           </td><td>0            </td><td>0            </td></tr>\n",
       "\t<tr><td>20180111_403 </td><td>172972.3     </td><td>252278.5     </td><td>NA           </td><td>TP           </td><td>             </td><td>             </td><td>2430_823     </td><td>20180111_403 </td><td>             </td><td>...          </td><td>NA           </td><td>NA           </td><td>             </td><td>NA           </td><td>GB2W03       </td><td>NA           </td><td>             </td><td>NA           </td><td>0            </td><td>0            </td></tr>\n",
       "\t<tr><td>20180111_0197</td><td>172423.6     </td><td>252651.4     </td><td>NA           </td><td>TP           </td><td>             </td><td>             </td><td>2430_193     </td><td>20180111_0197</td><td>             </td><td>...          </td><td>NA           </td><td>NA           </td><td>             </td><td>NA           </td><td>3D1W03       </td><td>NA           </td><td>             </td><td>NA           </td><td>0            </td><td>0            </td></tr>\n",
       "\t<tr><td>20180105_0093</td><td>172232.7     </td><td>253279.7     </td><td> 0           </td><td>TP           </td><td>             </td><td>             </td><td>2443_221     </td><td>20180105_0093</td><td>Migration    </td><td>...          </td><td>NA           </td><td>NA           </td><td>             </td><td>NA           </td><td>1DW4         </td><td>NA           </td><td>             </td><td> 0           </td><td>0            </td><td>0            </td></tr>\n",
       "</tbody>\n",
       "</table>\n"
      ],
      "text/latex": [
       "\\begin{tabular}{r|llllllllllllllllllllllllllllllllllllllllllllll}\n",
       " MOVE\\_ACTL\\_ID & PCS\\_LEFT & PCS\\_TOP & ROT\\_ANGL & ACTL\\_RGSR\\_EQP\\_CODE & ACTL\\_INDC & RMRK & MOVE\\_OBJT\\_ID & MOVE\\_REQ\\_ID & RGSR\\_USER\\_ID & ... & ARUD\\_ADDR\\_NO & ALRM\\_INDC & BLK\\_FLAG & CMPL\\_INDC & MNT\\_AREA\\_NO & MNT\\_BLK\\_FLAG & JIG\\_CODE & JIG\\_QTY & MNT\\_PCS\\_LEFT & MNT\\_PCS\\_TOP\\\\\n",
       "\\hline\n",
       "\t 20180111\\_333  & 173017.6        & 252124.5        & NA              & TP              &                 &                 & 5441\\_123      & 20180111\\_333  &                 & ...             & NA              & NA              &                 & NA              & GB1S03          & NA              &                 & NA              & 0               & 0              \\\\\n",
       "\t 20180112\\_287  & 172548.0        & 252400.4        &  0              & TP              &                 & 도경(반출)      & 2488\\_865      & 20180112\\_287  & Migration       & ...             & NA              & NA              &                 & NA              & NP3S            & NA              &                 &  0              & 0               & 0              \\\\\n",
       "\t 20180111\\_384  & 172933.5        & 252196.8        & NA              & TP              &                 &                 & 2431\\_223      & 20180111\\_384  &                 & ...             & NA              & NA              &                 & NA              & GB2W04          & NA              &                 & NA              & 0               & 0              \\\\\n",
       "\t 20180111\\_403  & 172972.3        & 252278.5        & NA              & TP              &                 &                 & 2430\\_823      & 20180111\\_403  &                 & ...             & NA              & NA              &                 & NA              & GB2W03          & NA              &                 & NA              & 0               & 0              \\\\\n",
       "\t 20180111\\_0197 & 172423.6        & 252651.4        & NA              & TP              &                 &                 & 2430\\_193      & 20180111\\_0197 &                 & ...             & NA              & NA              &                 & NA              & 3D1W03          & NA              &                 & NA              & 0               & 0              \\\\\n",
       "\t 20180105\\_0093 & 172232.7        & 253279.7        &  0              & TP              &                 &                 & 2443\\_221      & 20180105\\_0093 & Migration       & ...             & NA              & NA              &                 & NA              & 1DW4            & NA              &                 &  0              & 0               & 0              \\\\\n",
       "\\end{tabular}\n"
      ],
      "text/markdown": [
       "\n",
       "MOVE_ACTL_ID | PCS_LEFT | PCS_TOP | ROT_ANGL | ACTL_RGSR_EQP_CODE | ACTL_INDC | RMRK | MOVE_OBJT_ID | MOVE_REQ_ID | RGSR_USER_ID | ... | ARUD_ADDR_NO | ALRM_INDC | BLK_FLAG | CMPL_INDC | MNT_AREA_NO | MNT_BLK_FLAG | JIG_CODE | JIG_QTY | MNT_PCS_LEFT | MNT_PCS_TOP | \n",
       "|---|---|---|---|---|---|\n",
       "| 20180111_333  | 173017.6      | 252124.5      | NA            | TP            |               |               | 5441_123      | 20180111_333  |               | ...           | NA            | NA            |               | NA            | GB1S03        | NA            |               | NA            | 0             | 0             | \n",
       "| 20180112_287  | 172548.0      | 252400.4      |  0            | TP            |               | 도경(반출)    | 2488_865      | 20180112_287  | Migration     | ...           | NA            | NA            |               | NA            | NP3S          | NA            |               |  0            | 0             | 0             | \n",
       "| 20180111_384  | 172933.5      | 252196.8      | NA            | TP            |               |               | 2431_223      | 20180111_384  |               | ...           | NA            | NA            |               | NA            | GB2W04        | NA            |               | NA            | 0             | 0             | \n",
       "| 20180111_403  | 172972.3      | 252278.5      | NA            | TP            |               |               | 2430_823      | 20180111_403  |               | ...           | NA            | NA            |               | NA            | GB2W03        | NA            |               | NA            | 0             | 0             | \n",
       "| 20180111_0197 | 172423.6      | 252651.4      | NA            | TP            |               |               | 2430_193      | 20180111_0197 |               | ...           | NA            | NA            |               | NA            | 3D1W03        | NA            |               | NA            | 0             | 0             | \n",
       "| 20180105_0093 | 172232.7      | 253279.7      |  0            | TP            |               |               | 2443_221      | 20180105_0093 | Migration     | ...           | NA            | NA            |               | NA            | 1DW4          | NA            |               |  0            | 0             | 0             | \n",
       "\n",
       "\n"
      ],
      "text/plain": [
       "  MOVE_ACTL_ID  PCS_LEFT PCS_TOP  ROT_ANGL ACTL_RGSR_EQP_CODE ACTL_INDC\n",
       "1 20180111_333  173017.6 252124.5 NA       TP                          \n",
       "2 20180112_287  172548.0 252400.4  0       TP                          \n",
       "3 20180111_384  172933.5 252196.8 NA       TP                          \n",
       "4 20180111_403  172972.3 252278.5 NA       TP                          \n",
       "5 20180111_0197 172423.6 252651.4 NA       TP                          \n",
       "6 20180105_0093 172232.7 253279.7  0       TP                          \n",
       "  RMRK       MOVE_OBJT_ID MOVE_REQ_ID   RGSR_USER_ID ... ARUD_ADDR_NO ALRM_INDC\n",
       "1            5441_123     20180111_333               ... NA           NA       \n",
       "2 도경(반출) 2488_865     20180112_287  Migration    ... NA           NA       \n",
       "3            2431_223     20180111_384               ... NA           NA       \n",
       "4            2430_823     20180111_403               ... NA           NA       \n",
       "5            2430_193     20180111_0197              ... NA           NA       \n",
       "6            2443_221     20180105_0093 Migration    ... NA           NA       \n",
       "  BLK_FLAG CMPL_INDC MNT_AREA_NO MNT_BLK_FLAG JIG_CODE JIG_QTY MNT_PCS_LEFT\n",
       "1          NA        GB1S03      NA                    NA      0           \n",
       "2          NA        NP3S        NA                     0      0           \n",
       "3          NA        GB2W04      NA                    NA      0           \n",
       "4          NA        GB2W03      NA                    NA      0           \n",
       "5          NA        3D1W03      NA                    NA      0           \n",
       "6          NA        1DW4        NA                     0      0           \n",
       "  MNT_PCS_TOP\n",
       "1 0          \n",
       "2 0          \n",
       "3 0          \n",
       "4 0          \n",
       "5 0          \n",
       "6 0          "
      ]
     },
     "metadata": {},
     "output_type": "display_data"
    }
   ],
   "source": [
    "bts <- read.csv(\"C:\\\\IT\\\\project\\\\dsme\\\\BTS 운반실적_수정.csv\")\n",
    "head(bts)"
   ]
  },
  {
   "cell_type": "code",
   "execution_count": 3,
   "metadata": {},
   "outputs": [
    {
     "data": {
      "text/html": [
       "<table>\n",
       "<thead><tr><th scope=col>key</th><th scope=col>starttime</th><th scope=col>endtime</th><th scope=col>startdate</th><th scope=col>enddate</th></tr></thead>\n",
       "<tbody>\n",
       "\t<tr><td>20180111_333 </td><td>2038         </td><td>2043         </td><td>2018-01-11   </td><td>2018-01-11   </td></tr>\n",
       "\t<tr><td>20180112_287 </td><td>2304         </td><td>2310         </td><td>2018-01-12   </td><td>2018-01-12   </td></tr>\n",
       "\t<tr><td>20180111_384 </td><td>2125         </td><td>2128         </td><td>2018-01-11   </td><td>2018-01-11   </td></tr>\n",
       "\t<tr><td>20180111_403 </td><td>2114         </td><td>2124         </td><td>2018-01-11   </td><td>2018-01-11   </td></tr>\n",
       "\t<tr><td>20180111_0197</td><td>2039         </td><td>2041         </td><td>2018-01-11   </td><td>2018-01-11   </td></tr>\n",
       "\t<tr><td>20180105_0093</td><td>1035         </td><td>1056         </td><td>2018-01-05   </td><td>2018-01-05   </td></tr>\n",
       "</tbody>\n",
       "</table>\n"
      ],
      "text/latex": [
       "\\begin{tabular}{r|lllll}\n",
       " key & starttime & endtime & startdate & enddate\\\\\n",
       "\\hline\n",
       "\t 20180111\\_333  & 2038            & 2043            & 2018-01-11      & 2018-01-11     \\\\\n",
       "\t 20180112\\_287  & 2304            & 2310            & 2018-01-12      & 2018-01-12     \\\\\n",
       "\t 20180111\\_384  & 2125            & 2128            & 2018-01-11      & 2018-01-11     \\\\\n",
       "\t 20180111\\_403  & 2114            & 2124            & 2018-01-11      & 2018-01-11     \\\\\n",
       "\t 20180111\\_0197 & 2039            & 2041            & 2018-01-11      & 2018-01-11     \\\\\n",
       "\t 20180105\\_0093 & 1035            & 1056            & 2018-01-05      & 2018-01-05     \\\\\n",
       "\\end{tabular}\n"
      ],
      "text/markdown": [
       "\n",
       "key | starttime | endtime | startdate | enddate | \n",
       "|---|---|---|---|---|---|\n",
       "| 20180111_333  | 2038          | 2043          | 2018-01-11    | 2018-01-11    | \n",
       "| 20180112_287  | 2304          | 2310          | 2018-01-12    | 2018-01-12    | \n",
       "| 20180111_384  | 2125          | 2128          | 2018-01-11    | 2018-01-11    | \n",
       "| 20180111_403  | 2114          | 2124          | 2018-01-11    | 2018-01-11    | \n",
       "| 20180111_0197 | 2039          | 2041          | 2018-01-11    | 2018-01-11    | \n",
       "| 20180105_0093 | 1035          | 1056          | 2018-01-05    | 2018-01-05    | \n",
       "\n",
       "\n"
      ],
      "text/plain": [
       "  key           starttime endtime startdate  enddate   \n",
       "1 20180111_333  2038      2043    2018-01-11 2018-01-11\n",
       "2 20180112_287  2304      2310    2018-01-12 2018-01-12\n",
       "3 20180111_384  2125      2128    2018-01-11 2018-01-11\n",
       "4 20180111_403  2114      2124    2018-01-11 2018-01-11\n",
       "5 20180111_0197 2039      2041    2018-01-11 2018-01-11\n",
       "6 20180105_0093 1035      1056    2018-01-05 2018-01-05"
      ]
     },
     "metadata": {},
     "output_type": "display_data"
    }
   ],
   "source": [
    "btime <- select(bts, MOVE_ACTL_ID, ACTL_MOVE_TIME_FROM, ACTL_MOVE_TIME_TO, ACTL_MOVE_DATE_FROM, ACTL_MOVE_DATE_TO)\n",
    "colnames(btime) <- c('key', 'starttime', 'endtime', 'startdate', 'enddate')\n",
    "head(btime)"
   ]
  },
  {
   "cell_type": "markdown",
   "metadata": {},
   "source": [
    "## 1. 시간 연산을 위한 형변환"
   ]
  },
  {
   "cell_type": "code",
   "execution_count": 4,
   "metadata": {},
   "outputs": [
    {
     "name": "stdout",
     "output_type": "stream",
     "text": [
      "'data.frame':\t8854 obs. of  5 variables:\n",
      " $ key      : Factor w/ 8854 levels \"20180102_0001\",..: 4501 5005 4543 4559 4184 1404 4191 4320 4390 4442 ...\n",
      " $ starttime: int  2038 2304 2125 2114 2039 1035 2044 1114 842 2033 ...\n",
      " $ endtime  : int  2043 2310 2128 2124 2041 1056 2051 1121 844 2038 ...\n",
      " $ startdate: POSIXlt, format: \"2018-01-11\" \"2018-01-12\" ...\n",
      " $ enddate  : POSIXlt, format: \"2018-01-11\" \"2018-01-12\" ...\n"
     ]
    }
   ],
   "source": [
    "btime$startdate <- as.POSIXlt(btime$startdate)\n",
    "btime$enddate <- as.POSIXlt(btime$enddate)\n",
    "bt2 <- btime\n",
    "str(bt2)"
   ]
  },
  {
   "cell_type": "markdown",
   "metadata": {},
   "source": [
    "## 2. 원래 하려던 ifelse가 POSIXlt 형식에서 안먹히는 것 같음"
   ]
  },
  {
   "cell_type": "code",
   "execution_count": null,
   "metadata": {},
   "outputs": [],
   "source": [
    "# 왜 안되는지 모르겠음\n",
    "'''\n",
    "bt2$startdate <- ifelse(bt2$starttime > 2400, bt2$startdate + (24*3600), bt2$startdate)\n",
    "bt2$enddate <- ifelse(bt2$endttime > 2400, bt2$enddate + (24*3600), bt2$enddate)\n",
    "bt2$starttime <- ifelse(bt2$strattime > 2400, bt2$starttime - 2400, bt2$starttime)\n",
    "bt2$endtime <- ifelse(bt2$endtime > 2400, bt2$endtime - 2400, bt2$endtime)\n",
    "\n",
    "bt2$startdate <- ifelse(bt2$starttime > 2400, bt2$startdate, bt2$enddate)\n",
    "head(bt2)\n",
    "'''"
   ]
  },
  {
   "cell_type": "markdown",
   "metadata": {},
   "source": [
    "## 3. st, et에 따라 row split & 시간 연산"
   ]
  },
  {
   "cell_type": "code",
   "execution_count": 5,
   "metadata": {},
   "outputs": [],
   "source": [
    "# 조건에 따라 잘라서 연산하기로함\n",
    "bt3 <- bt2[bt2$starttime > 2400 & bt2$endtime > 2400, ]\n",
    "bt4 <- bt2[bt2$starttime > 2400 & bt2$endtime <= 2400, ]\n",
    "bt5 <- bt2[bt2$starttime <= 2400 & bt2$endtime > 2400, ]\n",
    "bt6 <- bt2[bt2$starttime <= 2400 & bt2$endtime <= 2400, ]\n",
    "\n",
    "bt3$startdate <- bt3$startdate + (24*3600)\n",
    "bt3$enddate <- bt3$enddate + (24*3600)\n",
    "bt3$starttime <- bt3$starttime - 2400\n",
    "bt3$endtime <- bt3$endtime - 2400\n",
    "\n",
    "bt4$startdate <- bt4$startdate + (24*3600)\n",
    "bt4$starttime <- bt4$starttime - 2400\n",
    "\n",
    "bt5$enddate <- bt5$enddate + (24*3600)\n",
    "bt5$endtime <- bt5$endtime - 2400"
   ]
  },
  {
   "cell_type": "markdown",
   "metadata": {},
   "source": [
    "## 4. split해서 처리 후 rbind & 시간 값 table 확인"
   ]
  },
  {
   "cell_type": "code",
   "execution_count": 6,
   "metadata": {},
   "outputs": [
    {
     "data": {
      "text/html": [
       "<table>\n",
       "<thead><tr><th scope=col>key</th><th scope=col>starttime</th><th scope=col>endtime</th><th scope=col>startdate</th><th scope=col>enddate</th></tr></thead>\n",
       "<tbody>\n",
       "\t<tr><td>20180111_333 </td><td>2038         </td><td>2043         </td><td>2018-01-11   </td><td>2018-01-11   </td></tr>\n",
       "\t<tr><td>20180112_287 </td><td>2304         </td><td>2310         </td><td>2018-01-12   </td><td>2018-01-12   </td></tr>\n",
       "\t<tr><td>20180111_384 </td><td>2125         </td><td>2128         </td><td>2018-01-11   </td><td>2018-01-11   </td></tr>\n",
       "\t<tr><td>20180111_403 </td><td>2114         </td><td>2124         </td><td>2018-01-11   </td><td>2018-01-11   </td></tr>\n",
       "\t<tr><td>20180111_0197</td><td>2039         </td><td>2041         </td><td>2018-01-11   </td><td>2018-01-11   </td></tr>\n",
       "\t<tr><td>20180105_0093</td><td>1035         </td><td>1056         </td><td>2018-01-05   </td><td>2018-01-05   </td></tr>\n",
       "</tbody>\n",
       "</table>\n"
      ],
      "text/latex": [
       "\\begin{tabular}{r|lllll}\n",
       " key & starttime & endtime & startdate & enddate\\\\\n",
       "\\hline\n",
       "\t 20180111\\_333  & 2038            & 2043            & 2018-01-11      & 2018-01-11     \\\\\n",
       "\t 20180112\\_287  & 2304            & 2310            & 2018-01-12      & 2018-01-12     \\\\\n",
       "\t 20180111\\_384  & 2125            & 2128            & 2018-01-11      & 2018-01-11     \\\\\n",
       "\t 20180111\\_403  & 2114            & 2124            & 2018-01-11      & 2018-01-11     \\\\\n",
       "\t 20180111\\_0197 & 2039            & 2041            & 2018-01-11      & 2018-01-11     \\\\\n",
       "\t 20180105\\_0093 & 1035            & 1056            & 2018-01-05      & 2018-01-05     \\\\\n",
       "\\end{tabular}\n"
      ],
      "text/markdown": [
       "\n",
       "key | starttime | endtime | startdate | enddate | \n",
       "|---|---|---|---|---|---|\n",
       "| 20180111_333  | 2038          | 2043          | 2018-01-11    | 2018-01-11    | \n",
       "| 20180112_287  | 2304          | 2310          | 2018-01-12    | 2018-01-12    | \n",
       "| 20180111_384  | 2125          | 2128          | 2018-01-11    | 2018-01-11    | \n",
       "| 20180111_403  | 2114          | 2124          | 2018-01-11    | 2018-01-11    | \n",
       "| 20180111_0197 | 2039          | 2041          | 2018-01-11    | 2018-01-11    | \n",
       "| 20180105_0093 | 1035          | 1056          | 2018-01-05    | 2018-01-05    | \n",
       "\n",
       "\n"
      ],
      "text/plain": [
       "  key           starttime endtime startdate  enddate   \n",
       "1 20180111_333  2038      2043    2018-01-11 2018-01-11\n",
       "2 20180112_287  2304      2310    2018-01-12 2018-01-12\n",
       "3 20180111_384  2125      2128    2018-01-11 2018-01-11\n",
       "4 20180111_403  2114      2124    2018-01-11 2018-01-11\n",
       "5 20180111_0197 2039      2041    2018-01-11 2018-01-11\n",
       "6 20180105_0093 1035      1056    2018-01-05 2018-01-05"
      ]
     },
     "metadata": {},
     "output_type": "display_data"
    },
    {
     "data": {
      "text/plain": [
       "\n",
       "   1    2    3    4 \n",
       "  10    6 2420 6418 "
      ]
     },
     "metadata": {},
     "output_type": "display_data"
    },
    {
     "data": {
      "text/plain": [
       "\n",
       "   1    2    3    4 \n",
       "  14    7 2379 6454 "
      ]
     },
     "metadata": {},
     "output_type": "display_data"
    }
   ],
   "source": [
    "bt7 <- rbind(bt3, bt4, bt5, bt6)\n",
    "head(bt6)\n",
    "table(nchar(bt7$starttime))\n",
    "table(nchar(bt7$endtime))"
   ]
  },
  {
   "cell_type": "markdown",
   "metadata": {},
   "source": [
    "## 5. 시간 값 작업"
   ]
  },
  {
   "cell_type": "code",
   "execution_count": 7,
   "metadata": {},
   "outputs": [
    {
     "data": {
      "text/plain": [
       "\n",
       "   4 \n",
       "8854 "
      ]
     },
     "metadata": {},
     "output_type": "display_data"
    },
    {
     "data": {
      "text/plain": [
       "\n",
       "   4 \n",
       "8854 "
      ]
     },
     "metadata": {},
     "output_type": "display_data"
    }
   ],
   "source": [
    "# 여기서 시간 작업을 하고 key로 join 할 예정\n",
    "bt7$starttime <- as.character(bt7$starttime)\n",
    "bt7$endtime <- as.character(bt7$endtime)\n",
    "\n",
    "bt7$starttime <- ifelse(nchar(bt7$starttime) == 1, paste0('000', bt7$starttime), bt7$starttime)\n",
    "bt7$starttime <- ifelse(nchar(bt7$starttime) == 2, paste0('00', bt7$starttime), bt7$starttime)\n",
    "bt7$starttime <- ifelse(nchar(bt7$starttime) == 3, paste0('0', bt7$starttime), bt7$starttime)\n",
    "bt7$endtime <- ifelse(nchar(bt7$endtime) == 1, paste0('000', bt7$endtime), bt7$endtime)\n",
    "bt7$endtime <- ifelse(nchar(bt7$endtime) == 2, paste0('00', bt7$endtime), bt7$endtime)\n",
    "bt7$endtime <- ifelse(nchar(bt7$endtime) == 3, paste0('0', bt7$endtime), bt7$endtime)\n",
    "\n",
    "table(nchar(bt7$starttime))\n",
    "table(nchar(bt7$endtime))"
   ]
  },
  {
   "cell_type": "code",
   "execution_count": 8,
   "metadata": {},
   "outputs": [
    {
     "data": {
      "text/html": [
       "<table>\n",
       "<thead><tr><th></th><th scope=col>key</th><th scope=col>starttime</th><th scope=col>endtime</th><th scope=col>startdate</th><th scope=col>enddate</th></tr></thead>\n",
       "<tbody>\n",
       "\t<tr><th scope=row>28</th><td>20180111_0294</td><td>0121         </td><td>0141         </td><td>2018-01-12   </td><td>2018-01-12   </td></tr>\n",
       "\t<tr><th scope=row>30</th><td>20180111_0303</td><td>0206         </td><td>0222         </td><td>2018-01-12   </td><td>2018-01-12   </td></tr>\n",
       "\t<tr><th scope=row>46</th><td>20180109_0373</td><td>0517         </td><td>0559         </td><td>2018-01-10   </td><td>2018-01-10   </td></tr>\n",
       "\t<tr><th scope=row>54</th><td>20180109_0374</td><td>0555         </td><td>0601         </td><td>2018-01-10   </td><td>2018-01-10   </td></tr>\n",
       "\t<tr><th scope=row>59</th><td>20180109_141 </td><td>0141         </td><td>0148         </td><td>2018-01-10   </td><td>2018-01-10   </td></tr>\n",
       "\t<tr><th scope=row>63</th><td>20180109_214 </td><td>0442         </td><td>0442         </td><td>2018-01-10   </td><td>2018-01-10   </td></tr>\n",
       "</tbody>\n",
       "</table>\n"
      ],
      "text/latex": [
       "\\begin{tabular}{r|lllll}\n",
       "  & key & starttime & endtime & startdate & enddate\\\\\n",
       "\\hline\n",
       "\t28 & 20180111\\_0294 & 0121            & 0141            & 2018-01-12      & 2018-01-12     \\\\\n",
       "\t30 & 20180111\\_0303 & 0206            & 0222            & 2018-01-12      & 2018-01-12     \\\\\n",
       "\t46 & 20180109\\_0373 & 0517            & 0559            & 2018-01-10      & 2018-01-10     \\\\\n",
       "\t54 & 20180109\\_0374 & 0555            & 0601            & 2018-01-10      & 2018-01-10     \\\\\n",
       "\t59 & 20180109\\_141  & 0141            & 0148            & 2018-01-10      & 2018-01-10     \\\\\n",
       "\t63 & 20180109\\_214  & 0442            & 0442            & 2018-01-10      & 2018-01-10     \\\\\n",
       "\\end{tabular}\n"
      ],
      "text/markdown": [
       "\n",
       "| <!--/--> | key | starttime | endtime | startdate | enddate | \n",
       "|---|---|---|---|---|---|\n",
       "| 28 | 20180111_0294 | 0121          | 0141          | 2018-01-12    | 2018-01-12    | \n",
       "| 30 | 20180111_0303 | 0206          | 0222          | 2018-01-12    | 2018-01-12    | \n",
       "| 46 | 20180109_0373 | 0517          | 0559          | 2018-01-10    | 2018-01-10    | \n",
       "| 54 | 20180109_0374 | 0555          | 0601          | 2018-01-10    | 2018-01-10    | \n",
       "| 59 | 20180109_141  | 0141          | 0148          | 2018-01-10    | 2018-01-10    | \n",
       "| 63 | 20180109_214  | 0442          | 0442          | 2018-01-10    | 2018-01-10    | \n",
       "\n",
       "\n"
      ],
      "text/plain": [
       "   key           starttime endtime startdate  enddate   \n",
       "28 20180111_0294 0121      0141    2018-01-12 2018-01-12\n",
       "30 20180111_0303 0206      0222    2018-01-12 2018-01-12\n",
       "46 20180109_0373 0517      0559    2018-01-10 2018-01-10\n",
       "54 20180109_0374 0555      0601    2018-01-10 2018-01-10\n",
       "59 20180109_141  0141      0148    2018-01-10 2018-01-10\n",
       "63 20180109_214  0442      0442    2018-01-10 2018-01-10"
      ]
     },
     "metadata": {},
     "output_type": "display_data"
    }
   ],
   "source": [
    "head(bt7)"
   ]
  },
  {
   "cell_type": "code",
   "execution_count": 9,
   "metadata": {
    "scrolled": true
   },
   "outputs": [
    {
     "data": {
      "text/html": [
       "<table>\n",
       "<thead><tr><th></th><th scope=col>key</th><th scope=col>starttime</th><th scope=col>endtime</th><th scope=col>startdate</th><th scope=col>enddate</th><th scope=col>sdt</th><th scope=col>edt</th></tr></thead>\n",
       "<tbody>\n",
       "\t<tr><th scope=row>28</th><td>20180111_0294      </td><td>01:21              </td><td>01:41              </td><td>2018-01-12         </td><td>2018-01-12         </td><td>2018-01-12 01:21:00</td><td>2018-01-12 01:41:00</td></tr>\n",
       "\t<tr><th scope=row>30</th><td>20180111_0303      </td><td>02:06              </td><td>02:22              </td><td>2018-01-12         </td><td>2018-01-12         </td><td>2018-01-12 02:06:00</td><td>2018-01-12 02:22:00</td></tr>\n",
       "\t<tr><th scope=row>46</th><td>20180109_0373      </td><td>05:17              </td><td>05:59              </td><td>2018-01-10         </td><td>2018-01-10         </td><td>2018-01-10 05:17:00</td><td>2018-01-10 05:59:00</td></tr>\n",
       "\t<tr><th scope=row>54</th><td>20180109_0374      </td><td>05:55              </td><td>06:01              </td><td>2018-01-10         </td><td>2018-01-10         </td><td>2018-01-10 05:55:00</td><td>2018-01-10 06:01:00</td></tr>\n",
       "\t<tr><th scope=row>59</th><td>20180109_141       </td><td>01:41              </td><td>01:48              </td><td>2018-01-10         </td><td>2018-01-10         </td><td>2018-01-10 01:41:00</td><td>2018-01-10 01:48:00</td></tr>\n",
       "\t<tr><th scope=row>63</th><td>20180109_214       </td><td>04:42              </td><td>04:42              </td><td>2018-01-10         </td><td>2018-01-10         </td><td>2018-01-10 04:42:00</td><td>2018-01-10 04:42:00</td></tr>\n",
       "</tbody>\n",
       "</table>\n"
      ],
      "text/latex": [
       "\\begin{tabular}{r|lllllll}\n",
       "  & key & starttime & endtime & startdate & enddate & sdt & edt\\\\\n",
       "\\hline\n",
       "\t28 & 20180111\\_0294     & 01:21               & 01:41               & 2018-01-12          & 2018-01-12          & 2018-01-12 01:21:00 & 2018-01-12 01:41:00\\\\\n",
       "\t30 & 20180111\\_0303     & 02:06               & 02:22               & 2018-01-12          & 2018-01-12          & 2018-01-12 02:06:00 & 2018-01-12 02:22:00\\\\\n",
       "\t46 & 20180109\\_0373     & 05:17               & 05:59               & 2018-01-10          & 2018-01-10          & 2018-01-10 05:17:00 & 2018-01-10 05:59:00\\\\\n",
       "\t54 & 20180109\\_0374     & 05:55               & 06:01               & 2018-01-10          & 2018-01-10          & 2018-01-10 05:55:00 & 2018-01-10 06:01:00\\\\\n",
       "\t59 & 20180109\\_141      & 01:41               & 01:48               & 2018-01-10          & 2018-01-10          & 2018-01-10 01:41:00 & 2018-01-10 01:48:00\\\\\n",
       "\t63 & 20180109\\_214      & 04:42               & 04:42               & 2018-01-10          & 2018-01-10          & 2018-01-10 04:42:00 & 2018-01-10 04:42:00\\\\\n",
       "\\end{tabular}\n"
      ],
      "text/markdown": [
       "\n",
       "| <!--/--> | key | starttime | endtime | startdate | enddate | sdt | edt | \n",
       "|---|---|---|---|---|---|\n",
       "| 28 | 20180111_0294       | 01:21               | 01:41               | 2018-01-12          | 2018-01-12          | 2018-01-12 01:21:00 | 2018-01-12 01:41:00 | \n",
       "| 30 | 20180111_0303       | 02:06               | 02:22               | 2018-01-12          | 2018-01-12          | 2018-01-12 02:06:00 | 2018-01-12 02:22:00 | \n",
       "| 46 | 20180109_0373       | 05:17               | 05:59               | 2018-01-10          | 2018-01-10          | 2018-01-10 05:17:00 | 2018-01-10 05:59:00 | \n",
       "| 54 | 20180109_0374       | 05:55               | 06:01               | 2018-01-10          | 2018-01-10          | 2018-01-10 05:55:00 | 2018-01-10 06:01:00 | \n",
       "| 59 | 20180109_141        | 01:41               | 01:48               | 2018-01-10          | 2018-01-10          | 2018-01-10 01:41:00 | 2018-01-10 01:48:00 | \n",
       "| 63 | 20180109_214        | 04:42               | 04:42               | 2018-01-10          | 2018-01-10          | 2018-01-10 04:42:00 | 2018-01-10 04:42:00 | \n",
       "\n",
       "\n"
      ],
      "text/plain": [
       "   key           starttime endtime startdate  enddate    sdt                \n",
       "28 20180111_0294 01:21     01:41   2018-01-12 2018-01-12 2018-01-12 01:21:00\n",
       "30 20180111_0303 02:06     02:22   2018-01-12 2018-01-12 2018-01-12 02:06:00\n",
       "46 20180109_0373 05:17     05:59   2018-01-10 2018-01-10 2018-01-10 05:17:00\n",
       "54 20180109_0374 05:55     06:01   2018-01-10 2018-01-10 2018-01-10 05:55:00\n",
       "59 20180109_141  01:41     01:48   2018-01-10 2018-01-10 2018-01-10 01:41:00\n",
       "63 20180109_214  04:42     04:42   2018-01-10 2018-01-10 2018-01-10 04:42:00\n",
       "   edt                \n",
       "28 2018-01-12 01:41:00\n",
       "30 2018-01-12 02:22:00\n",
       "46 2018-01-10 05:59:00\n",
       "54 2018-01-10 06:01:00\n",
       "59 2018-01-10 01:48:00\n",
       "63 2018-01-10 04:42:00"
      ]
     },
     "metadata": {},
     "output_type": "display_data"
    }
   ],
   "source": [
    "bt8 <- bt7\n",
    "bt8$starttime <- paste0(substr(bt8$starttime, 1, 2), \":\", substr(bt8$starttime, 3, 4))\n",
    "bt8$endtime <- paste0(substr(bt8$endtime, 1, 2), \":\", substr(bt8$endtime, 3, 4))\n",
    "\n",
    "bt8$startdate <- as.character(bt8$startdate)\n",
    "bt8$enddate <- as.character(bt8$enddate)\n",
    "\n",
    "bt8$sdt <- paste(bt8$startdate, bt8$starttime)\n",
    "bt8$edt <- paste(bt8$enddate, bt8$endtime)\n",
    "\n",
    "bt8$sdt <- paste0(bt8$sdt, ':00')\n",
    "bt8$edt <- paste0(bt8$edt, ':00')\n",
    "\n",
    "head(bt8)"
   ]
  },
  {
   "cell_type": "markdown",
   "metadata": {},
   "source": [
    "## 6. JOIN"
   ]
  },
  {
   "cell_type": "code",
   "execution_count": 10,
   "metadata": {},
   "outputs": [
    {
     "data": {
      "text/html": [
       "<table>\n",
       "<thead><tr><th></th><th scope=col>key</th><th scope=col>sdt</th><th scope=col>edt</th></tr></thead>\n",
       "<tbody>\n",
       "\t<tr><th scope=row>28</th><td>20180111_0294      </td><td>2018-01-12 01:21:00</td><td>2018-01-12 01:41:00</td></tr>\n",
       "\t<tr><th scope=row>30</th><td>20180111_0303      </td><td>2018-01-12 02:06:00</td><td>2018-01-12 02:22:00</td></tr>\n",
       "\t<tr><th scope=row>46</th><td>20180109_0373      </td><td>2018-01-10 05:17:00</td><td>2018-01-10 05:59:00</td></tr>\n",
       "\t<tr><th scope=row>54</th><td>20180109_0374      </td><td>2018-01-10 05:55:00</td><td>2018-01-10 06:01:00</td></tr>\n",
       "\t<tr><th scope=row>59</th><td>20180109_141       </td><td>2018-01-10 01:41:00</td><td>2018-01-10 01:48:00</td></tr>\n",
       "\t<tr><th scope=row>63</th><td>20180109_214       </td><td>2018-01-10 04:42:00</td><td>2018-01-10 04:42:00</td></tr>\n",
       "</tbody>\n",
       "</table>\n"
      ],
      "text/latex": [
       "\\begin{tabular}{r|lll}\n",
       "  & key & sdt & edt\\\\\n",
       "\\hline\n",
       "\t28 & 20180111\\_0294     & 2018-01-12 01:21:00 & 2018-01-12 01:41:00\\\\\n",
       "\t30 & 20180111\\_0303     & 2018-01-12 02:06:00 & 2018-01-12 02:22:00\\\\\n",
       "\t46 & 20180109\\_0373     & 2018-01-10 05:17:00 & 2018-01-10 05:59:00\\\\\n",
       "\t54 & 20180109\\_0374     & 2018-01-10 05:55:00 & 2018-01-10 06:01:00\\\\\n",
       "\t59 & 20180109\\_141      & 2018-01-10 01:41:00 & 2018-01-10 01:48:00\\\\\n",
       "\t63 & 20180109\\_214      & 2018-01-10 04:42:00 & 2018-01-10 04:42:00\\\\\n",
       "\\end{tabular}\n"
      ],
      "text/markdown": [
       "\n",
       "| <!--/--> | key | sdt | edt | \n",
       "|---|---|---|---|---|---|\n",
       "| 28 | 20180111_0294       | 2018-01-12 01:21:00 | 2018-01-12 01:41:00 | \n",
       "| 30 | 20180111_0303       | 2018-01-12 02:06:00 | 2018-01-12 02:22:00 | \n",
       "| 46 | 20180109_0373       | 2018-01-10 05:17:00 | 2018-01-10 05:59:00 | \n",
       "| 54 | 20180109_0374       | 2018-01-10 05:55:00 | 2018-01-10 06:01:00 | \n",
       "| 59 | 20180109_141        | 2018-01-10 01:41:00 | 2018-01-10 01:48:00 | \n",
       "| 63 | 20180109_214        | 2018-01-10 04:42:00 | 2018-01-10 04:42:00 | \n",
       "\n",
       "\n"
      ],
      "text/plain": [
       "   key           sdt                 edt                \n",
       "28 20180111_0294 2018-01-12 01:21:00 2018-01-12 01:41:00\n",
       "30 20180111_0303 2018-01-12 02:06:00 2018-01-12 02:22:00\n",
       "46 20180109_0373 2018-01-10 05:17:00 2018-01-10 05:59:00\n",
       "54 20180109_0374 2018-01-10 05:55:00 2018-01-10 06:01:00\n",
       "59 20180109_141  2018-01-10 01:41:00 2018-01-10 01:48:00\n",
       "63 20180109_214  2018-01-10 04:42:00 2018-01-10 04:42:00"
      ]
     },
     "metadata": {},
     "output_type": "display_data"
    },
    {
     "name": "stdout",
     "output_type": "stream",
     "text": [
      "'data.frame':\t8854 obs. of  48 variables:\n",
      " $ MOVE_ACTL_ID       : Factor w/ 8854 levels \"20180102_0001\",..: 4501 5005 4543 4559 4184 1404 4191 4320 4390 4442 ...\n",
      " $ PCS_LEFT           : num  173018 172548 172934 172972 172424 ...\n",
      " $ PCS_TOP            : num  252125 252400 252197 252279 252651 ...\n",
      " $ ROT_ANGL           : int  NA 0 NA NA NA 0 NA NA NA NA ...\n",
      " $ ACTL_RGSR_EQP_CODE : Factor w/ 2 levels \"PC\",\"TP\": 2 2 2 2 2 2 2 2 2 2 ...\n",
      " $ ACTL_INDC          : Factor w/ 3 levels \"\",\"N\",\"Y\": 1 1 1 1 1 1 1 1 1 1 ...\n",
      " $ RMRK               : Factor w/ 40 levels \"\",\"1000톤으로작업\",..: 1 17 1 1 1 1 1 1 1 1 ...\n",
      " $ MOVE_OBJT_ID       : Factor w/ 1376 levels \"1448_122\",\"2230_227\",..: 1026 834 289 250 187 443 187 261 1056 1063 ...\n",
      " $ MOVE_REQ_ID        : Factor w/ 8851 levels \"20180102_0001\",..: 4501 5005 4543 4559 4184 1404 4191 4320 4390 4442 ...\n",
      " $ RGSR_USER_ID       : Factor w/ 3 levels \"\",\"Migration\",..: 1 2 1 1 1 2 1 1 1 1 ...\n",
      " $ MNT_USER_ID        : Factor w/ 2 levels \"\",\"tester\": 1 1 1 1 1 1 1 1 1 1 ...\n",
      " $ TEMP_INDC          : int  NA NA NA NA NA NA NA NA NA NA ...\n",
      " $ RGSR_DATE          : int  NA NA NA NA NA NA NA NA NA NA ...\n",
      " $ RGSR_TIME          : int  NA NA NA NA NA NA NA NA NA NA ...\n",
      " $ MNT_DATE           : int  NA NA NA NA NA NA NA NA NA NA ...\n",
      " $ MNT_TIME           : int  NA NA NA NA NA NA NA NA NA NA ...\n",
      " $ PGM_ID             : Factor w/ 3 levels \"\",\"APNB\",\"APNB100S\": 1 1 1 1 1 1 1 1 1 1 ...\n",
      " $ CRNT_AREA_NO       : Factor w/ 1093 levels \"####\",\"######\",..: 582 771 598 597 217 118 772 219 1015 753 ...\n",
      " $ NEXT_AREA_NO       : Factor w/ 998 levels \"\",\"####\",\"######\",..: 519 526 529 531 705 108 193 796 530 698 ...\n",
      " $ ACTL_MOVE_TIME_FROM: int  2038 2304 2125 2114 2039 1035 2044 1114 842 2033 ...\n",
      " $ ACTL_MOVE_TIME_TO  : int  2043 2310 2128 2124 2041 1056 2051 1121 844 2038 ...\n",
      " $ ACTL_MOVE_DATE_FROM: Factor w/ 43 levels \"2018-01-02\",\"2018-01-03\",..: 10 11 10 10 10 4 10 10 10 10 ...\n",
      " $ ACTL_MOVE_DATE_TO  : Factor w/ 43 levels \"2018-01-02\",\"2018-01-03\",..: 10 11 10 10 10 4 10 10 10 10 ...\n",
      " $ WSTG_CODE          : Factor w/ 125 levels \"\",\"3S6\",\"5H4\",..: 50 1 48 46 93 1 88 93 47 46 ...\n",
      " $ BLK_STUS           : Factor w/ 12 levels \"AF\",\"AS\",\"BS\",..: 2 1 2 2 2 11 2 2 2 2 ...\n",
      " $ WEG_CODE           : Factor w/ 11 levels \"\",\"20UA\",\"20UB\",..: 10 3 10 10 3 11 3 3 3 3 ...\n",
      " $ ARNG_CAR_NO_1      : int  202 1464 202 202 203 1067 203 203 203 203 ...\n",
      " $ SUDD_WORK_CODE     : Factor w/ 7 levels \"\",\"A\",\"F\",\"G\",..: 1 1 1 1 2 1 2 1 5 1 ...\n",
      " $ PFRE_MOVE          : logi  NA NA NA NA NA NA ...\n",
      " $ ARNG_CAR_NO_2      : int  NA NA NA NA NA NA NA NA NA NA ...\n",
      " $ ARNG_CAR_NO_3      : int  NA NA NA NA NA NA NA NA NA NA ...\n",
      " $ ARNG_CAR_NO_4      : int  NA NA NA NA NA NA NA NA NA NA ...\n",
      " $ ARNG_CAR_NO_5      : int  NA NA NA NA NA NA NA NA NA NA ...\n",
      " $ ARNG_CAR_NO_6      : int  NA NA NA NA NA NA NA NA NA NA ...\n",
      " $ RLTV_COOD_X        : num  14.2 27.7 39.3 51.8 11.8 ...\n",
      " $ RLTV_COOD_Y        : num  15.82 -13.47 -1.89 43.73 -2.95 ...\n",
      " $ ARUD_ADDR_NO       : logi  NA NA NA NA NA NA ...\n",
      " $ ALRM_INDC          : logi  NA NA NA NA NA NA ...\n",
      " $ BLK_FLAG           : Factor w/ 2 levels \"\",\"S00N\": 1 1 1 1 1 1 1 1 1 1 ...\n",
      " $ CMPL_INDC          : logi  NA NA NA NA NA NA ...\n",
      " $ MNT_AREA_NO        : Factor w/ 1111 levels \"####\",\"######\",..: 588 778 604 603 218 118 779 220 1033 760 ...\n",
      " $ MNT_BLK_FLAG       : logi  NA NA NA NA NA NA ...\n",
      " $ JIG_CODE           : Factor w/ 17 levels \"\",\"G1\",\"G3\",\"G4\",..: 1 1 1 1 1 1 1 1 1 1 ...\n",
      " $ JIG_QTY            : int  NA 0 NA NA NA 0 NA NA NA NA ...\n",
      " $ MNT_PCS_LEFT       : num  0 0 0 0 0 0 0 0 0 0 ...\n",
      " $ MNT_PCS_TOP        : num  0 0 0 0 0 0 0 0 0 0 ...\n",
      " $ sdt                : chr  \"2018-01-11 20:38:00\" \"2018-01-12 23:04:00\" \"2018-01-11 21:25:00\" \"2018-01-11 21:14:00\" ...\n",
      " $ edt                : chr  \"2018-01-11 20:43:00\" \"2018-01-12 23:10:00\" \"2018-01-11 21:28:00\" \"2018-01-11 21:24:00\" ...\n"
     ]
    }
   ],
   "source": [
    "btstime <- select(bt8, key, sdt, edt)\n",
    "head(btstime)\n",
    "\n",
    "bts_mod <- left_join(bts, btstime, by = c(\"MOVE_ACTL_ID\" = \"key\"))\n",
    "str(bts_mod)"
   ]
  },
  {
   "cell_type": "markdown",
   "metadata": {},
   "source": [
    "## 7. 특정 Column명 바꾸기"
   ]
  },
  {
   "cell_type": "code",
   "execution_count": 11,
   "metadata": {},
   "outputs": [],
   "source": [
    "colnames(bts_mod)[which(names(bts_mod) == \"sdt\")] <- \"START_TIME\"\n",
    "colnames(bts_mod)[which(names(bts_mod) == \"edt\")] <- \"END_TIME\""
   ]
  },
  {
   "cell_type": "code",
   "execution_count": null,
   "metadata": {},
   "outputs": [],
   "source": [
    "write.csv(bts_mod, \"BTS_운반실적_TIME.csv\", row.names = FALSE)"
   ]
  },
  {
   "cell_type": "markdown",
   "metadata": {},
   "source": [
    "## 끝"
   ]
  }
 ],
 "metadata": {
  "kernelspec": {
   "display_name": "R",
   "language": "R",
   "name": "ir"
  },
  "language_info": {
   "codemirror_mode": "r",
   "file_extension": ".r",
   "mimetype": "text/x-r-source",
   "name": "R",
   "pygments_lexer": "r",
   "version": "3.4.3"
  }
 },
 "nbformat": 4,
 "nbformat_minor": 2
}
