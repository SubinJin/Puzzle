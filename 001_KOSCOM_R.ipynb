{
 "cells": [
  {
   "cell_type": "markdown",
   "metadata": {},
   "source": [
    "## 001_KOSCOM data 날짜 - 시간 붙여서 새 컬럼 만들기"
   ]
  },
  {
   "cell_type": "code",
   "execution_count": 1,
   "metadata": {},
   "outputs": [
    {
     "name": "stdout",
     "output_type": "stream",
     "text": [
      "package 'dplyr' successfully unpacked and MD5 sums checked\n"
     ]
    },
    {
     "name": "stderr",
     "output_type": "stream",
     "text": [
      "Warning message:\n",
      "\"cannot remove prior installation of package 'dplyr'\""
     ]
    },
    {
     "name": "stdout",
     "output_type": "stream",
     "text": [
      "\n",
      "The downloaded binary packages are in\n",
      "\tC:\\Temp\\RtmpEBGuEK\\downloaded_packages\n"
     ]
    },
    {
     "name": "stderr",
     "output_type": "stream",
     "text": [
      "\n",
      "Attaching package: 'dplyr'\n",
      "\n",
      "The following objects are masked from 'package:stats':\n",
      "\n",
      "    filter, lag\n",
      "\n",
      "The following objects are masked from 'package:base':\n",
      "\n",
      "    intersect, setdiff, setequal, union\n",
      "\n"
     ]
    }
   ],
   "source": [
    "install.packages(\"dplyr\")\n",
    "library(\"dplyr\")"
   ]
  },
  {
   "cell_type": "code",
   "execution_count": 20,
   "metadata": {},
   "outputs": [],
   "source": [
    "cust <- read.csv('C:\\\\Users\\\\진수빈\\\\Desktop\\\\customer_0813_0817_TOP500_no_quotation_v2\\\\CUSTOMER_ISSUE_V2.csv')"
   ]
  },
  {
   "cell_type": "code",
   "execution_count": 3,
   "metadata": {},
   "outputs": [
    {
     "data": {
      "text/html": [
       "<table>\n",
       "<thead><tr><th scope=col>CUSTOMER_ID</th><th scope=col>ISSUE_CD</th><th scope=col>ISSUE_NAME</th><th scope=col>MARKET_ID</th><th scope=col>QUERY_DATE</th><th scope=col>QUERY_TIME</th></tr></thead>\n",
       "<tbody>\n",
       "\t<tr><td>CUST_1  </td><td>005930  </td><td>삼성전자</td><td>1       </td><td>20180813</td><td>70124   </td></tr>\n",
       "\t<tr><td>CUST_1  </td><td>005930  </td><td>삼성전자</td><td>1       </td><td>20180816</td><td>62415   </td></tr>\n",
       "\t<tr><td>CUST_1  </td><td>005930  </td><td>삼성전자</td><td>1       </td><td>20180816</td><td>62416   </td></tr>\n",
       "\t<tr><td>CUST_1  </td><td>005930  </td><td>삼성전자</td><td>1       </td><td>20180816</td><td>62420   </td></tr>\n",
       "\t<tr><td>CUST_1  </td><td>005930  </td><td>삼성전자</td><td>1       </td><td>20180816</td><td>62426   </td></tr>\n",
       "\t<tr><td>CUST_1  </td><td>005930  </td><td>삼성전자</td><td>1       </td><td>20180817</td><td>70348   </td></tr>\n",
       "</tbody>\n",
       "</table>\n"
      ],
      "text/latex": [
       "\\begin{tabular}{r|llllll}\n",
       " CUSTOMER\\_ID & ISSUE\\_CD & ISSUE\\_NAME & MARKET\\_ID & QUERY\\_DATE & QUERY\\_TIME\\\\\n",
       "\\hline\n",
       "\t CUST\\_1 & 005930   & 삼성전자 & 1        & 20180813 & 70124   \\\\\n",
       "\t CUST\\_1 & 005930   & 삼성전자 & 1        & 20180816 & 62415   \\\\\n",
       "\t CUST\\_1 & 005930   & 삼성전자 & 1        & 20180816 & 62416   \\\\\n",
       "\t CUST\\_1 & 005930   & 삼성전자 & 1        & 20180816 & 62420   \\\\\n",
       "\t CUST\\_1 & 005930   & 삼성전자 & 1        & 20180816 & 62426   \\\\\n",
       "\t CUST\\_1 & 005930   & 삼성전자 & 1        & 20180817 & 70348   \\\\\n",
       "\\end{tabular}\n"
      ],
      "text/markdown": [
       "\n",
       "CUSTOMER_ID | ISSUE_CD | ISSUE_NAME | MARKET_ID | QUERY_DATE | QUERY_TIME | \n",
       "|---|---|---|---|---|---|\n",
       "| CUST_1   | 005930   | 삼성전자 | 1        | 20180813 | 70124    | \n",
       "| CUST_1   | 005930   | 삼성전자 | 1        | 20180816 | 62415    | \n",
       "| CUST_1   | 005930   | 삼성전자 | 1        | 20180816 | 62416    | \n",
       "| CUST_1   | 005930   | 삼성전자 | 1        | 20180816 | 62420    | \n",
       "| CUST_1   | 005930   | 삼성전자 | 1        | 20180816 | 62426    | \n",
       "| CUST_1   | 005930   | 삼성전자 | 1        | 20180817 | 70348    | \n",
       "\n",
       "\n"
      ],
      "text/plain": [
       "  CUSTOMER_ID ISSUE_CD ISSUE_NAME MARKET_ID QUERY_DATE QUERY_TIME\n",
       "1 CUST_1      005930   삼성전자   1         20180813   70124     \n",
       "2 CUST_1      005930   삼성전자   1         20180816   62415     \n",
       "3 CUST_1      005930   삼성전자   1         20180816   62416     \n",
       "4 CUST_1      005930   삼성전자   1         20180816   62420     \n",
       "5 CUST_1      005930   삼성전자   1         20180816   62426     \n",
       "6 CUST_1      005930   삼성전자   1         20180817   70348     "
      ]
     },
     "metadata": {},
     "output_type": "display_data"
    }
   ],
   "source": [
    "head(cust)"
   ]
  },
  {
   "cell_type": "code",
   "execution_count": 5,
   "metadata": {},
   "outputs": [
    {
     "data": {
      "text/plain": [
       "\n",
       "      0       2       8       9 \n",
       "   1560    1252 1308608      24 "
      ]
     },
     "metadata": {},
     "output_type": "display_data"
    }
   ],
   "source": [
    "table(nchar(as.character(cust$QUERY_DATE)))"
   ]
  },
  {
   "cell_type": "code",
   "execution_count": 6,
   "metadata": {},
   "outputs": [
    {
     "data": {
      "text/plain": [
       "\n",
       "     2      4      5      6      8 \n",
       "    24     82 362602 945924   1252 "
      ]
     },
     "metadata": {},
     "output_type": "display_data"
    }
   ],
   "source": [
    "table(nchar(cust$QUERY_TIME))"
   ]
  },
  {
   "cell_type": "markdown",
   "metadata": {},
   "source": [
    "## 1. 데이터 문제 발생\n",
    "### 1. QUERY_DATE의 길이는 8이어야 하는데 0, 2 9 존재\n",
    "### 2. QUERY_TIME의 길이는 6이어야 하는데 2, 4, 5, 8 존재\n",
    "# \n",
    "## 2. 문제 원인 탐색\n",
    "### 1. QT = 8, QD = 2가 1252개로 같음 -> 데이터가 밀렸을 것으로 추정\n",
    "### 2. QD=9, QT = 2가 24개로 같음 -> 마찬가지로 밀렸을 것임\n",
    "#### * 1, 2 케이스는 똑같이 밀렸지만 밀린 칸 수가 다를 것으로 추정\n",
    "#\n",
    "### 3. QD = 0 인 경우는 무슨 문제인지 추정 불가능\n",
    "### 4. QD = 8의 수와 (QT = 4) + (QT = 5) + (QT = 6)이 같음\n",
    "#### * QT = 4인 경우 00시인 경우로 추정\n",
    "#### * QT = 4인 경우 0x시인 경우로 추정"
   ]
  },
  {
   "cell_type": "markdown",
   "metadata": {},
   "source": [
    "## 3. 문제 해결\n",
    "### 1. QD = 0 인 경우"
   ]
  },
  {
   "cell_type": "code",
   "execution_count": 11,
   "metadata": {},
   "outputs": [
    {
     "data": {
      "text/html": [
       "<table>\n",
       "<thead><tr><th scope=col>CUSTOMER_ID</th><th scope=col>ISSUE_CD</th><th scope=col>ISSUE_NAME</th><th scope=col>MARKET_ID</th><th scope=col>QUERY_DATE</th><th scope=col>QUERY_TIME</th></tr></thead>\n",
       "<tbody>\n",
       "\t<tr><td>CUST_118                                                                                                                                                       </td><td>SMB@EUR                                                                                                                                                        </td><td>유로통화                                                                                                                                                       </td><td>                                                                                                                                                               </td><td>                                                                                                                                                               </td><td>NA                                                                                                                                                             </td></tr>\n",
       "\t<tr><td>                                                                                                                                                               </td><td>112                                                                                                                                                            </td><td>20180814                                                                                                                                                       </td><td>80432                                                                                                                                                          </td><td>                                                                                                                                                               </td><td>NA                                                                                                                                                             </td></tr>\n",
       "\t<tr><td>CUST_118                                                                                                                                                       </td><td>SMB@EUR                                                                                                                                                        </td><td>유로통화                                                                                                                                                       </td><td>                                                                                                                                                               </td><td>                                                                                                                                                               </td><td>NA                                                                                                                                                             </td></tr>\n",
       "\t<tr><td>                                                                                                                                                               </td><td>112                                                                                                                                                            </td><td>20180814                                                                                                                                                       </td><td>80433                                                                                                                                                          </td><td>                                                                                                                                                               </td><td>NA                                                                                                                                                             </td></tr>\n",
       "\t<tr><td>CUST_118                                                                                                                                                       </td><td>SMB@JPY                                                                                                                                                        </td><td>일본_엔(100)                                                                                                                                                   </td><td>                                                                                                                                                               </td><td>                                                                                                                                                               </td><td>NA                                                                                                                                                             </td></tr>\n",
       "\t<tr><td>                                                                                                                                                               </td><td>112                                                                                                                                                            </td><td>20180817                                                                                                                                                       </td><td>73855                                                                                                                                                          </td><td>                                                                                                                                                               </td><td>NA                                                                                                                                                             </td></tr>\n",
       "</tbody>\n",
       "</table>\n"
      ],
      "text/latex": [
       "\\begin{tabular}{r|llllll}\n",
       " CUSTOMER\\_ID & ISSUE\\_CD & ISSUE\\_NAME & MARKET\\_ID & QUERY\\_DATE & QUERY\\_TIME\\\\\n",
       "\\hline\n",
       "\t CUST\\_118                                                                                                                                                      & SMB@EUR                                                                                                                                                         & 유로통화                                                                                                                                                        &                                                                                                                                                                 &                                                                                                                                                                 & NA                                                                                                                                                             \\\\\n",
       "\t                                                                                                                                                                 & 112                                                                                                                                                             & 20180814                                                                                                                                                        & 80432                                                                                                                                                           &                                                                                                                                                                 & NA                                                                                                                                                             \\\\\n",
       "\t CUST\\_118                                                                                                                                                      & SMB@EUR                                                                                                                                                         & 유로통화                                                                                                                                                        &                                                                                                                                                                 &                                                                                                                                                                 & NA                                                                                                                                                             \\\\\n",
       "\t                                                                                                                                                                 & 112                                                                                                                                                             & 20180814                                                                                                                                                        & 80433                                                                                                                                                           &                                                                                                                                                                 & NA                                                                                                                                                             \\\\\n",
       "\t CUST\\_118                                                                                                                                                      & SMB@JPY                                                                                                                                                         & 일본\\_엔(100)                                                                                                                                                  &                                                                                                                                                                 &                                                                                                                                                                 & NA                                                                                                                                                             \\\\\n",
       "\t                                                                                                                                                                 & 112                                                                                                                                                             & 20180817                                                                                                                                                        & 73855                                                                                                                                                           &                                                                                                                                                                 & NA                                                                                                                                                             \\\\\n",
       "\\end{tabular}\n"
      ],
      "text/markdown": [
       "\n",
       "CUSTOMER_ID | ISSUE_CD | ISSUE_NAME | MARKET_ID | QUERY_DATE | QUERY_TIME | \n",
       "|---|---|---|---|---|---|\n",
       "| CUST_118                                                                                                                                                        | SMB@EUR                                                                                                                                                         | 유로통화                                                                                                                                                        |                                                                                                                                                                 |                                                                                                                                                                 | NA                                                                                                                                                              | \n",
       "|                                                                                                                                                                 | 112                                                                                                                                                             | 20180814                                                                                                                                                        | 80432                                                                                                                                                           |                                                                                                                                                                 | NA                                                                                                                                                              | \n",
       "| CUST_118                                                                                                                                                        | SMB@EUR                                                                                                                                                         | 유로통화                                                                                                                                                        |                                                                                                                                                                 |                                                                                                                                                                 | NA                                                                                                                                                              | \n",
       "|                                                                                                                                                                 | 112                                                                                                                                                             | 20180814                                                                                                                                                        | 80433                                                                                                                                                           |                                                                                                                                                                 | NA                                                                                                                                                              | \n",
       "| CUST_118                                                                                                                                                        | SMB@JPY                                                                                                                                                         | 일본_엔(100)                                                                                                                                                    |                                                                                                                                                                 |                                                                                                                                                                 | NA                                                                                                                                                              | \n",
       "|                                                                                                                                                                 | 112                                                                                                                                                             | 20180817                                                                                                                                                        | 73855                                                                                                                                                           |                                                                                                                                                                 | NA                                                                                                                                                              | \n",
       "\n",
       "\n"
      ],
      "text/plain": [
       "  CUSTOMER_ID ISSUE_CD ISSUE_NAME  \n",
       "1 CUST_118    SMB@EUR  유로통화    \n",
       "2             112      20180814    \n",
       "3 CUST_118    SMB@EUR  유로통화    \n",
       "4             112      20180814    \n",
       "5 CUST_118    SMB@JPY  일본_엔(100)\n",
       "6             112      20180817    \n",
       "  MARKET_ID                                                                                                                                                      \n",
       "1                                                                                                                                                                \n",
       "2 80432                                                                                                                                                          \n",
       "3                                                                                                                                                                \n",
       "4 80433                                                                                                                                                          \n",
       "5                                                                                                                                                                \n",
       "6 73855                                                                                                                                                          \n",
       "  QUERY_DATE QUERY_TIME\n",
       "1            NA        \n",
       "2            NA        \n",
       "3            NA        \n",
       "4            NA        \n",
       "5            NA        \n",
       "6            NA        "
      ]
     },
     "metadata": {},
     "output_type": "display_data"
    },
    {
     "data": {
      "text/html": [
       "<table>\n",
       "<thead><tr><th></th><th scope=col>CUSTOMER_ID</th><th scope=col>ISSUE_CD</th><th scope=col>ISSUE_NAME</th><th scope=col>MARKET_ID</th><th scope=col>QUERY_DATE</th><th scope=col>QUERY_TIME</th></tr></thead>\n",
       "<tbody>\n",
       "\t<tr><th scope=row>1555</th><td>75700                                                                                                                                 </td><td>                                                                                                                                      </td><td>                                                                                                                                      </td><td>                                                                                                                                      </td><td>                                                                                                                                      </td><td>NA                                                                                                                                    </td></tr>\n",
       "\t<tr><th scope=row>1556</th><td>104420                                                                                                                                </td><td>                                                                                                                                      </td><td>                                                                                                                                      </td><td>                                                                                                                                      </td><td>                                                                                                                                      </td><td>NA                                                                                                                                    </td></tr>\n",
       "\t<tr><th scope=row>1557</th><td>75841                                                                                                                                 </td><td>                                                                                                                                      </td><td>                                                                                                                                      </td><td>                                                                                                                                      </td><td>                                                                                                                                      </td><td>NA                                                                                                                                    </td></tr>\n",
       "\t<tr><th scope=row>1558</th><td>74827                                                                                                                                 </td><td>                                                                                                                                      </td><td>                                                                                                                                      </td><td>                                                                                                                                      </td><td>                                                                                                                                      </td><td>NA                                                                                                                                    </td></tr>\n",
       "\t<tr><th scope=row>1559</th><td>91118                                                                                                                                 </td><td>                                                                                                                                      </td><td>                                                                                                                                      </td><td>                                                                                                                                      </td><td>                                                                                                                                      </td><td>NA                                                                                                                                    </td></tr>\n",
       "\t<tr><th scope=row>1560</th><td>100738                                                                                                                                </td><td>                                                                                                                                      </td><td>                                                                                                                                      </td><td>                                                                                                                                      </td><td>                                                                                                                                      </td><td>NA                                                                                                                                    </td></tr>\n",
       "</tbody>\n",
       "</table>\n"
      ],
      "text/latex": [
       "\\begin{tabular}{r|llllll}\n",
       "  & CUSTOMER\\_ID & ISSUE\\_CD & ISSUE\\_NAME & MARKET\\_ID & QUERY\\_DATE & QUERY\\_TIME\\\\\n",
       "\\hline\n",
       "\t1555 & 75700                                                                                                                                  &                                                                                                                                        &                                                                                                                                        &                                                                                                                                        &                                                                                                                                        & NA                                                                                                                                    \\\\\n",
       "\t1556 & 104420                                                                                                                                 &                                                                                                                                        &                                                                                                                                        &                                                                                                                                        &                                                                                                                                        & NA                                                                                                                                    \\\\\n",
       "\t1557 & 75841                                                                                                                                  &                                                                                                                                        &                                                                                                                                        &                                                                                                                                        &                                                                                                                                        & NA                                                                                                                                    \\\\\n",
       "\t1558 & 74827                                                                                                                                  &                                                                                                                                        &                                                                                                                                        &                                                                                                                                        &                                                                                                                                        & NA                                                                                                                                    \\\\\n",
       "\t1559 & 91118                                                                                                                                  &                                                                                                                                        &                                                                                                                                        &                                                                                                                                        &                                                                                                                                        & NA                                                                                                                                    \\\\\n",
       "\t1560 & 100738                                                                                                                                 &                                                                                                                                        &                                                                                                                                        &                                                                                                                                        &                                                                                                                                        & NA                                                                                                                                    \\\\\n",
       "\\end{tabular}\n"
      ],
      "text/markdown": [
       "\n",
       "| <!--/--> | CUSTOMER_ID | ISSUE_CD | ISSUE_NAME | MARKET_ID | QUERY_DATE | QUERY_TIME | \n",
       "|---|---|---|---|---|---|\n",
       "| 1555 | 75700                                                                                                                                  |                                                                                                                                        |                                                                                                                                        |                                                                                                                                        |                                                                                                                                        | NA                                                                                                                                     | \n",
       "| 1556 | 104420                                                                                                                                 |                                                                                                                                        |                                                                                                                                        |                                                                                                                                        |                                                                                                                                        | NA                                                                                                                                     | \n",
       "| 1557 | 75841                                                                                                                                  |                                                                                                                                        |                                                                                                                                        |                                                                                                                                        |                                                                                                                                        | NA                                                                                                                                     | \n",
       "| 1558 | 74827                                                                                                                                  |                                                                                                                                        |                                                                                                                                        |                                                                                                                                        |                                                                                                                                        | NA                                                                                                                                     | \n",
       "| 1559 | 91118                                                                                                                                  |                                                                                                                                        |                                                                                                                                        |                                                                                                                                        |                                                                                                                                        | NA                                                                                                                                     | \n",
       "| 1560 | 100738                                                                                                                                 |                                                                                                                                        |                                                                                                                                        |                                                                                                                                        |                                                                                                                                        | NA                                                                                                                                     | \n",
       "\n",
       "\n"
      ],
      "text/plain": [
       "     CUSTOMER_ID                                                                                                                           \n",
       "1555 75700                                                                                                                                 \n",
       "1556 104420                                                                                                                                \n",
       "1557 75841                                                                                                                                 \n",
       "1558 74827                                                                                                                                 \n",
       "1559 91118                                                                                                                                 \n",
       "1560 100738                                                                                                                                \n",
       "     ISSUE_CD ISSUE_NAME MARKET_ID QUERY_DATE QUERY_TIME\n",
       "1555                                          NA        \n",
       "1556                                          NA        \n",
       "1557                                          NA        \n",
       "1558                                          NA        \n",
       "1559                                          NA        \n",
       "1560                                          NA        "
      ]
     },
     "metadata": {},
     "output_type": "display_data"
    }
   ],
   "source": [
    "head(filter(cust, nchar(as.character(cust$QUERY_DATE)) == 0))\n",
    "tail(filter(cust, nchar(as.character(cust$QUERY_DATE)) == 0))"
   ]
  },
  {
   "cell_type": "markdown",
   "metadata": {},
   "source": [
    "### head()의 경우의 데이터가 임의의 개행으로 밀린 것을 확인 할 수 있음\n",
    "### tail()의 경우 시간 값으로 추정되고 밀린 데이터가 개행 된 것으로 추정\n",
    "### head의 경우 엑셀로 작업 wrong.csv로 전처리\n",
    "### taild의 경우 데이터가 2칸 밀린 경우와 1칸 밀린 경우로 나누어  처리\n",
    "#### * 2칸 밀린 경우 date_time.csv로 처리\n",
    "#### * 1칸 밀린 경우 time.csv로 처리\n",
    "#### * 밀린 애들은 나중에 당길때 뒤에 붙일 예정"
   ]
  },
  {
   "cell_type": "code",
   "execution_count": 63,
   "metadata": {},
   "outputs": [
    {
     "data": {
      "text/html": [
       "<table>\n",
       "<thead><tr><th scope=col>X</th><th scope=col>CUSTOMER_ID</th><th scope=col>ISSUE_CD</th><th scope=col>ISSUE_NAME</th><th scope=col>MARKET_ID</th><th scope=col>QUERY_DATE</th><th scope=col>QUERY_TIME</th></tr></thead>\n",
       "<tbody>\n",
       "\t<tr><td>1           </td><td>CUST_118    </td><td>SMB@EUR     </td><td>유로통화    </td><td>112         </td><td>20180814    </td><td>80432       </td></tr>\n",
       "\t<tr><td>2           </td><td>CUST_118    </td><td>SMB@EUR     </td><td>유로통화    </td><td>112         </td><td>20180814    </td><td>80433       </td></tr>\n",
       "\t<tr><td>3           </td><td>CUST_118    </td><td>SMB@JPY     </td><td>일본_엔(100)</td><td>112         </td><td>20180817    </td><td>73855       </td></tr>\n",
       "\t<tr><td>4           </td><td>CUST_118    </td><td>SMB@JPY     </td><td>일본_엔(100)</td><td>112         </td><td>20180814    </td><td>80432       </td></tr>\n",
       "\t<tr><td>5           </td><td>CUST_118    </td><td>SMB@JPY     </td><td>일본_엔(100)</td><td>112         </td><td>20180813    </td><td>90331       </td></tr>\n",
       "\t<tr><td>6           </td><td>CUST_118    </td><td>SMB@JPY     </td><td>일본_엔(100)</td><td>112         </td><td>20180814    </td><td>75549       </td></tr>\n",
       "</tbody>\n",
       "</table>\n"
      ],
      "text/latex": [
       "\\begin{tabular}{r|lllllll}\n",
       " X & CUSTOMER\\_ID & ISSUE\\_CD & ISSUE\\_NAME & MARKET\\_ID & QUERY\\_DATE & QUERY\\_TIME\\\\\n",
       "\\hline\n",
       "\t 1            & CUST\\_118   & SMB@EUR      & 유로통화     & 112          & 20180814     & 80432       \\\\\n",
       "\t 2            & CUST\\_118   & SMB@EUR      & 유로통화     & 112          & 20180814     & 80433       \\\\\n",
       "\t 3              & CUST\\_118     & SMB@JPY        & 일본\\_엔(100) & 112            & 20180817       & 73855         \\\\\n",
       "\t 4              & CUST\\_118     & SMB@JPY        & 일본\\_엔(100) & 112            & 20180814       & 80432         \\\\\n",
       "\t 5              & CUST\\_118     & SMB@JPY        & 일본\\_엔(100) & 112            & 20180813       & 90331         \\\\\n",
       "\t 6              & CUST\\_118     & SMB@JPY        & 일본\\_엔(100) & 112            & 20180814       & 75549         \\\\\n",
       "\\end{tabular}\n"
      ],
      "text/markdown": [
       "\n",
       "X | CUSTOMER_ID | ISSUE_CD | ISSUE_NAME | MARKET_ID | QUERY_DATE | QUERY_TIME | \n",
       "|---|---|---|---|---|---|\n",
       "| 1            | CUST_118     | SMB@EUR      | 유로통화     | 112          | 20180814     | 80432        | \n",
       "| 2            | CUST_118     | SMB@EUR      | 유로통화     | 112          | 20180814     | 80433        | \n",
       "| 3            | CUST_118     | SMB@JPY      | 일본_엔(100) | 112          | 20180817     | 73855        | \n",
       "| 4            | CUST_118     | SMB@JPY      | 일본_엔(100) | 112          | 20180814     | 80432        | \n",
       "| 5            | CUST_118     | SMB@JPY      | 일본_엔(100) | 112          | 20180813     | 90331        | \n",
       "| 6            | CUST_118     | SMB@JPY      | 일본_엔(100) | 112          | 20180814     | 75549        | \n",
       "\n",
       "\n"
      ],
      "text/plain": [
       "  X CUSTOMER_ID ISSUE_CD ISSUE_NAME   MARKET_ID QUERY_DATE QUERY_TIME\n",
       "1 1 CUST_118    SMB@EUR  유로통화     112       20180814   80432     \n",
       "2 2 CUST_118    SMB@EUR  유로통화     112       20180814   80433     \n",
       "3 3 CUST_118    SMB@JPY  일본_엔(100) 112       20180817   73855     \n",
       "4 4 CUST_118    SMB@JPY  일본_엔(100) 112       20180814   80432     \n",
       "5 5 CUST_118    SMB@JPY  일본_엔(100) 112       20180813   90331     \n",
       "6 6 CUST_118    SMB@JPY  일본_엔(100) 112       20180814   75549     "
      ]
     },
     "metadata": {},
     "output_type": "display_data"
    }
   ],
   "source": [
    "wrong <- read.csv('C:\\\\Users\\\\진수빈\\\\Desktop\\\\customer_0813_0817_TOP500_no_quotation_v2\\\\wrong.csv')\n",
    "head(wrong)"
   ]
  },
  {
   "cell_type": "code",
   "execution_count": 16,
   "metadata": {},
   "outputs": [
    {
     "data": {
      "text/html": [
       "<table>\n",
       "<thead><tr><th scope=col>癤풯UERY_DATE</th><th scope=col>QUERY_TIME</th></tr></thead>\n",
       "<tbody>\n",
       "\t<tr><td>20180814</td><td>100738  </td></tr>\n",
       "\t<tr><td>20180816</td><td>162110  </td></tr>\n",
       "\t<tr><td>20180813</td><td> 74826  </td></tr>\n",
       "\t<tr><td>20180816</td><td> 94243  </td></tr>\n",
       "\t<tr><td>20180813</td><td> 91117  </td></tr>\n",
       "\t<tr><td>20180817</td><td>104419  </td></tr>\n",
       "</tbody>\n",
       "</table>\n"
      ],
      "text/latex": [
       "\\begin{tabular}{r|ll}\n",
       " 癤풯UERY\\_DATE & QUERY\\_TIME\\\\\n",
       "\\hline\n",
       "\t 20180814 & 100738  \\\\\n",
       "\t 20180816 & 162110  \\\\\n",
       "\t 20180813 &  74826  \\\\\n",
       "\t 20180816 &  94243  \\\\\n",
       "\t 20180813 &  91117  \\\\\n",
       "\t 20180817 & 104419  \\\\\n",
       "\\end{tabular}\n"
      ],
      "text/markdown": [
       "\n",
       "癤풯UERY_DATE | QUERY_TIME | \n",
       "|---|---|---|---|---|---|\n",
       "| 20180814 | 100738   | \n",
       "| 20180816 | 162110   | \n",
       "| 20180813 |  74826   | \n",
       "| 20180816 |  94243   | \n",
       "| 20180813 |  91117   | \n",
       "| 20180817 | 104419   | \n",
       "\n",
       "\n"
      ],
      "text/plain": [
       "  癤풯UERY_DATE QUERY_TIME\n",
       "1 20180814      100738    \n",
       "2 20180816      162110    \n",
       "3 20180813       74826    \n",
       "4 20180816       94243    \n",
       "5 20180813       91117    \n",
       "6 20180817      104419    "
      ]
     },
     "metadata": {},
     "output_type": "display_data"
    }
   ],
   "source": [
    "time_date <- read.csv('C:\\\\Users\\\\진수빈\\\\Desktop\\\\customer_0813_0817_TOP500_no_quotation_v2\\\\time_date.csv')\n",
    "head(time_date)"
   ]
  },
  {
   "cell_type": "code",
   "execution_count": 46,
   "metadata": {},
   "outputs": [
    {
     "data": {
      "text/html": [
       "<table>\n",
       "<thead><tr><th scope=col>癤풯UERY_TIME</th></tr></thead>\n",
       "<tbody>\n",
       "\t<tr><td>111101</td></tr>\n",
       "\t<tr><td>172431</td></tr>\n",
       "\t<tr><td>111201</td></tr>\n",
       "\t<tr><td>111158</td></tr>\n",
       "\t<tr><td>172431</td></tr>\n",
       "\t<tr><td>111101</td></tr>\n",
       "</tbody>\n",
       "</table>\n"
      ],
      "text/latex": [
       "\\begin{tabular}{r|l}\n",
       " 癤풯UERY\\_TIME\\\\\n",
       "\\hline\n",
       "\t 111101\\\\\n",
       "\t 172431\\\\\n",
       "\t 111201\\\\\n",
       "\t 111158\\\\\n",
       "\t 172431\\\\\n",
       "\t 111101\\\\\n",
       "\\end{tabular}\n"
      ],
      "text/markdown": [
       "\n",
       "癤풯UERY_TIME | \n",
       "|---|---|---|---|---|---|\n",
       "| 111101 | \n",
       "| 172431 | \n",
       "| 111201 | \n",
       "| 111158 | \n",
       "| 172431 | \n",
       "| 111101 | \n",
       "\n",
       "\n"
      ],
      "text/plain": [
       "  癤풯UERY_TIME\n",
       "1 111101       \n",
       "2 172431       \n",
       "3 111201       \n",
       "4 111158       \n",
       "5 172431       \n",
       "6 111101       "
      ]
     },
     "metadata": {},
     "output_type": "display_data"
    }
   ],
   "source": [
    "time2 <- read.csv('C:\\\\Users\\\\진수빈\\\\Desktop\\\\customer_0813_0817_TOP500_no_quotation_v2\\\\time.csv')\n",
    "head(time)"
   ]
  },
  {
   "cell_type": "markdown",
   "metadata": {},
   "source": [
    "### 2. QD = 9인 경우\n",
    "#### MI, QD 자리에 ISSUE_NAME이 들어간 것 확인\n",
    "#### 2칸 밀린 경우임 -> date_time.csv와 병합 가능"
   ]
  },
  {
   "cell_type": "code",
   "execution_count": 18,
   "metadata": {},
   "outputs": [
    {
     "data": {
      "text/html": [
       "<table>\n",
       "<thead><tr><th scope=col>CUSTOMER_ID</th><th scope=col>ISSUE_CD</th><th scope=col>ISSUE_NAME</th><th scope=col>MARKET_ID</th><th scope=col>QUERY_DATE</th><th scope=col>QUERY_TIME</th></tr></thead>\n",
       "<tbody>\n",
       "\t<tr><td>CUST_60              </td><td>211N4037             </td><td>삼성전자   C 201804 2</td><td>450                  </td><td>000(  10)            </td><td>12                   </td></tr>\n",
       "\t<tr><td>CUST_60              </td><td>211N4037             </td><td>삼성전자   C 201804 2</td><td>450                  </td><td>000(  10)            </td><td>12                   </td></tr>\n",
       "\t<tr><td>CUST_60              </td><td>211N4037             </td><td>삼성전자   C 201804 2</td><td>450                  </td><td>000(  10)            </td><td>12                   </td></tr>\n",
       "\t<tr><td>CUST_60              </td><td>211N4037             </td><td>삼성전자   C 201804 2</td><td>450                  </td><td>000(  10)            </td><td>12                   </td></tr>\n",
       "\t<tr><td>CUST_60              </td><td>211N4037             </td><td>삼성전자   C 201804 2</td><td>450                  </td><td>000(  10)            </td><td>12                   </td></tr>\n",
       "\t<tr><td>CUST_60              </td><td>211N4037             </td><td>삼성전자   C 201804 2</td><td>450                  </td><td>000(  10)            </td><td>12                   </td></tr>\n",
       "</tbody>\n",
       "</table>\n"
      ],
      "text/latex": [
       "\\begin{tabular}{r|llllll}\n",
       " CUSTOMER\\_ID & ISSUE\\_CD & ISSUE\\_NAME & MARKET\\_ID & QUERY\\_DATE & QUERY\\_TIME\\\\\n",
       "\\hline\n",
       "\t CUST\\_60             & 211N4037              & 삼성전자   C 201804 2 & 450                   & 000(  10)             & 12                   \\\\\n",
       "\t CUST\\_60             & 211N4037              & 삼성전자   C 201804 2 & 450                   & 000(  10)             & 12                   \\\\\n",
       "\t CUST\\_60             & 211N4037              & 삼성전자   C 201804 2 & 450                   & 000(  10)             & 12                   \\\\\n",
       "\t CUST\\_60             & 211N4037              & 삼성전자   C 201804 2 & 450                   & 000(  10)             & 12                   \\\\\n",
       "\t CUST\\_60             & 211N4037              & 삼성전자   C 201804 2 & 450                   & 000(  10)             & 12                   \\\\\n",
       "\t CUST\\_60             & 211N4037              & 삼성전자   C 201804 2 & 450                   & 000(  10)             & 12                   \\\\\n",
       "\\end{tabular}\n"
      ],
      "text/markdown": [
       "\n",
       "CUSTOMER_ID | ISSUE_CD | ISSUE_NAME | MARKET_ID | QUERY_DATE | QUERY_TIME | \n",
       "|---|---|---|---|---|---|\n",
       "| CUST_60               | 211N4037              | 삼성전자   C 201804 2 | 450                   | 000(  10)             | 12                    | \n",
       "| CUST_60               | 211N4037              | 삼성전자   C 201804 2 | 450                   | 000(  10)             | 12                    | \n",
       "| CUST_60               | 211N4037              | 삼성전자   C 201804 2 | 450                   | 000(  10)             | 12                    | \n",
       "| CUST_60               | 211N4037              | 삼성전자   C 201804 2 | 450                   | 000(  10)             | 12                    | \n",
       "| CUST_60               | 211N4037              | 삼성전자   C 201804 2 | 450                   | 000(  10)             | 12                    | \n",
       "| CUST_60               | 211N4037              | 삼성전자   C 201804 2 | 450                   | 000(  10)             | 12                    | \n",
       "\n",
       "\n"
      ],
      "text/plain": [
       "  CUSTOMER_ID ISSUE_CD ISSUE_NAME            MARKET_ID QUERY_DATE QUERY_TIME\n",
       "1 CUST_60     211N4037 삼성전자   C 201804 2 450       000(  10)  12        \n",
       "2 CUST_60     211N4037 삼성전자   C 201804 2 450       000(  10)  12        \n",
       "3 CUST_60     211N4037 삼성전자   C 201804 2 450       000(  10)  12        \n",
       "4 CUST_60     211N4037 삼성전자   C 201804 2 450       000(  10)  12        \n",
       "5 CUST_60     211N4037 삼성전자   C 201804 2 450       000(  10)  12        \n",
       "6 CUST_60     211N4037 삼성전자   C 201804 2 450       000(  10)  12        "
      ]
     },
     "metadata": {},
     "output_type": "display_data"
    }
   ],
   "source": [
    "head(filter(cust, nchar(as.character(cust$QUERY_DATE)) == 9))"
   ]
  },
  {
   "cell_type": "markdown",
   "metadata": {},
   "source": [
    "#### 두칸 밀린 데이터를 cust2로 따로 저장하고 처리"
   ]
  },
  {
   "cell_type": "code",
   "execution_count": 21,
   "metadata": {},
   "outputs": [
    {
     "data": {
      "text/html": [
       "<table>\n",
       "<thead><tr><th scope=col>CUSTOMER_ID</th><th scope=col>ISSUE_CD</th><th scope=col>ISSUE_NAME</th><th scope=col>MARKET_ID</th><th scope=col>QUERY_DATE</th><th scope=col>QUERY_TIME</th></tr></thead>\n",
       "<tbody>\n",
       "\t<tr><td>CUST_60                          </td><td>211N4037                         </td><td>삼성전자   C 201804 2450000(  10)</td><td>450                              </td><td>000(  10)                        </td><td>12                               </td></tr>\n",
       "\t<tr><td>CUST_60                          </td><td>211N4037                         </td><td>삼성전자   C 201804 2450000(  10)</td><td>450                              </td><td>000(  10)                        </td><td>12                               </td></tr>\n",
       "\t<tr><td>CUST_60                          </td><td>211N4037                         </td><td>삼성전자   C 201804 2450000(  10)</td><td>450                              </td><td>000(  10)                        </td><td>12                               </td></tr>\n",
       "\t<tr><td>CUST_60                          </td><td>211N4037                         </td><td>삼성전자   C 201804 2450000(  10)</td><td>450                              </td><td>000(  10)                        </td><td>12                               </td></tr>\n",
       "\t<tr><td>CUST_60                          </td><td>211N4037                         </td><td>삼성전자   C 201804 2450000(  10)</td><td>450                              </td><td>000(  10)                        </td><td>12                               </td></tr>\n",
       "\t<tr><td>CUST_60                          </td><td>211N4037                         </td><td>삼성전자   C 201804 2450000(  10)</td><td>450                              </td><td>000(  10)                        </td><td>12                               </td></tr>\n",
       "</tbody>\n",
       "</table>\n"
      ],
      "text/latex": [
       "\\begin{tabular}{r|llllll}\n",
       " CUSTOMER\\_ID & ISSUE\\_CD & ISSUE\\_NAME & MARKET\\_ID & QUERY\\_DATE & QUERY\\_TIME\\\\\n",
       "\\hline\n",
       "\t CUST\\_60                         & 211N4037                          & 삼성전자   C 201804 2450000(  10) & 450                               & 000(  10)                         & 12                               \\\\\n",
       "\t CUST\\_60                         & 211N4037                          & 삼성전자   C 201804 2450000(  10) & 450                               & 000(  10)                         & 12                               \\\\\n",
       "\t CUST\\_60                         & 211N4037                          & 삼성전자   C 201804 2450000(  10) & 450                               & 000(  10)                         & 12                               \\\\\n",
       "\t CUST\\_60                         & 211N4037                          & 삼성전자   C 201804 2450000(  10) & 450                               & 000(  10)                         & 12                               \\\\\n",
       "\t CUST\\_60                         & 211N4037                          & 삼성전자   C 201804 2450000(  10) & 450                               & 000(  10)                         & 12                               \\\\\n",
       "\t CUST\\_60                         & 211N4037                          & 삼성전자   C 201804 2450000(  10) & 450                               & 000(  10)                         & 12                               \\\\\n",
       "\\end{tabular}\n"
      ],
      "text/markdown": [
       "\n",
       "CUSTOMER_ID | ISSUE_CD | ISSUE_NAME | MARKET_ID | QUERY_DATE | QUERY_TIME | \n",
       "|---|---|---|---|---|---|\n",
       "| CUST_60                           | 211N4037                          | 삼성전자   C 201804 2450000(  10) | 450                               | 000(  10)                         | 12                                | \n",
       "| CUST_60                           | 211N4037                          | 삼성전자   C 201804 2450000(  10) | 450                               | 000(  10)                         | 12                                | \n",
       "| CUST_60                           | 211N4037                          | 삼성전자   C 201804 2450000(  10) | 450                               | 000(  10)                         | 12                                | \n",
       "| CUST_60                           | 211N4037                          | 삼성전자   C 201804 2450000(  10) | 450                               | 000(  10)                         | 12                                | \n",
       "| CUST_60                           | 211N4037                          | 삼성전자   C 201804 2450000(  10) | 450                               | 000(  10)                         | 12                                | \n",
       "| CUST_60                           | 211N4037                          | 삼성전자   C 201804 2450000(  10) | 450                               | 000(  10)                         | 12                                | \n",
       "\n",
       "\n"
      ],
      "text/plain": [
       "  CUSTOMER_ID ISSUE_CD ISSUE_NAME                        MARKET_ID QUERY_DATE\n",
       "1 CUST_60     211N4037 삼성전자   C 201804 2450000(  10) 450       000(  10) \n",
       "2 CUST_60     211N4037 삼성전자   C 201804 2450000(  10) 450       000(  10) \n",
       "3 CUST_60     211N4037 삼성전자   C 201804 2450000(  10) 450       000(  10) \n",
       "4 CUST_60     211N4037 삼성전자   C 201804 2450000(  10) 450       000(  10) \n",
       "5 CUST_60     211N4037 삼성전자   C 201804 2450000(  10) 450       000(  10) \n",
       "6 CUST_60     211N4037 삼성전자   C 201804 2450000(  10) 450       000(  10) \n",
       "  QUERY_TIME\n",
       "1 12        \n",
       "2 12        \n",
       "3 12        \n",
       "4 12        \n",
       "5 12        \n",
       "6 12        "
      ]
     },
     "metadata": {},
     "output_type": "display_data"
    }
   ],
   "source": [
    "cust2 <- filter(cust, nchar(as.character(cust$QUERY_DATE)) == 9)\n",
    "cust2$ISSUE_NAME <- paste0(cust2$ISSUE_NAME, cust2$MARKET_ID, cust2$QUERY_DATE)\n",
    "head(cust2)"
   ]
  },
  {
   "cell_type": "code",
   "execution_count": 24,
   "metadata": {},
   "outputs": [
    {
     "data": {
      "text/html": [
       "<table>\n",
       "<thead><tr><th scope=col>CUSTOMER_ID</th><th scope=col>ISSUE_CD</th><th scope=col>ISSUE_NAME</th><th scope=col>MARKET_ID</th><th scope=col>QUERY_DATE</th><th scope=col>QUERY_TIME</th></tr></thead>\n",
       "<tbody>\n",
       "\t<tr><td>CUST_60                          </td><td>211N4037                         </td><td>삼성전자   C 201804 2450000(  10)</td><td>12                               </td><td>000(  10)                        </td><td>12                               </td></tr>\n",
       "\t<tr><td>CUST_60                          </td><td>211N4037                         </td><td>삼성전자   C 201804 2450000(  10)</td><td>12                               </td><td>000(  10)                        </td><td>12                               </td></tr>\n",
       "\t<tr><td>CUST_60                          </td><td>211N4037                         </td><td>삼성전자   C 201804 2450000(  10)</td><td>12                               </td><td>000(  10)                        </td><td>12                               </td></tr>\n",
       "\t<tr><td>CUST_60                          </td><td>211N4037                         </td><td>삼성전자   C 201804 2450000(  10)</td><td>12                               </td><td>000(  10)                        </td><td>12                               </td></tr>\n",
       "\t<tr><td>CUST_60                          </td><td>211N4037                         </td><td>삼성전자   C 201804 2450000(  10)</td><td>12                               </td><td>000(  10)                        </td><td>12                               </td></tr>\n",
       "\t<tr><td>CUST_60                          </td><td>211N4037                         </td><td>삼성전자   C 201804 2450000(  10)</td><td>12                               </td><td>000(  10)                        </td><td>12                               </td></tr>\n",
       "</tbody>\n",
       "</table>\n"
      ],
      "text/latex": [
       "\\begin{tabular}{r|llllll}\n",
       " CUSTOMER\\_ID & ISSUE\\_CD & ISSUE\\_NAME & MARKET\\_ID & QUERY\\_DATE & QUERY\\_TIME\\\\\n",
       "\\hline\n",
       "\t CUST\\_60                         & 211N4037                          & 삼성전자   C 201804 2450000(  10) & 12                                & 000(  10)                         & 12                               \\\\\n",
       "\t CUST\\_60                         & 211N4037                          & 삼성전자   C 201804 2450000(  10) & 12                                & 000(  10)                         & 12                               \\\\\n",
       "\t CUST\\_60                         & 211N4037                          & 삼성전자   C 201804 2450000(  10) & 12                                & 000(  10)                         & 12                               \\\\\n",
       "\t CUST\\_60                         & 211N4037                          & 삼성전자   C 201804 2450000(  10) & 12                                & 000(  10)                         & 12                               \\\\\n",
       "\t CUST\\_60                         & 211N4037                          & 삼성전자   C 201804 2450000(  10) & 12                                & 000(  10)                         & 12                               \\\\\n",
       "\t CUST\\_60                         & 211N4037                          & 삼성전자   C 201804 2450000(  10) & 12                                & 000(  10)                         & 12                               \\\\\n",
       "\\end{tabular}\n"
      ],
      "text/markdown": [
       "\n",
       "CUSTOMER_ID | ISSUE_CD | ISSUE_NAME | MARKET_ID | QUERY_DATE | QUERY_TIME | \n",
       "|---|---|---|---|---|---|\n",
       "| CUST_60                           | 211N4037                          | 삼성전자   C 201804 2450000(  10) | 12                                | 000(  10)                         | 12                                | \n",
       "| CUST_60                           | 211N4037                          | 삼성전자   C 201804 2450000(  10) | 12                                | 000(  10)                         | 12                                | \n",
       "| CUST_60                           | 211N4037                          | 삼성전자   C 201804 2450000(  10) | 12                                | 000(  10)                         | 12                                | \n",
       "| CUST_60                           | 211N4037                          | 삼성전자   C 201804 2450000(  10) | 12                                | 000(  10)                         | 12                                | \n",
       "| CUST_60                           | 211N4037                          | 삼성전자   C 201804 2450000(  10) | 12                                | 000(  10)                         | 12                                | \n",
       "| CUST_60                           | 211N4037                          | 삼성전자   C 201804 2450000(  10) | 12                                | 000(  10)                         | 12                                | \n",
       "\n",
       "\n"
      ],
      "text/plain": [
       "  CUSTOMER_ID ISSUE_CD ISSUE_NAME                        MARKET_ID QUERY_DATE\n",
       "1 CUST_60     211N4037 삼성전자   C 201804 2450000(  10) 12        000(  10) \n",
       "2 CUST_60     211N4037 삼성전자   C 201804 2450000(  10) 12        000(  10) \n",
       "3 CUST_60     211N4037 삼성전자   C 201804 2450000(  10) 12        000(  10) \n",
       "4 CUST_60     211N4037 삼성전자   C 201804 2450000(  10) 12        000(  10) \n",
       "5 CUST_60     211N4037 삼성전자   C 201804 2450000(  10) 12        000(  10) \n",
       "6 CUST_60     211N4037 삼성전자   C 201804 2450000(  10) 12        000(  10) \n",
       "  QUERY_TIME\n",
       "1 12        \n",
       "2 12        \n",
       "3 12        \n",
       "4 12        \n",
       "5 12        \n",
       "6 12        "
      ]
     },
     "metadata": {},
     "output_type": "display_data"
    }
   ],
   "source": [
    "cust2$MARKET_ID <- cust2$QUERY_TIME\n",
    "head(cust2)"
   ]
  },
  {
   "cell_type": "code",
   "execution_count": 27,
   "metadata": {},
   "outputs": [],
   "source": [
    "cust2$QUERY_DATE <- time_date$癤풯UERY_DATE\n",
    "cust2$QUERY_TIME <- time_date$QUERY_TIME"
   ]
  },
  {
   "cell_type": "code",
   "execution_count": 28,
   "metadata": {},
   "outputs": [
    {
     "data": {
      "text/html": [
       "<table>\n",
       "<thead><tr><th scope=col>CUSTOMER_ID</th><th scope=col>ISSUE_CD</th><th scope=col>ISSUE_NAME</th><th scope=col>MARKET_ID</th><th scope=col>QUERY_DATE</th><th scope=col>QUERY_TIME</th></tr></thead>\n",
       "<tbody>\n",
       "\t<tr><td>CUST_60                          </td><td>211N4037                         </td><td>삼성전자   C 201804 2450000(  10)</td><td>12                               </td><td>20180814                         </td><td>100738                           </td></tr>\n",
       "\t<tr><td>CUST_60                          </td><td>211N4037                         </td><td>삼성전자   C 201804 2450000(  10)</td><td>12                               </td><td>20180816                         </td><td>162110                           </td></tr>\n",
       "\t<tr><td>CUST_60                          </td><td>211N4037                         </td><td>삼성전자   C 201804 2450000(  10)</td><td>12                               </td><td>20180813                         </td><td> 74826                           </td></tr>\n",
       "\t<tr><td>CUST_60                          </td><td>211N4037                         </td><td>삼성전자   C 201804 2450000(  10)</td><td>12                               </td><td>20180816                         </td><td> 94243                           </td></tr>\n",
       "\t<tr><td>CUST_60                          </td><td>211N4037                         </td><td>삼성전자   C 201804 2450000(  10)</td><td>12                               </td><td>20180813                         </td><td> 91117                           </td></tr>\n",
       "\t<tr><td>CUST_60                          </td><td>211N4037                         </td><td>삼성전자   C 201804 2450000(  10)</td><td>12                               </td><td>20180817                         </td><td>104419                           </td></tr>\n",
       "</tbody>\n",
       "</table>\n"
      ],
      "text/latex": [
       "\\begin{tabular}{r|llllll}\n",
       " CUSTOMER\\_ID & ISSUE\\_CD & ISSUE\\_NAME & MARKET\\_ID & QUERY\\_DATE & QUERY\\_TIME\\\\\n",
       "\\hline\n",
       "\t CUST\\_60                         & 211N4037                          & 삼성전자   C 201804 2450000(  10) & 12                                & 20180814                          & 100738                           \\\\\n",
       "\t CUST\\_60                         & 211N4037                          & 삼성전자   C 201804 2450000(  10) & 12                                & 20180816                          & 162110                           \\\\\n",
       "\t CUST\\_60                         & 211N4037                          & 삼성전자   C 201804 2450000(  10) & 12                                & 20180813                          &  74826                           \\\\\n",
       "\t CUST\\_60                         & 211N4037                          & 삼성전자   C 201804 2450000(  10) & 12                                & 20180816                          &  94243                           \\\\\n",
       "\t CUST\\_60                         & 211N4037                          & 삼성전자   C 201804 2450000(  10) & 12                                & 20180813                          &  91117                           \\\\\n",
       "\t CUST\\_60                         & 211N4037                          & 삼성전자   C 201804 2450000(  10) & 12                                & 20180817                          & 104419                           \\\\\n",
       "\\end{tabular}\n"
      ],
      "text/markdown": [
       "\n",
       "CUSTOMER_ID | ISSUE_CD | ISSUE_NAME | MARKET_ID | QUERY_DATE | QUERY_TIME | \n",
       "|---|---|---|---|---|---|\n",
       "| CUST_60                           | 211N4037                          | 삼성전자   C 201804 2450000(  10) | 12                                | 20180814                          | 100738                            | \n",
       "| CUST_60                           | 211N4037                          | 삼성전자   C 201804 2450000(  10) | 12                                | 20180816                          | 162110                            | \n",
       "| CUST_60                           | 211N4037                          | 삼성전자   C 201804 2450000(  10) | 12                                | 20180813                          |  74826                            | \n",
       "| CUST_60                           | 211N4037                          | 삼성전자   C 201804 2450000(  10) | 12                                | 20180816                          |  94243                            | \n",
       "| CUST_60                           | 211N4037                          | 삼성전자   C 201804 2450000(  10) | 12                                | 20180813                          |  91117                            | \n",
       "| CUST_60                           | 211N4037                          | 삼성전자   C 201804 2450000(  10) | 12                                | 20180817                          | 104419                            | \n",
       "\n",
       "\n"
      ],
      "text/plain": [
       "  CUSTOMER_ID ISSUE_CD ISSUE_NAME                        MARKET_ID QUERY_DATE\n",
       "1 CUST_60     211N4037 삼성전자   C 201804 2450000(  10) 12        20180814  \n",
       "2 CUST_60     211N4037 삼성전자   C 201804 2450000(  10) 12        20180816  \n",
       "3 CUST_60     211N4037 삼성전자   C 201804 2450000(  10) 12        20180813  \n",
       "4 CUST_60     211N4037 삼성전자   C 201804 2450000(  10) 12        20180816  \n",
       "5 CUST_60     211N4037 삼성전자   C 201804 2450000(  10) 12        20180813  \n",
       "6 CUST_60     211N4037 삼성전자   C 201804 2450000(  10) 12        20180817  \n",
       "  QUERY_TIME\n",
       "1 100738    \n",
       "2 162110    \n",
       "3  74826    \n",
       "4  94243    \n",
       "5  91117    \n",
       "6 104419    "
      ]
     },
     "metadata": {},
     "output_type": "display_data"
    }
   ],
   "source": [
    "head(cust2)"
   ]
  },
  {
   "cell_type": "markdown",
   "metadata": {},
   "source": [
    "#### QD = 9 인 경우 처리 완료"
   ]
  },
  {
   "cell_type": "markdown",
   "metadata": {},
   "source": [
    "### 3. QD = 2 인 경우"
   ]
  },
  {
   "cell_type": "code",
   "execution_count": 43,
   "metadata": {},
   "outputs": [
    {
     "data": {
      "text/html": [
       "<table>\n",
       "<thead><tr><th scope=col>CUSTOMER_ID</th><th scope=col>ISSUE_CD</th><th scope=col>ISSUE_NAME</th><th scope=col>MARKET_ID</th><th scope=col>QUERY_DATE</th><th scope=col>QUERY_TIME</th></tr></thead>\n",
       "<tbody>\n",
       "\t<tr><td>CUST_163                 </td><td>211N9033                 </td><td>삼성전자   C 201809    45</td><td>000(  10)                </td><td>12                       </td><td>20180816                 </td></tr>\n",
       "\t<tr><td>CUST_163                 </td><td>211N9033                 </td><td>삼성전자   C 201809    45</td><td>000(  10)                </td><td>12                       </td><td>20180814                 </td></tr>\n",
       "\t<tr><td>CUST_163                 </td><td>211N9033                 </td><td>삼성전자   C 201809    45</td><td>000(  10)                </td><td>12                       </td><td>20180816                 </td></tr>\n",
       "\t<tr><td>CUST_163                 </td><td>2C6N9021                 </td><td>아모레퍼시 C 201809   260</td><td>000(  10)                </td><td>12                       </td><td>20180816                 </td></tr>\n",
       "\t<tr><td>CUST_163                 </td><td>2C6N9021                 </td><td>아모레퍼시 C 201809   260</td><td>000(  10)                </td><td>12                       </td><td>20180814                 </td></tr>\n",
       "\t<tr><td>CUST_163                 </td><td>2C6N9021                 </td><td>아모레퍼시 C 201809   260</td><td>000(  10)                </td><td>12                       </td><td>20180816                 </td></tr>\n",
       "</tbody>\n",
       "</table>\n"
      ],
      "text/latex": [
       "\\begin{tabular}{r|llllll}\n",
       " CUSTOMER\\_ID & ISSUE\\_CD & ISSUE\\_NAME & MARKET\\_ID & QUERY\\_DATE & QUERY\\_TIME\\\\\n",
       "\\hline\n",
       "\t CUST\\_163                & 211N9033                  & 삼성전자   C 201809    45 & 000(  10)                 & 12                        & 20180816                 \\\\\n",
       "\t CUST\\_163                & 211N9033                  & 삼성전자   C 201809    45 & 000(  10)                 & 12                        & 20180814                 \\\\\n",
       "\t CUST\\_163                & 211N9033                  & 삼성전자   C 201809    45 & 000(  10)                 & 12                        & 20180816                 \\\\\n",
       "\t CUST\\_163                & 2C6N9021                  & 아모레퍼시 C 201809   260 & 000(  10)                 & 12                        & 20180816                 \\\\\n",
       "\t CUST\\_163                & 2C6N9021                  & 아모레퍼시 C 201809   260 & 000(  10)                 & 12                        & 20180814                 \\\\\n",
       "\t CUST\\_163                & 2C6N9021                  & 아모레퍼시 C 201809   260 & 000(  10)                 & 12                        & 20180816                 \\\\\n",
       "\\end{tabular}\n"
      ],
      "text/markdown": [
       "\n",
       "CUSTOMER_ID | ISSUE_CD | ISSUE_NAME | MARKET_ID | QUERY_DATE | QUERY_TIME | \n",
       "|---|---|---|---|---|---|\n",
       "| CUST_163                  | 211N9033                  | 삼성전자   C 201809    45 | 000(  10)                 | 12                        | 20180816                  | \n",
       "| CUST_163                  | 211N9033                  | 삼성전자   C 201809    45 | 000(  10)                 | 12                        | 20180814                  | \n",
       "| CUST_163                  | 211N9033                  | 삼성전자   C 201809    45 | 000(  10)                 | 12                        | 20180816                  | \n",
       "| CUST_163                  | 2C6N9021                  | 아모레퍼시 C 201809   260 | 000(  10)                 | 12                        | 20180816                  | \n",
       "| CUST_163                  | 2C6N9021                  | 아모레퍼시 C 201809   260 | 000(  10)                 | 12                        | 20180814                  | \n",
       "| CUST_163                  | 2C6N9021                  | 아모레퍼시 C 201809   260 | 000(  10)                 | 12                        | 20180816                  | \n",
       "\n",
       "\n"
      ],
      "text/plain": [
       "  CUSTOMER_ID ISSUE_CD ISSUE_NAME                MARKET_ID QUERY_DATE\n",
       "1 CUST_163    211N9033 삼성전자   C 201809    45 000(  10) 12        \n",
       "2 CUST_163    211N9033 삼성전자   C 201809    45 000(  10) 12        \n",
       "3 CUST_163    211N9033 삼성전자   C 201809    45 000(  10) 12        \n",
       "4 CUST_163    2C6N9021 아모레퍼시 C 201809   260 000(  10) 12        \n",
       "5 CUST_163    2C6N9021 아모레퍼시 C 201809   260 000(  10) 12        \n",
       "6 CUST_163    2C6N9021 아모레퍼시 C 201809   260 000(  10) 12        \n",
       "  QUERY_TIME\n",
       "1 20180816  \n",
       "2 20180814  \n",
       "3 20180816  \n",
       "4 20180816  \n",
       "5 20180814  \n",
       "6 20180816  "
      ]
     },
     "metadata": {},
     "output_type": "display_data"
    }
   ],
   "source": [
    "cust1 <- filter(cust, nchar(as.character(cust$QUERY_DATE)) == 2)\n",
    "head(cust1)"
   ]
  },
  {
   "cell_type": "code",
   "execution_count": 44,
   "metadata": {},
   "outputs": [
    {
     "data": {
      "text/html": [
       "<table>\n",
       "<thead><tr><th scope=col>CUSTOMER_ID</th><th scope=col>ISSUE_CD</th><th scope=col>ISSUE_NAME</th><th scope=col>MARKET_ID</th><th scope=col>QUERY_DATE</th><th scope=col>QUERY_TIME</th></tr></thead>\n",
       "<tbody>\n",
       "\t<tr><td>CUST_163                          </td><td>211N9033                          </td><td>삼성전자   C 201809    45000(  10)</td><td>12                                </td><td>20180816                          </td><td>20180816                          </td></tr>\n",
       "\t<tr><td>CUST_163                          </td><td>211N9033                          </td><td>삼성전자   C 201809    45000(  10)</td><td>12                                </td><td>20180814                          </td><td>20180814                          </td></tr>\n",
       "\t<tr><td>CUST_163                          </td><td>211N9033                          </td><td>삼성전자   C 201809    45000(  10)</td><td>12                                </td><td>20180816                          </td><td>20180816                          </td></tr>\n",
       "\t<tr><td>CUST_163                          </td><td>2C6N9021                          </td><td>아모레퍼시 C 201809   260000(  10)</td><td>12                                </td><td>20180816                          </td><td>20180816                          </td></tr>\n",
       "\t<tr><td>CUST_163                          </td><td>2C6N9021                          </td><td>아모레퍼시 C 201809   260000(  10)</td><td>12                                </td><td>20180814                          </td><td>20180814                          </td></tr>\n",
       "\t<tr><td>CUST_163                          </td><td>2C6N9021                          </td><td>아모레퍼시 C 201809   260000(  10)</td><td>12                                </td><td>20180816                          </td><td>20180816                          </td></tr>\n",
       "</tbody>\n",
       "</table>\n"
      ],
      "text/latex": [
       "\\begin{tabular}{r|llllll}\n",
       " CUSTOMER\\_ID & ISSUE\\_CD & ISSUE\\_NAME & MARKET\\_ID & QUERY\\_DATE & QUERY\\_TIME\\\\\n",
       "\\hline\n",
       "\t CUST\\_163                         & 211N9033                           & 삼성전자   C 201809    45000(  10) & 12                                 & 20180816                           & 20180816                          \\\\\n",
       "\t CUST\\_163                         & 211N9033                           & 삼성전자   C 201809    45000(  10) & 12                                 & 20180814                           & 20180814                          \\\\\n",
       "\t CUST\\_163                         & 211N9033                           & 삼성전자   C 201809    45000(  10) & 12                                 & 20180816                           & 20180816                          \\\\\n",
       "\t CUST\\_163                         & 2C6N9021                           & 아모레퍼시 C 201809   260000(  10) & 12                                 & 20180816                           & 20180816                          \\\\\n",
       "\t CUST\\_163                         & 2C6N9021                           & 아모레퍼시 C 201809   260000(  10) & 12                                 & 20180814                           & 20180814                          \\\\\n",
       "\t CUST\\_163                         & 2C6N9021                           & 아모레퍼시 C 201809   260000(  10) & 12                                 & 20180816                           & 20180816                          \\\\\n",
       "\\end{tabular}\n"
      ],
      "text/markdown": [
       "\n",
       "CUSTOMER_ID | ISSUE_CD | ISSUE_NAME | MARKET_ID | QUERY_DATE | QUERY_TIME | \n",
       "|---|---|---|---|---|---|\n",
       "| CUST_163                           | 211N9033                           | 삼성전자   C 201809    45000(  10) | 12                                 | 20180816                           | 20180816                           | \n",
       "| CUST_163                           | 211N9033                           | 삼성전자   C 201809    45000(  10) | 12                                 | 20180814                           | 20180814                           | \n",
       "| CUST_163                           | 211N9033                           | 삼성전자   C 201809    45000(  10) | 12                                 | 20180816                           | 20180816                           | \n",
       "| CUST_163                           | 2C6N9021                           | 아모레퍼시 C 201809   260000(  10) | 12                                 | 20180816                           | 20180816                           | \n",
       "| CUST_163                           | 2C6N9021                           | 아모레퍼시 C 201809   260000(  10) | 12                                 | 20180814                           | 20180814                           | \n",
       "| CUST_163                           | 2C6N9021                           | 아모레퍼시 C 201809   260000(  10) | 12                                 | 20180816                           | 20180816                           | \n",
       "\n",
       "\n"
      ],
      "text/plain": [
       "  CUSTOMER_ID ISSUE_CD ISSUE_NAME                         MARKET_ID QUERY_DATE\n",
       "1 CUST_163    211N9033 삼성전자   C 201809    45000(  10) 12        20180816  \n",
       "2 CUST_163    211N9033 삼성전자   C 201809    45000(  10) 12        20180814  \n",
       "3 CUST_163    211N9033 삼성전자   C 201809    45000(  10) 12        20180816  \n",
       "4 CUST_163    2C6N9021 아모레퍼시 C 201809   260000(  10) 12        20180816  \n",
       "5 CUST_163    2C6N9021 아모레퍼시 C 201809   260000(  10) 12        20180814  \n",
       "6 CUST_163    2C6N9021 아모레퍼시 C 201809   260000(  10) 12        20180816  \n",
       "  QUERY_TIME\n",
       "1 20180816  \n",
       "2 20180814  \n",
       "3 20180816  \n",
       "4 20180816  \n",
       "5 20180814  \n",
       "6 20180816  "
      ]
     },
     "metadata": {},
     "output_type": "display_data"
    }
   ],
   "source": [
    "cust1$ISSUE_NAME <- paste0(cust1$ISSUE_NAME, cust1$MARKET_ID)\n",
    "cust1$MARKET_ID <- cust1$QUERY_DATE\n",
    "cust1$QUERY_DATE <- cust1$QUERY_TIME\n",
    "head(cust1)"
   ]
  },
  {
   "cell_type": "code",
   "execution_count": 47,
   "metadata": {},
   "outputs": [
    {
     "data": {
      "text/html": [
       "<table>\n",
       "<thead><tr><th scope=col>CUSTOMER_ID</th><th scope=col>ISSUE_CD</th><th scope=col>ISSUE_NAME</th><th scope=col>MARKET_ID</th><th scope=col>QUERY_DATE</th><th scope=col>QUERY_TIME</th></tr></thead>\n",
       "<tbody>\n",
       "\t<tr><td>CUST_163                          </td><td>211N9033                          </td><td>삼성전자   C 201809    45000(  10)</td><td>12                                </td><td>20180816                          </td><td>111101                            </td></tr>\n",
       "\t<tr><td>CUST_163                          </td><td>211N9033                          </td><td>삼성전자   C 201809    45000(  10)</td><td>12                                </td><td>20180814                          </td><td>172431                            </td></tr>\n",
       "\t<tr><td>CUST_163                          </td><td>211N9033                          </td><td>삼성전자   C 201809    45000(  10)</td><td>12                                </td><td>20180816                          </td><td>111201                            </td></tr>\n",
       "\t<tr><td>CUST_163                          </td><td>2C6N9021                          </td><td>아모레퍼시 C 201809   260000(  10)</td><td>12                                </td><td>20180816                          </td><td>111158                            </td></tr>\n",
       "\t<tr><td>CUST_163                          </td><td>2C6N9021                          </td><td>아모레퍼시 C 201809   260000(  10)</td><td>12                                </td><td>20180814                          </td><td>172431                            </td></tr>\n",
       "\t<tr><td>CUST_163                          </td><td>2C6N9021                          </td><td>아모레퍼시 C 201809   260000(  10)</td><td>12                                </td><td>20180816                          </td><td>111101                            </td></tr>\n",
       "</tbody>\n",
       "</table>\n"
      ],
      "text/latex": [
       "\\begin{tabular}{r|llllll}\n",
       " CUSTOMER\\_ID & ISSUE\\_CD & ISSUE\\_NAME & MARKET\\_ID & QUERY\\_DATE & QUERY\\_TIME\\\\\n",
       "\\hline\n",
       "\t CUST\\_163                         & 211N9033                           & 삼성전자   C 201809    45000(  10) & 12                                 & 20180816                           & 111101                            \\\\\n",
       "\t CUST\\_163                         & 211N9033                           & 삼성전자   C 201809    45000(  10) & 12                                 & 20180814                           & 172431                            \\\\\n",
       "\t CUST\\_163                         & 211N9033                           & 삼성전자   C 201809    45000(  10) & 12                                 & 20180816                           & 111201                            \\\\\n",
       "\t CUST\\_163                         & 2C6N9021                           & 아모레퍼시 C 201809   260000(  10) & 12                                 & 20180816                           & 111158                            \\\\\n",
       "\t CUST\\_163                         & 2C6N9021                           & 아모레퍼시 C 201809   260000(  10) & 12                                 & 20180814                           & 172431                            \\\\\n",
       "\t CUST\\_163                         & 2C6N9021                           & 아모레퍼시 C 201809   260000(  10) & 12                                 & 20180816                           & 111101                            \\\\\n",
       "\\end{tabular}\n"
      ],
      "text/markdown": [
       "\n",
       "CUSTOMER_ID | ISSUE_CD | ISSUE_NAME | MARKET_ID | QUERY_DATE | QUERY_TIME | \n",
       "|---|---|---|---|---|---|\n",
       "| CUST_163                           | 211N9033                           | 삼성전자   C 201809    45000(  10) | 12                                 | 20180816                           | 111101                             | \n",
       "| CUST_163                           | 211N9033                           | 삼성전자   C 201809    45000(  10) | 12                                 | 20180814                           | 172431                             | \n",
       "| CUST_163                           | 211N9033                           | 삼성전자   C 201809    45000(  10) | 12                                 | 20180816                           | 111201                             | \n",
       "| CUST_163                           | 2C6N9021                           | 아모레퍼시 C 201809   260000(  10) | 12                                 | 20180816                           | 111158                             | \n",
       "| CUST_163                           | 2C6N9021                           | 아모레퍼시 C 201809   260000(  10) | 12                                 | 20180814                           | 172431                             | \n",
       "| CUST_163                           | 2C6N9021                           | 아모레퍼시 C 201809   260000(  10) | 12                                 | 20180816                           | 111101                             | \n",
       "\n",
       "\n"
      ],
      "text/plain": [
       "  CUSTOMER_ID ISSUE_CD ISSUE_NAME                         MARKET_ID QUERY_DATE\n",
       "1 CUST_163    211N9033 삼성전자   C 201809    45000(  10) 12        20180816  \n",
       "2 CUST_163    211N9033 삼성전자   C 201809    45000(  10) 12        20180814  \n",
       "3 CUST_163    211N9033 삼성전자   C 201809    45000(  10) 12        20180816  \n",
       "4 CUST_163    2C6N9021 아모레퍼시 C 201809   260000(  10) 12        20180816  \n",
       "5 CUST_163    2C6N9021 아모레퍼시 C 201809   260000(  10) 12        20180814  \n",
       "6 CUST_163    2C6N9021 아모레퍼시 C 201809   260000(  10) 12        20180816  \n",
       "  QUERY_TIME\n",
       "1 111101    \n",
       "2 172431    \n",
       "3 111201    \n",
       "4 111158    \n",
       "5 172431    \n",
       "6 111101    "
      ]
     },
     "metadata": {},
     "output_type": "display_data"
    }
   ],
   "source": [
    "cust1$QUERY_TIME <- time2$癤풯UERY_TIME\n",
    "head(cust1)"
   ]
  },
  {
   "cell_type": "markdown",
   "metadata": {},
   "source": [
    "#### QD = 2 처리 완료"
   ]
  },
  {
   "cell_type": "markdown",
   "metadata": {},
   "source": [
    "## 4. DATA 결합 & 확인"
   ]
  },
  {
   "cell_type": "code",
   "execution_count": 53,
   "metadata": {},
   "outputs": [
    {
     "data": {
      "text/html": [
       "<table>\n",
       "<thead><tr><th scope=col>CUSTOMER_ID</th><th scope=col>ISSUE_CD</th><th scope=col>ISSUE_NAME</th><th scope=col>MARKET_ID</th><th scope=col>QUERY_DATE</th><th scope=col>QUERY_TIME</th></tr></thead>\n",
       "<tbody>\n",
       "\t<tr><td>CUST_1  </td><td>005930  </td><td>삼성전자</td><td>1       </td><td>20180813</td><td>70124   </td></tr>\n",
       "\t<tr><td>CUST_1  </td><td>005930  </td><td>삼성전자</td><td>1       </td><td>20180816</td><td>62415   </td></tr>\n",
       "\t<tr><td>CUST_1  </td><td>005930  </td><td>삼성전자</td><td>1       </td><td>20180816</td><td>62416   </td></tr>\n",
       "\t<tr><td>CUST_1  </td><td>005930  </td><td>삼성전자</td><td>1       </td><td>20180816</td><td>62420   </td></tr>\n",
       "\t<tr><td>CUST_1  </td><td>005930  </td><td>삼성전자</td><td>1       </td><td>20180816</td><td>62426   </td></tr>\n",
       "\t<tr><td>CUST_1  </td><td>005930  </td><td>삼성전자</td><td>1       </td><td>20180817</td><td>70348   </td></tr>\n",
       "</tbody>\n",
       "</table>\n"
      ],
      "text/latex": [
       "\\begin{tabular}{r|llllll}\n",
       " CUSTOMER\\_ID & ISSUE\\_CD & ISSUE\\_NAME & MARKET\\_ID & QUERY\\_DATE & QUERY\\_TIME\\\\\n",
       "\\hline\n",
       "\t CUST\\_1 & 005930   & 삼성전자 & 1        & 20180813 & 70124   \\\\\n",
       "\t CUST\\_1 & 005930   & 삼성전자 & 1        & 20180816 & 62415   \\\\\n",
       "\t CUST\\_1 & 005930   & 삼성전자 & 1        & 20180816 & 62416   \\\\\n",
       "\t CUST\\_1 & 005930   & 삼성전자 & 1        & 20180816 & 62420   \\\\\n",
       "\t CUST\\_1 & 005930   & 삼성전자 & 1        & 20180816 & 62426   \\\\\n",
       "\t CUST\\_1 & 005930   & 삼성전자 & 1        & 20180817 & 70348   \\\\\n",
       "\\end{tabular}\n"
      ],
      "text/markdown": [
       "\n",
       "CUSTOMER_ID | ISSUE_CD | ISSUE_NAME | MARKET_ID | QUERY_DATE | QUERY_TIME | \n",
       "|---|---|---|---|---|---|\n",
       "| CUST_1   | 005930   | 삼성전자 | 1        | 20180813 | 70124    | \n",
       "| CUST_1   | 005930   | 삼성전자 | 1        | 20180816 | 62415    | \n",
       "| CUST_1   | 005930   | 삼성전자 | 1        | 20180816 | 62416    | \n",
       "| CUST_1   | 005930   | 삼성전자 | 1        | 20180816 | 62420    | \n",
       "| CUST_1   | 005930   | 삼성전자 | 1        | 20180816 | 62426    | \n",
       "| CUST_1   | 005930   | 삼성전자 | 1        | 20180817 | 70348    | \n",
       "\n",
       "\n"
      ],
      "text/plain": [
       "  CUSTOMER_ID ISSUE_CD ISSUE_NAME MARKET_ID QUERY_DATE QUERY_TIME\n",
       "1 CUST_1      005930   삼성전자   1         20180813   70124     \n",
       "2 CUST_1      005930   삼성전자   1         20180816   62415     \n",
       "3 CUST_1      005930   삼성전자   1         20180816   62416     \n",
       "4 CUST_1      005930   삼성전자   1         20180816   62420     \n",
       "5 CUST_1      005930   삼성전자   1         20180816   62426     \n",
       "6 CUST_1      005930   삼성전자   1         20180817   70348     "
      ]
     },
     "metadata": {},
     "output_type": "display_data"
    }
   ],
   "source": [
    "cust3 <- filter(cust, nchar(as.character(cust$QUERY_DATE)) == 8)\n",
    "head(cust3)"
   ]
  },
  {
   "cell_type": "code",
   "execution_count": 55,
   "metadata": {},
   "outputs": [
    {
     "data": {
      "text/html": [
       "<table>\n",
       "<thead><tr><th scope=col>CUSTOMER_ID</th><th scope=col>ISSUE_CD</th><th scope=col>ISSUE_NAME</th><th scope=col>MARKET_ID</th><th scope=col>QUERY_DATE</th><th scope=col>QUERY_TIME</th></tr></thead>\n",
       "<tbody>\n",
       "\t<tr><td>CUST_163                          </td><td>211N9033                          </td><td>삼성전자   C 201809    45000(  10)</td><td>12                                </td><td>20180816                          </td><td>111101                            </td></tr>\n",
       "\t<tr><td>CUST_163                          </td><td>211N9033                          </td><td>삼성전자   C 201809    45000(  10)</td><td>12                                </td><td>20180814                          </td><td>172431                            </td></tr>\n",
       "\t<tr><td>CUST_163                          </td><td>211N9033                          </td><td>삼성전자   C 201809    45000(  10)</td><td>12                                </td><td>20180816                          </td><td>111201                            </td></tr>\n",
       "\t<tr><td>CUST_163                          </td><td>2C6N9021                          </td><td>아모레퍼시 C 201809   260000(  10)</td><td>12                                </td><td>20180816                          </td><td>111158                            </td></tr>\n",
       "\t<tr><td>CUST_163                          </td><td>2C6N9021                          </td><td>아모레퍼시 C 201809   260000(  10)</td><td>12                                </td><td>20180814                          </td><td>172431                            </td></tr>\n",
       "\t<tr><td>CUST_163                          </td><td>2C6N9021                          </td><td>아모레퍼시 C 201809   260000(  10)</td><td>12                                </td><td>20180816                          </td><td>111101                            </td></tr>\n",
       "</tbody>\n",
       "</table>\n"
      ],
      "text/latex": [
       "\\begin{tabular}{r|llllll}\n",
       " CUSTOMER\\_ID & ISSUE\\_CD & ISSUE\\_NAME & MARKET\\_ID & QUERY\\_DATE & QUERY\\_TIME\\\\\n",
       "\\hline\n",
       "\t CUST\\_163                         & 211N9033                           & 삼성전자   C 201809    45000(  10) & 12                                 & 20180816                           & 111101                            \\\\\n",
       "\t CUST\\_163                         & 211N9033                           & 삼성전자   C 201809    45000(  10) & 12                                 & 20180814                           & 172431                            \\\\\n",
       "\t CUST\\_163                         & 211N9033                           & 삼성전자   C 201809    45000(  10) & 12                                 & 20180816                           & 111201                            \\\\\n",
       "\t CUST\\_163                         & 2C6N9021                           & 아모레퍼시 C 201809   260000(  10) & 12                                 & 20180816                           & 111158                            \\\\\n",
       "\t CUST\\_163                         & 2C6N9021                           & 아모레퍼시 C 201809   260000(  10) & 12                                 & 20180814                           & 172431                            \\\\\n",
       "\t CUST\\_163                         & 2C6N9021                           & 아모레퍼시 C 201809   260000(  10) & 12                                 & 20180816                           & 111101                            \\\\\n",
       "\\end{tabular}\n"
      ],
      "text/markdown": [
       "\n",
       "CUSTOMER_ID | ISSUE_CD | ISSUE_NAME | MARKET_ID | QUERY_DATE | QUERY_TIME | \n",
       "|---|---|---|---|---|---|\n",
       "| CUST_163                           | 211N9033                           | 삼성전자   C 201809    45000(  10) | 12                                 | 20180816                           | 111101                             | \n",
       "| CUST_163                           | 211N9033                           | 삼성전자   C 201809    45000(  10) | 12                                 | 20180814                           | 172431                             | \n",
       "| CUST_163                           | 211N9033                           | 삼성전자   C 201809    45000(  10) | 12                                 | 20180816                           | 111201                             | \n",
       "| CUST_163                           | 2C6N9021                           | 아모레퍼시 C 201809   260000(  10) | 12                                 | 20180816                           | 111158                             | \n",
       "| CUST_163                           | 2C6N9021                           | 아모레퍼시 C 201809   260000(  10) | 12                                 | 20180814                           | 172431                             | \n",
       "| CUST_163                           | 2C6N9021                           | 아모레퍼시 C 201809   260000(  10) | 12                                 | 20180816                           | 111101                             | \n",
       "\n",
       "\n"
      ],
      "text/plain": [
       "  CUSTOMER_ID ISSUE_CD ISSUE_NAME                         MARKET_ID QUERY_DATE\n",
       "1 CUST_163    211N9033 삼성전자   C 201809    45000(  10) 12        20180816  \n",
       "2 CUST_163    211N9033 삼성전자   C 201809    45000(  10) 12        20180814  \n",
       "3 CUST_163    211N9033 삼성전자   C 201809    45000(  10) 12        20180816  \n",
       "4 CUST_163    2C6N9021 아모레퍼시 C 201809   260000(  10) 12        20180816  \n",
       "5 CUST_163    2C6N9021 아모레퍼시 C 201809   260000(  10) 12        20180814  \n",
       "6 CUST_163    2C6N9021 아모레퍼시 C 201809   260000(  10) 12        20180816  \n",
       "  QUERY_TIME\n",
       "1 111101    \n",
       "2 172431    \n",
       "3 111201    \n",
       "4 111158    \n",
       "5 172431    \n",
       "6 111101    "
      ]
     },
     "metadata": {},
     "output_type": "display_data"
    },
    {
     "data": {
      "text/html": [
       "<table>\n",
       "<thead><tr><th scope=col>CUSTOMER_ID</th><th scope=col>ISSUE_CD</th><th scope=col>ISSUE_NAME</th><th scope=col>MARKET_ID</th><th scope=col>QUERY_DATE</th><th scope=col>QUERY_TIME</th></tr></thead>\n",
       "<tbody>\n",
       "\t<tr><td>CUST_60                          </td><td>211N4037                         </td><td>삼성전자   C 201804 2450000(  10)</td><td>12                               </td><td>20180814                         </td><td>100738                           </td></tr>\n",
       "\t<tr><td>CUST_60                          </td><td>211N4037                         </td><td>삼성전자   C 201804 2450000(  10)</td><td>12                               </td><td>20180816                         </td><td>162110                           </td></tr>\n",
       "\t<tr><td>CUST_60                          </td><td>211N4037                         </td><td>삼성전자   C 201804 2450000(  10)</td><td>12                               </td><td>20180813                         </td><td> 74826                           </td></tr>\n",
       "\t<tr><td>CUST_60                          </td><td>211N4037                         </td><td>삼성전자   C 201804 2450000(  10)</td><td>12                               </td><td>20180816                         </td><td> 94243                           </td></tr>\n",
       "\t<tr><td>CUST_60                          </td><td>211N4037                         </td><td>삼성전자   C 201804 2450000(  10)</td><td>12                               </td><td>20180813                         </td><td> 91117                           </td></tr>\n",
       "\t<tr><td>CUST_60                          </td><td>211N4037                         </td><td>삼성전자   C 201804 2450000(  10)</td><td>12                               </td><td>20180817                         </td><td>104419                           </td></tr>\n",
       "</tbody>\n",
       "</table>\n"
      ],
      "text/latex": [
       "\\begin{tabular}{r|llllll}\n",
       " CUSTOMER\\_ID & ISSUE\\_CD & ISSUE\\_NAME & MARKET\\_ID & QUERY\\_DATE & QUERY\\_TIME\\\\\n",
       "\\hline\n",
       "\t CUST\\_60                         & 211N4037                          & 삼성전자   C 201804 2450000(  10) & 12                                & 20180814                          & 100738                           \\\\\n",
       "\t CUST\\_60                         & 211N4037                          & 삼성전자   C 201804 2450000(  10) & 12                                & 20180816                          & 162110                           \\\\\n",
       "\t CUST\\_60                         & 211N4037                          & 삼성전자   C 201804 2450000(  10) & 12                                & 20180813                          &  74826                           \\\\\n",
       "\t CUST\\_60                         & 211N4037                          & 삼성전자   C 201804 2450000(  10) & 12                                & 20180816                          &  94243                           \\\\\n",
       "\t CUST\\_60                         & 211N4037                          & 삼성전자   C 201804 2450000(  10) & 12                                & 20180813                          &  91117                           \\\\\n",
       "\t CUST\\_60                         & 211N4037                          & 삼성전자   C 201804 2450000(  10) & 12                                & 20180817                          & 104419                           \\\\\n",
       "\\end{tabular}\n"
      ],
      "text/markdown": [
       "\n",
       "CUSTOMER_ID | ISSUE_CD | ISSUE_NAME | MARKET_ID | QUERY_DATE | QUERY_TIME | \n",
       "|---|---|---|---|---|---|\n",
       "| CUST_60                           | 211N4037                          | 삼성전자   C 201804 2450000(  10) | 12                                | 20180814                          | 100738                            | \n",
       "| CUST_60                           | 211N4037                          | 삼성전자   C 201804 2450000(  10) | 12                                | 20180816                          | 162110                            | \n",
       "| CUST_60                           | 211N4037                          | 삼성전자   C 201804 2450000(  10) | 12                                | 20180813                          |  74826                            | \n",
       "| CUST_60                           | 211N4037                          | 삼성전자   C 201804 2450000(  10) | 12                                | 20180816                          |  94243                            | \n",
       "| CUST_60                           | 211N4037                          | 삼성전자   C 201804 2450000(  10) | 12                                | 20180813                          |  91117                            | \n",
       "| CUST_60                           | 211N4037                          | 삼성전자   C 201804 2450000(  10) | 12                                | 20180817                          | 104419                            | \n",
       "\n",
       "\n"
      ],
      "text/plain": [
       "  CUSTOMER_ID ISSUE_CD ISSUE_NAME                        MARKET_ID QUERY_DATE\n",
       "1 CUST_60     211N4037 삼성전자   C 201804 2450000(  10) 12        20180814  \n",
       "2 CUST_60     211N4037 삼성전자   C 201804 2450000(  10) 12        20180816  \n",
       "3 CUST_60     211N4037 삼성전자   C 201804 2450000(  10) 12        20180813  \n",
       "4 CUST_60     211N4037 삼성전자   C 201804 2450000(  10) 12        20180816  \n",
       "5 CUST_60     211N4037 삼성전자   C 201804 2450000(  10) 12        20180813  \n",
       "6 CUST_60     211N4037 삼성전자   C 201804 2450000(  10) 12        20180817  \n",
       "  QUERY_TIME\n",
       "1 100738    \n",
       "2 162110    \n",
       "3  74826    \n",
       "4  94243    \n",
       "5  91117    \n",
       "6 104419    "
      ]
     },
     "metadata": {},
     "output_type": "display_data"
    },
    {
     "data": {
      "text/html": [
       "<table>\n",
       "<thead><tr><th scope=col>CUSTOMER_ID</th><th scope=col>ISSUE_CD</th><th scope=col>ISSUE_NAME</th><th scope=col>MARKET_ID</th><th scope=col>QUERY_DATE</th><th scope=col>QUERY_TIME</th></tr></thead>\n",
       "<tbody>\n",
       "\t<tr><td>CUST_1  </td><td>005930  </td><td>삼성전자</td><td>1       </td><td>20180813</td><td>70124   </td></tr>\n",
       "\t<tr><td>CUST_1  </td><td>005930  </td><td>삼성전자</td><td>1       </td><td>20180816</td><td>62415   </td></tr>\n",
       "\t<tr><td>CUST_1  </td><td>005930  </td><td>삼성전자</td><td>1       </td><td>20180816</td><td>62416   </td></tr>\n",
       "\t<tr><td>CUST_1  </td><td>005930  </td><td>삼성전자</td><td>1       </td><td>20180816</td><td>62420   </td></tr>\n",
       "\t<tr><td>CUST_1  </td><td>005930  </td><td>삼성전자</td><td>1       </td><td>20180816</td><td>62426   </td></tr>\n",
       "\t<tr><td>CUST_1  </td><td>005930  </td><td>삼성전자</td><td>1       </td><td>20180817</td><td>70348   </td></tr>\n",
       "</tbody>\n",
       "</table>\n"
      ],
      "text/latex": [
       "\\begin{tabular}{r|llllll}\n",
       " CUSTOMER\\_ID & ISSUE\\_CD & ISSUE\\_NAME & MARKET\\_ID & QUERY\\_DATE & QUERY\\_TIME\\\\\n",
       "\\hline\n",
       "\t CUST\\_1 & 005930   & 삼성전자 & 1        & 20180813 & 70124   \\\\\n",
       "\t CUST\\_1 & 005930   & 삼성전자 & 1        & 20180816 & 62415   \\\\\n",
       "\t CUST\\_1 & 005930   & 삼성전자 & 1        & 20180816 & 62416   \\\\\n",
       "\t CUST\\_1 & 005930   & 삼성전자 & 1        & 20180816 & 62420   \\\\\n",
       "\t CUST\\_1 & 005930   & 삼성전자 & 1        & 20180816 & 62426   \\\\\n",
       "\t CUST\\_1 & 005930   & 삼성전자 & 1        & 20180817 & 70348   \\\\\n",
       "\\end{tabular}\n"
      ],
      "text/markdown": [
       "\n",
       "CUSTOMER_ID | ISSUE_CD | ISSUE_NAME | MARKET_ID | QUERY_DATE | QUERY_TIME | \n",
       "|---|---|---|---|---|---|\n",
       "| CUST_1   | 005930   | 삼성전자 | 1        | 20180813 | 70124    | \n",
       "| CUST_1   | 005930   | 삼성전자 | 1        | 20180816 | 62415    | \n",
       "| CUST_1   | 005930   | 삼성전자 | 1        | 20180816 | 62416    | \n",
       "| CUST_1   | 005930   | 삼성전자 | 1        | 20180816 | 62420    | \n",
       "| CUST_1   | 005930   | 삼성전자 | 1        | 20180816 | 62426    | \n",
       "| CUST_1   | 005930   | 삼성전자 | 1        | 20180817 | 70348    | \n",
       "\n",
       "\n"
      ],
      "text/plain": [
       "  CUSTOMER_ID ISSUE_CD ISSUE_NAME MARKET_ID QUERY_DATE QUERY_TIME\n",
       "1 CUST_1      005930   삼성전자   1         20180813   70124     \n",
       "2 CUST_1      005930   삼성전자   1         20180816   62415     \n",
       "3 CUST_1      005930   삼성전자   1         20180816   62416     \n",
       "4 CUST_1      005930   삼성전자   1         20180816   62420     \n",
       "5 CUST_1      005930   삼성전자   1         20180816   62426     \n",
       "6 CUST_1      005930   삼성전자   1         20180817   70348     "
      ]
     },
     "metadata": {},
     "output_type": "display_data"
    },
    {
     "data": {
      "text/html": [
       "<table>\n",
       "<thead><tr><th scope=col>X</th><th scope=col>CUSTOMER_ID</th><th scope=col>ISSUE_CD</th><th scope=col>ISSUE_NAME</th><th scope=col>MARKET_ID</th><th scope=col>QUERY_DATE</th><th scope=col>QUERY_TIME</th></tr></thead>\n",
       "<tbody>\n",
       "\t<tr><td>1           </td><td>CUST_118    </td><td>SMB@EUR     </td><td>유로통화    </td><td>112         </td><td>20180814    </td><td>80432       </td></tr>\n",
       "\t<tr><td>2           </td><td>CUST_118    </td><td>SMB@EUR     </td><td>유로통화    </td><td>112         </td><td>20180814    </td><td>80433       </td></tr>\n",
       "\t<tr><td>3           </td><td>CUST_118    </td><td>SMB@JPY     </td><td>일본_엔(100)</td><td>112         </td><td>20180817    </td><td>73855       </td></tr>\n",
       "\t<tr><td>4           </td><td>CUST_118    </td><td>SMB@JPY     </td><td>일본_엔(100)</td><td>112         </td><td>20180814    </td><td>80432       </td></tr>\n",
       "\t<tr><td>5           </td><td>CUST_118    </td><td>SMB@JPY     </td><td>일본_엔(100)</td><td>112         </td><td>20180813    </td><td>90331       </td></tr>\n",
       "\t<tr><td>6           </td><td>CUST_118    </td><td>SMB@JPY     </td><td>일본_엔(100)</td><td>112         </td><td>20180814    </td><td>75549       </td></tr>\n",
       "</tbody>\n",
       "</table>\n"
      ],
      "text/latex": [
       "\\begin{tabular}{r|lllllll}\n",
       " X & CUSTOMER\\_ID & ISSUE\\_CD & ISSUE\\_NAME & MARKET\\_ID & QUERY\\_DATE & QUERY\\_TIME\\\\\n",
       "\\hline\n",
       "\t 1            & CUST\\_118   & SMB@EUR      & 유로통화     & 112          & 20180814     & 80432       \\\\\n",
       "\t 2            & CUST\\_118   & SMB@EUR      & 유로통화     & 112          & 20180814     & 80433       \\\\\n",
       "\t 3              & CUST\\_118     & SMB@JPY        & 일본\\_엔(100) & 112            & 20180817       & 73855         \\\\\n",
       "\t 4              & CUST\\_118     & SMB@JPY        & 일본\\_엔(100) & 112            & 20180814       & 80432         \\\\\n",
       "\t 5              & CUST\\_118     & SMB@JPY        & 일본\\_엔(100) & 112            & 20180813       & 90331         \\\\\n",
       "\t 6              & CUST\\_118     & SMB@JPY        & 일본\\_엔(100) & 112            & 20180814       & 75549         \\\\\n",
       "\\end{tabular}\n"
      ],
      "text/markdown": [
       "\n",
       "X | CUSTOMER_ID | ISSUE_CD | ISSUE_NAME | MARKET_ID | QUERY_DATE | QUERY_TIME | \n",
       "|---|---|---|---|---|---|\n",
       "| 1            | CUST_118     | SMB@EUR      | 유로통화     | 112          | 20180814     | 80432        | \n",
       "| 2            | CUST_118     | SMB@EUR      | 유로통화     | 112          | 20180814     | 80433        | \n",
       "| 3            | CUST_118     | SMB@JPY      | 일본_엔(100) | 112          | 20180817     | 73855        | \n",
       "| 4            | CUST_118     | SMB@JPY      | 일본_엔(100) | 112          | 20180814     | 80432        | \n",
       "| 5            | CUST_118     | SMB@JPY      | 일본_엔(100) | 112          | 20180813     | 90331        | \n",
       "| 6            | CUST_118     | SMB@JPY      | 일본_엔(100) | 112          | 20180814     | 75549        | \n",
       "\n",
       "\n"
      ],
      "text/plain": [
       "  X CUSTOMER_ID ISSUE_CD ISSUE_NAME   MARKET_ID QUERY_DATE QUERY_TIME\n",
       "1 1 CUST_118    SMB@EUR  유로통화     112       20180814   80432     \n",
       "2 2 CUST_118    SMB@EUR  유로통화     112       20180814   80433     \n",
       "3 3 CUST_118    SMB@JPY  일본_엔(100) 112       20180817   73855     \n",
       "4 4 CUST_118    SMB@JPY  일본_엔(100) 112       20180814   80432     \n",
       "5 5 CUST_118    SMB@JPY  일본_엔(100) 112       20180813   90331     \n",
       "6 6 CUST_118    SMB@JPY  일본_엔(100) 112       20180814   75549     "
      ]
     },
     "metadata": {},
     "output_type": "display_data"
    }
   ],
   "source": [
    "head(cust1)\n",
    "head(cust2)\n",
    "head(cust3)\n",
    "head(wrong)"
   ]
  },
  {
   "cell_type": "code",
   "execution_count": 64,
   "metadata": {},
   "outputs": [],
   "source": [
    "wrong <- subset(wrong, select = c(-X))"
   ]
  },
  {
   "cell_type": "code",
   "execution_count": 65,
   "metadata": {},
   "outputs": [
    {
     "data": {
      "text/html": [
       "<table>\n",
       "<thead><tr><th scope=col>CUSTOMER_ID</th><th scope=col>ISSUE_CD</th><th scope=col>ISSUE_NAME</th><th scope=col>MARKET_ID</th><th scope=col>QUERY_DATE</th><th scope=col>QUERY_TIME</th></tr></thead>\n",
       "<tbody>\n",
       "\t<tr><td>CUST_118    </td><td>SMB@EUR     </td><td>유로통화    </td><td>112         </td><td>20180814    </td><td>80432       </td></tr>\n",
       "\t<tr><td>CUST_118    </td><td>SMB@EUR     </td><td>유로통화    </td><td>112         </td><td>20180814    </td><td>80433       </td></tr>\n",
       "\t<tr><td>CUST_118    </td><td>SMB@JPY     </td><td>일본_엔(100)</td><td>112         </td><td>20180817    </td><td>73855       </td></tr>\n",
       "\t<tr><td>CUST_118    </td><td>SMB@JPY     </td><td>일본_엔(100)</td><td>112         </td><td>20180814    </td><td>80432       </td></tr>\n",
       "\t<tr><td>CUST_118    </td><td>SMB@JPY     </td><td>일본_엔(100)</td><td>112         </td><td>20180813    </td><td>90331       </td></tr>\n",
       "\t<tr><td>CUST_118    </td><td>SMB@JPY     </td><td>일본_엔(100)</td><td>112         </td><td>20180814    </td><td>75549       </td></tr>\n",
       "</tbody>\n",
       "</table>\n"
      ],
      "text/latex": [
       "\\begin{tabular}{r|llllll}\n",
       " CUSTOMER\\_ID & ISSUE\\_CD & ISSUE\\_NAME & MARKET\\_ID & QUERY\\_DATE & QUERY\\_TIME\\\\\n",
       "\\hline\n",
       "\t CUST\\_118   & SMB@EUR      & 유로통화     & 112          & 20180814     & 80432       \\\\\n",
       "\t CUST\\_118   & SMB@EUR      & 유로통화     & 112          & 20180814     & 80433       \\\\\n",
       "\t CUST\\_118     & SMB@JPY        & 일본\\_엔(100) & 112            & 20180817       & 73855         \\\\\n",
       "\t CUST\\_118     & SMB@JPY        & 일본\\_엔(100) & 112            & 20180814       & 80432         \\\\\n",
       "\t CUST\\_118     & SMB@JPY        & 일본\\_엔(100) & 112            & 20180813       & 90331         \\\\\n",
       "\t CUST\\_118     & SMB@JPY        & 일본\\_엔(100) & 112            & 20180814       & 75549         \\\\\n",
       "\\end{tabular}\n"
      ],
      "text/markdown": [
       "\n",
       "CUSTOMER_ID | ISSUE_CD | ISSUE_NAME | MARKET_ID | QUERY_DATE | QUERY_TIME | \n",
       "|---|---|---|---|---|---|\n",
       "| CUST_118     | SMB@EUR      | 유로통화     | 112          | 20180814     | 80432        | \n",
       "| CUST_118     | SMB@EUR      | 유로통화     | 112          | 20180814     | 80433        | \n",
       "| CUST_118     | SMB@JPY      | 일본_엔(100) | 112          | 20180817     | 73855        | \n",
       "| CUST_118     | SMB@JPY      | 일본_엔(100) | 112          | 20180814     | 80432        | \n",
       "| CUST_118     | SMB@JPY      | 일본_엔(100) | 112          | 20180813     | 90331        | \n",
       "| CUST_118     | SMB@JPY      | 일본_엔(100) | 112          | 20180814     | 75549        | \n",
       "\n",
       "\n"
      ],
      "text/plain": [
       "  CUSTOMER_ID ISSUE_CD ISSUE_NAME   MARKET_ID QUERY_DATE QUERY_TIME\n",
       "1 CUST_118    SMB@EUR  유로통화     112       20180814   80432     \n",
       "2 CUST_118    SMB@EUR  유로통화     112       20180814   80433     \n",
       "3 CUST_118    SMB@JPY  일본_엔(100) 112       20180817   73855     \n",
       "4 CUST_118    SMB@JPY  일본_엔(100) 112       20180814   80432     \n",
       "5 CUST_118    SMB@JPY  일본_엔(100) 112       20180813   90331     \n",
       "6 CUST_118    SMB@JPY  일본_엔(100) 112       20180814   75549     "
      ]
     },
     "metadata": {},
     "output_type": "display_data"
    }
   ],
   "source": [
    "head(wrong)"
   ]
  },
  {
   "cell_type": "code",
   "execution_count": 91,
   "metadata": {},
   "outputs": [
    {
     "name": "stderr",
     "output_type": "stream",
     "text": [
      "Warning message in `[<-.factor`(`*tmp*`, ri, value = c(112L, 112L, 112L, 112L, 112L, :\n",
      "\"invalid factor level, NA generated\""
     ]
    }
   ],
   "source": [
    "newcust <- rbind(cust1, cust2, cust3, wrong)"
   ]
  },
  {
   "cell_type": "code",
   "execution_count": 92,
   "metadata": {},
   "outputs": [
    {
     "data": {
      "text/plain": [
       "\n",
       "      5 \n",
       "1310026 "
      ]
     },
     "metadata": {},
     "output_type": "display_data"
    }
   ],
   "source": [
    "table(nchar(as.character(newcust$QUERY_DATE) == 8))"
   ]
  },
  {
   "cell_type": "code",
   "execution_count": 93,
   "metadata": {},
   "outputs": [
    {
     "data": {
      "text/plain": [
       "\n",
       "     4      5      6 \n",
       "    82 363453 946491 "
      ]
     },
     "metadata": {},
     "output_type": "display_data"
    }
   ],
   "source": [
    "table(nchar(as.character(newcust$QUERY_TIME)))"
   ]
  },
  {
   "cell_type": "markdown",
   "metadata": {},
   "source": [
    "#### QT = 4인 경우 00 붙임\n",
    "#### QT = 5인 경우 0 붙임"
   ]
  },
  {
   "cell_type": "code",
   "execution_count": 94,
   "metadata": {},
   "outputs": [],
   "source": [
    "newcust$QUERY_TIME <- ifelse(nchar(as.character(newcust$QUERY_TIME)) == 4, paste0(\"00\", as.character(newcust$QUERY_TIME)), newcust$QUERY_TIME)"
   ]
  },
  {
   "cell_type": "code",
   "execution_count": 95,
   "metadata": {},
   "outputs": [],
   "source": [
    "newcust$QUERY_TIME <- ifelse(nchar(as.character(newcust$QUERY_TIME)) == 5, paste0(\"0\", as.character(newcust$QUERY_TIME)), newcust$QUERY_TIME)"
   ]
  },
  {
   "cell_type": "code",
   "execution_count": 96,
   "metadata": {},
   "outputs": [
    {
     "data": {
      "text/plain": [
       "\n",
       "      6 \n",
       "1310026 "
      ]
     },
     "metadata": {},
     "output_type": "display_data"
    }
   ],
   "source": [
    "table(nchar(as.character(newcust$QUERY_TIME)))"
   ]
  },
  {
   "cell_type": "markdown",
   "metadata": {},
   "source": [
    "#### 아무 문제 없음"
   ]
  },
  {
   "cell_type": "markdown",
   "metadata": {},
   "source": [
    "## 5. 날짜 - 시간 형식 변환 "
   ]
  },
  {
   "cell_type": "code",
   "execution_count": 97,
   "metadata": {},
   "outputs": [
    {
     "data": {
      "text/html": [
       "<table>\n",
       "<thead><tr><th scope=col>CUSTOMER_ID</th><th scope=col>ISSUE_CD</th><th scope=col>ISSUE_NAME</th><th scope=col>MARKET_ID</th><th scope=col>QUERY_DATE</th><th scope=col>QUERY_TIME</th><th scope=col>X2</th></tr></thead>\n",
       "<tbody>\n",
       "\t<tr><td>CUST_163                          </td><td>211N9033                          </td><td>삼성전자   C 201809    45000(  10)</td><td>12                                </td><td>20180816                          </td><td>111101                            </td><td>11:11:01                          </td></tr>\n",
       "\t<tr><td>CUST_163                          </td><td>211N9033                          </td><td>삼성전자   C 201809    45000(  10)</td><td>12                                </td><td>20180814                          </td><td>172431                            </td><td>17:24:31                          </td></tr>\n",
       "\t<tr><td>CUST_163                          </td><td>211N9033                          </td><td>삼성전자   C 201809    45000(  10)</td><td>12                                </td><td>20180816                          </td><td>111201                            </td><td>11:12:01                          </td></tr>\n",
       "\t<tr><td>CUST_163                          </td><td>2C6N9021                          </td><td>아모레퍼시 C 201809   260000(  10)</td><td>12                                </td><td>20180816                          </td><td>111158                            </td><td>11:11:58                          </td></tr>\n",
       "\t<tr><td>CUST_163                          </td><td>2C6N9021                          </td><td>아모레퍼시 C 201809   260000(  10)</td><td>12                                </td><td>20180814                          </td><td>172431                            </td><td>17:24:31                          </td></tr>\n",
       "\t<tr><td>CUST_163                          </td><td>2C6N9021                          </td><td>아모레퍼시 C 201809   260000(  10)</td><td>12                                </td><td>20180816                          </td><td>111101                            </td><td>11:11:01                          </td></tr>\n",
       "</tbody>\n",
       "</table>\n"
      ],
      "text/latex": [
       "\\begin{tabular}{r|lllllll}\n",
       " CUSTOMER\\_ID & ISSUE\\_CD & ISSUE\\_NAME & MARKET\\_ID & QUERY\\_DATE & QUERY\\_TIME & X2\\\\\n",
       "\\hline\n",
       "\t CUST\\_163                         & 211N9033                           & 삼성전자   C 201809    45000(  10) & 12                                 & 20180816                           & 111101                             & 11:11:01                          \\\\\n",
       "\t CUST\\_163                         & 211N9033                           & 삼성전자   C 201809    45000(  10) & 12                                 & 20180814                           & 172431                             & 17:24:31                          \\\\\n",
       "\t CUST\\_163                         & 211N9033                           & 삼성전자   C 201809    45000(  10) & 12                                 & 20180816                           & 111201                             & 11:12:01                          \\\\\n",
       "\t CUST\\_163                         & 2C6N9021                           & 아모레퍼시 C 201809   260000(  10) & 12                                 & 20180816                           & 111158                             & 11:11:58                          \\\\\n",
       "\t CUST\\_163                         & 2C6N9021                           & 아모레퍼시 C 201809   260000(  10) & 12                                 & 20180814                           & 172431                             & 17:24:31                          \\\\\n",
       "\t CUST\\_163                         & 2C6N9021                           & 아모레퍼시 C 201809   260000(  10) & 12                                 & 20180816                           & 111101                             & 11:11:01                          \\\\\n",
       "\\end{tabular}\n"
      ],
      "text/markdown": [
       "\n",
       "CUSTOMER_ID | ISSUE_CD | ISSUE_NAME | MARKET_ID | QUERY_DATE | QUERY_TIME | X2 | \n",
       "|---|---|---|---|---|---|\n",
       "| CUST_163                           | 211N9033                           | 삼성전자   C 201809    45000(  10) | 12                                 | 20180816                           | 111101                             | 11:11:01                           | \n",
       "| CUST_163                           | 211N9033                           | 삼성전자   C 201809    45000(  10) | 12                                 | 20180814                           | 172431                             | 17:24:31                           | \n",
       "| CUST_163                           | 211N9033                           | 삼성전자   C 201809    45000(  10) | 12                                 | 20180816                           | 111201                             | 11:12:01                           | \n",
       "| CUST_163                           | 2C6N9021                           | 아모레퍼시 C 201809   260000(  10) | 12                                 | 20180816                           | 111158                             | 11:11:58                           | \n",
       "| CUST_163                           | 2C6N9021                           | 아모레퍼시 C 201809   260000(  10) | 12                                 | 20180814                           | 172431                             | 17:24:31                           | \n",
       "| CUST_163                           | 2C6N9021                           | 아모레퍼시 C 201809   260000(  10) | 12                                 | 20180816                           | 111101                             | 11:11:01                           | \n",
       "\n",
       "\n"
      ],
      "text/plain": [
       "  CUSTOMER_ID ISSUE_CD ISSUE_NAME                         MARKET_ID QUERY_DATE\n",
       "1 CUST_163    211N9033 삼성전자   C 201809    45000(  10) 12        20180816  \n",
       "2 CUST_163    211N9033 삼성전자   C 201809    45000(  10) 12        20180814  \n",
       "3 CUST_163    211N9033 삼성전자   C 201809    45000(  10) 12        20180816  \n",
       "4 CUST_163    2C6N9021 아모레퍼시 C 201809   260000(  10) 12        20180816  \n",
       "5 CUST_163    2C6N9021 아모레퍼시 C 201809   260000(  10) 12        20180814  \n",
       "6 CUST_163    2C6N9021 아모레퍼시 C 201809   260000(  10) 12        20180816  \n",
       "  QUERY_TIME X2      \n",
       "1 111101     11:11:01\n",
       "2 172431     17:24:31\n",
       "3 111201     11:12:01\n",
       "4 111158     11:11:58\n",
       "5 172431     17:24:31\n",
       "6 111101     11:11:01"
      ]
     },
     "metadata": {},
     "output_type": "display_data"
    }
   ],
   "source": [
    "newcust <- transform(newcust, X2 = paste(substr(newcust$QUERY_TIME, 1, 2), substr(newcust$QUERY_TIME, 3, 4), substr(newcust$QUERY_TIME, 5, 6), sep = \":\"))\n",
    "head(newcust)"
   ]
  },
  {
   "cell_type": "code",
   "execution_count": 98,
   "metadata": {},
   "outputs": [
    {
     "data": {
      "text/html": [
       "<table>\n",
       "<thead><tr><th scope=col>CUSTOMER_ID</th><th scope=col>ISSUE_CD</th><th scope=col>ISSUE_NAME</th><th scope=col>MARKET_ID</th><th scope=col>QUERY_DATE</th><th scope=col>QUERY_TIME</th><th scope=col>X2</th><th scope=col>Y2</th></tr></thead>\n",
       "<tbody>\n",
       "\t<tr><td>CUST_163                          </td><td>211N9033                          </td><td>삼성전자   C 201809    45000(  10)</td><td>12                                </td><td>20180816                          </td><td>111101                            </td><td>11:11:01                          </td><td>2018-08-16                        </td></tr>\n",
       "\t<tr><td>CUST_163                          </td><td>211N9033                          </td><td>삼성전자   C 201809    45000(  10)</td><td>12                                </td><td>20180814                          </td><td>172431                            </td><td>17:24:31                          </td><td>2018-08-14                        </td></tr>\n",
       "\t<tr><td>CUST_163                          </td><td>211N9033                          </td><td>삼성전자   C 201809    45000(  10)</td><td>12                                </td><td>20180816                          </td><td>111201                            </td><td>11:12:01                          </td><td>2018-08-16                        </td></tr>\n",
       "\t<tr><td>CUST_163                          </td><td>2C6N9021                          </td><td>아모레퍼시 C 201809   260000(  10)</td><td>12                                </td><td>20180816                          </td><td>111158                            </td><td>11:11:58                          </td><td>2018-08-16                        </td></tr>\n",
       "\t<tr><td>CUST_163                          </td><td>2C6N9021                          </td><td>아모레퍼시 C 201809   260000(  10)</td><td>12                                </td><td>20180814                          </td><td>172431                            </td><td>17:24:31                          </td><td>2018-08-14                        </td></tr>\n",
       "\t<tr><td>CUST_163                          </td><td>2C6N9021                          </td><td>아모레퍼시 C 201809   260000(  10)</td><td>12                                </td><td>20180816                          </td><td>111101                            </td><td>11:11:01                          </td><td>2018-08-16                        </td></tr>\n",
       "</tbody>\n",
       "</table>\n"
      ],
      "text/latex": [
       "\\begin{tabular}{r|llllllll}\n",
       " CUSTOMER\\_ID & ISSUE\\_CD & ISSUE\\_NAME & MARKET\\_ID & QUERY\\_DATE & QUERY\\_TIME & X2 & Y2\\\\\n",
       "\\hline\n",
       "\t CUST\\_163                         & 211N9033                           & 삼성전자   C 201809    45000(  10) & 12                                 & 20180816                           & 111101                             & 11:11:01                           & 2018-08-16                        \\\\\n",
       "\t CUST\\_163                         & 211N9033                           & 삼성전자   C 201809    45000(  10) & 12                                 & 20180814                           & 172431                             & 17:24:31                           & 2018-08-14                        \\\\\n",
       "\t CUST\\_163                         & 211N9033                           & 삼성전자   C 201809    45000(  10) & 12                                 & 20180816                           & 111201                             & 11:12:01                           & 2018-08-16                        \\\\\n",
       "\t CUST\\_163                         & 2C6N9021                           & 아모레퍼시 C 201809   260000(  10) & 12                                 & 20180816                           & 111158                             & 11:11:58                           & 2018-08-16                        \\\\\n",
       "\t CUST\\_163                         & 2C6N9021                           & 아모레퍼시 C 201809   260000(  10) & 12                                 & 20180814                           & 172431                             & 17:24:31                           & 2018-08-14                        \\\\\n",
       "\t CUST\\_163                         & 2C6N9021                           & 아모레퍼시 C 201809   260000(  10) & 12                                 & 20180816                           & 111101                             & 11:11:01                           & 2018-08-16                        \\\\\n",
       "\\end{tabular}\n"
      ],
      "text/markdown": [
       "\n",
       "CUSTOMER_ID | ISSUE_CD | ISSUE_NAME | MARKET_ID | QUERY_DATE | QUERY_TIME | X2 | Y2 | \n",
       "|---|---|---|---|---|---|\n",
       "| CUST_163                           | 211N9033                           | 삼성전자   C 201809    45000(  10) | 12                                 | 20180816                           | 111101                             | 11:11:01                           | 2018-08-16                         | \n",
       "| CUST_163                           | 211N9033                           | 삼성전자   C 201809    45000(  10) | 12                                 | 20180814                           | 172431                             | 17:24:31                           | 2018-08-14                         | \n",
       "| CUST_163                           | 211N9033                           | 삼성전자   C 201809    45000(  10) | 12                                 | 20180816                           | 111201                             | 11:12:01                           | 2018-08-16                         | \n",
       "| CUST_163                           | 2C6N9021                           | 아모레퍼시 C 201809   260000(  10) | 12                                 | 20180816                           | 111158                             | 11:11:58                           | 2018-08-16                         | \n",
       "| CUST_163                           | 2C6N9021                           | 아모레퍼시 C 201809   260000(  10) | 12                                 | 20180814                           | 172431                             | 17:24:31                           | 2018-08-14                         | \n",
       "| CUST_163                           | 2C6N9021                           | 아모레퍼시 C 201809   260000(  10) | 12                                 | 20180816                           | 111101                             | 11:11:01                           | 2018-08-16                         | \n",
       "\n",
       "\n"
      ],
      "text/plain": [
       "  CUSTOMER_ID ISSUE_CD ISSUE_NAME                         MARKET_ID QUERY_DATE\n",
       "1 CUST_163    211N9033 삼성전자   C 201809    45000(  10) 12        20180816  \n",
       "2 CUST_163    211N9033 삼성전자   C 201809    45000(  10) 12        20180814  \n",
       "3 CUST_163    211N9033 삼성전자   C 201809    45000(  10) 12        20180816  \n",
       "4 CUST_163    2C6N9021 아모레퍼시 C 201809   260000(  10) 12        20180816  \n",
       "5 CUST_163    2C6N9021 아모레퍼시 C 201809   260000(  10) 12        20180814  \n",
       "6 CUST_163    2C6N9021 아모레퍼시 C 201809   260000(  10) 12        20180816  \n",
       "  QUERY_TIME X2       Y2        \n",
       "1 111101     11:11:01 2018-08-16\n",
       "2 172431     17:24:31 2018-08-14\n",
       "3 111201     11:12:01 2018-08-16\n",
       "4 111158     11:11:58 2018-08-16\n",
       "5 172431     17:24:31 2018-08-14\n",
       "6 111101     11:11:01 2018-08-16"
      ]
     },
     "metadata": {},
     "output_type": "display_data"
    }
   ],
   "source": [
    "newcust <- transform(newcust, Y2 = paste(substr(newcust$QUERY_DATE, 1, 4), substr(newcust$QUERY_DATE, 5, 6), substr(newcust$QUERY_DATE, 7, 8), sep = \"-\"))\n",
    "head(newcust)"
   ]
  },
  {
   "cell_type": "code",
   "execution_count": 99,
   "metadata": {},
   "outputs": [
    {
     "data": {
      "text/html": [
       "<table>\n",
       "<thead><tr><th scope=col>CUSTOMER_ID</th><th scope=col>ISSUE_CD</th><th scope=col>ISSUE_NAME</th><th scope=col>MARKET_ID</th><th scope=col>QUERY_DATE</th><th scope=col>QUERY_TIME</th><th scope=col>X2</th><th scope=col>Y2</th><th scope=col>DATE_TIME</th></tr></thead>\n",
       "<tbody>\n",
       "\t<tr><td>CUST_163                          </td><td>211N9033                          </td><td>삼성전자   C 201809    45000(  10)</td><td>12                                </td><td>20180816                          </td><td>111101                            </td><td>11:11:01                          </td><td>2018-08-16                        </td><td>2018-08-16 11:11:01               </td></tr>\n",
       "\t<tr><td>CUST_163                          </td><td>211N9033                          </td><td>삼성전자   C 201809    45000(  10)</td><td>12                                </td><td>20180814                          </td><td>172431                            </td><td>17:24:31                          </td><td>2018-08-14                        </td><td>2018-08-14 17:24:31               </td></tr>\n",
       "\t<tr><td>CUST_163                          </td><td>211N9033                          </td><td>삼성전자   C 201809    45000(  10)</td><td>12                                </td><td>20180816                          </td><td>111201                            </td><td>11:12:01                          </td><td>2018-08-16                        </td><td>2018-08-16 11:12:01               </td></tr>\n",
       "\t<tr><td>CUST_163                          </td><td>2C6N9021                          </td><td>아모레퍼시 C 201809   260000(  10)</td><td>12                                </td><td>20180816                          </td><td>111158                            </td><td>11:11:58                          </td><td>2018-08-16                        </td><td>2018-08-16 11:11:58               </td></tr>\n",
       "\t<tr><td>CUST_163                          </td><td>2C6N9021                          </td><td>아모레퍼시 C 201809   260000(  10)</td><td>12                                </td><td>20180814                          </td><td>172431                            </td><td>17:24:31                          </td><td>2018-08-14                        </td><td>2018-08-14 17:24:31               </td></tr>\n",
       "\t<tr><td>CUST_163                          </td><td>2C6N9021                          </td><td>아모레퍼시 C 201809   260000(  10)</td><td>12                                </td><td>20180816                          </td><td>111101                            </td><td>11:11:01                          </td><td>2018-08-16                        </td><td>2018-08-16 11:11:01               </td></tr>\n",
       "</tbody>\n",
       "</table>\n"
      ],
      "text/latex": [
       "\\begin{tabular}{r|lllllllll}\n",
       " CUSTOMER\\_ID & ISSUE\\_CD & ISSUE\\_NAME & MARKET\\_ID & QUERY\\_DATE & QUERY\\_TIME & X2 & Y2 & DATE\\_TIME\\\\\n",
       "\\hline\n",
       "\t CUST\\_163                         & 211N9033                           & 삼성전자   C 201809    45000(  10) & 12                                 & 20180816                           & 111101                             & 11:11:01                           & 2018-08-16                         & 2018-08-16 11:11:01               \\\\\n",
       "\t CUST\\_163                         & 211N9033                           & 삼성전자   C 201809    45000(  10) & 12                                 & 20180814                           & 172431                             & 17:24:31                           & 2018-08-14                         & 2018-08-14 17:24:31               \\\\\n",
       "\t CUST\\_163                         & 211N9033                           & 삼성전자   C 201809    45000(  10) & 12                                 & 20180816                           & 111201                             & 11:12:01                           & 2018-08-16                         & 2018-08-16 11:12:01               \\\\\n",
       "\t CUST\\_163                         & 2C6N9021                           & 아모레퍼시 C 201809   260000(  10) & 12                                 & 20180816                           & 111158                             & 11:11:58                           & 2018-08-16                         & 2018-08-16 11:11:58               \\\\\n",
       "\t CUST\\_163                         & 2C6N9021                           & 아모레퍼시 C 201809   260000(  10) & 12                                 & 20180814                           & 172431                             & 17:24:31                           & 2018-08-14                         & 2018-08-14 17:24:31               \\\\\n",
       "\t CUST\\_163                         & 2C6N9021                           & 아모레퍼시 C 201809   260000(  10) & 12                                 & 20180816                           & 111101                             & 11:11:01                           & 2018-08-16                         & 2018-08-16 11:11:01               \\\\\n",
       "\\end{tabular}\n"
      ],
      "text/markdown": [
       "\n",
       "CUSTOMER_ID | ISSUE_CD | ISSUE_NAME | MARKET_ID | QUERY_DATE | QUERY_TIME | X2 | Y2 | DATE_TIME | \n",
       "|---|---|---|---|---|---|\n",
       "| CUST_163                           | 211N9033                           | 삼성전자   C 201809    45000(  10) | 12                                 | 20180816                           | 111101                             | 11:11:01                           | 2018-08-16                         | 2018-08-16 11:11:01                | \n",
       "| CUST_163                           | 211N9033                           | 삼성전자   C 201809    45000(  10) | 12                                 | 20180814                           | 172431                             | 17:24:31                           | 2018-08-14                         | 2018-08-14 17:24:31                | \n",
       "| CUST_163                           | 211N9033                           | 삼성전자   C 201809    45000(  10) | 12                                 | 20180816                           | 111201                             | 11:12:01                           | 2018-08-16                         | 2018-08-16 11:12:01                | \n",
       "| CUST_163                           | 2C6N9021                           | 아모레퍼시 C 201809   260000(  10) | 12                                 | 20180816                           | 111158                             | 11:11:58                           | 2018-08-16                         | 2018-08-16 11:11:58                | \n",
       "| CUST_163                           | 2C6N9021                           | 아모레퍼시 C 201809   260000(  10) | 12                                 | 20180814                           | 172431                             | 17:24:31                           | 2018-08-14                         | 2018-08-14 17:24:31                | \n",
       "| CUST_163                           | 2C6N9021                           | 아모레퍼시 C 201809   260000(  10) | 12                                 | 20180816                           | 111101                             | 11:11:01                           | 2018-08-16                         | 2018-08-16 11:11:01                | \n",
       "\n",
       "\n"
      ],
      "text/plain": [
       "  CUSTOMER_ID ISSUE_CD ISSUE_NAME                         MARKET_ID QUERY_DATE\n",
       "1 CUST_163    211N9033 삼성전자   C 201809    45000(  10) 12        20180816  \n",
       "2 CUST_163    211N9033 삼성전자   C 201809    45000(  10) 12        20180814  \n",
       "3 CUST_163    211N9033 삼성전자   C 201809    45000(  10) 12        20180816  \n",
       "4 CUST_163    2C6N9021 아모레퍼시 C 201809   260000(  10) 12        20180816  \n",
       "5 CUST_163    2C6N9021 아모레퍼시 C 201809   260000(  10) 12        20180814  \n",
       "6 CUST_163    2C6N9021 아모레퍼시 C 201809   260000(  10) 12        20180816  \n",
       "  QUERY_TIME X2       Y2         DATE_TIME          \n",
       "1 111101     11:11:01 2018-08-16 2018-08-16 11:11:01\n",
       "2 172431     17:24:31 2018-08-14 2018-08-14 17:24:31\n",
       "3 111201     11:12:01 2018-08-16 2018-08-16 11:12:01\n",
       "4 111158     11:11:58 2018-08-16 2018-08-16 11:11:58\n",
       "5 172431     17:24:31 2018-08-14 2018-08-14 17:24:31\n",
       "6 111101     11:11:01 2018-08-16 2018-08-16 11:11:01"
      ]
     },
     "metadata": {},
     "output_type": "display_data"
    }
   ],
   "source": [
    "newcust$DATE_TIME <- paste(newcust$Y2, newcust$X2)\n",
    "head(newcust)"
   ]
  },
  {
   "cell_type": "code",
   "execution_count": 100,
   "metadata": {},
   "outputs": [
    {
     "data": {
      "text/html": [
       "<table>\n",
       "<thead><tr><th scope=col>CUSTOMER_ID</th><th scope=col>ISSUE_CD</th><th scope=col>ISSUE_NAME</th><th scope=col>MARKET_ID</th><th scope=col>QUERY_DATE</th><th scope=col>QUERY_TIME</th><th scope=col>DATE_TIME</th></tr></thead>\n",
       "<tbody>\n",
       "\t<tr><td>CUST_163                          </td><td>211N9033                          </td><td>삼성전자   C 201809    45000(  10)</td><td>12                                </td><td>20180816                          </td><td>111101                            </td><td>2018-08-16 11:11:01               </td></tr>\n",
       "\t<tr><td>CUST_163                          </td><td>211N9033                          </td><td>삼성전자   C 201809    45000(  10)</td><td>12                                </td><td>20180814                          </td><td>172431                            </td><td>2018-08-14 17:24:31               </td></tr>\n",
       "\t<tr><td>CUST_163                          </td><td>211N9033                          </td><td>삼성전자   C 201809    45000(  10)</td><td>12                                </td><td>20180816                          </td><td>111201                            </td><td>2018-08-16 11:12:01               </td></tr>\n",
       "\t<tr><td>CUST_163                          </td><td>2C6N9021                          </td><td>아모레퍼시 C 201809   260000(  10)</td><td>12                                </td><td>20180816                          </td><td>111158                            </td><td>2018-08-16 11:11:58               </td></tr>\n",
       "\t<tr><td>CUST_163                          </td><td>2C6N9021                          </td><td>아모레퍼시 C 201809   260000(  10)</td><td>12                                </td><td>20180814                          </td><td>172431                            </td><td>2018-08-14 17:24:31               </td></tr>\n",
       "\t<tr><td>CUST_163                          </td><td>2C6N9021                          </td><td>아모레퍼시 C 201809   260000(  10)</td><td>12                                </td><td>20180816                          </td><td>111101                            </td><td>2018-08-16 11:11:01               </td></tr>\n",
       "</tbody>\n",
       "</table>\n"
      ],
      "text/latex": [
       "\\begin{tabular}{r|lllllll}\n",
       " CUSTOMER\\_ID & ISSUE\\_CD & ISSUE\\_NAME & MARKET\\_ID & QUERY\\_DATE & QUERY\\_TIME & DATE\\_TIME\\\\\n",
       "\\hline\n",
       "\t CUST\\_163                         & 211N9033                           & 삼성전자   C 201809    45000(  10) & 12                                 & 20180816                           & 111101                             & 2018-08-16 11:11:01               \\\\\n",
       "\t CUST\\_163                         & 211N9033                           & 삼성전자   C 201809    45000(  10) & 12                                 & 20180814                           & 172431                             & 2018-08-14 17:24:31               \\\\\n",
       "\t CUST\\_163                         & 211N9033                           & 삼성전자   C 201809    45000(  10) & 12                                 & 20180816                           & 111201                             & 2018-08-16 11:12:01               \\\\\n",
       "\t CUST\\_163                         & 2C6N9021                           & 아모레퍼시 C 201809   260000(  10) & 12                                 & 20180816                           & 111158                             & 2018-08-16 11:11:58               \\\\\n",
       "\t CUST\\_163                         & 2C6N9021                           & 아모레퍼시 C 201809   260000(  10) & 12                                 & 20180814                           & 172431                             & 2018-08-14 17:24:31               \\\\\n",
       "\t CUST\\_163                         & 2C6N9021                           & 아모레퍼시 C 201809   260000(  10) & 12                                 & 20180816                           & 111101                             & 2018-08-16 11:11:01               \\\\\n",
       "\\end{tabular}\n"
      ],
      "text/markdown": [
       "\n",
       "CUSTOMER_ID | ISSUE_CD | ISSUE_NAME | MARKET_ID | QUERY_DATE | QUERY_TIME | DATE_TIME | \n",
       "|---|---|---|---|---|---|\n",
       "| CUST_163                           | 211N9033                           | 삼성전자   C 201809    45000(  10) | 12                                 | 20180816                           | 111101                             | 2018-08-16 11:11:01                | \n",
       "| CUST_163                           | 211N9033                           | 삼성전자   C 201809    45000(  10) | 12                                 | 20180814                           | 172431                             | 2018-08-14 17:24:31                | \n",
       "| CUST_163                           | 211N9033                           | 삼성전자   C 201809    45000(  10) | 12                                 | 20180816                           | 111201                             | 2018-08-16 11:12:01                | \n",
       "| CUST_163                           | 2C6N9021                           | 아모레퍼시 C 201809   260000(  10) | 12                                 | 20180816                           | 111158                             | 2018-08-16 11:11:58                | \n",
       "| CUST_163                           | 2C6N9021                           | 아모레퍼시 C 201809   260000(  10) | 12                                 | 20180814                           | 172431                             | 2018-08-14 17:24:31                | \n",
       "| CUST_163                           | 2C6N9021                           | 아모레퍼시 C 201809   260000(  10) | 12                                 | 20180816                           | 111101                             | 2018-08-16 11:11:01                | \n",
       "\n",
       "\n"
      ],
      "text/plain": [
       "  CUSTOMER_ID ISSUE_CD ISSUE_NAME                         MARKET_ID QUERY_DATE\n",
       "1 CUST_163    211N9033 삼성전자   C 201809    45000(  10) 12        20180816  \n",
       "2 CUST_163    211N9033 삼성전자   C 201809    45000(  10) 12        20180814  \n",
       "3 CUST_163    211N9033 삼성전자   C 201809    45000(  10) 12        20180816  \n",
       "4 CUST_163    2C6N9021 아모레퍼시 C 201809   260000(  10) 12        20180816  \n",
       "5 CUST_163    2C6N9021 아모레퍼시 C 201809   260000(  10) 12        20180814  \n",
       "6 CUST_163    2C6N9021 아모레퍼시 C 201809   260000(  10) 12        20180816  \n",
       "  QUERY_TIME DATE_TIME          \n",
       "1 111101     2018-08-16 11:11:01\n",
       "2 172431     2018-08-14 17:24:31\n",
       "3 111201     2018-08-16 11:12:01\n",
       "4 111158     2018-08-16 11:11:58\n",
       "5 172431     2018-08-14 17:24:31\n",
       "6 111101     2018-08-16 11:11:01"
      ]
     },
     "metadata": {},
     "output_type": "display_data"
    }
   ],
   "source": [
    "newcust <- subset(newcust, select = c(-X2, -Y2))\n",
    "head(newcust)"
   ]
  },
  {
   "cell_type": "markdown",
   "metadata": {},
   "source": [
    "#### 끝"
   ]
  }
 ],
 "metadata": {
  "kernelspec": {
   "display_name": "R",
   "language": "R",
   "name": "ir"
  },
  "language_info": {
   "codemirror_mode": "r",
   "file_extension": ".r",
   "mimetype": "text/x-r-source",
   "name": "R",
   "pygments_lexer": "r",
   "version": "3.4.3"
  }
 },
 "nbformat": 4,
 "nbformat_minor": 2
}
