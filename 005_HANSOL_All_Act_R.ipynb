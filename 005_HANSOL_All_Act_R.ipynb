{
 "cells": [
  {
   "cell_type": "markdown",
   "metadata": {},
   "source": [
    "# 005_HANSOL_R\n",
    "## 한솔 인티큐브 콜센터 데이터\n",
    " \n",
    "## 데이터 처리 과정\n",
    "### 1) 날짜 / 시간 형식 변경\n",
    "### 2) 무의미한 Coumn 제거\n",
    "### 3) 중복 CaseID 제거\n",
    "### 4) Activity 생성\n",
    "### 5) CALL_DISP 붙이기\n",
    "### 6) START, STOP을 날려보자\n",
    "### 7) 상담원 ID를 넣어보자\n",
    "### 8) LOCID를 넣어보자\n",
    "### 9) ~~ 여부를 넣어보자\n",
    "### 10) 한글로 Colnames, Activity명 바꾸자\n",
    "### 11) 여부를 YES, NO로 바꾸자"
   ]
  },
  {
   "cell_type": "code",
   "execution_count": 14,
   "metadata": {},
   "outputs": [],
   "source": [
    "library(tidyverse)"
   ]
  },
  {
   "cell_type": "code",
   "execution_count": 15,
   "metadata": {},
   "outputs": [],
   "source": [
    "library(plyr)"
   ]
  },
  {
   "cell_type": "code",
   "execution_count": 16,
   "metadata": {},
   "outputs": [],
   "source": [
    "library(reshape2)"
   ]
  },
  {
   "cell_type": "code",
   "execution_count": 17,
   "metadata": {},
   "outputs": [
    {
     "data": {
      "text/html": [
       "<table>\n",
       "<thead><tr><th scope=col>CALLID</th><th scope=col>ACWTIME</th><th scope=col>ANSHOLDTIME</th><th scope=col>CONSULTTIME</th><th scope=col>DISPTIME</th><th scope=col>DURATION</th><th scope=col>SEGSTART</th><th scope=col>SEGSTART_UTC</th><th scope=col>SEGSTOP</th><th scope=col>SEGSTOP_UTC</th><th scope=col>...</th><th scope=col>ASAI_UUI</th><th scope=col>INTERRUPTDEL</th><th scope=col>AGENTSURPLUS</th><th scope=col>AGENTSKILLLEVEL</th><th scope=col>PREFSKILLLEVEL</th><th scope=col>ICRRESENT</th><th scope=col>ICRPULLREASON</th><th scope=col>ORIG_ATTRIB_ID</th><th scope=col>ANS_ATTRIB_ID</th><th scope=col>OBS_ATTRIB_ID</th></tr></thead>\n",
       "<tbody>\n",
       "\t<tr><td>2340243            </td><td>1                  </td><td> 0                 </td><td>0                  </td><td>139                </td><td>393                </td><td>21.12.2016 02:58:32</td><td>20.12.2016 17:58:32</td><td>21.12.2016 03:05:06</td><td>20.12.2016 18:05:06</td><td>...                </td><td>                   </td><td>0                  </td><td>1                  </td><td>4                  </td><td>0                  </td><td>0                  </td><td>0                  </td><td>NA                 </td><td>NA                 </td><td>NA                 </td></tr>\n",
       "\t<tr><td>2340244            </td><td>1                  </td><td> 0                 </td><td>0                  </td><td>119                </td><td>290                </td><td>21.12.2016 03:00:19</td><td>20.12.2016 18:00:19</td><td>21.12.2016 03:05:10</td><td>20.12.2016 18:05:10</td><td>...                </td><td>                   </td><td>0                  </td><td>1                  </td><td>4                  </td><td>0                  </td><td>0                  </td><td>0                  </td><td>NA                 </td><td>NA                 </td><td>NA                 </td></tr>\n",
       "\t<tr><td>2340245            </td><td>0                  </td><td> 0                 </td><td>0                  </td><td> 23                </td><td> 63                </td><td>21.12.2016 03:04:16</td><td>20.12.2016 18:04:16</td><td>21.12.2016 03:05:19</td><td>20.12.2016 18:05:19</td><td>...                </td><td>                   </td><td>0                  </td><td>1                  </td><td>4                  </td><td>0                  </td><td>0                  </td><td>0                  </td><td>NA                 </td><td>NA                 </td><td>NA                 </td></tr>\n",
       "\t<tr><td>2340246            </td><td>0                  </td><td> 0                 </td><td>0                  </td><td> 77                </td><td>205                </td><td>21.12.2016 03:01:55</td><td>20.12.2016 18:01:55</td><td>21.12.2016 03:05:20</td><td>20.12.2016 18:05:20</td><td>...                </td><td>                   </td><td>0                  </td><td>1                  </td><td>4                  </td><td>0                  </td><td>0                  </td><td>0                  </td><td>NA                 </td><td>NA                 </td><td>NA                 </td></tr>\n",
       "\t<tr><td>2340247            </td><td>0                  </td><td> 0                 </td><td>0                  </td><td>  0                </td><td>  0                </td><td>21.12.2016 03:05:21</td><td>20.12.2016 18:05:21</td><td>21.12.2016 03:05:21</td><td>20.12.2016 18:05:21</td><td>...                </td><td>                   </td><td>0                  </td><td>0                  </td><td>0                  </td><td>0                  </td><td>0                  </td><td>0                  </td><td>NA                 </td><td>NA                 </td><td>NA                 </td></tr>\n",
       "\t<tr><td>2340247            </td><td>0                  </td><td>15                 </td><td>0                  </td><td> 21                </td><td>629                </td><td>21.12.2016 02:54:52</td><td>20.12.2016 17:54:52</td><td>21.12.2016 03:05:21</td><td>20.12.2016 18:05:21</td><td>...                </td><td>                   </td><td>0                  </td><td>2                  </td><td>4                  </td><td>0                  </td><td>0                  </td><td>0                  </td><td>NA                 </td><td>NA                 </td><td>NA                 </td></tr>\n",
       "</tbody>\n",
       "</table>\n"
      ],
      "text/latex": [
       "\\begin{tabular}{r|lllllllllllllllllllllllllllllllllllllllllllllllllllllllllllllllllllllllllllllllllllllll}\n",
       " CALLID & ACWTIME & ANSHOLDTIME & CONSULTTIME & DISPTIME & DURATION & SEGSTART & SEGSTART\\_UTC & SEGSTOP & SEGSTOP\\_UTC & ... & ASAI\\_UUI & INTERRUPTDEL & AGENTSURPLUS & AGENTSKILLLEVEL & PREFSKILLLEVEL & ICRRESENT & ICRPULLREASON & ORIG\\_ATTRIB\\_ID & ANS\\_ATTRIB\\_ID & OBS\\_ATTRIB\\_ID\\\\\n",
       "\\hline\n",
       "\t 2340243             & 1                   &  0                  & 0                   & 139                 & 393                 & 21.12.2016 02:58:32 & 20.12.2016 17:58:32 & 21.12.2016 03:05:06 & 20.12.2016 18:05:06 & ...                 &                     & 0                   & 1                   & 4                   & 0                   & 0                   & 0                   & NA                  & NA                  & NA                 \\\\\n",
       "\t 2340244             & 1                   &  0                  & 0                   & 119                 & 290                 & 21.12.2016 03:00:19 & 20.12.2016 18:00:19 & 21.12.2016 03:05:10 & 20.12.2016 18:05:10 & ...                 &                     & 0                   & 1                   & 4                   & 0                   & 0                   & 0                   & NA                  & NA                  & NA                 \\\\\n",
       "\t 2340245             & 0                   &  0                  & 0                   &  23                 &  63                 & 21.12.2016 03:04:16 & 20.12.2016 18:04:16 & 21.12.2016 03:05:19 & 20.12.2016 18:05:19 & ...                 &                     & 0                   & 1                   & 4                   & 0                   & 0                   & 0                   & NA                  & NA                  & NA                 \\\\\n",
       "\t 2340246             & 0                   &  0                  & 0                   &  77                 & 205                 & 21.12.2016 03:01:55 & 20.12.2016 18:01:55 & 21.12.2016 03:05:20 & 20.12.2016 18:05:20 & ...                 &                     & 0                   & 1                   & 4                   & 0                   & 0                   & 0                   & NA                  & NA                  & NA                 \\\\\n",
       "\t 2340247             & 0                   &  0                  & 0                   &   0                 &   0                 & 21.12.2016 03:05:21 & 20.12.2016 18:05:21 & 21.12.2016 03:05:21 & 20.12.2016 18:05:21 & ...                 &                     & 0                   & 0                   & 0                   & 0                   & 0                   & 0                   & NA                  & NA                  & NA                 \\\\\n",
       "\t 2340247             & 0                   & 15                  & 0                   &  21                 & 629                 & 21.12.2016 02:54:52 & 20.12.2016 17:54:52 & 21.12.2016 03:05:21 & 20.12.2016 18:05:21 & ...                 &                     & 0                   & 2                   & 4                   & 0                   & 0                   & 0                   & NA                  & NA                  & NA                 \\\\\n",
       "\\end{tabular}\n"
      ],
      "text/markdown": [
       "\n",
       "CALLID | ACWTIME | ANSHOLDTIME | CONSULTTIME | DISPTIME | DURATION | SEGSTART | SEGSTART_UTC | SEGSTOP | SEGSTOP_UTC | ... | ASAI_UUI | INTERRUPTDEL | AGENTSURPLUS | AGENTSKILLLEVEL | PREFSKILLLEVEL | ICRRESENT | ICRPULLREASON | ORIG_ATTRIB_ID | ANS_ATTRIB_ID | OBS_ATTRIB_ID | \n",
       "|---|---|---|---|---|---|\n",
       "| 2340243             | 1                   |  0                  | 0                   | 139                 | 393                 | 21.12.2016 02:58:32 | 20.12.2016 17:58:32 | 21.12.2016 03:05:06 | 20.12.2016 18:05:06 | ...                 |                     | 0                   | 1                   | 4                   | 0                   | 0                   | 0                   | NA                  | NA                  | NA                  | \n",
       "| 2340244             | 1                   |  0                  | 0                   | 119                 | 290                 | 21.12.2016 03:00:19 | 20.12.2016 18:00:19 | 21.12.2016 03:05:10 | 20.12.2016 18:05:10 | ...                 |                     | 0                   | 1                   | 4                   | 0                   | 0                   | 0                   | NA                  | NA                  | NA                  | \n",
       "| 2340245             | 0                   |  0                  | 0                   |  23                 |  63                 | 21.12.2016 03:04:16 | 20.12.2016 18:04:16 | 21.12.2016 03:05:19 | 20.12.2016 18:05:19 | ...                 |                     | 0                   | 1                   | 4                   | 0                   | 0                   | 0                   | NA                  | NA                  | NA                  | \n",
       "| 2340246             | 0                   |  0                  | 0                   |  77                 | 205                 | 21.12.2016 03:01:55 | 20.12.2016 18:01:55 | 21.12.2016 03:05:20 | 20.12.2016 18:05:20 | ...                 |                     | 0                   | 1                   | 4                   | 0                   | 0                   | 0                   | NA                  | NA                  | NA                  | \n",
       "| 2340247             | 0                   |  0                  | 0                   |   0                 |   0                 | 21.12.2016 03:05:21 | 20.12.2016 18:05:21 | 21.12.2016 03:05:21 | 20.12.2016 18:05:21 | ...                 |                     | 0                   | 0                   | 0                   | 0                   | 0                   | 0                   | NA                  | NA                  | NA                  | \n",
       "| 2340247             | 0                   | 15                  | 0                   |  21                 | 629                 | 21.12.2016 02:54:52 | 20.12.2016 17:54:52 | 21.12.2016 03:05:21 | 20.12.2016 18:05:21 | ...                 |                     | 0                   | 2                   | 4                   | 0                   | 0                   | 0                   | NA                  | NA                  | NA                  | \n",
       "\n",
       "\n"
      ],
      "text/plain": [
       "  CALLID  ACWTIME ANSHOLDTIME CONSULTTIME DISPTIME DURATION SEGSTART           \n",
       "1 2340243 1        0          0           139      393      21.12.2016 02:58:32\n",
       "2 2340244 1        0          0           119      290      21.12.2016 03:00:19\n",
       "3 2340245 0        0          0            23       63      21.12.2016 03:04:16\n",
       "4 2340246 0        0          0            77      205      21.12.2016 03:01:55\n",
       "5 2340247 0        0          0             0        0      21.12.2016 03:05:21\n",
       "6 2340247 0       15          0            21      629      21.12.2016 02:54:52\n",
       "  SEGSTART_UTC        SEGSTOP             SEGSTOP_UTC         ... ASAI_UUI\n",
       "1 20.12.2016 17:58:32 21.12.2016 03:05:06 20.12.2016 18:05:06 ...         \n",
       "2 20.12.2016 18:00:19 21.12.2016 03:05:10 20.12.2016 18:05:10 ...         \n",
       "3 20.12.2016 18:04:16 21.12.2016 03:05:19 20.12.2016 18:05:19 ...         \n",
       "4 20.12.2016 18:01:55 21.12.2016 03:05:20 20.12.2016 18:05:20 ...         \n",
       "5 20.12.2016 18:05:21 21.12.2016 03:05:21 20.12.2016 18:05:21 ...         \n",
       "6 20.12.2016 17:54:52 21.12.2016 03:05:21 20.12.2016 18:05:21 ...         \n",
       "  INTERRUPTDEL AGENTSURPLUS AGENTSKILLLEVEL PREFSKILLLEVEL ICRRESENT\n",
       "1 0            1            4               0              0        \n",
       "2 0            1            4               0              0        \n",
       "3 0            1            4               0              0        \n",
       "4 0            1            4               0              0        \n",
       "5 0            0            0               0              0        \n",
       "6 0            2            4               0              0        \n",
       "  ICRPULLREASON ORIG_ATTRIB_ID ANS_ATTRIB_ID OBS_ATTRIB_ID\n",
       "1 0             NA             NA            NA           \n",
       "2 0             NA             NA            NA           \n",
       "3 0             NA             NA            NA           \n",
       "4 0             NA             NA            NA           \n",
       "5 0             NA             NA            NA           \n",
       "6 0             NA             NA            NA           "
      ]
     },
     "metadata": {},
     "output_type": "display_data"
    }
   ],
   "source": [
    "hansol <- read.csv(\"C:\\\\Users\\\\진수빈\\\\Desktop\\\\hansol\\\\ECHI_WORK_R18_LOTTE.csv\", skip = 1)\n",
    "head(hansol)"
   ]
  },
  {
   "cell_type": "markdown",
   "metadata": {},
   "source": [
    "## 1. 날짜 / 시간 형식 바꾸기"
   ]
  },
  {
   "cell_type": "code",
   "execution_count": 18,
   "metadata": {},
   "outputs": [
    {
     "data": {
      "text/html": [
       "<table>\n",
       "<thead><tr><th scope=col>SEGSTART</th><th scope=col>SEGSTART_UTC</th><th scope=col>SEGSTOP</th><th scope=col>SEGSTOP_UTC</th></tr></thead>\n",
       "<tbody>\n",
       "\t<tr><td>21.12.2016 02:58:32</td><td>20.12.2016 17:58:32</td><td>21.12.2016 03:05:06</td><td>20.12.2016 18:05:06</td></tr>\n",
       "\t<tr><td>21.12.2016 03:00:19</td><td>20.12.2016 18:00:19</td><td>21.12.2016 03:05:10</td><td>20.12.2016 18:05:10</td></tr>\n",
       "\t<tr><td>21.12.2016 03:04:16</td><td>20.12.2016 18:04:16</td><td>21.12.2016 03:05:19</td><td>20.12.2016 18:05:19</td></tr>\n",
       "\t<tr><td>21.12.2016 03:01:55</td><td>20.12.2016 18:01:55</td><td>21.12.2016 03:05:20</td><td>20.12.2016 18:05:20</td></tr>\n",
       "\t<tr><td>21.12.2016 03:05:21</td><td>20.12.2016 18:05:21</td><td>21.12.2016 03:05:21</td><td>20.12.2016 18:05:21</td></tr>\n",
       "\t<tr><td>21.12.2016 02:54:52</td><td>20.12.2016 17:54:52</td><td>21.12.2016 03:05:21</td><td>20.12.2016 18:05:21</td></tr>\n",
       "</tbody>\n",
       "</table>\n"
      ],
      "text/latex": [
       "\\begin{tabular}{r|llll}\n",
       " SEGSTART & SEGSTART\\_UTC & SEGSTOP & SEGSTOP\\_UTC\\\\\n",
       "\\hline\n",
       "\t 21.12.2016 02:58:32 & 20.12.2016 17:58:32 & 21.12.2016 03:05:06 & 20.12.2016 18:05:06\\\\\n",
       "\t 21.12.2016 03:00:19 & 20.12.2016 18:00:19 & 21.12.2016 03:05:10 & 20.12.2016 18:05:10\\\\\n",
       "\t 21.12.2016 03:04:16 & 20.12.2016 18:04:16 & 21.12.2016 03:05:19 & 20.12.2016 18:05:19\\\\\n",
       "\t 21.12.2016 03:01:55 & 20.12.2016 18:01:55 & 21.12.2016 03:05:20 & 20.12.2016 18:05:20\\\\\n",
       "\t 21.12.2016 03:05:21 & 20.12.2016 18:05:21 & 21.12.2016 03:05:21 & 20.12.2016 18:05:21\\\\\n",
       "\t 21.12.2016 02:54:52 & 20.12.2016 17:54:52 & 21.12.2016 03:05:21 & 20.12.2016 18:05:21\\\\\n",
       "\\end{tabular}\n"
      ],
      "text/markdown": [
       "\n",
       "SEGSTART | SEGSTART_UTC | SEGSTOP | SEGSTOP_UTC | \n",
       "|---|---|---|---|---|---|\n",
       "| 21.12.2016 02:58:32 | 20.12.2016 17:58:32 | 21.12.2016 03:05:06 | 20.12.2016 18:05:06 | \n",
       "| 21.12.2016 03:00:19 | 20.12.2016 18:00:19 | 21.12.2016 03:05:10 | 20.12.2016 18:05:10 | \n",
       "| 21.12.2016 03:04:16 | 20.12.2016 18:04:16 | 21.12.2016 03:05:19 | 20.12.2016 18:05:19 | \n",
       "| 21.12.2016 03:01:55 | 20.12.2016 18:01:55 | 21.12.2016 03:05:20 | 20.12.2016 18:05:20 | \n",
       "| 21.12.2016 03:05:21 | 20.12.2016 18:05:21 | 21.12.2016 03:05:21 | 20.12.2016 18:05:21 | \n",
       "| 21.12.2016 02:54:52 | 20.12.2016 17:54:52 | 21.12.2016 03:05:21 | 20.12.2016 18:05:21 | \n",
       "\n",
       "\n"
      ],
      "text/plain": [
       "  SEGSTART            SEGSTART_UTC        SEGSTOP            \n",
       "1 21.12.2016 02:58:32 20.12.2016 17:58:32 21.12.2016 03:05:06\n",
       "2 21.12.2016 03:00:19 20.12.2016 18:00:19 21.12.2016 03:05:10\n",
       "3 21.12.2016 03:04:16 20.12.2016 18:04:16 21.12.2016 03:05:19\n",
       "4 21.12.2016 03:01:55 20.12.2016 18:01:55 21.12.2016 03:05:20\n",
       "5 21.12.2016 03:05:21 20.12.2016 18:05:21 21.12.2016 03:05:21\n",
       "6 21.12.2016 02:54:52 20.12.2016 17:54:52 21.12.2016 03:05:21\n",
       "  SEGSTOP_UTC        \n",
       "1 20.12.2016 18:05:06\n",
       "2 20.12.2016 18:05:10\n",
       "3 20.12.2016 18:05:19\n",
       "4 20.12.2016 18:05:20\n",
       "5 20.12.2016 18:05:21\n",
       "6 20.12.2016 18:05:21"
      ]
     },
     "metadata": {},
     "output_type": "display_data"
    }
   ],
   "source": [
    "datetime <- select(hansol, SEGSTART, SEGSTART_UTC, SEGSTOP, SEGSTOP_UTC)\n",
    "head(datetime)"
   ]
  },
  {
   "cell_type": "markdown",
   "metadata": {},
   "source": [
    "### 1) Character 변환"
   ]
  },
  {
   "cell_type": "code",
   "execution_count": 19,
   "metadata": {},
   "outputs": [],
   "source": [
    "datetime$SEGSTART <- as.character(datetime$SEGSTART)\n",
    "datetime$SEGSTART_UTC <- as.character(datetime$SEGSTART_UTC)\n",
    "datetime$SEGSTOP <- as.character(datetime$SEGSTOP)\n",
    "datetime$SEGSTOP_UTC <- as.character(datetime$SEGSTOP_UTC)"
   ]
  },
  {
   "cell_type": "markdown",
   "metadata": {},
   "source": [
    "### 2) SETSTART 변환"
   ]
  },
  {
   "cell_type": "code",
   "execution_count": 20,
   "metadata": {},
   "outputs": [
    {
     "data": {
      "text/html": [
       "<ol>\n",
       "\t<li><ol class=list-inline>\n",
       "\t<li>'21.12.2016'</li>\n",
       "\t<li>'02:58:32'</li>\n",
       "</ol>\n",
       "</li>\n",
       "\t<li><ol class=list-inline>\n",
       "\t<li>'21.12.2016'</li>\n",
       "\t<li>'03:00:19'</li>\n",
       "</ol>\n",
       "</li>\n",
       "\t<li><ol class=list-inline>\n",
       "\t<li>'21.12.2016'</li>\n",
       "\t<li>'03:04:16'</li>\n",
       "</ol>\n",
       "</li>\n",
       "\t<li><ol class=list-inline>\n",
       "\t<li>'21.12.2016'</li>\n",
       "\t<li>'03:01:55'</li>\n",
       "</ol>\n",
       "</li>\n",
       "\t<li><ol class=list-inline>\n",
       "\t<li>'21.12.2016'</li>\n",
       "\t<li>'03:05:21'</li>\n",
       "</ol>\n",
       "</li>\n",
       "\t<li><ol class=list-inline>\n",
       "\t<li>'21.12.2016'</li>\n",
       "\t<li>'02:54:52'</li>\n",
       "</ol>\n",
       "</li>\n",
       "</ol>\n"
      ],
      "text/latex": [
       "\\begin{enumerate}\n",
       "\\item \\begin{enumerate*}\n",
       "\\item '21.12.2016'\n",
       "\\item '02:58:32'\n",
       "\\end{enumerate*}\n",
       "\n",
       "\\item \\begin{enumerate*}\n",
       "\\item '21.12.2016'\n",
       "\\item '03:00:19'\n",
       "\\end{enumerate*}\n",
       "\n",
       "\\item \\begin{enumerate*}\n",
       "\\item '21.12.2016'\n",
       "\\item '03:04:16'\n",
       "\\end{enumerate*}\n",
       "\n",
       "\\item \\begin{enumerate*}\n",
       "\\item '21.12.2016'\n",
       "\\item '03:01:55'\n",
       "\\end{enumerate*}\n",
       "\n",
       "\\item \\begin{enumerate*}\n",
       "\\item '21.12.2016'\n",
       "\\item '03:05:21'\n",
       "\\end{enumerate*}\n",
       "\n",
       "\\item \\begin{enumerate*}\n",
       "\\item '21.12.2016'\n",
       "\\item '02:54:52'\n",
       "\\end{enumerate*}\n",
       "\n",
       "\\end{enumerate}\n"
      ],
      "text/markdown": [
       "1. 1. '21.12.2016'\n",
       "2. '02:58:32'\n",
       "\n",
       "\n",
       "\n",
       "2. 1. '21.12.2016'\n",
       "2. '03:00:19'\n",
       "\n",
       "\n",
       "\n",
       "3. 1. '21.12.2016'\n",
       "2. '03:04:16'\n",
       "\n",
       "\n",
       "\n",
       "4. 1. '21.12.2016'\n",
       "2. '03:01:55'\n",
       "\n",
       "\n",
       "\n",
       "5. 1. '21.12.2016'\n",
       "2. '03:05:21'\n",
       "\n",
       "\n",
       "\n",
       "6. 1. '21.12.2016'\n",
       "2. '02:54:52'\n",
       "\n",
       "\n",
       "\n",
       "\n",
       "\n"
      ],
      "text/plain": [
       "[[1]]\n",
       "[1] \"21.12.2016\" \"02:58:32\"  \n",
       "\n",
       "[[2]]\n",
       "[1] \"21.12.2016\" \"03:00:19\"  \n",
       "\n",
       "[[3]]\n",
       "[1] \"21.12.2016\" \"03:04:16\"  \n",
       "\n",
       "[[4]]\n",
       "[1] \"21.12.2016\" \"03:01:55\"  \n",
       "\n",
       "[[5]]\n",
       "[1] \"21.12.2016\" \"03:05:21\"  \n",
       "\n",
       "[[6]]\n",
       "[1] \"21.12.2016\" \"02:54:52\"  \n"
      ]
     },
     "metadata": {},
     "output_type": "display_data"
    }
   ],
   "source": [
    "std <- strsplit(datetime$SEGSTART, split = \" \")\n",
    "head(std)"
   ]
  },
  {
   "cell_type": "code",
   "execution_count": 21,
   "metadata": {},
   "outputs": [
    {
     "data": {
      "text/html": [
       "<table>\n",
       "<thead><tr><th scope=col>X1</th><th scope=col>X2</th></tr></thead>\n",
       "<tbody>\n",
       "\t<tr><td>21.12.2016</td><td>02:58:32  </td></tr>\n",
       "\t<tr><td>21.12.2016</td><td>03:00:19  </td></tr>\n",
       "\t<tr><td>21.12.2016</td><td>03:04:16  </td></tr>\n",
       "\t<tr><td>21.12.2016</td><td>03:01:55  </td></tr>\n",
       "\t<tr><td>21.12.2016</td><td>03:05:21  </td></tr>\n",
       "\t<tr><td>21.12.2016</td><td>02:54:52  </td></tr>\n",
       "</tbody>\n",
       "</table>\n"
      ],
      "text/latex": [
       "\\begin{tabular}{r|ll}\n",
       " X1 & X2\\\\\n",
       "\\hline\n",
       "\t 21.12.2016 & 02:58:32  \\\\\n",
       "\t 21.12.2016 & 03:00:19  \\\\\n",
       "\t 21.12.2016 & 03:04:16  \\\\\n",
       "\t 21.12.2016 & 03:01:55  \\\\\n",
       "\t 21.12.2016 & 03:05:21  \\\\\n",
       "\t 21.12.2016 & 02:54:52  \\\\\n",
       "\\end{tabular}\n"
      ],
      "text/markdown": [
       "\n",
       "X1 | X2 | \n",
       "|---|---|---|---|---|---|\n",
       "| 21.12.2016 | 02:58:32   | \n",
       "| 21.12.2016 | 03:00:19   | \n",
       "| 21.12.2016 | 03:04:16   | \n",
       "| 21.12.2016 | 03:01:55   | \n",
       "| 21.12.2016 | 03:05:21   | \n",
       "| 21.12.2016 | 02:54:52   | \n",
       "\n",
       "\n"
      ],
      "text/plain": [
       "  X1         X2      \n",
       "1 21.12.2016 02:58:32\n",
       "2 21.12.2016 03:00:19\n",
       "3 21.12.2016 03:04:16\n",
       "4 21.12.2016 03:01:55\n",
       "5 21.12.2016 03:05:21\n",
       "6 21.12.2016 02:54:52"
      ]
     },
     "metadata": {},
     "output_type": "display_data"
    }
   ],
   "source": [
    "std <- data.frame(t(sapply(std, '[')))\n",
    "head(std)"
   ]
  },
  {
   "cell_type": "code",
   "execution_count": 22,
   "metadata": {},
   "outputs": [
    {
     "data": {
      "text/html": [
       "'character'"
      ],
      "text/latex": [
       "'character'"
      ],
      "text/markdown": [
       "'character'"
      ],
      "text/plain": [
       "[1] \"character\""
      ]
     },
     "metadata": {},
     "output_type": "display_data"
    },
    {
     "data": {
      "text/html": [
       "'character'"
      ],
      "text/latex": [
       "'character'"
      ],
      "text/markdown": [
       "'character'"
      ],
      "text/plain": [
       "[1] \"character\""
      ]
     },
     "metadata": {},
     "output_type": "display_data"
    }
   ],
   "source": [
    "std$X1 <- as.character(std$X1)\n",
    "std$X2 <- as.character(std$X2)\n",
    "class(std$X1)\n",
    "class(std$X2)"
   ]
  },
  {
   "cell_type": "code",
   "execution_count": 23,
   "metadata": {},
   "outputs": [
    {
     "data": {
      "text/html": [
       "<ol>\n",
       "\t<li><ol class=list-inline>\n",
       "\t<li>'21'</li>\n",
       "\t<li>'12'</li>\n",
       "\t<li>'2016'</li>\n",
       "</ol>\n",
       "</li>\n",
       "\t<li><ol class=list-inline>\n",
       "\t<li>'21'</li>\n",
       "\t<li>'12'</li>\n",
       "\t<li>'2016'</li>\n",
       "</ol>\n",
       "</li>\n",
       "\t<li><ol class=list-inline>\n",
       "\t<li>'21'</li>\n",
       "\t<li>'12'</li>\n",
       "\t<li>'2016'</li>\n",
       "</ol>\n",
       "</li>\n",
       "\t<li><ol class=list-inline>\n",
       "\t<li>'21'</li>\n",
       "\t<li>'12'</li>\n",
       "\t<li>'2016'</li>\n",
       "</ol>\n",
       "</li>\n",
       "\t<li><ol class=list-inline>\n",
       "\t<li>'21'</li>\n",
       "\t<li>'12'</li>\n",
       "\t<li>'2016'</li>\n",
       "</ol>\n",
       "</li>\n",
       "\t<li><ol class=list-inline>\n",
       "\t<li>'21'</li>\n",
       "\t<li>'12'</li>\n",
       "\t<li>'2016'</li>\n",
       "</ol>\n",
       "</li>\n",
       "</ol>\n"
      ],
      "text/latex": [
       "\\begin{enumerate}\n",
       "\\item \\begin{enumerate*}\n",
       "\\item '21'\n",
       "\\item '12'\n",
       "\\item '2016'\n",
       "\\end{enumerate*}\n",
       "\n",
       "\\item \\begin{enumerate*}\n",
       "\\item '21'\n",
       "\\item '12'\n",
       "\\item '2016'\n",
       "\\end{enumerate*}\n",
       "\n",
       "\\item \\begin{enumerate*}\n",
       "\\item '21'\n",
       "\\item '12'\n",
       "\\item '2016'\n",
       "\\end{enumerate*}\n",
       "\n",
       "\\item \\begin{enumerate*}\n",
       "\\item '21'\n",
       "\\item '12'\n",
       "\\item '2016'\n",
       "\\end{enumerate*}\n",
       "\n",
       "\\item \\begin{enumerate*}\n",
       "\\item '21'\n",
       "\\item '12'\n",
       "\\item '2016'\n",
       "\\end{enumerate*}\n",
       "\n",
       "\\item \\begin{enumerate*}\n",
       "\\item '21'\n",
       "\\item '12'\n",
       "\\item '2016'\n",
       "\\end{enumerate*}\n",
       "\n",
       "\\end{enumerate}\n"
      ],
      "text/markdown": [
       "1. 1. '21'\n",
       "2. '12'\n",
       "3. '2016'\n",
       "\n",
       "\n",
       "\n",
       "2. 1. '21'\n",
       "2. '12'\n",
       "3. '2016'\n",
       "\n",
       "\n",
       "\n",
       "3. 1. '21'\n",
       "2. '12'\n",
       "3. '2016'\n",
       "\n",
       "\n",
       "\n",
       "4. 1. '21'\n",
       "2. '12'\n",
       "3. '2016'\n",
       "\n",
       "\n",
       "\n",
       "5. 1. '21'\n",
       "2. '12'\n",
       "3. '2016'\n",
       "\n",
       "\n",
       "\n",
       "6. 1. '21'\n",
       "2. '12'\n",
       "3. '2016'\n",
       "\n",
       "\n",
       "\n",
       "\n",
       "\n"
      ],
      "text/plain": [
       "[[1]]\n",
       "[1] \"21\"   \"12\"   \"2016\"\n",
       "\n",
       "[[2]]\n",
       "[1] \"21\"   \"12\"   \"2016\"\n",
       "\n",
       "[[3]]\n",
       "[1] \"21\"   \"12\"   \"2016\"\n",
       "\n",
       "[[4]]\n",
       "[1] \"21\"   \"12\"   \"2016\"\n",
       "\n",
       "[[5]]\n",
       "[1] \"21\"   \"12\"   \"2016\"\n",
       "\n",
       "[[6]]\n",
       "[1] \"21\"   \"12\"   \"2016\"\n"
      ]
     },
     "metadata": {},
     "output_type": "display_data"
    },
    {
     "data": {
      "text/html": [
       "<table>\n",
       "<thead><tr><th scope=col>X1</th><th scope=col>X2</th><th scope=col>X3</th></tr></thead>\n",
       "<tbody>\n",
       "\t<tr><td>21  </td><td>12  </td><td>2016</td></tr>\n",
       "\t<tr><td>21  </td><td>12  </td><td>2016</td></tr>\n",
       "\t<tr><td>21  </td><td>12  </td><td>2016</td></tr>\n",
       "\t<tr><td>21  </td><td>12  </td><td>2016</td></tr>\n",
       "\t<tr><td>21  </td><td>12  </td><td>2016</td></tr>\n",
       "\t<tr><td>21  </td><td>12  </td><td>2016</td></tr>\n",
       "</tbody>\n",
       "</table>\n"
      ],
      "text/latex": [
       "\\begin{tabular}{r|lll}\n",
       " X1 & X2 & X3\\\\\n",
       "\\hline\n",
       "\t 21   & 12   & 2016\\\\\n",
       "\t 21   & 12   & 2016\\\\\n",
       "\t 21   & 12   & 2016\\\\\n",
       "\t 21   & 12   & 2016\\\\\n",
       "\t 21   & 12   & 2016\\\\\n",
       "\t 21   & 12   & 2016\\\\\n",
       "\\end{tabular}\n"
      ],
      "text/markdown": [
       "\n",
       "X1 | X2 | X3 | \n",
       "|---|---|---|---|---|---|\n",
       "| 21   | 12   | 2016 | \n",
       "| 21   | 12   | 2016 | \n",
       "| 21   | 12   | 2016 | \n",
       "| 21   | 12   | 2016 | \n",
       "| 21   | 12   | 2016 | \n",
       "| 21   | 12   | 2016 | \n",
       "\n",
       "\n"
      ],
      "text/plain": [
       "  X1 X2 X3  \n",
       "1 21 12 2016\n",
       "2 21 12 2016\n",
       "3 21 12 2016\n",
       "4 21 12 2016\n",
       "5 21 12 2016\n",
       "6 21 12 2016"
      ]
     },
     "metadata": {},
     "output_type": "display_data"
    }
   ],
   "source": [
    "std2 <- strsplit(std$X1, split = \"\\\\.\")\n",
    "head(std2)\n",
    "\n",
    "std2 <- data.frame(t(sapply(std2, '[')))\n",
    "head(std2)"
   ]
  },
  {
   "cell_type": "code",
   "execution_count": 24,
   "metadata": {},
   "outputs": [
    {
     "data": {
      "text/html": [
       "<table>\n",
       "<thead><tr><th scope=col>X1</th><th scope=col>X2</th><th scope=col>X3</th><th scope=col>X4</th></tr></thead>\n",
       "<tbody>\n",
       "\t<tr><td>21        </td><td>12        </td><td>2016      </td><td>2016-12-21</td></tr>\n",
       "\t<tr><td>21        </td><td>12        </td><td>2016      </td><td>2016-12-21</td></tr>\n",
       "\t<tr><td>21        </td><td>12        </td><td>2016      </td><td>2016-12-21</td></tr>\n",
       "\t<tr><td>21        </td><td>12        </td><td>2016      </td><td>2016-12-21</td></tr>\n",
       "\t<tr><td>21        </td><td>12        </td><td>2016      </td><td>2016-12-21</td></tr>\n",
       "\t<tr><td>21        </td><td>12        </td><td>2016      </td><td>2016-12-21</td></tr>\n",
       "</tbody>\n",
       "</table>\n"
      ],
      "text/latex": [
       "\\begin{tabular}{r|llll}\n",
       " X1 & X2 & X3 & X4\\\\\n",
       "\\hline\n",
       "\t 21         & 12         & 2016       & 2016-12-21\\\\\n",
       "\t 21         & 12         & 2016       & 2016-12-21\\\\\n",
       "\t 21         & 12         & 2016       & 2016-12-21\\\\\n",
       "\t 21         & 12         & 2016       & 2016-12-21\\\\\n",
       "\t 21         & 12         & 2016       & 2016-12-21\\\\\n",
       "\t 21         & 12         & 2016       & 2016-12-21\\\\\n",
       "\\end{tabular}\n"
      ],
      "text/markdown": [
       "\n",
       "X1 | X2 | X3 | X4 | \n",
       "|---|---|---|---|---|---|\n",
       "| 21         | 12         | 2016       | 2016-12-21 | \n",
       "| 21         | 12         | 2016       | 2016-12-21 | \n",
       "| 21         | 12         | 2016       | 2016-12-21 | \n",
       "| 21         | 12         | 2016       | 2016-12-21 | \n",
       "| 21         | 12         | 2016       | 2016-12-21 | \n",
       "| 21         | 12         | 2016       | 2016-12-21 | \n",
       "\n",
       "\n"
      ],
      "text/plain": [
       "  X1 X2 X3   X4        \n",
       "1 21 12 2016 2016-12-21\n",
       "2 21 12 2016 2016-12-21\n",
       "3 21 12 2016 2016-12-21\n",
       "4 21 12 2016 2016-12-21\n",
       "5 21 12 2016 2016-12-21\n",
       "6 21 12 2016 2016-12-21"
      ]
     },
     "metadata": {},
     "output_type": "display_data"
    },
    {
     "data": {
      "text/html": [
       "<table>\n",
       "<thead><tr><th scope=col>X1</th><th scope=col>X2</th><th scope=col>X3</th><th scope=col>X4</th></tr></thead>\n",
       "<tbody>\n",
       "\t<tr><td>21                 </td><td>12                 </td><td>2016               </td><td>2016-12-21 02:58:32</td></tr>\n",
       "\t<tr><td>21                 </td><td>12                 </td><td>2016               </td><td>2016-12-21 03:00:19</td></tr>\n",
       "\t<tr><td>21                 </td><td>12                 </td><td>2016               </td><td>2016-12-21 03:04:16</td></tr>\n",
       "\t<tr><td>21                 </td><td>12                 </td><td>2016               </td><td>2016-12-21 03:01:55</td></tr>\n",
       "\t<tr><td>21                 </td><td>12                 </td><td>2016               </td><td>2016-12-21 03:05:21</td></tr>\n",
       "\t<tr><td>21                 </td><td>12                 </td><td>2016               </td><td>2016-12-21 02:54:52</td></tr>\n",
       "</tbody>\n",
       "</table>\n"
      ],
      "text/latex": [
       "\\begin{tabular}{r|llll}\n",
       " X1 & X2 & X3 & X4\\\\\n",
       "\\hline\n",
       "\t 21                  & 12                  & 2016                & 2016-12-21 02:58:32\\\\\n",
       "\t 21                  & 12                  & 2016                & 2016-12-21 03:00:19\\\\\n",
       "\t 21                  & 12                  & 2016                & 2016-12-21 03:04:16\\\\\n",
       "\t 21                  & 12                  & 2016                & 2016-12-21 03:01:55\\\\\n",
       "\t 21                  & 12                  & 2016                & 2016-12-21 03:05:21\\\\\n",
       "\t 21                  & 12                  & 2016                & 2016-12-21 02:54:52\\\\\n",
       "\\end{tabular}\n"
      ],
      "text/markdown": [
       "\n",
       "X1 | X2 | X3 | X4 | \n",
       "|---|---|---|---|---|---|\n",
       "| 21                  | 12                  | 2016                | 2016-12-21 02:58:32 | \n",
       "| 21                  | 12                  | 2016                | 2016-12-21 03:00:19 | \n",
       "| 21                  | 12                  | 2016                | 2016-12-21 03:04:16 | \n",
       "| 21                  | 12                  | 2016                | 2016-12-21 03:01:55 | \n",
       "| 21                  | 12                  | 2016                | 2016-12-21 03:05:21 | \n",
       "| 21                  | 12                  | 2016                | 2016-12-21 02:54:52 | \n",
       "\n",
       "\n"
      ],
      "text/plain": [
       "  X1 X2 X3   X4                 \n",
       "1 21 12 2016 2016-12-21 02:58:32\n",
       "2 21 12 2016 2016-12-21 03:00:19\n",
       "3 21 12 2016 2016-12-21 03:04:16\n",
       "4 21 12 2016 2016-12-21 03:01:55\n",
       "5 21 12 2016 2016-12-21 03:05:21\n",
       "6 21 12 2016 2016-12-21 02:54:52"
      ]
     },
     "metadata": {},
     "output_type": "display_data"
    }
   ],
   "source": [
    "std2$X4 <- paste0(std2$X3, \"-\", std2$X2, \"-\", std2$X1)\n",
    "head(std2)\n",
    "\n",
    "std2$X4 <- paste(std2$X4, std$X2)\n",
    "head(std2)"
   ]
  },
  {
   "cell_type": "code",
   "execution_count": 24,
   "metadata": {},
   "outputs": [
    {
     "data": {
      "text/html": [
       "<table>\n",
       "<thead><tr><th scope=col>SEGSTART</th><th scope=col>SEGSTART_UTC</th><th scope=col>SEGSTOP</th><th scope=col>SEGSTOP_UTC</th></tr></thead>\n",
       "<tbody>\n",
       "\t<tr><td>2016-12-21 02:58:32</td><td>20.12.2016 17:58:32</td><td>21.12.2016 03:05:06</td><td>20.12.2016 18:05:06</td></tr>\n",
       "\t<tr><td>2016-12-21 03:00:19</td><td>20.12.2016 18:00:19</td><td>21.12.2016 03:05:10</td><td>20.12.2016 18:05:10</td></tr>\n",
       "\t<tr><td>2016-12-21 03:04:16</td><td>20.12.2016 18:04:16</td><td>21.12.2016 03:05:19</td><td>20.12.2016 18:05:19</td></tr>\n",
       "\t<tr><td>2016-12-21 03:01:55</td><td>20.12.2016 18:01:55</td><td>21.12.2016 03:05:20</td><td>20.12.2016 18:05:20</td></tr>\n",
       "\t<tr><td>2016-12-21 03:05:21</td><td>20.12.2016 18:05:21</td><td>21.12.2016 03:05:21</td><td>20.12.2016 18:05:21</td></tr>\n",
       "\t<tr><td>2016-12-21 02:54:52</td><td>20.12.2016 17:54:52</td><td>21.12.2016 03:05:21</td><td>20.12.2016 18:05:21</td></tr>\n",
       "</tbody>\n",
       "</table>\n"
      ],
      "text/latex": [
       "\\begin{tabular}{r|llll}\n",
       " SEGSTART & SEGSTART\\_UTC & SEGSTOP & SEGSTOP\\_UTC\\\\\n",
       "\\hline\n",
       "\t 2016-12-21 02:58:32 & 20.12.2016 17:58:32 & 21.12.2016 03:05:06 & 20.12.2016 18:05:06\\\\\n",
       "\t 2016-12-21 03:00:19 & 20.12.2016 18:00:19 & 21.12.2016 03:05:10 & 20.12.2016 18:05:10\\\\\n",
       "\t 2016-12-21 03:04:16 & 20.12.2016 18:04:16 & 21.12.2016 03:05:19 & 20.12.2016 18:05:19\\\\\n",
       "\t 2016-12-21 03:01:55 & 20.12.2016 18:01:55 & 21.12.2016 03:05:20 & 20.12.2016 18:05:20\\\\\n",
       "\t 2016-12-21 03:05:21 & 20.12.2016 18:05:21 & 21.12.2016 03:05:21 & 20.12.2016 18:05:21\\\\\n",
       "\t 2016-12-21 02:54:52 & 20.12.2016 17:54:52 & 21.12.2016 03:05:21 & 20.12.2016 18:05:21\\\\\n",
       "\\end{tabular}\n"
      ],
      "text/markdown": [
       "\n",
       "SEGSTART | SEGSTART_UTC | SEGSTOP | SEGSTOP_UTC | \n",
       "|---|---|---|---|---|---|\n",
       "| 2016-12-21 02:58:32 | 20.12.2016 17:58:32 | 21.12.2016 03:05:06 | 20.12.2016 18:05:06 | \n",
       "| 2016-12-21 03:00:19 | 20.12.2016 18:00:19 | 21.12.2016 03:05:10 | 20.12.2016 18:05:10 | \n",
       "| 2016-12-21 03:04:16 | 20.12.2016 18:04:16 | 21.12.2016 03:05:19 | 20.12.2016 18:05:19 | \n",
       "| 2016-12-21 03:01:55 | 20.12.2016 18:01:55 | 21.12.2016 03:05:20 | 20.12.2016 18:05:20 | \n",
       "| 2016-12-21 03:05:21 | 20.12.2016 18:05:21 | 21.12.2016 03:05:21 | 20.12.2016 18:05:21 | \n",
       "| 2016-12-21 02:54:52 | 20.12.2016 17:54:52 | 21.12.2016 03:05:21 | 20.12.2016 18:05:21 | \n",
       "\n",
       "\n"
      ],
      "text/plain": [
       "  SEGSTART            SEGSTART_UTC        SEGSTOP            \n",
       "1 2016-12-21 02:58:32 20.12.2016 17:58:32 21.12.2016 03:05:06\n",
       "2 2016-12-21 03:00:19 20.12.2016 18:00:19 21.12.2016 03:05:10\n",
       "3 2016-12-21 03:04:16 20.12.2016 18:04:16 21.12.2016 03:05:19\n",
       "4 2016-12-21 03:01:55 20.12.2016 18:01:55 21.12.2016 03:05:20\n",
       "5 2016-12-21 03:05:21 20.12.2016 18:05:21 21.12.2016 03:05:21\n",
       "6 2016-12-21 02:54:52 20.12.2016 17:54:52 21.12.2016 03:05:21\n",
       "  SEGSTOP_UTC        \n",
       "1 20.12.2016 18:05:06\n",
       "2 20.12.2016 18:05:10\n",
       "3 20.12.2016 18:05:19\n",
       "4 20.12.2016 18:05:20\n",
       "5 20.12.2016 18:05:21\n",
       "6 20.12.2016 18:05:21"
      ]
     },
     "metadata": {},
     "output_type": "display_data"
    }
   ],
   "source": [
    "datetime$SEGSTART <- std2$X4\n",
    "head(datetime)"
   ]
  },
  {
   "cell_type": "markdown",
   "metadata": {},
   "source": [
    "### 3) SETSTART_UTC 변환\n",
    "### - 똑같은 방법"
   ]
  },
  {
   "cell_type": "code",
   "execution_count": 25,
   "metadata": {},
   "outputs": [
    {
     "data": {
      "text/html": [
       "<ol>\n",
       "\t<li><ol class=list-inline>\n",
       "\t<li>'20.12.2016'</li>\n",
       "\t<li>'17:58:32'</li>\n",
       "</ol>\n",
       "</li>\n",
       "\t<li><ol class=list-inline>\n",
       "\t<li>'20.12.2016'</li>\n",
       "\t<li>'18:00:19'</li>\n",
       "</ol>\n",
       "</li>\n",
       "\t<li><ol class=list-inline>\n",
       "\t<li>'20.12.2016'</li>\n",
       "\t<li>'18:04:16'</li>\n",
       "</ol>\n",
       "</li>\n",
       "\t<li><ol class=list-inline>\n",
       "\t<li>'20.12.2016'</li>\n",
       "\t<li>'18:01:55'</li>\n",
       "</ol>\n",
       "</li>\n",
       "\t<li><ol class=list-inline>\n",
       "\t<li>'20.12.2016'</li>\n",
       "\t<li>'18:05:21'</li>\n",
       "</ol>\n",
       "</li>\n",
       "\t<li><ol class=list-inline>\n",
       "\t<li>'20.12.2016'</li>\n",
       "\t<li>'17:54:52'</li>\n",
       "</ol>\n",
       "</li>\n",
       "</ol>\n"
      ],
      "text/latex": [
       "\\begin{enumerate}\n",
       "\\item \\begin{enumerate*}\n",
       "\\item '20.12.2016'\n",
       "\\item '17:58:32'\n",
       "\\end{enumerate*}\n",
       "\n",
       "\\item \\begin{enumerate*}\n",
       "\\item '20.12.2016'\n",
       "\\item '18:00:19'\n",
       "\\end{enumerate*}\n",
       "\n",
       "\\item \\begin{enumerate*}\n",
       "\\item '20.12.2016'\n",
       "\\item '18:04:16'\n",
       "\\end{enumerate*}\n",
       "\n",
       "\\item \\begin{enumerate*}\n",
       "\\item '20.12.2016'\n",
       "\\item '18:01:55'\n",
       "\\end{enumerate*}\n",
       "\n",
       "\\item \\begin{enumerate*}\n",
       "\\item '20.12.2016'\n",
       "\\item '18:05:21'\n",
       "\\end{enumerate*}\n",
       "\n",
       "\\item \\begin{enumerate*}\n",
       "\\item '20.12.2016'\n",
       "\\item '17:54:52'\n",
       "\\end{enumerate*}\n",
       "\n",
       "\\end{enumerate}\n"
      ],
      "text/markdown": [
       "1. 1. '20.12.2016'\n",
       "2. '17:58:32'\n",
       "\n",
       "\n",
       "\n",
       "2. 1. '20.12.2016'\n",
       "2. '18:00:19'\n",
       "\n",
       "\n",
       "\n",
       "3. 1. '20.12.2016'\n",
       "2. '18:04:16'\n",
       "\n",
       "\n",
       "\n",
       "4. 1. '20.12.2016'\n",
       "2. '18:01:55'\n",
       "\n",
       "\n",
       "\n",
       "5. 1. '20.12.2016'\n",
       "2. '18:05:21'\n",
       "\n",
       "\n",
       "\n",
       "6. 1. '20.12.2016'\n",
       "2. '17:54:52'\n",
       "\n",
       "\n",
       "\n",
       "\n",
       "\n"
      ],
      "text/plain": [
       "[[1]]\n",
       "[1] \"20.12.2016\" \"17:58:32\"  \n",
       "\n",
       "[[2]]\n",
       "[1] \"20.12.2016\" \"18:00:19\"  \n",
       "\n",
       "[[3]]\n",
       "[1] \"20.12.2016\" \"18:04:16\"  \n",
       "\n",
       "[[4]]\n",
       "[1] \"20.12.2016\" \"18:01:55\"  \n",
       "\n",
       "[[5]]\n",
       "[1] \"20.12.2016\" \"18:05:21\"  \n",
       "\n",
       "[[6]]\n",
       "[1] \"20.12.2016\" \"17:54:52\"  \n"
      ]
     },
     "metadata": {},
     "output_type": "display_data"
    },
    {
     "data": {
      "text/html": [
       "<table>\n",
       "<thead><tr><th scope=col>X1</th><th scope=col>X2</th></tr></thead>\n",
       "<tbody>\n",
       "\t<tr><td>20.12.2016</td><td>17:58:32  </td></tr>\n",
       "\t<tr><td>20.12.2016</td><td>18:00:19  </td></tr>\n",
       "\t<tr><td>20.12.2016</td><td>18:04:16  </td></tr>\n",
       "\t<tr><td>20.12.2016</td><td>18:01:55  </td></tr>\n",
       "\t<tr><td>20.12.2016</td><td>18:05:21  </td></tr>\n",
       "\t<tr><td>20.12.2016</td><td>17:54:52  </td></tr>\n",
       "</tbody>\n",
       "</table>\n"
      ],
      "text/latex": [
       "\\begin{tabular}{r|ll}\n",
       " X1 & X2\\\\\n",
       "\\hline\n",
       "\t 20.12.2016 & 17:58:32  \\\\\n",
       "\t 20.12.2016 & 18:00:19  \\\\\n",
       "\t 20.12.2016 & 18:04:16  \\\\\n",
       "\t 20.12.2016 & 18:01:55  \\\\\n",
       "\t 20.12.2016 & 18:05:21  \\\\\n",
       "\t 20.12.2016 & 17:54:52  \\\\\n",
       "\\end{tabular}\n"
      ],
      "text/markdown": [
       "\n",
       "X1 | X2 | \n",
       "|---|---|---|---|---|---|\n",
       "| 20.12.2016 | 17:58:32   | \n",
       "| 20.12.2016 | 18:00:19   | \n",
       "| 20.12.2016 | 18:04:16   | \n",
       "| 20.12.2016 | 18:01:55   | \n",
       "| 20.12.2016 | 18:05:21   | \n",
       "| 20.12.2016 | 17:54:52   | \n",
       "\n",
       "\n"
      ],
      "text/plain": [
       "  X1         X2      \n",
       "1 20.12.2016 17:58:32\n",
       "2 20.12.2016 18:00:19\n",
       "3 20.12.2016 18:04:16\n",
       "4 20.12.2016 18:01:55\n",
       "5 20.12.2016 18:05:21\n",
       "6 20.12.2016 17:54:52"
      ]
     },
     "metadata": {},
     "output_type": "display_data"
    },
    {
     "data": {
      "text/html": [
       "'factor'"
      ],
      "text/latex": [
       "'factor'"
      ],
      "text/markdown": [
       "'factor'"
      ],
      "text/plain": [
       "[1] \"factor\""
      ]
     },
     "metadata": {},
     "output_type": "display_data"
    },
    {
     "data": {
      "text/html": [
       "'factor'"
      ],
      "text/latex": [
       "'factor'"
      ],
      "text/markdown": [
       "'factor'"
      ],
      "text/plain": [
       "[1] \"factor\""
      ]
     },
     "metadata": {},
     "output_type": "display_data"
    },
    {
     "data": {
      "text/html": [
       "<ol>\n",
       "\t<li><ol class=list-inline>\n",
       "\t<li>'20'</li>\n",
       "\t<li>'12'</li>\n",
       "\t<li>'2016'</li>\n",
       "</ol>\n",
       "</li>\n",
       "\t<li><ol class=list-inline>\n",
       "\t<li>'20'</li>\n",
       "\t<li>'12'</li>\n",
       "\t<li>'2016'</li>\n",
       "</ol>\n",
       "</li>\n",
       "\t<li><ol class=list-inline>\n",
       "\t<li>'20'</li>\n",
       "\t<li>'12'</li>\n",
       "\t<li>'2016'</li>\n",
       "</ol>\n",
       "</li>\n",
       "\t<li><ol class=list-inline>\n",
       "\t<li>'20'</li>\n",
       "\t<li>'12'</li>\n",
       "\t<li>'2016'</li>\n",
       "</ol>\n",
       "</li>\n",
       "\t<li><ol class=list-inline>\n",
       "\t<li>'20'</li>\n",
       "\t<li>'12'</li>\n",
       "\t<li>'2016'</li>\n",
       "</ol>\n",
       "</li>\n",
       "\t<li><ol class=list-inline>\n",
       "\t<li>'20'</li>\n",
       "\t<li>'12'</li>\n",
       "\t<li>'2016'</li>\n",
       "</ol>\n",
       "</li>\n",
       "</ol>\n"
      ],
      "text/latex": [
       "\\begin{enumerate}\n",
       "\\item \\begin{enumerate*}\n",
       "\\item '20'\n",
       "\\item '12'\n",
       "\\item '2016'\n",
       "\\end{enumerate*}\n",
       "\n",
       "\\item \\begin{enumerate*}\n",
       "\\item '20'\n",
       "\\item '12'\n",
       "\\item '2016'\n",
       "\\end{enumerate*}\n",
       "\n",
       "\\item \\begin{enumerate*}\n",
       "\\item '20'\n",
       "\\item '12'\n",
       "\\item '2016'\n",
       "\\end{enumerate*}\n",
       "\n",
       "\\item \\begin{enumerate*}\n",
       "\\item '20'\n",
       "\\item '12'\n",
       "\\item '2016'\n",
       "\\end{enumerate*}\n",
       "\n",
       "\\item \\begin{enumerate*}\n",
       "\\item '20'\n",
       "\\item '12'\n",
       "\\item '2016'\n",
       "\\end{enumerate*}\n",
       "\n",
       "\\item \\begin{enumerate*}\n",
       "\\item '20'\n",
       "\\item '12'\n",
       "\\item '2016'\n",
       "\\end{enumerate*}\n",
       "\n",
       "\\end{enumerate}\n"
      ],
      "text/markdown": [
       "1. 1. '20'\n",
       "2. '12'\n",
       "3. '2016'\n",
       "\n",
       "\n",
       "\n",
       "2. 1. '20'\n",
       "2. '12'\n",
       "3. '2016'\n",
       "\n",
       "\n",
       "\n",
       "3. 1. '20'\n",
       "2. '12'\n",
       "3. '2016'\n",
       "\n",
       "\n",
       "\n",
       "4. 1. '20'\n",
       "2. '12'\n",
       "3. '2016'\n",
       "\n",
       "\n",
       "\n",
       "5. 1. '20'\n",
       "2. '12'\n",
       "3. '2016'\n",
       "\n",
       "\n",
       "\n",
       "6. 1. '20'\n",
       "2. '12'\n",
       "3. '2016'\n",
       "\n",
       "\n",
       "\n",
       "\n",
       "\n"
      ],
      "text/plain": [
       "[[1]]\n",
       "[1] \"20\"   \"12\"   \"2016\"\n",
       "\n",
       "[[2]]\n",
       "[1] \"20\"   \"12\"   \"2016\"\n",
       "\n",
       "[[3]]\n",
       "[1] \"20\"   \"12\"   \"2016\"\n",
       "\n",
       "[[4]]\n",
       "[1] \"20\"   \"12\"   \"2016\"\n",
       "\n",
       "[[5]]\n",
       "[1] \"20\"   \"12\"   \"2016\"\n",
       "\n",
       "[[6]]\n",
       "[1] \"20\"   \"12\"   \"2016\"\n"
      ]
     },
     "metadata": {},
     "output_type": "display_data"
    },
    {
     "data": {
      "text/html": [
       "<table>\n",
       "<thead><tr><th scope=col>X1</th><th scope=col>X2</th><th scope=col>X3</th></tr></thead>\n",
       "<tbody>\n",
       "\t<tr><td>20  </td><td>12  </td><td>2016</td></tr>\n",
       "\t<tr><td>20  </td><td>12  </td><td>2016</td></tr>\n",
       "\t<tr><td>20  </td><td>12  </td><td>2016</td></tr>\n",
       "\t<tr><td>20  </td><td>12  </td><td>2016</td></tr>\n",
       "\t<tr><td>20  </td><td>12  </td><td>2016</td></tr>\n",
       "\t<tr><td>20  </td><td>12  </td><td>2016</td></tr>\n",
       "</tbody>\n",
       "</table>\n"
      ],
      "text/latex": [
       "\\begin{tabular}{r|lll}\n",
       " X1 & X2 & X3\\\\\n",
       "\\hline\n",
       "\t 20   & 12   & 2016\\\\\n",
       "\t 20   & 12   & 2016\\\\\n",
       "\t 20   & 12   & 2016\\\\\n",
       "\t 20   & 12   & 2016\\\\\n",
       "\t 20   & 12   & 2016\\\\\n",
       "\t 20   & 12   & 2016\\\\\n",
       "\\end{tabular}\n"
      ],
      "text/markdown": [
       "\n",
       "X1 | X2 | X3 | \n",
       "|---|---|---|---|---|---|\n",
       "| 20   | 12   | 2016 | \n",
       "| 20   | 12   | 2016 | \n",
       "| 20   | 12   | 2016 | \n",
       "| 20   | 12   | 2016 | \n",
       "| 20   | 12   | 2016 | \n",
       "| 20   | 12   | 2016 | \n",
       "\n",
       "\n"
      ],
      "text/plain": [
       "  X1 X2 X3  \n",
       "1 20 12 2016\n",
       "2 20 12 2016\n",
       "3 20 12 2016\n",
       "4 20 12 2016\n",
       "5 20 12 2016\n",
       "6 20 12 2016"
      ]
     },
     "metadata": {},
     "output_type": "display_data"
    },
    {
     "data": {
      "text/html": [
       "<table>\n",
       "<thead><tr><th scope=col>X1</th><th scope=col>X2</th><th scope=col>X3</th><th scope=col>X4</th></tr></thead>\n",
       "<tbody>\n",
       "\t<tr><td>20        </td><td>12        </td><td>2016      </td><td>2016-12-20</td></tr>\n",
       "\t<tr><td>20        </td><td>12        </td><td>2016      </td><td>2016-12-20</td></tr>\n",
       "\t<tr><td>20        </td><td>12        </td><td>2016      </td><td>2016-12-20</td></tr>\n",
       "\t<tr><td>20        </td><td>12        </td><td>2016      </td><td>2016-12-20</td></tr>\n",
       "\t<tr><td>20        </td><td>12        </td><td>2016      </td><td>2016-12-20</td></tr>\n",
       "\t<tr><td>20        </td><td>12        </td><td>2016      </td><td>2016-12-20</td></tr>\n",
       "</tbody>\n",
       "</table>\n"
      ],
      "text/latex": [
       "\\begin{tabular}{r|llll}\n",
       " X1 & X2 & X3 & X4\\\\\n",
       "\\hline\n",
       "\t 20         & 12         & 2016       & 2016-12-20\\\\\n",
       "\t 20         & 12         & 2016       & 2016-12-20\\\\\n",
       "\t 20         & 12         & 2016       & 2016-12-20\\\\\n",
       "\t 20         & 12         & 2016       & 2016-12-20\\\\\n",
       "\t 20         & 12         & 2016       & 2016-12-20\\\\\n",
       "\t 20         & 12         & 2016       & 2016-12-20\\\\\n",
       "\\end{tabular}\n"
      ],
      "text/markdown": [
       "\n",
       "X1 | X2 | X3 | X4 | \n",
       "|---|---|---|---|---|---|\n",
       "| 20         | 12         | 2016       | 2016-12-20 | \n",
       "| 20         | 12         | 2016       | 2016-12-20 | \n",
       "| 20         | 12         | 2016       | 2016-12-20 | \n",
       "| 20         | 12         | 2016       | 2016-12-20 | \n",
       "| 20         | 12         | 2016       | 2016-12-20 | \n",
       "| 20         | 12         | 2016       | 2016-12-20 | \n",
       "\n",
       "\n"
      ],
      "text/plain": [
       "  X1 X2 X3   X4        \n",
       "1 20 12 2016 2016-12-20\n",
       "2 20 12 2016 2016-12-20\n",
       "3 20 12 2016 2016-12-20\n",
       "4 20 12 2016 2016-12-20\n",
       "5 20 12 2016 2016-12-20\n",
       "6 20 12 2016 2016-12-20"
      ]
     },
     "metadata": {},
     "output_type": "display_data"
    },
    {
     "data": {
      "text/html": [
       "<table>\n",
       "<thead><tr><th scope=col>X1</th><th scope=col>X2</th><th scope=col>X3</th><th scope=col>X4</th></tr></thead>\n",
       "<tbody>\n",
       "\t<tr><td>20                 </td><td>12                 </td><td>2016               </td><td>2016-12-20 17:58:32</td></tr>\n",
       "\t<tr><td>20                 </td><td>12                 </td><td>2016               </td><td>2016-12-20 18:00:19</td></tr>\n",
       "\t<tr><td>20                 </td><td>12                 </td><td>2016               </td><td>2016-12-20 18:04:16</td></tr>\n",
       "\t<tr><td>20                 </td><td>12                 </td><td>2016               </td><td>2016-12-20 18:01:55</td></tr>\n",
       "\t<tr><td>20                 </td><td>12                 </td><td>2016               </td><td>2016-12-20 18:05:21</td></tr>\n",
       "\t<tr><td>20                 </td><td>12                 </td><td>2016               </td><td>2016-12-20 17:54:52</td></tr>\n",
       "</tbody>\n",
       "</table>\n"
      ],
      "text/latex": [
       "\\begin{tabular}{r|llll}\n",
       " X1 & X2 & X3 & X4\\\\\n",
       "\\hline\n",
       "\t 20                  & 12                  & 2016                & 2016-12-20 17:58:32\\\\\n",
       "\t 20                  & 12                  & 2016                & 2016-12-20 18:00:19\\\\\n",
       "\t 20                  & 12                  & 2016                & 2016-12-20 18:04:16\\\\\n",
       "\t 20                  & 12                  & 2016                & 2016-12-20 18:01:55\\\\\n",
       "\t 20                  & 12                  & 2016                & 2016-12-20 18:05:21\\\\\n",
       "\t 20                  & 12                  & 2016                & 2016-12-20 17:54:52\\\\\n",
       "\\end{tabular}\n"
      ],
      "text/markdown": [
       "\n",
       "X1 | X2 | X3 | X4 | \n",
       "|---|---|---|---|---|---|\n",
       "| 20                  | 12                  | 2016                | 2016-12-20 17:58:32 | \n",
       "| 20                  | 12                  | 2016                | 2016-12-20 18:00:19 | \n",
       "| 20                  | 12                  | 2016                | 2016-12-20 18:04:16 | \n",
       "| 20                  | 12                  | 2016                | 2016-12-20 18:01:55 | \n",
       "| 20                  | 12                  | 2016                | 2016-12-20 18:05:21 | \n",
       "| 20                  | 12                  | 2016                | 2016-12-20 17:54:52 | \n",
       "\n",
       "\n"
      ],
      "text/plain": [
       "  X1 X2 X3   X4                 \n",
       "1 20 12 2016 2016-12-20 17:58:32\n",
       "2 20 12 2016 2016-12-20 18:00:19\n",
       "3 20 12 2016 2016-12-20 18:04:16\n",
       "4 20 12 2016 2016-12-20 18:01:55\n",
       "5 20 12 2016 2016-12-20 18:05:21\n",
       "6 20 12 2016 2016-12-20 17:54:52"
      ]
     },
     "metadata": {},
     "output_type": "display_data"
    }
   ],
   "source": [
    "std <- strsplit(datetime$SEGSTART_UTC, split = \" \")\n",
    "head(std)\n",
    "\n",
    "std <- data.frame(t(sapply(std, '[')))\n",
    "head(std)\n",
    "\n",
    "class(std$X1)\n",
    "class(std$X2)\n",
    "\n",
    "std$X1 <- as.character(std$X1)\n",
    "std$X2 <- as.character(std$X2)\n",
    "\n",
    "std2 <- strsplit(std$X1, split = \"\\\\.\")\n",
    "head(std2)\n",
    "\n",
    "std2 <- data.frame(t(sapply(std2, '[')))\n",
    "head(std2)\n",
    "\n",
    "std2$X4 <- paste0(std2$X3, \"-\", std2$X2, \"-\", std2$X1)\n",
    "head(std2)\n",
    "\n",
    "std2$X4 <- paste(std2$X4, std$X2)\n",
    "head(std2)\n",
    "\n",
    "datetime$SEGSTART_UTC <- std2$X4"
   ]
  },
  {
   "cell_type": "markdown",
   "metadata": {},
   "source": [
    "### 4) SETSTOP 변환\n",
    "### - 똑같은 방법"
   ]
  },
  {
   "cell_type": "code",
   "execution_count": 26,
   "metadata": {},
   "outputs": [
    {
     "data": {
      "text/html": [
       "<ol>\n",
       "\t<li><ol class=list-inline>\n",
       "\t<li>'21.12.2016'</li>\n",
       "\t<li>'03:05:06'</li>\n",
       "</ol>\n",
       "</li>\n",
       "\t<li><ol class=list-inline>\n",
       "\t<li>'21.12.2016'</li>\n",
       "\t<li>'03:05:10'</li>\n",
       "</ol>\n",
       "</li>\n",
       "\t<li><ol class=list-inline>\n",
       "\t<li>'21.12.2016'</li>\n",
       "\t<li>'03:05:19'</li>\n",
       "</ol>\n",
       "</li>\n",
       "\t<li><ol class=list-inline>\n",
       "\t<li>'21.12.2016'</li>\n",
       "\t<li>'03:05:20'</li>\n",
       "</ol>\n",
       "</li>\n",
       "\t<li><ol class=list-inline>\n",
       "\t<li>'21.12.2016'</li>\n",
       "\t<li>'03:05:21'</li>\n",
       "</ol>\n",
       "</li>\n",
       "\t<li><ol class=list-inline>\n",
       "\t<li>'21.12.2016'</li>\n",
       "\t<li>'03:05:21'</li>\n",
       "</ol>\n",
       "</li>\n",
       "</ol>\n"
      ],
      "text/latex": [
       "\\begin{enumerate}\n",
       "\\item \\begin{enumerate*}\n",
       "\\item '21.12.2016'\n",
       "\\item '03:05:06'\n",
       "\\end{enumerate*}\n",
       "\n",
       "\\item \\begin{enumerate*}\n",
       "\\item '21.12.2016'\n",
       "\\item '03:05:10'\n",
       "\\end{enumerate*}\n",
       "\n",
       "\\item \\begin{enumerate*}\n",
       "\\item '21.12.2016'\n",
       "\\item '03:05:19'\n",
       "\\end{enumerate*}\n",
       "\n",
       "\\item \\begin{enumerate*}\n",
       "\\item '21.12.2016'\n",
       "\\item '03:05:20'\n",
       "\\end{enumerate*}\n",
       "\n",
       "\\item \\begin{enumerate*}\n",
       "\\item '21.12.2016'\n",
       "\\item '03:05:21'\n",
       "\\end{enumerate*}\n",
       "\n",
       "\\item \\begin{enumerate*}\n",
       "\\item '21.12.2016'\n",
       "\\item '03:05:21'\n",
       "\\end{enumerate*}\n",
       "\n",
       "\\end{enumerate}\n"
      ],
      "text/markdown": [
       "1. 1. '21.12.2016'\n",
       "2. '03:05:06'\n",
       "\n",
       "\n",
       "\n",
       "2. 1. '21.12.2016'\n",
       "2. '03:05:10'\n",
       "\n",
       "\n",
       "\n",
       "3. 1. '21.12.2016'\n",
       "2. '03:05:19'\n",
       "\n",
       "\n",
       "\n",
       "4. 1. '21.12.2016'\n",
       "2. '03:05:20'\n",
       "\n",
       "\n",
       "\n",
       "5. 1. '21.12.2016'\n",
       "2. '03:05:21'\n",
       "\n",
       "\n",
       "\n",
       "6. 1. '21.12.2016'\n",
       "2. '03:05:21'\n",
       "\n",
       "\n",
       "\n",
       "\n",
       "\n"
      ],
      "text/plain": [
       "[[1]]\n",
       "[1] \"21.12.2016\" \"03:05:06\"  \n",
       "\n",
       "[[2]]\n",
       "[1] \"21.12.2016\" \"03:05:10\"  \n",
       "\n",
       "[[3]]\n",
       "[1] \"21.12.2016\" \"03:05:19\"  \n",
       "\n",
       "[[4]]\n",
       "[1] \"21.12.2016\" \"03:05:20\"  \n",
       "\n",
       "[[5]]\n",
       "[1] \"21.12.2016\" \"03:05:21\"  \n",
       "\n",
       "[[6]]\n",
       "[1] \"21.12.2016\" \"03:05:21\"  \n"
      ]
     },
     "metadata": {},
     "output_type": "display_data"
    },
    {
     "data": {
      "text/html": [
       "<table>\n",
       "<thead><tr><th scope=col>X1</th><th scope=col>X2</th></tr></thead>\n",
       "<tbody>\n",
       "\t<tr><td>21.12.2016</td><td>03:05:06  </td></tr>\n",
       "\t<tr><td>21.12.2016</td><td>03:05:10  </td></tr>\n",
       "\t<tr><td>21.12.2016</td><td>03:05:19  </td></tr>\n",
       "\t<tr><td>21.12.2016</td><td>03:05:20  </td></tr>\n",
       "\t<tr><td>21.12.2016</td><td>03:05:21  </td></tr>\n",
       "\t<tr><td>21.12.2016</td><td>03:05:21  </td></tr>\n",
       "</tbody>\n",
       "</table>\n"
      ],
      "text/latex": [
       "\\begin{tabular}{r|ll}\n",
       " X1 & X2\\\\\n",
       "\\hline\n",
       "\t 21.12.2016 & 03:05:06  \\\\\n",
       "\t 21.12.2016 & 03:05:10  \\\\\n",
       "\t 21.12.2016 & 03:05:19  \\\\\n",
       "\t 21.12.2016 & 03:05:20  \\\\\n",
       "\t 21.12.2016 & 03:05:21  \\\\\n",
       "\t 21.12.2016 & 03:05:21  \\\\\n",
       "\\end{tabular}\n"
      ],
      "text/markdown": [
       "\n",
       "X1 | X2 | \n",
       "|---|---|---|---|---|---|\n",
       "| 21.12.2016 | 03:05:06   | \n",
       "| 21.12.2016 | 03:05:10   | \n",
       "| 21.12.2016 | 03:05:19   | \n",
       "| 21.12.2016 | 03:05:20   | \n",
       "| 21.12.2016 | 03:05:21   | \n",
       "| 21.12.2016 | 03:05:21   | \n",
       "\n",
       "\n"
      ],
      "text/plain": [
       "  X1         X2      \n",
       "1 21.12.2016 03:05:06\n",
       "2 21.12.2016 03:05:10\n",
       "3 21.12.2016 03:05:19\n",
       "4 21.12.2016 03:05:20\n",
       "5 21.12.2016 03:05:21\n",
       "6 21.12.2016 03:05:21"
      ]
     },
     "metadata": {},
     "output_type": "display_data"
    },
    {
     "data": {
      "text/html": [
       "<ol>\n",
       "\t<li><ol class=list-inline>\n",
       "\t<li>'21'</li>\n",
       "\t<li>'12'</li>\n",
       "\t<li>'2016'</li>\n",
       "</ol>\n",
       "</li>\n",
       "\t<li><ol class=list-inline>\n",
       "\t<li>'21'</li>\n",
       "\t<li>'12'</li>\n",
       "\t<li>'2016'</li>\n",
       "</ol>\n",
       "</li>\n",
       "\t<li><ol class=list-inline>\n",
       "\t<li>'21'</li>\n",
       "\t<li>'12'</li>\n",
       "\t<li>'2016'</li>\n",
       "</ol>\n",
       "</li>\n",
       "\t<li><ol class=list-inline>\n",
       "\t<li>'21'</li>\n",
       "\t<li>'12'</li>\n",
       "\t<li>'2016'</li>\n",
       "</ol>\n",
       "</li>\n",
       "\t<li><ol class=list-inline>\n",
       "\t<li>'21'</li>\n",
       "\t<li>'12'</li>\n",
       "\t<li>'2016'</li>\n",
       "</ol>\n",
       "</li>\n",
       "\t<li><ol class=list-inline>\n",
       "\t<li>'21'</li>\n",
       "\t<li>'12'</li>\n",
       "\t<li>'2016'</li>\n",
       "</ol>\n",
       "</li>\n",
       "</ol>\n"
      ],
      "text/latex": [
       "\\begin{enumerate}\n",
       "\\item \\begin{enumerate*}\n",
       "\\item '21'\n",
       "\\item '12'\n",
       "\\item '2016'\n",
       "\\end{enumerate*}\n",
       "\n",
       "\\item \\begin{enumerate*}\n",
       "\\item '21'\n",
       "\\item '12'\n",
       "\\item '2016'\n",
       "\\end{enumerate*}\n",
       "\n",
       "\\item \\begin{enumerate*}\n",
       "\\item '21'\n",
       "\\item '12'\n",
       "\\item '2016'\n",
       "\\end{enumerate*}\n",
       "\n",
       "\\item \\begin{enumerate*}\n",
       "\\item '21'\n",
       "\\item '12'\n",
       "\\item '2016'\n",
       "\\end{enumerate*}\n",
       "\n",
       "\\item \\begin{enumerate*}\n",
       "\\item '21'\n",
       "\\item '12'\n",
       "\\item '2016'\n",
       "\\end{enumerate*}\n",
       "\n",
       "\\item \\begin{enumerate*}\n",
       "\\item '21'\n",
       "\\item '12'\n",
       "\\item '2016'\n",
       "\\end{enumerate*}\n",
       "\n",
       "\\end{enumerate}\n"
      ],
      "text/markdown": [
       "1. 1. '21'\n",
       "2. '12'\n",
       "3. '2016'\n",
       "\n",
       "\n",
       "\n",
       "2. 1. '21'\n",
       "2. '12'\n",
       "3. '2016'\n",
       "\n",
       "\n",
       "\n",
       "3. 1. '21'\n",
       "2. '12'\n",
       "3. '2016'\n",
       "\n",
       "\n",
       "\n",
       "4. 1. '21'\n",
       "2. '12'\n",
       "3. '2016'\n",
       "\n",
       "\n",
       "\n",
       "5. 1. '21'\n",
       "2. '12'\n",
       "3. '2016'\n",
       "\n",
       "\n",
       "\n",
       "6. 1. '21'\n",
       "2. '12'\n",
       "3. '2016'\n",
       "\n",
       "\n",
       "\n",
       "\n",
       "\n"
      ],
      "text/plain": [
       "[[1]]\n",
       "[1] \"21\"   \"12\"   \"2016\"\n",
       "\n",
       "[[2]]\n",
       "[1] \"21\"   \"12\"   \"2016\"\n",
       "\n",
       "[[3]]\n",
       "[1] \"21\"   \"12\"   \"2016\"\n",
       "\n",
       "[[4]]\n",
       "[1] \"21\"   \"12\"   \"2016\"\n",
       "\n",
       "[[5]]\n",
       "[1] \"21\"   \"12\"   \"2016\"\n",
       "\n",
       "[[6]]\n",
       "[1] \"21\"   \"12\"   \"2016\"\n"
      ]
     },
     "metadata": {},
     "output_type": "display_data"
    },
    {
     "data": {
      "text/html": [
       "<table>\n",
       "<thead><tr><th scope=col>X1</th><th scope=col>X2</th><th scope=col>X3</th></tr></thead>\n",
       "<tbody>\n",
       "\t<tr><td>21  </td><td>12  </td><td>2016</td></tr>\n",
       "\t<tr><td>21  </td><td>12  </td><td>2016</td></tr>\n",
       "\t<tr><td>21  </td><td>12  </td><td>2016</td></tr>\n",
       "\t<tr><td>21  </td><td>12  </td><td>2016</td></tr>\n",
       "\t<tr><td>21  </td><td>12  </td><td>2016</td></tr>\n",
       "\t<tr><td>21  </td><td>12  </td><td>2016</td></tr>\n",
       "</tbody>\n",
       "</table>\n"
      ],
      "text/latex": [
       "\\begin{tabular}{r|lll}\n",
       " X1 & X2 & X3\\\\\n",
       "\\hline\n",
       "\t 21   & 12   & 2016\\\\\n",
       "\t 21   & 12   & 2016\\\\\n",
       "\t 21   & 12   & 2016\\\\\n",
       "\t 21   & 12   & 2016\\\\\n",
       "\t 21   & 12   & 2016\\\\\n",
       "\t 21   & 12   & 2016\\\\\n",
       "\\end{tabular}\n"
      ],
      "text/markdown": [
       "\n",
       "X1 | X2 | X3 | \n",
       "|---|---|---|---|---|---|\n",
       "| 21   | 12   | 2016 | \n",
       "| 21   | 12   | 2016 | \n",
       "| 21   | 12   | 2016 | \n",
       "| 21   | 12   | 2016 | \n",
       "| 21   | 12   | 2016 | \n",
       "| 21   | 12   | 2016 | \n",
       "\n",
       "\n"
      ],
      "text/plain": [
       "  X1 X2 X3  \n",
       "1 21 12 2016\n",
       "2 21 12 2016\n",
       "3 21 12 2016\n",
       "4 21 12 2016\n",
       "5 21 12 2016\n",
       "6 21 12 2016"
      ]
     },
     "metadata": {},
     "output_type": "display_data"
    },
    {
     "data": {
      "text/html": [
       "<table>\n",
       "<thead><tr><th scope=col>X1</th><th scope=col>X2</th><th scope=col>X3</th><th scope=col>X4</th></tr></thead>\n",
       "<tbody>\n",
       "\t<tr><td>21        </td><td>12        </td><td>2016      </td><td>2016-12-21</td></tr>\n",
       "\t<tr><td>21        </td><td>12        </td><td>2016      </td><td>2016-12-21</td></tr>\n",
       "\t<tr><td>21        </td><td>12        </td><td>2016      </td><td>2016-12-21</td></tr>\n",
       "\t<tr><td>21        </td><td>12        </td><td>2016      </td><td>2016-12-21</td></tr>\n",
       "\t<tr><td>21        </td><td>12        </td><td>2016      </td><td>2016-12-21</td></tr>\n",
       "\t<tr><td>21        </td><td>12        </td><td>2016      </td><td>2016-12-21</td></tr>\n",
       "</tbody>\n",
       "</table>\n"
      ],
      "text/latex": [
       "\\begin{tabular}{r|llll}\n",
       " X1 & X2 & X3 & X4\\\\\n",
       "\\hline\n",
       "\t 21         & 12         & 2016       & 2016-12-21\\\\\n",
       "\t 21         & 12         & 2016       & 2016-12-21\\\\\n",
       "\t 21         & 12         & 2016       & 2016-12-21\\\\\n",
       "\t 21         & 12         & 2016       & 2016-12-21\\\\\n",
       "\t 21         & 12         & 2016       & 2016-12-21\\\\\n",
       "\t 21         & 12         & 2016       & 2016-12-21\\\\\n",
       "\\end{tabular}\n"
      ],
      "text/markdown": [
       "\n",
       "X1 | X2 | X3 | X4 | \n",
       "|---|---|---|---|---|---|\n",
       "| 21         | 12         | 2016       | 2016-12-21 | \n",
       "| 21         | 12         | 2016       | 2016-12-21 | \n",
       "| 21         | 12         | 2016       | 2016-12-21 | \n",
       "| 21         | 12         | 2016       | 2016-12-21 | \n",
       "| 21         | 12         | 2016       | 2016-12-21 | \n",
       "| 21         | 12         | 2016       | 2016-12-21 | \n",
       "\n",
       "\n"
      ],
      "text/plain": [
       "  X1 X2 X3   X4        \n",
       "1 21 12 2016 2016-12-21\n",
       "2 21 12 2016 2016-12-21\n",
       "3 21 12 2016 2016-12-21\n",
       "4 21 12 2016 2016-12-21\n",
       "5 21 12 2016 2016-12-21\n",
       "6 21 12 2016 2016-12-21"
      ]
     },
     "metadata": {},
     "output_type": "display_data"
    },
    {
     "data": {
      "text/html": [
       "<table>\n",
       "<thead><tr><th scope=col>X1</th><th scope=col>X2</th><th scope=col>X3</th><th scope=col>X4</th></tr></thead>\n",
       "<tbody>\n",
       "\t<tr><td>21                 </td><td>12                 </td><td>2016               </td><td>2016-12-21 03:05:06</td></tr>\n",
       "\t<tr><td>21                 </td><td>12                 </td><td>2016               </td><td>2016-12-21 03:05:10</td></tr>\n",
       "\t<tr><td>21                 </td><td>12                 </td><td>2016               </td><td>2016-12-21 03:05:19</td></tr>\n",
       "\t<tr><td>21                 </td><td>12                 </td><td>2016               </td><td>2016-12-21 03:05:20</td></tr>\n",
       "\t<tr><td>21                 </td><td>12                 </td><td>2016               </td><td>2016-12-21 03:05:21</td></tr>\n",
       "\t<tr><td>21                 </td><td>12                 </td><td>2016               </td><td>2016-12-21 03:05:21</td></tr>\n",
       "</tbody>\n",
       "</table>\n"
      ],
      "text/latex": [
       "\\begin{tabular}{r|llll}\n",
       " X1 & X2 & X3 & X4\\\\\n",
       "\\hline\n",
       "\t 21                  & 12                  & 2016                & 2016-12-21 03:05:06\\\\\n",
       "\t 21                  & 12                  & 2016                & 2016-12-21 03:05:10\\\\\n",
       "\t 21                  & 12                  & 2016                & 2016-12-21 03:05:19\\\\\n",
       "\t 21                  & 12                  & 2016                & 2016-12-21 03:05:20\\\\\n",
       "\t 21                  & 12                  & 2016                & 2016-12-21 03:05:21\\\\\n",
       "\t 21                  & 12                  & 2016                & 2016-12-21 03:05:21\\\\\n",
       "\\end{tabular}\n"
      ],
      "text/markdown": [
       "\n",
       "X1 | X2 | X3 | X4 | \n",
       "|---|---|---|---|---|---|\n",
       "| 21                  | 12                  | 2016                | 2016-12-21 03:05:06 | \n",
       "| 21                  | 12                  | 2016                | 2016-12-21 03:05:10 | \n",
       "| 21                  | 12                  | 2016                | 2016-12-21 03:05:19 | \n",
       "| 21                  | 12                  | 2016                | 2016-12-21 03:05:20 | \n",
       "| 21                  | 12                  | 2016                | 2016-12-21 03:05:21 | \n",
       "| 21                  | 12                  | 2016                | 2016-12-21 03:05:21 | \n",
       "\n",
       "\n"
      ],
      "text/plain": [
       "  X1 X2 X3   X4                 \n",
       "1 21 12 2016 2016-12-21 03:05:06\n",
       "2 21 12 2016 2016-12-21 03:05:10\n",
       "3 21 12 2016 2016-12-21 03:05:19\n",
       "4 21 12 2016 2016-12-21 03:05:20\n",
       "5 21 12 2016 2016-12-21 03:05:21\n",
       "6 21 12 2016 2016-12-21 03:05:21"
      ]
     },
     "metadata": {},
     "output_type": "display_data"
    }
   ],
   "source": [
    "std <- strsplit(datetime$SEGSTOP, split = \" \")\n",
    "head(std)\n",
    "\n",
    "std <- data.frame(t(sapply(std, '[')))\n",
    "head(std)\n",
    "\n",
    "std$X1 <- as.character(std$X1)\n",
    "std$X2 <- as.character(std$X2)\n",
    "\n",
    "std2 <- strsplit(std$X1, split = \"\\\\.\")\n",
    "head(std2)\n",
    "\n",
    "std2 <- data.frame(t(sapply(std2, '[')))\n",
    "head(std2)\n",
    "\n",
    "std2$X4 <- paste0(std2$X3, \"-\", std2$X2, \"-\", std2$X1)\n",
    "head(std2)\n",
    "\n",
    "std2$X4 <- paste(std2$X4, std$X2)\n",
    "head(std2)\n",
    "\n",
    "datetime$SEGSTOP <- std2$X4"
   ]
  },
  {
   "cell_type": "markdown",
   "metadata": {},
   "source": [
    "### 5) SETSTOP_UTC 변환\n",
    "### - 똑같은 방법"
   ]
  },
  {
   "cell_type": "code",
   "execution_count": 27,
   "metadata": {},
   "outputs": [
    {
     "data": {
      "text/html": [
       "<ol>\n",
       "\t<li><ol class=list-inline>\n",
       "\t<li>'20.12.2016'</li>\n",
       "\t<li>'18:05:06'</li>\n",
       "</ol>\n",
       "</li>\n",
       "\t<li><ol class=list-inline>\n",
       "\t<li>'20.12.2016'</li>\n",
       "\t<li>'18:05:10'</li>\n",
       "</ol>\n",
       "</li>\n",
       "\t<li><ol class=list-inline>\n",
       "\t<li>'20.12.2016'</li>\n",
       "\t<li>'18:05:19'</li>\n",
       "</ol>\n",
       "</li>\n",
       "\t<li><ol class=list-inline>\n",
       "\t<li>'20.12.2016'</li>\n",
       "\t<li>'18:05:20'</li>\n",
       "</ol>\n",
       "</li>\n",
       "\t<li><ol class=list-inline>\n",
       "\t<li>'20.12.2016'</li>\n",
       "\t<li>'18:05:21'</li>\n",
       "</ol>\n",
       "</li>\n",
       "\t<li><ol class=list-inline>\n",
       "\t<li>'20.12.2016'</li>\n",
       "\t<li>'18:05:21'</li>\n",
       "</ol>\n",
       "</li>\n",
       "</ol>\n"
      ],
      "text/latex": [
       "\\begin{enumerate}\n",
       "\\item \\begin{enumerate*}\n",
       "\\item '20.12.2016'\n",
       "\\item '18:05:06'\n",
       "\\end{enumerate*}\n",
       "\n",
       "\\item \\begin{enumerate*}\n",
       "\\item '20.12.2016'\n",
       "\\item '18:05:10'\n",
       "\\end{enumerate*}\n",
       "\n",
       "\\item \\begin{enumerate*}\n",
       "\\item '20.12.2016'\n",
       "\\item '18:05:19'\n",
       "\\end{enumerate*}\n",
       "\n",
       "\\item \\begin{enumerate*}\n",
       "\\item '20.12.2016'\n",
       "\\item '18:05:20'\n",
       "\\end{enumerate*}\n",
       "\n",
       "\\item \\begin{enumerate*}\n",
       "\\item '20.12.2016'\n",
       "\\item '18:05:21'\n",
       "\\end{enumerate*}\n",
       "\n",
       "\\item \\begin{enumerate*}\n",
       "\\item '20.12.2016'\n",
       "\\item '18:05:21'\n",
       "\\end{enumerate*}\n",
       "\n",
       "\\end{enumerate}\n"
      ],
      "text/markdown": [
       "1. 1. '20.12.2016'\n",
       "2. '18:05:06'\n",
       "\n",
       "\n",
       "\n",
       "2. 1. '20.12.2016'\n",
       "2. '18:05:10'\n",
       "\n",
       "\n",
       "\n",
       "3. 1. '20.12.2016'\n",
       "2. '18:05:19'\n",
       "\n",
       "\n",
       "\n",
       "4. 1. '20.12.2016'\n",
       "2. '18:05:20'\n",
       "\n",
       "\n",
       "\n",
       "5. 1. '20.12.2016'\n",
       "2. '18:05:21'\n",
       "\n",
       "\n",
       "\n",
       "6. 1. '20.12.2016'\n",
       "2. '18:05:21'\n",
       "\n",
       "\n",
       "\n",
       "\n",
       "\n"
      ],
      "text/plain": [
       "[[1]]\n",
       "[1] \"20.12.2016\" \"18:05:06\"  \n",
       "\n",
       "[[2]]\n",
       "[1] \"20.12.2016\" \"18:05:10\"  \n",
       "\n",
       "[[3]]\n",
       "[1] \"20.12.2016\" \"18:05:19\"  \n",
       "\n",
       "[[4]]\n",
       "[1] \"20.12.2016\" \"18:05:20\"  \n",
       "\n",
       "[[5]]\n",
       "[1] \"20.12.2016\" \"18:05:21\"  \n",
       "\n",
       "[[6]]\n",
       "[1] \"20.12.2016\" \"18:05:21\"  \n"
      ]
     },
     "metadata": {},
     "output_type": "display_data"
    },
    {
     "data": {
      "text/html": [
       "<table>\n",
       "<thead><tr><th scope=col>X1</th><th scope=col>X2</th></tr></thead>\n",
       "<tbody>\n",
       "\t<tr><td>20.12.2016</td><td>18:05:06  </td></tr>\n",
       "\t<tr><td>20.12.2016</td><td>18:05:10  </td></tr>\n",
       "\t<tr><td>20.12.2016</td><td>18:05:19  </td></tr>\n",
       "\t<tr><td>20.12.2016</td><td>18:05:20  </td></tr>\n",
       "\t<tr><td>20.12.2016</td><td>18:05:21  </td></tr>\n",
       "\t<tr><td>20.12.2016</td><td>18:05:21  </td></tr>\n",
       "</tbody>\n",
       "</table>\n"
      ],
      "text/latex": [
       "\\begin{tabular}{r|ll}\n",
       " X1 & X2\\\\\n",
       "\\hline\n",
       "\t 20.12.2016 & 18:05:06  \\\\\n",
       "\t 20.12.2016 & 18:05:10  \\\\\n",
       "\t 20.12.2016 & 18:05:19  \\\\\n",
       "\t 20.12.2016 & 18:05:20  \\\\\n",
       "\t 20.12.2016 & 18:05:21  \\\\\n",
       "\t 20.12.2016 & 18:05:21  \\\\\n",
       "\\end{tabular}\n"
      ],
      "text/markdown": [
       "\n",
       "X1 | X2 | \n",
       "|---|---|---|---|---|---|\n",
       "| 20.12.2016 | 18:05:06   | \n",
       "| 20.12.2016 | 18:05:10   | \n",
       "| 20.12.2016 | 18:05:19   | \n",
       "| 20.12.2016 | 18:05:20   | \n",
       "| 20.12.2016 | 18:05:21   | \n",
       "| 20.12.2016 | 18:05:21   | \n",
       "\n",
       "\n"
      ],
      "text/plain": [
       "  X1         X2      \n",
       "1 20.12.2016 18:05:06\n",
       "2 20.12.2016 18:05:10\n",
       "3 20.12.2016 18:05:19\n",
       "4 20.12.2016 18:05:20\n",
       "5 20.12.2016 18:05:21\n",
       "6 20.12.2016 18:05:21"
      ]
     },
     "metadata": {},
     "output_type": "display_data"
    },
    {
     "data": {
      "text/html": [
       "<ol>\n",
       "\t<li><ol class=list-inline>\n",
       "\t<li>'20'</li>\n",
       "\t<li>'12'</li>\n",
       "\t<li>'2016'</li>\n",
       "</ol>\n",
       "</li>\n",
       "\t<li><ol class=list-inline>\n",
       "\t<li>'20'</li>\n",
       "\t<li>'12'</li>\n",
       "\t<li>'2016'</li>\n",
       "</ol>\n",
       "</li>\n",
       "\t<li><ol class=list-inline>\n",
       "\t<li>'20'</li>\n",
       "\t<li>'12'</li>\n",
       "\t<li>'2016'</li>\n",
       "</ol>\n",
       "</li>\n",
       "\t<li><ol class=list-inline>\n",
       "\t<li>'20'</li>\n",
       "\t<li>'12'</li>\n",
       "\t<li>'2016'</li>\n",
       "</ol>\n",
       "</li>\n",
       "\t<li><ol class=list-inline>\n",
       "\t<li>'20'</li>\n",
       "\t<li>'12'</li>\n",
       "\t<li>'2016'</li>\n",
       "</ol>\n",
       "</li>\n",
       "\t<li><ol class=list-inline>\n",
       "\t<li>'20'</li>\n",
       "\t<li>'12'</li>\n",
       "\t<li>'2016'</li>\n",
       "</ol>\n",
       "</li>\n",
       "</ol>\n"
      ],
      "text/latex": [
       "\\begin{enumerate}\n",
       "\\item \\begin{enumerate*}\n",
       "\\item '20'\n",
       "\\item '12'\n",
       "\\item '2016'\n",
       "\\end{enumerate*}\n",
       "\n",
       "\\item \\begin{enumerate*}\n",
       "\\item '20'\n",
       "\\item '12'\n",
       "\\item '2016'\n",
       "\\end{enumerate*}\n",
       "\n",
       "\\item \\begin{enumerate*}\n",
       "\\item '20'\n",
       "\\item '12'\n",
       "\\item '2016'\n",
       "\\end{enumerate*}\n",
       "\n",
       "\\item \\begin{enumerate*}\n",
       "\\item '20'\n",
       "\\item '12'\n",
       "\\item '2016'\n",
       "\\end{enumerate*}\n",
       "\n",
       "\\item \\begin{enumerate*}\n",
       "\\item '20'\n",
       "\\item '12'\n",
       "\\item '2016'\n",
       "\\end{enumerate*}\n",
       "\n",
       "\\item \\begin{enumerate*}\n",
       "\\item '20'\n",
       "\\item '12'\n",
       "\\item '2016'\n",
       "\\end{enumerate*}\n",
       "\n",
       "\\end{enumerate}\n"
      ],
      "text/markdown": [
       "1. 1. '20'\n",
       "2. '12'\n",
       "3. '2016'\n",
       "\n",
       "\n",
       "\n",
       "2. 1. '20'\n",
       "2. '12'\n",
       "3. '2016'\n",
       "\n",
       "\n",
       "\n",
       "3. 1. '20'\n",
       "2. '12'\n",
       "3. '2016'\n",
       "\n",
       "\n",
       "\n",
       "4. 1. '20'\n",
       "2. '12'\n",
       "3. '2016'\n",
       "\n",
       "\n",
       "\n",
       "5. 1. '20'\n",
       "2. '12'\n",
       "3. '2016'\n",
       "\n",
       "\n",
       "\n",
       "6. 1. '20'\n",
       "2. '12'\n",
       "3. '2016'\n",
       "\n",
       "\n",
       "\n",
       "\n",
       "\n"
      ],
      "text/plain": [
       "[[1]]\n",
       "[1] \"20\"   \"12\"   \"2016\"\n",
       "\n",
       "[[2]]\n",
       "[1] \"20\"   \"12\"   \"2016\"\n",
       "\n",
       "[[3]]\n",
       "[1] \"20\"   \"12\"   \"2016\"\n",
       "\n",
       "[[4]]\n",
       "[1] \"20\"   \"12\"   \"2016\"\n",
       "\n",
       "[[5]]\n",
       "[1] \"20\"   \"12\"   \"2016\"\n",
       "\n",
       "[[6]]\n",
       "[1] \"20\"   \"12\"   \"2016\"\n"
      ]
     },
     "metadata": {},
     "output_type": "display_data"
    },
    {
     "data": {
      "text/html": [
       "<table>\n",
       "<thead><tr><th scope=col>X1</th><th scope=col>X2</th><th scope=col>X3</th></tr></thead>\n",
       "<tbody>\n",
       "\t<tr><td>20  </td><td>12  </td><td>2016</td></tr>\n",
       "\t<tr><td>20  </td><td>12  </td><td>2016</td></tr>\n",
       "\t<tr><td>20  </td><td>12  </td><td>2016</td></tr>\n",
       "\t<tr><td>20  </td><td>12  </td><td>2016</td></tr>\n",
       "\t<tr><td>20  </td><td>12  </td><td>2016</td></tr>\n",
       "\t<tr><td>20  </td><td>12  </td><td>2016</td></tr>\n",
       "</tbody>\n",
       "</table>\n"
      ],
      "text/latex": [
       "\\begin{tabular}{r|lll}\n",
       " X1 & X2 & X3\\\\\n",
       "\\hline\n",
       "\t 20   & 12   & 2016\\\\\n",
       "\t 20   & 12   & 2016\\\\\n",
       "\t 20   & 12   & 2016\\\\\n",
       "\t 20   & 12   & 2016\\\\\n",
       "\t 20   & 12   & 2016\\\\\n",
       "\t 20   & 12   & 2016\\\\\n",
       "\\end{tabular}\n"
      ],
      "text/markdown": [
       "\n",
       "X1 | X2 | X3 | \n",
       "|---|---|---|---|---|---|\n",
       "| 20   | 12   | 2016 | \n",
       "| 20   | 12   | 2016 | \n",
       "| 20   | 12   | 2016 | \n",
       "| 20   | 12   | 2016 | \n",
       "| 20   | 12   | 2016 | \n",
       "| 20   | 12   | 2016 | \n",
       "\n",
       "\n"
      ],
      "text/plain": [
       "  X1 X2 X3  \n",
       "1 20 12 2016\n",
       "2 20 12 2016\n",
       "3 20 12 2016\n",
       "4 20 12 2016\n",
       "5 20 12 2016\n",
       "6 20 12 2016"
      ]
     },
     "metadata": {},
     "output_type": "display_data"
    },
    {
     "data": {
      "text/html": [
       "<table>\n",
       "<thead><tr><th scope=col>X1</th><th scope=col>X2</th><th scope=col>X3</th><th scope=col>X4</th></tr></thead>\n",
       "<tbody>\n",
       "\t<tr><td>20        </td><td>12        </td><td>2016      </td><td>2016-12-20</td></tr>\n",
       "\t<tr><td>20        </td><td>12        </td><td>2016      </td><td>2016-12-20</td></tr>\n",
       "\t<tr><td>20        </td><td>12        </td><td>2016      </td><td>2016-12-20</td></tr>\n",
       "\t<tr><td>20        </td><td>12        </td><td>2016      </td><td>2016-12-20</td></tr>\n",
       "\t<tr><td>20        </td><td>12        </td><td>2016      </td><td>2016-12-20</td></tr>\n",
       "\t<tr><td>20        </td><td>12        </td><td>2016      </td><td>2016-12-20</td></tr>\n",
       "</tbody>\n",
       "</table>\n"
      ],
      "text/latex": [
       "\\begin{tabular}{r|llll}\n",
       " X1 & X2 & X3 & X4\\\\\n",
       "\\hline\n",
       "\t 20         & 12         & 2016       & 2016-12-20\\\\\n",
       "\t 20         & 12         & 2016       & 2016-12-20\\\\\n",
       "\t 20         & 12         & 2016       & 2016-12-20\\\\\n",
       "\t 20         & 12         & 2016       & 2016-12-20\\\\\n",
       "\t 20         & 12         & 2016       & 2016-12-20\\\\\n",
       "\t 20         & 12         & 2016       & 2016-12-20\\\\\n",
       "\\end{tabular}\n"
      ],
      "text/markdown": [
       "\n",
       "X1 | X2 | X3 | X4 | \n",
       "|---|---|---|---|---|---|\n",
       "| 20         | 12         | 2016       | 2016-12-20 | \n",
       "| 20         | 12         | 2016       | 2016-12-20 | \n",
       "| 20         | 12         | 2016       | 2016-12-20 | \n",
       "| 20         | 12         | 2016       | 2016-12-20 | \n",
       "| 20         | 12         | 2016       | 2016-12-20 | \n",
       "| 20         | 12         | 2016       | 2016-12-20 | \n",
       "\n",
       "\n"
      ],
      "text/plain": [
       "  X1 X2 X3   X4        \n",
       "1 20 12 2016 2016-12-20\n",
       "2 20 12 2016 2016-12-20\n",
       "3 20 12 2016 2016-12-20\n",
       "4 20 12 2016 2016-12-20\n",
       "5 20 12 2016 2016-12-20\n",
       "6 20 12 2016 2016-12-20"
      ]
     },
     "metadata": {},
     "output_type": "display_data"
    },
    {
     "data": {
      "text/html": [
       "<table>\n",
       "<thead><tr><th scope=col>X1</th><th scope=col>X2</th><th scope=col>X3</th><th scope=col>X4</th></tr></thead>\n",
       "<tbody>\n",
       "\t<tr><td>20                 </td><td>12                 </td><td>2016               </td><td>2016-12-20 18:05:06</td></tr>\n",
       "\t<tr><td>20                 </td><td>12                 </td><td>2016               </td><td>2016-12-20 18:05:10</td></tr>\n",
       "\t<tr><td>20                 </td><td>12                 </td><td>2016               </td><td>2016-12-20 18:05:19</td></tr>\n",
       "\t<tr><td>20                 </td><td>12                 </td><td>2016               </td><td>2016-12-20 18:05:20</td></tr>\n",
       "\t<tr><td>20                 </td><td>12                 </td><td>2016               </td><td>2016-12-20 18:05:21</td></tr>\n",
       "\t<tr><td>20                 </td><td>12                 </td><td>2016               </td><td>2016-12-20 18:05:21</td></tr>\n",
       "</tbody>\n",
       "</table>\n"
      ],
      "text/latex": [
       "\\begin{tabular}{r|llll}\n",
       " X1 & X2 & X3 & X4\\\\\n",
       "\\hline\n",
       "\t 20                  & 12                  & 2016                & 2016-12-20 18:05:06\\\\\n",
       "\t 20                  & 12                  & 2016                & 2016-12-20 18:05:10\\\\\n",
       "\t 20                  & 12                  & 2016                & 2016-12-20 18:05:19\\\\\n",
       "\t 20                  & 12                  & 2016                & 2016-12-20 18:05:20\\\\\n",
       "\t 20                  & 12                  & 2016                & 2016-12-20 18:05:21\\\\\n",
       "\t 20                  & 12                  & 2016                & 2016-12-20 18:05:21\\\\\n",
       "\\end{tabular}\n"
      ],
      "text/markdown": [
       "\n",
       "X1 | X2 | X3 | X4 | \n",
       "|---|---|---|---|---|---|\n",
       "| 20                  | 12                  | 2016                | 2016-12-20 18:05:06 | \n",
       "| 20                  | 12                  | 2016                | 2016-12-20 18:05:10 | \n",
       "| 20                  | 12                  | 2016                | 2016-12-20 18:05:19 | \n",
       "| 20                  | 12                  | 2016                | 2016-12-20 18:05:20 | \n",
       "| 20                  | 12                  | 2016                | 2016-12-20 18:05:21 | \n",
       "| 20                  | 12                  | 2016                | 2016-12-20 18:05:21 | \n",
       "\n",
       "\n"
      ],
      "text/plain": [
       "  X1 X2 X3   X4                 \n",
       "1 20 12 2016 2016-12-20 18:05:06\n",
       "2 20 12 2016 2016-12-20 18:05:10\n",
       "3 20 12 2016 2016-12-20 18:05:19\n",
       "4 20 12 2016 2016-12-20 18:05:20\n",
       "5 20 12 2016 2016-12-20 18:05:21\n",
       "6 20 12 2016 2016-12-20 18:05:21"
      ]
     },
     "metadata": {},
     "output_type": "display_data"
    }
   ],
   "source": [
    "std <- strsplit(datetime$SEGSTOP_UTC, split = \" \")\n",
    "head(std)\n",
    "\n",
    "std <- data.frame(t(sapply(std, '[')))\n",
    "head(std)\n",
    "\n",
    "std$X1 <- as.character(std$X1)\n",
    "std$X2 <- as.character(std$X2)\n",
    "\n",
    "std2 <- strsplit(std$X1, split = \"\\\\.\")\n",
    "head(std2)\n",
    "\n",
    "std2 <- data.frame(t(sapply(std2, '[')))\n",
    "head(std2)\n",
    "\n",
    "std2$X4 <- paste0(std2$X3, \"-\", std2$X2, \"-\", std2$X1)\n",
    "head(std2)\n",
    "\n",
    "std2$X4 <- paste(std2$X4, std$X2)\n",
    "head(std2)\n",
    "\n",
    "datetime$SEGSTOP_UTC <- std2$X4"
   ]
  },
  {
   "cell_type": "code",
   "execution_count": 28,
   "metadata": {
    "scrolled": true
   },
   "outputs": [
    {
     "data": {
      "text/html": [
       "<table>\n",
       "<thead><tr><th scope=col>SEGSTART</th><th scope=col>SEGSTART_UTC</th><th scope=col>SEGSTOP</th><th scope=col>SEGSTOP_UTC</th></tr></thead>\n",
       "<tbody>\n",
       "\t<tr><td>21.12.2016 02:58:32</td><td>2016-12-20 17:58:32</td><td>2016-12-21 03:05:06</td><td>2016-12-20 18:05:06</td></tr>\n",
       "\t<tr><td>21.12.2016 03:00:19</td><td>2016-12-20 18:00:19</td><td>2016-12-21 03:05:10</td><td>2016-12-20 18:05:10</td></tr>\n",
       "\t<tr><td>21.12.2016 03:04:16</td><td>2016-12-20 18:04:16</td><td>2016-12-21 03:05:19</td><td>2016-12-20 18:05:19</td></tr>\n",
       "\t<tr><td>21.12.2016 03:01:55</td><td>2016-12-20 18:01:55</td><td>2016-12-21 03:05:20</td><td>2016-12-20 18:05:20</td></tr>\n",
       "\t<tr><td>21.12.2016 03:05:21</td><td>2016-12-20 18:05:21</td><td>2016-12-21 03:05:21</td><td>2016-12-20 18:05:21</td></tr>\n",
       "\t<tr><td>21.12.2016 02:54:52</td><td>2016-12-20 17:54:52</td><td>2016-12-21 03:05:21</td><td>2016-12-20 18:05:21</td></tr>\n",
       "</tbody>\n",
       "</table>\n"
      ],
      "text/latex": [
       "\\begin{tabular}{r|llll}\n",
       " SEGSTART & SEGSTART\\_UTC & SEGSTOP & SEGSTOP\\_UTC\\\\\n",
       "\\hline\n",
       "\t 21.12.2016 02:58:32 & 2016-12-20 17:58:32 & 2016-12-21 03:05:06 & 2016-12-20 18:05:06\\\\\n",
       "\t 21.12.2016 03:00:19 & 2016-12-20 18:00:19 & 2016-12-21 03:05:10 & 2016-12-20 18:05:10\\\\\n",
       "\t 21.12.2016 03:04:16 & 2016-12-20 18:04:16 & 2016-12-21 03:05:19 & 2016-12-20 18:05:19\\\\\n",
       "\t 21.12.2016 03:01:55 & 2016-12-20 18:01:55 & 2016-12-21 03:05:20 & 2016-12-20 18:05:20\\\\\n",
       "\t 21.12.2016 03:05:21 & 2016-12-20 18:05:21 & 2016-12-21 03:05:21 & 2016-12-20 18:05:21\\\\\n",
       "\t 21.12.2016 02:54:52 & 2016-12-20 17:54:52 & 2016-12-21 03:05:21 & 2016-12-20 18:05:21\\\\\n",
       "\\end{tabular}\n"
      ],
      "text/markdown": [
       "\n",
       "SEGSTART | SEGSTART_UTC | SEGSTOP | SEGSTOP_UTC | \n",
       "|---|---|---|---|---|---|\n",
       "| 21.12.2016 02:58:32 | 2016-12-20 17:58:32 | 2016-12-21 03:05:06 | 2016-12-20 18:05:06 | \n",
       "| 21.12.2016 03:00:19 | 2016-12-20 18:00:19 | 2016-12-21 03:05:10 | 2016-12-20 18:05:10 | \n",
       "| 21.12.2016 03:04:16 | 2016-12-20 18:04:16 | 2016-12-21 03:05:19 | 2016-12-20 18:05:19 | \n",
       "| 21.12.2016 03:01:55 | 2016-12-20 18:01:55 | 2016-12-21 03:05:20 | 2016-12-20 18:05:20 | \n",
       "| 21.12.2016 03:05:21 | 2016-12-20 18:05:21 | 2016-12-21 03:05:21 | 2016-12-20 18:05:21 | \n",
       "| 21.12.2016 02:54:52 | 2016-12-20 17:54:52 | 2016-12-21 03:05:21 | 2016-12-20 18:05:21 | \n",
       "\n",
       "\n"
      ],
      "text/plain": [
       "  SEGSTART            SEGSTART_UTC        SEGSTOP            \n",
       "1 21.12.2016 02:58:32 2016-12-20 17:58:32 2016-12-21 03:05:06\n",
       "2 21.12.2016 03:00:19 2016-12-20 18:00:19 2016-12-21 03:05:10\n",
       "3 21.12.2016 03:04:16 2016-12-20 18:04:16 2016-12-21 03:05:19\n",
       "4 21.12.2016 03:01:55 2016-12-20 18:01:55 2016-12-21 03:05:20\n",
       "5 21.12.2016 03:05:21 2016-12-20 18:05:21 2016-12-21 03:05:21\n",
       "6 21.12.2016 02:54:52 2016-12-20 17:54:52 2016-12-21 03:05:21\n",
       "  SEGSTOP_UTC        \n",
       "1 2016-12-20 18:05:06\n",
       "2 2016-12-20 18:05:10\n",
       "3 2016-12-20 18:05:19\n",
       "4 2016-12-20 18:05:20\n",
       "5 2016-12-20 18:05:21\n",
       "6 2016-12-20 18:05:21"
      ]
     },
     "metadata": {},
     "output_type": "display_data"
    }
   ],
   "source": [
    "head(datetime)"
   ]
  },
  {
   "cell_type": "markdown",
   "metadata": {},
   "source": [
    "### 6) 원본 데이터에 날짜 심기"
   ]
  },
  {
   "cell_type": "code",
   "execution_count": 29,
   "metadata": {},
   "outputs": [
    {
     "data": {
      "text/html": [
       "<table>\n",
       "<thead><tr><th scope=col>CALLID</th><th scope=col>ACWTIME</th><th scope=col>ANSHOLDTIME</th><th scope=col>CONSULTTIME</th><th scope=col>DISPTIME</th><th scope=col>DURATION</th><th scope=col>SEGSTART</th><th scope=col>SEGSTART_UTC</th><th scope=col>SEGSTOP</th><th scope=col>SEGSTOP_UTC</th><th scope=col>...</th><th scope=col>ASAI_UUI</th><th scope=col>INTERRUPTDEL</th><th scope=col>AGENTSURPLUS</th><th scope=col>AGENTSKILLLEVEL</th><th scope=col>PREFSKILLLEVEL</th><th scope=col>ICRRESENT</th><th scope=col>ICRPULLREASON</th><th scope=col>ORIG_ATTRIB_ID</th><th scope=col>ANS_ATTRIB_ID</th><th scope=col>OBS_ATTRIB_ID</th></tr></thead>\n",
       "<tbody>\n",
       "\t<tr><td>2340243            </td><td>1                  </td><td> 0                 </td><td>0                  </td><td>139                </td><td>393                </td><td>21.12.2016 02:58:32</td><td>2016-12-20 17:58:32</td><td>2016-12-21 03:05:06</td><td>2016-12-20 18:05:06</td><td>...                </td><td>                   </td><td>0                  </td><td>1                  </td><td>4                  </td><td>0                  </td><td>0                  </td><td>0                  </td><td>NA                 </td><td>NA                 </td><td>NA                 </td></tr>\n",
       "\t<tr><td>2340244            </td><td>1                  </td><td> 0                 </td><td>0                  </td><td>119                </td><td>290                </td><td>21.12.2016 03:00:19</td><td>2016-12-20 18:00:19</td><td>2016-12-21 03:05:10</td><td>2016-12-20 18:05:10</td><td>...                </td><td>                   </td><td>0                  </td><td>1                  </td><td>4                  </td><td>0                  </td><td>0                  </td><td>0                  </td><td>NA                 </td><td>NA                 </td><td>NA                 </td></tr>\n",
       "\t<tr><td>2340245            </td><td>0                  </td><td> 0                 </td><td>0                  </td><td> 23                </td><td> 63                </td><td>21.12.2016 03:04:16</td><td>2016-12-20 18:04:16</td><td>2016-12-21 03:05:19</td><td>2016-12-20 18:05:19</td><td>...                </td><td>                   </td><td>0                  </td><td>1                  </td><td>4                  </td><td>0                  </td><td>0                  </td><td>0                  </td><td>NA                 </td><td>NA                 </td><td>NA                 </td></tr>\n",
       "\t<tr><td>2340246            </td><td>0                  </td><td> 0                 </td><td>0                  </td><td> 77                </td><td>205                </td><td>21.12.2016 03:01:55</td><td>2016-12-20 18:01:55</td><td>2016-12-21 03:05:20</td><td>2016-12-20 18:05:20</td><td>...                </td><td>                   </td><td>0                  </td><td>1                  </td><td>4                  </td><td>0                  </td><td>0                  </td><td>0                  </td><td>NA                 </td><td>NA                 </td><td>NA                 </td></tr>\n",
       "\t<tr><td>2340247            </td><td>0                  </td><td> 0                 </td><td>0                  </td><td>  0                </td><td>  0                </td><td>21.12.2016 03:05:21</td><td>2016-12-20 18:05:21</td><td>2016-12-21 03:05:21</td><td>2016-12-20 18:05:21</td><td>...                </td><td>                   </td><td>0                  </td><td>0                  </td><td>0                  </td><td>0                  </td><td>0                  </td><td>0                  </td><td>NA                 </td><td>NA                 </td><td>NA                 </td></tr>\n",
       "\t<tr><td>2340247            </td><td>0                  </td><td>15                 </td><td>0                  </td><td> 21                </td><td>629                </td><td>21.12.2016 02:54:52</td><td>2016-12-20 17:54:52</td><td>2016-12-21 03:05:21</td><td>2016-12-20 18:05:21</td><td>...                </td><td>                   </td><td>0                  </td><td>2                  </td><td>4                  </td><td>0                  </td><td>0                  </td><td>0                  </td><td>NA                 </td><td>NA                 </td><td>NA                 </td></tr>\n",
       "</tbody>\n",
       "</table>\n"
      ],
      "text/latex": [
       "\\begin{tabular}{r|lllllllllllllllllllllllllllllllllllllllllllllllllllllllllllllllllllllllllllllllllllllll}\n",
       " CALLID & ACWTIME & ANSHOLDTIME & CONSULTTIME & DISPTIME & DURATION & SEGSTART & SEGSTART\\_UTC & SEGSTOP & SEGSTOP\\_UTC & ... & ASAI\\_UUI & INTERRUPTDEL & AGENTSURPLUS & AGENTSKILLLEVEL & PREFSKILLLEVEL & ICRRESENT & ICRPULLREASON & ORIG\\_ATTRIB\\_ID & ANS\\_ATTRIB\\_ID & OBS\\_ATTRIB\\_ID\\\\\n",
       "\\hline\n",
       "\t 2340243             & 1                   &  0                  & 0                   & 139                 & 393                 & 21.12.2016 02:58:32 & 2016-12-20 17:58:32 & 2016-12-21 03:05:06 & 2016-12-20 18:05:06 & ...                 &                     & 0                   & 1                   & 4                   & 0                   & 0                   & 0                   & NA                  & NA                  & NA                 \\\\\n",
       "\t 2340244             & 1                   &  0                  & 0                   & 119                 & 290                 & 21.12.2016 03:00:19 & 2016-12-20 18:00:19 & 2016-12-21 03:05:10 & 2016-12-20 18:05:10 & ...                 &                     & 0                   & 1                   & 4                   & 0                   & 0                   & 0                   & NA                  & NA                  & NA                 \\\\\n",
       "\t 2340245             & 0                   &  0                  & 0                   &  23                 &  63                 & 21.12.2016 03:04:16 & 2016-12-20 18:04:16 & 2016-12-21 03:05:19 & 2016-12-20 18:05:19 & ...                 &                     & 0                   & 1                   & 4                   & 0                   & 0                   & 0                   & NA                  & NA                  & NA                 \\\\\n",
       "\t 2340246             & 0                   &  0                  & 0                   &  77                 & 205                 & 21.12.2016 03:01:55 & 2016-12-20 18:01:55 & 2016-12-21 03:05:20 & 2016-12-20 18:05:20 & ...                 &                     & 0                   & 1                   & 4                   & 0                   & 0                   & 0                   & NA                  & NA                  & NA                 \\\\\n",
       "\t 2340247             & 0                   &  0                  & 0                   &   0                 &   0                 & 21.12.2016 03:05:21 & 2016-12-20 18:05:21 & 2016-12-21 03:05:21 & 2016-12-20 18:05:21 & ...                 &                     & 0                   & 0                   & 0                   & 0                   & 0                   & 0                   & NA                  & NA                  & NA                 \\\\\n",
       "\t 2340247             & 0                   & 15                  & 0                   &  21                 & 629                 & 21.12.2016 02:54:52 & 2016-12-20 17:54:52 & 2016-12-21 03:05:21 & 2016-12-20 18:05:21 & ...                 &                     & 0                   & 2                   & 4                   & 0                   & 0                   & 0                   & NA                  & NA                  & NA                 \\\\\n",
       "\\end{tabular}\n"
      ],
      "text/markdown": [
       "\n",
       "CALLID | ACWTIME | ANSHOLDTIME | CONSULTTIME | DISPTIME | DURATION | SEGSTART | SEGSTART_UTC | SEGSTOP | SEGSTOP_UTC | ... | ASAI_UUI | INTERRUPTDEL | AGENTSURPLUS | AGENTSKILLLEVEL | PREFSKILLLEVEL | ICRRESENT | ICRPULLREASON | ORIG_ATTRIB_ID | ANS_ATTRIB_ID | OBS_ATTRIB_ID | \n",
       "|---|---|---|---|---|---|\n",
       "| 2340243             | 1                   |  0                  | 0                   | 139                 | 393                 | 21.12.2016 02:58:32 | 2016-12-20 17:58:32 | 2016-12-21 03:05:06 | 2016-12-20 18:05:06 | ...                 |                     | 0                   | 1                   | 4                   | 0                   | 0                   | 0                   | NA                  | NA                  | NA                  | \n",
       "| 2340244             | 1                   |  0                  | 0                   | 119                 | 290                 | 21.12.2016 03:00:19 | 2016-12-20 18:00:19 | 2016-12-21 03:05:10 | 2016-12-20 18:05:10 | ...                 |                     | 0                   | 1                   | 4                   | 0                   | 0                   | 0                   | NA                  | NA                  | NA                  | \n",
       "| 2340245             | 0                   |  0                  | 0                   |  23                 |  63                 | 21.12.2016 03:04:16 | 2016-12-20 18:04:16 | 2016-12-21 03:05:19 | 2016-12-20 18:05:19 | ...                 |                     | 0                   | 1                   | 4                   | 0                   | 0                   | 0                   | NA                  | NA                  | NA                  | \n",
       "| 2340246             | 0                   |  0                  | 0                   |  77                 | 205                 | 21.12.2016 03:01:55 | 2016-12-20 18:01:55 | 2016-12-21 03:05:20 | 2016-12-20 18:05:20 | ...                 |                     | 0                   | 1                   | 4                   | 0                   | 0                   | 0                   | NA                  | NA                  | NA                  | \n",
       "| 2340247             | 0                   |  0                  | 0                   |   0                 |   0                 | 21.12.2016 03:05:21 | 2016-12-20 18:05:21 | 2016-12-21 03:05:21 | 2016-12-20 18:05:21 | ...                 |                     | 0                   | 0                   | 0                   | 0                   | 0                   | 0                   | NA                  | NA                  | NA                  | \n",
       "| 2340247             | 0                   | 15                  | 0                   |  21                 | 629                 | 21.12.2016 02:54:52 | 2016-12-20 17:54:52 | 2016-12-21 03:05:21 | 2016-12-20 18:05:21 | ...                 |                     | 0                   | 2                   | 4                   | 0                   | 0                   | 0                   | NA                  | NA                  | NA                  | \n",
       "\n",
       "\n"
      ],
      "text/plain": [
       "  CALLID  ACWTIME ANSHOLDTIME CONSULTTIME DISPTIME DURATION SEGSTART           \n",
       "1 2340243 1        0          0           139      393      21.12.2016 02:58:32\n",
       "2 2340244 1        0          0           119      290      21.12.2016 03:00:19\n",
       "3 2340245 0        0          0            23       63      21.12.2016 03:04:16\n",
       "4 2340246 0        0          0            77      205      21.12.2016 03:01:55\n",
       "5 2340247 0        0          0             0        0      21.12.2016 03:05:21\n",
       "6 2340247 0       15          0            21      629      21.12.2016 02:54:52\n",
       "  SEGSTART_UTC        SEGSTOP             SEGSTOP_UTC         ... ASAI_UUI\n",
       "1 2016-12-20 17:58:32 2016-12-21 03:05:06 2016-12-20 18:05:06 ...         \n",
       "2 2016-12-20 18:00:19 2016-12-21 03:05:10 2016-12-20 18:05:10 ...         \n",
       "3 2016-12-20 18:04:16 2016-12-21 03:05:19 2016-12-20 18:05:19 ...         \n",
       "4 2016-12-20 18:01:55 2016-12-21 03:05:20 2016-12-20 18:05:20 ...         \n",
       "5 2016-12-20 18:05:21 2016-12-21 03:05:21 2016-12-20 18:05:21 ...         \n",
       "6 2016-12-20 17:54:52 2016-12-21 03:05:21 2016-12-20 18:05:21 ...         \n",
       "  INTERRUPTDEL AGENTSURPLUS AGENTSKILLLEVEL PREFSKILLLEVEL ICRRESENT\n",
       "1 0            1            4               0              0        \n",
       "2 0            1            4               0              0        \n",
       "3 0            1            4               0              0        \n",
       "4 0            1            4               0              0        \n",
       "5 0            0            0               0              0        \n",
       "6 0            2            4               0              0        \n",
       "  ICRPULLREASON ORIG_ATTRIB_ID ANS_ATTRIB_ID OBS_ATTRIB_ID\n",
       "1 0             NA             NA            NA           \n",
       "2 0             NA             NA            NA           \n",
       "3 0             NA             NA            NA           \n",
       "4 0             NA             NA            NA           \n",
       "5 0             NA             NA            NA           \n",
       "6 0             NA             NA            NA           "
      ]
     },
     "metadata": {},
     "output_type": "display_data"
    }
   ],
   "source": [
    "hansol$SEGSTART <- datetime$SEGSTART\n",
    "hansol$SEGSTART_UTC <- datetime$SEGSTART_UTC\n",
    "hansol$SEGSTOP <- datetime$SEGSTOP\n",
    "hansol$SEGSTOP_UTC <- datetime$SEGSTOP_UTC\n",
    "\n",
    "head(hansol)"
   ]
  },
  {
   "cell_type": "markdown",
   "metadata": {},
   "source": [
    "## 2. 무의미한 Column 제거\n",
    "### 1) 모든 값이 Null인 Column\n",
    "### 2) 모든 값이 동일한 값인 Column"
   ]
  },
  {
   "cell_type": "code",
   "execution_count": 30,
   "metadata": {},
   "outputs": [
    {
     "data": {
      "text/html": [
       "<table>\n",
       "<thead><tr><th scope=col>CALLID</th><th scope=col>ACWTIME</th><th scope=col>ANSHOLDTIME</th><th scope=col>CONSULTTIME</th><th scope=col>DISPTIME</th><th scope=col>DURATION</th><th scope=col>SEGSTART</th><th scope=col>SEGSTART_UTC</th><th scope=col>SEGSTOP</th><th scope=col>SEGSTOP_UTC</th><th scope=col>...</th><th scope=col>ORIGLOGIN</th><th scope=col>ANSLOGIN</th><th scope=col>LASTOBSERVER</th><th scope=col>LASTDIGITS</th><th scope=col>CALLING_II</th><th scope=col>VDN2</th><th scope=col>VDN3</th><th scope=col>ASAI_UUI</th><th scope=col>AGENTSURPLUS</th><th scope=col>AGENTSKILLLEVEL</th></tr></thead>\n",
       "<tbody>\n",
       "\t<tr><td>2340243            </td><td>1                  </td><td> 0                 </td><td>0                  </td><td>139                </td><td>393                </td><td>21.12.2016 02:58:32</td><td>2016-12-20 17:58:32</td><td>2016-12-21 03:05:06</td><td>2016-12-20 18:05:06</td><td>...                </td><td>NA                 </td><td>200115             </td><td>NA                 </td><td>1                  </td><td>NA                 </td><td>510311             </td><td>NA                 </td><td>                   </td><td>1                  </td><td>4                  </td></tr>\n",
       "\t<tr><td>2340244            </td><td>1                  </td><td> 0                 </td><td>0                  </td><td>119                </td><td>290                </td><td>21.12.2016 03:00:19</td><td>2016-12-20 18:00:19</td><td>2016-12-21 03:05:10</td><td>2016-12-20 18:05:10</td><td>...                </td><td>NA                 </td><td>200124             </td><td>NA                 </td><td>3                  </td><td>NA                 </td><td>510211             </td><td>NA                 </td><td>                   </td><td>1                  </td><td>4                  </td></tr>\n",
       "\t<tr><td>2340245            </td><td>0                  </td><td> 0                 </td><td>0                  </td><td> 23                </td><td> 63                </td><td>21.12.2016 03:04:16</td><td>2016-12-20 18:04:16</td><td>2016-12-21 03:05:19</td><td>2016-12-20 18:05:19</td><td>...                </td><td>NA                 </td><td>200333             </td><td>NA                 </td><td>1                  </td><td>NA                 </td><td>510211             </td><td>NA                 </td><td>                   </td><td>1                  </td><td>4                  </td></tr>\n",
       "\t<tr><td>2340246            </td><td>0                  </td><td> 0                 </td><td>0                  </td><td> 77                </td><td>205                </td><td>21.12.2016 03:01:55</td><td>2016-12-20 18:01:55</td><td>2016-12-21 03:05:20</td><td>2016-12-20 18:05:20</td><td>...                </td><td>NA                 </td><td>200116             </td><td>NA                 </td><td>3                  </td><td>NA                 </td><td>510211             </td><td>NA                 </td><td>                   </td><td>1                  </td><td>4                  </td></tr>\n",
       "\t<tr><td>2340247            </td><td>0                  </td><td> 0                 </td><td>0                  </td><td>  0                </td><td>  0                </td><td>21.12.2016 03:05:21</td><td>2016-12-20 18:05:21</td><td>2016-12-21 03:05:21</td><td>2016-12-20 18:05:21</td><td>...                </td><td>NA                 </td><td>    NA             </td><td>NA                 </td><td>                   </td><td>NA                 </td><td>    NA             </td><td>NA                 </td><td>                   </td><td>0                  </td><td>0                  </td></tr>\n",
       "\t<tr><td>2340247            </td><td>0                  </td><td>15                 </td><td>0                  </td><td> 21                </td><td>629                </td><td>21.12.2016 02:54:52</td><td>2016-12-20 17:54:52</td><td>2016-12-21 03:05:21</td><td>2016-12-20 18:05:21</td><td>...                </td><td>NA                 </td><td>200508             </td><td>NA                 </td><td>1                  </td><td>NA                 </td><td>510211             </td><td>NA                 </td><td>                   </td><td>2                  </td><td>4                  </td></tr>\n",
       "</tbody>\n",
       "</table>\n"
      ],
      "text/latex": [
       "\\begin{tabular}{r|lllllllllllllllllllllllllllllllllllllllllllllllllllllllll}\n",
       " CALLID & ACWTIME & ANSHOLDTIME & CONSULTTIME & DISPTIME & DURATION & SEGSTART & SEGSTART\\_UTC & SEGSTOP & SEGSTOP\\_UTC & ... & ORIGLOGIN & ANSLOGIN & LASTOBSERVER & LASTDIGITS & CALLING\\_II & VDN2 & VDN3 & ASAI\\_UUI & AGENTSURPLUS & AGENTSKILLLEVEL\\\\\n",
       "\\hline\n",
       "\t 2340243             & 1                   &  0                  & 0                   & 139                 & 393                 & 21.12.2016 02:58:32 & 2016-12-20 17:58:32 & 2016-12-21 03:05:06 & 2016-12-20 18:05:06 & ...                 & NA                  & 200115              & NA                  & 1                   & NA                  & 510311              & NA                  &                     & 1                   & 4                  \\\\\n",
       "\t 2340244             & 1                   &  0                  & 0                   & 119                 & 290                 & 21.12.2016 03:00:19 & 2016-12-20 18:00:19 & 2016-12-21 03:05:10 & 2016-12-20 18:05:10 & ...                 & NA                  & 200124              & NA                  & 3                   & NA                  & 510211              & NA                  &                     & 1                   & 4                  \\\\\n",
       "\t 2340245             & 0                   &  0                  & 0                   &  23                 &  63                 & 21.12.2016 03:04:16 & 2016-12-20 18:04:16 & 2016-12-21 03:05:19 & 2016-12-20 18:05:19 & ...                 & NA                  & 200333              & NA                  & 1                   & NA                  & 510211              & NA                  &                     & 1                   & 4                  \\\\\n",
       "\t 2340246             & 0                   &  0                  & 0                   &  77                 & 205                 & 21.12.2016 03:01:55 & 2016-12-20 18:01:55 & 2016-12-21 03:05:20 & 2016-12-20 18:05:20 & ...                 & NA                  & 200116              & NA                  & 3                   & NA                  & 510211              & NA                  &                     & 1                   & 4                  \\\\\n",
       "\t 2340247             & 0                   &  0                  & 0                   &   0                 &   0                 & 21.12.2016 03:05:21 & 2016-12-20 18:05:21 & 2016-12-21 03:05:21 & 2016-12-20 18:05:21 & ...                 & NA                  &     NA              & NA                  &                     & NA                  &     NA              & NA                  &                     & 0                   & 0                  \\\\\n",
       "\t 2340247             & 0                   & 15                  & 0                   &  21                 & 629                 & 21.12.2016 02:54:52 & 2016-12-20 17:54:52 & 2016-12-21 03:05:21 & 2016-12-20 18:05:21 & ...                 & NA                  & 200508              & NA                  & 1                   & NA                  & 510211              & NA                  &                     & 2                   & 4                  \\\\\n",
       "\\end{tabular}\n"
      ],
      "text/markdown": [
       "\n",
       "CALLID | ACWTIME | ANSHOLDTIME | CONSULTTIME | DISPTIME | DURATION | SEGSTART | SEGSTART_UTC | SEGSTOP | SEGSTOP_UTC | ... | ORIGLOGIN | ANSLOGIN | LASTOBSERVER | LASTDIGITS | CALLING_II | VDN2 | VDN3 | ASAI_UUI | AGENTSURPLUS | AGENTSKILLLEVEL | \n",
       "|---|---|---|---|---|---|\n",
       "| 2340243             | 1                   |  0                  | 0                   | 139                 | 393                 | 21.12.2016 02:58:32 | 2016-12-20 17:58:32 | 2016-12-21 03:05:06 | 2016-12-20 18:05:06 | ...                 | NA                  | 200115              | NA                  | 1                   | NA                  | 510311              | NA                  |                     | 1                   | 4                   | \n",
       "| 2340244             | 1                   |  0                  | 0                   | 119                 | 290                 | 21.12.2016 03:00:19 | 2016-12-20 18:00:19 | 2016-12-21 03:05:10 | 2016-12-20 18:05:10 | ...                 | NA                  | 200124              | NA                  | 3                   | NA                  | 510211              | NA                  |                     | 1                   | 4                   | \n",
       "| 2340245             | 0                   |  0                  | 0                   |  23                 |  63                 | 21.12.2016 03:04:16 | 2016-12-20 18:04:16 | 2016-12-21 03:05:19 | 2016-12-20 18:05:19 | ...                 | NA                  | 200333              | NA                  | 1                   | NA                  | 510211              | NA                  |                     | 1                   | 4                   | \n",
       "| 2340246             | 0                   |  0                  | 0                   |  77                 | 205                 | 21.12.2016 03:01:55 | 2016-12-20 18:01:55 | 2016-12-21 03:05:20 | 2016-12-20 18:05:20 | ...                 | NA                  | 200116              | NA                  | 3                   | NA                  | 510211              | NA                  |                     | 1                   | 4                   | \n",
       "| 2340247             | 0                   |  0                  | 0                   |   0                 |   0                 | 21.12.2016 03:05:21 | 2016-12-20 18:05:21 | 2016-12-21 03:05:21 | 2016-12-20 18:05:21 | ...                 | NA                  |     NA              | NA                  |                     | NA                  |     NA              | NA                  |                     | 0                   | 0                   | \n",
       "| 2340247             | 0                   | 15                  | 0                   |  21                 | 629                 | 21.12.2016 02:54:52 | 2016-12-20 17:54:52 | 2016-12-21 03:05:21 | 2016-12-20 18:05:21 | ...                 | NA                  | 200508              | NA                  | 1                   | NA                  | 510211              | NA                  |                     | 2                   | 4                   | \n",
       "\n",
       "\n"
      ],
      "text/plain": [
       "  CALLID  ACWTIME ANSHOLDTIME CONSULTTIME DISPTIME DURATION SEGSTART           \n",
       "1 2340243 1        0          0           139      393      21.12.2016 02:58:32\n",
       "2 2340244 1        0          0           119      290      21.12.2016 03:00:19\n",
       "3 2340245 0        0          0            23       63      21.12.2016 03:04:16\n",
       "4 2340246 0        0          0            77      205      21.12.2016 03:01:55\n",
       "5 2340247 0        0          0             0        0      21.12.2016 03:05:21\n",
       "6 2340247 0       15          0            21      629      21.12.2016 02:54:52\n",
       "  SEGSTART_UTC        SEGSTOP             SEGSTOP_UTC         ... ORIGLOGIN\n",
       "1 2016-12-20 17:58:32 2016-12-21 03:05:06 2016-12-20 18:05:06 ... NA       \n",
       "2 2016-12-20 18:00:19 2016-12-21 03:05:10 2016-12-20 18:05:10 ... NA       \n",
       "3 2016-12-20 18:04:16 2016-12-21 03:05:19 2016-12-20 18:05:19 ... NA       \n",
       "4 2016-12-20 18:01:55 2016-12-21 03:05:20 2016-12-20 18:05:20 ... NA       \n",
       "5 2016-12-20 18:05:21 2016-12-21 03:05:21 2016-12-20 18:05:21 ... NA       \n",
       "6 2016-12-20 17:54:52 2016-12-21 03:05:21 2016-12-20 18:05:21 ... NA       \n",
       "  ANSLOGIN LASTOBSERVER LASTDIGITS CALLING_II VDN2   VDN3 ASAI_UUI AGENTSURPLUS\n",
       "1 200115   NA           1          NA         510311 NA            1           \n",
       "2 200124   NA           3          NA         510211 NA            1           \n",
       "3 200333   NA           1          NA         510211 NA            1           \n",
       "4 200116   NA           3          NA         510211 NA            1           \n",
       "5     NA   NA                      NA             NA NA            0           \n",
       "6 200508   NA           1          NA         510211 NA            2           \n",
       "  AGENTSKILLLEVEL\n",
       "1 4              \n",
       "2 4              \n",
       "3 4              \n",
       "4 4              \n",
       "5 0              \n",
       "6 4              "
      ]
     },
     "metadata": {},
     "output_type": "display_data"
    }
   ],
   "source": [
    "hansol2 <- select(hansol, -NETINTIME, -TENANT, \n",
    "                  -EVENT1, -EVENT2, -EVENT3, -EVENT4, -EVENT5, -EVENT6, -EVENT7, -EVENT8, -EVENT9,\n",
    "                  -CWC1, -CWC2, -CWC3, -CWC4, -CWC5, -LASTCWC,\n",
    "                  -VDN4, -VDN5, -VDN6, -VDN7, -VDN8, -VDN9,\n",
    "                  -INTERRUPTDEL, -PREFSKILLLEVEL, -ICRPULLREASON, \n",
    "                  -ICRRESENT, -ORIG_ATTRIB_ID, -ANS_ATTRIB_ID, -OBS_ATTRIB_ID)\n",
    "head(hansol2)"
   ]
  },
  {
   "cell_type": "markdown",
   "metadata": {},
   "source": [
    "## 3. 중복 CALLID 제거\n",
    "### 1) 중복 CALLID중 2번째 행만 남기기\n",
    "#### 이건 뽀록으로 된 것이므로 주말에 다시 공부해야 함"
   ]
  },
  {
   "cell_type": "code",
   "execution_count": 31,
   "metadata": {
    "scrolled": true
   },
   "outputs": [
    {
     "data": {
      "text/html": [
       "<table>\n",
       "<thead><tr><th></th><th scope=col>CALLID</th><th scope=col>freq</th></tr></thead>\n",
       "<tbody>\n",
       "\t<tr><th scope=row>3</th><td>2340197</td><td>2      </td></tr>\n",
       "\t<tr><th scope=row>5</th><td>2340199</td><td>2      </td></tr>\n",
       "\t<tr><th scope=row>7</th><td>2340201</td><td>4      </td></tr>\n",
       "\t<tr><th scope=row>10</th><td>2340204</td><td>2      </td></tr>\n",
       "\t<tr><th scope=row>13</th><td>2340207</td><td>2      </td></tr>\n",
       "\t<tr><th scope=row>25</th><td>2340219</td><td>2      </td></tr>\n",
       "</tbody>\n",
       "</table>\n"
      ],
      "text/latex": [
       "\\begin{tabular}{r|ll}\n",
       "  & CALLID & freq\\\\\n",
       "\\hline\n",
       "\t3 & 2340197 & 2      \\\\\n",
       "\t5 & 2340199 & 2      \\\\\n",
       "\t7 & 2340201 & 4      \\\\\n",
       "\t10 & 2340204 & 2      \\\\\n",
       "\t13 & 2340207 & 2      \\\\\n",
       "\t25 & 2340219 & 2      \\\\\n",
       "\\end{tabular}\n"
      ],
      "text/markdown": [
       "\n",
       "| <!--/--> | CALLID | freq | \n",
       "|---|---|---|---|---|---|\n",
       "| 3 | 2340197 | 2       | \n",
       "| 5 | 2340199 | 2       | \n",
       "| 7 | 2340201 | 4       | \n",
       "| 10 | 2340204 | 2       | \n",
       "| 13 | 2340207 | 2       | \n",
       "| 25 | 2340219 | 2       | \n",
       "\n",
       "\n"
      ],
      "text/plain": [
       "   CALLID  freq\n",
       "3  2340197 2   \n",
       "5  2340199 2   \n",
       "7  2340201 4   \n",
       "10 2340204 2   \n",
       "13 2340207 2   \n",
       "25 2340219 2   "
      ]
     },
     "metadata": {},
     "output_type": "display_data"
    }
   ],
   "source": [
    "redup <- subset(count(hansol2, vars = c(\"CALLID\")), freq > 1)\n",
    "head(redup)"
   ]
  },
  {
   "cell_type": "markdown",
   "metadata": {},
   "source": [
    "### duplicated() 중복 함수를 모두 뽑아줌\n",
    "### 그러나 최초의 중복은 출력하지 않음\n",
    "### 그래서 밑에 보면 운 좋게 두 번째 행(내가 원하던 것)들이 첫번째 행처럼 나와있음"
   ]
  },
  {
   "cell_type": "code",
   "execution_count": 32,
   "metadata": {},
   "outputs": [
    {
     "data": {
      "text/html": [
       "<table>\n",
       "<thead><tr><th></th><th scope=col>CALLID</th><th scope=col>ACWTIME</th><th scope=col>ANSHOLDTIME</th><th scope=col>CONSULTTIME</th><th scope=col>DISPTIME</th><th scope=col>DURATION</th><th scope=col>SEGSTART</th><th scope=col>SEGSTART_UTC</th><th scope=col>SEGSTOP</th><th scope=col>SEGSTOP_UTC</th><th scope=col>...</th><th scope=col>ORIGLOGIN</th><th scope=col>ANSLOGIN</th><th scope=col>LASTOBSERVER</th><th scope=col>LASTDIGITS</th><th scope=col>CALLING_II</th><th scope=col>VDN2</th><th scope=col>VDN3</th><th scope=col>ASAI_UUI</th><th scope=col>AGENTSURPLUS</th><th scope=col>AGENTSKILLLEVEL</th></tr></thead>\n",
       "<tbody>\n",
       "\t<tr><th scope=row>6</th><td>2340247            </td><td>0                  </td><td>15                 </td><td>0                  </td><td>21                 </td><td>629                </td><td>21.12.2016 02:54:52</td><td>2016-12-20 17:54:52</td><td>2016-12-21 03:05:21</td><td>2016-12-20 18:05:21</td><td>...                </td><td>    NA             </td><td>200508             </td><td>NA                 </td><td>1                  </td><td>NA                 </td><td>510211             </td><td>NA                 </td><td>                   </td><td>2                  </td><td>4                  </td></tr>\n",
       "\t<tr><th scope=row>7</th><td>2340247            </td><td>0                  </td><td> 0                 </td><td>2                  </td><td> 2                 </td><td> 45                </td><td>21.12.2016 03:04:35</td><td>2016-12-20 18:04:35</td><td>2016-12-21 03:05:21</td><td>2016-12-20 18:05:21</td><td>...                </td><td>200508             </td><td>    NA             </td><td>NA                 </td><td>                   </td><td>NA                 </td><td>    NA             </td><td>NA                 </td><td>                   </td><td>0                  </td><td>0                  </td></tr>\n",
       "\t<tr><th scope=row>8</th><td>2340247            </td><td>0                  </td><td> 0                 </td><td>1                  </td><td> 1                 </td><td>  2                </td><td>21.12.2016 03:05:19</td><td>2016-12-20 18:05:19</td><td>2016-12-21 03:05:21</td><td>2016-12-20 18:05:21</td><td>...                </td><td>200508             </td><td>    NA             </td><td>NA                 </td><td>                   </td><td>NA                 </td><td>    NA             </td><td>NA                 </td><td>                   </td><td>0                  </td><td>0                  </td></tr>\n",
       "\t<tr><th scope=row>16</th><td>2340254            </td><td>0                  </td><td> 0                 </td><td>0                  </td><td> 2                 </td><td> 93                </td><td>21.12.2016 03:04:59</td><td>2016-12-20 18:04:59</td><td>2016-12-21 03:06:32</td><td>2016-12-20 18:06:32</td><td>...                </td><td>    NA             </td><td>200591             </td><td>NA                 </td><td>                   </td><td>NA                 </td><td>    NA             </td><td>NA                 </td><td>                   </td><td>2                  </td><td>4                  </td></tr>\n",
       "\t<tr><th scope=row>18</th><td>2340255            </td><td>0                  </td><td> 0                 </td><td>2                  </td><td> 1                 </td><td> 31                </td><td>21.12.2016 03:06:18</td><td>2016-12-20 18:06:18</td><td>2016-12-21 03:06:49</td><td>2016-12-20 18:06:49</td><td>...                </td><td>200431             </td><td>    NA             </td><td>NA                 </td><td>                   </td><td>NA                 </td><td>    NA             </td><td>NA                 </td><td>                   </td><td>0                  </td><td>0                  </td></tr>\n",
       "\t<tr><th scope=row>23</th><td>2340259            </td><td>1                  </td><td>11                 </td><td>0                  </td><td> 8                 </td><td>122                </td><td>21.12.2016 03:04:25</td><td>2016-12-20 18:04:25</td><td>2016-12-21 03:07:12</td><td>2016-12-20 18:07:12</td><td>...                </td><td>    NA             </td><td>200331             </td><td>NA                 </td><td>                   </td><td>NA                 </td><td>    NA             </td><td>NA                 </td><td>                   </td><td>1                  </td><td>4                  </td></tr>\n",
       "</tbody>\n",
       "</table>\n"
      ],
      "text/latex": [
       "\\begin{tabular}{r|lllllllllllllllllllllllllllllllllllllllllllllllllllllllll}\n",
       "  & CALLID & ACWTIME & ANSHOLDTIME & CONSULTTIME & DISPTIME & DURATION & SEGSTART & SEGSTART\\_UTC & SEGSTOP & SEGSTOP\\_UTC & ... & ORIGLOGIN & ANSLOGIN & LASTOBSERVER & LASTDIGITS & CALLING\\_II & VDN2 & VDN3 & ASAI\\_UUI & AGENTSURPLUS & AGENTSKILLLEVEL\\\\\n",
       "\\hline\n",
       "\t6 & 2340247             & 0                   & 15                  & 0                   & 21                  & 629                 & 21.12.2016 02:54:52 & 2016-12-20 17:54:52 & 2016-12-21 03:05:21 & 2016-12-20 18:05:21 & ...                 &     NA              & 200508              & NA                  & 1                   & NA                  & 510211              & NA                  &                     & 2                   & 4                  \\\\\n",
       "\t7 & 2340247             & 0                   &  0                  & 2                   &  2                  &  45                 & 21.12.2016 03:04:35 & 2016-12-20 18:04:35 & 2016-12-21 03:05:21 & 2016-12-20 18:05:21 & ...                 & 200508              &     NA              & NA                  &                     & NA                  &     NA              & NA                  &                     & 0                   & 0                  \\\\\n",
       "\t8 & 2340247             & 0                   &  0                  & 1                   &  1                  &   2                 & 21.12.2016 03:05:19 & 2016-12-20 18:05:19 & 2016-12-21 03:05:21 & 2016-12-20 18:05:21 & ...                 & 200508              &     NA              & NA                  &                     & NA                  &     NA              & NA                  &                     & 0                   & 0                  \\\\\n",
       "\t16 & 2340254             & 0                   &  0                  & 0                   &  2                  &  93                 & 21.12.2016 03:04:59 & 2016-12-20 18:04:59 & 2016-12-21 03:06:32 & 2016-12-20 18:06:32 & ...                 &     NA              & 200591              & NA                  &                     & NA                  &     NA              & NA                  &                     & 2                   & 4                  \\\\\n",
       "\t18 & 2340255             & 0                   &  0                  & 2                   &  1                  &  31                 & 21.12.2016 03:06:18 & 2016-12-20 18:06:18 & 2016-12-21 03:06:49 & 2016-12-20 18:06:49 & ...                 & 200431              &     NA              & NA                  &                     & NA                  &     NA              & NA                  &                     & 0                   & 0                  \\\\\n",
       "\t23 & 2340259             & 1                   & 11                  & 0                   &  8                  & 122                 & 21.12.2016 03:04:25 & 2016-12-20 18:04:25 & 2016-12-21 03:07:12 & 2016-12-20 18:07:12 & ...                 &     NA              & 200331              & NA                  &                     & NA                  &     NA              & NA                  &                     & 1                   & 4                  \\\\\n",
       "\\end{tabular}\n"
      ],
      "text/markdown": [
       "\n",
       "| <!--/--> | CALLID | ACWTIME | ANSHOLDTIME | CONSULTTIME | DISPTIME | DURATION | SEGSTART | SEGSTART_UTC | SEGSTOP | SEGSTOP_UTC | ... | ORIGLOGIN | ANSLOGIN | LASTOBSERVER | LASTDIGITS | CALLING_II | VDN2 | VDN3 | ASAI_UUI | AGENTSURPLUS | AGENTSKILLLEVEL | \n",
       "|---|---|---|---|---|---|\n",
       "| 6 | 2340247             | 0                   | 15                  | 0                   | 21                  | 629                 | 21.12.2016 02:54:52 | 2016-12-20 17:54:52 | 2016-12-21 03:05:21 | 2016-12-20 18:05:21 | ...                 |     NA              | 200508              | NA                  | 1                   | NA                  | 510211              | NA                  |                     | 2                   | 4                   | \n",
       "| 7 | 2340247             | 0                   |  0                  | 2                   |  2                  |  45                 | 21.12.2016 03:04:35 | 2016-12-20 18:04:35 | 2016-12-21 03:05:21 | 2016-12-20 18:05:21 | ...                 | 200508              |     NA              | NA                  |                     | NA                  |     NA              | NA                  |                     | 0                   | 0                   | \n",
       "| 8 | 2340247             | 0                   |  0                  | 1                   |  1                  |   2                 | 21.12.2016 03:05:19 | 2016-12-20 18:05:19 | 2016-12-21 03:05:21 | 2016-12-20 18:05:21 | ...                 | 200508              |     NA              | NA                  |                     | NA                  |     NA              | NA                  |                     | 0                   | 0                   | \n",
       "| 16 | 2340254             | 0                   |  0                  | 0                   |  2                  |  93                 | 21.12.2016 03:04:59 | 2016-12-20 18:04:59 | 2016-12-21 03:06:32 | 2016-12-20 18:06:32 | ...                 |     NA              | 200591              | NA                  |                     | NA                  |     NA              | NA                  |                     | 2                   | 4                   | \n",
       "| 18 | 2340255             | 0                   |  0                  | 2                   |  1                  |  31                 | 21.12.2016 03:06:18 | 2016-12-20 18:06:18 | 2016-12-21 03:06:49 | 2016-12-20 18:06:49 | ...                 | 200431              |     NA              | NA                  |                     | NA                  |     NA              | NA                  |                     | 0                   | 0                   | \n",
       "| 23 | 2340259             | 1                   | 11                  | 0                   |  8                  | 122                 | 21.12.2016 03:04:25 | 2016-12-20 18:04:25 | 2016-12-21 03:07:12 | 2016-12-20 18:07:12 | ...                 |     NA              | 200331              | NA                  |                     | NA                  |     NA              | NA                  |                     | 1                   | 4                   | \n",
       "\n",
       "\n"
      ],
      "text/plain": [
       "   CALLID  ACWTIME ANSHOLDTIME CONSULTTIME DISPTIME DURATION\n",
       "6  2340247 0       15          0           21       629     \n",
       "7  2340247 0        0          2            2        45     \n",
       "8  2340247 0        0          1            1         2     \n",
       "16 2340254 0        0          0            2        93     \n",
       "18 2340255 0        0          2            1        31     \n",
       "23 2340259 1       11          0            8       122     \n",
       "   SEGSTART            SEGSTART_UTC        SEGSTOP            \n",
       "6  21.12.2016 02:54:52 2016-12-20 17:54:52 2016-12-21 03:05:21\n",
       "7  21.12.2016 03:04:35 2016-12-20 18:04:35 2016-12-21 03:05:21\n",
       "8  21.12.2016 03:05:19 2016-12-20 18:05:19 2016-12-21 03:05:21\n",
       "16 21.12.2016 03:04:59 2016-12-20 18:04:59 2016-12-21 03:06:32\n",
       "18 21.12.2016 03:06:18 2016-12-20 18:06:18 2016-12-21 03:06:49\n",
       "23 21.12.2016 03:04:25 2016-12-20 18:04:25 2016-12-21 03:07:12\n",
       "   SEGSTOP_UTC         ... ORIGLOGIN ANSLOGIN LASTOBSERVER LASTDIGITS\n",
       "6  2016-12-20 18:05:21 ...     NA    200508   NA           1         \n",
       "7  2016-12-20 18:05:21 ... 200508        NA   NA                     \n",
       "8  2016-12-20 18:05:21 ... 200508        NA   NA                     \n",
       "16 2016-12-20 18:06:32 ...     NA    200591   NA                     \n",
       "18 2016-12-20 18:06:49 ... 200431        NA   NA                     \n",
       "23 2016-12-20 18:07:12 ...     NA    200331   NA                     \n",
       "   CALLING_II VDN2   VDN3 ASAI_UUI AGENTSURPLUS AGENTSKILLLEVEL\n",
       "6  NA         510211 NA            2            4              \n",
       "7  NA             NA NA            0            0              \n",
       "8  NA             NA NA            0            0              \n",
       "16 NA             NA NA            2            4              \n",
       "18 NA             NA NA            0            0              \n",
       "23 NA             NA NA            1            4              "
      ]
     },
     "metadata": {},
     "output_type": "display_data"
    }
   ],
   "source": [
    "hansol3 <- hansol2[duplicated(hansol2$CALLID), ]\n",
    "head(hansol3)"
   ]
  },
  {
   "cell_type": "markdown",
   "metadata": {},
   "source": [
    "### 놀랍게도 !duplicated를 쓰면 중복인 행들을 모두 날려줌\n",
    "### 첫번째만 남기기 때문에 운 좋게 원하던 것을 얻게 됨\n",
    "### 사실 이걸 반복하면 몇 번째 행이든지 원하는 행을 얻을 수 있으나 그건 멍청한 방법임\n",
    "### 그러니까 indexing을 알아보자"
   ]
  },
  {
   "cell_type": "code",
   "execution_count": 33,
   "metadata": {},
   "outputs": [
    {
     "data": {
      "text/html": [
       "<table>\n",
       "<thead><tr><th></th><th scope=col>CALLID</th><th scope=col>ACWTIME</th><th scope=col>ANSHOLDTIME</th><th scope=col>CONSULTTIME</th><th scope=col>DISPTIME</th><th scope=col>DURATION</th><th scope=col>SEGSTART</th><th scope=col>SEGSTART_UTC</th><th scope=col>SEGSTOP</th><th scope=col>SEGSTOP_UTC</th><th scope=col>...</th><th scope=col>ORIGLOGIN</th><th scope=col>ANSLOGIN</th><th scope=col>LASTOBSERVER</th><th scope=col>LASTDIGITS</th><th scope=col>CALLING_II</th><th scope=col>VDN2</th><th scope=col>VDN3</th><th scope=col>ASAI_UUI</th><th scope=col>AGENTSURPLUS</th><th scope=col>AGENTSKILLLEVEL</th></tr></thead>\n",
       "<tbody>\n",
       "\t<tr><th scope=row>6</th><td>2340247            </td><td>0                  </td><td>15                 </td><td>0                  </td><td>21                 </td><td>629                </td><td>21.12.2016 02:54:52</td><td>2016-12-20 17:54:52</td><td>2016-12-21 03:05:21</td><td>2016-12-20 18:05:21</td><td>...                </td><td>    NA             </td><td>200508             </td><td>NA                 </td><td>1                  </td><td>NA                 </td><td>510211             </td><td>NA                 </td><td>                   </td><td>2                  </td><td>4                  </td></tr>\n",
       "\t<tr><th scope=row>16</th><td>2340254            </td><td>0                  </td><td> 0                 </td><td>0                  </td><td> 2                 </td><td> 93                </td><td>21.12.2016 03:04:59</td><td>2016-12-20 18:04:59</td><td>2016-12-21 03:06:32</td><td>2016-12-20 18:06:32</td><td>...                </td><td>    NA             </td><td>200591             </td><td>NA                 </td><td>                   </td><td>NA                 </td><td>    NA             </td><td>NA                 </td><td>                   </td><td>2                  </td><td>4                  </td></tr>\n",
       "\t<tr><th scope=row>18</th><td>2340255            </td><td>0                  </td><td> 0                 </td><td>2                  </td><td> 1                 </td><td> 31                </td><td>21.12.2016 03:06:18</td><td>2016-12-20 18:06:18</td><td>2016-12-21 03:06:49</td><td>2016-12-20 18:06:49</td><td>...                </td><td>200431             </td><td>    NA             </td><td>NA                 </td><td>                   </td><td>NA                 </td><td>    NA             </td><td>NA                 </td><td>                   </td><td>0                  </td><td>0                  </td></tr>\n",
       "\t<tr><th scope=row>23</th><td>2340259            </td><td>1                  </td><td>11                 </td><td>0                  </td><td> 8                 </td><td>122                </td><td>21.12.2016 03:04:25</td><td>2016-12-20 18:04:25</td><td>2016-12-21 03:07:12</td><td>2016-12-20 18:07:12</td><td>...                </td><td>    NA             </td><td>200331             </td><td>NA                 </td><td>                   </td><td>NA                 </td><td>    NA             </td><td>NA                 </td><td>                   </td><td>1                  </td><td>4                  </td></tr>\n",
       "\t<tr><th scope=row>26</th><td>2340260            </td><td>0                  </td><td> 0                 </td><td>0                  </td><td> 2                 </td><td> 93                </td><td>21.12.2016 03:05:49</td><td>2016-12-20 18:05:49</td><td>2016-12-21 03:07:22</td><td>2016-12-20 18:07:22</td><td>...                </td><td>    NA             </td><td>200116             </td><td>NA                 </td><td>                   </td><td>NA                 </td><td>    NA             </td><td>NA                 </td><td>                   </td><td>2                  </td><td>4                  </td></tr>\n",
       "\t<tr><th scope=row>42</th><td>2340275            </td><td>0                  </td><td> 0                 </td><td>2                  </td><td> 1                 </td><td> 67                </td><td>21.12.2016 03:08:00</td><td>2016-12-20 18:08:00</td><td>2016-12-21 03:09:11</td><td>2016-12-20 18:09:11</td><td>...                </td><td>200352             </td><td>    NA             </td><td>NA                 </td><td>                   </td><td>NA                 </td><td>    NA             </td><td>NA                 </td><td>                   </td><td>0                  </td><td>0                  </td></tr>\n",
       "</tbody>\n",
       "</table>\n"
      ],
      "text/latex": [
       "\\begin{tabular}{r|lllllllllllllllllllllllllllllllllllllllllllllllllllllllll}\n",
       "  & CALLID & ACWTIME & ANSHOLDTIME & CONSULTTIME & DISPTIME & DURATION & SEGSTART & SEGSTART\\_UTC & SEGSTOP & SEGSTOP\\_UTC & ... & ORIGLOGIN & ANSLOGIN & LASTOBSERVER & LASTDIGITS & CALLING\\_II & VDN2 & VDN3 & ASAI\\_UUI & AGENTSURPLUS & AGENTSKILLLEVEL\\\\\n",
       "\\hline\n",
       "\t6 & 2340247             & 0                   & 15                  & 0                   & 21                  & 629                 & 21.12.2016 02:54:52 & 2016-12-20 17:54:52 & 2016-12-21 03:05:21 & 2016-12-20 18:05:21 & ...                 &     NA              & 200508              & NA                  & 1                   & NA                  & 510211              & NA                  &                     & 2                   & 4                  \\\\\n",
       "\t16 & 2340254             & 0                   &  0                  & 0                   &  2                  &  93                 & 21.12.2016 03:04:59 & 2016-12-20 18:04:59 & 2016-12-21 03:06:32 & 2016-12-20 18:06:32 & ...                 &     NA              & 200591              & NA                  &                     & NA                  &     NA              & NA                  &                     & 2                   & 4                  \\\\\n",
       "\t18 & 2340255             & 0                   &  0                  & 2                   &  1                  &  31                 & 21.12.2016 03:06:18 & 2016-12-20 18:06:18 & 2016-12-21 03:06:49 & 2016-12-20 18:06:49 & ...                 & 200431              &     NA              & NA                  &                     & NA                  &     NA              & NA                  &                     & 0                   & 0                  \\\\\n",
       "\t23 & 2340259             & 1                   & 11                  & 0                   &  8                  & 122                 & 21.12.2016 03:04:25 & 2016-12-20 18:04:25 & 2016-12-21 03:07:12 & 2016-12-20 18:07:12 & ...                 &     NA              & 200331              & NA                  &                     & NA                  &     NA              & NA                  &                     & 1                   & 4                  \\\\\n",
       "\t26 & 2340260             & 0                   &  0                  & 0                   &  2                  &  93                 & 21.12.2016 03:05:49 & 2016-12-20 18:05:49 & 2016-12-21 03:07:22 & 2016-12-20 18:07:22 & ...                 &     NA              & 200116              & NA                  &                     & NA                  &     NA              & NA                  &                     & 2                   & 4                  \\\\\n",
       "\t42 & 2340275             & 0                   &  0                  & 2                   &  1                  &  67                 & 21.12.2016 03:08:00 & 2016-12-20 18:08:00 & 2016-12-21 03:09:11 & 2016-12-20 18:09:11 & ...                 & 200352              &     NA              & NA                  &                     & NA                  &     NA              & NA                  &                     & 0                   & 0                  \\\\\n",
       "\\end{tabular}\n"
      ],
      "text/markdown": [
       "\n",
       "| <!--/--> | CALLID | ACWTIME | ANSHOLDTIME | CONSULTTIME | DISPTIME | DURATION | SEGSTART | SEGSTART_UTC | SEGSTOP | SEGSTOP_UTC | ... | ORIGLOGIN | ANSLOGIN | LASTOBSERVER | LASTDIGITS | CALLING_II | VDN2 | VDN3 | ASAI_UUI | AGENTSURPLUS | AGENTSKILLLEVEL | \n",
       "|---|---|---|---|---|---|\n",
       "| 6 | 2340247             | 0                   | 15                  | 0                   | 21                  | 629                 | 21.12.2016 02:54:52 | 2016-12-20 17:54:52 | 2016-12-21 03:05:21 | 2016-12-20 18:05:21 | ...                 |     NA              | 200508              | NA                  | 1                   | NA                  | 510211              | NA                  |                     | 2                   | 4                   | \n",
       "| 16 | 2340254             | 0                   |  0                  | 0                   |  2                  |  93                 | 21.12.2016 03:04:59 | 2016-12-20 18:04:59 | 2016-12-21 03:06:32 | 2016-12-20 18:06:32 | ...                 |     NA              | 200591              | NA                  |                     | NA                  |     NA              | NA                  |                     | 2                   | 4                   | \n",
       "| 18 | 2340255             | 0                   |  0                  | 2                   |  1                  |  31                 | 21.12.2016 03:06:18 | 2016-12-20 18:06:18 | 2016-12-21 03:06:49 | 2016-12-20 18:06:49 | ...                 | 200431              |     NA              | NA                  |                     | NA                  |     NA              | NA                  |                     | 0                   | 0                   | \n",
       "| 23 | 2340259             | 1                   | 11                  | 0                   |  8                  | 122                 | 21.12.2016 03:04:25 | 2016-12-20 18:04:25 | 2016-12-21 03:07:12 | 2016-12-20 18:07:12 | ...                 |     NA              | 200331              | NA                  |                     | NA                  |     NA              | NA                  |                     | 1                   | 4                   | \n",
       "| 26 | 2340260             | 0                   |  0                  | 0                   |  2                  |  93                 | 21.12.2016 03:05:49 | 2016-12-20 18:05:49 | 2016-12-21 03:07:22 | 2016-12-20 18:07:22 | ...                 |     NA              | 200116              | NA                  |                     | NA                  |     NA              | NA                  |                     | 2                   | 4                   | \n",
       "| 42 | 2340275             | 0                   |  0                  | 2                   |  1                  |  67                 | 21.12.2016 03:08:00 | 2016-12-20 18:08:00 | 2016-12-21 03:09:11 | 2016-12-20 18:09:11 | ...                 | 200352              |     NA              | NA                  |                     | NA                  |     NA              | NA                  |                     | 0                   | 0                   | \n",
       "\n",
       "\n"
      ],
      "text/plain": [
       "   CALLID  ACWTIME ANSHOLDTIME CONSULTTIME DISPTIME DURATION\n",
       "6  2340247 0       15          0           21       629     \n",
       "16 2340254 0        0          0            2        93     \n",
       "18 2340255 0        0          2            1        31     \n",
       "23 2340259 1       11          0            8       122     \n",
       "26 2340260 0        0          0            2        93     \n",
       "42 2340275 0        0          2            1        67     \n",
       "   SEGSTART            SEGSTART_UTC        SEGSTOP            \n",
       "6  21.12.2016 02:54:52 2016-12-20 17:54:52 2016-12-21 03:05:21\n",
       "16 21.12.2016 03:04:59 2016-12-20 18:04:59 2016-12-21 03:06:32\n",
       "18 21.12.2016 03:06:18 2016-12-20 18:06:18 2016-12-21 03:06:49\n",
       "23 21.12.2016 03:04:25 2016-12-20 18:04:25 2016-12-21 03:07:12\n",
       "26 21.12.2016 03:05:49 2016-12-20 18:05:49 2016-12-21 03:07:22\n",
       "42 21.12.2016 03:08:00 2016-12-20 18:08:00 2016-12-21 03:09:11\n",
       "   SEGSTOP_UTC         ... ORIGLOGIN ANSLOGIN LASTOBSERVER LASTDIGITS\n",
       "6  2016-12-20 18:05:21 ...     NA    200508   NA           1         \n",
       "16 2016-12-20 18:06:32 ...     NA    200591   NA                     \n",
       "18 2016-12-20 18:06:49 ... 200431        NA   NA                     \n",
       "23 2016-12-20 18:07:12 ...     NA    200331   NA                     \n",
       "26 2016-12-20 18:07:22 ...     NA    200116   NA                     \n",
       "42 2016-12-20 18:09:11 ... 200352        NA   NA                     \n",
       "   CALLING_II VDN2   VDN3 ASAI_UUI AGENTSURPLUS AGENTSKILLLEVEL\n",
       "6  NA         510211 NA            2            4              \n",
       "16 NA             NA NA            2            4              \n",
       "18 NA             NA NA            0            0              \n",
       "23 NA             NA NA            1            4              \n",
       "26 NA             NA NA            2            4              \n",
       "42 NA             NA NA            0            0              "
      ]
     },
     "metadata": {},
     "output_type": "display_data"
    }
   ],
   "source": [
    "hansol4 <- hansol3[!duplicated(hansol3$CALLID), ]\n",
    "head(hansol4)"
   ]
  },
  {
   "cell_type": "markdown",
   "metadata": {},
   "source": [
    "### 2) 기존 Data의 중복 행 다 날리기"
   ]
  },
  {
   "cell_type": "markdown",
   "metadata": {},
   "source": [
    "### 가장 멍청한 방법으로 중복 CallID를 Join해서 지우는 방법이 있음\n",
    "### 그런데 지금 그것밖에 생각이 안남\n",
    "### 좋아 이것도 써놨기 때문에 일단 정리 후에 공부하겠음"
   ]
  },
  {
   "cell_type": "code",
   "execution_count": 34,
   "metadata": {},
   "outputs": [],
   "source": [
    "forjoin <- as.data.frame(hansol4$CALLID)\n",
    "forjoin$x <- 1"
   ]
  },
  {
   "cell_type": "code",
   "execution_count": 35,
   "metadata": {},
   "outputs": [
    {
     "data": {
      "text/html": [
       "<table>\n",
       "<thead><tr><th scope=col>hansol4$CALLID</th><th scope=col>x</th></tr></thead>\n",
       "<tbody>\n",
       "\t<tr><td>2340247</td><td>1      </td></tr>\n",
       "\t<tr><td>2340254</td><td>1      </td></tr>\n",
       "\t<tr><td>2340255</td><td>1      </td></tr>\n",
       "\t<tr><td>2340259</td><td>1      </td></tr>\n",
       "\t<tr><td>2340260</td><td>1      </td></tr>\n",
       "\t<tr><td>2340275</td><td>1      </td></tr>\n",
       "</tbody>\n",
       "</table>\n"
      ],
      "text/latex": [
       "\\begin{tabular}{r|ll}\n",
       " hansol4\\$CALLID & x\\\\\n",
       "\\hline\n",
       "\t 2340247 & 1      \\\\\n",
       "\t 2340254 & 1      \\\\\n",
       "\t 2340255 & 1      \\\\\n",
       "\t 2340259 & 1      \\\\\n",
       "\t 2340260 & 1      \\\\\n",
       "\t 2340275 & 1      \\\\\n",
       "\\end{tabular}\n"
      ],
      "text/markdown": [
       "\n",
       "hansol4$CALLID | x | \n",
       "|---|---|---|---|---|---|\n",
       "| 2340247 | 1       | \n",
       "| 2340254 | 1       | \n",
       "| 2340255 | 1       | \n",
       "| 2340259 | 1       | \n",
       "| 2340260 | 1       | \n",
       "| 2340275 | 1       | \n",
       "\n",
       "\n"
      ],
      "text/plain": [
       "  hansol4$CALLID x\n",
       "1 2340247        1\n",
       "2 2340254        1\n",
       "3 2340255        1\n",
       "4 2340259        1\n",
       "5 2340260        1\n",
       "6 2340275        1"
      ]
     },
     "metadata": {},
     "output_type": "display_data"
    }
   ],
   "source": [
    "head(forjoin)"
   ]
  },
  {
   "cell_type": "code",
   "execution_count": 36,
   "metadata": {},
   "outputs": [
    {
     "data": {
      "text/html": [
       "<table>\n",
       "<thead><tr><th scope=col>CALLID</th><th scope=col>ACWTIME</th><th scope=col>ANSHOLDTIME</th><th scope=col>CONSULTTIME</th><th scope=col>DISPTIME</th><th scope=col>DURATION</th><th scope=col>SEGSTART</th><th scope=col>SEGSTART_UTC</th><th scope=col>SEGSTOP</th><th scope=col>SEGSTOP_UTC</th><th scope=col>...</th><th scope=col>ANSLOGIN</th><th scope=col>LASTOBSERVER</th><th scope=col>LASTDIGITS</th><th scope=col>CALLING_II</th><th scope=col>VDN2</th><th scope=col>VDN3</th><th scope=col>ASAI_UUI</th><th scope=col>AGENTSURPLUS</th><th scope=col>AGENTSKILLLEVEL</th><th scope=col>x</th></tr></thead>\n",
       "<tbody>\n",
       "\t<tr><td>2340243            </td><td>1                  </td><td> 0                 </td><td>0                  </td><td>139                </td><td>393                </td><td>21.12.2016 02:58:32</td><td>2016-12-20 17:58:32</td><td>2016-12-21 03:05:06</td><td>2016-12-20 18:05:06</td><td>...                </td><td>200115             </td><td>NA                 </td><td>1                  </td><td>NA                 </td><td>510311             </td><td>NA                 </td><td>                   </td><td>1                  </td><td>4                  </td><td>NA                 </td></tr>\n",
       "\t<tr><td>2340244            </td><td>1                  </td><td> 0                 </td><td>0                  </td><td>119                </td><td>290                </td><td>21.12.2016 03:00:19</td><td>2016-12-20 18:00:19</td><td>2016-12-21 03:05:10</td><td>2016-12-20 18:05:10</td><td>...                </td><td>200124             </td><td>NA                 </td><td>3                  </td><td>NA                 </td><td>510211             </td><td>NA                 </td><td>                   </td><td>1                  </td><td>4                  </td><td>NA                 </td></tr>\n",
       "\t<tr><td>2340245            </td><td>0                  </td><td> 0                 </td><td>0                  </td><td> 23                </td><td> 63                </td><td>21.12.2016 03:04:16</td><td>2016-12-20 18:04:16</td><td>2016-12-21 03:05:19</td><td>2016-12-20 18:05:19</td><td>...                </td><td>200333             </td><td>NA                 </td><td>1                  </td><td>NA                 </td><td>510211             </td><td>NA                 </td><td>                   </td><td>1                  </td><td>4                  </td><td>NA                 </td></tr>\n",
       "\t<tr><td>2340246            </td><td>0                  </td><td> 0                 </td><td>0                  </td><td> 77                </td><td>205                </td><td>21.12.2016 03:01:55</td><td>2016-12-20 18:01:55</td><td>2016-12-21 03:05:20</td><td>2016-12-20 18:05:20</td><td>...                </td><td>200116             </td><td>NA                 </td><td>3                  </td><td>NA                 </td><td>510211             </td><td>NA                 </td><td>                   </td><td>1                  </td><td>4                  </td><td>NA                 </td></tr>\n",
       "\t<tr><td>2340247            </td><td>0                  </td><td> 0                 </td><td>0                  </td><td>  0                </td><td>  0                </td><td>21.12.2016 03:05:21</td><td>2016-12-20 18:05:21</td><td>2016-12-21 03:05:21</td><td>2016-12-20 18:05:21</td><td>...                </td><td>    NA             </td><td>NA                 </td><td>                   </td><td>NA                 </td><td>    NA             </td><td>NA                 </td><td>                   </td><td>0                  </td><td>0                  </td><td> 1                 </td></tr>\n",
       "\t<tr><td>2340247            </td><td>0                  </td><td>15                 </td><td>0                  </td><td> 21                </td><td>629                </td><td>21.12.2016 02:54:52</td><td>2016-12-20 17:54:52</td><td>2016-12-21 03:05:21</td><td>2016-12-20 18:05:21</td><td>...                </td><td>200508             </td><td>NA                 </td><td>1                  </td><td>NA                 </td><td>510211             </td><td>NA                 </td><td>                   </td><td>2                  </td><td>4                  </td><td> 1                 </td></tr>\n",
       "</tbody>\n",
       "</table>\n"
      ],
      "text/latex": [
       "\\begin{tabular}{r|llllllllllllllllllllllllllllllllllllllllllllllllllllllllll}\n",
       " CALLID & ACWTIME & ANSHOLDTIME & CONSULTTIME & DISPTIME & DURATION & SEGSTART & SEGSTART\\_UTC & SEGSTOP & SEGSTOP\\_UTC & ... & ANSLOGIN & LASTOBSERVER & LASTDIGITS & CALLING\\_II & VDN2 & VDN3 & ASAI\\_UUI & AGENTSURPLUS & AGENTSKILLLEVEL & x\\\\\n",
       "\\hline\n",
       "\t 2340243             & 1                   &  0                  & 0                   & 139                 & 393                 & 21.12.2016 02:58:32 & 2016-12-20 17:58:32 & 2016-12-21 03:05:06 & 2016-12-20 18:05:06 & ...                 & 200115              & NA                  & 1                   & NA                  & 510311              & NA                  &                     & 1                   & 4                   & NA                 \\\\\n",
       "\t 2340244             & 1                   &  0                  & 0                   & 119                 & 290                 & 21.12.2016 03:00:19 & 2016-12-20 18:00:19 & 2016-12-21 03:05:10 & 2016-12-20 18:05:10 & ...                 & 200124              & NA                  & 3                   & NA                  & 510211              & NA                  &                     & 1                   & 4                   & NA                 \\\\\n",
       "\t 2340245             & 0                   &  0                  & 0                   &  23                 &  63                 & 21.12.2016 03:04:16 & 2016-12-20 18:04:16 & 2016-12-21 03:05:19 & 2016-12-20 18:05:19 & ...                 & 200333              & NA                  & 1                   & NA                  & 510211              & NA                  &                     & 1                   & 4                   & NA                 \\\\\n",
       "\t 2340246             & 0                   &  0                  & 0                   &  77                 & 205                 & 21.12.2016 03:01:55 & 2016-12-20 18:01:55 & 2016-12-21 03:05:20 & 2016-12-20 18:05:20 & ...                 & 200116              & NA                  & 3                   & NA                  & 510211              & NA                  &                     & 1                   & 4                   & NA                 \\\\\n",
       "\t 2340247             & 0                   &  0                  & 0                   &   0                 &   0                 & 21.12.2016 03:05:21 & 2016-12-20 18:05:21 & 2016-12-21 03:05:21 & 2016-12-20 18:05:21 & ...                 &     NA              & NA                  &                     & NA                  &     NA              & NA                  &                     & 0                   & 0                   &  1                 \\\\\n",
       "\t 2340247             & 0                   & 15                  & 0                   &  21                 & 629                 & 21.12.2016 02:54:52 & 2016-12-20 17:54:52 & 2016-12-21 03:05:21 & 2016-12-20 18:05:21 & ...                 & 200508              & NA                  & 1                   & NA                  & 510211              & NA                  &                     & 2                   & 4                   &  1                 \\\\\n",
       "\\end{tabular}\n"
      ],
      "text/markdown": [
       "\n",
       "CALLID | ACWTIME | ANSHOLDTIME | CONSULTTIME | DISPTIME | DURATION | SEGSTART | SEGSTART_UTC | SEGSTOP | SEGSTOP_UTC | ... | ANSLOGIN | LASTOBSERVER | LASTDIGITS | CALLING_II | VDN2 | VDN3 | ASAI_UUI | AGENTSURPLUS | AGENTSKILLLEVEL | x | \n",
       "|---|---|---|---|---|---|\n",
       "| 2340243             | 1                   |  0                  | 0                   | 139                 | 393                 | 21.12.2016 02:58:32 | 2016-12-20 17:58:32 | 2016-12-21 03:05:06 | 2016-12-20 18:05:06 | ...                 | 200115              | NA                  | 1                   | NA                  | 510311              | NA                  |                     | 1                   | 4                   | NA                  | \n",
       "| 2340244             | 1                   |  0                  | 0                   | 119                 | 290                 | 21.12.2016 03:00:19 | 2016-12-20 18:00:19 | 2016-12-21 03:05:10 | 2016-12-20 18:05:10 | ...                 | 200124              | NA                  | 3                   | NA                  | 510211              | NA                  |                     | 1                   | 4                   | NA                  | \n",
       "| 2340245             | 0                   |  0                  | 0                   |  23                 |  63                 | 21.12.2016 03:04:16 | 2016-12-20 18:04:16 | 2016-12-21 03:05:19 | 2016-12-20 18:05:19 | ...                 | 200333              | NA                  | 1                   | NA                  | 510211              | NA                  |                     | 1                   | 4                   | NA                  | \n",
       "| 2340246             | 0                   |  0                  | 0                   |  77                 | 205                 | 21.12.2016 03:01:55 | 2016-12-20 18:01:55 | 2016-12-21 03:05:20 | 2016-12-20 18:05:20 | ...                 | 200116              | NA                  | 3                   | NA                  | 510211              | NA                  |                     | 1                   | 4                   | NA                  | \n",
       "| 2340247             | 0                   |  0                  | 0                   |   0                 |   0                 | 21.12.2016 03:05:21 | 2016-12-20 18:05:21 | 2016-12-21 03:05:21 | 2016-12-20 18:05:21 | ...                 |     NA              | NA                  |                     | NA                  |     NA              | NA                  |                     | 0                   | 0                   |  1                  | \n",
       "| 2340247             | 0                   | 15                  | 0                   |  21                 | 629                 | 21.12.2016 02:54:52 | 2016-12-20 17:54:52 | 2016-12-21 03:05:21 | 2016-12-20 18:05:21 | ...                 | 200508              | NA                  | 1                   | NA                  | 510211              | NA                  |                     | 2                   | 4                   |  1                  | \n",
       "\n",
       "\n"
      ],
      "text/plain": [
       "  CALLID  ACWTIME ANSHOLDTIME CONSULTTIME DISPTIME DURATION SEGSTART           \n",
       "1 2340243 1        0          0           139      393      21.12.2016 02:58:32\n",
       "2 2340244 1        0          0           119      290      21.12.2016 03:00:19\n",
       "3 2340245 0        0          0            23       63      21.12.2016 03:04:16\n",
       "4 2340246 0        0          0            77      205      21.12.2016 03:01:55\n",
       "5 2340247 0        0          0             0        0      21.12.2016 03:05:21\n",
       "6 2340247 0       15          0            21      629      21.12.2016 02:54:52\n",
       "  SEGSTART_UTC        SEGSTOP             SEGSTOP_UTC         ... ANSLOGIN\n",
       "1 2016-12-20 17:58:32 2016-12-21 03:05:06 2016-12-20 18:05:06 ... 200115  \n",
       "2 2016-12-20 18:00:19 2016-12-21 03:05:10 2016-12-20 18:05:10 ... 200124  \n",
       "3 2016-12-20 18:04:16 2016-12-21 03:05:19 2016-12-20 18:05:19 ... 200333  \n",
       "4 2016-12-20 18:01:55 2016-12-21 03:05:20 2016-12-20 18:05:20 ... 200116  \n",
       "5 2016-12-20 18:05:21 2016-12-21 03:05:21 2016-12-20 18:05:21 ...     NA  \n",
       "6 2016-12-20 17:54:52 2016-12-21 03:05:21 2016-12-20 18:05:21 ... 200508  \n",
       "  LASTOBSERVER LASTDIGITS CALLING_II VDN2   VDN3 ASAI_UUI AGENTSURPLUS\n",
       "1 NA           1          NA         510311 NA            1           \n",
       "2 NA           3          NA         510211 NA            1           \n",
       "3 NA           1          NA         510211 NA            1           \n",
       "4 NA           3          NA         510211 NA            1           \n",
       "5 NA                      NA             NA NA            0           \n",
       "6 NA           1          NA         510211 NA            2           \n",
       "  AGENTSKILLLEVEL x \n",
       "1 4               NA\n",
       "2 4               NA\n",
       "3 4               NA\n",
       "4 4               NA\n",
       "5 0                1\n",
       "6 4                1"
      ]
     },
     "metadata": {},
     "output_type": "display_data"
    }
   ],
   "source": [
    "hansol5 <- left_join(hansol2, forjoin, by = c(\"CALLID\" = \"hansol4$CALLID\"))\n",
    "head(hansol5)"
   ]
  },
  {
   "cell_type": "code",
   "execution_count": 37,
   "metadata": {},
   "outputs": [
    {
     "data": {
      "text/html": [
       "<table>\n",
       "<thead><tr><th></th><th scope=col>CALLID</th><th scope=col>ACWTIME</th><th scope=col>ANSHOLDTIME</th><th scope=col>CONSULTTIME</th><th scope=col>DISPTIME</th><th scope=col>DURATION</th><th scope=col>SEGSTART</th><th scope=col>SEGSTART_UTC</th><th scope=col>SEGSTOP</th><th scope=col>SEGSTOP_UTC</th><th scope=col>...</th><th scope=col>ANSLOGIN</th><th scope=col>LASTOBSERVER</th><th scope=col>LASTDIGITS</th><th scope=col>CALLING_II</th><th scope=col>VDN2</th><th scope=col>VDN3</th><th scope=col>ASAI_UUI</th><th scope=col>AGENTSURPLUS</th><th scope=col>AGENTSKILLLEVEL</th><th scope=col>x</th></tr></thead>\n",
       "<tbody>\n",
       "\t<tr><th scope=row>1</th><td>2340243            </td><td>1                  </td><td>0                  </td><td>0                  </td><td>139                </td><td>393                </td><td>21.12.2016 02:58:32</td><td>2016-12-20 17:58:32</td><td>2016-12-21 03:05:06</td><td>2016-12-20 18:05:06</td><td>...                </td><td>200115             </td><td>NA                 </td><td>1                  </td><td>NA                 </td><td>510311             </td><td>NA                 </td><td>                   </td><td>1                  </td><td>4                  </td><td>NA                 </td></tr>\n",
       "\t<tr><th scope=row>2</th><td>2340244            </td><td>1                  </td><td>0                  </td><td>0                  </td><td>119                </td><td>290                </td><td>21.12.2016 03:00:19</td><td>2016-12-20 18:00:19</td><td>2016-12-21 03:05:10</td><td>2016-12-20 18:05:10</td><td>...                </td><td>200124             </td><td>NA                 </td><td>3                  </td><td>NA                 </td><td>510211             </td><td>NA                 </td><td>                   </td><td>1                  </td><td>4                  </td><td>NA                 </td></tr>\n",
       "\t<tr><th scope=row>3</th><td>2340245            </td><td>0                  </td><td>0                  </td><td>0                  </td><td> 23                </td><td> 63                </td><td>21.12.2016 03:04:16</td><td>2016-12-20 18:04:16</td><td>2016-12-21 03:05:19</td><td>2016-12-20 18:05:19</td><td>...                </td><td>200333             </td><td>NA                 </td><td>1                  </td><td>NA                 </td><td>510211             </td><td>NA                 </td><td>                   </td><td>1                  </td><td>4                  </td><td>NA                 </td></tr>\n",
       "\t<tr><th scope=row>4</th><td>2340246            </td><td>0                  </td><td>0                  </td><td>0                  </td><td> 77                </td><td>205                </td><td>21.12.2016 03:01:55</td><td>2016-12-20 18:01:55</td><td>2016-12-21 03:05:20</td><td>2016-12-20 18:05:20</td><td>...                </td><td>200116             </td><td>NA                 </td><td>3                  </td><td>NA                 </td><td>510211             </td><td>NA                 </td><td>                   </td><td>1                  </td><td>4                  </td><td>NA                 </td></tr>\n",
       "\t<tr><th scope=row>9</th><td>2340248            </td><td>2                  </td><td>0                  </td><td>0                  </td><td>139                </td><td>359                </td><td>21.12.2016 02:59:23</td><td>2016-12-20 17:59:23</td><td>2016-12-21 03:05:24</td><td>2016-12-20 18:05:24</td><td>...                </td><td>200352             </td><td>NA                 </td><td>3                  </td><td>NA                 </td><td>510211             </td><td>NA                 </td><td>                   </td><td>1                  </td><td>4                  </td><td>NA                 </td></tr>\n",
       "\t<tr><th scope=row>10</th><td>2340249            </td><td>1                  </td><td>0                  </td><td>0                  </td><td>150                </td><td>298                </td><td>21.12.2016 03:00:27</td><td>2016-12-20 18:00:27</td><td>2016-12-21 03:05:26</td><td>2016-12-20 18:05:26</td><td>...                </td><td>200122             </td><td>NA                 </td><td>1                  </td><td>NA                 </td><td>510311             </td><td>NA                 </td><td>                   </td><td>1                  </td><td>4                  </td><td>NA                 </td></tr>\n",
       "</tbody>\n",
       "</table>\n"
      ],
      "text/latex": [
       "\\begin{tabular}{r|llllllllllllllllllllllllllllllllllllllllllllllllllllllllll}\n",
       "  & CALLID & ACWTIME & ANSHOLDTIME & CONSULTTIME & DISPTIME & DURATION & SEGSTART & SEGSTART\\_UTC & SEGSTOP & SEGSTOP\\_UTC & ... & ANSLOGIN & LASTOBSERVER & LASTDIGITS & CALLING\\_II & VDN2 & VDN3 & ASAI\\_UUI & AGENTSURPLUS & AGENTSKILLLEVEL & x\\\\\n",
       "\\hline\n",
       "\t1 & 2340243             & 1                   & 0                   & 0                   & 139                 & 393                 & 21.12.2016 02:58:32 & 2016-12-20 17:58:32 & 2016-12-21 03:05:06 & 2016-12-20 18:05:06 & ...                 & 200115              & NA                  & 1                   & NA                  & 510311              & NA                  &                     & 1                   & 4                   & NA                 \\\\\n",
       "\t2 & 2340244             & 1                   & 0                   & 0                   & 119                 & 290                 & 21.12.2016 03:00:19 & 2016-12-20 18:00:19 & 2016-12-21 03:05:10 & 2016-12-20 18:05:10 & ...                 & 200124              & NA                  & 3                   & NA                  & 510211              & NA                  &                     & 1                   & 4                   & NA                 \\\\\n",
       "\t3 & 2340245             & 0                   & 0                   & 0                   &  23                 &  63                 & 21.12.2016 03:04:16 & 2016-12-20 18:04:16 & 2016-12-21 03:05:19 & 2016-12-20 18:05:19 & ...                 & 200333              & NA                  & 1                   & NA                  & 510211              & NA                  &                     & 1                   & 4                   & NA                 \\\\\n",
       "\t4 & 2340246             & 0                   & 0                   & 0                   &  77                 & 205                 & 21.12.2016 03:01:55 & 2016-12-20 18:01:55 & 2016-12-21 03:05:20 & 2016-12-20 18:05:20 & ...                 & 200116              & NA                  & 3                   & NA                  & 510211              & NA                  &                     & 1                   & 4                   & NA                 \\\\\n",
       "\t9 & 2340248             & 2                   & 0                   & 0                   & 139                 & 359                 & 21.12.2016 02:59:23 & 2016-12-20 17:59:23 & 2016-12-21 03:05:24 & 2016-12-20 18:05:24 & ...                 & 200352              & NA                  & 3                   & NA                  & 510211              & NA                  &                     & 1                   & 4                   & NA                 \\\\\n",
       "\t10 & 2340249             & 1                   & 0                   & 0                   & 150                 & 298                 & 21.12.2016 03:00:27 & 2016-12-20 18:00:27 & 2016-12-21 03:05:26 & 2016-12-20 18:05:26 & ...                 & 200122              & NA                  & 1                   & NA                  & 510311              & NA                  &                     & 1                   & 4                   & NA                 \\\\\n",
       "\\end{tabular}\n"
      ],
      "text/markdown": [
       "\n",
       "| <!--/--> | CALLID | ACWTIME | ANSHOLDTIME | CONSULTTIME | DISPTIME | DURATION | SEGSTART | SEGSTART_UTC | SEGSTOP | SEGSTOP_UTC | ... | ANSLOGIN | LASTOBSERVER | LASTDIGITS | CALLING_II | VDN2 | VDN3 | ASAI_UUI | AGENTSURPLUS | AGENTSKILLLEVEL | x | \n",
       "|---|---|---|---|---|---|\n",
       "| 1 | 2340243             | 1                   | 0                   | 0                   | 139                 | 393                 | 21.12.2016 02:58:32 | 2016-12-20 17:58:32 | 2016-12-21 03:05:06 | 2016-12-20 18:05:06 | ...                 | 200115              | NA                  | 1                   | NA                  | 510311              | NA                  |                     | 1                   | 4                   | NA                  | \n",
       "| 2 | 2340244             | 1                   | 0                   | 0                   | 119                 | 290                 | 21.12.2016 03:00:19 | 2016-12-20 18:00:19 | 2016-12-21 03:05:10 | 2016-12-20 18:05:10 | ...                 | 200124              | NA                  | 3                   | NA                  | 510211              | NA                  |                     | 1                   | 4                   | NA                  | \n",
       "| 3 | 2340245             | 0                   | 0                   | 0                   |  23                 |  63                 | 21.12.2016 03:04:16 | 2016-12-20 18:04:16 | 2016-12-21 03:05:19 | 2016-12-20 18:05:19 | ...                 | 200333              | NA                  | 1                   | NA                  | 510211              | NA                  |                     | 1                   | 4                   | NA                  | \n",
       "| 4 | 2340246             | 0                   | 0                   | 0                   |  77                 | 205                 | 21.12.2016 03:01:55 | 2016-12-20 18:01:55 | 2016-12-21 03:05:20 | 2016-12-20 18:05:20 | ...                 | 200116              | NA                  | 3                   | NA                  | 510211              | NA                  |                     | 1                   | 4                   | NA                  | \n",
       "| 9 | 2340248             | 2                   | 0                   | 0                   | 139                 | 359                 | 21.12.2016 02:59:23 | 2016-12-20 17:59:23 | 2016-12-21 03:05:24 | 2016-12-20 18:05:24 | ...                 | 200352              | NA                  | 3                   | NA                  | 510211              | NA                  |                     | 1                   | 4                   | NA                  | \n",
       "| 10 | 2340249             | 1                   | 0                   | 0                   | 150                 | 298                 | 21.12.2016 03:00:27 | 2016-12-20 18:00:27 | 2016-12-21 03:05:26 | 2016-12-20 18:05:26 | ...                 | 200122              | NA                  | 1                   | NA                  | 510311              | NA                  |                     | 1                   | 4                   | NA                  | \n",
       "\n",
       "\n"
      ],
      "text/plain": [
       "   CALLID  ACWTIME ANSHOLDTIME CONSULTTIME DISPTIME DURATION\n",
       "1  2340243 1       0           0           139      393     \n",
       "2  2340244 1       0           0           119      290     \n",
       "3  2340245 0       0           0            23       63     \n",
       "4  2340246 0       0           0            77      205     \n",
       "9  2340248 2       0           0           139      359     \n",
       "10 2340249 1       0           0           150      298     \n",
       "   SEGSTART            SEGSTART_UTC        SEGSTOP            \n",
       "1  21.12.2016 02:58:32 2016-12-20 17:58:32 2016-12-21 03:05:06\n",
       "2  21.12.2016 03:00:19 2016-12-20 18:00:19 2016-12-21 03:05:10\n",
       "3  21.12.2016 03:04:16 2016-12-20 18:04:16 2016-12-21 03:05:19\n",
       "4  21.12.2016 03:01:55 2016-12-20 18:01:55 2016-12-21 03:05:20\n",
       "9  21.12.2016 02:59:23 2016-12-20 17:59:23 2016-12-21 03:05:24\n",
       "10 21.12.2016 03:00:27 2016-12-20 18:00:27 2016-12-21 03:05:26\n",
       "   SEGSTOP_UTC         ... ANSLOGIN LASTOBSERVER LASTDIGITS CALLING_II VDN2  \n",
       "1  2016-12-20 18:05:06 ... 200115   NA           1          NA         510311\n",
       "2  2016-12-20 18:05:10 ... 200124   NA           3          NA         510211\n",
       "3  2016-12-20 18:05:19 ... 200333   NA           1          NA         510211\n",
       "4  2016-12-20 18:05:20 ... 200116   NA           3          NA         510211\n",
       "9  2016-12-20 18:05:24 ... 200352   NA           3          NA         510211\n",
       "10 2016-12-20 18:05:26 ... 200122   NA           1          NA         510311\n",
       "   VDN3 ASAI_UUI AGENTSURPLUS AGENTSKILLLEVEL x \n",
       "1  NA            1            4               NA\n",
       "2  NA            1            4               NA\n",
       "3  NA            1            4               NA\n",
       "4  NA            1            4               NA\n",
       "9  NA            1            4               NA\n",
       "10 NA            1            4               NA"
      ]
     },
     "metadata": {},
     "output_type": "display_data"
    }
   ],
   "source": [
    "hansol6 <- hansol5[is.na(hansol5$x) == TRUE, ]\n",
    "head(hansol6)"
   ]
  },
  {
   "cell_type": "code",
   "execution_count": 38,
   "metadata": {},
   "outputs": [
    {
     "data": {
      "text/html": [
       "<table>\n",
       "<thead><tr><th></th><th scope=col>CALLID</th><th scope=col>ACWTIME</th><th scope=col>ANSHOLDTIME</th><th scope=col>CONSULTTIME</th><th scope=col>DISPTIME</th><th scope=col>DURATION</th><th scope=col>SEGSTART</th><th scope=col>SEGSTART_UTC</th><th scope=col>SEGSTOP</th><th scope=col>SEGSTOP_UTC</th><th scope=col>...</th><th scope=col>ORIGLOGIN</th><th scope=col>ANSLOGIN</th><th scope=col>LASTOBSERVER</th><th scope=col>LASTDIGITS</th><th scope=col>CALLING_II</th><th scope=col>VDN2</th><th scope=col>VDN3</th><th scope=col>ASAI_UUI</th><th scope=col>AGENTSURPLUS</th><th scope=col>AGENTSKILLLEVEL</th></tr></thead>\n",
       "<tbody>\n",
       "\t<tr><th scope=row>1</th><td>2340243            </td><td>1                  </td><td>0                  </td><td>0                  </td><td>139                </td><td>393                </td><td>21.12.2016 02:58:32</td><td>2016-12-20 17:58:32</td><td>2016-12-21 03:05:06</td><td>2016-12-20 18:05:06</td><td>...                </td><td>NA                 </td><td>200115             </td><td>NA                 </td><td>1                  </td><td>NA                 </td><td>510311             </td><td>NA                 </td><td>                   </td><td>1                  </td><td>4                  </td></tr>\n",
       "\t<tr><th scope=row>2</th><td>2340244            </td><td>1                  </td><td>0                  </td><td>0                  </td><td>119                </td><td>290                </td><td>21.12.2016 03:00:19</td><td>2016-12-20 18:00:19</td><td>2016-12-21 03:05:10</td><td>2016-12-20 18:05:10</td><td>...                </td><td>NA                 </td><td>200124             </td><td>NA                 </td><td>3                  </td><td>NA                 </td><td>510211             </td><td>NA                 </td><td>                   </td><td>1                  </td><td>4                  </td></tr>\n",
       "\t<tr><th scope=row>3</th><td>2340245            </td><td>0                  </td><td>0                  </td><td>0                  </td><td> 23                </td><td> 63                </td><td>21.12.2016 03:04:16</td><td>2016-12-20 18:04:16</td><td>2016-12-21 03:05:19</td><td>2016-12-20 18:05:19</td><td>...                </td><td>NA                 </td><td>200333             </td><td>NA                 </td><td>1                  </td><td>NA                 </td><td>510211             </td><td>NA                 </td><td>                   </td><td>1                  </td><td>4                  </td></tr>\n",
       "\t<tr><th scope=row>4</th><td>2340246            </td><td>0                  </td><td>0                  </td><td>0                  </td><td> 77                </td><td>205                </td><td>21.12.2016 03:01:55</td><td>2016-12-20 18:01:55</td><td>2016-12-21 03:05:20</td><td>2016-12-20 18:05:20</td><td>...                </td><td>NA                 </td><td>200116             </td><td>NA                 </td><td>3                  </td><td>NA                 </td><td>510211             </td><td>NA                 </td><td>                   </td><td>1                  </td><td>4                  </td></tr>\n",
       "\t<tr><th scope=row>9</th><td>2340248            </td><td>2                  </td><td>0                  </td><td>0                  </td><td>139                </td><td>359                </td><td>21.12.2016 02:59:23</td><td>2016-12-20 17:59:23</td><td>2016-12-21 03:05:24</td><td>2016-12-20 18:05:24</td><td>...                </td><td>NA                 </td><td>200352             </td><td>NA                 </td><td>3                  </td><td>NA                 </td><td>510211             </td><td>NA                 </td><td>                   </td><td>1                  </td><td>4                  </td></tr>\n",
       "\t<tr><th scope=row>10</th><td>2340249            </td><td>1                  </td><td>0                  </td><td>0                  </td><td>150                </td><td>298                </td><td>21.12.2016 03:00:27</td><td>2016-12-20 18:00:27</td><td>2016-12-21 03:05:26</td><td>2016-12-20 18:05:26</td><td>...                </td><td>NA                 </td><td>200122             </td><td>NA                 </td><td>1                  </td><td>NA                 </td><td>510311             </td><td>NA                 </td><td>                   </td><td>1                  </td><td>4                  </td></tr>\n",
       "</tbody>\n",
       "</table>\n"
      ],
      "text/latex": [
       "\\begin{tabular}{r|lllllllllllllllllllllllllllllllllllllllllllllllllllllllll}\n",
       "  & CALLID & ACWTIME & ANSHOLDTIME & CONSULTTIME & DISPTIME & DURATION & SEGSTART & SEGSTART\\_UTC & SEGSTOP & SEGSTOP\\_UTC & ... & ORIGLOGIN & ANSLOGIN & LASTOBSERVER & LASTDIGITS & CALLING\\_II & VDN2 & VDN3 & ASAI\\_UUI & AGENTSURPLUS & AGENTSKILLLEVEL\\\\\n",
       "\\hline\n",
       "\t1 & 2340243             & 1                   & 0                   & 0                   & 139                 & 393                 & 21.12.2016 02:58:32 & 2016-12-20 17:58:32 & 2016-12-21 03:05:06 & 2016-12-20 18:05:06 & ...                 & NA                  & 200115              & NA                  & 1                   & NA                  & 510311              & NA                  &                     & 1                   & 4                  \\\\\n",
       "\t2 & 2340244             & 1                   & 0                   & 0                   & 119                 & 290                 & 21.12.2016 03:00:19 & 2016-12-20 18:00:19 & 2016-12-21 03:05:10 & 2016-12-20 18:05:10 & ...                 & NA                  & 200124              & NA                  & 3                   & NA                  & 510211              & NA                  &                     & 1                   & 4                  \\\\\n",
       "\t3 & 2340245             & 0                   & 0                   & 0                   &  23                 &  63                 & 21.12.2016 03:04:16 & 2016-12-20 18:04:16 & 2016-12-21 03:05:19 & 2016-12-20 18:05:19 & ...                 & NA                  & 200333              & NA                  & 1                   & NA                  & 510211              & NA                  &                     & 1                   & 4                  \\\\\n",
       "\t4 & 2340246             & 0                   & 0                   & 0                   &  77                 & 205                 & 21.12.2016 03:01:55 & 2016-12-20 18:01:55 & 2016-12-21 03:05:20 & 2016-12-20 18:05:20 & ...                 & NA                  & 200116              & NA                  & 3                   & NA                  & 510211              & NA                  &                     & 1                   & 4                  \\\\\n",
       "\t9 & 2340248             & 2                   & 0                   & 0                   & 139                 & 359                 & 21.12.2016 02:59:23 & 2016-12-20 17:59:23 & 2016-12-21 03:05:24 & 2016-12-20 18:05:24 & ...                 & NA                  & 200352              & NA                  & 3                   & NA                  & 510211              & NA                  &                     & 1                   & 4                  \\\\\n",
       "\t10 & 2340249             & 1                   & 0                   & 0                   & 150                 & 298                 & 21.12.2016 03:00:27 & 2016-12-20 18:00:27 & 2016-12-21 03:05:26 & 2016-12-20 18:05:26 & ...                 & NA                  & 200122              & NA                  & 1                   & NA                  & 510311              & NA                  &                     & 1                   & 4                  \\\\\n",
       "\\end{tabular}\n"
      ],
      "text/markdown": [
       "\n",
       "| <!--/--> | CALLID | ACWTIME | ANSHOLDTIME | CONSULTTIME | DISPTIME | DURATION | SEGSTART | SEGSTART_UTC | SEGSTOP | SEGSTOP_UTC | ... | ORIGLOGIN | ANSLOGIN | LASTOBSERVER | LASTDIGITS | CALLING_II | VDN2 | VDN3 | ASAI_UUI | AGENTSURPLUS | AGENTSKILLLEVEL | \n",
       "|---|---|---|---|---|---|\n",
       "| 1 | 2340243             | 1                   | 0                   | 0                   | 139                 | 393                 | 21.12.2016 02:58:32 | 2016-12-20 17:58:32 | 2016-12-21 03:05:06 | 2016-12-20 18:05:06 | ...                 | NA                  | 200115              | NA                  | 1                   | NA                  | 510311              | NA                  |                     | 1                   | 4                   | \n",
       "| 2 | 2340244             | 1                   | 0                   | 0                   | 119                 | 290                 | 21.12.2016 03:00:19 | 2016-12-20 18:00:19 | 2016-12-21 03:05:10 | 2016-12-20 18:05:10 | ...                 | NA                  | 200124              | NA                  | 3                   | NA                  | 510211              | NA                  |                     | 1                   | 4                   | \n",
       "| 3 | 2340245             | 0                   | 0                   | 0                   |  23                 |  63                 | 21.12.2016 03:04:16 | 2016-12-20 18:04:16 | 2016-12-21 03:05:19 | 2016-12-20 18:05:19 | ...                 | NA                  | 200333              | NA                  | 1                   | NA                  | 510211              | NA                  |                     | 1                   | 4                   | \n",
       "| 4 | 2340246             | 0                   | 0                   | 0                   |  77                 | 205                 | 21.12.2016 03:01:55 | 2016-12-20 18:01:55 | 2016-12-21 03:05:20 | 2016-12-20 18:05:20 | ...                 | NA                  | 200116              | NA                  | 3                   | NA                  | 510211              | NA                  |                     | 1                   | 4                   | \n",
       "| 9 | 2340248             | 2                   | 0                   | 0                   | 139                 | 359                 | 21.12.2016 02:59:23 | 2016-12-20 17:59:23 | 2016-12-21 03:05:24 | 2016-12-20 18:05:24 | ...                 | NA                  | 200352              | NA                  | 3                   | NA                  | 510211              | NA                  |                     | 1                   | 4                   | \n",
       "| 10 | 2340249             | 1                   | 0                   | 0                   | 150                 | 298                 | 21.12.2016 03:00:27 | 2016-12-20 18:00:27 | 2016-12-21 03:05:26 | 2016-12-20 18:05:26 | ...                 | NA                  | 200122              | NA                  | 1                   | NA                  | 510311              | NA                  |                     | 1                   | 4                   | \n",
       "\n",
       "\n"
      ],
      "text/plain": [
       "   CALLID  ACWTIME ANSHOLDTIME CONSULTTIME DISPTIME DURATION\n",
       "1  2340243 1       0           0           139      393     \n",
       "2  2340244 1       0           0           119      290     \n",
       "3  2340245 0       0           0            23       63     \n",
       "4  2340246 0       0           0            77      205     \n",
       "9  2340248 2       0           0           139      359     \n",
       "10 2340249 1       0           0           150      298     \n",
       "   SEGSTART            SEGSTART_UTC        SEGSTOP            \n",
       "1  21.12.2016 02:58:32 2016-12-20 17:58:32 2016-12-21 03:05:06\n",
       "2  21.12.2016 03:00:19 2016-12-20 18:00:19 2016-12-21 03:05:10\n",
       "3  21.12.2016 03:04:16 2016-12-20 18:04:16 2016-12-21 03:05:19\n",
       "4  21.12.2016 03:01:55 2016-12-20 18:01:55 2016-12-21 03:05:20\n",
       "9  21.12.2016 02:59:23 2016-12-20 17:59:23 2016-12-21 03:05:24\n",
       "10 21.12.2016 03:00:27 2016-12-20 18:00:27 2016-12-21 03:05:26\n",
       "   SEGSTOP_UTC         ... ORIGLOGIN ANSLOGIN LASTOBSERVER LASTDIGITS\n",
       "1  2016-12-20 18:05:06 ... NA        200115   NA           1         \n",
       "2  2016-12-20 18:05:10 ... NA        200124   NA           3         \n",
       "3  2016-12-20 18:05:19 ... NA        200333   NA           1         \n",
       "4  2016-12-20 18:05:20 ... NA        200116   NA           3         \n",
       "9  2016-12-20 18:05:24 ... NA        200352   NA           3         \n",
       "10 2016-12-20 18:05:26 ... NA        200122   NA           1         \n",
       "   CALLING_II VDN2   VDN3 ASAI_UUI AGENTSURPLUS AGENTSKILLLEVEL\n",
       "1  NA         510311 NA            1            4              \n",
       "2  NA         510211 NA            1            4              \n",
       "3  NA         510211 NA            1            4              \n",
       "4  NA         510211 NA            1            4              \n",
       "9  NA         510211 NA            1            4              \n",
       "10 NA         510311 NA            1            4              "
      ]
     },
     "metadata": {},
     "output_type": "display_data"
    }
   ],
   "source": [
    "hansol7 <- select(hansol6, -x)\n",
    "head(hansol7)"
   ]
  },
  {
   "cell_type": "markdown",
   "metadata": {},
   "source": [
    "### 3) 중복을 날린 hansol7과 중복중 2번째 행만 남긴 hansol4를 rbind"
   ]
  },
  {
   "cell_type": "code",
   "execution_count": 39,
   "metadata": {},
   "outputs": [
    {
     "name": "stdout",
     "output_type": "stream",
     "text": [
      "'data.frame':\t873736 obs. of  57 variables:\n",
      " $ CALLID         : int  2340247 2340254 2340255 2340259 2340260 2340275 2340278 2340197 2340199 2340201 ...\n",
      " $ ACWTIME        : int  0 0 0 1 0 0 0 3 0 1 ...\n",
      " $ ANSHOLDTIME    : int  15 0 0 11 0 0 0 0 0 22 ...\n",
      " $ CONSULTTIME    : int  0 0 2 0 0 2 2 0 0 0 ...\n",
      " $ DISPTIME       : int  21 2 1 8 2 1 1 2 100 2 ...\n",
      " $ DURATION       : int  629 93 31 122 93 67 35 276 230 131 ...\n",
      " $ SEGSTART       : chr  \"21.12.2016 02:54:52\" \"21.12.2016 03:04:59\" \"21.12.2016 03:06:18\" \"21.12.2016 03:04:25\" ...\n",
      " $ SEGSTART_UTC   : chr  \"2016-12-20 17:54:52\" \"2016-12-20 18:04:59\" \"2016-12-20 18:06:18\" \"2016-12-20 18:04:25\" ...\n",
      " $ SEGSTOP        : chr  \"2016-12-21 03:05:21\" \"2016-12-21 03:06:32\" \"2016-12-21 03:06:49\" \"2016-12-21 03:07:12\" ...\n",
      " $ SEGSTOP_UTC    : chr  \"2016-12-20 18:05:21\" \"2016-12-20 18:06:32\" \"2016-12-20 18:06:49\" \"2016-12-20 18:07:12\" ...\n",
      " $ TALKTIME       : int  593 91 0 147 91 0 0 274 130 209 ...\n",
      " $ ORIGHOLDTIME   : int  0 0 0 0 0 0 0 0 0 0 ...\n",
      " $ QUEUETIME      : int  0 0 0 6 0 0 0 0 98 0 ...\n",
      " $ RINGTIME       : int  0 0 0 0 0 0 0 0 0 0 ...\n",
      " $ DISPIVECTOR    : int  1211 1215 1003 1711 1215 1003 1003 1112 1215 1112 ...\n",
      " $ DISPSPLIT      : int  101 102 0 101 102 0 0 101 102 101 ...\n",
      " $ FIRSTVECTOR    : int  102 1215 1003 1711 1215 1003 1003 1112 1215 1112 ...\n",
      " $ SPLIT1         : int  101 102 0 101 102 0 0 101 102 101 ...\n",
      " $ SPLIT2         : int  -1 -1 -1 -1 -1 -1 -1 -1 -1 -1 ...\n",
      " $ SPLIT3         : int  -1 -1 -1 -1 -1 -1 -1 -1 -1 -1 ...\n",
      " $ TKGRP          : int  1 0 0 0 0 0 0 0 0 0 ...\n",
      " $ EQ_LOCID       : int  1 0 0 0 0 0 0 0 0 0 ...\n",
      " $ ORIG_LOCID     : int  0 0 11 0 0 11 11 0 0 0 ...\n",
      " $ ANS_LOCID      : int  11 11 0 11 11 0 0 11 11 11 ...\n",
      " $ OBS_LOCID      : int  0 0 0 0 0 0 0 0 0 0 ...\n",
      " $ UUI_LEN        : int  0 0 0 0 0 0 0 0 0 0 ...\n",
      " $ ASSIST         : int  0 0 0 0 0 0 0 0 0 0 ...\n",
      " $ AUDIO          : int  0 0 0 0 0 0 0 0 0 0 ...\n",
      " $ CONFERENCE     : int  1 0 0 1 0 0 0 0 0 1 ...\n",
      " $ DA_QUEUED      : int  0 0 0 0 0 0 0 0 0 0 ...\n",
      " $ HOLDABN        : int  1 0 0 0 0 0 0 0 0 0 ...\n",
      " $ MALICIOUS      : int  0 0 0 0 0 0 0 0 0 0 ...\n",
      " $ OBSERVINGCALL  : int  0 0 0 0 0 0 0 0 0 0 ...\n",
      " $ TRANSFERRED    : int  0 0 0 0 0 0 0 0 0 0 ...\n",
      " $ AGT_RELEASED   : int  0 0 0 1 0 0 0 0 0 1 ...\n",
      " $ ACD            : int  1 1 1 1 1 1 1 1 1 1 ...\n",
      " $ CALL_DISP      : int  2 2 1 2 2 1 1 2 2 2 ...\n",
      " $ DISPPRIORITY   : int  4 4 4 4 4 4 4 5 4 5 ...\n",
      " $ HELD           : int  4 0 0 2 0 0 0 0 0 4 ...\n",
      " $ SEGMENT        : int  2 2 2 2 2 2 2 2 2 2 ...\n",
      " $ ANSREASON      : int  0 0 0 0 0 0 0 0 0 0 ...\n",
      " $ ORIGREASON     : int  0 0 0 0 0 0 0 0 0 0 ...\n",
      " $ DISPSKLEVEL    : int  4 4 0 4 4 0 0 4 4 4 ...\n",
      " $ UCID           : num  1.01e+15 1.01e+15 1.01e+15 1.01e+15 1.01e+15 ...\n",
      " $ DISPVDN        : int  510211 510215 519103 510711 510215 519103 519103 510112 510215 510112 ...\n",
      " $ EQLOC          : Factor w/ 4236 levels \"\",\"001V02001\",..: 16 1 1 1 1 1 1 1 1 1 ...\n",
      " $ FIRSTVDN       : int  500102 510215 519103 510711 510215 519103 519103 510112 510215 510112 ...\n",
      " $ ORIGLOGIN      : int  NA NA 200431 NA NA 200352 200119 NA NA NA ...\n",
      " $ ANSLOGIN       : int  200508 200591 NA 200331 200116 NA NA 200312 200118 200119 ...\n",
      " $ LASTOBSERVER   : int  NA NA NA NA NA NA NA NA NA NA ...\n",
      " $ LASTDIGITS     : Factor w/ 14 levels \"\",\"#\",\"0\",\"1\",..: 4 1 1 1 1 1 1 1 1 1 ...\n",
      " $ CALLING_II     : logi  NA NA NA NA NA NA ...\n",
      " $ VDN2           : int  510211 NA NA NA NA NA NA NA NA NA ...\n",
      " $ VDN3           : int  NA NA NA NA NA NA NA NA NA NA ...\n",
      " $ ASAI_UUI       : Factor w/ 2 levels \"\",\"\\002\": 1 1 1 1 1 1 1 1 1 1 ...\n",
      " $ AGENTSURPLUS   : int  2 2 0 1 2 0 0 2 1 1 ...\n",
      " $ AGENTSKILLLEVEL: int  4 4 0 4 4 0 0 4 4 4 ...\n"
     ]
    }
   ],
   "source": [
    "hansol8 <- rbind(hansol4, hansol7)\n",
    "str(hansol8)"
   ]
  },
  {
   "cell_type": "code",
   "execution_count": 41,
   "metadata": {},
   "outputs": [
    {
     "data": {
      "text/plain": [
       "\n",
       " FALSE \n",
       "873736 "
      ]
     },
     "metadata": {},
     "output_type": "display_data"
    }
   ],
   "source": [
    "table(is.na(unique(hansol2$CALLID)) == TRUE)"
   ]
  },
  {
   "cell_type": "code",
   "execution_count": 40,
   "metadata": {},
   "outputs": [],
   "source": [
    "write.csv(hansol8, file=\"hansoltime.csv\", row.names = FALSE)"
   ]
  },
  {
   "cell_type": "markdown",
   "metadata": {},
   "source": [
    "### 최초 CALLID의 중복을 제거한 것과 수가 같다\n",
    "### 멍청하지만 어쨌든 하려던 것을 했다는 것을 알 수 있음"
   ]
  },
  {
   "cell_type": "markdown",
   "metadata": {},
   "source": [
    "## 4. Activity 생성\n",
    "### 사실 여기부터는 모든 것이 가정임"
   ]
  },
  {
   "cell_type": "code",
   "execution_count": 43,
   "metadata": {},
   "outputs": [
    {
     "data": {
      "text/html": [
       "<table>\n",
       "<thead><tr><th></th><th scope=col>CALLID</th><th scope=col>ACWTIME</th><th scope=col>ANSHOLDTIME</th><th scope=col>CONSULTTIME</th><th scope=col>DISPTIME</th><th scope=col>SEGSTART_UTC</th><th scope=col>SEGSTOP_UTC</th><th scope=col>TALKTIME</th><th scope=col>ORIGHOLDTIME</th><th scope=col>QUEUETIME</th><th scope=col>RINGTIME</th><th scope=col>ORIG_LOCID</th><th scope=col>CALL_DISP</th><th scope=col>DURATION</th></tr></thead>\n",
       "<tbody>\n",
       "\t<tr><th scope=row>6</th><td>2340247            </td><td>0                  </td><td>15                 </td><td>0                  </td><td>21                 </td><td>2016-12-20 17:54:52</td><td>2016-12-20 18:05:21</td><td>593                </td><td>0                  </td><td>0                  </td><td>0                  </td><td> 0                 </td><td>2                  </td><td>629                </td></tr>\n",
       "\t<tr><th scope=row>16</th><td>2340254            </td><td>0                  </td><td> 0                 </td><td>0                  </td><td> 2                 </td><td>2016-12-20 18:04:59</td><td>2016-12-20 18:06:32</td><td> 91                </td><td>0                  </td><td>0                  </td><td>0                  </td><td> 0                 </td><td>2                  </td><td> 93                </td></tr>\n",
       "\t<tr><th scope=row>18</th><td>2340255            </td><td>0                  </td><td> 0                 </td><td>2                  </td><td> 1                 </td><td>2016-12-20 18:06:18</td><td>2016-12-20 18:06:49</td><td>  0                </td><td>0                  </td><td>0                  </td><td>0                  </td><td>11                 </td><td>1                  </td><td> 31                </td></tr>\n",
       "\t<tr><th scope=row>23</th><td>2340259            </td><td>1                  </td><td>11                 </td><td>0                  </td><td> 8                 </td><td>2016-12-20 18:04:25</td><td>2016-12-20 18:07:12</td><td>147                </td><td>0                  </td><td>6                  </td><td>0                  </td><td> 0                 </td><td>2                  </td><td>122                </td></tr>\n",
       "\t<tr><th scope=row>26</th><td>2340260            </td><td>0                  </td><td> 0                 </td><td>0                  </td><td> 2                 </td><td>2016-12-20 18:05:49</td><td>2016-12-20 18:07:22</td><td> 91                </td><td>0                  </td><td>0                  </td><td>0                  </td><td> 0                 </td><td>2                  </td><td> 93                </td></tr>\n",
       "\t<tr><th scope=row>42</th><td>2340275            </td><td>0                  </td><td> 0                 </td><td>2                  </td><td> 1                 </td><td>2016-12-20 18:08:00</td><td>2016-12-20 18:09:11</td><td>  0                </td><td>0                  </td><td>0                  </td><td>0                  </td><td>11                 </td><td>1                  </td><td> 67                </td></tr>\n",
       "</tbody>\n",
       "</table>\n"
      ],
      "text/latex": [
       "\\begin{tabular}{r|llllllllllllll}\n",
       "  & CALLID & ACWTIME & ANSHOLDTIME & CONSULTTIME & DISPTIME & SEGSTART\\_UTC & SEGSTOP\\_UTC & TALKTIME & ORIGHOLDTIME & QUEUETIME & RINGTIME & ORIG\\_LOCID & CALL\\_DISP & DURATION\\\\\n",
       "\\hline\n",
       "\t6 & 2340247             & 0                   & 15                  & 0                   & 21                  & 2016-12-20 17:54:52 & 2016-12-20 18:05:21 & 593                 & 0                   & 0                   & 0                   &  0                  & 2                   & 629                \\\\\n",
       "\t16 & 2340254             & 0                   &  0                  & 0                   &  2                  & 2016-12-20 18:04:59 & 2016-12-20 18:06:32 &  91                 & 0                   & 0                   & 0                   &  0                  & 2                   &  93                \\\\\n",
       "\t18 & 2340255             & 0                   &  0                  & 2                   &  1                  & 2016-12-20 18:06:18 & 2016-12-20 18:06:49 &   0                 & 0                   & 0                   & 0                   & 11                  & 1                   &  31                \\\\\n",
       "\t23 & 2340259             & 1                   & 11                  & 0                   &  8                  & 2016-12-20 18:04:25 & 2016-12-20 18:07:12 & 147                 & 0                   & 6                   & 0                   &  0                  & 2                   & 122                \\\\\n",
       "\t26 & 2340260             & 0                   &  0                  & 0                   &  2                  & 2016-12-20 18:05:49 & 2016-12-20 18:07:22 &  91                 & 0                   & 0                   & 0                   &  0                  & 2                   &  93                \\\\\n",
       "\t42 & 2340275             & 0                   &  0                  & 2                   &  1                  & 2016-12-20 18:08:00 & 2016-12-20 18:09:11 &   0                 & 0                   & 0                   & 0                   & 11                  & 1                   &  67                \\\\\n",
       "\\end{tabular}\n"
      ],
      "text/markdown": [
       "\n",
       "| <!--/--> | CALLID | ACWTIME | ANSHOLDTIME | CONSULTTIME | DISPTIME | SEGSTART_UTC | SEGSTOP_UTC | TALKTIME | ORIGHOLDTIME | QUEUETIME | RINGTIME | ORIG_LOCID | CALL_DISP | DURATION | \n",
       "|---|---|---|---|---|---|\n",
       "| 6 | 2340247             | 0                   | 15                  | 0                   | 21                  | 2016-12-20 17:54:52 | 2016-12-20 18:05:21 | 593                 | 0                   | 0                   | 0                   |  0                  | 2                   | 629                 | \n",
       "| 16 | 2340254             | 0                   |  0                  | 0                   |  2                  | 2016-12-20 18:04:59 | 2016-12-20 18:06:32 |  91                 | 0                   | 0                   | 0                   |  0                  | 2                   |  93                 | \n",
       "| 18 | 2340255             | 0                   |  0                  | 2                   |  1                  | 2016-12-20 18:06:18 | 2016-12-20 18:06:49 |   0                 | 0                   | 0                   | 0                   | 11                  | 1                   |  31                 | \n",
       "| 23 | 2340259             | 1                   | 11                  | 0                   |  8                  | 2016-12-20 18:04:25 | 2016-12-20 18:07:12 | 147                 | 0                   | 6                   | 0                   |  0                  | 2                   | 122                 | \n",
       "| 26 | 2340260             | 0                   |  0                  | 0                   |  2                  | 2016-12-20 18:05:49 | 2016-12-20 18:07:22 |  91                 | 0                   | 0                   | 0                   |  0                  | 2                   |  93                 | \n",
       "| 42 | 2340275             | 0                   |  0                  | 2                   |  1                  | 2016-12-20 18:08:00 | 2016-12-20 18:09:11 |   0                 | 0                   | 0                   | 0                   | 11                  | 1                   |  67                 | \n",
       "\n",
       "\n"
      ],
      "text/plain": [
       "   CALLID  ACWTIME ANSHOLDTIME CONSULTTIME DISPTIME SEGSTART_UTC       \n",
       "6  2340247 0       15          0           21       2016-12-20 17:54:52\n",
       "16 2340254 0        0          0            2       2016-12-20 18:04:59\n",
       "18 2340255 0        0          2            1       2016-12-20 18:06:18\n",
       "23 2340259 1       11          0            8       2016-12-20 18:04:25\n",
       "26 2340260 0        0          0            2       2016-12-20 18:05:49\n",
       "42 2340275 0        0          2            1       2016-12-20 18:08:00\n",
       "   SEGSTOP_UTC         TALKTIME ORIGHOLDTIME QUEUETIME RINGTIME ORIG_LOCID\n",
       "6  2016-12-20 18:05:21 593      0            0         0         0        \n",
       "16 2016-12-20 18:06:32  91      0            0         0         0        \n",
       "18 2016-12-20 18:06:49   0      0            0         0        11        \n",
       "23 2016-12-20 18:07:12 147      0            6         0         0        \n",
       "26 2016-12-20 18:07:22  91      0            0         0         0        \n",
       "42 2016-12-20 18:09:11   0      0            0         0        11        \n",
       "   CALL_DISP DURATION\n",
       "6  2         629     \n",
       "16 2          93     \n",
       "18 1          31     \n",
       "23 2         122     \n",
       "26 2          93     \n",
       "42 1          67     "
      ]
     },
     "metadata": {},
     "output_type": "display_data"
    }
   ],
   "source": [
    "activity <- select(hansol8, CALLID, ACWTIME, ANSHOLDTIME, CONSULTTIME, DISPTIME, SEGSTART_UTC, SEGSTOP_UTC, \n",
    "                   TALKTIME, ORIGHOLDTIME, QUEUETIME, RINGTIME, ORIG_LOCID, CALL_DISP, DURATION)\n",
    "activity$ACWTIME2 <- activity$ACWTIME\n",
    "head(activity)"
   ]
  },
  {
   "cell_type": "markdown",
   "metadata": {},
   "source": [
    "### 1) 시간값 연산을 위한 형변환"
   ]
  },
  {
   "cell_type": "code",
   "execution_count": 44,
   "metadata": {},
   "outputs": [],
   "source": [
    "activity$SEGSTART_UTC <- as.POSIXlt(activity$SEGSTART_UTC)\n",
    "activity$SEGSTOP_UTC <- as.POSIXlt(activity$SEGSTOP_UTC)"
   ]
  },
  {
   "cell_type": "markdown",
   "metadata": {},
   "source": [
    "### 2) SEGSTART_UTC에서 빼는 방식으로 RINGTIME, QUEUETIME 연산"
   ]
  },
  {
   "cell_type": "code",
   "execution_count": 45,
   "metadata": {},
   "outputs": [],
   "source": [
    "activity$QUEUETIME <- activity$SEGSTART_UTC - activity$QUEUETIME\n",
    "activity$RINGTIME <- activity$QUEUETIME - activity$RINGTIME"
   ]
  },
  {
   "cell_type": "markdown",
   "metadata": {},
   "source": [
    "### 3) SEGSTART_UTC에서 더하는 방식으로 나머지 시간값을 계산하기 위해 새로운 Column 생성"
   ]
  },
  {
   "cell_type": "code",
   "execution_count": 46,
   "metadata": {},
   "outputs": [],
   "source": [
    "activity$D <- activity$DISPTIME\n",
    "activity$C <- activity$CONSULTTIME\n",
    "activity$A <- activity$ANSHOLDTIME\n",
    "activity$TT <- activity$TALKTIME"
   ]
  },
  {
   "cell_type": "markdown",
   "metadata": {},
   "source": [
    "### 4) 더하기 방식으로 시간 계산"
   ]
  },
  {
   "cell_type": "code",
   "execution_count": 47,
   "metadata": {},
   "outputs": [],
   "source": [
    "activity$DISPTIME <- activity$SEGSTART_UTC\n",
    "activity$CONSULTTIME <- activity$DISPTIME + activity$D\n",
    "activity$ANSHOLDTIME <- activity$CONSULTTIME + activity$C\n",
    "activity$TALKTIME <- activity$ANSHOLDTIME + activity$A\n",
    "activity$ACWTIME <- activity$TALKTIME + activity$TT"
   ]
  },
  {
   "cell_type": "code",
   "execution_count": 48,
   "metadata": {},
   "outputs": [
    {
     "data": {
      "text/html": [
       "<table>\n",
       "<thead><tr><th></th><th scope=col>CALLID</th><th scope=col>ACWTIME</th><th scope=col>ANSHOLDTIME</th><th scope=col>CONSULTTIME</th><th scope=col>DISPTIME</th><th scope=col>SEGSTART_UTC</th><th scope=col>SEGSTOP_UTC</th><th scope=col>TALKTIME</th><th scope=col>ORIGHOLDTIME</th><th scope=col>QUEUETIME</th><th scope=col>RINGTIME</th><th scope=col>ORIG_LOCID</th><th scope=col>CALL_DISP</th><th scope=col>DURATION</th><th scope=col>D</th><th scope=col>C</th><th scope=col>A</th><th scope=col>TT</th></tr></thead>\n",
       "<tbody>\n",
       "\t<tr><th scope=row>6</th><td>2340247            </td><td>2016-12-20 18:05:21</td><td>2016-12-20 17:55:13</td><td>2016-12-20 17:55:13</td><td>2016-12-20 17:54:52</td><td>2016-12-20 17:54:52</td><td>2016-12-20 18:05:21</td><td>2016-12-20 17:55:28</td><td>0                  </td><td>2016-12-20 17:54:52</td><td>2016-12-20 17:54:52</td><td> 0                 </td><td>2                  </td><td>629                </td><td>21                 </td><td>0                  </td><td>15                 </td><td>593                </td></tr>\n",
       "\t<tr><th scope=row>16</th><td>2340254            </td><td>2016-12-20 18:06:32</td><td>2016-12-20 18:05:01</td><td>2016-12-20 18:05:01</td><td>2016-12-20 18:04:59</td><td>2016-12-20 18:04:59</td><td>2016-12-20 18:06:32</td><td>2016-12-20 18:05:01</td><td>0                  </td><td>2016-12-20 18:04:59</td><td>2016-12-20 18:04:59</td><td> 0                 </td><td>2                  </td><td> 93                </td><td> 2                 </td><td>0                  </td><td> 0                 </td><td> 91                </td></tr>\n",
       "\t<tr><th scope=row>18</th><td>2340255            </td><td>2016-12-20 18:06:21</td><td>2016-12-20 18:06:21</td><td>2016-12-20 18:06:19</td><td>2016-12-20 18:06:18</td><td>2016-12-20 18:06:18</td><td>2016-12-20 18:06:49</td><td>2016-12-20 18:06:21</td><td>0                  </td><td>2016-12-20 18:06:18</td><td>2016-12-20 18:06:18</td><td>11                 </td><td>1                  </td><td> 31                </td><td> 1                 </td><td>2                  </td><td> 0                 </td><td>  0                </td></tr>\n",
       "\t<tr><th scope=row>23</th><td>2340259            </td><td>2016-12-20 18:07:11</td><td>2016-12-20 18:04:33</td><td>2016-12-20 18:04:33</td><td>2016-12-20 18:04:25</td><td>2016-12-20 18:04:25</td><td>2016-12-20 18:07:12</td><td>2016-12-20 18:04:44</td><td>0                  </td><td>2016-12-20 18:04:19</td><td>2016-12-20 18:04:19</td><td> 0                 </td><td>2                  </td><td>122                </td><td> 8                 </td><td>0                  </td><td>11                 </td><td>147                </td></tr>\n",
       "\t<tr><th scope=row>26</th><td>2340260            </td><td>2016-12-20 18:07:22</td><td>2016-12-20 18:05:51</td><td>2016-12-20 18:05:51</td><td>2016-12-20 18:05:49</td><td>2016-12-20 18:05:49</td><td>2016-12-20 18:07:22</td><td>2016-12-20 18:05:51</td><td>0                  </td><td>2016-12-20 18:05:49</td><td>2016-12-20 18:05:49</td><td> 0                 </td><td>2                  </td><td> 93                </td><td> 2                 </td><td>0                  </td><td> 0                 </td><td> 91                </td></tr>\n",
       "\t<tr><th scope=row>42</th><td>2340275            </td><td>2016-12-20 18:08:03</td><td>2016-12-20 18:08:03</td><td>2016-12-20 18:08:01</td><td>2016-12-20 18:08:00</td><td>2016-12-20 18:08:00</td><td>2016-12-20 18:09:11</td><td>2016-12-20 18:08:03</td><td>0                  </td><td>2016-12-20 18:08:00</td><td>2016-12-20 18:08:00</td><td>11                 </td><td>1                  </td><td> 67                </td><td> 1                 </td><td>2                  </td><td> 0                 </td><td>  0                </td></tr>\n",
       "</tbody>\n",
       "</table>\n"
      ],
      "text/latex": [
       "\\begin{tabular}{r|llllllllllllllllll}\n",
       "  & CALLID & ACWTIME & ANSHOLDTIME & CONSULTTIME & DISPTIME & SEGSTART\\_UTC & SEGSTOP\\_UTC & TALKTIME & ORIGHOLDTIME & QUEUETIME & RINGTIME & ORIG\\_LOCID & CALL\\_DISP & DURATION & D & C & A & TT\\\\\n",
       "\\hline\n",
       "\t6 & 2340247             & 2016-12-20 18:05:21 & 2016-12-20 17:55:13 & 2016-12-20 17:55:13 & 2016-12-20 17:54:52 & 2016-12-20 17:54:52 & 2016-12-20 18:05:21 & 2016-12-20 17:55:28 & 0                   & 2016-12-20 17:54:52 & 2016-12-20 17:54:52 &  0                  & 2                   & 629                 & 21                  & 0                   & 15                  & 593                \\\\\n",
       "\t16 & 2340254             & 2016-12-20 18:06:32 & 2016-12-20 18:05:01 & 2016-12-20 18:05:01 & 2016-12-20 18:04:59 & 2016-12-20 18:04:59 & 2016-12-20 18:06:32 & 2016-12-20 18:05:01 & 0                   & 2016-12-20 18:04:59 & 2016-12-20 18:04:59 &  0                  & 2                   &  93                 &  2                  & 0                   &  0                  &  91                \\\\\n",
       "\t18 & 2340255             & 2016-12-20 18:06:21 & 2016-12-20 18:06:21 & 2016-12-20 18:06:19 & 2016-12-20 18:06:18 & 2016-12-20 18:06:18 & 2016-12-20 18:06:49 & 2016-12-20 18:06:21 & 0                   & 2016-12-20 18:06:18 & 2016-12-20 18:06:18 & 11                  & 1                   &  31                 &  1                  & 2                   &  0                  &   0                \\\\\n",
       "\t23 & 2340259             & 2016-12-20 18:07:11 & 2016-12-20 18:04:33 & 2016-12-20 18:04:33 & 2016-12-20 18:04:25 & 2016-12-20 18:04:25 & 2016-12-20 18:07:12 & 2016-12-20 18:04:44 & 0                   & 2016-12-20 18:04:19 & 2016-12-20 18:04:19 &  0                  & 2                   & 122                 &  8                  & 0                   & 11                  & 147                \\\\\n",
       "\t26 & 2340260             & 2016-12-20 18:07:22 & 2016-12-20 18:05:51 & 2016-12-20 18:05:51 & 2016-12-20 18:05:49 & 2016-12-20 18:05:49 & 2016-12-20 18:07:22 & 2016-12-20 18:05:51 & 0                   & 2016-12-20 18:05:49 & 2016-12-20 18:05:49 &  0                  & 2                   &  93                 &  2                  & 0                   &  0                  &  91                \\\\\n",
       "\t42 & 2340275             & 2016-12-20 18:08:03 & 2016-12-20 18:08:03 & 2016-12-20 18:08:01 & 2016-12-20 18:08:00 & 2016-12-20 18:08:00 & 2016-12-20 18:09:11 & 2016-12-20 18:08:03 & 0                   & 2016-12-20 18:08:00 & 2016-12-20 18:08:00 & 11                  & 1                   &  67                 &  1                  & 2                   &  0                  &   0                \\\\\n",
       "\\end{tabular}\n"
      ],
      "text/markdown": [
       "\n",
       "| <!--/--> | CALLID | ACWTIME | ANSHOLDTIME | CONSULTTIME | DISPTIME | SEGSTART_UTC | SEGSTOP_UTC | TALKTIME | ORIGHOLDTIME | QUEUETIME | RINGTIME | ORIG_LOCID | CALL_DISP | DURATION | D | C | A | TT | \n",
       "|---|---|---|---|---|---|\n",
       "| 6 | 2340247             | 2016-12-20 18:05:21 | 2016-12-20 17:55:13 | 2016-12-20 17:55:13 | 2016-12-20 17:54:52 | 2016-12-20 17:54:52 | 2016-12-20 18:05:21 | 2016-12-20 17:55:28 | 0                   | 2016-12-20 17:54:52 | 2016-12-20 17:54:52 |  0                  | 2                   | 629                 | 21                  | 0                   | 15                  | 593                 | \n",
       "| 16 | 2340254             | 2016-12-20 18:06:32 | 2016-12-20 18:05:01 | 2016-12-20 18:05:01 | 2016-12-20 18:04:59 | 2016-12-20 18:04:59 | 2016-12-20 18:06:32 | 2016-12-20 18:05:01 | 0                   | 2016-12-20 18:04:59 | 2016-12-20 18:04:59 |  0                  | 2                   |  93                 |  2                  | 0                   |  0                  |  91                 | \n",
       "| 18 | 2340255             | 2016-12-20 18:06:21 | 2016-12-20 18:06:21 | 2016-12-20 18:06:19 | 2016-12-20 18:06:18 | 2016-12-20 18:06:18 | 2016-12-20 18:06:49 | 2016-12-20 18:06:21 | 0                   | 2016-12-20 18:06:18 | 2016-12-20 18:06:18 | 11                  | 1                   |  31                 |  1                  | 2                   |  0                  |   0                 | \n",
       "| 23 | 2340259             | 2016-12-20 18:07:11 | 2016-12-20 18:04:33 | 2016-12-20 18:04:33 | 2016-12-20 18:04:25 | 2016-12-20 18:04:25 | 2016-12-20 18:07:12 | 2016-12-20 18:04:44 | 0                   | 2016-12-20 18:04:19 | 2016-12-20 18:04:19 |  0                  | 2                   | 122                 |  8                  | 0                   | 11                  | 147                 | \n",
       "| 26 | 2340260             | 2016-12-20 18:07:22 | 2016-12-20 18:05:51 | 2016-12-20 18:05:51 | 2016-12-20 18:05:49 | 2016-12-20 18:05:49 | 2016-12-20 18:07:22 | 2016-12-20 18:05:51 | 0                   | 2016-12-20 18:05:49 | 2016-12-20 18:05:49 |  0                  | 2                   |  93                 |  2                  | 0                   |  0                  |  91                 | \n",
       "| 42 | 2340275             | 2016-12-20 18:08:03 | 2016-12-20 18:08:03 | 2016-12-20 18:08:01 | 2016-12-20 18:08:00 | 2016-12-20 18:08:00 | 2016-12-20 18:09:11 | 2016-12-20 18:08:03 | 0                   | 2016-12-20 18:08:00 | 2016-12-20 18:08:00 | 11                  | 1                   |  67                 |  1                  | 2                   |  0                  |   0                 | \n",
       "\n",
       "\n"
      ],
      "text/plain": [
       "   CALLID  ACWTIME             ANSHOLDTIME         CONSULTTIME        \n",
       "6  2340247 2016-12-20 18:05:21 2016-12-20 17:55:13 2016-12-20 17:55:13\n",
       "16 2340254 2016-12-20 18:06:32 2016-12-20 18:05:01 2016-12-20 18:05:01\n",
       "18 2340255 2016-12-20 18:06:21 2016-12-20 18:06:21 2016-12-20 18:06:19\n",
       "23 2340259 2016-12-20 18:07:11 2016-12-20 18:04:33 2016-12-20 18:04:33\n",
       "26 2340260 2016-12-20 18:07:22 2016-12-20 18:05:51 2016-12-20 18:05:51\n",
       "42 2340275 2016-12-20 18:08:03 2016-12-20 18:08:03 2016-12-20 18:08:01\n",
       "   DISPTIME            SEGSTART_UTC        SEGSTOP_UTC        \n",
       "6  2016-12-20 17:54:52 2016-12-20 17:54:52 2016-12-20 18:05:21\n",
       "16 2016-12-20 18:04:59 2016-12-20 18:04:59 2016-12-20 18:06:32\n",
       "18 2016-12-20 18:06:18 2016-12-20 18:06:18 2016-12-20 18:06:49\n",
       "23 2016-12-20 18:04:25 2016-12-20 18:04:25 2016-12-20 18:07:12\n",
       "26 2016-12-20 18:05:49 2016-12-20 18:05:49 2016-12-20 18:07:22\n",
       "42 2016-12-20 18:08:00 2016-12-20 18:08:00 2016-12-20 18:09:11\n",
       "   TALKTIME            ORIGHOLDTIME QUEUETIME           RINGTIME           \n",
       "6  2016-12-20 17:55:28 0            2016-12-20 17:54:52 2016-12-20 17:54:52\n",
       "16 2016-12-20 18:05:01 0            2016-12-20 18:04:59 2016-12-20 18:04:59\n",
       "18 2016-12-20 18:06:21 0            2016-12-20 18:06:18 2016-12-20 18:06:18\n",
       "23 2016-12-20 18:04:44 0            2016-12-20 18:04:19 2016-12-20 18:04:19\n",
       "26 2016-12-20 18:05:51 0            2016-12-20 18:05:49 2016-12-20 18:05:49\n",
       "42 2016-12-20 18:08:03 0            2016-12-20 18:08:00 2016-12-20 18:08:00\n",
       "   ORIG_LOCID CALL_DISP DURATION D  C A  TT \n",
       "6   0         2         629      21 0 15 593\n",
       "16  0         2          93       2 0  0  91\n",
       "18 11         1          31       1 2  0   0\n",
       "23  0         2         122       8 0 11 147\n",
       "26  0         2          93       2 0  0  91\n",
       "42 11         1          67       1 2  0   0"
      ]
     },
     "metadata": {},
     "output_type": "display_data"
    }
   ],
   "source": [
    "head(activity)"
   ]
  },
  {
   "cell_type": "markdown",
   "metadata": {},
   "source": [
    "### 5) 시간 값, CALL_DISP 제외하고 날리기"
   ]
  },
  {
   "cell_type": "code",
   "execution_count": 49,
   "metadata": {},
   "outputs": [
    {
     "data": {
      "text/html": [
       "<table>\n",
       "<thead><tr><th></th><th scope=col>CALLID</th><th scope=col>ACWTIME</th><th scope=col>ANSHOLDTIME</th><th scope=col>CONSULTTIME</th><th scope=col>DISPTIME</th><th scope=col>SEGSTART_UTC</th><th scope=col>SEGSTOP_UTC</th><th scope=col>TALKTIME</th><th scope=col>QUEUETIME</th><th scope=col>RINGTIME</th><th scope=col>CALL_DISP</th></tr></thead>\n",
       "<tbody>\n",
       "\t<tr><th scope=row>6</th><td>2340247            </td><td>2016-12-20 18:05:21</td><td>2016-12-20 17:55:13</td><td>2016-12-20 17:55:13</td><td>2016-12-20 17:54:52</td><td>2016-12-20 17:54:52</td><td>2016-12-20 18:05:21</td><td>2016-12-20 17:55:28</td><td>2016-12-20 17:54:52</td><td>2016-12-20 17:54:52</td><td>2                  </td></tr>\n",
       "\t<tr><th scope=row>16</th><td>2340254            </td><td>2016-12-20 18:06:32</td><td>2016-12-20 18:05:01</td><td>2016-12-20 18:05:01</td><td>2016-12-20 18:04:59</td><td>2016-12-20 18:04:59</td><td>2016-12-20 18:06:32</td><td>2016-12-20 18:05:01</td><td>2016-12-20 18:04:59</td><td>2016-12-20 18:04:59</td><td>2                  </td></tr>\n",
       "\t<tr><th scope=row>18</th><td>2340255            </td><td>2016-12-20 18:06:21</td><td>2016-12-20 18:06:21</td><td>2016-12-20 18:06:19</td><td>2016-12-20 18:06:18</td><td>2016-12-20 18:06:18</td><td>2016-12-20 18:06:49</td><td>2016-12-20 18:06:21</td><td>2016-12-20 18:06:18</td><td>2016-12-20 18:06:18</td><td>1                  </td></tr>\n",
       "\t<tr><th scope=row>23</th><td>2340259            </td><td>2016-12-20 18:07:11</td><td>2016-12-20 18:04:33</td><td>2016-12-20 18:04:33</td><td>2016-12-20 18:04:25</td><td>2016-12-20 18:04:25</td><td>2016-12-20 18:07:12</td><td>2016-12-20 18:04:44</td><td>2016-12-20 18:04:19</td><td>2016-12-20 18:04:19</td><td>2                  </td></tr>\n",
       "\t<tr><th scope=row>26</th><td>2340260            </td><td>2016-12-20 18:07:22</td><td>2016-12-20 18:05:51</td><td>2016-12-20 18:05:51</td><td>2016-12-20 18:05:49</td><td>2016-12-20 18:05:49</td><td>2016-12-20 18:07:22</td><td>2016-12-20 18:05:51</td><td>2016-12-20 18:05:49</td><td>2016-12-20 18:05:49</td><td>2                  </td></tr>\n",
       "\t<tr><th scope=row>42</th><td>2340275            </td><td>2016-12-20 18:08:03</td><td>2016-12-20 18:08:03</td><td>2016-12-20 18:08:01</td><td>2016-12-20 18:08:00</td><td>2016-12-20 18:08:00</td><td>2016-12-20 18:09:11</td><td>2016-12-20 18:08:03</td><td>2016-12-20 18:08:00</td><td>2016-12-20 18:08:00</td><td>1                  </td></tr>\n",
       "</tbody>\n",
       "</table>\n"
      ],
      "text/latex": [
       "\\begin{tabular}{r|lllllllllll}\n",
       "  & CALLID & ACWTIME & ANSHOLDTIME & CONSULTTIME & DISPTIME & SEGSTART\\_UTC & SEGSTOP\\_UTC & TALKTIME & QUEUETIME & RINGTIME & CALL\\_DISP\\\\\n",
       "\\hline\n",
       "\t6 & 2340247             & 2016-12-20 18:05:21 & 2016-12-20 17:55:13 & 2016-12-20 17:55:13 & 2016-12-20 17:54:52 & 2016-12-20 17:54:52 & 2016-12-20 18:05:21 & 2016-12-20 17:55:28 & 2016-12-20 17:54:52 & 2016-12-20 17:54:52 & 2                  \\\\\n",
       "\t16 & 2340254             & 2016-12-20 18:06:32 & 2016-12-20 18:05:01 & 2016-12-20 18:05:01 & 2016-12-20 18:04:59 & 2016-12-20 18:04:59 & 2016-12-20 18:06:32 & 2016-12-20 18:05:01 & 2016-12-20 18:04:59 & 2016-12-20 18:04:59 & 2                  \\\\\n",
       "\t18 & 2340255             & 2016-12-20 18:06:21 & 2016-12-20 18:06:21 & 2016-12-20 18:06:19 & 2016-12-20 18:06:18 & 2016-12-20 18:06:18 & 2016-12-20 18:06:49 & 2016-12-20 18:06:21 & 2016-12-20 18:06:18 & 2016-12-20 18:06:18 & 1                  \\\\\n",
       "\t23 & 2340259             & 2016-12-20 18:07:11 & 2016-12-20 18:04:33 & 2016-12-20 18:04:33 & 2016-12-20 18:04:25 & 2016-12-20 18:04:25 & 2016-12-20 18:07:12 & 2016-12-20 18:04:44 & 2016-12-20 18:04:19 & 2016-12-20 18:04:19 & 2                  \\\\\n",
       "\t26 & 2340260             & 2016-12-20 18:07:22 & 2016-12-20 18:05:51 & 2016-12-20 18:05:51 & 2016-12-20 18:05:49 & 2016-12-20 18:05:49 & 2016-12-20 18:07:22 & 2016-12-20 18:05:51 & 2016-12-20 18:05:49 & 2016-12-20 18:05:49 & 2                  \\\\\n",
       "\t42 & 2340275             & 2016-12-20 18:08:03 & 2016-12-20 18:08:03 & 2016-12-20 18:08:01 & 2016-12-20 18:08:00 & 2016-12-20 18:08:00 & 2016-12-20 18:09:11 & 2016-12-20 18:08:03 & 2016-12-20 18:08:00 & 2016-12-20 18:08:00 & 1                  \\\\\n",
       "\\end{tabular}\n"
      ],
      "text/markdown": [
       "\n",
       "| <!--/--> | CALLID | ACWTIME | ANSHOLDTIME | CONSULTTIME | DISPTIME | SEGSTART_UTC | SEGSTOP_UTC | TALKTIME | QUEUETIME | RINGTIME | CALL_DISP | \n",
       "|---|---|---|---|---|---|\n",
       "| 6 | 2340247             | 2016-12-20 18:05:21 | 2016-12-20 17:55:13 | 2016-12-20 17:55:13 | 2016-12-20 17:54:52 | 2016-12-20 17:54:52 | 2016-12-20 18:05:21 | 2016-12-20 17:55:28 | 2016-12-20 17:54:52 | 2016-12-20 17:54:52 | 2                   | \n",
       "| 16 | 2340254             | 2016-12-20 18:06:32 | 2016-12-20 18:05:01 | 2016-12-20 18:05:01 | 2016-12-20 18:04:59 | 2016-12-20 18:04:59 | 2016-12-20 18:06:32 | 2016-12-20 18:05:01 | 2016-12-20 18:04:59 | 2016-12-20 18:04:59 | 2                   | \n",
       "| 18 | 2340255             | 2016-12-20 18:06:21 | 2016-12-20 18:06:21 | 2016-12-20 18:06:19 | 2016-12-20 18:06:18 | 2016-12-20 18:06:18 | 2016-12-20 18:06:49 | 2016-12-20 18:06:21 | 2016-12-20 18:06:18 | 2016-12-20 18:06:18 | 1                   | \n",
       "| 23 | 2340259             | 2016-12-20 18:07:11 | 2016-12-20 18:04:33 | 2016-12-20 18:04:33 | 2016-12-20 18:04:25 | 2016-12-20 18:04:25 | 2016-12-20 18:07:12 | 2016-12-20 18:04:44 | 2016-12-20 18:04:19 | 2016-12-20 18:04:19 | 2                   | \n",
       "| 26 | 2340260             | 2016-12-20 18:07:22 | 2016-12-20 18:05:51 | 2016-12-20 18:05:51 | 2016-12-20 18:05:49 | 2016-12-20 18:05:49 | 2016-12-20 18:07:22 | 2016-12-20 18:05:51 | 2016-12-20 18:05:49 | 2016-12-20 18:05:49 | 2                   | \n",
       "| 42 | 2340275             | 2016-12-20 18:08:03 | 2016-12-20 18:08:03 | 2016-12-20 18:08:01 | 2016-12-20 18:08:00 | 2016-12-20 18:08:00 | 2016-12-20 18:09:11 | 2016-12-20 18:08:03 | 2016-12-20 18:08:00 | 2016-12-20 18:08:00 | 1                   | \n",
       "\n",
       "\n"
      ],
      "text/plain": [
       "   CALLID  ACWTIME             ANSHOLDTIME         CONSULTTIME        \n",
       "6  2340247 2016-12-20 18:05:21 2016-12-20 17:55:13 2016-12-20 17:55:13\n",
       "16 2340254 2016-12-20 18:06:32 2016-12-20 18:05:01 2016-12-20 18:05:01\n",
       "18 2340255 2016-12-20 18:06:21 2016-12-20 18:06:21 2016-12-20 18:06:19\n",
       "23 2340259 2016-12-20 18:07:11 2016-12-20 18:04:33 2016-12-20 18:04:33\n",
       "26 2340260 2016-12-20 18:07:22 2016-12-20 18:05:51 2016-12-20 18:05:51\n",
       "42 2340275 2016-12-20 18:08:03 2016-12-20 18:08:03 2016-12-20 18:08:01\n",
       "   DISPTIME            SEGSTART_UTC        SEGSTOP_UTC        \n",
       "6  2016-12-20 17:54:52 2016-12-20 17:54:52 2016-12-20 18:05:21\n",
       "16 2016-12-20 18:04:59 2016-12-20 18:04:59 2016-12-20 18:06:32\n",
       "18 2016-12-20 18:06:18 2016-12-20 18:06:18 2016-12-20 18:06:49\n",
       "23 2016-12-20 18:04:25 2016-12-20 18:04:25 2016-12-20 18:07:12\n",
       "26 2016-12-20 18:05:49 2016-12-20 18:05:49 2016-12-20 18:07:22\n",
       "42 2016-12-20 18:08:00 2016-12-20 18:08:00 2016-12-20 18:09:11\n",
       "   TALKTIME            QUEUETIME           RINGTIME            CALL_DISP\n",
       "6  2016-12-20 17:55:28 2016-12-20 17:54:52 2016-12-20 17:54:52 2        \n",
       "16 2016-12-20 18:05:01 2016-12-20 18:04:59 2016-12-20 18:04:59 2        \n",
       "18 2016-12-20 18:06:21 2016-12-20 18:06:18 2016-12-20 18:06:18 1        \n",
       "23 2016-12-20 18:04:44 2016-12-20 18:04:19 2016-12-20 18:04:19 2        \n",
       "26 2016-12-20 18:05:51 2016-12-20 18:05:49 2016-12-20 18:05:49 2        \n",
       "42 2016-12-20 18:08:03 2016-12-20 18:08:00 2016-12-20 18:08:00 1        "
      ]
     },
     "metadata": {},
     "output_type": "display_data"
    }
   ],
   "source": [
    "activity2 <- select(activity, CALLID, ACWTIME, ANSHOLDTIME, CONSULTTIME, DISPTIME, SEGSTART_UTC, SEGSTOP_UTC, TALKTIME, QUEUETIME, RINGTIME, CALL_DISP)\n",
    "head(activity2)"
   ]
  },
  {
   "cell_type": "markdown",
   "metadata": {},
   "source": [
    "### 6) melt할 때 변환되지 않게 Character로 형변환"
   ]
  },
  {
   "cell_type": "code",
   "execution_count": 50,
   "metadata": {},
   "outputs": [],
   "source": [
    "activity2$CALLID <- as.character(activity2$CALLID)\n",
    "activity2$ACWTIME <- as.character(activity2$ACWTIME)\n",
    "activity2$ANSHOLDTIME <- as.character(activity2$ANSHOLDTIME)\n",
    "activity2$CONSULTTIME <- as.character(activity2$CONSULTTIME)\n",
    "activity2$DISPTIME <- as.character(activity2$DISPTIME)\n",
    "activity2$SEGSTART_UTC <- as.character(activity2$SEGSTART_UTC)\n",
    "activity2$SEGSTOP_UTC <- as.character(activity2$SEGSTOP_UTC)\n",
    "activity2$TALKTIME <- as.character(activity2$TALKTIME)\n",
    "activity2$QUEUETIME <- as.character(activity2$QUEUETIME)\n",
    "activity2$RINGTIME <- as.character(activity2$RINGTIME)\n",
    "activity2$CALL_DISP <- as.character(activity2$CALL_DISP)"
   ]
  },
  {
   "cell_type": "markdown",
   "metadata": {},
   "source": [
    "### 7) CALL_DISP는 나중에 붙이기로 하고 일단 Melt"
   ]
  },
  {
   "cell_type": "code",
   "execution_count": 51,
   "metadata": {
    "scrolled": false
   },
   "outputs": [
    {
     "data": {
      "text/html": [
       "<table>\n",
       "<thead><tr><th></th><th scope=col>CALLID</th><th scope=col>ACWTIME</th><th scope=col>ANSHOLDTIME</th><th scope=col>CONSULTTIME</th><th scope=col>DISPTIME</th><th scope=col>SEGSTART_UTC</th><th scope=col>SEGSTOP_UTC</th><th scope=col>TALKTIME</th><th scope=col>QUEUETIME</th><th scope=col>RINGTIME</th></tr></thead>\n",
       "<tbody>\n",
       "\t<tr><th scope=row>6</th><td>2340247            </td><td>2016-12-20 18:05:21</td><td>2016-12-20 17:55:13</td><td>2016-12-20 17:55:13</td><td>2016-12-20 17:54:52</td><td>2016-12-20 17:54:52</td><td>2016-12-20 18:05:21</td><td>2016-12-20 17:55:28</td><td>2016-12-20 17:54:52</td><td>2016-12-20 17:54:52</td></tr>\n",
       "\t<tr><th scope=row>16</th><td>2340254            </td><td>2016-12-20 18:06:32</td><td>2016-12-20 18:05:01</td><td>2016-12-20 18:05:01</td><td>2016-12-20 18:04:59</td><td>2016-12-20 18:04:59</td><td>2016-12-20 18:06:32</td><td>2016-12-20 18:05:01</td><td>2016-12-20 18:04:59</td><td>2016-12-20 18:04:59</td></tr>\n",
       "\t<tr><th scope=row>18</th><td>2340255            </td><td>2016-12-20 18:06:21</td><td>2016-12-20 18:06:21</td><td>2016-12-20 18:06:19</td><td>2016-12-20 18:06:18</td><td>2016-12-20 18:06:18</td><td>2016-12-20 18:06:49</td><td>2016-12-20 18:06:21</td><td>2016-12-20 18:06:18</td><td>2016-12-20 18:06:18</td></tr>\n",
       "\t<tr><th scope=row>23</th><td>2340259            </td><td>2016-12-20 18:07:11</td><td>2016-12-20 18:04:33</td><td>2016-12-20 18:04:33</td><td>2016-12-20 18:04:25</td><td>2016-12-20 18:04:25</td><td>2016-12-20 18:07:12</td><td>2016-12-20 18:04:44</td><td>2016-12-20 18:04:19</td><td>2016-12-20 18:04:19</td></tr>\n",
       "\t<tr><th scope=row>26</th><td>2340260            </td><td>2016-12-20 18:07:22</td><td>2016-12-20 18:05:51</td><td>2016-12-20 18:05:51</td><td>2016-12-20 18:05:49</td><td>2016-12-20 18:05:49</td><td>2016-12-20 18:07:22</td><td>2016-12-20 18:05:51</td><td>2016-12-20 18:05:49</td><td>2016-12-20 18:05:49</td></tr>\n",
       "\t<tr><th scope=row>42</th><td>2340275            </td><td>2016-12-20 18:08:03</td><td>2016-12-20 18:08:03</td><td>2016-12-20 18:08:01</td><td>2016-12-20 18:08:00</td><td>2016-12-20 18:08:00</td><td>2016-12-20 18:09:11</td><td>2016-12-20 18:08:03</td><td>2016-12-20 18:08:00</td><td>2016-12-20 18:08:00</td></tr>\n",
       "</tbody>\n",
       "</table>\n"
      ],
      "text/latex": [
       "\\begin{tabular}{r|llllllllll}\n",
       "  & CALLID & ACWTIME & ANSHOLDTIME & CONSULTTIME & DISPTIME & SEGSTART\\_UTC & SEGSTOP\\_UTC & TALKTIME & QUEUETIME & RINGTIME\\\\\n",
       "\\hline\n",
       "\t6 & 2340247             & 2016-12-20 18:05:21 & 2016-12-20 17:55:13 & 2016-12-20 17:55:13 & 2016-12-20 17:54:52 & 2016-12-20 17:54:52 & 2016-12-20 18:05:21 & 2016-12-20 17:55:28 & 2016-12-20 17:54:52 & 2016-12-20 17:54:52\\\\\n",
       "\t16 & 2340254             & 2016-12-20 18:06:32 & 2016-12-20 18:05:01 & 2016-12-20 18:05:01 & 2016-12-20 18:04:59 & 2016-12-20 18:04:59 & 2016-12-20 18:06:32 & 2016-12-20 18:05:01 & 2016-12-20 18:04:59 & 2016-12-20 18:04:59\\\\\n",
       "\t18 & 2340255             & 2016-12-20 18:06:21 & 2016-12-20 18:06:21 & 2016-12-20 18:06:19 & 2016-12-20 18:06:18 & 2016-12-20 18:06:18 & 2016-12-20 18:06:49 & 2016-12-20 18:06:21 & 2016-12-20 18:06:18 & 2016-12-20 18:06:18\\\\\n",
       "\t23 & 2340259             & 2016-12-20 18:07:11 & 2016-12-20 18:04:33 & 2016-12-20 18:04:33 & 2016-12-20 18:04:25 & 2016-12-20 18:04:25 & 2016-12-20 18:07:12 & 2016-12-20 18:04:44 & 2016-12-20 18:04:19 & 2016-12-20 18:04:19\\\\\n",
       "\t26 & 2340260             & 2016-12-20 18:07:22 & 2016-12-20 18:05:51 & 2016-12-20 18:05:51 & 2016-12-20 18:05:49 & 2016-12-20 18:05:49 & 2016-12-20 18:07:22 & 2016-12-20 18:05:51 & 2016-12-20 18:05:49 & 2016-12-20 18:05:49\\\\\n",
       "\t42 & 2340275             & 2016-12-20 18:08:03 & 2016-12-20 18:08:03 & 2016-12-20 18:08:01 & 2016-12-20 18:08:00 & 2016-12-20 18:08:00 & 2016-12-20 18:09:11 & 2016-12-20 18:08:03 & 2016-12-20 18:08:00 & 2016-12-20 18:08:00\\\\\n",
       "\\end{tabular}\n"
      ],
      "text/markdown": [
       "\n",
       "| <!--/--> | CALLID | ACWTIME | ANSHOLDTIME | CONSULTTIME | DISPTIME | SEGSTART_UTC | SEGSTOP_UTC | TALKTIME | QUEUETIME | RINGTIME | \n",
       "|---|---|---|---|---|---|\n",
       "| 6 | 2340247             | 2016-12-20 18:05:21 | 2016-12-20 17:55:13 | 2016-12-20 17:55:13 | 2016-12-20 17:54:52 | 2016-12-20 17:54:52 | 2016-12-20 18:05:21 | 2016-12-20 17:55:28 | 2016-12-20 17:54:52 | 2016-12-20 17:54:52 | \n",
       "| 16 | 2340254             | 2016-12-20 18:06:32 | 2016-12-20 18:05:01 | 2016-12-20 18:05:01 | 2016-12-20 18:04:59 | 2016-12-20 18:04:59 | 2016-12-20 18:06:32 | 2016-12-20 18:05:01 | 2016-12-20 18:04:59 | 2016-12-20 18:04:59 | \n",
       "| 18 | 2340255             | 2016-12-20 18:06:21 | 2016-12-20 18:06:21 | 2016-12-20 18:06:19 | 2016-12-20 18:06:18 | 2016-12-20 18:06:18 | 2016-12-20 18:06:49 | 2016-12-20 18:06:21 | 2016-12-20 18:06:18 | 2016-12-20 18:06:18 | \n",
       "| 23 | 2340259             | 2016-12-20 18:07:11 | 2016-12-20 18:04:33 | 2016-12-20 18:04:33 | 2016-12-20 18:04:25 | 2016-12-20 18:04:25 | 2016-12-20 18:07:12 | 2016-12-20 18:04:44 | 2016-12-20 18:04:19 | 2016-12-20 18:04:19 | \n",
       "| 26 | 2340260             | 2016-12-20 18:07:22 | 2016-12-20 18:05:51 | 2016-12-20 18:05:51 | 2016-12-20 18:05:49 | 2016-12-20 18:05:49 | 2016-12-20 18:07:22 | 2016-12-20 18:05:51 | 2016-12-20 18:05:49 | 2016-12-20 18:05:49 | \n",
       "| 42 | 2340275             | 2016-12-20 18:08:03 | 2016-12-20 18:08:03 | 2016-12-20 18:08:01 | 2016-12-20 18:08:00 | 2016-12-20 18:08:00 | 2016-12-20 18:09:11 | 2016-12-20 18:08:03 | 2016-12-20 18:08:00 | 2016-12-20 18:08:00 | \n",
       "\n",
       "\n"
      ],
      "text/plain": [
       "   CALLID  ACWTIME             ANSHOLDTIME         CONSULTTIME        \n",
       "6  2340247 2016-12-20 18:05:21 2016-12-20 17:55:13 2016-12-20 17:55:13\n",
       "16 2340254 2016-12-20 18:06:32 2016-12-20 18:05:01 2016-12-20 18:05:01\n",
       "18 2340255 2016-12-20 18:06:21 2016-12-20 18:06:21 2016-12-20 18:06:19\n",
       "23 2340259 2016-12-20 18:07:11 2016-12-20 18:04:33 2016-12-20 18:04:33\n",
       "26 2340260 2016-12-20 18:07:22 2016-12-20 18:05:51 2016-12-20 18:05:51\n",
       "42 2340275 2016-12-20 18:08:03 2016-12-20 18:08:03 2016-12-20 18:08:01\n",
       "   DISPTIME            SEGSTART_UTC        SEGSTOP_UTC        \n",
       "6  2016-12-20 17:54:52 2016-12-20 17:54:52 2016-12-20 18:05:21\n",
       "16 2016-12-20 18:04:59 2016-12-20 18:04:59 2016-12-20 18:06:32\n",
       "18 2016-12-20 18:06:18 2016-12-20 18:06:18 2016-12-20 18:06:49\n",
       "23 2016-12-20 18:04:25 2016-12-20 18:04:25 2016-12-20 18:07:12\n",
       "26 2016-12-20 18:05:49 2016-12-20 18:05:49 2016-12-20 18:07:22\n",
       "42 2016-12-20 18:08:00 2016-12-20 18:08:00 2016-12-20 18:09:11\n",
       "   TALKTIME            QUEUETIME           RINGTIME           \n",
       "6  2016-12-20 17:55:28 2016-12-20 17:54:52 2016-12-20 17:54:52\n",
       "16 2016-12-20 18:05:01 2016-12-20 18:04:59 2016-12-20 18:04:59\n",
       "18 2016-12-20 18:06:21 2016-12-20 18:06:18 2016-12-20 18:06:18\n",
       "23 2016-12-20 18:04:44 2016-12-20 18:04:19 2016-12-20 18:04:19\n",
       "26 2016-12-20 18:05:51 2016-12-20 18:05:49 2016-12-20 18:05:49\n",
       "42 2016-12-20 18:08:03 2016-12-20 18:08:00 2016-12-20 18:08:00"
      ]
     },
     "metadata": {},
     "output_type": "display_data"
    }
   ],
   "source": [
    "activity3 <- select(activity2, -CALL_DISP)\n",
    "head(activity3)"
   ]
  },
  {
   "cell_type": "code",
   "execution_count": 53,
   "metadata": {},
   "outputs": [
    {
     "name": "stdout",
     "output_type": "stream",
     "text": [
      "'data.frame':\t7863624 obs. of  3 variables:\n",
      " $ CALLID  : chr  \"2340247\" \"2340254\" \"2340255\" \"2340259\" ...\n",
      " $ variable: Factor w/ 9 levels \"ACWTIME\",\"ANSHOLDTIME\",..: 1 1 1 1 1 1 1 1 1 1 ...\n",
      " $ value   : chr  \"2016-12-20 18:05:21\" \"2016-12-20 18:06:32\" \"2016-12-20 18:06:21\" \"2016-12-20 18:07:11\" ...\n"
     ]
    }
   ],
   "source": [
    "actmelt <- as.data.frame(melt(activity3, id.vars = 1))\n",
    "str(actmelt)"
   ]
  },
  {
   "cell_type": "code",
   "execution_count": 54,
   "metadata": {},
   "outputs": [
    {
     "data": {
      "text/html": [
       "<table>\n",
       "<thead><tr><th scope=col>CALLID</th><th scope=col>ACTIVITY</th><th scope=col>TIMESTAMP</th></tr></thead>\n",
       "<tbody>\n",
       "\t<tr><td>2340247            </td><td>ACWTIME            </td><td>2016-12-20 18:05:21</td></tr>\n",
       "\t<tr><td>2340254            </td><td>ACWTIME            </td><td>2016-12-20 18:06:32</td></tr>\n",
       "\t<tr><td>2340255            </td><td>ACWTIME            </td><td>2016-12-20 18:06:21</td></tr>\n",
       "\t<tr><td>2340259            </td><td>ACWTIME            </td><td>2016-12-20 18:07:11</td></tr>\n",
       "\t<tr><td>2340260            </td><td>ACWTIME            </td><td>2016-12-20 18:07:22</td></tr>\n",
       "\t<tr><td>2340275            </td><td>ACWTIME            </td><td>2016-12-20 18:08:03</td></tr>\n",
       "</tbody>\n",
       "</table>\n"
      ],
      "text/latex": [
       "\\begin{tabular}{r|lll}\n",
       " CALLID & ACTIVITY & TIMESTAMP\\\\\n",
       "\\hline\n",
       "\t 2340247             & ACWTIME             & 2016-12-20 18:05:21\\\\\n",
       "\t 2340254             & ACWTIME             & 2016-12-20 18:06:32\\\\\n",
       "\t 2340255             & ACWTIME             & 2016-12-20 18:06:21\\\\\n",
       "\t 2340259             & ACWTIME             & 2016-12-20 18:07:11\\\\\n",
       "\t 2340260             & ACWTIME             & 2016-12-20 18:07:22\\\\\n",
       "\t 2340275             & ACWTIME             & 2016-12-20 18:08:03\\\\\n",
       "\\end{tabular}\n"
      ],
      "text/markdown": [
       "\n",
       "CALLID | ACTIVITY | TIMESTAMP | \n",
       "|---|---|---|---|---|---|\n",
       "| 2340247             | ACWTIME             | 2016-12-20 18:05:21 | \n",
       "| 2340254             | ACWTIME             | 2016-12-20 18:06:32 | \n",
       "| 2340255             | ACWTIME             | 2016-12-20 18:06:21 | \n",
       "| 2340259             | ACWTIME             | 2016-12-20 18:07:11 | \n",
       "| 2340260             | ACWTIME             | 2016-12-20 18:07:22 | \n",
       "| 2340275             | ACWTIME             | 2016-12-20 18:08:03 | \n",
       "\n",
       "\n"
      ],
      "text/plain": [
       "  CALLID  ACTIVITY TIMESTAMP          \n",
       "1 2340247 ACWTIME  2016-12-20 18:05:21\n",
       "2 2340254 ACWTIME  2016-12-20 18:06:32\n",
       "3 2340255 ACWTIME  2016-12-20 18:06:21\n",
       "4 2340259 ACWTIME  2016-12-20 18:07:11\n",
       "5 2340260 ACWTIME  2016-12-20 18:07:22\n",
       "6 2340275 ACWTIME  2016-12-20 18:08:03"
      ]
     },
     "metadata": {},
     "output_type": "display_data"
    }
   ],
   "source": [
    "colnames(actmelt) <- c(\"CALLID\", \"ACTIVITY\", \"TIMESTAMP\")\n",
    "head(actmelt)"
   ]
  },
  {
   "cell_type": "markdown",
   "metadata": {},
   "source": [
    "## 5. actmelt에 CALL_DISP 붙이기"
   ]
  },
  {
   "cell_type": "code",
   "execution_count": 55,
   "metadata": {},
   "outputs": [
    {
     "name": "stdout",
     "output_type": "stream",
     "text": [
      "'data.frame':\t873736 obs. of  3 variables:\n",
      " $ CALLID   : chr  \"2340247\" \"2340254\" \"2340255\" \"2340259\" ...\n",
      " $ ACTIVITY : Factor w/ 9 levels \"ACWTIME\",\"ANSHOLDTIME\",..: 4 4 4 4 4 4 4 4 4 4 ...\n",
      " $ TIMESTAMP: chr  \"2016-12-20 17:54:52\" \"2016-12-20 18:04:59\" \"2016-12-20 18:06:18\" \"2016-12-20 18:04:25\" ...\n"
     ]
    }
   ],
   "source": [
    "actcall <- actmelt[actmelt$ACTIVITY == \"DISPTIME\", ]\n",
    "str(actcall)"
   ]
  },
  {
   "cell_type": "code",
   "execution_count": 56,
   "metadata": {},
   "outputs": [
    {
     "data": {
      "text/html": [
       "<table>\n",
       "<thead><tr><th></th><th scope=col>CALLID</th><th scope=col>CALL_DISP</th></tr></thead>\n",
       "<tbody>\n",
       "\t<tr><th scope=row>6</th><td>2340247</td><td>2      </td></tr>\n",
       "\t<tr><th scope=row>16</th><td>2340254</td><td>2      </td></tr>\n",
       "\t<tr><th scope=row>18</th><td>2340255</td><td>1      </td></tr>\n",
       "\t<tr><th scope=row>23</th><td>2340259</td><td>2      </td></tr>\n",
       "\t<tr><th scope=row>26</th><td>2340260</td><td>2      </td></tr>\n",
       "\t<tr><th scope=row>42</th><td>2340275</td><td>1      </td></tr>\n",
       "</tbody>\n",
       "</table>\n"
      ],
      "text/latex": [
       "\\begin{tabular}{r|ll}\n",
       "  & CALLID & CALL\\_DISP\\\\\n",
       "\\hline\n",
       "\t6 & 2340247 & 2      \\\\\n",
       "\t16 & 2340254 & 2      \\\\\n",
       "\t18 & 2340255 & 1      \\\\\n",
       "\t23 & 2340259 & 2      \\\\\n",
       "\t26 & 2340260 & 2      \\\\\n",
       "\t42 & 2340275 & 1      \\\\\n",
       "\\end{tabular}\n"
      ],
      "text/markdown": [
       "\n",
       "| <!--/--> | CALLID | CALL_DISP | \n",
       "|---|---|---|---|---|---|\n",
       "| 6 | 2340247 | 2       | \n",
       "| 16 | 2340254 | 2       | \n",
       "| 18 | 2340255 | 1       | \n",
       "| 23 | 2340259 | 2       | \n",
       "| 26 | 2340260 | 2       | \n",
       "| 42 | 2340275 | 1       | \n",
       "\n",
       "\n"
      ],
      "text/plain": [
       "   CALLID  CALL_DISP\n",
       "6  2340247 2        \n",
       "16 2340254 2        \n",
       "18 2340255 1        \n",
       "23 2340259 2        \n",
       "26 2340260 2        \n",
       "42 2340275 1        "
      ]
     },
     "metadata": {},
     "output_type": "display_data"
    }
   ],
   "source": [
    "dispcall <- select(hansol8, CALLID, CALL_DISP)\n",
    "head(dispcall)"
   ]
  },
  {
   "cell_type": "code",
   "execution_count": 57,
   "metadata": {},
   "outputs": [
    {
     "data": {
      "text/html": [
       "<table>\n",
       "<thead><tr><th scope=col>CALLID</th><th scope=col>ACTIVITY</th><th scope=col>TIMESTAMP</th><th scope=col>CALL_DISP</th></tr></thead>\n",
       "<tbody>\n",
       "\t<tr><td>2340247            </td><td>DISPTIME           </td><td>2016-12-20 17:54:52</td><td>2                  </td></tr>\n",
       "\t<tr><td>2340254            </td><td>DISPTIME           </td><td>2016-12-20 18:04:59</td><td>2                  </td></tr>\n",
       "\t<tr><td>2340255            </td><td>DISPTIME           </td><td>2016-12-20 18:06:18</td><td>1                  </td></tr>\n",
       "\t<tr><td>2340259            </td><td>DISPTIME           </td><td>2016-12-20 18:04:25</td><td>2                  </td></tr>\n",
       "\t<tr><td>2340260            </td><td>DISPTIME           </td><td>2016-12-20 18:05:49</td><td>2                  </td></tr>\n",
       "\t<tr><td>2340275            </td><td>DISPTIME           </td><td>2016-12-20 18:08:00</td><td>1                  </td></tr>\n",
       "</tbody>\n",
       "</table>\n"
      ],
      "text/latex": [
       "\\begin{tabular}{r|llll}\n",
       " CALLID & ACTIVITY & TIMESTAMP & CALL\\_DISP\\\\\n",
       "\\hline\n",
       "\t 2340247             & DISPTIME            & 2016-12-20 17:54:52 & 2                  \\\\\n",
       "\t 2340254             & DISPTIME            & 2016-12-20 18:04:59 & 2                  \\\\\n",
       "\t 2340255             & DISPTIME            & 2016-12-20 18:06:18 & 1                  \\\\\n",
       "\t 2340259             & DISPTIME            & 2016-12-20 18:04:25 & 2                  \\\\\n",
       "\t 2340260             & DISPTIME            & 2016-12-20 18:05:49 & 2                  \\\\\n",
       "\t 2340275             & DISPTIME            & 2016-12-20 18:08:00 & 1                  \\\\\n",
       "\\end{tabular}\n"
      ],
      "text/markdown": [
       "\n",
       "CALLID | ACTIVITY | TIMESTAMP | CALL_DISP | \n",
       "|---|---|---|---|---|---|\n",
       "| 2340247             | DISPTIME            | 2016-12-20 17:54:52 | 2                   | \n",
       "| 2340254             | DISPTIME            | 2016-12-20 18:04:59 | 2                   | \n",
       "| 2340255             | DISPTIME            | 2016-12-20 18:06:18 | 1                   | \n",
       "| 2340259             | DISPTIME            | 2016-12-20 18:04:25 | 2                   | \n",
       "| 2340260             | DISPTIME            | 2016-12-20 18:05:49 | 2                   | \n",
       "| 2340275             | DISPTIME            | 2016-12-20 18:08:00 | 1                   | \n",
       "\n",
       "\n"
      ],
      "text/plain": [
       "  CALLID  ACTIVITY TIMESTAMP           CALL_DISP\n",
       "1 2340247 DISPTIME 2016-12-20 17:54:52 2        \n",
       "2 2340254 DISPTIME 2016-12-20 18:04:59 2        \n",
       "3 2340255 DISPTIME 2016-12-20 18:06:18 1        \n",
       "4 2340259 DISPTIME 2016-12-20 18:04:25 2        \n",
       "5 2340260 DISPTIME 2016-12-20 18:05:49 2        \n",
       "6 2340275 DISPTIME 2016-12-20 18:08:00 1        "
      ]
     },
     "metadata": {},
     "output_type": "display_data"
    }
   ],
   "source": [
    "dispcall$CALLID <- as.character(dispcall$CALLID)\n",
    "meltdisp <- left_join(actcall, dispcall, by = c(\"CALLID\" = \"CALLID\"))\n",
    "head(meltdisp)"
   ]
  },
  {
   "cell_type": "code",
   "execution_count": 58,
   "metadata": {},
   "outputs": [
    {
     "data": {
      "text/html": [
       "<table>\n",
       "<thead><tr><th scope=col>CALLID</th><th scope=col>ACTIVITY</th><th scope=col>TIMESTAMP</th><th scope=col>CALL_DISP</th><th scope=col>DISPNAME</th></tr></thead>\n",
       "<tbody>\n",
       "\t<tr><td>2340247            </td><td>DISPTIME           </td><td>2016-12-20 17:54:52</td><td>2                  </td><td>DISP_ANS           </td></tr>\n",
       "\t<tr><td>2340254            </td><td>DISPTIME           </td><td>2016-12-20 18:04:59</td><td>2                  </td><td>DISP_ANS           </td></tr>\n",
       "\t<tr><td>2340255            </td><td>DISPTIME           </td><td>2016-12-20 18:06:18</td><td>1                  </td><td>DISP_CONN          </td></tr>\n",
       "\t<tr><td>2340259            </td><td>DISPTIME           </td><td>2016-12-20 18:04:25</td><td>2                  </td><td>DISP_ANS           </td></tr>\n",
       "\t<tr><td>2340260            </td><td>DISPTIME           </td><td>2016-12-20 18:05:49</td><td>2                  </td><td>DISP_ANS           </td></tr>\n",
       "\t<tr><td>2340275            </td><td>DISPTIME           </td><td>2016-12-20 18:08:00</td><td>1                  </td><td>DISP_CONN          </td></tr>\n",
       "</tbody>\n",
       "</table>\n"
      ],
      "text/latex": [
       "\\begin{tabular}{r|lllll}\n",
       " CALLID & ACTIVITY & TIMESTAMP & CALL\\_DISP & DISPNAME\\\\\n",
       "\\hline\n",
       "\t 2340247             & DISPTIME            & 2016-12-20 17:54:52 & 2                   & DISP\\_ANS         \\\\\n",
       "\t 2340254             & DISPTIME            & 2016-12-20 18:04:59 & 2                   & DISP\\_ANS         \\\\\n",
       "\t 2340255             & DISPTIME            & 2016-12-20 18:06:18 & 1                   & DISP\\_CONN        \\\\\n",
       "\t 2340259             & DISPTIME            & 2016-12-20 18:04:25 & 2                   & DISP\\_ANS         \\\\\n",
       "\t 2340260             & DISPTIME            & 2016-12-20 18:05:49 & 2                   & DISP\\_ANS         \\\\\n",
       "\t 2340275             & DISPTIME            & 2016-12-20 18:08:00 & 1                   & DISP\\_CONN        \\\\\n",
       "\\end{tabular}\n"
      ],
      "text/markdown": [
       "\n",
       "CALLID | ACTIVITY | TIMESTAMP | CALL_DISP | DISPNAME | \n",
       "|---|---|---|---|---|---|\n",
       "| 2340247             | DISPTIME            | 2016-12-20 17:54:52 | 2                   | DISP_ANS            | \n",
       "| 2340254             | DISPTIME            | 2016-12-20 18:04:59 | 2                   | DISP_ANS            | \n",
       "| 2340255             | DISPTIME            | 2016-12-20 18:06:18 | 1                   | DISP_CONN           | \n",
       "| 2340259             | DISPTIME            | 2016-12-20 18:04:25 | 2                   | DISP_ANS            | \n",
       "| 2340260             | DISPTIME            | 2016-12-20 18:05:49 | 2                   | DISP_ANS            | \n",
       "| 2340275             | DISPTIME            | 2016-12-20 18:08:00 | 1                   | DISP_CONN           | \n",
       "\n",
       "\n"
      ],
      "text/plain": [
       "  CALLID  ACTIVITY TIMESTAMP           CALL_DISP DISPNAME \n",
       "1 2340247 DISPTIME 2016-12-20 17:54:52 2         DISP_ANS \n",
       "2 2340254 DISPTIME 2016-12-20 18:04:59 2         DISP_ANS \n",
       "3 2340255 DISPTIME 2016-12-20 18:06:18 1         DISP_CONN\n",
       "4 2340259 DISPTIME 2016-12-20 18:04:25 2         DISP_ANS \n",
       "5 2340260 DISPTIME 2016-12-20 18:05:49 2         DISP_ANS \n",
       "6 2340275 DISPTIME 2016-12-20 18:08:00 1         DISP_CONN"
      ]
     },
     "metadata": {},
     "output_type": "display_data"
    }
   ],
   "source": [
    "meltdisp$DISPNAME <- \"a\"\n",
    "meltdisp$DISPNAME <- ifelse(meltdisp$CALL_DISP == 1, \"DISP_CONN\", meltdisp$DISPNAME)\n",
    "meltdisp$DISPNAME <- ifelse(meltdisp$CALL_DISP == 2, \"DISP_ANS\", meltdisp$DISPNAME)\n",
    "meltdisp$DISPNAME <- ifelse(meltdisp$CALL_DISP == 3, \"DISP_ABAN\", meltdisp$DISPNAME)\n",
    "meltdisp$DISPNAME <- ifelse(meltdisp$CALL_DISP == 4, \"DISP_IFLOW\", meltdisp$DISPNAME)\n",
    "meltdisp$DISPNAME <- ifelse(meltdisp$CALL_DISP == 5, \"DISP_FBUSY\", meltdisp$DISPNAME)\n",
    "meltdisp$DISPNAME <- ifelse(meltdisp$CALL_DISP == 6, \"DISP_FDISC\", meltdisp$DISPNAME)\n",
    "meltdisp$DISPNAME <- ifelse(meltdisp$CALL_DISP == 7, \"DISP_OTHER\", meltdisp$DISPNAME)\n",
    "head(meltdisp)"
   ]
  },
  {
   "cell_type": "code",
   "execution_count": 59,
   "metadata": {},
   "outputs": [
    {
     "data": {
      "text/plain": [
       "\n",
       " DISP_ABAN   DISP_ANS  DISP_CONN DISP_FDISC DISP_OTHER \n",
       "    119851     205012     478671       4987      65215 "
      ]
     },
     "metadata": {},
     "output_type": "display_data"
    },
    {
     "data": {
      "text/plain": [
       "\n",
       "     1      2      3      6      7 \n",
       "478671 205012 119851   4987  65215 "
      ]
     },
     "metadata": {},
     "output_type": "display_data"
    }
   ],
   "source": [
    "table(meltdisp$DISPNAME)\n",
    "table(meltdisp$CALL_DISP)"
   ]
  },
  {
   "cell_type": "code",
   "execution_count": 60,
   "metadata": {},
   "outputs": [
    {
     "data": {
      "text/html": [
       "<table>\n",
       "<thead><tr><th scope=col>CALLID</th><th scope=col>ACTIVITY</th><th scope=col>TIMESTAMP</th></tr></thead>\n",
       "<tbody>\n",
       "\t<tr><td>2340247            </td><td>DISP_ANS           </td><td>2016-12-20 17:54:52</td></tr>\n",
       "\t<tr><td>2340254            </td><td>DISP_ANS           </td><td>2016-12-20 18:04:59</td></tr>\n",
       "\t<tr><td>2340255            </td><td>DISP_CONN          </td><td>2016-12-20 18:06:18</td></tr>\n",
       "\t<tr><td>2340259            </td><td>DISP_ANS           </td><td>2016-12-20 18:04:25</td></tr>\n",
       "\t<tr><td>2340260            </td><td>DISP_ANS           </td><td>2016-12-20 18:05:49</td></tr>\n",
       "\t<tr><td>2340275            </td><td>DISP_CONN          </td><td>2016-12-20 18:08:00</td></tr>\n",
       "</tbody>\n",
       "</table>\n"
      ],
      "text/latex": [
       "\\begin{tabular}{r|lll}\n",
       " CALLID & ACTIVITY & TIMESTAMP\\\\\n",
       "\\hline\n",
       "\t 2340247             & DISP\\_ANS          & 2016-12-20 17:54:52\\\\\n",
       "\t 2340254             & DISP\\_ANS          & 2016-12-20 18:04:59\\\\\n",
       "\t 2340255             & DISP\\_CONN         & 2016-12-20 18:06:18\\\\\n",
       "\t 2340259             & DISP\\_ANS          & 2016-12-20 18:04:25\\\\\n",
       "\t 2340260             & DISP\\_ANS          & 2016-12-20 18:05:49\\\\\n",
       "\t 2340275             & DISP\\_CONN         & 2016-12-20 18:08:00\\\\\n",
       "\\end{tabular}\n"
      ],
      "text/markdown": [
       "\n",
       "CALLID | ACTIVITY | TIMESTAMP | \n",
       "|---|---|---|---|---|---|\n",
       "| 2340247             | DISP_ANS            | 2016-12-20 17:54:52 | \n",
       "| 2340254             | DISP_ANS            | 2016-12-20 18:04:59 | \n",
       "| 2340255             | DISP_CONN           | 2016-12-20 18:06:18 | \n",
       "| 2340259             | DISP_ANS            | 2016-12-20 18:04:25 | \n",
       "| 2340260             | DISP_ANS            | 2016-12-20 18:05:49 | \n",
       "| 2340275             | DISP_CONN           | 2016-12-20 18:08:00 | \n",
       "\n",
       "\n"
      ],
      "text/plain": [
       "  CALLID  ACTIVITY  TIMESTAMP          \n",
       "1 2340247 DISP_ANS  2016-12-20 17:54:52\n",
       "2 2340254 DISP_ANS  2016-12-20 18:04:59\n",
       "3 2340255 DISP_CONN 2016-12-20 18:06:18\n",
       "4 2340259 DISP_ANS  2016-12-20 18:04:25\n",
       "5 2340260 DISP_ANS  2016-12-20 18:05:49\n",
       "6 2340275 DISP_CONN 2016-12-20 18:08:00"
      ]
     },
     "metadata": {},
     "output_type": "display_data"
    }
   ],
   "source": [
    "meltdisp$ACTIVITY <- meltdisp$DISPNAME\n",
    "meltdisp <- select(meltdisp, -CALL_DISP, -DISPNAME)\n",
    "head(meltdisp)"
   ]
  },
  {
   "cell_type": "code",
   "execution_count": 61,
   "metadata": {},
   "outputs": [
    {
     "data": {
      "text/plain": [
       "\n",
       "     ACWTIME  ANSHOLDTIME  CONSULTTIME     DISPTIME SEGSTART_UTC  SEGSTOP_UTC \n",
       "      873736       873736       873736            0       873736       873736 \n",
       "    TALKTIME    QUEUETIME     RINGTIME \n",
       "      873736       873736       873736 "
      ]
     },
     "metadata": {},
     "output_type": "display_data"
    }
   ],
   "source": [
    "actmelt2 <- actmelt[actmelt$ACTIVITY != \"DISPTIME\", ]\n",
    "table(actmelt2$ACTIVITY)"
   ]
  },
  {
   "cell_type": "code",
   "execution_count": 62,
   "metadata": {},
   "outputs": [
    {
     "name": "stdout",
     "output_type": "stream",
     "text": [
      "'data.frame':\t7863624 obs. of  3 variables:\n",
      " $ CALLID   : chr  \"2340247\" \"2340254\" \"2340255\" \"2340259\" ...\n",
      " $ ACTIVITY : chr  \"DISP_ANS\" \"DISP_ANS\" \"DISP_CONN\" \"DISP_ANS\" ...\n",
      " $ TIMESTAMP: chr  \"2016-12-20 17:54:52\" \"2016-12-20 18:04:59\" \"2016-12-20 18:06:18\" \"2016-12-20 18:04:25\" ...\n"
     ]
    }
   ],
   "source": [
    "actmelt2 <- rbind(meltdisp, actmelt2)\n",
    "str(actmelt2)"
   ]
  },
  {
   "cell_type": "code",
   "execution_count": 64,
   "metadata": {},
   "outputs": [
    {
     "data": {
      "text/plain": [
       "\n",
       "     ACWTIME  ANSHOLDTIME  CONSULTTIME    DISP_ABAN     DISP_ANS    DISP_CONN \n",
       "      873736       873736       873736       119851       205012       478671 \n",
       "  DISP_FDISC   DISP_OTHER    QUEUETIME     RINGTIME SEGSTART_UTC  SEGSTOP_UTC \n",
       "        4987        65215       873736       873736       873736       873736 \n",
       "    TALKTIME \n",
       "      873736 "
      ]
     },
     "metadata": {},
     "output_type": "display_data"
    }
   ],
   "source": [
    "table(actmelt2$ACTIVITY)"
   ]
  },
  {
   "cell_type": "code",
   "execution_count": 65,
   "metadata": {},
   "outputs": [],
   "source": [
    "write.csv(actmelt2, file = \"hansol3.csv\", row.names = FALSE)"
   ]
  },
  {
   "cell_type": "markdown",
   "metadata": {},
   "source": [
    "## 6. START, STOP을 날려보자"
   ]
  },
  {
   "cell_type": "code",
   "execution_count": 66,
   "metadata": {},
   "outputs": [
    {
     "data": {
      "text/plain": [
       "\n",
       "    ACWTIME ANSHOLDTIME CONSULTTIME   DISP_ABAN    DISP_ANS   DISP_CONN \n",
       "     873736      873736      873736      119851      205012      478671 \n",
       " DISP_FDISC  DISP_OTHER   QUEUETIME    RINGTIME    TALKTIME \n",
       "       4987       65215      873736      873736      873736 "
      ]
     },
     "metadata": {},
     "output_type": "display_data"
    }
   ],
   "source": [
    "actmelt3 <- actmelt2[actmelt2$ACTIVITY != \"SEGSTART_UTC\", ]\n",
    "actmelt3 <- actmelt3[actmelt3$ACTIVITY != \"SEGSTOP_UTC\", ]\n",
    "table(actmelt3$ACTIVITY)"
   ]
  },
  {
   "cell_type": "code",
   "execution_count": 67,
   "metadata": {},
   "outputs": [],
   "source": [
    "write.csv(actmelt3, file = \"hansol4.csv\", row.names = FALSE)"
   ]
  },
  {
   "cell_type": "markdown",
   "metadata": {},
   "source": [
    "## 7. 상담원 ID를 넣어보자"
   ]
  },
  {
   "cell_type": "code",
   "execution_count": 69,
   "metadata": {},
   "outputs": [
    {
     "data": {
      "text/html": [
       "<table>\n",
       "<thead><tr><th></th><th scope=col>CALLID</th><th scope=col>ORIGLOGIN</th><th scope=col>ANSLOGIN</th></tr></thead>\n",
       "<tbody>\n",
       "\t<tr><th scope=row>6</th><td>2340247</td><td>    NA </td><td>200508 </td></tr>\n",
       "\t<tr><th scope=row>16</th><td>2340254</td><td>    NA </td><td>200591 </td></tr>\n",
       "\t<tr><th scope=row>18</th><td>2340255</td><td>200431 </td><td>    NA </td></tr>\n",
       "\t<tr><th scope=row>23</th><td>2340259</td><td>    NA </td><td>200331 </td></tr>\n",
       "\t<tr><th scope=row>26</th><td>2340260</td><td>    NA </td><td>200116 </td></tr>\n",
       "\t<tr><th scope=row>42</th><td>2340275</td><td>200352 </td><td>    NA </td></tr>\n",
       "\t<tr><th scope=row>46</th><td>2340278</td><td>200119 </td><td>    NA </td></tr>\n",
       "\t<tr><th scope=row>50</th><td>2340197</td><td>    NA </td><td>200312 </td></tr>\n",
       "\t<tr><th scope=row>53</th><td>2340199</td><td>    NA </td><td>200118 </td></tr>\n",
       "\t<tr><th scope=row>56</th><td>2340201</td><td>    NA </td><td>200119 </td></tr>\n",
       "\t<tr><th scope=row>62</th><td>2340204</td><td>200124 </td><td>    NA </td></tr>\n",
       "\t<tr><th scope=row>66</th><td>2340207</td><td>200334 </td><td>    NA </td></tr>\n",
       "\t<tr><th scope=row>79</th><td>2340219</td><td>    NA </td><td>200116 </td></tr>\n",
       "\t<tr><th scope=row>81</th><td>2340220</td><td>200333 </td><td>    NA </td></tr>\n",
       "\t<tr><th scope=row>87</th><td>2340225</td><td>200587 </td><td>    NA </td></tr>\n",
       "\t<tr><th scope=row>90</th><td>2340227</td><td>200117 </td><td>    NA </td></tr>\n",
       "\t<tr><th scope=row>99</th><td>2340233</td><td>200431 </td><td>    NA </td></tr>\n",
       "\t<tr><th scope=row>101</th><td>2340234</td><td>200120 </td><td>    NA </td></tr>\n",
       "\t<tr><th scope=row>104</th><td>2340235</td><td>200331 </td><td>    NA </td></tr>\n",
       "\t<tr><th scope=row>107</th><td>2340236</td><td>    NA </td><td>200123 </td></tr>\n",
       "</tbody>\n",
       "</table>\n"
      ],
      "text/latex": [
       "\\begin{tabular}{r|lll}\n",
       "  & CALLID & ORIGLOGIN & ANSLOGIN\\\\\n",
       "\\hline\n",
       "\t6 & 2340247 &     NA  & 200508 \\\\\n",
       "\t16 & 2340254 &     NA  & 200591 \\\\\n",
       "\t18 & 2340255 & 200431  &     NA \\\\\n",
       "\t23 & 2340259 &     NA  & 200331 \\\\\n",
       "\t26 & 2340260 &     NA  & 200116 \\\\\n",
       "\t42 & 2340275 & 200352  &     NA \\\\\n",
       "\t46 & 2340278 & 200119  &     NA \\\\\n",
       "\t50 & 2340197 &     NA  & 200312 \\\\\n",
       "\t53 & 2340199 &     NA  & 200118 \\\\\n",
       "\t56 & 2340201 &     NA  & 200119 \\\\\n",
       "\t62 & 2340204 & 200124  &     NA \\\\\n",
       "\t66 & 2340207 & 200334  &     NA \\\\\n",
       "\t79 & 2340219 &     NA  & 200116 \\\\\n",
       "\t81 & 2340220 & 200333  &     NA \\\\\n",
       "\t87 & 2340225 & 200587  &     NA \\\\\n",
       "\t90 & 2340227 & 200117  &     NA \\\\\n",
       "\t99 & 2340233 & 200431  &     NA \\\\\n",
       "\t101 & 2340234 & 200120  &     NA \\\\\n",
       "\t104 & 2340235 & 200331  &     NA \\\\\n",
       "\t107 & 2340236 &     NA  & 200123 \\\\\n",
       "\\end{tabular}\n"
      ],
      "text/markdown": [
       "\n",
       "| <!--/--> | CALLID | ORIGLOGIN | ANSLOGIN | \n",
       "|---|---|---|---|---|---|---|---|---|---|---|---|---|---|---|---|---|---|---|---|\n",
       "| 6 | 2340247 |     NA  | 200508  | \n",
       "| 16 | 2340254 |     NA  | 200591  | \n",
       "| 18 | 2340255 | 200431  |     NA  | \n",
       "| 23 | 2340259 |     NA  | 200331  | \n",
       "| 26 | 2340260 |     NA  | 200116  | \n",
       "| 42 | 2340275 | 200352  |     NA  | \n",
       "| 46 | 2340278 | 200119  |     NA  | \n",
       "| 50 | 2340197 |     NA  | 200312  | \n",
       "| 53 | 2340199 |     NA  | 200118  | \n",
       "| 56 | 2340201 |     NA  | 200119  | \n",
       "| 62 | 2340204 | 200124  |     NA  | \n",
       "| 66 | 2340207 | 200334  |     NA  | \n",
       "| 79 | 2340219 |     NA  | 200116  | \n",
       "| 81 | 2340220 | 200333  |     NA  | \n",
       "| 87 | 2340225 | 200587  |     NA  | \n",
       "| 90 | 2340227 | 200117  |     NA  | \n",
       "| 99 | 2340233 | 200431  |     NA  | \n",
       "| 101 | 2340234 | 200120  |     NA  | \n",
       "| 104 | 2340235 | 200331  |     NA  | \n",
       "| 107 | 2340236 |     NA  | 200123  | \n",
       "\n",
       "\n"
      ],
      "text/plain": [
       "    CALLID  ORIGLOGIN ANSLOGIN\n",
       "6   2340247     NA    200508  \n",
       "16  2340254     NA    200591  \n",
       "18  2340255 200431        NA  \n",
       "23  2340259     NA    200331  \n",
       "26  2340260     NA    200116  \n",
       "42  2340275 200352        NA  \n",
       "46  2340278 200119        NA  \n",
       "50  2340197     NA    200312  \n",
       "53  2340199     NA    200118  \n",
       "56  2340201     NA    200119  \n",
       "62  2340204 200124        NA  \n",
       "66  2340207 200334        NA  \n",
       "79  2340219     NA    200116  \n",
       "81  2340220 200333        NA  \n",
       "87  2340225 200587        NA  \n",
       "90  2340227 200117        NA  \n",
       "99  2340233 200431        NA  \n",
       "101 2340234 200120        NA  \n",
       "104 2340235 200331        NA  \n",
       "107 2340236     NA    200123  "
      ]
     },
     "metadata": {},
     "output_type": "display_data"
    }
   ],
   "source": [
    "marketer <- select(hansol8, CALLID, ORIGLOGIN, ANSLOGIN)\n",
    "head(marketer, 20)"
   ]
  },
  {
   "cell_type": "code",
   "execution_count": 70,
   "metadata": {},
   "outputs": [
    {
     "data": {
      "text/plain": [
       "\n",
       " FALSE   TRUE \n",
       "121554 752182 "
      ]
     },
     "metadata": {},
     "output_type": "display_data"
    },
    {
     "data": {
      "text/plain": [
       "\n",
       " FALSE   TRUE \n",
       "205218 668518 "
      ]
     },
     "metadata": {},
     "output_type": "display_data"
    }
   ],
   "source": [
    "table(is.na(marketer$ORIGLOGIN) == TRUE)\n",
    "table(is.na(marketer$ANSLOGIN) == TRUE)"
   ]
  },
  {
   "cell_type": "code",
   "execution_count": 71,
   "metadata": {},
   "outputs": [
    {
     "data": {
      "text/plain": [
       "\n",
       " FALSE   TRUE \n",
       "326744 546992 "
      ]
     },
     "metadata": {},
     "output_type": "display_data"
    }
   ],
   "source": [
    "marketer$LOGID <- ifelse(is.na(marketer$ORIGLOGIN) == TRUE, marketer$ANSLOGIN, marketer$ORIGLOGIN)\n",
    "table(is.na(marketer$LOGID) == TRUE)"
   ]
  },
  {
   "cell_type": "code",
   "execution_count": 72,
   "metadata": {},
   "outputs": [
    {
     "data": {
      "text/html": [
       "<table>\n",
       "<thead><tr><th scope=col>CALLID</th><th scope=col>ACTIVITY</th><th scope=col>TIMESTAMP</th></tr></thead>\n",
       "<tbody>\n",
       "\t<tr><td>2340247            </td><td>DISP_ANS           </td><td>2016-12-20 17:54:52</td></tr>\n",
       "\t<tr><td>2340254            </td><td>DISP_ANS           </td><td>2016-12-20 18:04:59</td></tr>\n",
       "\t<tr><td>2340255            </td><td>DISP_CONN          </td><td>2016-12-20 18:06:18</td></tr>\n",
       "\t<tr><td>2340259            </td><td>DISP_ANS           </td><td>2016-12-20 18:04:25</td></tr>\n",
       "\t<tr><td>2340260            </td><td>DISP_ANS           </td><td>2016-12-20 18:05:49</td></tr>\n",
       "\t<tr><td>2340275            </td><td>DISP_CONN          </td><td>2016-12-20 18:08:00</td></tr>\n",
       "</tbody>\n",
       "</table>\n"
      ],
      "text/latex": [
       "\\begin{tabular}{r|lll}\n",
       " CALLID & ACTIVITY & TIMESTAMP\\\\\n",
       "\\hline\n",
       "\t 2340247             & DISP\\_ANS          & 2016-12-20 17:54:52\\\\\n",
       "\t 2340254             & DISP\\_ANS          & 2016-12-20 18:04:59\\\\\n",
       "\t 2340255             & DISP\\_CONN         & 2016-12-20 18:06:18\\\\\n",
       "\t 2340259             & DISP\\_ANS          & 2016-12-20 18:04:25\\\\\n",
       "\t 2340260             & DISP\\_ANS          & 2016-12-20 18:05:49\\\\\n",
       "\t 2340275             & DISP\\_CONN         & 2016-12-20 18:08:00\\\\\n",
       "\\end{tabular}\n"
      ],
      "text/markdown": [
       "\n",
       "CALLID | ACTIVITY | TIMESTAMP | \n",
       "|---|---|---|---|---|---|\n",
       "| 2340247             | DISP_ANS            | 2016-12-20 17:54:52 | \n",
       "| 2340254             | DISP_ANS            | 2016-12-20 18:04:59 | \n",
       "| 2340255             | DISP_CONN           | 2016-12-20 18:06:18 | \n",
       "| 2340259             | DISP_ANS            | 2016-12-20 18:04:25 | \n",
       "| 2340260             | DISP_ANS            | 2016-12-20 18:05:49 | \n",
       "| 2340275             | DISP_CONN           | 2016-12-20 18:08:00 | \n",
       "\n",
       "\n"
      ],
      "text/plain": [
       "  CALLID  ACTIVITY  TIMESTAMP          \n",
       "1 2340247 DISP_ANS  2016-12-20 17:54:52\n",
       "2 2340254 DISP_ANS  2016-12-20 18:04:59\n",
       "3 2340255 DISP_CONN 2016-12-20 18:06:18\n",
       "4 2340259 DISP_ANS  2016-12-20 18:04:25\n",
       "5 2340260 DISP_ANS  2016-12-20 18:05:49\n",
       "6 2340275 DISP_CONN 2016-12-20 18:08:00"
      ]
     },
     "metadata": {},
     "output_type": "display_data"
    }
   ],
   "source": [
    "head(actmelt3)"
   ]
  },
  {
   "cell_type": "code",
   "execution_count": 73,
   "metadata": {},
   "outputs": [
    {
     "data": {
      "text/html": [
       "<table>\n",
       "<thead><tr><th scope=col>CALLID</th><th scope=col>ACTIVITY</th><th scope=col>TIMESTAMP</th><th scope=col>ORIGLOGIN</th><th scope=col>ANSLOGIN</th><th scope=col>LOGID</th></tr></thead>\n",
       "<tbody>\n",
       "\t<tr><td>2340247            </td><td>DISP_ANS           </td><td>2016-12-20 17:54:52</td><td>    NA             </td><td>200508             </td><td>200508             </td></tr>\n",
       "\t<tr><td>2340254            </td><td>DISP_ANS           </td><td>2016-12-20 18:04:59</td><td>    NA             </td><td>200591             </td><td>200591             </td></tr>\n",
       "\t<tr><td>2340255            </td><td>DISP_CONN          </td><td>2016-12-20 18:06:18</td><td>200431             </td><td>    NA             </td><td>200431             </td></tr>\n",
       "\t<tr><td>2340259            </td><td>DISP_ANS           </td><td>2016-12-20 18:04:25</td><td>    NA             </td><td>200331             </td><td>200331             </td></tr>\n",
       "\t<tr><td>2340260            </td><td>DISP_ANS           </td><td>2016-12-20 18:05:49</td><td>    NA             </td><td>200116             </td><td>200116             </td></tr>\n",
       "\t<tr><td>2340275            </td><td>DISP_CONN          </td><td>2016-12-20 18:08:00</td><td>200352             </td><td>    NA             </td><td>200352             </td></tr>\n",
       "</tbody>\n",
       "</table>\n"
      ],
      "text/latex": [
       "\\begin{tabular}{r|llllll}\n",
       " CALLID & ACTIVITY & TIMESTAMP & ORIGLOGIN & ANSLOGIN & LOGID\\\\\n",
       "\\hline\n",
       "\t 2340247             & DISP\\_ANS          & 2016-12-20 17:54:52 &     NA              & 200508              & 200508             \\\\\n",
       "\t 2340254             & DISP\\_ANS          & 2016-12-20 18:04:59 &     NA              & 200591              & 200591             \\\\\n",
       "\t 2340255             & DISP\\_CONN         & 2016-12-20 18:06:18 & 200431              &     NA              & 200431             \\\\\n",
       "\t 2340259             & DISP\\_ANS          & 2016-12-20 18:04:25 &     NA              & 200331              & 200331             \\\\\n",
       "\t 2340260             & DISP\\_ANS          & 2016-12-20 18:05:49 &     NA              & 200116              & 200116             \\\\\n",
       "\t 2340275             & DISP\\_CONN         & 2016-12-20 18:08:00 & 200352              &     NA              & 200352             \\\\\n",
       "\\end{tabular}\n"
      ],
      "text/markdown": [
       "\n",
       "CALLID | ACTIVITY | TIMESTAMP | ORIGLOGIN | ANSLOGIN | LOGID | \n",
       "|---|---|---|---|---|---|\n",
       "| 2340247             | DISP_ANS            | 2016-12-20 17:54:52 |     NA              | 200508              | 200508              | \n",
       "| 2340254             | DISP_ANS            | 2016-12-20 18:04:59 |     NA              | 200591              | 200591              | \n",
       "| 2340255             | DISP_CONN           | 2016-12-20 18:06:18 | 200431              |     NA              | 200431              | \n",
       "| 2340259             | DISP_ANS            | 2016-12-20 18:04:25 |     NA              | 200331              | 200331              | \n",
       "| 2340260             | DISP_ANS            | 2016-12-20 18:05:49 |     NA              | 200116              | 200116              | \n",
       "| 2340275             | DISP_CONN           | 2016-12-20 18:08:00 | 200352              |     NA              | 200352              | \n",
       "\n",
       "\n"
      ],
      "text/plain": [
       "  CALLID  ACTIVITY  TIMESTAMP           ORIGLOGIN ANSLOGIN LOGID \n",
       "1 2340247 DISP_ANS  2016-12-20 17:54:52     NA    200508   200508\n",
       "2 2340254 DISP_ANS  2016-12-20 18:04:59     NA    200591   200591\n",
       "3 2340255 DISP_CONN 2016-12-20 18:06:18 200431        NA   200431\n",
       "4 2340259 DISP_ANS  2016-12-20 18:04:25     NA    200331   200331\n",
       "5 2340260 DISP_ANS  2016-12-20 18:05:49     NA    200116   200116\n",
       "6 2340275 DISP_CONN 2016-12-20 18:08:00 200352        NA   200352"
      ]
     },
     "metadata": {},
     "output_type": "display_data"
    }
   ],
   "source": [
    "marketer$CALLID <- as.character(marketer$CALLID)\n",
    "actmelt4 <- left_join(actmelt3, marketer, by = c(\"CALLID\" = \"CALLID\"))\n",
    "head(actmelt4)"
   ]
  },
  {
   "cell_type": "markdown",
   "metadata": {},
   "source": [
    "## 8. LOCID를 넣어보자"
   ]
  },
  {
   "cell_type": "code",
   "execution_count": 74,
   "metadata": {},
   "outputs": [
    {
     "data": {
      "text/html": [
       "<table>\n",
       "<thead><tr><th></th><th scope=col>CALLID</th><th scope=col>EQ_LOCID</th><th scope=col>ORIG_LOCID</th><th scope=col>ANS_LOCID</th><th scope=col>OBS_LOCID</th></tr></thead>\n",
       "<tbody>\n",
       "\t<tr><th scope=row>6</th><td>2340247</td><td>1      </td><td> 0     </td><td>11     </td><td>0      </td></tr>\n",
       "\t<tr><th scope=row>16</th><td>2340254</td><td>0      </td><td> 0     </td><td>11     </td><td>0      </td></tr>\n",
       "\t<tr><th scope=row>18</th><td>2340255</td><td>0      </td><td>11     </td><td> 0     </td><td>0      </td></tr>\n",
       "\t<tr><th scope=row>23</th><td>2340259</td><td>0      </td><td> 0     </td><td>11     </td><td>0      </td></tr>\n",
       "\t<tr><th scope=row>26</th><td>2340260</td><td>0      </td><td> 0     </td><td>11     </td><td>0      </td></tr>\n",
       "\t<tr><th scope=row>42</th><td>2340275</td><td>0      </td><td>11     </td><td> 0     </td><td>0      </td></tr>\n",
       "</tbody>\n",
       "</table>\n"
      ],
      "text/latex": [
       "\\begin{tabular}{r|lllll}\n",
       "  & CALLID & EQ\\_LOCID & ORIG\\_LOCID & ANS\\_LOCID & OBS\\_LOCID\\\\\n",
       "\\hline\n",
       "\t6 & 2340247 & 1       &  0      & 11      & 0      \\\\\n",
       "\t16 & 2340254 & 0       &  0      & 11      & 0      \\\\\n",
       "\t18 & 2340255 & 0       & 11      &  0      & 0      \\\\\n",
       "\t23 & 2340259 & 0       &  0      & 11      & 0      \\\\\n",
       "\t26 & 2340260 & 0       &  0      & 11      & 0      \\\\\n",
       "\t42 & 2340275 & 0       & 11      &  0      & 0      \\\\\n",
       "\\end{tabular}\n"
      ],
      "text/markdown": [
       "\n",
       "| <!--/--> | CALLID | EQ_LOCID | ORIG_LOCID | ANS_LOCID | OBS_LOCID | \n",
       "|---|---|---|---|---|---|\n",
       "| 6 | 2340247 | 1       |  0      | 11      | 0       | \n",
       "| 16 | 2340254 | 0       |  0      | 11      | 0       | \n",
       "| 18 | 2340255 | 0       | 11      |  0      | 0       | \n",
       "| 23 | 2340259 | 0       |  0      | 11      | 0       | \n",
       "| 26 | 2340260 | 0       |  0      | 11      | 0       | \n",
       "| 42 | 2340275 | 0       | 11      |  0      | 0       | \n",
       "\n",
       "\n"
      ],
      "text/plain": [
       "   CALLID  EQ_LOCID ORIG_LOCID ANS_LOCID OBS_LOCID\n",
       "6  2340247 1         0         11        0        \n",
       "16 2340254 0         0         11        0        \n",
       "18 2340255 0        11          0        0        \n",
       "23 2340259 0         0         11        0        \n",
       "26 2340260 0         0         11        0        \n",
       "42 2340275 0        11          0        0        "
      ]
     },
     "metadata": {},
     "output_type": "display_data"
    }
   ],
   "source": [
    "locid <- select(hansol8, CALLID, EQ_LOCID, ORIG_LOCID, ANS_LOCID, OBS_LOCID)\n",
    "head(locid)"
   ]
  },
  {
   "cell_type": "code",
   "execution_count": 75,
   "metadata": {},
   "outputs": [
    {
     "data": {
      "text/plain": [
       "\n",
       " FALSE   TRUE \n",
       "373050 500686 "
      ]
     },
     "metadata": {},
     "output_type": "display_data"
    },
    {
     "data": {
      "text/plain": [
       "\n",
       " FALSE   TRUE \n",
       "121554 752182 "
      ]
     },
     "metadata": {},
     "output_type": "display_data"
    },
    {
     "data": {
      "text/plain": [
       "\n",
       " FALSE   TRUE \n",
       "205218 668518 "
      ]
     },
     "metadata": {},
     "output_type": "display_data"
    },
    {
     "data": {
      "text/plain": [
       "\n",
       " FALSE   TRUE \n",
       "    43 873693 "
      ]
     },
     "metadata": {},
     "output_type": "display_data"
    }
   ],
   "source": [
    "table(locid$EQ_LOCID == 0)\n",
    "table(locid$ORIG_LOCID == 0)\n",
    "table(locid$ANS_LOCID == 0)\n",
    "table(locid$OBS_LOCID == 0)"
   ]
  },
  {
   "cell_type": "code",
   "execution_count": 61,
   "metadata": {},
   "outputs": [],
   "source": [
    "## NULL이 너무 많아서 의미가 없을 것 같음"
   ]
  },
  {
   "cell_type": "markdown",
   "metadata": {},
   "source": [
    "## 9. ~~ 여부를 넣어 보자"
   ]
  },
  {
   "cell_type": "code",
   "execution_count": 76,
   "metadata": {},
   "outputs": [
    {
     "data": {
      "text/html": [
       "<table>\n",
       "<thead><tr><th></th><th scope=col>CALLID</th><th scope=col>UUI_LEN</th><th scope=col>ASSIST</th><th scope=col>AUDIO</th><th scope=col>CONFERENCE</th><th scope=col>DA_QUEUED</th><th scope=col>HOLDABN</th><th scope=col>MALICIOUS</th><th scope=col>OBSERVINGCALL</th><th scope=col>TRANSFERRED</th><th scope=col>AGT_RELEASED</th></tr></thead>\n",
       "<tbody>\n",
       "\t<tr><th scope=row>6</th><td>2340247</td><td>0      </td><td>0      </td><td>0      </td><td>1      </td><td>0      </td><td>1      </td><td>0      </td><td>0      </td><td>0      </td><td>0      </td></tr>\n",
       "\t<tr><th scope=row>16</th><td>2340254</td><td>0      </td><td>0      </td><td>0      </td><td>0      </td><td>0      </td><td>0      </td><td>0      </td><td>0      </td><td>0      </td><td>0      </td></tr>\n",
       "\t<tr><th scope=row>18</th><td>2340255</td><td>0      </td><td>0      </td><td>0      </td><td>0      </td><td>0      </td><td>0      </td><td>0      </td><td>0      </td><td>0      </td><td>0      </td></tr>\n",
       "\t<tr><th scope=row>23</th><td>2340259</td><td>0      </td><td>0      </td><td>0      </td><td>1      </td><td>0      </td><td>0      </td><td>0      </td><td>0      </td><td>0      </td><td>1      </td></tr>\n",
       "\t<tr><th scope=row>26</th><td>2340260</td><td>0      </td><td>0      </td><td>0      </td><td>0      </td><td>0      </td><td>0      </td><td>0      </td><td>0      </td><td>0      </td><td>0      </td></tr>\n",
       "\t<tr><th scope=row>42</th><td>2340275</td><td>0      </td><td>0      </td><td>0      </td><td>0      </td><td>0      </td><td>0      </td><td>0      </td><td>0      </td><td>0      </td><td>0      </td></tr>\n",
       "</tbody>\n",
       "</table>\n"
      ],
      "text/latex": [
       "\\begin{tabular}{r|lllllllllll}\n",
       "  & CALLID & UUI\\_LEN & ASSIST & AUDIO & CONFERENCE & DA\\_QUEUED & HOLDABN & MALICIOUS & OBSERVINGCALL & TRANSFERRED & AGT\\_RELEASED\\\\\n",
       "\\hline\n",
       "\t6 & 2340247 & 0       & 0       & 0       & 1       & 0       & 1       & 0       & 0       & 0       & 0      \\\\\n",
       "\t16 & 2340254 & 0       & 0       & 0       & 0       & 0       & 0       & 0       & 0       & 0       & 0      \\\\\n",
       "\t18 & 2340255 & 0       & 0       & 0       & 0       & 0       & 0       & 0       & 0       & 0       & 0      \\\\\n",
       "\t23 & 2340259 & 0       & 0       & 0       & 1       & 0       & 0       & 0       & 0       & 0       & 1      \\\\\n",
       "\t26 & 2340260 & 0       & 0       & 0       & 0       & 0       & 0       & 0       & 0       & 0       & 0      \\\\\n",
       "\t42 & 2340275 & 0       & 0       & 0       & 0       & 0       & 0       & 0       & 0       & 0       & 0      \\\\\n",
       "\\end{tabular}\n"
      ],
      "text/markdown": [
       "\n",
       "| <!--/--> | CALLID | UUI_LEN | ASSIST | AUDIO | CONFERENCE | DA_QUEUED | HOLDABN | MALICIOUS | OBSERVINGCALL | TRANSFERRED | AGT_RELEASED | \n",
       "|---|---|---|---|---|---|\n",
       "| 6 | 2340247 | 0       | 0       | 0       | 1       | 0       | 1       | 0       | 0       | 0       | 0       | \n",
       "| 16 | 2340254 | 0       | 0       | 0       | 0       | 0       | 0       | 0       | 0       | 0       | 0       | \n",
       "| 18 | 2340255 | 0       | 0       | 0       | 0       | 0       | 0       | 0       | 0       | 0       | 0       | \n",
       "| 23 | 2340259 | 0       | 0       | 0       | 1       | 0       | 0       | 0       | 0       | 0       | 1       | \n",
       "| 26 | 2340260 | 0       | 0       | 0       | 0       | 0       | 0       | 0       | 0       | 0       | 0       | \n",
       "| 42 | 2340275 | 0       | 0       | 0       | 0       | 0       | 0       | 0       | 0       | 0       | 0       | \n",
       "\n",
       "\n"
      ],
      "text/plain": [
       "   CALLID  UUI_LEN ASSIST AUDIO CONFERENCE DA_QUEUED HOLDABN MALICIOUS\n",
       "6  2340247 0       0      0     1          0         1       0        \n",
       "16 2340254 0       0      0     0          0         0       0        \n",
       "18 2340255 0       0      0     0          0         0       0        \n",
       "23 2340259 0       0      0     1          0         0       0        \n",
       "26 2340260 0       0      0     0          0         0       0        \n",
       "42 2340275 0       0      0     0          0         0       0        \n",
       "   OBSERVINGCALL TRANSFERRED AGT_RELEASED\n",
       "6  0             0           0           \n",
       "16 0             0           0           \n",
       "18 0             0           0           \n",
       "23 0             0           1           \n",
       "26 0             0           0           \n",
       "42 0             0           0           "
      ]
     },
     "metadata": {},
     "output_type": "display_data"
    }
   ],
   "source": [
    "flag <- select(hansol8, CALLID, UUI_LEN, ASSIST, AUDIO, CONFERENCE, DA_QUEUED, HOLDABN, MALICIOUS, OBSERVINGCALL, TRANSFERRED, AGT_RELEASED)\n",
    "head(flag)"
   ]
  },
  {
   "cell_type": "code",
   "execution_count": 77,
   "metadata": {},
   "outputs": [
    {
     "data": {
      "text/html": [
       "<table>\n",
       "<thead><tr><th scope=col>CALLID</th><th scope=col>ACTIVITY</th><th scope=col>TIMESTAMP</th><th scope=col>ORIGLOGIN</th><th scope=col>ANSLOGIN</th><th scope=col>LOGID</th><th scope=col>UUI_LEN</th><th scope=col>ASSIST</th><th scope=col>AUDIO</th><th scope=col>CONFERENCE</th><th scope=col>DA_QUEUED</th><th scope=col>HOLDABN</th><th scope=col>MALICIOUS</th><th scope=col>OBSERVINGCALL</th><th scope=col>TRANSFERRED</th><th scope=col>AGT_RELEASED</th></tr></thead>\n",
       "<tbody>\n",
       "\t<tr><td>2340247            </td><td>DISP_ANS           </td><td>2016-12-20 17:54:52</td><td>    NA             </td><td>200508             </td><td>200508             </td><td>0                  </td><td>0                  </td><td>0                  </td><td>1                  </td><td>0                  </td><td>1                  </td><td>0                  </td><td>0                  </td><td>0                  </td><td>0                  </td></tr>\n",
       "\t<tr><td>2340254            </td><td>DISP_ANS           </td><td>2016-12-20 18:04:59</td><td>    NA             </td><td>200591             </td><td>200591             </td><td>0                  </td><td>0                  </td><td>0                  </td><td>0                  </td><td>0                  </td><td>0                  </td><td>0                  </td><td>0                  </td><td>0                  </td><td>0                  </td></tr>\n",
       "\t<tr><td>2340255            </td><td>DISP_CONN          </td><td>2016-12-20 18:06:18</td><td>200431             </td><td>    NA             </td><td>200431             </td><td>0                  </td><td>0                  </td><td>0                  </td><td>0                  </td><td>0                  </td><td>0                  </td><td>0                  </td><td>0                  </td><td>0                  </td><td>0                  </td></tr>\n",
       "\t<tr><td>2340259            </td><td>DISP_ANS           </td><td>2016-12-20 18:04:25</td><td>    NA             </td><td>200331             </td><td>200331             </td><td>0                  </td><td>0                  </td><td>0                  </td><td>1                  </td><td>0                  </td><td>0                  </td><td>0                  </td><td>0                  </td><td>0                  </td><td>1                  </td></tr>\n",
       "\t<tr><td>2340260            </td><td>DISP_ANS           </td><td>2016-12-20 18:05:49</td><td>    NA             </td><td>200116             </td><td>200116             </td><td>0                  </td><td>0                  </td><td>0                  </td><td>0                  </td><td>0                  </td><td>0                  </td><td>0                  </td><td>0                  </td><td>0                  </td><td>0                  </td></tr>\n",
       "\t<tr><td>2340275            </td><td>DISP_CONN          </td><td>2016-12-20 18:08:00</td><td>200352             </td><td>    NA             </td><td>200352             </td><td>0                  </td><td>0                  </td><td>0                  </td><td>0                  </td><td>0                  </td><td>0                  </td><td>0                  </td><td>0                  </td><td>0                  </td><td>0                  </td></tr>\n",
       "</tbody>\n",
       "</table>\n"
      ],
      "text/latex": [
       "\\begin{tabular}{r|llllllllllllllll}\n",
       " CALLID & ACTIVITY & TIMESTAMP & ORIGLOGIN & ANSLOGIN & LOGID & UUI\\_LEN & ASSIST & AUDIO & CONFERENCE & DA\\_QUEUED & HOLDABN & MALICIOUS & OBSERVINGCALL & TRANSFERRED & AGT\\_RELEASED\\\\\n",
       "\\hline\n",
       "\t 2340247             & DISP\\_ANS          & 2016-12-20 17:54:52 &     NA              & 200508              & 200508              & 0                   & 0                   & 0                   & 1                   & 0                   & 1                   & 0                   & 0                   & 0                   & 0                  \\\\\n",
       "\t 2340254             & DISP\\_ANS          & 2016-12-20 18:04:59 &     NA              & 200591              & 200591              & 0                   & 0                   & 0                   & 0                   & 0                   & 0                   & 0                   & 0                   & 0                   & 0                  \\\\\n",
       "\t 2340255             & DISP\\_CONN         & 2016-12-20 18:06:18 & 200431              &     NA              & 200431              & 0                   & 0                   & 0                   & 0                   & 0                   & 0                   & 0                   & 0                   & 0                   & 0                  \\\\\n",
       "\t 2340259             & DISP\\_ANS          & 2016-12-20 18:04:25 &     NA              & 200331              & 200331              & 0                   & 0                   & 0                   & 1                   & 0                   & 0                   & 0                   & 0                   & 0                   & 1                  \\\\\n",
       "\t 2340260             & DISP\\_ANS          & 2016-12-20 18:05:49 &     NA              & 200116              & 200116              & 0                   & 0                   & 0                   & 0                   & 0                   & 0                   & 0                   & 0                   & 0                   & 0                  \\\\\n",
       "\t 2340275             & DISP\\_CONN         & 2016-12-20 18:08:00 & 200352              &     NA              & 200352              & 0                   & 0                   & 0                   & 0                   & 0                   & 0                   & 0                   & 0                   & 0                   & 0                  \\\\\n",
       "\\end{tabular}\n"
      ],
      "text/markdown": [
       "\n",
       "CALLID | ACTIVITY | TIMESTAMP | ORIGLOGIN | ANSLOGIN | LOGID | UUI_LEN | ASSIST | AUDIO | CONFERENCE | DA_QUEUED | HOLDABN | MALICIOUS | OBSERVINGCALL | TRANSFERRED | AGT_RELEASED | \n",
       "|---|---|---|---|---|---|\n",
       "| 2340247             | DISP_ANS            | 2016-12-20 17:54:52 |     NA              | 200508              | 200508              | 0                   | 0                   | 0                   | 1                   | 0                   | 1                   | 0                   | 0                   | 0                   | 0                   | \n",
       "| 2340254             | DISP_ANS            | 2016-12-20 18:04:59 |     NA              | 200591              | 200591              | 0                   | 0                   | 0                   | 0                   | 0                   | 0                   | 0                   | 0                   | 0                   | 0                   | \n",
       "| 2340255             | DISP_CONN           | 2016-12-20 18:06:18 | 200431              |     NA              | 200431              | 0                   | 0                   | 0                   | 0                   | 0                   | 0                   | 0                   | 0                   | 0                   | 0                   | \n",
       "| 2340259             | DISP_ANS            | 2016-12-20 18:04:25 |     NA              | 200331              | 200331              | 0                   | 0                   | 0                   | 1                   | 0                   | 0                   | 0                   | 0                   | 0                   | 1                   | \n",
       "| 2340260             | DISP_ANS            | 2016-12-20 18:05:49 |     NA              | 200116              | 200116              | 0                   | 0                   | 0                   | 0                   | 0                   | 0                   | 0                   | 0                   | 0                   | 0                   | \n",
       "| 2340275             | DISP_CONN           | 2016-12-20 18:08:00 | 200352              |     NA              | 200352              | 0                   | 0                   | 0                   | 0                   | 0                   | 0                   | 0                   | 0                   | 0                   | 0                   | \n",
       "\n",
       "\n"
      ],
      "text/plain": [
       "  CALLID  ACTIVITY  TIMESTAMP           ORIGLOGIN ANSLOGIN LOGID  UUI_LEN\n",
       "1 2340247 DISP_ANS  2016-12-20 17:54:52     NA    200508   200508 0      \n",
       "2 2340254 DISP_ANS  2016-12-20 18:04:59     NA    200591   200591 0      \n",
       "3 2340255 DISP_CONN 2016-12-20 18:06:18 200431        NA   200431 0      \n",
       "4 2340259 DISP_ANS  2016-12-20 18:04:25     NA    200331   200331 0      \n",
       "5 2340260 DISP_ANS  2016-12-20 18:05:49     NA    200116   200116 0      \n",
       "6 2340275 DISP_CONN 2016-12-20 18:08:00 200352        NA   200352 0      \n",
       "  ASSIST AUDIO CONFERENCE DA_QUEUED HOLDABN MALICIOUS OBSERVINGCALL TRANSFERRED\n",
       "1 0      0     1          0         1       0         0             0          \n",
       "2 0      0     0          0         0       0         0             0          \n",
       "3 0      0     0          0         0       0         0             0          \n",
       "4 0      0     1          0         0       0         0             0          \n",
       "5 0      0     0          0         0       0         0             0          \n",
       "6 0      0     0          0         0       0         0             0          \n",
       "  AGT_RELEASED\n",
       "1 0           \n",
       "2 0           \n",
       "3 0           \n",
       "4 1           \n",
       "5 0           \n",
       "6 0           "
      ]
     },
     "metadata": {},
     "output_type": "display_data"
    },
    {
     "data": {
      "text/html": [
       "<table>\n",
       "<thead><tr><th scope=col>CALLID</th><th scope=col>ACTIVITY</th><th scope=col>TIMESTAMP</th><th scope=col>ORIGLOGIN</th><th scope=col>ANSLOGIN</th><th scope=col>LOGID</th><th scope=col>ASSIST</th><th scope=col>AUDIO</th><th scope=col>CONFERENCE</th><th scope=col>DA_QUEUED</th><th scope=col>HOLDABN</th><th scope=col>MALICIOUS</th><th scope=col>OBSERVINGCALL</th><th scope=col>TRANSFERRED</th><th scope=col>AGT_RELEASED</th></tr></thead>\n",
       "<tbody>\n",
       "\t<tr><td>2340247            </td><td>DISP_ANS           </td><td>2016-12-20 17:54:52</td><td>    NA             </td><td>200508             </td><td>200508             </td><td>0                  </td><td>0                  </td><td>1                  </td><td>0                  </td><td>1                  </td><td>0                  </td><td>0                  </td><td>0                  </td><td>0                  </td></tr>\n",
       "\t<tr><td>2340254            </td><td>DISP_ANS           </td><td>2016-12-20 18:04:59</td><td>    NA             </td><td>200591             </td><td>200591             </td><td>0                  </td><td>0                  </td><td>0                  </td><td>0                  </td><td>0                  </td><td>0                  </td><td>0                  </td><td>0                  </td><td>0                  </td></tr>\n",
       "\t<tr><td>2340255            </td><td>DISP_CONN          </td><td>2016-12-20 18:06:18</td><td>200431             </td><td>    NA             </td><td>200431             </td><td>0                  </td><td>0                  </td><td>0                  </td><td>0                  </td><td>0                  </td><td>0                  </td><td>0                  </td><td>0                  </td><td>0                  </td></tr>\n",
       "\t<tr><td>2340259            </td><td>DISP_ANS           </td><td>2016-12-20 18:04:25</td><td>    NA             </td><td>200331             </td><td>200331             </td><td>0                  </td><td>0                  </td><td>1                  </td><td>0                  </td><td>0                  </td><td>0                  </td><td>0                  </td><td>0                  </td><td>1                  </td></tr>\n",
       "\t<tr><td>2340260            </td><td>DISP_ANS           </td><td>2016-12-20 18:05:49</td><td>    NA             </td><td>200116             </td><td>200116             </td><td>0                  </td><td>0                  </td><td>0                  </td><td>0                  </td><td>0                  </td><td>0                  </td><td>0                  </td><td>0                  </td><td>0                  </td></tr>\n",
       "\t<tr><td>2340275            </td><td>DISP_CONN          </td><td>2016-12-20 18:08:00</td><td>200352             </td><td>    NA             </td><td>200352             </td><td>0                  </td><td>0                  </td><td>0                  </td><td>0                  </td><td>0                  </td><td>0                  </td><td>0                  </td><td>0                  </td><td>0                  </td></tr>\n",
       "</tbody>\n",
       "</table>\n"
      ],
      "text/latex": [
       "\\begin{tabular}{r|lllllllllllllll}\n",
       " CALLID & ACTIVITY & TIMESTAMP & ORIGLOGIN & ANSLOGIN & LOGID & ASSIST & AUDIO & CONFERENCE & DA\\_QUEUED & HOLDABN & MALICIOUS & OBSERVINGCALL & TRANSFERRED & AGT\\_RELEASED\\\\\n",
       "\\hline\n",
       "\t 2340247             & DISP\\_ANS          & 2016-12-20 17:54:52 &     NA              & 200508              & 200508              & 0                   & 0                   & 1                   & 0                   & 1                   & 0                   & 0                   & 0                   & 0                  \\\\\n",
       "\t 2340254             & DISP\\_ANS          & 2016-12-20 18:04:59 &     NA              & 200591              & 200591              & 0                   & 0                   & 0                   & 0                   & 0                   & 0                   & 0                   & 0                   & 0                  \\\\\n",
       "\t 2340255             & DISP\\_CONN         & 2016-12-20 18:06:18 & 200431              &     NA              & 200431              & 0                   & 0                   & 0                   & 0                   & 0                   & 0                   & 0                   & 0                   & 0                  \\\\\n",
       "\t 2340259             & DISP\\_ANS          & 2016-12-20 18:04:25 &     NA              & 200331              & 200331              & 0                   & 0                   & 1                   & 0                   & 0                   & 0                   & 0                   & 0                   & 1                  \\\\\n",
       "\t 2340260             & DISP\\_ANS          & 2016-12-20 18:05:49 &     NA              & 200116              & 200116              & 0                   & 0                   & 0                   & 0                   & 0                   & 0                   & 0                   & 0                   & 0                  \\\\\n",
       "\t 2340275             & DISP\\_CONN         & 2016-12-20 18:08:00 & 200352              &     NA              & 200352              & 0                   & 0                   & 0                   & 0                   & 0                   & 0                   & 0                   & 0                   & 0                  \\\\\n",
       "\\end{tabular}\n"
      ],
      "text/markdown": [
       "\n",
       "CALLID | ACTIVITY | TIMESTAMP | ORIGLOGIN | ANSLOGIN | LOGID | ASSIST | AUDIO | CONFERENCE | DA_QUEUED | HOLDABN | MALICIOUS | OBSERVINGCALL | TRANSFERRED | AGT_RELEASED | \n",
       "|---|---|---|---|---|---|\n",
       "| 2340247             | DISP_ANS            | 2016-12-20 17:54:52 |     NA              | 200508              | 200508              | 0                   | 0                   | 1                   | 0                   | 1                   | 0                   | 0                   | 0                   | 0                   | \n",
       "| 2340254             | DISP_ANS            | 2016-12-20 18:04:59 |     NA              | 200591              | 200591              | 0                   | 0                   | 0                   | 0                   | 0                   | 0                   | 0                   | 0                   | 0                   | \n",
       "| 2340255             | DISP_CONN           | 2016-12-20 18:06:18 | 200431              |     NA              | 200431              | 0                   | 0                   | 0                   | 0                   | 0                   | 0                   | 0                   | 0                   | 0                   | \n",
       "| 2340259             | DISP_ANS            | 2016-12-20 18:04:25 |     NA              | 200331              | 200331              | 0                   | 0                   | 1                   | 0                   | 0                   | 0                   | 0                   | 0                   | 1                   | \n",
       "| 2340260             | DISP_ANS            | 2016-12-20 18:05:49 |     NA              | 200116              | 200116              | 0                   | 0                   | 0                   | 0                   | 0                   | 0                   | 0                   | 0                   | 0                   | \n",
       "| 2340275             | DISP_CONN           | 2016-12-20 18:08:00 | 200352              |     NA              | 200352              | 0                   | 0                   | 0                   | 0                   | 0                   | 0                   | 0                   | 0                   | 0                   | \n",
       "\n",
       "\n"
      ],
      "text/plain": [
       "  CALLID  ACTIVITY  TIMESTAMP           ORIGLOGIN ANSLOGIN LOGID  ASSIST AUDIO\n",
       "1 2340247 DISP_ANS  2016-12-20 17:54:52     NA    200508   200508 0      0    \n",
       "2 2340254 DISP_ANS  2016-12-20 18:04:59     NA    200591   200591 0      0    \n",
       "3 2340255 DISP_CONN 2016-12-20 18:06:18 200431        NA   200431 0      0    \n",
       "4 2340259 DISP_ANS  2016-12-20 18:04:25     NA    200331   200331 0      0    \n",
       "5 2340260 DISP_ANS  2016-12-20 18:05:49     NA    200116   200116 0      0    \n",
       "6 2340275 DISP_CONN 2016-12-20 18:08:00 200352        NA   200352 0      0    \n",
       "  CONFERENCE DA_QUEUED HOLDABN MALICIOUS OBSERVINGCALL TRANSFERRED AGT_RELEASED\n",
       "1 1          0         1       0         0             0           0           \n",
       "2 0          0         0       0         0             0           0           \n",
       "3 0          0         0       0         0             0           0           \n",
       "4 1          0         0       0         0             0           1           \n",
       "5 0          0         0       0         0             0           0           \n",
       "6 0          0         0       0         0             0           0           "
      ]
     },
     "metadata": {},
     "output_type": "display_data"
    }
   ],
   "source": [
    "flag$CALLID <- as.character(flag$CALLID)\n",
    "actmelt5 <- left_join(actmelt4, flag, by = c(\"CALLID\" = \"CALLID\"))\n",
    "head(actmelt5)\n",
    "\n",
    "actmelt5 <- select(actmelt5, -UUI_LEN)\n",
    "head(actmelt5)"
   ]
  },
  {
   "cell_type": "markdown",
   "metadata": {},
   "source": [
    "## 10. 한국말로 바꿔보자"
   ]
  },
  {
   "cell_type": "code",
   "execution_count": 78,
   "metadata": {},
   "outputs": [],
   "source": [
    "colnames(actmelt5) <- c(\"CALLID\", \"ACTIVITY\", \"TIMESTAMP\", \"발신상담원\", \"응답상담원\", \"발신응답상담원\", \"보조요청여부\", \"난청여부\", \"컨퍼런스여부\", \"직접상담원통화대기여부\", \"보류중포기여부\", \"불량통화추적활성화여부\", \"감청여부\", \"호전환여부\", \"상담원에의한종료여부\")"
   ]
  },
  {
   "cell_type": "code",
   "execution_count": 79,
   "metadata": {},
   "outputs": [
    {
     "data": {
      "text/html": [
       "<table>\n",
       "<thead><tr><th scope=col>CALLID</th><th scope=col>ACTIVITY</th><th scope=col>TIMESTAMP</th><th scope=col>발신상담원</th><th scope=col>응답상담원</th><th scope=col>발신응답상담원</th><th scope=col>보조요청여부</th><th scope=col>난청여부</th><th scope=col>컨퍼런스여부</th><th scope=col>직접상담원통화대기여부</th><th scope=col>보류중포기여부</th><th scope=col>불량통화추적활성화여부</th><th scope=col>감청여부</th><th scope=col>호전환여부</th><th scope=col>상담원에의한종료여부</th></tr></thead>\n",
       "<tbody>\n",
       "\t<tr><td>2340247            </td><td>DISP_ANS           </td><td>2016-12-20 17:54:52</td><td>    NA             </td><td>200508             </td><td>200508             </td><td>0                  </td><td>0                  </td><td>1                  </td><td>0                  </td><td>1                  </td><td>0                  </td><td>0                  </td><td>0                  </td><td>0                  </td></tr>\n",
       "\t<tr><td>2340254            </td><td>DISP_ANS           </td><td>2016-12-20 18:04:59</td><td>    NA             </td><td>200591             </td><td>200591             </td><td>0                  </td><td>0                  </td><td>0                  </td><td>0                  </td><td>0                  </td><td>0                  </td><td>0                  </td><td>0                  </td><td>0                  </td></tr>\n",
       "\t<tr><td>2340255            </td><td>DISP_CONN          </td><td>2016-12-20 18:06:18</td><td>200431             </td><td>    NA             </td><td>200431             </td><td>0                  </td><td>0                  </td><td>0                  </td><td>0                  </td><td>0                  </td><td>0                  </td><td>0                  </td><td>0                  </td><td>0                  </td></tr>\n",
       "\t<tr><td>2340259            </td><td>DISP_ANS           </td><td>2016-12-20 18:04:25</td><td>    NA             </td><td>200331             </td><td>200331             </td><td>0                  </td><td>0                  </td><td>1                  </td><td>0                  </td><td>0                  </td><td>0                  </td><td>0                  </td><td>0                  </td><td>1                  </td></tr>\n",
       "\t<tr><td>2340260            </td><td>DISP_ANS           </td><td>2016-12-20 18:05:49</td><td>    NA             </td><td>200116             </td><td>200116             </td><td>0                  </td><td>0                  </td><td>0                  </td><td>0                  </td><td>0                  </td><td>0                  </td><td>0                  </td><td>0                  </td><td>0                  </td></tr>\n",
       "\t<tr><td>2340275            </td><td>DISP_CONN          </td><td>2016-12-20 18:08:00</td><td>200352             </td><td>    NA             </td><td>200352             </td><td>0                  </td><td>0                  </td><td>0                  </td><td>0                  </td><td>0                  </td><td>0                  </td><td>0                  </td><td>0                  </td><td>0                  </td></tr>\n",
       "</tbody>\n",
       "</table>\n"
      ],
      "text/latex": [
       "\\begin{tabular}{r|lllllllllllllll}\n",
       " CALLID & ACTIVITY & TIMESTAMP & 발신상담원 & 응답상담원 & 발신응답상담원 & 보조요청여부 & 난청여부 & 컨퍼런스여부 & 직접상담원통화대기여부 & 보류중포기여부 & 불량통화추적활성화여부 & 감청여부 & 호전환여부 & 상담원에의한종료여부\\\\\n",
       "\\hline\n",
       "\t 2340247             & DISP\\_ANS          & 2016-12-20 17:54:52 &     NA              & 200508              & 200508              & 0                   & 0                   & 1                   & 0                   & 1                   & 0                   & 0                   & 0                   & 0                  \\\\\n",
       "\t 2340254             & DISP\\_ANS          & 2016-12-20 18:04:59 &     NA              & 200591              & 200591              & 0                   & 0                   & 0                   & 0                   & 0                   & 0                   & 0                   & 0                   & 0                  \\\\\n",
       "\t 2340255             & DISP\\_CONN         & 2016-12-20 18:06:18 & 200431              &     NA              & 200431              & 0                   & 0                   & 0                   & 0                   & 0                   & 0                   & 0                   & 0                   & 0                  \\\\\n",
       "\t 2340259             & DISP\\_ANS          & 2016-12-20 18:04:25 &     NA              & 200331              & 200331              & 0                   & 0                   & 1                   & 0                   & 0                   & 0                   & 0                   & 0                   & 1                  \\\\\n",
       "\t 2340260             & DISP\\_ANS          & 2016-12-20 18:05:49 &     NA              & 200116              & 200116              & 0                   & 0                   & 0                   & 0                   & 0                   & 0                   & 0                   & 0                   & 0                  \\\\\n",
       "\t 2340275             & DISP\\_CONN         & 2016-12-20 18:08:00 & 200352              &     NA              & 200352              & 0                   & 0                   & 0                   & 0                   & 0                   & 0                   & 0                   & 0                   & 0                  \\\\\n",
       "\\end{tabular}\n"
      ],
      "text/markdown": [
       "\n",
       "CALLID | ACTIVITY | TIMESTAMP | 발신상담원 | 응답상담원 | 발신응답상담원 | 보조요청여부 | 난청여부 | 컨퍼런스여부 | 직접상담원통화대기여부 | 보류중포기여부 | 불량통화추적활성화여부 | 감청여부 | 호전환여부 | 상담원에의한종료여부 | \n",
       "|---|---|---|---|---|---|\n",
       "| 2340247             | DISP_ANS            | 2016-12-20 17:54:52 |     NA              | 200508              | 200508              | 0                   | 0                   | 1                   | 0                   | 1                   | 0                   | 0                   | 0                   | 0                   | \n",
       "| 2340254             | DISP_ANS            | 2016-12-20 18:04:59 |     NA              | 200591              | 200591              | 0                   | 0                   | 0                   | 0                   | 0                   | 0                   | 0                   | 0                   | 0                   | \n",
       "| 2340255             | DISP_CONN           | 2016-12-20 18:06:18 | 200431              |     NA              | 200431              | 0                   | 0                   | 0                   | 0                   | 0                   | 0                   | 0                   | 0                   | 0                   | \n",
       "| 2340259             | DISP_ANS            | 2016-12-20 18:04:25 |     NA              | 200331              | 200331              | 0                   | 0                   | 1                   | 0                   | 0                   | 0                   | 0                   | 0                   | 1                   | \n",
       "| 2340260             | DISP_ANS            | 2016-12-20 18:05:49 |     NA              | 200116              | 200116              | 0                   | 0                   | 0                   | 0                   | 0                   | 0                   | 0                   | 0                   | 0                   | \n",
       "| 2340275             | DISP_CONN           | 2016-12-20 18:08:00 | 200352              |     NA              | 200352              | 0                   | 0                   | 0                   | 0                   | 0                   | 0                   | 0                   | 0                   | 0                   | \n",
       "\n",
       "\n"
      ],
      "text/plain": [
       "  CALLID  ACTIVITY  TIMESTAMP           발신상담원 응답상담원 발신응답상담원\n",
       "1 2340247 DISP_ANS  2016-12-20 17:54:52     NA     200508     200508        \n",
       "2 2340254 DISP_ANS  2016-12-20 18:04:59     NA     200591     200591        \n",
       "3 2340255 DISP_CONN 2016-12-20 18:06:18 200431         NA     200431        \n",
       "4 2340259 DISP_ANS  2016-12-20 18:04:25     NA     200331     200331        \n",
       "5 2340260 DISP_ANS  2016-12-20 18:05:49     NA     200116     200116        \n",
       "6 2340275 DISP_CONN 2016-12-20 18:08:00 200352         NA     200352        \n",
       "  보조요청여부 난청여부 컨퍼런스여부 직접상담원통화대기여부 보류중포기여부\n",
       "1 0            0        1            0                      1             \n",
       "2 0            0        0            0                      0             \n",
       "3 0            0        0            0                      0             \n",
       "4 0            0        1            0                      0             \n",
       "5 0            0        0            0                      0             \n",
       "6 0            0        0            0                      0             \n",
       "  불량통화추적활성화여부 감청여부 호전환여부 상담원에의한종료여부\n",
       "1 0                      0        0          0                   \n",
       "2 0                      0        0          0                   \n",
       "3 0                      0        0          0                   \n",
       "4 0                      0        0          1                   \n",
       "5 0                      0        0          0                   \n",
       "6 0                      0        0          0                   "
      ]
     },
     "metadata": {},
     "output_type": "display_data"
    }
   ],
   "source": [
    "head(actmelt5)"
   ]
  },
  {
   "cell_type": "code",
   "execution_count": 81,
   "metadata": {},
   "outputs": [
    {
     "data": {
      "text/plain": [
       "\n",
       "    ACWTIME ANSHOLDTIME CONSULTTIME   DISP_ABAN    DISP_ANS   DISP_CONN \n",
       "     873736      873736      873736      119851      205012      478671 \n",
       " DISP_FDISC  DISP_OTHER   QUEUETIME    RINGTIME    TALKTIME \n",
       "       4987       65215      873736      873736      873736 "
      ]
     },
     "metadata": {},
     "output_type": "display_data"
    },
    {
     "data": {
      "text/html": [
       "'character'"
      ],
      "text/latex": [
       "'character'"
      ],
      "text/markdown": [
       "'character'"
      ],
      "text/plain": [
       "[1] \"character\""
      ]
     },
     "metadata": {},
     "output_type": "display_data"
    },
    {
     "data": {
      "text/html": [
       "'character'"
      ],
      "text/latex": [
       "'character'"
      ],
      "text/markdown": [
       "'character'"
      ],
      "text/plain": [
       "[1] \"character\""
      ]
     },
     "metadata": {},
     "output_type": "display_data"
    }
   ],
   "source": [
    "table(actmelt5$ACTIVITY)\n",
    "class(actmelt5$ACTIVITY)\n",
    "actmelt5$ACTIVITY <- as.character(actmelt5$ACTIVITY)\n",
    "class(actmelt5$ACTIVITY)"
   ]
  },
  {
   "cell_type": "code",
   "execution_count": 82,
   "metadata": {},
   "outputs": [
    {
     "data": {
      "text/html": [
       "<table>\n",
       "<thead><tr><th scope=col>CALLID</th><th scope=col>ACTIVITY</th><th scope=col>TIMESTAMP</th><th scope=col>발신상담원</th><th scope=col>응답상담원</th><th scope=col>발신응답상담원</th><th scope=col>보조요청여부</th><th scope=col>난청여부</th><th scope=col>컨퍼런스여부</th><th scope=col>직접상담원통화대기여부</th><th scope=col>보류중포기여부</th><th scope=col>불량통화추적활성화여부</th><th scope=col>감청여부</th><th scope=col>호전환여부</th><th scope=col>상담원에의한종료여부</th></tr></thead>\n",
       "<tbody>\n",
       "\t<tr><td>2340247            </td><td>콜처리_응답        </td><td>2016-12-20 17:54:52</td><td>    NA             </td><td>200508             </td><td>200508             </td><td>0                  </td><td>0                  </td><td>1                  </td><td>0                  </td><td>1                  </td><td>0                  </td><td>0                  </td><td>0                  </td><td>0                  </td></tr>\n",
       "\t<tr><td>2340254            </td><td>콜처리_응답        </td><td>2016-12-20 18:04:59</td><td>    NA             </td><td>200591             </td><td>200591             </td><td>0                  </td><td>0                  </td><td>0                  </td><td>0                  </td><td>0                  </td><td>0                  </td><td>0                  </td><td>0                  </td><td>0                  </td></tr>\n",
       "\t<tr><td>2340255            </td><td>콜처리_연결        </td><td>2016-12-20 18:06:18</td><td>200431             </td><td>    NA             </td><td>200431             </td><td>0                  </td><td>0                  </td><td>0                  </td><td>0                  </td><td>0                  </td><td>0                  </td><td>0                  </td><td>0                  </td><td>0                  </td></tr>\n",
       "\t<tr><td>2340259            </td><td>콜처리_응답        </td><td>2016-12-20 18:04:25</td><td>    NA             </td><td>200331             </td><td>200331             </td><td>0                  </td><td>0                  </td><td>1                  </td><td>0                  </td><td>0                  </td><td>0                  </td><td>0                  </td><td>0                  </td><td>1                  </td></tr>\n",
       "\t<tr><td>2340260            </td><td>콜처리_응답        </td><td>2016-12-20 18:05:49</td><td>    NA             </td><td>200116             </td><td>200116             </td><td>0                  </td><td>0                  </td><td>0                  </td><td>0                  </td><td>0                  </td><td>0                  </td><td>0                  </td><td>0                  </td><td>0                  </td></tr>\n",
       "\t<tr><td>2340275            </td><td>콜처리_연결        </td><td>2016-12-20 18:08:00</td><td>200352             </td><td>    NA             </td><td>200352             </td><td>0                  </td><td>0                  </td><td>0                  </td><td>0                  </td><td>0                  </td><td>0                  </td><td>0                  </td><td>0                  </td><td>0                  </td></tr>\n",
       "\t<tr><td>2340278            </td><td>콜처리_연결        </td><td>2016-12-20 18:08:52</td><td>200119             </td><td>    NA             </td><td>200119             </td><td>0                  </td><td>0                  </td><td>0                  </td><td>0                  </td><td>0                  </td><td>0                  </td><td>0                  </td><td>0                  </td><td>0                  </td></tr>\n",
       "\t<tr><td>2340197            </td><td>콜처리_응답        </td><td>2016-12-20 17:57:11</td><td>    NA             </td><td>200312             </td><td>200312             </td><td>0                  </td><td>0                  </td><td>0                  </td><td>0                  </td><td>0                  </td><td>0                  </td><td>0                  </td><td>0                  </td><td>0                  </td></tr>\n",
       "\t<tr><td>2340199            </td><td>콜처리_응답        </td><td>2016-12-20 17:58:03</td><td>    NA             </td><td>200118             </td><td>200118             </td><td>0                  </td><td>0                  </td><td>0                  </td><td>0                  </td><td>0                  </td><td>0                  </td><td>0                  </td><td>0                  </td><td>0                  </td></tr>\n",
       "\t<tr><td>2340201            </td><td>콜처리_응답        </td><td>2016-12-20 17:58:02</td><td>    NA             </td><td>200119             </td><td>200119             </td><td>0                  </td><td>0                  </td><td>1                  </td><td>0                  </td><td>0                  </td><td>0                  </td><td>0                  </td><td>0                  </td><td>1                  </td></tr>\n",
       "\t<tr><td>2340204            </td><td>콜처리_연결        </td><td>2016-12-20 18:01:37</td><td>200124             </td><td>    NA             </td><td>200124             </td><td>0                  </td><td>0                  </td><td>0                  </td><td>0                  </td><td>0                  </td><td>0                  </td><td>0                  </td><td>0                  </td><td>0                  </td></tr>\n",
       "\t<tr><td>2340207            </td><td>콜처리_연결        </td><td>2016-12-20 18:01:21</td><td>200334             </td><td>    NA             </td><td>200334             </td><td>0                  </td><td>0                  </td><td>0                  </td><td>0                  </td><td>0                  </td><td>0                  </td><td>0                  </td><td>0                  </td><td>0                  </td></tr>\n",
       "</tbody>\n",
       "</table>\n"
      ],
      "text/latex": [
       "\\begin{tabular}{r|lllllllllllllll}\n",
       " CALLID & ACTIVITY & TIMESTAMP & 발신상담원 & 응답상담원 & 발신응답상담원 & 보조요청여부 & 난청여부 & 컨퍼런스여부 & 직접상담원통화대기여부 & 보류중포기여부 & 불량통화추적활성화여부 & 감청여부 & 호전환여부 & 상담원에의한종료여부\\\\\n",
       "\\hline\n",
       "\t 2340247             & 콜처리\\_응답       & 2016-12-20 17:54:52 &     NA              & 200508              & 200508              & 0                   & 0                   & 1                   & 0                   & 1                   & 0                   & 0                   & 0                   & 0                  \\\\\n",
       "\t 2340254             & 콜처리\\_응답       & 2016-12-20 18:04:59 &     NA              & 200591              & 200591              & 0                   & 0                   & 0                   & 0                   & 0                   & 0                   & 0                   & 0                   & 0                  \\\\\n",
       "\t 2340255             & 콜처리\\_연결       & 2016-12-20 18:06:18 & 200431              &     NA              & 200431              & 0                   & 0                   & 0                   & 0                   & 0                   & 0                   & 0                   & 0                   & 0                  \\\\\n",
       "\t 2340259             & 콜처리\\_응답       & 2016-12-20 18:04:25 &     NA              & 200331              & 200331              & 0                   & 0                   & 1                   & 0                   & 0                   & 0                   & 0                   & 0                   & 1                  \\\\\n",
       "\t 2340260             & 콜처리\\_응답       & 2016-12-20 18:05:49 &     NA              & 200116              & 200116              & 0                   & 0                   & 0                   & 0                   & 0                   & 0                   & 0                   & 0                   & 0                  \\\\\n",
       "\t 2340275             & 콜처리\\_연결       & 2016-12-20 18:08:00 & 200352              &     NA              & 200352              & 0                   & 0                   & 0                   & 0                   & 0                   & 0                   & 0                   & 0                   & 0                  \\\\\n",
       "\t 2340278             & 콜처리\\_연결       & 2016-12-20 18:08:52 & 200119              &     NA              & 200119              & 0                   & 0                   & 0                   & 0                   & 0                   & 0                   & 0                   & 0                   & 0                  \\\\\n",
       "\t 2340197             & 콜처리\\_응답       & 2016-12-20 17:57:11 &     NA              & 200312              & 200312              & 0                   & 0                   & 0                   & 0                   & 0                   & 0                   & 0                   & 0                   & 0                  \\\\\n",
       "\t 2340199             & 콜처리\\_응답       & 2016-12-20 17:58:03 &     NA              & 200118              & 200118              & 0                   & 0                   & 0                   & 0                   & 0                   & 0                   & 0                   & 0                   & 0                  \\\\\n",
       "\t 2340201             & 콜처리\\_응답       & 2016-12-20 17:58:02 &     NA              & 200119              & 200119              & 0                   & 0                   & 1                   & 0                   & 0                   & 0                   & 0                   & 0                   & 1                  \\\\\n",
       "\t 2340204             & 콜처리\\_연결       & 2016-12-20 18:01:37 & 200124              &     NA              & 200124              & 0                   & 0                   & 0                   & 0                   & 0                   & 0                   & 0                   & 0                   & 0                  \\\\\n",
       "\t 2340207             & 콜처리\\_연결       & 2016-12-20 18:01:21 & 200334              &     NA              & 200334              & 0                   & 0                   & 0                   & 0                   & 0                   & 0                   & 0                   & 0                   & 0                  \\\\\n",
       "\\end{tabular}\n"
      ],
      "text/markdown": [
       "\n",
       "CALLID | ACTIVITY | TIMESTAMP | 발신상담원 | 응답상담원 | 발신응답상담원 | 보조요청여부 | 난청여부 | 컨퍼런스여부 | 직접상담원통화대기여부 | 보류중포기여부 | 불량통화추적활성화여부 | 감청여부 | 호전환여부 | 상담원에의한종료여부 | \n",
       "|---|---|---|---|---|---|---|---|---|---|---|---|\n",
       "| 2340247             | 콜처리_응답         | 2016-12-20 17:54:52 |     NA              | 200508              | 200508              | 0                   | 0                   | 1                   | 0                   | 1                   | 0                   | 0                   | 0                   | 0                   | \n",
       "| 2340254             | 콜처리_응답         | 2016-12-20 18:04:59 |     NA              | 200591              | 200591              | 0                   | 0                   | 0                   | 0                   | 0                   | 0                   | 0                   | 0                   | 0                   | \n",
       "| 2340255             | 콜처리_연결         | 2016-12-20 18:06:18 | 200431              |     NA              | 200431              | 0                   | 0                   | 0                   | 0                   | 0                   | 0                   | 0                   | 0                   | 0                   | \n",
       "| 2340259             | 콜처리_응답         | 2016-12-20 18:04:25 |     NA              | 200331              | 200331              | 0                   | 0                   | 1                   | 0                   | 0                   | 0                   | 0                   | 0                   | 1                   | \n",
       "| 2340260             | 콜처리_응답         | 2016-12-20 18:05:49 |     NA              | 200116              | 200116              | 0                   | 0                   | 0                   | 0                   | 0                   | 0                   | 0                   | 0                   | 0                   | \n",
       "| 2340275             | 콜처리_연결         | 2016-12-20 18:08:00 | 200352              |     NA              | 200352              | 0                   | 0                   | 0                   | 0                   | 0                   | 0                   | 0                   | 0                   | 0                   | \n",
       "| 2340278             | 콜처리_연결         | 2016-12-20 18:08:52 | 200119              |     NA              | 200119              | 0                   | 0                   | 0                   | 0                   | 0                   | 0                   | 0                   | 0                   | 0                   | \n",
       "| 2340197             | 콜처리_응답         | 2016-12-20 17:57:11 |     NA              | 200312              | 200312              | 0                   | 0                   | 0                   | 0                   | 0                   | 0                   | 0                   | 0                   | 0                   | \n",
       "| 2340199             | 콜처리_응답         | 2016-12-20 17:58:03 |     NA              | 200118              | 200118              | 0                   | 0                   | 0                   | 0                   | 0                   | 0                   | 0                   | 0                   | 0                   | \n",
       "| 2340201             | 콜처리_응답         | 2016-12-20 17:58:02 |     NA              | 200119              | 200119              | 0                   | 0                   | 1                   | 0                   | 0                   | 0                   | 0                   | 0                   | 1                   | \n",
       "| 2340204             | 콜처리_연결         | 2016-12-20 18:01:37 | 200124              |     NA              | 200124              | 0                   | 0                   | 0                   | 0                   | 0                   | 0                   | 0                   | 0                   | 0                   | \n",
       "| 2340207             | 콜처리_연결         | 2016-12-20 18:01:21 | 200334              |     NA              | 200334              | 0                   | 0                   | 0                   | 0                   | 0                   | 0                   | 0                   | 0                   | 0                   | \n",
       "\n",
       "\n"
      ],
      "text/plain": [
       "   CALLID  ACTIVITY    TIMESTAMP           발신상담원 응답상담원 발신응답상담원\n",
       "1  2340247 콜처리_응답 2016-12-20 17:54:52     NA     200508     200508        \n",
       "2  2340254 콜처리_응답 2016-12-20 18:04:59     NA     200591     200591        \n",
       "3  2340255 콜처리_연결 2016-12-20 18:06:18 200431         NA     200431        \n",
       "4  2340259 콜처리_응답 2016-12-20 18:04:25     NA     200331     200331        \n",
       "5  2340260 콜처리_응답 2016-12-20 18:05:49     NA     200116     200116        \n",
       "6  2340275 콜처리_연결 2016-12-20 18:08:00 200352         NA     200352        \n",
       "7  2340278 콜처리_연결 2016-12-20 18:08:52 200119         NA     200119        \n",
       "8  2340197 콜처리_응답 2016-12-20 17:57:11     NA     200312     200312        \n",
       "9  2340199 콜처리_응답 2016-12-20 17:58:03     NA     200118     200118        \n",
       "10 2340201 콜처리_응답 2016-12-20 17:58:02     NA     200119     200119        \n",
       "11 2340204 콜처리_연결 2016-12-20 18:01:37 200124         NA     200124        \n",
       "12 2340207 콜처리_연결 2016-12-20 18:01:21 200334         NA     200334        \n",
       "   보조요청여부 난청여부 컨퍼런스여부 직접상담원통화대기여부 보류중포기여부\n",
       "1  0            0        1            0                      1             \n",
       "2  0            0        0            0                      0             \n",
       "3  0            0        0            0                      0             \n",
       "4  0            0        1            0                      0             \n",
       "5  0            0        0            0                      0             \n",
       "6  0            0        0            0                      0             \n",
       "7  0            0        0            0                      0             \n",
       "8  0            0        0            0                      0             \n",
       "9  0            0        0            0                      0             \n",
       "10 0            0        1            0                      0             \n",
       "11 0            0        0            0                      0             \n",
       "12 0            0        0            0                      0             \n",
       "   불량통화추적활성화여부 감청여부 호전환여부 상담원에의한종료여부\n",
       "1  0                      0        0          0                   \n",
       "2  0                      0        0          0                   \n",
       "3  0                      0        0          0                   \n",
       "4  0                      0        0          1                   \n",
       "5  0                      0        0          0                   \n",
       "6  0                      0        0          0                   \n",
       "7  0                      0        0          0                   \n",
       "8  0                      0        0          0                   \n",
       "9  0                      0        0          0                   \n",
       "10 0                      0        0          1                   \n",
       "11 0                      0        0          0                   \n",
       "12 0                      0        0          0                   "
      ]
     },
     "metadata": {},
     "output_type": "display_data"
    }
   ],
   "source": [
    "actmelt5$ACTIVITY <- ifelse(actmelt5$ACTIVITY == \"ACWTIME\", \"후처리\", actmelt5$ACTIVITY)\n",
    "actmelt5$ACTIVITY <- ifelse(actmelt5$ACTIVITY == \"ANSHOLDTIME\", \"응대중보류\", actmelt5$ACTIVITY)\n",
    "actmelt5$ACTIVITY <- ifelse(actmelt5$ACTIVITY == \"CONSULTTIME\", \"컨설팅\", actmelt5$ACTIVITY)\n",
    "actmelt5$ACTIVITY <- ifelse(actmelt5$ACTIVITY == \"DISP_ABAN\", \"콜처리_포기\", actmelt5$ACTIVITY)\n",
    "actmelt5$ACTIVITY <- ifelse(actmelt5$ACTIVITY == \"DISP_ANS\", \"콜처리_응답\", actmelt5$ACTIVITY)\n",
    "actmelt5$ACTIVITY <- ifelse(actmelt5$ACTIVITY == \"DISP_CONN\", \"콜처리_연결\", actmelt5$ACTIVITY)\n",
    "actmelt5$ACTIVITY <- ifelse(actmelt5$ACTIVITY == \"DISP_FDISC\", \"콜처리_강제종료\", actmelt5$ACTIVITY)\n",
    "actmelt5$ACTIVITY <- ifelse(actmelt5$ACTIVITY == \"DISP_OTHER\", \"기타\", actmelt5$ACTIVITY)\n",
    "actmelt5$ACTIVITY <- ifelse(actmelt5$ACTIVITY == \"QUEUETIME\", \"큐대기\", actmelt5$ACTIVITY)\n",
    "actmelt5$ACTIVITY <- ifelse(actmelt5$ACTIVITY == \"RINGTIME\", \"벨울림\", actmelt5$ACTIVITY)\n",
    "actmelt5$ACTIVITY <- ifelse(actmelt5$ACTIVITY == \"TALKTIME\", \"응대\", actmelt5$ACTIVITY)\n",
    "\n",
    "head(actmelt5, 12)"
   ]
  },
  {
   "cell_type": "code",
   "execution_count": 96,
   "metadata": {},
   "outputs": [
    {
     "data": {
      "text/html": [
       "'character'"
      ],
      "text/latex": [
       "'character'"
      ],
      "text/markdown": [
       "'character'"
      ],
      "text/plain": [
       "[1] \"character\""
      ]
     },
     "metadata": {},
     "output_type": "display_data"
    }
   ],
   "source": [
    "actmelt6 <- actmelt5\n",
    "class(actmelt6$TIMESTAMP)"
   ]
  },
  {
   "cell_type": "code",
   "execution_count": 98,
   "metadata": {},
   "outputs": [
    {
     "data": {
      "text/html": [
       "<table>\n",
       "<thead><tr><th scope=col>CALLID</th><th scope=col>ACTIVITY</th><th scope=col>TIMESTAMP</th><th scope=col>발신상담원</th><th scope=col>응답상담원</th><th scope=col>발신응답상담원</th><th scope=col>보조요청여부</th><th scope=col>난청여부</th><th scope=col>컨퍼런스여부</th><th scope=col>직접상담원통화대기여부</th><th scope=col>보류중포기여부</th><th scope=col>불량통화추적활성화여부</th><th scope=col>감청여부</th><th scope=col>호전환여부</th><th scope=col>상담원에의한종료여부</th></tr></thead>\n",
       "<tbody>\n",
       "\t<tr><td>2340195            </td><td>콜처리_연결        </td><td>2016-12-20 18:00:16</td><td>NA                 </td><td>    NA             </td><td>    NA             </td><td>0                  </td><td>0                  </td><td>0                  </td><td>0                  </td><td>0                  </td><td>0                  </td><td>0                  </td><td>0                  </td><td>0                  </td></tr>\n",
       "\t<tr><td>2340195            </td><td>큐대기             </td><td>2016-12-20 18:00:16</td><td>NA                 </td><td>    NA             </td><td>    NA             </td><td>0                  </td><td>0                  </td><td>0                  </td><td>0                  </td><td>0                  </td><td>0                  </td><td>0                  </td><td>0                  </td><td>0                  </td></tr>\n",
       "\t<tr><td>2340195            </td><td>벨울림             </td><td>2016-12-20 18:00:16</td><td>NA                 </td><td>    NA             </td><td>    NA             </td><td>0                  </td><td>0                  </td><td>0                  </td><td>0                  </td><td>0                  </td><td>0                  </td><td>0                  </td><td>0                  </td><td>0                  </td></tr>\n",
       "\t<tr><td>2340195            </td><td>후처리             </td><td>2016-12-20 18:00:36</td><td>NA                 </td><td>    NA             </td><td>    NA             </td><td>0                  </td><td>0                  </td><td>0                  </td><td>0                  </td><td>0                  </td><td>0                  </td><td>0                  </td><td>0                  </td><td>0                  </td></tr>\n",
       "\t<tr><td>2340195            </td><td>응대중보류         </td><td>2016-12-20 18:00:36</td><td>NA                 </td><td>    NA             </td><td>    NA             </td><td>0                  </td><td>0                  </td><td>0                  </td><td>0                  </td><td>0                  </td><td>0                  </td><td>0                  </td><td>0                  </td><td>0                  </td></tr>\n",
       "\t<tr><td>2340195            </td><td>컨설팅             </td><td>2016-12-20 18:00:36</td><td>NA                 </td><td>    NA             </td><td>    NA             </td><td>0                  </td><td>0                  </td><td>0                  </td><td>0                  </td><td>0                  </td><td>0                  </td><td>0                  </td><td>0                  </td><td>0                  </td></tr>\n",
       "\t<tr><td>2340195            </td><td>응대               </td><td>2016-12-20 18:00:36</td><td>NA                 </td><td>    NA             </td><td>    NA             </td><td>0                  </td><td>0                  </td><td>0                  </td><td>0                  </td><td>0                  </td><td>0                  </td><td>0                  </td><td>0                  </td><td>0                  </td></tr>\n",
       "\t<tr><td>2340196            </td><td>큐대기             </td><td>2016-12-20 18:01:23</td><td>NA                 </td><td>    NA             </td><td>    NA             </td><td>0                  </td><td>0                  </td><td>0                  </td><td>0                  </td><td>0                  </td><td>0                  </td><td>0                  </td><td>0                  </td><td>0                  </td></tr>\n",
       "\t<tr><td>2340196            </td><td>벨울림             </td><td>2016-12-20 18:01:23</td><td>NA                 </td><td>    NA             </td><td>    NA             </td><td>0                  </td><td>0                  </td><td>0                  </td><td>0                  </td><td>0                  </td><td>0                  </td><td>0                  </td><td>0                  </td><td>0                  </td></tr>\n",
       "\t<tr><td>2340196            </td><td>콜처리_연결        </td><td>2016-12-20 18:01:24</td><td>NA                 </td><td>    NA             </td><td>    NA             </td><td>0                  </td><td>0                  </td><td>0                  </td><td>0                  </td><td>0                  </td><td>0                  </td><td>0                  </td><td>0                  </td><td>0                  </td></tr>\n",
       "\t<tr><td>2340196            </td><td>후처리             </td><td>2016-12-20 18:01:47</td><td>NA                 </td><td>    NA             </td><td>    NA             </td><td>0                  </td><td>0                  </td><td>0                  </td><td>0                  </td><td>0                  </td><td>0                  </td><td>0                  </td><td>0                  </td><td>0                  </td></tr>\n",
       "\t<tr><td>2340196            </td><td>응대중보류         </td><td>2016-12-20 18:01:47</td><td>NA                 </td><td>    NA             </td><td>    NA             </td><td>0                  </td><td>0                  </td><td>0                  </td><td>0                  </td><td>0                  </td><td>0                  </td><td>0                  </td><td>0                  </td><td>0                  </td></tr>\n",
       "\t<tr><td>2340196            </td><td>컨설팅             </td><td>2016-12-20 18:01:47</td><td>NA                 </td><td>    NA             </td><td>    NA             </td><td>0                  </td><td>0                  </td><td>0                  </td><td>0                  </td><td>0                  </td><td>0                  </td><td>0                  </td><td>0                  </td><td>0                  </td></tr>\n",
       "\t<tr><td>2340196            </td><td>응대               </td><td>2016-12-20 18:01:47</td><td>NA                 </td><td>    NA             </td><td>    NA             </td><td>0                  </td><td>0                  </td><td>0                  </td><td>0                  </td><td>0                  </td><td>0                  </td><td>0                  </td><td>0                  </td><td>0                  </td></tr>\n",
       "\t<tr><td>2340197            </td><td>콜처리_응답        </td><td>2016-12-20 17:57:11</td><td>NA                 </td><td>200312             </td><td>200312             </td><td>0                  </td><td>0                  </td><td>0                  </td><td>0                  </td><td>0                  </td><td>0                  </td><td>0                  </td><td>0                  </td><td>0                  </td></tr>\n",
       "\t<tr><td>2340197            </td><td>큐대기             </td><td>2016-12-20 17:57:11</td><td>NA                 </td><td>200312             </td><td>200312             </td><td>0                  </td><td>0                  </td><td>0                  </td><td>0                  </td><td>0                  </td><td>0                  </td><td>0                  </td><td>0                  </td><td>0                  </td></tr>\n",
       "\t<tr><td>2340197            </td><td>벨울림             </td><td>2016-12-20 17:57:11</td><td>NA                 </td><td>200312             </td><td>200312             </td><td>0                  </td><td>0                  </td><td>0                  </td><td>0                  </td><td>0                  </td><td>0                  </td><td>0                  </td><td>0                  </td><td>0                  </td></tr>\n",
       "\t<tr><td>2340197            </td><td>응대중보류         </td><td>2016-12-20 17:57:13</td><td>NA                 </td><td>200312             </td><td>200312             </td><td>0                  </td><td>0                  </td><td>0                  </td><td>0                  </td><td>0                  </td><td>0                  </td><td>0                  </td><td>0                  </td><td>0                  </td></tr>\n",
       "\t<tr><td>2340197            </td><td>컨설팅             </td><td>2016-12-20 17:57:13</td><td>NA                 </td><td>200312             </td><td>200312             </td><td>0                  </td><td>0                  </td><td>0                  </td><td>0                  </td><td>0                  </td><td>0                  </td><td>0                  </td><td>0                  </td><td>0                  </td></tr>\n",
       "\t<tr><td>2340197            </td><td>응대               </td><td>2016-12-20 17:57:13</td><td>NA                 </td><td>200312             </td><td>200312             </td><td>0                  </td><td>0                  </td><td>0                  </td><td>0                  </td><td>0                  </td><td>0                  </td><td>0                  </td><td>0                  </td><td>0                  </td></tr>\n",
       "</tbody>\n",
       "</table>\n"
      ],
      "text/latex": [
       "\\begin{tabular}{r|lllllllllllllll}\n",
       " CALLID & ACTIVITY & TIMESTAMP & 발신상담원 & 응답상담원 & 발신응답상담원 & 보조요청여부 & 난청여부 & 컨퍼런스여부 & 직접상담원통화대기여부 & 보류중포기여부 & 불량통화추적활성화여부 & 감청여부 & 호전환여부 & 상담원에의한종료여부\\\\\n",
       "\\hline\n",
       "\t 2340195             & 콜처리\\_연결       & 2016-12-20 18:00:16 & NA                  &     NA              &     NA              & 0                   & 0                   & 0                   & 0                   & 0                   & 0                   & 0                   & 0                   & 0                  \\\\\n",
       "\t 2340195             & 큐대기              & 2016-12-20 18:00:16 & NA                  &     NA              &     NA              & 0                   & 0                   & 0                   & 0                   & 0                   & 0                   & 0                   & 0                   & 0                  \\\\\n",
       "\t 2340195             & 벨울림              & 2016-12-20 18:00:16 & NA                  &     NA              &     NA              & 0                   & 0                   & 0                   & 0                   & 0                   & 0                   & 0                   & 0                   & 0                  \\\\\n",
       "\t 2340195             & 후처리              & 2016-12-20 18:00:36 & NA                  &     NA              &     NA              & 0                   & 0                   & 0                   & 0                   & 0                   & 0                   & 0                   & 0                   & 0                  \\\\\n",
       "\t 2340195             & 응대중보류          & 2016-12-20 18:00:36 & NA                  &     NA              &     NA              & 0                   & 0                   & 0                   & 0                   & 0                   & 0                   & 0                   & 0                   & 0                  \\\\\n",
       "\t 2340195             & 컨설팅              & 2016-12-20 18:00:36 & NA                  &     NA              &     NA              & 0                   & 0                   & 0                   & 0                   & 0                   & 0                   & 0                   & 0                   & 0                  \\\\\n",
       "\t 2340195             & 응대                & 2016-12-20 18:00:36 & NA                  &     NA              &     NA              & 0                   & 0                   & 0                   & 0                   & 0                   & 0                   & 0                   & 0                   & 0                  \\\\\n",
       "\t 2340196             & 큐대기              & 2016-12-20 18:01:23 & NA                  &     NA              &     NA              & 0                   & 0                   & 0                   & 0                   & 0                   & 0                   & 0                   & 0                   & 0                  \\\\\n",
       "\t 2340196             & 벨울림              & 2016-12-20 18:01:23 & NA                  &     NA              &     NA              & 0                   & 0                   & 0                   & 0                   & 0                   & 0                   & 0                   & 0                   & 0                  \\\\\n",
       "\t 2340196             & 콜처리\\_연결       & 2016-12-20 18:01:24 & NA                  &     NA              &     NA              & 0                   & 0                   & 0                   & 0                   & 0                   & 0                   & 0                   & 0                   & 0                  \\\\\n",
       "\t 2340196             & 후처리              & 2016-12-20 18:01:47 & NA                  &     NA              &     NA              & 0                   & 0                   & 0                   & 0                   & 0                   & 0                   & 0                   & 0                   & 0                  \\\\\n",
       "\t 2340196             & 응대중보류          & 2016-12-20 18:01:47 & NA                  &     NA              &     NA              & 0                   & 0                   & 0                   & 0                   & 0                   & 0                   & 0                   & 0                   & 0                  \\\\\n",
       "\t 2340196             & 컨설팅              & 2016-12-20 18:01:47 & NA                  &     NA              &     NA              & 0                   & 0                   & 0                   & 0                   & 0                   & 0                   & 0                   & 0                   & 0                  \\\\\n",
       "\t 2340196             & 응대                & 2016-12-20 18:01:47 & NA                  &     NA              &     NA              & 0                   & 0                   & 0                   & 0                   & 0                   & 0                   & 0                   & 0                   & 0                  \\\\\n",
       "\t 2340197             & 콜처리\\_응답       & 2016-12-20 17:57:11 & NA                  & 200312              & 200312              & 0                   & 0                   & 0                   & 0                   & 0                   & 0                   & 0                   & 0                   & 0                  \\\\\n",
       "\t 2340197             & 큐대기              & 2016-12-20 17:57:11 & NA                  & 200312              & 200312              & 0                   & 0                   & 0                   & 0                   & 0                   & 0                   & 0                   & 0                   & 0                  \\\\\n",
       "\t 2340197             & 벨울림              & 2016-12-20 17:57:11 & NA                  & 200312              & 200312              & 0                   & 0                   & 0                   & 0                   & 0                   & 0                   & 0                   & 0                   & 0                  \\\\\n",
       "\t 2340197             & 응대중보류          & 2016-12-20 17:57:13 & NA                  & 200312              & 200312              & 0                   & 0                   & 0                   & 0                   & 0                   & 0                   & 0                   & 0                   & 0                  \\\\\n",
       "\t 2340197             & 컨설팅              & 2016-12-20 17:57:13 & NA                  & 200312              & 200312              & 0                   & 0                   & 0                   & 0                   & 0                   & 0                   & 0                   & 0                   & 0                  \\\\\n",
       "\t 2340197             & 응대                & 2016-12-20 17:57:13 & NA                  & 200312              & 200312              & 0                   & 0                   & 0                   & 0                   & 0                   & 0                   & 0                   & 0                   & 0                  \\\\\n",
       "\\end{tabular}\n"
      ],
      "text/markdown": [
       "\n",
       "CALLID | ACTIVITY | TIMESTAMP | 발신상담원 | 응답상담원 | 발신응답상담원 | 보조요청여부 | 난청여부 | 컨퍼런스여부 | 직접상담원통화대기여부 | 보류중포기여부 | 불량통화추적활성화여부 | 감청여부 | 호전환여부 | 상담원에의한종료여부 | \n",
       "|---|---|---|---|---|---|---|---|---|---|---|---|---|---|---|---|---|---|---|---|\n",
       "| 2340195             | 콜처리_연결         | 2016-12-20 18:00:16 | NA                  |     NA              |     NA              | 0                   | 0                   | 0                   | 0                   | 0                   | 0                   | 0                   | 0                   | 0                   | \n",
       "| 2340195             | 큐대기              | 2016-12-20 18:00:16 | NA                  |     NA              |     NA              | 0                   | 0                   | 0                   | 0                   | 0                   | 0                   | 0                   | 0                   | 0                   | \n",
       "| 2340195             | 벨울림              | 2016-12-20 18:00:16 | NA                  |     NA              |     NA              | 0                   | 0                   | 0                   | 0                   | 0                   | 0                   | 0                   | 0                   | 0                   | \n",
       "| 2340195             | 후처리              | 2016-12-20 18:00:36 | NA                  |     NA              |     NA              | 0                   | 0                   | 0                   | 0                   | 0                   | 0                   | 0                   | 0                   | 0                   | \n",
       "| 2340195             | 응대중보류          | 2016-12-20 18:00:36 | NA                  |     NA              |     NA              | 0                   | 0                   | 0                   | 0                   | 0                   | 0                   | 0                   | 0                   | 0                   | \n",
       "| 2340195             | 컨설팅              | 2016-12-20 18:00:36 | NA                  |     NA              |     NA              | 0                   | 0                   | 0                   | 0                   | 0                   | 0                   | 0                   | 0                   | 0                   | \n",
       "| 2340195             | 응대                | 2016-12-20 18:00:36 | NA                  |     NA              |     NA              | 0                   | 0                   | 0                   | 0                   | 0                   | 0                   | 0                   | 0                   | 0                   | \n",
       "| 2340196             | 큐대기              | 2016-12-20 18:01:23 | NA                  |     NA              |     NA              | 0                   | 0                   | 0                   | 0                   | 0                   | 0                   | 0                   | 0                   | 0                   | \n",
       "| 2340196             | 벨울림              | 2016-12-20 18:01:23 | NA                  |     NA              |     NA              | 0                   | 0                   | 0                   | 0                   | 0                   | 0                   | 0                   | 0                   | 0                   | \n",
       "| 2340196             | 콜처리_연결         | 2016-12-20 18:01:24 | NA                  |     NA              |     NA              | 0                   | 0                   | 0                   | 0                   | 0                   | 0                   | 0                   | 0                   | 0                   | \n",
       "| 2340196             | 후처리              | 2016-12-20 18:01:47 | NA                  |     NA              |     NA              | 0                   | 0                   | 0                   | 0                   | 0                   | 0                   | 0                   | 0                   | 0                   | \n",
       "| 2340196             | 응대중보류          | 2016-12-20 18:01:47 | NA                  |     NA              |     NA              | 0                   | 0                   | 0                   | 0                   | 0                   | 0                   | 0                   | 0                   | 0                   | \n",
       "| 2340196             | 컨설팅              | 2016-12-20 18:01:47 | NA                  |     NA              |     NA              | 0                   | 0                   | 0                   | 0                   | 0                   | 0                   | 0                   | 0                   | 0                   | \n",
       "| 2340196             | 응대                | 2016-12-20 18:01:47 | NA                  |     NA              |     NA              | 0                   | 0                   | 0                   | 0                   | 0                   | 0                   | 0                   | 0                   | 0                   | \n",
       "| 2340197             | 콜처리_응답         | 2016-12-20 17:57:11 | NA                  | 200312              | 200312              | 0                   | 0                   | 0                   | 0                   | 0                   | 0                   | 0                   | 0                   | 0                   | \n",
       "| 2340197             | 큐대기              | 2016-12-20 17:57:11 | NA                  | 200312              | 200312              | 0                   | 0                   | 0                   | 0                   | 0                   | 0                   | 0                   | 0                   | 0                   | \n",
       "| 2340197             | 벨울림              | 2016-12-20 17:57:11 | NA                  | 200312              | 200312              | 0                   | 0                   | 0                   | 0                   | 0                   | 0                   | 0                   | 0                   | 0                   | \n",
       "| 2340197             | 응대중보류          | 2016-12-20 17:57:13 | NA                  | 200312              | 200312              | 0                   | 0                   | 0                   | 0                   | 0                   | 0                   | 0                   | 0                   | 0                   | \n",
       "| 2340197             | 컨설팅              | 2016-12-20 17:57:13 | NA                  | 200312              | 200312              | 0                   | 0                   | 0                   | 0                   | 0                   | 0                   | 0                   | 0                   | 0                   | \n",
       "| 2340197             | 응대                | 2016-12-20 17:57:13 | NA                  | 200312              | 200312              | 0                   | 0                   | 0                   | 0                   | 0                   | 0                   | 0                   | 0                   | 0                   | \n",
       "\n",
       "\n"
      ],
      "text/plain": [
       "   CALLID  ACTIVITY    TIMESTAMP           발신상담원 응답상담원 발신응답상담원\n",
       "1  2340195 콜처리_연결 2016-12-20 18:00:16 NA             NA         NA        \n",
       "2  2340195 큐대기      2016-12-20 18:00:16 NA             NA         NA        \n",
       "3  2340195 벨울림      2016-12-20 18:00:16 NA             NA         NA        \n",
       "4  2340195 후처리      2016-12-20 18:00:36 NA             NA         NA        \n",
       "5  2340195 응대중보류  2016-12-20 18:00:36 NA             NA         NA        \n",
       "6  2340195 컨설팅      2016-12-20 18:00:36 NA             NA         NA        \n",
       "7  2340195 응대        2016-12-20 18:00:36 NA             NA         NA        \n",
       "8  2340196 큐대기      2016-12-20 18:01:23 NA             NA         NA        \n",
       "9  2340196 벨울림      2016-12-20 18:01:23 NA             NA         NA        \n",
       "10 2340196 콜처리_연결 2016-12-20 18:01:24 NA             NA         NA        \n",
       "11 2340196 후처리      2016-12-20 18:01:47 NA             NA         NA        \n",
       "12 2340196 응대중보류  2016-12-20 18:01:47 NA             NA         NA        \n",
       "13 2340196 컨설팅      2016-12-20 18:01:47 NA             NA         NA        \n",
       "14 2340196 응대        2016-12-20 18:01:47 NA             NA         NA        \n",
       "15 2340197 콜처리_응답 2016-12-20 17:57:11 NA         200312     200312        \n",
       "16 2340197 큐대기      2016-12-20 17:57:11 NA         200312     200312        \n",
       "17 2340197 벨울림      2016-12-20 17:57:11 NA         200312     200312        \n",
       "18 2340197 응대중보류  2016-12-20 17:57:13 NA         200312     200312        \n",
       "19 2340197 컨설팅      2016-12-20 17:57:13 NA         200312     200312        \n",
       "20 2340197 응대        2016-12-20 17:57:13 NA         200312     200312        \n",
       "   보조요청여부 난청여부 컨퍼런스여부 직접상담원통화대기여부 보류중포기여부\n",
       "1  0            0        0            0                      0             \n",
       "2  0            0        0            0                      0             \n",
       "3  0            0        0            0                      0             \n",
       "4  0            0        0            0                      0             \n",
       "5  0            0        0            0                      0             \n",
       "6  0            0        0            0                      0             \n",
       "7  0            0        0            0                      0             \n",
       "8  0            0        0            0                      0             \n",
       "9  0            0        0            0                      0             \n",
       "10 0            0        0            0                      0             \n",
       "11 0            0        0            0                      0             \n",
       "12 0            0        0            0                      0             \n",
       "13 0            0        0            0                      0             \n",
       "14 0            0        0            0                      0             \n",
       "15 0            0        0            0                      0             \n",
       "16 0            0        0            0                      0             \n",
       "17 0            0        0            0                      0             \n",
       "18 0            0        0            0                      0             \n",
       "19 0            0        0            0                      0             \n",
       "20 0            0        0            0                      0             \n",
       "   불량통화추적활성화여부 감청여부 호전환여부 상담원에의한종료여부\n",
       "1  0                      0        0          0                   \n",
       "2  0                      0        0          0                   \n",
       "3  0                      0        0          0                   \n",
       "4  0                      0        0          0                   \n",
       "5  0                      0        0          0                   \n",
       "6  0                      0        0          0                   \n",
       "7  0                      0        0          0                   \n",
       "8  0                      0        0          0                   \n",
       "9  0                      0        0          0                   \n",
       "10 0                      0        0          0                   \n",
       "11 0                      0        0          0                   \n",
       "12 0                      0        0          0                   \n",
       "13 0                      0        0          0                   \n",
       "14 0                      0        0          0                   \n",
       "15 0                      0        0          0                   \n",
       "16 0                      0        0          0                   \n",
       "17 0                      0        0          0                   \n",
       "18 0                      0        0          0                   \n",
       "19 0                      0        0          0                   \n",
       "20 0                      0        0          0                   "
      ]
     },
     "metadata": {},
     "output_type": "display_data"
    }
   ],
   "source": [
    "actmelt6 <- arrange(actmelt6, CALLID, TIMESTAMP)\n",
    "head(actmelt6, 20)"
   ]
  },
  {
   "cell_type": "code",
   "execution_count": 67,
   "metadata": {},
   "outputs": [],
   "source": [
    "write.csv(actmelt5, file = \"hansol6.csv\", row.names = FALSE)"
   ]
  },
  {
   "cell_type": "markdown",
   "metadata": {},
   "source": [
    "## 11. ~여부에 YES, NO 넣기"
   ]
  },
  {
   "cell_type": "code",
   "execution_count": 2,
   "metadata": {},
   "outputs": [
    {
     "data": {
      "text/html": [
       "<table>\n",
       "<thead><tr><th scope=col>CALLID</th><th scope=col>ACTIVITY</th><th scope=col>TIMESTAMP</th><th scope=col>발신상담원</th><th scope=col>응답상담원</th><th scope=col>발신응답상담원</th><th scope=col>보조요청여부</th><th scope=col>난청여부</th><th scope=col>컨퍼런스여부</th><th scope=col>직접상담원통화대기여부</th><th scope=col>보류중포기여부</th><th scope=col>불량통화추적활성화여부</th><th scope=col>감청여부</th><th scope=col>호전환여부</th><th scope=col>상담원에의한종료여부</th></tr></thead>\n",
       "<tbody>\n",
       "\t<tr><td>2340247            </td><td>DISP_ANS           </td><td>2016-12-20 17:54:52</td><td>    NA             </td><td>200508             </td><td>200508             </td><td>0                  </td><td>0                  </td><td>1                  </td><td>0                  </td><td>1                  </td><td>0                  </td><td>0                  </td><td>0                  </td><td>0                  </td></tr>\n",
       "\t<tr><td>2340254            </td><td>DISP_ANS           </td><td>2016-12-20 18:04:59</td><td>    NA             </td><td>200591             </td><td>200591             </td><td>0                  </td><td>0                  </td><td>0                  </td><td>0                  </td><td>0                  </td><td>0                  </td><td>0                  </td><td>0                  </td><td>0                  </td></tr>\n",
       "\t<tr><td>2340255            </td><td>DISP_CONN          </td><td>2016-12-20 18:06:18</td><td>200431             </td><td>    NA             </td><td>200431             </td><td>0                  </td><td>0                  </td><td>0                  </td><td>0                  </td><td>0                  </td><td>0                  </td><td>0                  </td><td>0                  </td><td>0                  </td></tr>\n",
       "\t<tr><td>2340259            </td><td>DISP_ANS           </td><td>2016-12-20 18:04:25</td><td>    NA             </td><td>200331             </td><td>200331             </td><td>0                  </td><td>0                  </td><td>1                  </td><td>0                  </td><td>0                  </td><td>0                  </td><td>0                  </td><td>0                  </td><td>1                  </td></tr>\n",
       "\t<tr><td>2340260            </td><td>DISP_ANS           </td><td>2016-12-20 18:05:49</td><td>    NA             </td><td>200116             </td><td>200116             </td><td>0                  </td><td>0                  </td><td>0                  </td><td>0                  </td><td>0                  </td><td>0                  </td><td>0                  </td><td>0                  </td><td>0                  </td></tr>\n",
       "\t<tr><td>2340275            </td><td>DISP_CONN          </td><td>2016-12-20 18:08:00</td><td>200352             </td><td>    NA             </td><td>200352             </td><td>0                  </td><td>0                  </td><td>0                  </td><td>0                  </td><td>0                  </td><td>0                  </td><td>0                  </td><td>0                  </td><td>0                  </td></tr>\n",
       "</tbody>\n",
       "</table>\n"
      ],
      "text/latex": [
       "\\begin{tabular}{r|lllllllllllllll}\n",
       " CALLID & ACTIVITY & TIMESTAMP & 발신상담원 & 응답상담원 & 발신응답상담원 & 보조요청여부 & 난청여부 & 컨퍼런스여부 & 직접상담원통화대기여부 & 보류중포기여부 & 불량통화추적활성화여부 & 감청여부 & 호전환여부 & 상담원에의한종료여부\\\\\n",
       "\\hline\n",
       "\t 2340247             & DISP\\_ANS          & 2016-12-20 17:54:52 &     NA              & 200508              & 200508              & 0                   & 0                   & 1                   & 0                   & 1                   & 0                   & 0                   & 0                   & 0                  \\\\\n",
       "\t 2340254             & DISP\\_ANS          & 2016-12-20 18:04:59 &     NA              & 200591              & 200591              & 0                   & 0                   & 0                   & 0                   & 0                   & 0                   & 0                   & 0                   & 0                  \\\\\n",
       "\t 2340255             & DISP\\_CONN         & 2016-12-20 18:06:18 & 200431              &     NA              & 200431              & 0                   & 0                   & 0                   & 0                   & 0                   & 0                   & 0                   & 0                   & 0                  \\\\\n",
       "\t 2340259             & DISP\\_ANS          & 2016-12-20 18:04:25 &     NA              & 200331              & 200331              & 0                   & 0                   & 1                   & 0                   & 0                   & 0                   & 0                   & 0                   & 1                  \\\\\n",
       "\t 2340260             & DISP\\_ANS          & 2016-12-20 18:05:49 &     NA              & 200116              & 200116              & 0                   & 0                   & 0                   & 0                   & 0                   & 0                   & 0                   & 0                   & 0                  \\\\\n",
       "\t 2340275             & DISP\\_CONN         & 2016-12-20 18:08:00 & 200352              &     NA              & 200352              & 0                   & 0                   & 0                   & 0                   & 0                   & 0                   & 0                   & 0                   & 0                  \\\\\n",
       "\\end{tabular}\n"
      ],
      "text/markdown": [
       "\n",
       "CALLID | ACTIVITY | TIMESTAMP | 발신상담원 | 응답상담원 | 발신응답상담원 | 보조요청여부 | 난청여부 | 컨퍼런스여부 | 직접상담원통화대기여부 | 보류중포기여부 | 불량통화추적활성화여부 | 감청여부 | 호전환여부 | 상담원에의한종료여부 | \n",
       "|---|---|---|---|---|---|\n",
       "| 2340247             | DISP_ANS            | 2016-12-20 17:54:52 |     NA              | 200508              | 200508              | 0                   | 0                   | 1                   | 0                   | 1                   | 0                   | 0                   | 0                   | 0                   | \n",
       "| 2340254             | DISP_ANS            | 2016-12-20 18:04:59 |     NA              | 200591              | 200591              | 0                   | 0                   | 0                   | 0                   | 0                   | 0                   | 0                   | 0                   | 0                   | \n",
       "| 2340255             | DISP_CONN           | 2016-12-20 18:06:18 | 200431              |     NA              | 200431              | 0                   | 0                   | 0                   | 0                   | 0                   | 0                   | 0                   | 0                   | 0                   | \n",
       "| 2340259             | DISP_ANS            | 2016-12-20 18:04:25 |     NA              | 200331              | 200331              | 0                   | 0                   | 1                   | 0                   | 0                   | 0                   | 0                   | 0                   | 1                   | \n",
       "| 2340260             | DISP_ANS            | 2016-12-20 18:05:49 |     NA              | 200116              | 200116              | 0                   | 0                   | 0                   | 0                   | 0                   | 0                   | 0                   | 0                   | 0                   | \n",
       "| 2340275             | DISP_CONN           | 2016-12-20 18:08:00 | 200352              |     NA              | 200352              | 0                   | 0                   | 0                   | 0                   | 0                   | 0                   | 0                   | 0                   | 0                   | \n",
       "\n",
       "\n"
      ],
      "text/plain": [
       "  CALLID  ACTIVITY  TIMESTAMP           발신상담원 응답상담원 발신응답상담원\n",
       "1 2340247 DISP_ANS  2016-12-20 17:54:52     NA     200508     200508        \n",
       "2 2340254 DISP_ANS  2016-12-20 18:04:59     NA     200591     200591        \n",
       "3 2340255 DISP_CONN 2016-12-20 18:06:18 200431         NA     200431        \n",
       "4 2340259 DISP_ANS  2016-12-20 18:04:25     NA     200331     200331        \n",
       "5 2340260 DISP_ANS  2016-12-20 18:05:49     NA     200116     200116        \n",
       "6 2340275 DISP_CONN 2016-12-20 18:08:00 200352         NA     200352        \n",
       "  보조요청여부 난청여부 컨퍼런스여부 직접상담원통화대기여부 보류중포기여부\n",
       "1 0            0        1            0                      1             \n",
       "2 0            0        0            0                      0             \n",
       "3 0            0        0            0                      0             \n",
       "4 0            0        1            0                      0             \n",
       "5 0            0        0            0                      0             \n",
       "6 0            0        0            0                      0             \n",
       "  불량통화추적활성화여부 감청여부 호전환여부 상담원에의한종료여부\n",
       "1 0                      0        0          0                   \n",
       "2 0                      0        0          0                   \n",
       "3 0                      0        0          0                   \n",
       "4 0                      0        0          1                   \n",
       "5 0                      0        0          0                   \n",
       "6 0                      0        0          0                   "
      ]
     },
     "metadata": {},
     "output_type": "display_data"
    }
   ],
   "source": [
    "han <- read.csv(\"C:\\\\Users\\\\진수빈\\\\hansol6.csv\")\n",
    "head(han)"
   ]
  },
  {
   "cell_type": "code",
   "execution_count": 3,
   "metadata": {},
   "outputs": [
    {
     "data": {
      "text/plain": [
       "\n",
       "      0 \n",
       "6116152 "
      ]
     },
     "metadata": {},
     "output_type": "display_data"
    },
    {
     "data": {
      "text/plain": [
       "\n",
       "      0 \n",
       "6116152 "
      ]
     },
     "metadata": {},
     "output_type": "display_data"
    },
    {
     "data": {
      "text/plain": [
       "\n",
       "      0       1 \n",
       "5908497  207655 "
      ]
     },
     "metadata": {},
     "output_type": "display_data"
    },
    {
     "data": {
      "text/plain": [
       "\n",
       "      0 \n",
       "6116152 "
      ]
     },
     "metadata": {},
     "output_type": "display_data"
    },
    {
     "data": {
      "text/plain": [
       "\n",
       "      0       1 \n",
       "6112778    3374 "
      ]
     },
     "metadata": {},
     "output_type": "display_data"
    },
    {
     "data": {
      "text/plain": [
       "\n",
       "      0 \n",
       "6116152 "
      ]
     },
     "metadata": {},
     "output_type": "display_data"
    },
    {
     "data": {
      "text/plain": [
       "\n",
       "      0       1 \n",
       "6115648     504 "
      ]
     },
     "metadata": {},
     "output_type": "display_data"
    },
    {
     "data": {
      "text/plain": [
       "\n",
       "      0       1 \n",
       "6087606   28546 "
      ]
     },
     "metadata": {},
     "output_type": "display_data"
    },
    {
     "data": {
      "text/plain": [
       "\n",
       "      0       1 \n",
       "5893524  222628 "
      ]
     },
     "metadata": {},
     "output_type": "display_data"
    }
   ],
   "source": [
    "table(han$보조요청여부) # all 0\n",
    "table(han$난청여부) # all 0\n",
    "table(han$컨퍼런스여부)\n",
    "table(han$직접상담원통화대기여부) # all 0\n",
    "table(han$보류중포기여부)\n",
    "table(han$불량통화추적활성화여부) # all 0\n",
    "table(han$감청여부)\n",
    "table(han$호전환여부)\n",
    "table(han$상담원에의한종료여부)"
   ]
  },
  {
   "cell_type": "code",
   "execution_count": 4,
   "metadata": {},
   "outputs": [
    {
     "data": {
      "text/html": [
       "<table>\n",
       "<thead><tr><th scope=col>CALLID</th><th scope=col>ACTIVITY</th><th scope=col>TIMESTAMP</th><th scope=col>발신상담원</th><th scope=col>응답상담원</th><th scope=col>발신응답상담원</th><th scope=col>보조요청여부</th><th scope=col>난청여부</th><th scope=col>컨퍼런스여부</th><th scope=col>직접상담원통화대기여부</th><th scope=col>보류중포기여부</th><th scope=col>불량통화추적활성화여부</th><th scope=col>감청여부</th><th scope=col>호전환여부</th><th scope=col>상담원에의한종료여부</th></tr></thead>\n",
       "<tbody>\n",
       "\t<tr><td>2340247            </td><td>DISP_ANS           </td><td>2016-12-20 17:54:52</td><td>    NA             </td><td>200508             </td><td>200508             </td><td>NO                 </td><td>NO                 </td><td>YES                </td><td>NO                 </td><td>YES                </td><td>NO                 </td><td>NO                 </td><td>NO                 </td><td>NO                 </td></tr>\n",
       "\t<tr><td>2340254            </td><td>DISP_ANS           </td><td>2016-12-20 18:04:59</td><td>    NA             </td><td>200591             </td><td>200591             </td><td>NO                 </td><td>NO                 </td><td>NO                 </td><td>NO                 </td><td>NO                 </td><td>NO                 </td><td>NO                 </td><td>NO                 </td><td>NO                 </td></tr>\n",
       "\t<tr><td>2340255            </td><td>DISP_CONN          </td><td>2016-12-20 18:06:18</td><td>200431             </td><td>    NA             </td><td>200431             </td><td>NO                 </td><td>NO                 </td><td>NO                 </td><td>NO                 </td><td>NO                 </td><td>NO                 </td><td>NO                 </td><td>NO                 </td><td>NO                 </td></tr>\n",
       "\t<tr><td>2340259            </td><td>DISP_ANS           </td><td>2016-12-20 18:04:25</td><td>    NA             </td><td>200331             </td><td>200331             </td><td>NO                 </td><td>NO                 </td><td>YES                </td><td>NO                 </td><td>NO                 </td><td>NO                 </td><td>NO                 </td><td>NO                 </td><td>YES                </td></tr>\n",
       "\t<tr><td>2340260            </td><td>DISP_ANS           </td><td>2016-12-20 18:05:49</td><td>    NA             </td><td>200116             </td><td>200116             </td><td>NO                 </td><td>NO                 </td><td>NO                 </td><td>NO                 </td><td>NO                 </td><td>NO                 </td><td>NO                 </td><td>NO                 </td><td>NO                 </td></tr>\n",
       "\t<tr><td>2340275            </td><td>DISP_CONN          </td><td>2016-12-20 18:08:00</td><td>200352             </td><td>    NA             </td><td>200352             </td><td>NO                 </td><td>NO                 </td><td>NO                 </td><td>NO                 </td><td>NO                 </td><td>NO                 </td><td>NO                 </td><td>NO                 </td><td>NO                 </td></tr>\n",
       "</tbody>\n",
       "</table>\n"
      ],
      "text/latex": [
       "\\begin{tabular}{r|lllllllllllllll}\n",
       " CALLID & ACTIVITY & TIMESTAMP & 발신상담원 & 응답상담원 & 발신응답상담원 & 보조요청여부 & 난청여부 & 컨퍼런스여부 & 직접상담원통화대기여부 & 보류중포기여부 & 불량통화추적활성화여부 & 감청여부 & 호전환여부 & 상담원에의한종료여부\\\\\n",
       "\\hline\n",
       "\t 2340247             & DISP\\_ANS          & 2016-12-20 17:54:52 &     NA              & 200508              & 200508              & NO                  & NO                  & YES                 & NO                  & YES                 & NO                  & NO                  & NO                  & NO                 \\\\\n",
       "\t 2340254             & DISP\\_ANS          & 2016-12-20 18:04:59 &     NA              & 200591              & 200591              & NO                  & NO                  & NO                  & NO                  & NO                  & NO                  & NO                  & NO                  & NO                 \\\\\n",
       "\t 2340255             & DISP\\_CONN         & 2016-12-20 18:06:18 & 200431              &     NA              & 200431              & NO                  & NO                  & NO                  & NO                  & NO                  & NO                  & NO                  & NO                  & NO                 \\\\\n",
       "\t 2340259             & DISP\\_ANS          & 2016-12-20 18:04:25 &     NA              & 200331              & 200331              & NO                  & NO                  & YES                 & NO                  & NO                  & NO                  & NO                  & NO                  & YES                \\\\\n",
       "\t 2340260             & DISP\\_ANS          & 2016-12-20 18:05:49 &     NA              & 200116              & 200116              & NO                  & NO                  & NO                  & NO                  & NO                  & NO                  & NO                  & NO                  & NO                 \\\\\n",
       "\t 2340275             & DISP\\_CONN         & 2016-12-20 18:08:00 & 200352              &     NA              & 200352              & NO                  & NO                  & NO                  & NO                  & NO                  & NO                  & NO                  & NO                  & NO                 \\\\\n",
       "\\end{tabular}\n"
      ],
      "text/markdown": [
       "\n",
       "CALLID | ACTIVITY | TIMESTAMP | 발신상담원 | 응답상담원 | 발신응답상담원 | 보조요청여부 | 난청여부 | 컨퍼런스여부 | 직접상담원통화대기여부 | 보류중포기여부 | 불량통화추적활성화여부 | 감청여부 | 호전환여부 | 상담원에의한종료여부 | \n",
       "|---|---|---|---|---|---|\n",
       "| 2340247             | DISP_ANS            | 2016-12-20 17:54:52 |     NA              | 200508              | 200508              | NO                  | NO                  | YES                 | NO                  | YES                 | NO                  | NO                  | NO                  | NO                  | \n",
       "| 2340254             | DISP_ANS            | 2016-12-20 18:04:59 |     NA              | 200591              | 200591              | NO                  | NO                  | NO                  | NO                  | NO                  | NO                  | NO                  | NO                  | NO                  | \n",
       "| 2340255             | DISP_CONN           | 2016-12-20 18:06:18 | 200431              |     NA              | 200431              | NO                  | NO                  | NO                  | NO                  | NO                  | NO                  | NO                  | NO                  | NO                  | \n",
       "| 2340259             | DISP_ANS            | 2016-12-20 18:04:25 |     NA              | 200331              | 200331              | NO                  | NO                  | YES                 | NO                  | NO                  | NO                  | NO                  | NO                  | YES                 | \n",
       "| 2340260             | DISP_ANS            | 2016-12-20 18:05:49 |     NA              | 200116              | 200116              | NO                  | NO                  | NO                  | NO                  | NO                  | NO                  | NO                  | NO                  | NO                  | \n",
       "| 2340275             | DISP_CONN           | 2016-12-20 18:08:00 | 200352              |     NA              | 200352              | NO                  | NO                  | NO                  | NO                  | NO                  | NO                  | NO                  | NO                  | NO                  | \n",
       "\n",
       "\n"
      ],
      "text/plain": [
       "  CALLID  ACTIVITY  TIMESTAMP           발신상담원 응답상담원 발신응답상담원\n",
       "1 2340247 DISP_ANS  2016-12-20 17:54:52     NA     200508     200508        \n",
       "2 2340254 DISP_ANS  2016-12-20 18:04:59     NA     200591     200591        \n",
       "3 2340255 DISP_CONN 2016-12-20 18:06:18 200431         NA     200431        \n",
       "4 2340259 DISP_ANS  2016-12-20 18:04:25     NA     200331     200331        \n",
       "5 2340260 DISP_ANS  2016-12-20 18:05:49     NA     200116     200116        \n",
       "6 2340275 DISP_CONN 2016-12-20 18:08:00 200352         NA     200352        \n",
       "  보조요청여부 난청여부 컨퍼런스여부 직접상담원통화대기여부 보류중포기여부\n",
       "1 NO           NO       YES          NO                     YES           \n",
       "2 NO           NO       NO           NO                     NO            \n",
       "3 NO           NO       NO           NO                     NO            \n",
       "4 NO           NO       YES          NO                     NO            \n",
       "5 NO           NO       NO           NO                     NO            \n",
       "6 NO           NO       NO           NO                     NO            \n",
       "  불량통화추적활성화여부 감청여부 호전환여부 상담원에의한종료여부\n",
       "1 NO                     NO       NO         NO                  \n",
       "2 NO                     NO       NO         NO                  \n",
       "3 NO                     NO       NO         NO                  \n",
       "4 NO                     NO       NO         YES                 \n",
       "5 NO                     NO       NO         NO                  \n",
       "6 NO                     NO       NO         NO                  "
      ]
     },
     "metadata": {},
     "output_type": "display_data"
    }
   ],
   "source": [
    "han$보조요청여부 <- ifelse(han$보조요청여부 == 1, \"YES\", \"NO\")\n",
    "han$난청여부 <- ifelse(han$난청여부 == 1, \"YES\", \"NO\")\n",
    "han$컨퍼런스여부 <- ifelse(han$컨퍼런스여부 == 1, \"YES\", \"NO\")\n",
    "han$직접상담원통화대기여부 <- ifelse(han$직접상담원통화대기여부 == 1, \"YES\", \"NO\")\n",
    "han$보류중포기여부 <- ifelse(han$보류중포기여부 == 1, \"YES\", \"NO\")\n",
    "han$불량통화추적활성화여부 <- ifelse(han$불량통화추적활성화여부 == 1, \"YES\", \"NO\")\n",
    "han$감청여부 <- ifelse(han$감청여부 == 1, \"YES\", \"NO\")\n",
    "han$호전환여부 <- ifelse(han$호전환여부 == 1, \"YES\", \"NO\")\n",
    "han$상담원에의한종료여부 <- ifelse(han$상담원에의한종료여부 == 1, \"YES\", \"NO\")\n",
    "head(han)"
   ]
  },
  {
   "cell_type": "code",
   "execution_count": 7,
   "metadata": {},
   "outputs": [
    {
     "data": {
      "text/html": [
       "<table>\n",
       "<thead><tr><th scope=col>CALLID</th><th scope=col>ACTIVITY</th><th scope=col>TIMESTAMP</th><th scope=col>발신상담원</th><th scope=col>응답상담원</th><th scope=col>발신응답상담원</th><th scope=col>컨퍼런스여부</th><th scope=col>보류중포기여부</th><th scope=col>감청여부</th><th scope=col>호전환여부</th><th scope=col>상담원에의한종료여부</th></tr></thead>\n",
       "<tbody>\n",
       "\t<tr><td>2340247            </td><td>DISP_ANS           </td><td>2016-12-20 17:54:52</td><td>    NA             </td><td>200508             </td><td>200508             </td><td>YES                </td><td>YES                </td><td>NO                 </td><td>NO                 </td><td>NO                 </td></tr>\n",
       "\t<tr><td>2340254            </td><td>DISP_ANS           </td><td>2016-12-20 18:04:59</td><td>    NA             </td><td>200591             </td><td>200591             </td><td>NO                 </td><td>NO                 </td><td>NO                 </td><td>NO                 </td><td>NO                 </td></tr>\n",
       "\t<tr><td>2340255            </td><td>DISP_CONN          </td><td>2016-12-20 18:06:18</td><td>200431             </td><td>    NA             </td><td>200431             </td><td>NO                 </td><td>NO                 </td><td>NO                 </td><td>NO                 </td><td>NO                 </td></tr>\n",
       "\t<tr><td>2340259            </td><td>DISP_ANS           </td><td>2016-12-20 18:04:25</td><td>    NA             </td><td>200331             </td><td>200331             </td><td>YES                </td><td>NO                 </td><td>NO                 </td><td>NO                 </td><td>YES                </td></tr>\n",
       "\t<tr><td>2340260            </td><td>DISP_ANS           </td><td>2016-12-20 18:05:49</td><td>    NA             </td><td>200116             </td><td>200116             </td><td>NO                 </td><td>NO                 </td><td>NO                 </td><td>NO                 </td><td>NO                 </td></tr>\n",
       "\t<tr><td>2340275            </td><td>DISP_CONN          </td><td>2016-12-20 18:08:00</td><td>200352             </td><td>    NA             </td><td>200352             </td><td>NO                 </td><td>NO                 </td><td>NO                 </td><td>NO                 </td><td>NO                 </td></tr>\n",
       "</tbody>\n",
       "</table>\n"
      ],
      "text/latex": [
       "\\begin{tabular}{r|lllllllllll}\n",
       " CALLID & ACTIVITY & TIMESTAMP & 발신상담원 & 응답상담원 & 발신응답상담원 & 컨퍼런스여부 & 보류중포기여부 & 감청여부 & 호전환여부 & 상담원에의한종료여부\\\\\n",
       "\\hline\n",
       "\t 2340247             & DISP\\_ANS          & 2016-12-20 17:54:52 &     NA              & 200508              & 200508              & YES                 & YES                 & NO                  & NO                  & NO                 \\\\\n",
       "\t 2340254             & DISP\\_ANS          & 2016-12-20 18:04:59 &     NA              & 200591              & 200591              & NO                  & NO                  & NO                  & NO                  & NO                 \\\\\n",
       "\t 2340255             & DISP\\_CONN         & 2016-12-20 18:06:18 & 200431              &     NA              & 200431              & NO                  & NO                  & NO                  & NO                  & NO                 \\\\\n",
       "\t 2340259             & DISP\\_ANS          & 2016-12-20 18:04:25 &     NA              & 200331              & 200331              & YES                 & NO                  & NO                  & NO                  & YES                \\\\\n",
       "\t 2340260             & DISP\\_ANS          & 2016-12-20 18:05:49 &     NA              & 200116              & 200116              & NO                  & NO                  & NO                  & NO                  & NO                 \\\\\n",
       "\t 2340275             & DISP\\_CONN         & 2016-12-20 18:08:00 & 200352              &     NA              & 200352              & NO                  & NO                  & NO                  & NO                  & NO                 \\\\\n",
       "\\end{tabular}\n"
      ],
      "text/markdown": [
       "\n",
       "CALLID | ACTIVITY | TIMESTAMP | 발신상담원 | 응답상담원 | 발신응답상담원 | 컨퍼런스여부 | 보류중포기여부 | 감청여부 | 호전환여부 | 상담원에의한종료여부 | \n",
       "|---|---|---|---|---|---|\n",
       "| 2340247             | DISP_ANS            | 2016-12-20 17:54:52 |     NA              | 200508              | 200508              | YES                 | YES                 | NO                  | NO                  | NO                  | \n",
       "| 2340254             | DISP_ANS            | 2016-12-20 18:04:59 |     NA              | 200591              | 200591              | NO                  | NO                  | NO                  | NO                  | NO                  | \n",
       "| 2340255             | DISP_CONN           | 2016-12-20 18:06:18 | 200431              |     NA              | 200431              | NO                  | NO                  | NO                  | NO                  | NO                  | \n",
       "| 2340259             | DISP_ANS            | 2016-12-20 18:04:25 |     NA              | 200331              | 200331              | YES                 | NO                  | NO                  | NO                  | YES                 | \n",
       "| 2340260             | DISP_ANS            | 2016-12-20 18:05:49 |     NA              | 200116              | 200116              | NO                  | NO                  | NO                  | NO                  | NO                  | \n",
       "| 2340275             | DISP_CONN           | 2016-12-20 18:08:00 | 200352              |     NA              | 200352              | NO                  | NO                  | NO                  | NO                  | NO                  | \n",
       "\n",
       "\n"
      ],
      "text/plain": [
       "  CALLID  ACTIVITY  TIMESTAMP           발신상담원 응답상담원 발신응답상담원\n",
       "1 2340247 DISP_ANS  2016-12-20 17:54:52     NA     200508     200508        \n",
       "2 2340254 DISP_ANS  2016-12-20 18:04:59     NA     200591     200591        \n",
       "3 2340255 DISP_CONN 2016-12-20 18:06:18 200431         NA     200431        \n",
       "4 2340259 DISP_ANS  2016-12-20 18:04:25     NA     200331     200331        \n",
       "5 2340260 DISP_ANS  2016-12-20 18:05:49     NA     200116     200116        \n",
       "6 2340275 DISP_CONN 2016-12-20 18:08:00 200352         NA     200352        \n",
       "  컨퍼런스여부 보류중포기여부 감청여부 호전환여부 상담원에의한종료여부\n",
       "1 YES          YES            NO       NO         NO                  \n",
       "2 NO           NO             NO       NO         NO                  \n",
       "3 NO           NO             NO       NO         NO                  \n",
       "4 YES          NO             NO       NO         YES                 \n",
       "5 NO           NO             NO       NO         NO                  \n",
       "6 NO           NO             NO       NO         NO                  "
      ]
     },
     "metadata": {},
     "output_type": "display_data"
    }
   ],
   "source": [
    "han2 <- select(han, -보조요청여부, -난청여부, -직접상담원통화대기여부, -불량통화추적활성화여부)\n",
    "head(han2)"
   ]
  },
  {
   "cell_type": "markdown",
   "metadata": {},
   "source": [
    "## 12. 0초 Activity 삭제하자\n",
    "### 그런데 생각해 보면 이게 의미없는 일임\n",
    "### 왜냐하면 이걸 하려면 endtime의 개념이 있어야하는데 없음\n",
    "### 아니네 0초면 삭제하는거니까\n",
    "### 다시 계획을 세워봄\n",
    "### Arrange\n",
    "### Time 한행씩 밀기\n",
    "### 같으면 날리기"
   ]
  },
  {
   "cell_type": "code",
   "execution_count": 8,
   "metadata": {},
   "outputs": [
    {
     "data": {
      "text/html": [
       "<table>\n",
       "<thead><tr><th scope=col>CALLID</th><th scope=col>ACTIVITY</th><th scope=col>TIMESTAMP</th><th scope=col>발신상담원</th><th scope=col>응답상담원</th><th scope=col>발신응답상담원</th><th scope=col>컨퍼런스여부</th><th scope=col>보류중포기여부</th><th scope=col>감청여부</th><th scope=col>호전환여부</th><th scope=col>상담원에의한종료여부</th></tr></thead>\n",
       "<tbody>\n",
       "\t<tr><td>2340195            </td><td>DISP_CONN          </td><td>2016-12-20 18:00:16</td><td>NA                 </td><td>NA                 </td><td>NA                 </td><td>NO                 </td><td>NO                 </td><td>NO                 </td><td>NO                 </td><td>NO                 </td></tr>\n",
       "\t<tr><td>2340195            </td><td>QUEUETIME          </td><td>2016-12-20 18:00:16</td><td>NA                 </td><td>NA                 </td><td>NA                 </td><td>NO                 </td><td>NO                 </td><td>NO                 </td><td>NO                 </td><td>NO                 </td></tr>\n",
       "\t<tr><td>2340195            </td><td>RINGTIME           </td><td>2016-12-20 18:00:16</td><td>NA                 </td><td>NA                 </td><td>NA                 </td><td>NO                 </td><td>NO                 </td><td>NO                 </td><td>NO                 </td><td>NO                 </td></tr>\n",
       "\t<tr><td>2340195            </td><td>ACWTIME            </td><td>2016-12-20 18:00:36</td><td>NA                 </td><td>NA                 </td><td>NA                 </td><td>NO                 </td><td>NO                 </td><td>NO                 </td><td>NO                 </td><td>NO                 </td></tr>\n",
       "\t<tr><td>2340195            </td><td>ANSHOLDTIME        </td><td>2016-12-20 18:00:36</td><td>NA                 </td><td>NA                 </td><td>NA                 </td><td>NO                 </td><td>NO                 </td><td>NO                 </td><td>NO                 </td><td>NO                 </td></tr>\n",
       "\t<tr><td>2340195            </td><td>CONSULTTIME        </td><td>2016-12-20 18:00:36</td><td>NA                 </td><td>NA                 </td><td>NA                 </td><td>NO                 </td><td>NO                 </td><td>NO                 </td><td>NO                 </td><td>NO                 </td></tr>\n",
       "\t<tr><td>2340195            </td><td>TALKTIME           </td><td>2016-12-20 18:00:36</td><td>NA                 </td><td>NA                 </td><td>NA                 </td><td>NO                 </td><td>NO                 </td><td>NO                 </td><td>NO                 </td><td>NO                 </td></tr>\n",
       "\t<tr><td>2340196            </td><td>QUEUETIME          </td><td>2016-12-20 18:01:23</td><td>NA                 </td><td>NA                 </td><td>NA                 </td><td>NO                 </td><td>NO                 </td><td>NO                 </td><td>NO                 </td><td>NO                 </td></tr>\n",
       "\t<tr><td>2340196            </td><td>RINGTIME           </td><td>2016-12-20 18:01:23</td><td>NA                 </td><td>NA                 </td><td>NA                 </td><td>NO                 </td><td>NO                 </td><td>NO                 </td><td>NO                 </td><td>NO                 </td></tr>\n",
       "\t<tr><td>2340196            </td><td>DISP_CONN          </td><td>2016-12-20 18:01:24</td><td>NA                 </td><td>NA                 </td><td>NA                 </td><td>NO                 </td><td>NO                 </td><td>NO                 </td><td>NO                 </td><td>NO                 </td></tr>\n",
       "</tbody>\n",
       "</table>\n"
      ],
      "text/latex": [
       "\\begin{tabular}{r|lllllllllll}\n",
       " CALLID & ACTIVITY & TIMESTAMP & 발신상담원 & 응답상담원 & 발신응답상담원 & 컨퍼런스여부 & 보류중포기여부 & 감청여부 & 호전환여부 & 상담원에의한종료여부\\\\\n",
       "\\hline\n",
       "\t 2340195             & DISP\\_CONN         & 2016-12-20 18:00:16 & NA                  & NA                  & NA                  & NO                  & NO                  & NO                  & NO                  & NO                 \\\\\n",
       "\t 2340195             & QUEUETIME           & 2016-12-20 18:00:16 & NA                  & NA                  & NA                  & NO                  & NO                  & NO                  & NO                  & NO                 \\\\\n",
       "\t 2340195             & RINGTIME            & 2016-12-20 18:00:16 & NA                  & NA                  & NA                  & NO                  & NO                  & NO                  & NO                  & NO                 \\\\\n",
       "\t 2340195             & ACWTIME             & 2016-12-20 18:00:36 & NA                  & NA                  & NA                  & NO                  & NO                  & NO                  & NO                  & NO                 \\\\\n",
       "\t 2340195             & ANSHOLDTIME         & 2016-12-20 18:00:36 & NA                  & NA                  & NA                  & NO                  & NO                  & NO                  & NO                  & NO                 \\\\\n",
       "\t 2340195             & CONSULTTIME         & 2016-12-20 18:00:36 & NA                  & NA                  & NA                  & NO                  & NO                  & NO                  & NO                  & NO                 \\\\\n",
       "\t 2340195             & TALKTIME            & 2016-12-20 18:00:36 & NA                  & NA                  & NA                  & NO                  & NO                  & NO                  & NO                  & NO                 \\\\\n",
       "\t 2340196             & QUEUETIME           & 2016-12-20 18:01:23 & NA                  & NA                  & NA                  & NO                  & NO                  & NO                  & NO                  & NO                 \\\\\n",
       "\t 2340196             & RINGTIME            & 2016-12-20 18:01:23 & NA                  & NA                  & NA                  & NO                  & NO                  & NO                  & NO                  & NO                 \\\\\n",
       "\t 2340196             & DISP\\_CONN         & 2016-12-20 18:01:24 & NA                  & NA                  & NA                  & NO                  & NO                  & NO                  & NO                  & NO                 \\\\\n",
       "\\end{tabular}\n"
      ],
      "text/markdown": [
       "\n",
       "CALLID | ACTIVITY | TIMESTAMP | 발신상담원 | 응답상담원 | 발신응답상담원 | 컨퍼런스여부 | 보류중포기여부 | 감청여부 | 호전환여부 | 상담원에의한종료여부 | \n",
       "|---|---|---|---|---|---|---|---|---|---|\n",
       "| 2340195             | DISP_CONN           | 2016-12-20 18:00:16 | NA                  | NA                  | NA                  | NO                  | NO                  | NO                  | NO                  | NO                  | \n",
       "| 2340195             | QUEUETIME           | 2016-12-20 18:00:16 | NA                  | NA                  | NA                  | NO                  | NO                  | NO                  | NO                  | NO                  | \n",
       "| 2340195             | RINGTIME            | 2016-12-20 18:00:16 | NA                  | NA                  | NA                  | NO                  | NO                  | NO                  | NO                  | NO                  | \n",
       "| 2340195             | ACWTIME             | 2016-12-20 18:00:36 | NA                  | NA                  | NA                  | NO                  | NO                  | NO                  | NO                  | NO                  | \n",
       "| 2340195             | ANSHOLDTIME         | 2016-12-20 18:00:36 | NA                  | NA                  | NA                  | NO                  | NO                  | NO                  | NO                  | NO                  | \n",
       "| 2340195             | CONSULTTIME         | 2016-12-20 18:00:36 | NA                  | NA                  | NA                  | NO                  | NO                  | NO                  | NO                  | NO                  | \n",
       "| 2340195             | TALKTIME            | 2016-12-20 18:00:36 | NA                  | NA                  | NA                  | NO                  | NO                  | NO                  | NO                  | NO                  | \n",
       "| 2340196             | QUEUETIME           | 2016-12-20 18:01:23 | NA                  | NA                  | NA                  | NO                  | NO                  | NO                  | NO                  | NO                  | \n",
       "| 2340196             | RINGTIME            | 2016-12-20 18:01:23 | NA                  | NA                  | NA                  | NO                  | NO                  | NO                  | NO                  | NO                  | \n",
       "| 2340196             | DISP_CONN           | 2016-12-20 18:01:24 | NA                  | NA                  | NA                  | NO                  | NO                  | NO                  | NO                  | NO                  | \n",
       "\n",
       "\n"
      ],
      "text/plain": [
       "   CALLID  ACTIVITY    TIMESTAMP           발신상담원 응답상담원 발신응답상담원\n",
       "1  2340195 DISP_CONN   2016-12-20 18:00:16 NA         NA         NA            \n",
       "2  2340195 QUEUETIME   2016-12-20 18:00:16 NA         NA         NA            \n",
       "3  2340195 RINGTIME    2016-12-20 18:00:16 NA         NA         NA            \n",
       "4  2340195 ACWTIME     2016-12-20 18:00:36 NA         NA         NA            \n",
       "5  2340195 ANSHOLDTIME 2016-12-20 18:00:36 NA         NA         NA            \n",
       "6  2340195 CONSULTTIME 2016-12-20 18:00:36 NA         NA         NA            \n",
       "7  2340195 TALKTIME    2016-12-20 18:00:36 NA         NA         NA            \n",
       "8  2340196 QUEUETIME   2016-12-20 18:01:23 NA         NA         NA            \n",
       "9  2340196 RINGTIME    2016-12-20 18:01:23 NA         NA         NA            \n",
       "10 2340196 DISP_CONN   2016-12-20 18:01:24 NA         NA         NA            \n",
       "   컨퍼런스여부 보류중포기여부 감청여부 호전환여부 상담원에의한종료여부\n",
       "1  NO           NO             NO       NO         NO                  \n",
       "2  NO           NO             NO       NO         NO                  \n",
       "3  NO           NO             NO       NO         NO                  \n",
       "4  NO           NO             NO       NO         NO                  \n",
       "5  NO           NO             NO       NO         NO                  \n",
       "6  NO           NO             NO       NO         NO                  \n",
       "7  NO           NO             NO       NO         NO                  \n",
       "8  NO           NO             NO       NO         NO                  \n",
       "9  NO           NO             NO       NO         NO                  \n",
       "10 NO           NO             NO       NO         NO                  "
      ]
     },
     "metadata": {},
     "output_type": "display_data"
    }
   ],
   "source": [
    "han3 <- arrange(han2, CALLID, TIMESTAMP)\n",
    "head(han3, 10)"
   ]
  },
  {
   "cell_type": "code",
   "execution_count": null,
   "metadata": {},
   "outputs": [],
   "source": []
  }
 ],
 "metadata": {
  "kernelspec": {
   "display_name": "R",
   "language": "R",
   "name": "ir"
  },
  "language_info": {
   "codemirror_mode": "r",
   "file_extension": ".r",
   "mimetype": "text/x-r-source",
   "name": "R",
   "pygments_lexer": "r",
   "version": "3.4.3"
  }
 },
 "nbformat": 4,
 "nbformat_minor": 2
}
