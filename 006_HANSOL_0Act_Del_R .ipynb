{
 "cells": [
  {
   "cell_type": "markdown",
   "metadata": {},
   "source": [
    "# 006_HANSOL_0Act_Del_R\n",
    "## 한솔 인티큐브 콜센터 데이터\n",
    " \n",
    "## 데이터 처리 과정\n",
    "### 005_HANSOL_All_Act_R에 2 - 3부터 시작\n",
    "### 4. Acticity 생성\n",
    "### 5. Activity Time이 0초인 경우 제외\n",
    "### 6. 005와 같음"
   ]
  },
  {
   "cell_type": "code",
   "execution_count": 1,
   "metadata": {},
   "outputs": [
    {
     "name": "stderr",
     "output_type": "stream",
     "text": [
      "-- Attaching packages --------------------------------------- tidyverse 1.2.1 --\n",
      "√ ggplot2 2.2.1     √ purrr   0.2.4\n",
      "√ tibble  1.4.1     √ dplyr   0.7.4\n",
      "√ tidyr   0.7.2     √ stringr 1.2.0\n",
      "√ readr   1.1.1     √ forcats 0.2.0\n",
      "-- Conflicts ------------------------------------------ tidyverse_conflicts() --\n",
      "x dplyr::filter() masks stats::filter()\n",
      "x dplyr::lag()    masks stats::lag()\n"
     ]
    }
   ],
   "source": [
    "library(tidyverse)"
   ]
  },
  {
   "cell_type": "code",
   "execution_count": 2,
   "metadata": {},
   "outputs": [
    {
     "name": "stderr",
     "output_type": "stream",
     "text": [
      "------------------------------------------------------------------------------\n",
      "You have loaded plyr after dplyr - this is likely to cause problems.\n",
      "If you need functions from both plyr and dplyr, please load plyr first, then dplyr:\n",
      "library(plyr); library(dplyr)\n",
      "------------------------------------------------------------------------------\n",
      "\n",
      "Attaching package: 'plyr'\n",
      "\n",
      "The following objects are masked from 'package:dplyr':\n",
      "\n",
      "    arrange, count, desc, failwith, id, mutate, rename, summarise,\n",
      "    summarize\n",
      "\n",
      "The following object is masked from 'package:purrr':\n",
      "\n",
      "    compact\n",
      "\n"
     ]
    }
   ],
   "source": [
    "library(plyr)"
   ]
  },
  {
   "cell_type": "code",
   "execution_count": 3,
   "metadata": {},
   "outputs": [
    {
     "name": "stderr",
     "output_type": "stream",
     "text": [
      "\n",
      "Attaching package: 'reshape2'\n",
      "\n",
      "The following object is masked from 'package:tidyr':\n",
      "\n",
      "    smiths\n",
      "\n"
     ]
    }
   ],
   "source": [
    "library(reshape2)"
   ]
  },
  {
   "cell_type": "code",
   "execution_count": 6,
   "metadata": {},
   "outputs": [
    {
     "data": {
      "text/html": [
       "<table>\n",
       "<thead><tr><th scope=col>CALLID</th><th scope=col>ACWTIME</th><th scope=col>ANSHOLDTIME</th><th scope=col>CONSULTTIME</th><th scope=col>DISPTIME</th><th scope=col>DURATION</th><th scope=col>SEGSTART</th><th scope=col>SEGSTART_UTC</th><th scope=col>SEGSTOP</th><th scope=col>SEGSTOP_UTC</th><th scope=col>...</th><th scope=col>ORIGLOGIN</th><th scope=col>ANSLOGIN</th><th scope=col>LASTOBSERVER</th><th scope=col>LASTDIGITS</th><th scope=col>CALLING_II</th><th scope=col>VDN2</th><th scope=col>VDN3</th><th scope=col>ASAI_UUI</th><th scope=col>AGENTSURPLUS</th><th scope=col>AGENTSKILLLEVEL</th></tr></thead>\n",
       "<tbody>\n",
       "\t<tr><td>2340247            </td><td>0                  </td><td>15                 </td><td>0                  </td><td>21                 </td><td>629                </td><td>21.12.2016 02:54:52</td><td>2016-12-20 17:54:52</td><td>2016-12-21 03:05:21</td><td>2016-12-20 18:05:21</td><td>...                </td><td>    NA             </td><td>200508             </td><td>NA                 </td><td>1                  </td><td>NA                 </td><td>510211             </td><td>NA                 </td><td>                   </td><td>2                  </td><td>4                  </td></tr>\n",
       "\t<tr><td>2340254            </td><td>0                  </td><td> 0                 </td><td>0                  </td><td> 2                 </td><td> 93                </td><td>21.12.2016 03:04:59</td><td>2016-12-20 18:04:59</td><td>2016-12-21 03:06:32</td><td>2016-12-20 18:06:32</td><td>...                </td><td>    NA             </td><td>200591             </td><td>NA                 </td><td>                   </td><td>NA                 </td><td>    NA             </td><td>NA                 </td><td>                   </td><td>2                  </td><td>4                  </td></tr>\n",
       "\t<tr><td>2340255            </td><td>0                  </td><td> 0                 </td><td>2                  </td><td> 1                 </td><td> 31                </td><td>21.12.2016 03:06:18</td><td>2016-12-20 18:06:18</td><td>2016-12-21 03:06:49</td><td>2016-12-20 18:06:49</td><td>...                </td><td>200431             </td><td>    NA             </td><td>NA                 </td><td>                   </td><td>NA                 </td><td>    NA             </td><td>NA                 </td><td>                   </td><td>0                  </td><td>0                  </td></tr>\n",
       "\t<tr><td>2340259            </td><td>1                  </td><td>11                 </td><td>0                  </td><td> 8                 </td><td>122                </td><td>21.12.2016 03:04:25</td><td>2016-12-20 18:04:25</td><td>2016-12-21 03:07:12</td><td>2016-12-20 18:07:12</td><td>...                </td><td>    NA             </td><td>200331             </td><td>NA                 </td><td>                   </td><td>NA                 </td><td>    NA             </td><td>NA                 </td><td>                   </td><td>1                  </td><td>4                  </td></tr>\n",
       "\t<tr><td>2340260            </td><td>0                  </td><td> 0                 </td><td>0                  </td><td> 2                 </td><td> 93                </td><td>21.12.2016 03:05:49</td><td>2016-12-20 18:05:49</td><td>2016-12-21 03:07:22</td><td>2016-12-20 18:07:22</td><td>...                </td><td>    NA             </td><td>200116             </td><td>NA                 </td><td>                   </td><td>NA                 </td><td>    NA             </td><td>NA                 </td><td>                   </td><td>2                  </td><td>4                  </td></tr>\n",
       "\t<tr><td>2340275            </td><td>0                  </td><td> 0                 </td><td>2                  </td><td> 1                 </td><td> 67                </td><td>21.12.2016 03:08:00</td><td>2016-12-20 18:08:00</td><td>2016-12-21 03:09:11</td><td>2016-12-20 18:09:11</td><td>...                </td><td>200352             </td><td>    NA             </td><td>NA                 </td><td>                   </td><td>NA                 </td><td>    NA             </td><td>NA                 </td><td>                   </td><td>0                  </td><td>0                  </td></tr>\n",
       "</tbody>\n",
       "</table>\n"
      ],
      "text/latex": [
       "\\begin{tabular}{r|lllllllllllllllllllllllllllllllllllllllllllllllllllllllll}\n",
       " CALLID & ACWTIME & ANSHOLDTIME & CONSULTTIME & DISPTIME & DURATION & SEGSTART & SEGSTART\\_UTC & SEGSTOP & SEGSTOP\\_UTC & ... & ORIGLOGIN & ANSLOGIN & LASTOBSERVER & LASTDIGITS & CALLING\\_II & VDN2 & VDN3 & ASAI\\_UUI & AGENTSURPLUS & AGENTSKILLLEVEL\\\\\n",
       "\\hline\n",
       "\t 2340247             & 0                   & 15                  & 0                   & 21                  & 629                 & 21.12.2016 02:54:52 & 2016-12-20 17:54:52 & 2016-12-21 03:05:21 & 2016-12-20 18:05:21 & ...                 &     NA              & 200508              & NA                  & 1                   & NA                  & 510211              & NA                  &                     & 2                   & 4                  \\\\\n",
       "\t 2340254             & 0                   &  0                  & 0                   &  2                  &  93                 & 21.12.2016 03:04:59 & 2016-12-20 18:04:59 & 2016-12-21 03:06:32 & 2016-12-20 18:06:32 & ...                 &     NA              & 200591              & NA                  &                     & NA                  &     NA              & NA                  &                     & 2                   & 4                  \\\\\n",
       "\t 2340255             & 0                   &  0                  & 2                   &  1                  &  31                 & 21.12.2016 03:06:18 & 2016-12-20 18:06:18 & 2016-12-21 03:06:49 & 2016-12-20 18:06:49 & ...                 & 200431              &     NA              & NA                  &                     & NA                  &     NA              & NA                  &                     & 0                   & 0                  \\\\\n",
       "\t 2340259             & 1                   & 11                  & 0                   &  8                  & 122                 & 21.12.2016 03:04:25 & 2016-12-20 18:04:25 & 2016-12-21 03:07:12 & 2016-12-20 18:07:12 & ...                 &     NA              & 200331              & NA                  &                     & NA                  &     NA              & NA                  &                     & 1                   & 4                  \\\\\n",
       "\t 2340260             & 0                   &  0                  & 0                   &  2                  &  93                 & 21.12.2016 03:05:49 & 2016-12-20 18:05:49 & 2016-12-21 03:07:22 & 2016-12-20 18:07:22 & ...                 &     NA              & 200116              & NA                  &                     & NA                  &     NA              & NA                  &                     & 2                   & 4                  \\\\\n",
       "\t 2340275             & 0                   &  0                  & 2                   &  1                  &  67                 & 21.12.2016 03:08:00 & 2016-12-20 18:08:00 & 2016-12-21 03:09:11 & 2016-12-20 18:09:11 & ...                 & 200352              &     NA              & NA                  &                     & NA                  &     NA              & NA                  &                     & 0                   & 0                  \\\\\n",
       "\\end{tabular}\n"
      ],
      "text/markdown": [
       "\n",
       "CALLID | ACWTIME | ANSHOLDTIME | CONSULTTIME | DISPTIME | DURATION | SEGSTART | SEGSTART_UTC | SEGSTOP | SEGSTOP_UTC | ... | ORIGLOGIN | ANSLOGIN | LASTOBSERVER | LASTDIGITS | CALLING_II | VDN2 | VDN3 | ASAI_UUI | AGENTSURPLUS | AGENTSKILLLEVEL | \n",
       "|---|---|---|---|---|---|\n",
       "| 2340247             | 0                   | 15                  | 0                   | 21                  | 629                 | 21.12.2016 02:54:52 | 2016-12-20 17:54:52 | 2016-12-21 03:05:21 | 2016-12-20 18:05:21 | ...                 |     NA              | 200508              | NA                  | 1                   | NA                  | 510211              | NA                  |                     | 2                   | 4                   | \n",
       "| 2340254             | 0                   |  0                  | 0                   |  2                  |  93                 | 21.12.2016 03:04:59 | 2016-12-20 18:04:59 | 2016-12-21 03:06:32 | 2016-12-20 18:06:32 | ...                 |     NA              | 200591              | NA                  |                     | NA                  |     NA              | NA                  |                     | 2                   | 4                   | \n",
       "| 2340255             | 0                   |  0                  | 2                   |  1                  |  31                 | 21.12.2016 03:06:18 | 2016-12-20 18:06:18 | 2016-12-21 03:06:49 | 2016-12-20 18:06:49 | ...                 | 200431              |     NA              | NA                  |                     | NA                  |     NA              | NA                  |                     | 0                   | 0                   | \n",
       "| 2340259             | 1                   | 11                  | 0                   |  8                  | 122                 | 21.12.2016 03:04:25 | 2016-12-20 18:04:25 | 2016-12-21 03:07:12 | 2016-12-20 18:07:12 | ...                 |     NA              | 200331              | NA                  |                     | NA                  |     NA              | NA                  |                     | 1                   | 4                   | \n",
       "| 2340260             | 0                   |  0                  | 0                   |  2                  |  93                 | 21.12.2016 03:05:49 | 2016-12-20 18:05:49 | 2016-12-21 03:07:22 | 2016-12-20 18:07:22 | ...                 |     NA              | 200116              | NA                  |                     | NA                  |     NA              | NA                  |                     | 2                   | 4                   | \n",
       "| 2340275             | 0                   |  0                  | 2                   |  1                  |  67                 | 21.12.2016 03:08:00 | 2016-12-20 18:08:00 | 2016-12-21 03:09:11 | 2016-12-20 18:09:11 | ...                 | 200352              |     NA              | NA                  |                     | NA                  |     NA              | NA                  |                     | 0                   | 0                   | \n",
       "\n",
       "\n"
      ],
      "text/plain": [
       "  CALLID  ACWTIME ANSHOLDTIME CONSULTTIME DISPTIME DURATION SEGSTART           \n",
       "1 2340247 0       15          0           21       629      21.12.2016 02:54:52\n",
       "2 2340254 0        0          0            2        93      21.12.2016 03:04:59\n",
       "3 2340255 0        0          2            1        31      21.12.2016 03:06:18\n",
       "4 2340259 1       11          0            8       122      21.12.2016 03:04:25\n",
       "5 2340260 0        0          0            2        93      21.12.2016 03:05:49\n",
       "6 2340275 0        0          2            1        67      21.12.2016 03:08:00\n",
       "  SEGSTART_UTC        SEGSTOP             SEGSTOP_UTC         ... ORIGLOGIN\n",
       "1 2016-12-20 17:54:52 2016-12-21 03:05:21 2016-12-20 18:05:21 ...     NA   \n",
       "2 2016-12-20 18:04:59 2016-12-21 03:06:32 2016-12-20 18:06:32 ...     NA   \n",
       "3 2016-12-20 18:06:18 2016-12-21 03:06:49 2016-12-20 18:06:49 ... 200431   \n",
       "4 2016-12-20 18:04:25 2016-12-21 03:07:12 2016-12-20 18:07:12 ...     NA   \n",
       "5 2016-12-20 18:05:49 2016-12-21 03:07:22 2016-12-20 18:07:22 ...     NA   \n",
       "6 2016-12-20 18:08:00 2016-12-21 03:09:11 2016-12-20 18:09:11 ... 200352   \n",
       "  ANSLOGIN LASTOBSERVER LASTDIGITS CALLING_II VDN2   VDN3 ASAI_UUI AGENTSURPLUS\n",
       "1 200508   NA           1          NA         510211 NA            2           \n",
       "2 200591   NA                      NA             NA NA            2           \n",
       "3     NA   NA                      NA             NA NA            0           \n",
       "4 200331   NA                      NA             NA NA            1           \n",
       "5 200116   NA                      NA             NA NA            2           \n",
       "6     NA   NA                      NA             NA NA            0           \n",
       "  AGENTSKILLLEVEL\n",
       "1 4              \n",
       "2 4              \n",
       "3 0              \n",
       "4 4              \n",
       "5 4              \n",
       "6 0              "
      ]
     },
     "metadata": {},
     "output_type": "display_data"
    }
   ],
   "source": [
    "hans <- read.csv(\"C:\\\\Users\\\\진수빈\\\\hansoltime.csv\")\n",
    "head(hans)"
   ]
  },
  {
   "cell_type": "markdown",
   "metadata": {},
   "source": [
    "## 4. Activity 생성\n",
    "### 사실 여기부터는 모든 것이 가정임"
   ]
  },
  {
   "cell_type": "code",
   "execution_count": 45,
   "metadata": {
    "scrolled": true
   },
   "outputs": [
    {
     "data": {
      "text/html": [
       "<table>\n",
       "<thead><tr><th scope=col>CALLID</th><th scope=col>ACWTIME</th><th scope=col>ANSHOLDTIME</th><th scope=col>CONSULTTIME</th><th scope=col>DISPTIME</th><th scope=col>SEGSTART_UTC</th><th scope=col>SEGSTOP_UTC</th><th scope=col>TALKTIME</th><th scope=col>ORIGHOLDTIME</th><th scope=col>QUEUETIME</th><th scope=col>RINGTIME</th><th scope=col>ORIG_LOCID</th><th scope=col>CALL_DISP</th><th scope=col>DURATION</th></tr></thead>\n",
       "<tbody>\n",
       "\t<tr><td>2340247            </td><td>0                  </td><td>15                 </td><td>0                  </td><td>21                 </td><td>2016-12-20 17:54:52</td><td>2016-12-20 18:05:21</td><td>593                </td><td>0                  </td><td>0                  </td><td>0                  </td><td> 0                 </td><td>2                  </td><td>629                </td></tr>\n",
       "\t<tr><td>2340254            </td><td>0                  </td><td> 0                 </td><td>0                  </td><td> 2                 </td><td>2016-12-20 18:04:59</td><td>2016-12-20 18:06:32</td><td> 91                </td><td>0                  </td><td>0                  </td><td>0                  </td><td> 0                 </td><td>2                  </td><td> 93                </td></tr>\n",
       "\t<tr><td>2340255            </td><td>0                  </td><td> 0                 </td><td>2                  </td><td> 1                 </td><td>2016-12-20 18:06:18</td><td>2016-12-20 18:06:49</td><td>  0                </td><td>0                  </td><td>0                  </td><td>0                  </td><td>11                 </td><td>1                  </td><td> 31                </td></tr>\n",
       "\t<tr><td>2340259            </td><td>1                  </td><td>11                 </td><td>0                  </td><td> 8                 </td><td>2016-12-20 18:04:25</td><td>2016-12-20 18:07:12</td><td>147                </td><td>0                  </td><td>6                  </td><td>0                  </td><td> 0                 </td><td>2                  </td><td>122                </td></tr>\n",
       "\t<tr><td>2340260            </td><td>0                  </td><td> 0                 </td><td>0                  </td><td> 2                 </td><td>2016-12-20 18:05:49</td><td>2016-12-20 18:07:22</td><td> 91                </td><td>0                  </td><td>0                  </td><td>0                  </td><td> 0                 </td><td>2                  </td><td> 93                </td></tr>\n",
       "\t<tr><td>2340275            </td><td>0                  </td><td> 0                 </td><td>2                  </td><td> 1                 </td><td>2016-12-20 18:08:00</td><td>2016-12-20 18:09:11</td><td>  0                </td><td>0                  </td><td>0                  </td><td>0                  </td><td>11                 </td><td>1                  </td><td> 67                </td></tr>\n",
       "</tbody>\n",
       "</table>\n"
      ],
      "text/latex": [
       "\\begin{tabular}{r|llllllllllllll}\n",
       " CALLID & ACWTIME & ANSHOLDTIME & CONSULTTIME & DISPTIME & SEGSTART\\_UTC & SEGSTOP\\_UTC & TALKTIME & ORIGHOLDTIME & QUEUETIME & RINGTIME & ORIG\\_LOCID & CALL\\_DISP & DURATION\\\\\n",
       "\\hline\n",
       "\t 2340247             & 0                   & 15                  & 0                   & 21                  & 2016-12-20 17:54:52 & 2016-12-20 18:05:21 & 593                 & 0                   & 0                   & 0                   &  0                  & 2                   & 629                \\\\\n",
       "\t 2340254             & 0                   &  0                  & 0                   &  2                  & 2016-12-20 18:04:59 & 2016-12-20 18:06:32 &  91                 & 0                   & 0                   & 0                   &  0                  & 2                   &  93                \\\\\n",
       "\t 2340255             & 0                   &  0                  & 2                   &  1                  & 2016-12-20 18:06:18 & 2016-12-20 18:06:49 &   0                 & 0                   & 0                   & 0                   & 11                  & 1                   &  31                \\\\\n",
       "\t 2340259             & 1                   & 11                  & 0                   &  8                  & 2016-12-20 18:04:25 & 2016-12-20 18:07:12 & 147                 & 0                   & 6                   & 0                   &  0                  & 2                   & 122                \\\\\n",
       "\t 2340260             & 0                   &  0                  & 0                   &  2                  & 2016-12-20 18:05:49 & 2016-12-20 18:07:22 &  91                 & 0                   & 0                   & 0                   &  0                  & 2                   &  93                \\\\\n",
       "\t 2340275             & 0                   &  0                  & 2                   &  1                  & 2016-12-20 18:08:00 & 2016-12-20 18:09:11 &   0                 & 0                   & 0                   & 0                   & 11                  & 1                   &  67                \\\\\n",
       "\\end{tabular}\n"
      ],
      "text/markdown": [
       "\n",
       "CALLID | ACWTIME | ANSHOLDTIME | CONSULTTIME | DISPTIME | SEGSTART_UTC | SEGSTOP_UTC | TALKTIME | ORIGHOLDTIME | QUEUETIME | RINGTIME | ORIG_LOCID | CALL_DISP | DURATION | \n",
       "|---|---|---|---|---|---|\n",
       "| 2340247             | 0                   | 15                  | 0                   | 21                  | 2016-12-20 17:54:52 | 2016-12-20 18:05:21 | 593                 | 0                   | 0                   | 0                   |  0                  | 2                   | 629                 | \n",
       "| 2340254             | 0                   |  0                  | 0                   |  2                  | 2016-12-20 18:04:59 | 2016-12-20 18:06:32 |  91                 | 0                   | 0                   | 0                   |  0                  | 2                   |  93                 | \n",
       "| 2340255             | 0                   |  0                  | 2                   |  1                  | 2016-12-20 18:06:18 | 2016-12-20 18:06:49 |   0                 | 0                   | 0                   | 0                   | 11                  | 1                   |  31                 | \n",
       "| 2340259             | 1                   | 11                  | 0                   |  8                  | 2016-12-20 18:04:25 | 2016-12-20 18:07:12 | 147                 | 0                   | 6                   | 0                   |  0                  | 2                   | 122                 | \n",
       "| 2340260             | 0                   |  0                  | 0                   |  2                  | 2016-12-20 18:05:49 | 2016-12-20 18:07:22 |  91                 | 0                   | 0                   | 0                   |  0                  | 2                   |  93                 | \n",
       "| 2340275             | 0                   |  0                  | 2                   |  1                  | 2016-12-20 18:08:00 | 2016-12-20 18:09:11 |   0                 | 0                   | 0                   | 0                   | 11                  | 1                   |  67                 | \n",
       "\n",
       "\n"
      ],
      "text/plain": [
       "  CALLID  ACWTIME ANSHOLDTIME CONSULTTIME DISPTIME SEGSTART_UTC       \n",
       "1 2340247 0       15          0           21       2016-12-20 17:54:52\n",
       "2 2340254 0        0          0            2       2016-12-20 18:04:59\n",
       "3 2340255 0        0          2            1       2016-12-20 18:06:18\n",
       "4 2340259 1       11          0            8       2016-12-20 18:04:25\n",
       "5 2340260 0        0          0            2       2016-12-20 18:05:49\n",
       "6 2340275 0        0          2            1       2016-12-20 18:08:00\n",
       "  SEGSTOP_UTC         TALKTIME ORIGHOLDTIME QUEUETIME RINGTIME ORIG_LOCID\n",
       "1 2016-12-20 18:05:21 593      0            0         0         0        \n",
       "2 2016-12-20 18:06:32  91      0            0         0         0        \n",
       "3 2016-12-20 18:06:49   0      0            0         0        11        \n",
       "4 2016-12-20 18:07:12 147      0            6         0         0        \n",
       "5 2016-12-20 18:07:22  91      0            0         0         0        \n",
       "6 2016-12-20 18:09:11   0      0            0         0        11        \n",
       "  CALL_DISP DURATION\n",
       "1 2         629     \n",
       "2 2          93     \n",
       "3 1          31     \n",
       "4 2         122     \n",
       "5 2          93     \n",
       "6 1          67     "
      ]
     },
     "metadata": {},
     "output_type": "display_data"
    }
   ],
   "source": [
    "activity <- select(hans, CALLID, ACWTIME, ANSHOLDTIME, CONSULTTIME, DISPTIME, SEGSTART_UTC, SEGSTOP_UTC, \n",
    "                   TALKTIME, ORIGHOLDTIME, QUEUETIME, RINGTIME, ORIG_LOCID, CALL_DISP, DURATION)\n",
    "head(activity)"
   ]
  },
  {
   "cell_type": "code",
   "execution_count": 46,
   "metadata": {},
   "outputs": [
    {
     "data": {
      "text/html": [
       "<table>\n",
       "<thead><tr><th scope=col>CALLID</th><th scope=col>ACWTIME</th><th scope=col>ANSHOLDTIME</th><th scope=col>CONSULTTIME</th><th scope=col>DISPTIME</th><th scope=col>SEGSTART_UTC</th><th scope=col>SEGSTOP_UTC</th><th scope=col>TALKTIME</th><th scope=col>ORIGHOLDTIME</th><th scope=col>QUEUETIME</th><th scope=col>RINGTIME</th><th scope=col>ORIG_LOCID</th><th scope=col>CALL_DISP</th><th scope=col>DURATION</th><th scope=col>ACWTIME2</th></tr></thead>\n",
       "<tbody>\n",
       "\t<tr><td>2340247            </td><td>0                  </td><td>15                 </td><td>0                  </td><td>21                 </td><td>2016-12-20 17:54:52</td><td>2016-12-20 18:05:21</td><td>593                </td><td>0                  </td><td>0                  </td><td>0                  </td><td>0                  </td><td>2                  </td><td>629                </td><td>0                  </td></tr>\n",
       "</tbody>\n",
       "</table>\n"
      ],
      "text/latex": [
       "\\begin{tabular}{r|lllllllllllllll}\n",
       " CALLID & ACWTIME & ANSHOLDTIME & CONSULTTIME & DISPTIME & SEGSTART\\_UTC & SEGSTOP\\_UTC & TALKTIME & ORIGHOLDTIME & QUEUETIME & RINGTIME & ORIG\\_LOCID & CALL\\_DISP & DURATION & ACWTIME2\\\\\n",
       "\\hline\n",
       "\t 2340247             & 0                   & 15                  & 0                   & 21                  & 2016-12-20 17:54:52 & 2016-12-20 18:05:21 & 593                 & 0                   & 0                   & 0                   & 0                   & 2                   & 629                 & 0                  \\\\\n",
       "\\end{tabular}\n"
      ],
      "text/markdown": [
       "\n",
       "CALLID | ACWTIME | ANSHOLDTIME | CONSULTTIME | DISPTIME | SEGSTART_UTC | SEGSTOP_UTC | TALKTIME | ORIGHOLDTIME | QUEUETIME | RINGTIME | ORIG_LOCID | CALL_DISP | DURATION | ACWTIME2 | \n",
       "|---|\n",
       "| 2340247             | 0                   | 15                  | 0                   | 21                  | 2016-12-20 17:54:52 | 2016-12-20 18:05:21 | 593                 | 0                   | 0                   | 0                   | 0                   | 2                   | 629                 | 0                   | \n",
       "\n",
       "\n"
      ],
      "text/plain": [
       "  CALLID  ACWTIME ANSHOLDTIME CONSULTTIME DISPTIME SEGSTART_UTC       \n",
       "1 2340247 0       15          0           21       2016-12-20 17:54:52\n",
       "  SEGSTOP_UTC         TALKTIME ORIGHOLDTIME QUEUETIME RINGTIME ORIG_LOCID\n",
       "1 2016-12-20 18:05:21 593      0            0         0        0         \n",
       "  CALL_DISP DURATION ACWTIME2\n",
       "1 2         629      0       "
      ]
     },
     "metadata": {},
     "output_type": "display_data"
    }
   ],
   "source": [
    "activity$ACWTIME2 <- activity$ACWTIME\n",
    "head(activity, 1)"
   ]
  },
  {
   "cell_type": "code",
   "execution_count": 47,
   "metadata": {},
   "outputs": [
    {
     "data": {
      "text/html": [
       "'integer'"
      ],
      "text/latex": [
       "'integer'"
      ],
      "text/markdown": [
       "'integer'"
      ],
      "text/plain": [
       "[1] \"integer\""
      ]
     },
     "metadata": {},
     "output_type": "display_data"
    }
   ],
   "source": [
    "class(activity$ACWTIME2)"
   ]
  },
  {
   "cell_type": "markdown",
   "metadata": {},
   "source": [
    "### 1) 시간값 연산을 위한 형변환"
   ]
  },
  {
   "cell_type": "code",
   "execution_count": 48,
   "metadata": {},
   "outputs": [],
   "source": [
    "activity$SEGSTART_UTC <- as.POSIXlt(activity$SEGSTART_UTC)\n",
    "activity$SEGSTOP_UTC <- as.POSIXlt(activity$SEGSTOP_UTC)"
   ]
  },
  {
   "cell_type": "markdown",
   "metadata": {},
   "source": [
    "### 2) SEGSTART_UTC에서 빼는 방식으로 RINGTIME, QUEUETIME 연산"
   ]
  },
  {
   "cell_type": "code",
   "execution_count": 49,
   "metadata": {},
   "outputs": [],
   "source": [
    "activity$QUEUETIME <- activity$SEGSTART_UTC - activity$QUEUETIME\n",
    "activity$RINGTIME <- activity$QUEUETIME - activity$RINGTIME"
   ]
  },
  {
   "cell_type": "markdown",
   "metadata": {},
   "source": [
    "### 3) SEGSTART_UTC에서 더하는 방식으로 나머지 시간값을 계산하기 위해 새로운 Column 생성"
   ]
  },
  {
   "cell_type": "code",
   "execution_count": 50,
   "metadata": {},
   "outputs": [],
   "source": [
    "activity$D <- activity$DISPTIME\n",
    "activity$C <- activity$CONSULTTIME\n",
    "activity$A <- activity$ANSHOLDTIME\n",
    "activity$TT <- activity$TALKTIME"
   ]
  },
  {
   "cell_type": "markdown",
   "metadata": {},
   "source": [
    "### 4) 더하기 방식으로 시간 계산"
   ]
  },
  {
   "cell_type": "code",
   "execution_count": 51,
   "metadata": {},
   "outputs": [],
   "source": [
    "activity$DISPTIME <- activity$SEGSTART_UTC\n",
    "activity$CONSULTTIME <- activity$DISPTIME + activity$D\n",
    "activity$ANSHOLDTIME <- activity$CONSULTTIME + activity$C\n",
    "activity$TALKTIME <- activity$ANSHOLDTIME + activity$A\n",
    "activity$ACWTIME <- activity$TALKTIME + activity$TT\n",
    "activity$ACWTIMW3 <- activity$ACWTIME + activity$ACWTIME2"
   ]
  },
  {
   "cell_type": "code",
   "execution_count": 52,
   "metadata": {},
   "outputs": [
    {
     "data": {
      "text/html": [
       "<table>\n",
       "<thead><tr><th scope=col>CALLID</th><th scope=col>ACWTIME</th><th scope=col>ANSHOLDTIME</th><th scope=col>CONSULTTIME</th><th scope=col>DISPTIME</th><th scope=col>SEGSTART_UTC</th><th scope=col>SEGSTOP_UTC</th><th scope=col>TALKTIME</th><th scope=col>ORIGHOLDTIME</th><th scope=col>QUEUETIME</th><th scope=col>RINGTIME</th><th scope=col>ORIG_LOCID</th><th scope=col>CALL_DISP</th><th scope=col>DURATION</th><th scope=col>ACWTIME2</th><th scope=col>D</th><th scope=col>C</th><th scope=col>A</th><th scope=col>TT</th><th scope=col>ACWTIMW3</th></tr></thead>\n",
       "<tbody>\n",
       "\t<tr><td>2340247            </td><td>2016-12-20 18:05:21</td><td>2016-12-20 17:55:13</td><td>2016-12-20 17:55:13</td><td>2016-12-20 17:54:52</td><td>2016-12-20 17:54:52</td><td>2016-12-20 18:05:21</td><td>2016-12-20 17:55:28</td><td>0                  </td><td>2016-12-20 17:54:52</td><td>2016-12-20 17:54:52</td><td> 0                 </td><td>2                  </td><td>629                </td><td>0                  </td><td>21                 </td><td>0                  </td><td>15                 </td><td>593                </td><td>2016-12-20 18:05:21</td></tr>\n",
       "\t<tr><td>2340254            </td><td>2016-12-20 18:06:32</td><td>2016-12-20 18:05:01</td><td>2016-12-20 18:05:01</td><td>2016-12-20 18:04:59</td><td>2016-12-20 18:04:59</td><td>2016-12-20 18:06:32</td><td>2016-12-20 18:05:01</td><td>0                  </td><td>2016-12-20 18:04:59</td><td>2016-12-20 18:04:59</td><td> 0                 </td><td>2                  </td><td> 93                </td><td>0                  </td><td> 2                 </td><td>0                  </td><td> 0                 </td><td> 91                </td><td>2016-12-20 18:06:32</td></tr>\n",
       "\t<tr><td>2340255            </td><td>2016-12-20 18:06:21</td><td>2016-12-20 18:06:21</td><td>2016-12-20 18:06:19</td><td>2016-12-20 18:06:18</td><td>2016-12-20 18:06:18</td><td>2016-12-20 18:06:49</td><td>2016-12-20 18:06:21</td><td>0                  </td><td>2016-12-20 18:06:18</td><td>2016-12-20 18:06:18</td><td>11                 </td><td>1                  </td><td> 31                </td><td>0                  </td><td> 1                 </td><td>2                  </td><td> 0                 </td><td>  0                </td><td>2016-12-20 18:06:21</td></tr>\n",
       "\t<tr><td>2340259            </td><td>2016-12-20 18:07:11</td><td>2016-12-20 18:04:33</td><td>2016-12-20 18:04:33</td><td>2016-12-20 18:04:25</td><td>2016-12-20 18:04:25</td><td>2016-12-20 18:07:12</td><td>2016-12-20 18:04:44</td><td>0                  </td><td>2016-12-20 18:04:19</td><td>2016-12-20 18:04:19</td><td> 0                 </td><td>2                  </td><td>122                </td><td>1                  </td><td> 8                 </td><td>0                  </td><td>11                 </td><td>147                </td><td>2016-12-20 18:07:12</td></tr>\n",
       "\t<tr><td>2340260            </td><td>2016-12-20 18:07:22</td><td>2016-12-20 18:05:51</td><td>2016-12-20 18:05:51</td><td>2016-12-20 18:05:49</td><td>2016-12-20 18:05:49</td><td>2016-12-20 18:07:22</td><td>2016-12-20 18:05:51</td><td>0                  </td><td>2016-12-20 18:05:49</td><td>2016-12-20 18:05:49</td><td> 0                 </td><td>2                  </td><td> 93                </td><td>0                  </td><td> 2                 </td><td>0                  </td><td> 0                 </td><td> 91                </td><td>2016-12-20 18:07:22</td></tr>\n",
       "\t<tr><td>2340275            </td><td>2016-12-20 18:08:03</td><td>2016-12-20 18:08:03</td><td>2016-12-20 18:08:01</td><td>2016-12-20 18:08:00</td><td>2016-12-20 18:08:00</td><td>2016-12-20 18:09:11</td><td>2016-12-20 18:08:03</td><td>0                  </td><td>2016-12-20 18:08:00</td><td>2016-12-20 18:08:00</td><td>11                 </td><td>1                  </td><td> 67                </td><td>0                  </td><td> 1                 </td><td>2                  </td><td> 0                 </td><td>  0                </td><td>2016-12-20 18:08:03</td></tr>\n",
       "</tbody>\n",
       "</table>\n"
      ],
      "text/latex": [
       "\\begin{tabular}{r|llllllllllllllllllll}\n",
       " CALLID & ACWTIME & ANSHOLDTIME & CONSULTTIME & DISPTIME & SEGSTART\\_UTC & SEGSTOP\\_UTC & TALKTIME & ORIGHOLDTIME & QUEUETIME & RINGTIME & ORIG\\_LOCID & CALL\\_DISP & DURATION & ACWTIME2 & D & C & A & TT & ACWTIMW3\\\\\n",
       "\\hline\n",
       "\t 2340247             & 2016-12-20 18:05:21 & 2016-12-20 17:55:13 & 2016-12-20 17:55:13 & 2016-12-20 17:54:52 & 2016-12-20 17:54:52 & 2016-12-20 18:05:21 & 2016-12-20 17:55:28 & 0                   & 2016-12-20 17:54:52 & 2016-12-20 17:54:52 &  0                  & 2                   & 629                 & 0                   & 21                  & 0                   & 15                  & 593                 & 2016-12-20 18:05:21\\\\\n",
       "\t 2340254             & 2016-12-20 18:06:32 & 2016-12-20 18:05:01 & 2016-12-20 18:05:01 & 2016-12-20 18:04:59 & 2016-12-20 18:04:59 & 2016-12-20 18:06:32 & 2016-12-20 18:05:01 & 0                   & 2016-12-20 18:04:59 & 2016-12-20 18:04:59 &  0                  & 2                   &  93                 & 0                   &  2                  & 0                   &  0                  &  91                 & 2016-12-20 18:06:32\\\\\n",
       "\t 2340255             & 2016-12-20 18:06:21 & 2016-12-20 18:06:21 & 2016-12-20 18:06:19 & 2016-12-20 18:06:18 & 2016-12-20 18:06:18 & 2016-12-20 18:06:49 & 2016-12-20 18:06:21 & 0                   & 2016-12-20 18:06:18 & 2016-12-20 18:06:18 & 11                  & 1                   &  31                 & 0                   &  1                  & 2                   &  0                  &   0                 & 2016-12-20 18:06:21\\\\\n",
       "\t 2340259             & 2016-12-20 18:07:11 & 2016-12-20 18:04:33 & 2016-12-20 18:04:33 & 2016-12-20 18:04:25 & 2016-12-20 18:04:25 & 2016-12-20 18:07:12 & 2016-12-20 18:04:44 & 0                   & 2016-12-20 18:04:19 & 2016-12-20 18:04:19 &  0                  & 2                   & 122                 & 1                   &  8                  & 0                   & 11                  & 147                 & 2016-12-20 18:07:12\\\\\n",
       "\t 2340260             & 2016-12-20 18:07:22 & 2016-12-20 18:05:51 & 2016-12-20 18:05:51 & 2016-12-20 18:05:49 & 2016-12-20 18:05:49 & 2016-12-20 18:07:22 & 2016-12-20 18:05:51 & 0                   & 2016-12-20 18:05:49 & 2016-12-20 18:05:49 &  0                  & 2                   &  93                 & 0                   &  2                  & 0                   &  0                  &  91                 & 2016-12-20 18:07:22\\\\\n",
       "\t 2340275             & 2016-12-20 18:08:03 & 2016-12-20 18:08:03 & 2016-12-20 18:08:01 & 2016-12-20 18:08:00 & 2016-12-20 18:08:00 & 2016-12-20 18:09:11 & 2016-12-20 18:08:03 & 0                   & 2016-12-20 18:08:00 & 2016-12-20 18:08:00 & 11                  & 1                   &  67                 & 0                   &  1                  & 2                   &  0                  &   0                 & 2016-12-20 18:08:03\\\\\n",
       "\\end{tabular}\n"
      ],
      "text/markdown": [
       "\n",
       "CALLID | ACWTIME | ANSHOLDTIME | CONSULTTIME | DISPTIME | SEGSTART_UTC | SEGSTOP_UTC | TALKTIME | ORIGHOLDTIME | QUEUETIME | RINGTIME | ORIG_LOCID | CALL_DISP | DURATION | ACWTIME2 | D | C | A | TT | ACWTIMW3 | \n",
       "|---|---|---|---|---|---|\n",
       "| 2340247             | 2016-12-20 18:05:21 | 2016-12-20 17:55:13 | 2016-12-20 17:55:13 | 2016-12-20 17:54:52 | 2016-12-20 17:54:52 | 2016-12-20 18:05:21 | 2016-12-20 17:55:28 | 0                   | 2016-12-20 17:54:52 | 2016-12-20 17:54:52 |  0                  | 2                   | 629                 | 0                   | 21                  | 0                   | 15                  | 593                 | 2016-12-20 18:05:21 | \n",
       "| 2340254             | 2016-12-20 18:06:32 | 2016-12-20 18:05:01 | 2016-12-20 18:05:01 | 2016-12-20 18:04:59 | 2016-12-20 18:04:59 | 2016-12-20 18:06:32 | 2016-12-20 18:05:01 | 0                   | 2016-12-20 18:04:59 | 2016-12-20 18:04:59 |  0                  | 2                   |  93                 | 0                   |  2                  | 0                   |  0                  |  91                 | 2016-12-20 18:06:32 | \n",
       "| 2340255             | 2016-12-20 18:06:21 | 2016-12-20 18:06:21 | 2016-12-20 18:06:19 | 2016-12-20 18:06:18 | 2016-12-20 18:06:18 | 2016-12-20 18:06:49 | 2016-12-20 18:06:21 | 0                   | 2016-12-20 18:06:18 | 2016-12-20 18:06:18 | 11                  | 1                   |  31                 | 0                   |  1                  | 2                   |  0                  |   0                 | 2016-12-20 18:06:21 | \n",
       "| 2340259             | 2016-12-20 18:07:11 | 2016-12-20 18:04:33 | 2016-12-20 18:04:33 | 2016-12-20 18:04:25 | 2016-12-20 18:04:25 | 2016-12-20 18:07:12 | 2016-12-20 18:04:44 | 0                   | 2016-12-20 18:04:19 | 2016-12-20 18:04:19 |  0                  | 2                   | 122                 | 1                   |  8                  | 0                   | 11                  | 147                 | 2016-12-20 18:07:12 | \n",
       "| 2340260             | 2016-12-20 18:07:22 | 2016-12-20 18:05:51 | 2016-12-20 18:05:51 | 2016-12-20 18:05:49 | 2016-12-20 18:05:49 | 2016-12-20 18:07:22 | 2016-12-20 18:05:51 | 0                   | 2016-12-20 18:05:49 | 2016-12-20 18:05:49 |  0                  | 2                   |  93                 | 0                   |  2                  | 0                   |  0                  |  91                 | 2016-12-20 18:07:22 | \n",
       "| 2340275             | 2016-12-20 18:08:03 | 2016-12-20 18:08:03 | 2016-12-20 18:08:01 | 2016-12-20 18:08:00 | 2016-12-20 18:08:00 | 2016-12-20 18:09:11 | 2016-12-20 18:08:03 | 0                   | 2016-12-20 18:08:00 | 2016-12-20 18:08:00 | 11                  | 1                   |  67                 | 0                   |  1                  | 2                   |  0                  |   0                 | 2016-12-20 18:08:03 | \n",
       "\n",
       "\n"
      ],
      "text/plain": [
       "  CALLID  ACWTIME             ANSHOLDTIME         CONSULTTIME        \n",
       "1 2340247 2016-12-20 18:05:21 2016-12-20 17:55:13 2016-12-20 17:55:13\n",
       "2 2340254 2016-12-20 18:06:32 2016-12-20 18:05:01 2016-12-20 18:05:01\n",
       "3 2340255 2016-12-20 18:06:21 2016-12-20 18:06:21 2016-12-20 18:06:19\n",
       "4 2340259 2016-12-20 18:07:11 2016-12-20 18:04:33 2016-12-20 18:04:33\n",
       "5 2340260 2016-12-20 18:07:22 2016-12-20 18:05:51 2016-12-20 18:05:51\n",
       "6 2340275 2016-12-20 18:08:03 2016-12-20 18:08:03 2016-12-20 18:08:01\n",
       "  DISPTIME            SEGSTART_UTC        SEGSTOP_UTC        \n",
       "1 2016-12-20 17:54:52 2016-12-20 17:54:52 2016-12-20 18:05:21\n",
       "2 2016-12-20 18:04:59 2016-12-20 18:04:59 2016-12-20 18:06:32\n",
       "3 2016-12-20 18:06:18 2016-12-20 18:06:18 2016-12-20 18:06:49\n",
       "4 2016-12-20 18:04:25 2016-12-20 18:04:25 2016-12-20 18:07:12\n",
       "5 2016-12-20 18:05:49 2016-12-20 18:05:49 2016-12-20 18:07:22\n",
       "6 2016-12-20 18:08:00 2016-12-20 18:08:00 2016-12-20 18:09:11\n",
       "  TALKTIME            ORIGHOLDTIME QUEUETIME           RINGTIME           \n",
       "1 2016-12-20 17:55:28 0            2016-12-20 17:54:52 2016-12-20 17:54:52\n",
       "2 2016-12-20 18:05:01 0            2016-12-20 18:04:59 2016-12-20 18:04:59\n",
       "3 2016-12-20 18:06:21 0            2016-12-20 18:06:18 2016-12-20 18:06:18\n",
       "4 2016-12-20 18:04:44 0            2016-12-20 18:04:19 2016-12-20 18:04:19\n",
       "5 2016-12-20 18:05:51 0            2016-12-20 18:05:49 2016-12-20 18:05:49\n",
       "6 2016-12-20 18:08:03 0            2016-12-20 18:08:00 2016-12-20 18:08:00\n",
       "  ORIG_LOCID CALL_DISP DURATION ACWTIME2 D  C A  TT  ACWTIMW3           \n",
       "1  0         2         629      0        21 0 15 593 2016-12-20 18:05:21\n",
       "2  0         2          93      0         2 0  0  91 2016-12-20 18:06:32\n",
       "3 11         1          31      0         1 2  0   0 2016-12-20 18:06:21\n",
       "4  0         2         122      1         8 0 11 147 2016-12-20 18:07:12\n",
       "5  0         2          93      0         2 0  0  91 2016-12-20 18:07:22\n",
       "6 11         1          67      0         1 2  0   0 2016-12-20 18:08:03"
      ]
     },
     "metadata": {},
     "output_type": "display_data"
    }
   ],
   "source": [
    "head(activity)"
   ]
  },
  {
   "cell_type": "markdown",
   "metadata": {},
   "source": [
    "### 5) 시간 값 제외하고 날리기"
   ]
  },
  {
   "cell_type": "code",
   "execution_count": 53,
   "metadata": {
    "scrolled": true
   },
   "outputs": [
    {
     "data": {
      "text/html": [
       "<table>\n",
       "<thead><tr><th scope=col>CALLID</th><th scope=col>ACWTIME</th><th scope=col>ANSHOLDTIME</th><th scope=col>CONSULTTIME</th><th scope=col>DISPTIME</th><th scope=col>SEGSTART_UTC</th><th scope=col>SEGSTOP_UTC</th><th scope=col>TALKTIME</th><th scope=col>QUEUETIME</th><th scope=col>RINGTIME</th><th scope=col>ACWTIME2</th><th scope=col>ACWTIMW3</th></tr></thead>\n",
       "<tbody>\n",
       "\t<tr><td>2340247            </td><td>2016-12-20 18:05:21</td><td>2016-12-20 17:55:13</td><td>2016-12-20 17:55:13</td><td>2016-12-20 17:54:52</td><td>2016-12-20 17:54:52</td><td>2016-12-20 18:05:21</td><td>2016-12-20 17:55:28</td><td>2016-12-20 17:54:52</td><td>2016-12-20 17:54:52</td><td>0                  </td><td>2016-12-20 18:05:21</td></tr>\n",
       "\t<tr><td>2340254            </td><td>2016-12-20 18:06:32</td><td>2016-12-20 18:05:01</td><td>2016-12-20 18:05:01</td><td>2016-12-20 18:04:59</td><td>2016-12-20 18:04:59</td><td>2016-12-20 18:06:32</td><td>2016-12-20 18:05:01</td><td>2016-12-20 18:04:59</td><td>2016-12-20 18:04:59</td><td>0                  </td><td>2016-12-20 18:06:32</td></tr>\n",
       "\t<tr><td>2340255            </td><td>2016-12-20 18:06:21</td><td>2016-12-20 18:06:21</td><td>2016-12-20 18:06:19</td><td>2016-12-20 18:06:18</td><td>2016-12-20 18:06:18</td><td>2016-12-20 18:06:49</td><td>2016-12-20 18:06:21</td><td>2016-12-20 18:06:18</td><td>2016-12-20 18:06:18</td><td>0                  </td><td>2016-12-20 18:06:21</td></tr>\n",
       "\t<tr><td>2340259            </td><td>2016-12-20 18:07:11</td><td>2016-12-20 18:04:33</td><td>2016-12-20 18:04:33</td><td>2016-12-20 18:04:25</td><td>2016-12-20 18:04:25</td><td>2016-12-20 18:07:12</td><td>2016-12-20 18:04:44</td><td>2016-12-20 18:04:19</td><td>2016-12-20 18:04:19</td><td>1                  </td><td>2016-12-20 18:07:12</td></tr>\n",
       "\t<tr><td>2340260            </td><td>2016-12-20 18:07:22</td><td>2016-12-20 18:05:51</td><td>2016-12-20 18:05:51</td><td>2016-12-20 18:05:49</td><td>2016-12-20 18:05:49</td><td>2016-12-20 18:07:22</td><td>2016-12-20 18:05:51</td><td>2016-12-20 18:05:49</td><td>2016-12-20 18:05:49</td><td>0                  </td><td>2016-12-20 18:07:22</td></tr>\n",
       "\t<tr><td>2340275            </td><td>2016-12-20 18:08:03</td><td>2016-12-20 18:08:03</td><td>2016-12-20 18:08:01</td><td>2016-12-20 18:08:00</td><td>2016-12-20 18:08:00</td><td>2016-12-20 18:09:11</td><td>2016-12-20 18:08:03</td><td>2016-12-20 18:08:00</td><td>2016-12-20 18:08:00</td><td>0                  </td><td>2016-12-20 18:08:03</td></tr>\n",
       "</tbody>\n",
       "</table>\n"
      ],
      "text/latex": [
       "\\begin{tabular}{r|llllllllllll}\n",
       " CALLID & ACWTIME & ANSHOLDTIME & CONSULTTIME & DISPTIME & SEGSTART\\_UTC & SEGSTOP\\_UTC & TALKTIME & QUEUETIME & RINGTIME & ACWTIME2 & ACWTIMW3\\\\\n",
       "\\hline\n",
       "\t 2340247             & 2016-12-20 18:05:21 & 2016-12-20 17:55:13 & 2016-12-20 17:55:13 & 2016-12-20 17:54:52 & 2016-12-20 17:54:52 & 2016-12-20 18:05:21 & 2016-12-20 17:55:28 & 2016-12-20 17:54:52 & 2016-12-20 17:54:52 & 0                   & 2016-12-20 18:05:21\\\\\n",
       "\t 2340254             & 2016-12-20 18:06:32 & 2016-12-20 18:05:01 & 2016-12-20 18:05:01 & 2016-12-20 18:04:59 & 2016-12-20 18:04:59 & 2016-12-20 18:06:32 & 2016-12-20 18:05:01 & 2016-12-20 18:04:59 & 2016-12-20 18:04:59 & 0                   & 2016-12-20 18:06:32\\\\\n",
       "\t 2340255             & 2016-12-20 18:06:21 & 2016-12-20 18:06:21 & 2016-12-20 18:06:19 & 2016-12-20 18:06:18 & 2016-12-20 18:06:18 & 2016-12-20 18:06:49 & 2016-12-20 18:06:21 & 2016-12-20 18:06:18 & 2016-12-20 18:06:18 & 0                   & 2016-12-20 18:06:21\\\\\n",
       "\t 2340259             & 2016-12-20 18:07:11 & 2016-12-20 18:04:33 & 2016-12-20 18:04:33 & 2016-12-20 18:04:25 & 2016-12-20 18:04:25 & 2016-12-20 18:07:12 & 2016-12-20 18:04:44 & 2016-12-20 18:04:19 & 2016-12-20 18:04:19 & 1                   & 2016-12-20 18:07:12\\\\\n",
       "\t 2340260             & 2016-12-20 18:07:22 & 2016-12-20 18:05:51 & 2016-12-20 18:05:51 & 2016-12-20 18:05:49 & 2016-12-20 18:05:49 & 2016-12-20 18:07:22 & 2016-12-20 18:05:51 & 2016-12-20 18:05:49 & 2016-12-20 18:05:49 & 0                   & 2016-12-20 18:07:22\\\\\n",
       "\t 2340275             & 2016-12-20 18:08:03 & 2016-12-20 18:08:03 & 2016-12-20 18:08:01 & 2016-12-20 18:08:00 & 2016-12-20 18:08:00 & 2016-12-20 18:09:11 & 2016-12-20 18:08:03 & 2016-12-20 18:08:00 & 2016-12-20 18:08:00 & 0                   & 2016-12-20 18:08:03\\\\\n",
       "\\end{tabular}\n"
      ],
      "text/markdown": [
       "\n",
       "CALLID | ACWTIME | ANSHOLDTIME | CONSULTTIME | DISPTIME | SEGSTART_UTC | SEGSTOP_UTC | TALKTIME | QUEUETIME | RINGTIME | ACWTIME2 | ACWTIMW3 | \n",
       "|---|---|---|---|---|---|\n",
       "| 2340247             | 2016-12-20 18:05:21 | 2016-12-20 17:55:13 | 2016-12-20 17:55:13 | 2016-12-20 17:54:52 | 2016-12-20 17:54:52 | 2016-12-20 18:05:21 | 2016-12-20 17:55:28 | 2016-12-20 17:54:52 | 2016-12-20 17:54:52 | 0                   | 2016-12-20 18:05:21 | \n",
       "| 2340254             | 2016-12-20 18:06:32 | 2016-12-20 18:05:01 | 2016-12-20 18:05:01 | 2016-12-20 18:04:59 | 2016-12-20 18:04:59 | 2016-12-20 18:06:32 | 2016-12-20 18:05:01 | 2016-12-20 18:04:59 | 2016-12-20 18:04:59 | 0                   | 2016-12-20 18:06:32 | \n",
       "| 2340255             | 2016-12-20 18:06:21 | 2016-12-20 18:06:21 | 2016-12-20 18:06:19 | 2016-12-20 18:06:18 | 2016-12-20 18:06:18 | 2016-12-20 18:06:49 | 2016-12-20 18:06:21 | 2016-12-20 18:06:18 | 2016-12-20 18:06:18 | 0                   | 2016-12-20 18:06:21 | \n",
       "| 2340259             | 2016-12-20 18:07:11 | 2016-12-20 18:04:33 | 2016-12-20 18:04:33 | 2016-12-20 18:04:25 | 2016-12-20 18:04:25 | 2016-12-20 18:07:12 | 2016-12-20 18:04:44 | 2016-12-20 18:04:19 | 2016-12-20 18:04:19 | 1                   | 2016-12-20 18:07:12 | \n",
       "| 2340260             | 2016-12-20 18:07:22 | 2016-12-20 18:05:51 | 2016-12-20 18:05:51 | 2016-12-20 18:05:49 | 2016-12-20 18:05:49 | 2016-12-20 18:07:22 | 2016-12-20 18:05:51 | 2016-12-20 18:05:49 | 2016-12-20 18:05:49 | 0                   | 2016-12-20 18:07:22 | \n",
       "| 2340275             | 2016-12-20 18:08:03 | 2016-12-20 18:08:03 | 2016-12-20 18:08:01 | 2016-12-20 18:08:00 | 2016-12-20 18:08:00 | 2016-12-20 18:09:11 | 2016-12-20 18:08:03 | 2016-12-20 18:08:00 | 2016-12-20 18:08:00 | 0                   | 2016-12-20 18:08:03 | \n",
       "\n",
       "\n"
      ],
      "text/plain": [
       "  CALLID  ACWTIME             ANSHOLDTIME         CONSULTTIME        \n",
       "1 2340247 2016-12-20 18:05:21 2016-12-20 17:55:13 2016-12-20 17:55:13\n",
       "2 2340254 2016-12-20 18:06:32 2016-12-20 18:05:01 2016-12-20 18:05:01\n",
       "3 2340255 2016-12-20 18:06:21 2016-12-20 18:06:21 2016-12-20 18:06:19\n",
       "4 2340259 2016-12-20 18:07:11 2016-12-20 18:04:33 2016-12-20 18:04:33\n",
       "5 2340260 2016-12-20 18:07:22 2016-12-20 18:05:51 2016-12-20 18:05:51\n",
       "6 2340275 2016-12-20 18:08:03 2016-12-20 18:08:03 2016-12-20 18:08:01\n",
       "  DISPTIME            SEGSTART_UTC        SEGSTOP_UTC        \n",
       "1 2016-12-20 17:54:52 2016-12-20 17:54:52 2016-12-20 18:05:21\n",
       "2 2016-12-20 18:04:59 2016-12-20 18:04:59 2016-12-20 18:06:32\n",
       "3 2016-12-20 18:06:18 2016-12-20 18:06:18 2016-12-20 18:06:49\n",
       "4 2016-12-20 18:04:25 2016-12-20 18:04:25 2016-12-20 18:07:12\n",
       "5 2016-12-20 18:05:49 2016-12-20 18:05:49 2016-12-20 18:07:22\n",
       "6 2016-12-20 18:08:00 2016-12-20 18:08:00 2016-12-20 18:09:11\n",
       "  TALKTIME            QUEUETIME           RINGTIME            ACWTIME2\n",
       "1 2016-12-20 17:55:28 2016-12-20 17:54:52 2016-12-20 17:54:52 0       \n",
       "2 2016-12-20 18:05:01 2016-12-20 18:04:59 2016-12-20 18:04:59 0       \n",
       "3 2016-12-20 18:06:21 2016-12-20 18:06:18 2016-12-20 18:06:18 0       \n",
       "4 2016-12-20 18:04:44 2016-12-20 18:04:19 2016-12-20 18:04:19 1       \n",
       "5 2016-12-20 18:05:51 2016-12-20 18:05:49 2016-12-20 18:05:49 0       \n",
       "6 2016-12-20 18:08:03 2016-12-20 18:08:00 2016-12-20 18:08:00 0       \n",
       "  ACWTIMW3           \n",
       "1 2016-12-20 18:05:21\n",
       "2 2016-12-20 18:06:32\n",
       "3 2016-12-20 18:06:21\n",
       "4 2016-12-20 18:07:12\n",
       "5 2016-12-20 18:07:22\n",
       "6 2016-12-20 18:08:03"
      ]
     },
     "metadata": {},
     "output_type": "display_data"
    }
   ],
   "source": [
    "activity2 <- select(activity, CALLID, ACWTIME, ANSHOLDTIME, CONSULTTIME, DISPTIME, SEGSTART_UTC, SEGSTOP_UTC, TALKTIME, QUEUETIME, RINGTIME, ACWTIME2, ACWTIMW3)\n",
    "head(activity2)"
   ]
  },
  {
   "cell_type": "code",
   "execution_count": 54,
   "metadata": {
    "scrolled": false
   },
   "outputs": [
    {
     "data": {
      "text/html": [
       "<table>\n",
       "<thead><tr><th scope=col>CALLID</th><th scope=col>RINGTIME</th><th scope=col>QUEUETIME</th><th scope=col>DISPTIME</th><th scope=col>CONSULTTIME</th><th scope=col>ANSHOLDTIME</th><th scope=col>TALKTIME</th><th scope=col>ACWTIME</th><th scope=col>SEGSTART_UTC</th><th scope=col>SEGSTOP_UTC</th><th scope=col>ACWTIME2</th><th scope=col>ACWTIMW3</th></tr></thead>\n",
       "<tbody>\n",
       "\t<tr><td>2340247            </td><td>2016-12-20 17:54:52</td><td>2016-12-20 17:54:52</td><td>2016-12-20 17:54:52</td><td>2016-12-20 17:55:13</td><td>2016-12-20 17:55:13</td><td>2016-12-20 17:55:28</td><td>2016-12-20 18:05:21</td><td>2016-12-20 17:54:52</td><td>2016-12-20 18:05:21</td><td>0                  </td><td>2016-12-20 18:05:21</td></tr>\n",
       "\t<tr><td>2340254            </td><td>2016-12-20 18:04:59</td><td>2016-12-20 18:04:59</td><td>2016-12-20 18:04:59</td><td>2016-12-20 18:05:01</td><td>2016-12-20 18:05:01</td><td>2016-12-20 18:05:01</td><td>2016-12-20 18:06:32</td><td>2016-12-20 18:04:59</td><td>2016-12-20 18:06:32</td><td>0                  </td><td>2016-12-20 18:06:32</td></tr>\n",
       "\t<tr><td>2340255            </td><td>2016-12-20 18:06:18</td><td>2016-12-20 18:06:18</td><td>2016-12-20 18:06:18</td><td>2016-12-20 18:06:19</td><td>2016-12-20 18:06:21</td><td>2016-12-20 18:06:21</td><td>2016-12-20 18:06:21</td><td>2016-12-20 18:06:18</td><td>2016-12-20 18:06:49</td><td>0                  </td><td>2016-12-20 18:06:21</td></tr>\n",
       "\t<tr><td>2340259            </td><td>2016-12-20 18:04:19</td><td>2016-12-20 18:04:19</td><td>2016-12-20 18:04:25</td><td>2016-12-20 18:04:33</td><td>2016-12-20 18:04:33</td><td>2016-12-20 18:04:44</td><td>2016-12-20 18:07:11</td><td>2016-12-20 18:04:25</td><td>2016-12-20 18:07:12</td><td>1                  </td><td>2016-12-20 18:07:12</td></tr>\n",
       "\t<tr><td>2340260            </td><td>2016-12-20 18:05:49</td><td>2016-12-20 18:05:49</td><td>2016-12-20 18:05:49</td><td>2016-12-20 18:05:51</td><td>2016-12-20 18:05:51</td><td>2016-12-20 18:05:51</td><td>2016-12-20 18:07:22</td><td>2016-12-20 18:05:49</td><td>2016-12-20 18:07:22</td><td>0                  </td><td>2016-12-20 18:07:22</td></tr>\n",
       "\t<tr><td>2340275            </td><td>2016-12-20 18:08:00</td><td>2016-12-20 18:08:00</td><td>2016-12-20 18:08:00</td><td>2016-12-20 18:08:01</td><td>2016-12-20 18:08:03</td><td>2016-12-20 18:08:03</td><td>2016-12-20 18:08:03</td><td>2016-12-20 18:08:00</td><td>2016-12-20 18:09:11</td><td>0                  </td><td>2016-12-20 18:08:03</td></tr>\n",
       "</tbody>\n",
       "</table>\n"
      ],
      "text/latex": [
       "\\begin{tabular}{r|llllllllllll}\n",
       " CALLID & RINGTIME & QUEUETIME & DISPTIME & CONSULTTIME & ANSHOLDTIME & TALKTIME & ACWTIME & SEGSTART\\_UTC & SEGSTOP\\_UTC & ACWTIME2 & ACWTIMW3\\\\\n",
       "\\hline\n",
       "\t 2340247             & 2016-12-20 17:54:52 & 2016-12-20 17:54:52 & 2016-12-20 17:54:52 & 2016-12-20 17:55:13 & 2016-12-20 17:55:13 & 2016-12-20 17:55:28 & 2016-12-20 18:05:21 & 2016-12-20 17:54:52 & 2016-12-20 18:05:21 & 0                   & 2016-12-20 18:05:21\\\\\n",
       "\t 2340254             & 2016-12-20 18:04:59 & 2016-12-20 18:04:59 & 2016-12-20 18:04:59 & 2016-12-20 18:05:01 & 2016-12-20 18:05:01 & 2016-12-20 18:05:01 & 2016-12-20 18:06:32 & 2016-12-20 18:04:59 & 2016-12-20 18:06:32 & 0                   & 2016-12-20 18:06:32\\\\\n",
       "\t 2340255             & 2016-12-20 18:06:18 & 2016-12-20 18:06:18 & 2016-12-20 18:06:18 & 2016-12-20 18:06:19 & 2016-12-20 18:06:21 & 2016-12-20 18:06:21 & 2016-12-20 18:06:21 & 2016-12-20 18:06:18 & 2016-12-20 18:06:49 & 0                   & 2016-12-20 18:06:21\\\\\n",
       "\t 2340259             & 2016-12-20 18:04:19 & 2016-12-20 18:04:19 & 2016-12-20 18:04:25 & 2016-12-20 18:04:33 & 2016-12-20 18:04:33 & 2016-12-20 18:04:44 & 2016-12-20 18:07:11 & 2016-12-20 18:04:25 & 2016-12-20 18:07:12 & 1                   & 2016-12-20 18:07:12\\\\\n",
       "\t 2340260             & 2016-12-20 18:05:49 & 2016-12-20 18:05:49 & 2016-12-20 18:05:49 & 2016-12-20 18:05:51 & 2016-12-20 18:05:51 & 2016-12-20 18:05:51 & 2016-12-20 18:07:22 & 2016-12-20 18:05:49 & 2016-12-20 18:07:22 & 0                   & 2016-12-20 18:07:22\\\\\n",
       "\t 2340275             & 2016-12-20 18:08:00 & 2016-12-20 18:08:00 & 2016-12-20 18:08:00 & 2016-12-20 18:08:01 & 2016-12-20 18:08:03 & 2016-12-20 18:08:03 & 2016-12-20 18:08:03 & 2016-12-20 18:08:00 & 2016-12-20 18:09:11 & 0                   & 2016-12-20 18:08:03\\\\\n",
       "\\end{tabular}\n"
      ],
      "text/markdown": [
       "\n",
       "CALLID | RINGTIME | QUEUETIME | DISPTIME | CONSULTTIME | ANSHOLDTIME | TALKTIME | ACWTIME | SEGSTART_UTC | SEGSTOP_UTC | ACWTIME2 | ACWTIMW3 | \n",
       "|---|---|---|---|---|---|\n",
       "| 2340247             | 2016-12-20 17:54:52 | 2016-12-20 17:54:52 | 2016-12-20 17:54:52 | 2016-12-20 17:55:13 | 2016-12-20 17:55:13 | 2016-12-20 17:55:28 | 2016-12-20 18:05:21 | 2016-12-20 17:54:52 | 2016-12-20 18:05:21 | 0                   | 2016-12-20 18:05:21 | \n",
       "| 2340254             | 2016-12-20 18:04:59 | 2016-12-20 18:04:59 | 2016-12-20 18:04:59 | 2016-12-20 18:05:01 | 2016-12-20 18:05:01 | 2016-12-20 18:05:01 | 2016-12-20 18:06:32 | 2016-12-20 18:04:59 | 2016-12-20 18:06:32 | 0                   | 2016-12-20 18:06:32 | \n",
       "| 2340255             | 2016-12-20 18:06:18 | 2016-12-20 18:06:18 | 2016-12-20 18:06:18 | 2016-12-20 18:06:19 | 2016-12-20 18:06:21 | 2016-12-20 18:06:21 | 2016-12-20 18:06:21 | 2016-12-20 18:06:18 | 2016-12-20 18:06:49 | 0                   | 2016-12-20 18:06:21 | \n",
       "| 2340259             | 2016-12-20 18:04:19 | 2016-12-20 18:04:19 | 2016-12-20 18:04:25 | 2016-12-20 18:04:33 | 2016-12-20 18:04:33 | 2016-12-20 18:04:44 | 2016-12-20 18:07:11 | 2016-12-20 18:04:25 | 2016-12-20 18:07:12 | 1                   | 2016-12-20 18:07:12 | \n",
       "| 2340260             | 2016-12-20 18:05:49 | 2016-12-20 18:05:49 | 2016-12-20 18:05:49 | 2016-12-20 18:05:51 | 2016-12-20 18:05:51 | 2016-12-20 18:05:51 | 2016-12-20 18:07:22 | 2016-12-20 18:05:49 | 2016-12-20 18:07:22 | 0                   | 2016-12-20 18:07:22 | \n",
       "| 2340275             | 2016-12-20 18:08:00 | 2016-12-20 18:08:00 | 2016-12-20 18:08:00 | 2016-12-20 18:08:01 | 2016-12-20 18:08:03 | 2016-12-20 18:08:03 | 2016-12-20 18:08:03 | 2016-12-20 18:08:00 | 2016-12-20 18:09:11 | 0                   | 2016-12-20 18:08:03 | \n",
       "\n",
       "\n"
      ],
      "text/plain": [
       "  CALLID  RINGTIME            QUEUETIME           DISPTIME           \n",
       "1 2340247 2016-12-20 17:54:52 2016-12-20 17:54:52 2016-12-20 17:54:52\n",
       "2 2340254 2016-12-20 18:04:59 2016-12-20 18:04:59 2016-12-20 18:04:59\n",
       "3 2340255 2016-12-20 18:06:18 2016-12-20 18:06:18 2016-12-20 18:06:18\n",
       "4 2340259 2016-12-20 18:04:19 2016-12-20 18:04:19 2016-12-20 18:04:25\n",
       "5 2340260 2016-12-20 18:05:49 2016-12-20 18:05:49 2016-12-20 18:05:49\n",
       "6 2340275 2016-12-20 18:08:00 2016-12-20 18:08:00 2016-12-20 18:08:00\n",
       "  CONSULTTIME         ANSHOLDTIME         TALKTIME           \n",
       "1 2016-12-20 17:55:13 2016-12-20 17:55:13 2016-12-20 17:55:28\n",
       "2 2016-12-20 18:05:01 2016-12-20 18:05:01 2016-12-20 18:05:01\n",
       "3 2016-12-20 18:06:19 2016-12-20 18:06:21 2016-12-20 18:06:21\n",
       "4 2016-12-20 18:04:33 2016-12-20 18:04:33 2016-12-20 18:04:44\n",
       "5 2016-12-20 18:05:51 2016-12-20 18:05:51 2016-12-20 18:05:51\n",
       "6 2016-12-20 18:08:01 2016-12-20 18:08:03 2016-12-20 18:08:03\n",
       "  ACWTIME             SEGSTART_UTC        SEGSTOP_UTC         ACWTIME2\n",
       "1 2016-12-20 18:05:21 2016-12-20 17:54:52 2016-12-20 18:05:21 0       \n",
       "2 2016-12-20 18:06:32 2016-12-20 18:04:59 2016-12-20 18:06:32 0       \n",
       "3 2016-12-20 18:06:21 2016-12-20 18:06:18 2016-12-20 18:06:49 0       \n",
       "4 2016-12-20 18:07:11 2016-12-20 18:04:25 2016-12-20 18:07:12 1       \n",
       "5 2016-12-20 18:07:22 2016-12-20 18:05:49 2016-12-20 18:07:22 0       \n",
       "6 2016-12-20 18:08:03 2016-12-20 18:08:00 2016-12-20 18:09:11 0       \n",
       "  ACWTIMW3           \n",
       "1 2016-12-20 18:05:21\n",
       "2 2016-12-20 18:06:32\n",
       "3 2016-12-20 18:06:21\n",
       "4 2016-12-20 18:07:12\n",
       "5 2016-12-20 18:07:22\n",
       "6 2016-12-20 18:08:03"
      ]
     },
     "metadata": {},
     "output_type": "display_data"
    }
   ],
   "source": [
    "activity2 <- activity2[, c(1, 10, 9, 5, 4, 3, 8, 2, 6, 7, 11, 12)]\n",
    "head(activity2)"
   ]
  },
  {
   "cell_type": "markdown",
   "metadata": {},
   "source": [
    "## 5. Activity Time이 0초인 경우 제외\n",
    "### Activity Time이 0인 경우 해당 Activity가 발생하지 않았다고 가정"
   ]
  },
  {
   "cell_type": "code",
   "execution_count": 55,
   "metadata": {},
   "outputs": [],
   "source": [
    "activity2$CALLID <- as.character(activity2$CALLID)\n",
    "activity2$ACWTIME <- as.character(activity2$ACWTIME)\n",
    "activity2$ANSHOLDTIME <- as.character(activity2$ANSHOLDTIME)\n",
    "activity2$CONSULTTIME <- as.character(activity2$CONSULTTIME)\n",
    "activity2$DISPTIME <- as.character(activity2$DISPTIME)\n",
    "activity2$SEGSTART_UTC <- as.character(activity2$SEGSTART_UTC)\n",
    "activity2$SEGSTOP_UTC <- as.character(activity2$SEGSTOP_UTC)\n",
    "activity2$TALKTIME <- as.character(activity2$TALKTIME)\n",
    "activity2$QUEUETIME <- as.character(activity2$QUEUETIME)\n",
    "activity2$RINGTIME <- as.character(activity2$RINGTIME)\n",
    "activity2$ACWTIMW3 <- as.character(activity2$ACWTIMW3)"
   ]
  },
  {
   "cell_type": "code",
   "execution_count": 56,
   "metadata": {
    "scrolled": true
   },
   "outputs": [
    {
     "data": {
      "text/html": [
       "<table>\n",
       "<thead><tr><th scope=col>CALLID</th><th scope=col>RINGTIME</th><th scope=col>QUEUETIME</th><th scope=col>DISPTIME</th><th scope=col>CONSULTTIME</th><th scope=col>ANSHOLDTIME</th><th scope=col>TALKTIME</th><th scope=col>ACWTIME</th><th scope=col>SEGSTART_UTC</th><th scope=col>SEGSTOP_UTC</th><th scope=col>ACWTIME2</th><th scope=col>ACWTIMW3</th></tr></thead>\n",
       "<tbody>\n",
       "\t<tr><td>2340247            </td><td>0                  </td><td>0                  </td><td>2016-12-20 17:54:52</td><td>0                  </td><td>2016-12-20 17:55:13</td><td>2016-12-20 17:55:28</td><td>0                  </td><td>2016-12-20 17:54:52</td><td>2016-12-20 18:05:21</td><td> 0                 </td><td>0                  </td></tr>\n",
       "\t<tr><td>2340254            </td><td>0                  </td><td>0                  </td><td>2016-12-20 18:04:59</td><td>0                  </td><td>0                  </td><td>2016-12-20 18:05:01</td><td>0                  </td><td>2016-12-20 18:04:59</td><td>2016-12-20 18:06:32</td><td> 0                 </td><td>0                  </td></tr>\n",
       "\t<tr><td>2340255            </td><td>0                  </td><td>0                  </td><td>2016-12-20 18:06:18</td><td>2016-12-20 18:06:19</td><td>0                  </td><td>0                  </td><td>0                  </td><td>2016-12-20 18:06:18</td><td>2016-12-20 18:06:49</td><td> 0                 </td><td>0                  </td></tr>\n",
       "\t<tr><td>2340259            </td><td>0                  </td><td>2016-12-20 18:04:19</td><td>2016-12-20 18:04:25</td><td>0                  </td><td>2016-12-20 18:04:33</td><td>2016-12-20 18:04:44</td><td>2016-12-20 18:07:11</td><td>2016-12-20 18:04:25</td><td>2016-12-20 18:07:12</td><td> 1                 </td><td>2016-12-20 18:07:12</td></tr>\n",
       "\t<tr><td>2340260            </td><td>0                  </td><td>0                  </td><td>2016-12-20 18:05:49</td><td>0                  </td><td>0                  </td><td>2016-12-20 18:05:51</td><td>0                  </td><td>2016-12-20 18:05:49</td><td>2016-12-20 18:07:22</td><td> 0                 </td><td>0                  </td></tr>\n",
       "\t<tr><td>2340275            </td><td>0                  </td><td>0                  </td><td>2016-12-20 18:08:00</td><td>2016-12-20 18:08:01</td><td>0                  </td><td>0                  </td><td>0                  </td><td>2016-12-20 18:08:00</td><td>2016-12-20 18:09:11</td><td> 0                 </td><td>0                  </td></tr>\n",
       "\t<tr><td>2340278            </td><td>0                  </td><td>0                  </td><td>2016-12-20 18:08:52</td><td>2016-12-20 18:08:53</td><td>0                  </td><td>0                  </td><td>0                  </td><td>2016-12-20 18:08:52</td><td>2016-12-20 18:09:27</td><td> 0                 </td><td>0                  </td></tr>\n",
       "\t<tr><td>2340197            </td><td>0                  </td><td>0                  </td><td>2016-12-20 17:57:11</td><td>0                  </td><td>0                  </td><td>2016-12-20 17:57:13</td><td>2016-12-20 18:01:47</td><td>2016-12-20 17:57:11</td><td>2016-12-20 18:01:50</td><td> 3                 </td><td>2016-12-20 18:01:50</td></tr>\n",
       "\t<tr><td>2340199            </td><td>0                  </td><td>2016-12-20 17:56:25</td><td>2016-12-20 17:58:03</td><td>0                  </td><td>0                  </td><td>2016-12-20 17:59:43</td><td>0                  </td><td>2016-12-20 17:58:03</td><td>2016-12-20 18:01:53</td><td> 0                 </td><td>0                  </td></tr>\n",
       "\t<tr><td>2340201            </td><td>0                  </td><td>0                  </td><td>2016-12-20 17:58:02</td><td>0                  </td><td>2016-12-20 17:58:04</td><td>2016-12-20 17:58:26</td><td>2016-12-20 18:01:55</td><td>2016-12-20 17:58:02</td><td>2016-12-20 18:01:56</td><td> 1                 </td><td>2016-12-20 18:01:56</td></tr>\n",
       "\t<tr><td>2340204            </td><td>0                  </td><td>0                  </td><td>2016-12-20 18:01:37</td><td>2016-12-20 18:01:38</td><td>0                  </td><td>0                  </td><td>0                  </td><td>2016-12-20 18:01:37</td><td>2016-12-20 18:02:05</td><td> 0                 </td><td>0                  </td></tr>\n",
       "\t<tr><td>2340207            </td><td>0                  </td><td>2016-12-20 18:01:20</td><td>2016-12-20 18:01:21</td><td>2016-12-20 18:01:23</td><td>0                  </td><td>0                  </td><td>0                  </td><td>2016-12-20 18:01:21</td><td>2016-12-20 18:02:14</td><td> 0                 </td><td>0                  </td></tr>\n",
       "\t<tr><td>2340219            </td><td>0                  </td><td>2016-12-20 17:55:56</td><td>2016-12-20 17:56:08</td><td>0                  </td><td>0                  </td><td>2016-12-20 17:56:22</td><td>0                  </td><td>2016-12-20 17:56:08</td><td>2016-12-20 18:03:12</td><td> 0                 </td><td>0                  </td></tr>\n",
       "\t<tr><td>2340220            </td><td>0                  </td><td>0                  </td><td>2016-12-20 18:00:34</td><td>2016-12-20 18:00:35</td><td>0                  </td><td>0                  </td><td>0                  </td><td>2016-12-20 18:00:34</td><td>2016-12-20 18:03:18</td><td> 0                 </td><td>0                  </td></tr>\n",
       "\t<tr><td>2340225            </td><td>0                  </td><td>2016-12-20 18:02:56</td><td>2016-12-20 18:02:57</td><td>2016-12-20 18:02:59</td><td>0                  </td><td>0                  </td><td>0                  </td><td>2016-12-20 18:02:57</td><td>2016-12-20 18:03:50</td><td> 0                 </td><td>0                  </td></tr>\n",
       "\t<tr><td>2340227            </td><td>0                  </td><td>0                  </td><td>2016-12-20 18:00:30</td><td>2016-12-20 18:00:31</td><td>0                  </td><td>0                  </td><td>0                  </td><td>2016-12-20 18:00:30</td><td>2016-12-20 18:03:55</td><td> 0                 </td><td>0                  </td></tr>\n",
       "\t<tr><td>2340233            </td><td>0                  </td><td>0                  </td><td>2016-12-20 18:03:52</td><td>2016-12-20 18:03:53</td><td>0                  </td><td>0                  </td><td>0                  </td><td>2016-12-20 18:03:52</td><td>2016-12-20 18:04:28</td><td> 0                 </td><td>0                  </td></tr>\n",
       "\t<tr><td>2340234            </td><td>0                  </td><td>0                  </td><td>2016-12-20 18:03:11</td><td>2016-12-20 18:03:12</td><td>0                  </td><td>0                  </td><td>0                  </td><td>2016-12-20 18:03:11</td><td>2016-12-20 18:04:28</td><td> 0                 </td><td>0                  </td></tr>\n",
       "\t<tr><td>2340235            </td><td>0                  </td><td>2016-12-20 18:01:47</td><td>2016-12-20 18:01:48</td><td>2016-12-20 18:01:50</td><td>0                  </td><td>0                  </td><td>0                  </td><td>2016-12-20 18:01:48</td><td>2016-12-20 18:04:30</td><td> 0                 </td><td>0                  </td></tr>\n",
       "\t<tr><td>2340236            </td><td>0                  </td><td>2016-12-20 17:58:07</td><td>2016-12-20 17:58:17</td><td>0                  </td><td>0                  </td><td>2016-12-20 17:58:29</td><td>2016-12-20 18:04:22</td><td>2016-12-20 17:58:17</td><td>2016-12-20 18:04:32</td><td>10                 </td><td>2016-12-20 18:04:32</td></tr>\n",
       "</tbody>\n",
       "</table>\n"
      ],
      "text/latex": [
       "\\begin{tabular}{r|llllllllllll}\n",
       " CALLID & RINGTIME & QUEUETIME & DISPTIME & CONSULTTIME & ANSHOLDTIME & TALKTIME & ACWTIME & SEGSTART\\_UTC & SEGSTOP\\_UTC & ACWTIME2 & ACWTIMW3\\\\\n",
       "\\hline\n",
       "\t 2340247             & 0                   & 0                   & 2016-12-20 17:54:52 & 0                   & 2016-12-20 17:55:13 & 2016-12-20 17:55:28 & 0                   & 2016-12-20 17:54:52 & 2016-12-20 18:05:21 &  0                  & 0                  \\\\\n",
       "\t 2340254             & 0                   & 0                   & 2016-12-20 18:04:59 & 0                   & 0                   & 2016-12-20 18:05:01 & 0                   & 2016-12-20 18:04:59 & 2016-12-20 18:06:32 &  0                  & 0                  \\\\\n",
       "\t 2340255             & 0                   & 0                   & 2016-12-20 18:06:18 & 2016-12-20 18:06:19 & 0                   & 0                   & 0                   & 2016-12-20 18:06:18 & 2016-12-20 18:06:49 &  0                  & 0                  \\\\\n",
       "\t 2340259             & 0                   & 2016-12-20 18:04:19 & 2016-12-20 18:04:25 & 0                   & 2016-12-20 18:04:33 & 2016-12-20 18:04:44 & 2016-12-20 18:07:11 & 2016-12-20 18:04:25 & 2016-12-20 18:07:12 &  1                  & 2016-12-20 18:07:12\\\\\n",
       "\t 2340260             & 0                   & 0                   & 2016-12-20 18:05:49 & 0                   & 0                   & 2016-12-20 18:05:51 & 0                   & 2016-12-20 18:05:49 & 2016-12-20 18:07:22 &  0                  & 0                  \\\\\n",
       "\t 2340275             & 0                   & 0                   & 2016-12-20 18:08:00 & 2016-12-20 18:08:01 & 0                   & 0                   & 0                   & 2016-12-20 18:08:00 & 2016-12-20 18:09:11 &  0                  & 0                  \\\\\n",
       "\t 2340278             & 0                   & 0                   & 2016-12-20 18:08:52 & 2016-12-20 18:08:53 & 0                   & 0                   & 0                   & 2016-12-20 18:08:52 & 2016-12-20 18:09:27 &  0                  & 0                  \\\\\n",
       "\t 2340197             & 0                   & 0                   & 2016-12-20 17:57:11 & 0                   & 0                   & 2016-12-20 17:57:13 & 2016-12-20 18:01:47 & 2016-12-20 17:57:11 & 2016-12-20 18:01:50 &  3                  & 2016-12-20 18:01:50\\\\\n",
       "\t 2340199             & 0                   & 2016-12-20 17:56:25 & 2016-12-20 17:58:03 & 0                   & 0                   & 2016-12-20 17:59:43 & 0                   & 2016-12-20 17:58:03 & 2016-12-20 18:01:53 &  0                  & 0                  \\\\\n",
       "\t 2340201             & 0                   & 0                   & 2016-12-20 17:58:02 & 0                   & 2016-12-20 17:58:04 & 2016-12-20 17:58:26 & 2016-12-20 18:01:55 & 2016-12-20 17:58:02 & 2016-12-20 18:01:56 &  1                  & 2016-12-20 18:01:56\\\\\n",
       "\t 2340204             & 0                   & 0                   & 2016-12-20 18:01:37 & 2016-12-20 18:01:38 & 0                   & 0                   & 0                   & 2016-12-20 18:01:37 & 2016-12-20 18:02:05 &  0                  & 0                  \\\\\n",
       "\t 2340207             & 0                   & 2016-12-20 18:01:20 & 2016-12-20 18:01:21 & 2016-12-20 18:01:23 & 0                   & 0                   & 0                   & 2016-12-20 18:01:21 & 2016-12-20 18:02:14 &  0                  & 0                  \\\\\n",
       "\t 2340219             & 0                   & 2016-12-20 17:55:56 & 2016-12-20 17:56:08 & 0                   & 0                   & 2016-12-20 17:56:22 & 0                   & 2016-12-20 17:56:08 & 2016-12-20 18:03:12 &  0                  & 0                  \\\\\n",
       "\t 2340220             & 0                   & 0                   & 2016-12-20 18:00:34 & 2016-12-20 18:00:35 & 0                   & 0                   & 0                   & 2016-12-20 18:00:34 & 2016-12-20 18:03:18 &  0                  & 0                  \\\\\n",
       "\t 2340225             & 0                   & 2016-12-20 18:02:56 & 2016-12-20 18:02:57 & 2016-12-20 18:02:59 & 0                   & 0                   & 0                   & 2016-12-20 18:02:57 & 2016-12-20 18:03:50 &  0                  & 0                  \\\\\n",
       "\t 2340227             & 0                   & 0                   & 2016-12-20 18:00:30 & 2016-12-20 18:00:31 & 0                   & 0                   & 0                   & 2016-12-20 18:00:30 & 2016-12-20 18:03:55 &  0                  & 0                  \\\\\n",
       "\t 2340233             & 0                   & 0                   & 2016-12-20 18:03:52 & 2016-12-20 18:03:53 & 0                   & 0                   & 0                   & 2016-12-20 18:03:52 & 2016-12-20 18:04:28 &  0                  & 0                  \\\\\n",
       "\t 2340234             & 0                   & 0                   & 2016-12-20 18:03:11 & 2016-12-20 18:03:12 & 0                   & 0                   & 0                   & 2016-12-20 18:03:11 & 2016-12-20 18:04:28 &  0                  & 0                  \\\\\n",
       "\t 2340235             & 0                   & 2016-12-20 18:01:47 & 2016-12-20 18:01:48 & 2016-12-20 18:01:50 & 0                   & 0                   & 0                   & 2016-12-20 18:01:48 & 2016-12-20 18:04:30 &  0                  & 0                  \\\\\n",
       "\t 2340236             & 0                   & 2016-12-20 17:58:07 & 2016-12-20 17:58:17 & 0                   & 0                   & 2016-12-20 17:58:29 & 2016-12-20 18:04:22 & 2016-12-20 17:58:17 & 2016-12-20 18:04:32 & 10                  & 2016-12-20 18:04:32\\\\\n",
       "\\end{tabular}\n"
      ],
      "text/markdown": [
       "\n",
       "CALLID | RINGTIME | QUEUETIME | DISPTIME | CONSULTTIME | ANSHOLDTIME | TALKTIME | ACWTIME | SEGSTART_UTC | SEGSTOP_UTC | ACWTIME2 | ACWTIMW3 | \n",
       "|---|---|---|---|---|---|---|---|---|---|---|---|---|---|---|---|---|---|---|---|\n",
       "| 2340247             | 0                   | 0                   | 2016-12-20 17:54:52 | 0                   | 2016-12-20 17:55:13 | 2016-12-20 17:55:28 | 0                   | 2016-12-20 17:54:52 | 2016-12-20 18:05:21 |  0                  | 0                   | \n",
       "| 2340254             | 0                   | 0                   | 2016-12-20 18:04:59 | 0                   | 0                   | 2016-12-20 18:05:01 | 0                   | 2016-12-20 18:04:59 | 2016-12-20 18:06:32 |  0                  | 0                   | \n",
       "| 2340255             | 0                   | 0                   | 2016-12-20 18:06:18 | 2016-12-20 18:06:19 | 0                   | 0                   | 0                   | 2016-12-20 18:06:18 | 2016-12-20 18:06:49 |  0                  | 0                   | \n",
       "| 2340259             | 0                   | 2016-12-20 18:04:19 | 2016-12-20 18:04:25 | 0                   | 2016-12-20 18:04:33 | 2016-12-20 18:04:44 | 2016-12-20 18:07:11 | 2016-12-20 18:04:25 | 2016-12-20 18:07:12 |  1                  | 2016-12-20 18:07:12 | \n",
       "| 2340260             | 0                   | 0                   | 2016-12-20 18:05:49 | 0                   | 0                   | 2016-12-20 18:05:51 | 0                   | 2016-12-20 18:05:49 | 2016-12-20 18:07:22 |  0                  | 0                   | \n",
       "| 2340275             | 0                   | 0                   | 2016-12-20 18:08:00 | 2016-12-20 18:08:01 | 0                   | 0                   | 0                   | 2016-12-20 18:08:00 | 2016-12-20 18:09:11 |  0                  | 0                   | \n",
       "| 2340278             | 0                   | 0                   | 2016-12-20 18:08:52 | 2016-12-20 18:08:53 | 0                   | 0                   | 0                   | 2016-12-20 18:08:52 | 2016-12-20 18:09:27 |  0                  | 0                   | \n",
       "| 2340197             | 0                   | 0                   | 2016-12-20 17:57:11 | 0                   | 0                   | 2016-12-20 17:57:13 | 2016-12-20 18:01:47 | 2016-12-20 17:57:11 | 2016-12-20 18:01:50 |  3                  | 2016-12-20 18:01:50 | \n",
       "| 2340199             | 0                   | 2016-12-20 17:56:25 | 2016-12-20 17:58:03 | 0                   | 0                   | 2016-12-20 17:59:43 | 0                   | 2016-12-20 17:58:03 | 2016-12-20 18:01:53 |  0                  | 0                   | \n",
       "| 2340201             | 0                   | 0                   | 2016-12-20 17:58:02 | 0                   | 2016-12-20 17:58:04 | 2016-12-20 17:58:26 | 2016-12-20 18:01:55 | 2016-12-20 17:58:02 | 2016-12-20 18:01:56 |  1                  | 2016-12-20 18:01:56 | \n",
       "| 2340204             | 0                   | 0                   | 2016-12-20 18:01:37 | 2016-12-20 18:01:38 | 0                   | 0                   | 0                   | 2016-12-20 18:01:37 | 2016-12-20 18:02:05 |  0                  | 0                   | \n",
       "| 2340207             | 0                   | 2016-12-20 18:01:20 | 2016-12-20 18:01:21 | 2016-12-20 18:01:23 | 0                   | 0                   | 0                   | 2016-12-20 18:01:21 | 2016-12-20 18:02:14 |  0                  | 0                   | \n",
       "| 2340219             | 0                   | 2016-12-20 17:55:56 | 2016-12-20 17:56:08 | 0                   | 0                   | 2016-12-20 17:56:22 | 0                   | 2016-12-20 17:56:08 | 2016-12-20 18:03:12 |  0                  | 0                   | \n",
       "| 2340220             | 0                   | 0                   | 2016-12-20 18:00:34 | 2016-12-20 18:00:35 | 0                   | 0                   | 0                   | 2016-12-20 18:00:34 | 2016-12-20 18:03:18 |  0                  | 0                   | \n",
       "| 2340225             | 0                   | 2016-12-20 18:02:56 | 2016-12-20 18:02:57 | 2016-12-20 18:02:59 | 0                   | 0                   | 0                   | 2016-12-20 18:02:57 | 2016-12-20 18:03:50 |  0                  | 0                   | \n",
       "| 2340227             | 0                   | 0                   | 2016-12-20 18:00:30 | 2016-12-20 18:00:31 | 0                   | 0                   | 0                   | 2016-12-20 18:00:30 | 2016-12-20 18:03:55 |  0                  | 0                   | \n",
       "| 2340233             | 0                   | 0                   | 2016-12-20 18:03:52 | 2016-12-20 18:03:53 | 0                   | 0                   | 0                   | 2016-12-20 18:03:52 | 2016-12-20 18:04:28 |  0                  | 0                   | \n",
       "| 2340234             | 0                   | 0                   | 2016-12-20 18:03:11 | 2016-12-20 18:03:12 | 0                   | 0                   | 0                   | 2016-12-20 18:03:11 | 2016-12-20 18:04:28 |  0                  | 0                   | \n",
       "| 2340235             | 0                   | 2016-12-20 18:01:47 | 2016-12-20 18:01:48 | 2016-12-20 18:01:50 | 0                   | 0                   | 0                   | 2016-12-20 18:01:48 | 2016-12-20 18:04:30 |  0                  | 0                   | \n",
       "| 2340236             | 0                   | 2016-12-20 17:58:07 | 2016-12-20 17:58:17 | 0                   | 0                   | 2016-12-20 17:58:29 | 2016-12-20 18:04:22 | 2016-12-20 17:58:17 | 2016-12-20 18:04:32 | 10                  | 2016-12-20 18:04:32 | \n",
       "\n",
       "\n"
      ],
      "text/plain": [
       "   CALLID  RINGTIME QUEUETIME           DISPTIME            CONSULTTIME        \n",
       "1  2340247 0        0                   2016-12-20 17:54:52 0                  \n",
       "2  2340254 0        0                   2016-12-20 18:04:59 0                  \n",
       "3  2340255 0        0                   2016-12-20 18:06:18 2016-12-20 18:06:19\n",
       "4  2340259 0        2016-12-20 18:04:19 2016-12-20 18:04:25 0                  \n",
       "5  2340260 0        0                   2016-12-20 18:05:49 0                  \n",
       "6  2340275 0        0                   2016-12-20 18:08:00 2016-12-20 18:08:01\n",
       "7  2340278 0        0                   2016-12-20 18:08:52 2016-12-20 18:08:53\n",
       "8  2340197 0        0                   2016-12-20 17:57:11 0                  \n",
       "9  2340199 0        2016-12-20 17:56:25 2016-12-20 17:58:03 0                  \n",
       "10 2340201 0        0                   2016-12-20 17:58:02 0                  \n",
       "11 2340204 0        0                   2016-12-20 18:01:37 2016-12-20 18:01:38\n",
       "12 2340207 0        2016-12-20 18:01:20 2016-12-20 18:01:21 2016-12-20 18:01:23\n",
       "13 2340219 0        2016-12-20 17:55:56 2016-12-20 17:56:08 0                  \n",
       "14 2340220 0        0                   2016-12-20 18:00:34 2016-12-20 18:00:35\n",
       "15 2340225 0        2016-12-20 18:02:56 2016-12-20 18:02:57 2016-12-20 18:02:59\n",
       "16 2340227 0        0                   2016-12-20 18:00:30 2016-12-20 18:00:31\n",
       "17 2340233 0        0                   2016-12-20 18:03:52 2016-12-20 18:03:53\n",
       "18 2340234 0        0                   2016-12-20 18:03:11 2016-12-20 18:03:12\n",
       "19 2340235 0        2016-12-20 18:01:47 2016-12-20 18:01:48 2016-12-20 18:01:50\n",
       "20 2340236 0        2016-12-20 17:58:07 2016-12-20 17:58:17 0                  \n",
       "   ANSHOLDTIME         TALKTIME            ACWTIME            \n",
       "1  2016-12-20 17:55:13 2016-12-20 17:55:28 0                  \n",
       "2  0                   2016-12-20 18:05:01 0                  \n",
       "3  0                   0                   0                  \n",
       "4  2016-12-20 18:04:33 2016-12-20 18:04:44 2016-12-20 18:07:11\n",
       "5  0                   2016-12-20 18:05:51 0                  \n",
       "6  0                   0                   0                  \n",
       "7  0                   0                   0                  \n",
       "8  0                   2016-12-20 17:57:13 2016-12-20 18:01:47\n",
       "9  0                   2016-12-20 17:59:43 0                  \n",
       "10 2016-12-20 17:58:04 2016-12-20 17:58:26 2016-12-20 18:01:55\n",
       "11 0                   0                   0                  \n",
       "12 0                   0                   0                  \n",
       "13 0                   2016-12-20 17:56:22 0                  \n",
       "14 0                   0                   0                  \n",
       "15 0                   0                   0                  \n",
       "16 0                   0                   0                  \n",
       "17 0                   0                   0                  \n",
       "18 0                   0                   0                  \n",
       "19 0                   0                   0                  \n",
       "20 0                   2016-12-20 17:58:29 2016-12-20 18:04:22\n",
       "   SEGSTART_UTC        SEGSTOP_UTC         ACWTIME2 ACWTIMW3           \n",
       "1  2016-12-20 17:54:52 2016-12-20 18:05:21  0       0                  \n",
       "2  2016-12-20 18:04:59 2016-12-20 18:06:32  0       0                  \n",
       "3  2016-12-20 18:06:18 2016-12-20 18:06:49  0       0                  \n",
       "4  2016-12-20 18:04:25 2016-12-20 18:07:12  1       2016-12-20 18:07:12\n",
       "5  2016-12-20 18:05:49 2016-12-20 18:07:22  0       0                  \n",
       "6  2016-12-20 18:08:00 2016-12-20 18:09:11  0       0                  \n",
       "7  2016-12-20 18:08:52 2016-12-20 18:09:27  0       0                  \n",
       "8  2016-12-20 17:57:11 2016-12-20 18:01:50  3       2016-12-20 18:01:50\n",
       "9  2016-12-20 17:58:03 2016-12-20 18:01:53  0       0                  \n",
       "10 2016-12-20 17:58:02 2016-12-20 18:01:56  1       2016-12-20 18:01:56\n",
       "11 2016-12-20 18:01:37 2016-12-20 18:02:05  0       0                  \n",
       "12 2016-12-20 18:01:21 2016-12-20 18:02:14  0       0                  \n",
       "13 2016-12-20 17:56:08 2016-12-20 18:03:12  0       0                  \n",
       "14 2016-12-20 18:00:34 2016-12-20 18:03:18  0       0                  \n",
       "15 2016-12-20 18:02:57 2016-12-20 18:03:50  0       0                  \n",
       "16 2016-12-20 18:00:30 2016-12-20 18:03:55  0       0                  \n",
       "17 2016-12-20 18:03:52 2016-12-20 18:04:28  0       0                  \n",
       "18 2016-12-20 18:03:11 2016-12-20 18:04:28  0       0                  \n",
       "19 2016-12-20 18:01:48 2016-12-20 18:04:30  0       0                  \n",
       "20 2016-12-20 17:58:17 2016-12-20 18:04:32 10       2016-12-20 18:04:32"
      ]
     },
     "metadata": {},
     "output_type": "display_data"
    }
   ],
   "source": [
    "activity2$RINGTIME <- ifelse(activity2$RINGTIME == activity2$QUEUETIME, \"0\", activity2$RINGTIME)\n",
    "activity2$QUEUETIME <- ifelse(activity2$QUEUETIME == activity2$DISPTIME, \"0\", activity2$QUEUETIME)\n",
    "activity2$DISPTIME <- ifelse(activity2$DISPTIME == activity2$CONSULTTIME, \"0\", activity2$DISPTIME)\n",
    "activity2$CONSULTTIME <- ifelse(activity2$CONSULTTIME == activity2$ANSHOLDTIME, \"0\", activity2$CONSULTTIME)\n",
    "activity2$ANSHOLDTIME <- ifelse(activity2$ANSHOLDTIME == activity2$TALKTIME, \"0\", activity2$ANSHOLDTIME)\n",
    "activity2$TALKTIME <- ifelse(activity2$TALKTIME == activity2$ACWTIME, \"0\", activity2$TALKTIME)\n",
    "activity2$ACWTIME <- ifelse(activity2$ACWTIME2 == 0, \"0\", activity2$ACWTIME)\n",
    "activity2$ACWTIMW3 <- ifelse(activity2$ACWTIME2 == 0, \"0\", activity2$ACWTIMW3)\n",
    "\n",
    "head(activity2, 20)"
   ]
  },
  {
   "cell_type": "markdown",
   "metadata": {},
   "source": [
    "### 7) CALL_DISP는 나중에 붙이기로 하고 일단 Melt"
   ]
  },
  {
   "cell_type": "code",
   "execution_count": 57,
   "metadata": {
    "scrolled": true
   },
   "outputs": [
    {
     "data": {
      "text/html": [
       "<table>\n",
       "<thead><tr><th scope=col>CALLID</th><th scope=col>RINGTIME</th><th scope=col>QUEUETIME</th><th scope=col>DISPTIME</th><th scope=col>CONSULTTIME</th><th scope=col>ANSHOLDTIME</th><th scope=col>TALKTIME</th><th scope=col>ACWTIME</th><th scope=col>ACWTIME2</th><th scope=col>ACWTIMW3</th></tr></thead>\n",
       "<tbody>\n",
       "\t<tr><td>2340247            </td><td>0                  </td><td>0                  </td><td>2016-12-20 17:54:52</td><td>0                  </td><td>2016-12-20 17:55:13</td><td>2016-12-20 17:55:28</td><td>0                  </td><td>0                  </td><td>0                  </td></tr>\n",
       "\t<tr><td>2340254            </td><td>0                  </td><td>0                  </td><td>2016-12-20 18:04:59</td><td>0                  </td><td>0                  </td><td>2016-12-20 18:05:01</td><td>0                  </td><td>0                  </td><td>0                  </td></tr>\n",
       "\t<tr><td>2340255            </td><td>0                  </td><td>0                  </td><td>2016-12-20 18:06:18</td><td>2016-12-20 18:06:19</td><td>0                  </td><td>0                  </td><td>0                  </td><td>0                  </td><td>0                  </td></tr>\n",
       "\t<tr><td>2340259            </td><td>0                  </td><td>2016-12-20 18:04:19</td><td>2016-12-20 18:04:25</td><td>0                  </td><td>2016-12-20 18:04:33</td><td>2016-12-20 18:04:44</td><td>2016-12-20 18:07:11</td><td>1                  </td><td>2016-12-20 18:07:12</td></tr>\n",
       "\t<tr><td>2340260            </td><td>0                  </td><td>0                  </td><td>2016-12-20 18:05:49</td><td>0                  </td><td>0                  </td><td>2016-12-20 18:05:51</td><td>0                  </td><td>0                  </td><td>0                  </td></tr>\n",
       "\t<tr><td>2340275            </td><td>0                  </td><td>0                  </td><td>2016-12-20 18:08:00</td><td>2016-12-20 18:08:01</td><td>0                  </td><td>0                  </td><td>0                  </td><td>0                  </td><td>0                  </td></tr>\n",
       "</tbody>\n",
       "</table>\n"
      ],
      "text/latex": [
       "\\begin{tabular}{r|llllllllll}\n",
       " CALLID & RINGTIME & QUEUETIME & DISPTIME & CONSULTTIME & ANSHOLDTIME & TALKTIME & ACWTIME & ACWTIME2 & ACWTIMW3\\\\\n",
       "\\hline\n",
       "\t 2340247             & 0                   & 0                   & 2016-12-20 17:54:52 & 0                   & 2016-12-20 17:55:13 & 2016-12-20 17:55:28 & 0                   & 0                   & 0                  \\\\\n",
       "\t 2340254             & 0                   & 0                   & 2016-12-20 18:04:59 & 0                   & 0                   & 2016-12-20 18:05:01 & 0                   & 0                   & 0                  \\\\\n",
       "\t 2340255             & 0                   & 0                   & 2016-12-20 18:06:18 & 2016-12-20 18:06:19 & 0                   & 0                   & 0                   & 0                   & 0                  \\\\\n",
       "\t 2340259             & 0                   & 2016-12-20 18:04:19 & 2016-12-20 18:04:25 & 0                   & 2016-12-20 18:04:33 & 2016-12-20 18:04:44 & 2016-12-20 18:07:11 & 1                   & 2016-12-20 18:07:12\\\\\n",
       "\t 2340260             & 0                   & 0                   & 2016-12-20 18:05:49 & 0                   & 0                   & 2016-12-20 18:05:51 & 0                   & 0                   & 0                  \\\\\n",
       "\t 2340275             & 0                   & 0                   & 2016-12-20 18:08:00 & 2016-12-20 18:08:01 & 0                   & 0                   & 0                   & 0                   & 0                  \\\\\n",
       "\\end{tabular}\n"
      ],
      "text/markdown": [
       "\n",
       "CALLID | RINGTIME | QUEUETIME | DISPTIME | CONSULTTIME | ANSHOLDTIME | TALKTIME | ACWTIME | ACWTIME2 | ACWTIMW3 | \n",
       "|---|---|---|---|---|---|\n",
       "| 2340247             | 0                   | 0                   | 2016-12-20 17:54:52 | 0                   | 2016-12-20 17:55:13 | 2016-12-20 17:55:28 | 0                   | 0                   | 0                   | \n",
       "| 2340254             | 0                   | 0                   | 2016-12-20 18:04:59 | 0                   | 0                   | 2016-12-20 18:05:01 | 0                   | 0                   | 0                   | \n",
       "| 2340255             | 0                   | 0                   | 2016-12-20 18:06:18 | 2016-12-20 18:06:19 | 0                   | 0                   | 0                   | 0                   | 0                   | \n",
       "| 2340259             | 0                   | 2016-12-20 18:04:19 | 2016-12-20 18:04:25 | 0                   | 2016-12-20 18:04:33 | 2016-12-20 18:04:44 | 2016-12-20 18:07:11 | 1                   | 2016-12-20 18:07:12 | \n",
       "| 2340260             | 0                   | 0                   | 2016-12-20 18:05:49 | 0                   | 0                   | 2016-12-20 18:05:51 | 0                   | 0                   | 0                   | \n",
       "| 2340275             | 0                   | 0                   | 2016-12-20 18:08:00 | 2016-12-20 18:08:01 | 0                   | 0                   | 0                   | 0                   | 0                   | \n",
       "\n",
       "\n"
      ],
      "text/plain": [
       "  CALLID  RINGTIME QUEUETIME           DISPTIME            CONSULTTIME        \n",
       "1 2340247 0        0                   2016-12-20 17:54:52 0                  \n",
       "2 2340254 0        0                   2016-12-20 18:04:59 0                  \n",
       "3 2340255 0        0                   2016-12-20 18:06:18 2016-12-20 18:06:19\n",
       "4 2340259 0        2016-12-20 18:04:19 2016-12-20 18:04:25 0                  \n",
       "5 2340260 0        0                   2016-12-20 18:05:49 0                  \n",
       "6 2340275 0        0                   2016-12-20 18:08:00 2016-12-20 18:08:01\n",
       "  ANSHOLDTIME         TALKTIME            ACWTIME             ACWTIME2\n",
       "1 2016-12-20 17:55:13 2016-12-20 17:55:28 0                   0       \n",
       "2 0                   2016-12-20 18:05:01 0                   0       \n",
       "3 0                   0                   0                   0       \n",
       "4 2016-12-20 18:04:33 2016-12-20 18:04:44 2016-12-20 18:07:11 1       \n",
       "5 0                   2016-12-20 18:05:51 0                   0       \n",
       "6 0                   0                   0                   0       \n",
       "  ACWTIMW3           \n",
       "1 0                  \n",
       "2 0                  \n",
       "3 0                  \n",
       "4 2016-12-20 18:07:12\n",
       "5 0                  \n",
       "6 0                  "
      ]
     },
     "metadata": {},
     "output_type": "display_data"
    }
   ],
   "source": [
    "activity3 <- select(activity2, -SEGSTART_UTC, -SEGSTOP_UTC)\n",
    "head(activity3)"
   ]
  },
  {
   "cell_type": "code",
   "execution_count": 58,
   "metadata": {},
   "outputs": [
    {
     "data": {
      "text/html": [
       "<table>\n",
       "<thead><tr><th scope=col>CALLID</th><th scope=col>RINGTIME</th><th scope=col>QUEUETIME</th><th scope=col>DISPTIME</th><th scope=col>CONSULTTIME</th><th scope=col>ANSHOLDTIME</th><th scope=col>TALKTIME</th><th scope=col>ACWTIME</th><th scope=col>ACWTIMW3</th></tr></thead>\n",
       "<tbody>\n",
       "\t<tr><td>2340247            </td><td>0                  </td><td>0                  </td><td>2016-12-20 17:54:52</td><td>0                  </td><td>2016-12-20 17:55:13</td><td>2016-12-20 17:55:28</td><td>0                  </td><td>0                  </td></tr>\n",
       "\t<tr><td>2340254            </td><td>0                  </td><td>0                  </td><td>2016-12-20 18:04:59</td><td>0                  </td><td>0                  </td><td>2016-12-20 18:05:01</td><td>0                  </td><td>0                  </td></tr>\n",
       "\t<tr><td>2340255            </td><td>0                  </td><td>0                  </td><td>2016-12-20 18:06:18</td><td>2016-12-20 18:06:19</td><td>0                  </td><td>0                  </td><td>0                  </td><td>0                  </td></tr>\n",
       "\t<tr><td>2340259            </td><td>0                  </td><td>2016-12-20 18:04:19</td><td>2016-12-20 18:04:25</td><td>0                  </td><td>2016-12-20 18:04:33</td><td>2016-12-20 18:04:44</td><td>2016-12-20 18:07:11</td><td>2016-12-20 18:07:12</td></tr>\n",
       "\t<tr><td>2340260            </td><td>0                  </td><td>0                  </td><td>2016-12-20 18:05:49</td><td>0                  </td><td>0                  </td><td>2016-12-20 18:05:51</td><td>0                  </td><td>0                  </td></tr>\n",
       "\t<tr><td>2340275            </td><td>0                  </td><td>0                  </td><td>2016-12-20 18:08:00</td><td>2016-12-20 18:08:01</td><td>0                  </td><td>0                  </td><td>0                  </td><td>0                  </td></tr>\n",
       "</tbody>\n",
       "</table>\n"
      ],
      "text/latex": [
       "\\begin{tabular}{r|lllllllll}\n",
       " CALLID & RINGTIME & QUEUETIME & DISPTIME & CONSULTTIME & ANSHOLDTIME & TALKTIME & ACWTIME & ACWTIMW3\\\\\n",
       "\\hline\n",
       "\t 2340247             & 0                   & 0                   & 2016-12-20 17:54:52 & 0                   & 2016-12-20 17:55:13 & 2016-12-20 17:55:28 & 0                   & 0                  \\\\\n",
       "\t 2340254             & 0                   & 0                   & 2016-12-20 18:04:59 & 0                   & 0                   & 2016-12-20 18:05:01 & 0                   & 0                  \\\\\n",
       "\t 2340255             & 0                   & 0                   & 2016-12-20 18:06:18 & 2016-12-20 18:06:19 & 0                   & 0                   & 0                   & 0                  \\\\\n",
       "\t 2340259             & 0                   & 2016-12-20 18:04:19 & 2016-12-20 18:04:25 & 0                   & 2016-12-20 18:04:33 & 2016-12-20 18:04:44 & 2016-12-20 18:07:11 & 2016-12-20 18:07:12\\\\\n",
       "\t 2340260             & 0                   & 0                   & 2016-12-20 18:05:49 & 0                   & 0                   & 2016-12-20 18:05:51 & 0                   & 0                  \\\\\n",
       "\t 2340275             & 0                   & 0                   & 2016-12-20 18:08:00 & 2016-12-20 18:08:01 & 0                   & 0                   & 0                   & 0                  \\\\\n",
       "\\end{tabular}\n"
      ],
      "text/markdown": [
       "\n",
       "CALLID | RINGTIME | QUEUETIME | DISPTIME | CONSULTTIME | ANSHOLDTIME | TALKTIME | ACWTIME | ACWTIMW3 | \n",
       "|---|---|---|---|---|---|\n",
       "| 2340247             | 0                   | 0                   | 2016-12-20 17:54:52 | 0                   | 2016-12-20 17:55:13 | 2016-12-20 17:55:28 | 0                   | 0                   | \n",
       "| 2340254             | 0                   | 0                   | 2016-12-20 18:04:59 | 0                   | 0                   | 2016-12-20 18:05:01 | 0                   | 0                   | \n",
       "| 2340255             | 0                   | 0                   | 2016-12-20 18:06:18 | 2016-12-20 18:06:19 | 0                   | 0                   | 0                   | 0                   | \n",
       "| 2340259             | 0                   | 2016-12-20 18:04:19 | 2016-12-20 18:04:25 | 0                   | 2016-12-20 18:04:33 | 2016-12-20 18:04:44 | 2016-12-20 18:07:11 | 2016-12-20 18:07:12 | \n",
       "| 2340260             | 0                   | 0                   | 2016-12-20 18:05:49 | 0                   | 0                   | 2016-12-20 18:05:51 | 0                   | 0                   | \n",
       "| 2340275             | 0                   | 0                   | 2016-12-20 18:08:00 | 2016-12-20 18:08:01 | 0                   | 0                   | 0                   | 0                   | \n",
       "\n",
       "\n"
      ],
      "text/plain": [
       "  CALLID  RINGTIME QUEUETIME           DISPTIME            CONSULTTIME        \n",
       "1 2340247 0        0                   2016-12-20 17:54:52 0                  \n",
       "2 2340254 0        0                   2016-12-20 18:04:59 0                  \n",
       "3 2340255 0        0                   2016-12-20 18:06:18 2016-12-20 18:06:19\n",
       "4 2340259 0        2016-12-20 18:04:19 2016-12-20 18:04:25 0                  \n",
       "5 2340260 0        0                   2016-12-20 18:05:49 0                  \n",
       "6 2340275 0        0                   2016-12-20 18:08:00 2016-12-20 18:08:01\n",
       "  ANSHOLDTIME         TALKTIME            ACWTIME            \n",
       "1 2016-12-20 17:55:13 2016-12-20 17:55:28 0                  \n",
       "2 0                   2016-12-20 18:05:01 0                  \n",
       "3 0                   0                   0                  \n",
       "4 2016-12-20 18:04:33 2016-12-20 18:04:44 2016-12-20 18:07:11\n",
       "5 0                   2016-12-20 18:05:51 0                  \n",
       "6 0                   0                   0                  \n",
       "  ACWTIMW3           \n",
       "1 0                  \n",
       "2 0                  \n",
       "3 0                  \n",
       "4 2016-12-20 18:07:12\n",
       "5 0                  \n",
       "6 0                  "
      ]
     },
     "metadata": {},
     "output_type": "display_data"
    }
   ],
   "source": [
    "activity4 <- select(activity3, -ACWTIME2)\n",
    "head(activity4)"
   ]
  },
  {
   "cell_type": "code",
   "execution_count": 59,
   "metadata": {},
   "outputs": [
    {
     "name": "stdout",
     "output_type": "stream",
     "text": [
      "'data.frame':\t6989888 obs. of  3 variables:\n",
      " $ CALLID  : chr  \"2340247\" \"2340254\" \"2340255\" \"2340259\" ...\n",
      " $ variable: Factor w/ 8 levels \"RINGTIME\",\"QUEUETIME\",..: 1 1 1 1 1 1 1 1 1 1 ...\n",
      " $ value   : chr  \"0\" \"0\" \"0\" \"0\" ...\n"
     ]
    }
   ],
   "source": [
    "actmelt <- as.data.frame(melt(activity4, id.vars = 1))\n",
    "str(actmelt)"
   ]
  },
  {
   "cell_type": "code",
   "execution_count": 60,
   "metadata": {},
   "outputs": [
    {
     "data": {
      "text/html": [
       "<table>\n",
       "<thead><tr><th scope=col>CALLID</th><th scope=col>ACTIVITY</th><th scope=col>TIMESTAMP</th></tr></thead>\n",
       "<tbody>\n",
       "\t<tr><td>2340247 </td><td>RINGTIME</td><td>0       </td></tr>\n",
       "\t<tr><td>2340254 </td><td>RINGTIME</td><td>0       </td></tr>\n",
       "\t<tr><td>2340255 </td><td>RINGTIME</td><td>0       </td></tr>\n",
       "\t<tr><td>2340259 </td><td>RINGTIME</td><td>0       </td></tr>\n",
       "\t<tr><td>2340260 </td><td>RINGTIME</td><td>0       </td></tr>\n",
       "\t<tr><td>2340275 </td><td>RINGTIME</td><td>0       </td></tr>\n",
       "</tbody>\n",
       "</table>\n"
      ],
      "text/latex": [
       "\\begin{tabular}{r|lll}\n",
       " CALLID & ACTIVITY & TIMESTAMP\\\\\n",
       "\\hline\n",
       "\t 2340247  & RINGTIME & 0       \\\\\n",
       "\t 2340254  & RINGTIME & 0       \\\\\n",
       "\t 2340255  & RINGTIME & 0       \\\\\n",
       "\t 2340259  & RINGTIME & 0       \\\\\n",
       "\t 2340260  & RINGTIME & 0       \\\\\n",
       "\t 2340275  & RINGTIME & 0       \\\\\n",
       "\\end{tabular}\n"
      ],
      "text/markdown": [
       "\n",
       "CALLID | ACTIVITY | TIMESTAMP | \n",
       "|---|---|---|---|---|---|\n",
       "| 2340247  | RINGTIME | 0        | \n",
       "| 2340254  | RINGTIME | 0        | \n",
       "| 2340255  | RINGTIME | 0        | \n",
       "| 2340259  | RINGTIME | 0        | \n",
       "| 2340260  | RINGTIME | 0        | \n",
       "| 2340275  | RINGTIME | 0        | \n",
       "\n",
       "\n"
      ],
      "text/plain": [
       "  CALLID  ACTIVITY TIMESTAMP\n",
       "1 2340247 RINGTIME 0        \n",
       "2 2340254 RINGTIME 0        \n",
       "3 2340255 RINGTIME 0        \n",
       "4 2340259 RINGTIME 0        \n",
       "5 2340260 RINGTIME 0        \n",
       "6 2340275 RINGTIME 0        "
      ]
     },
     "metadata": {},
     "output_type": "display_data"
    }
   ],
   "source": [
    "colnames(actmelt) <- c(\"CALLID\", \"ACTIVITY\", \"TIMESTAMP\")\n",
    "head(actmelt)"
   ]
  },
  {
   "cell_type": "markdown",
   "metadata": {},
   "source": [
    "## 5. actmelt에 CALL_DISP 붙이기"
   ]
  },
  {
   "cell_type": "code",
   "execution_count": 61,
   "metadata": {},
   "outputs": [
    {
     "name": "stdout",
     "output_type": "stream",
     "text": [
      "'data.frame':\t873736 obs. of  3 variables:\n",
      " $ CALLID   : chr  \"2340247\" \"2340254\" \"2340255\" \"2340259\" ...\n",
      " $ ACTIVITY : Factor w/ 8 levels \"RINGTIME\",\"QUEUETIME\",..: 3 3 3 3 3 3 3 3 3 3 ...\n",
      " $ TIMESTAMP: chr  \"2016-12-20 17:54:52\" \"2016-12-20 18:04:59\" \"2016-12-20 18:06:18\" \"2016-12-20 18:04:25\" ...\n"
     ]
    }
   ],
   "source": [
    "actcall <- actmelt[actmelt$ACTIVITY == \"DISPTIME\", ]\n",
    "str(actcall)"
   ]
  },
  {
   "cell_type": "code",
   "execution_count": 63,
   "metadata": {},
   "outputs": [
    {
     "data": {
      "text/html": [
       "<table>\n",
       "<thead><tr><th scope=col>CALLID</th><th scope=col>CALL_DISP</th></tr></thead>\n",
       "<tbody>\n",
       "\t<tr><td>2340247</td><td>2      </td></tr>\n",
       "\t<tr><td>2340254</td><td>2      </td></tr>\n",
       "\t<tr><td>2340255</td><td>1      </td></tr>\n",
       "\t<tr><td>2340259</td><td>2      </td></tr>\n",
       "\t<tr><td>2340260</td><td>2      </td></tr>\n",
       "\t<tr><td>2340275</td><td>1      </td></tr>\n",
       "</tbody>\n",
       "</table>\n"
      ],
      "text/latex": [
       "\\begin{tabular}{r|ll}\n",
       " CALLID & CALL\\_DISP\\\\\n",
       "\\hline\n",
       "\t 2340247 & 2      \\\\\n",
       "\t 2340254 & 2      \\\\\n",
       "\t 2340255 & 1      \\\\\n",
       "\t 2340259 & 2      \\\\\n",
       "\t 2340260 & 2      \\\\\n",
       "\t 2340275 & 1      \\\\\n",
       "\\end{tabular}\n"
      ],
      "text/markdown": [
       "\n",
       "CALLID | CALL_DISP | \n",
       "|---|---|---|---|---|---|\n",
       "| 2340247 | 2       | \n",
       "| 2340254 | 2       | \n",
       "| 2340255 | 1       | \n",
       "| 2340259 | 2       | \n",
       "| 2340260 | 2       | \n",
       "| 2340275 | 1       | \n",
       "\n",
       "\n"
      ],
      "text/plain": [
       "  CALLID  CALL_DISP\n",
       "1 2340247 2        \n",
       "2 2340254 2        \n",
       "3 2340255 1        \n",
       "4 2340259 2        \n",
       "5 2340260 2        \n",
       "6 2340275 1        "
      ]
     },
     "metadata": {},
     "output_type": "display_data"
    }
   ],
   "source": [
    "dispcall <- select(hans, CALLID, CALL_DISP)\n",
    "head(dispcall)"
   ]
  },
  {
   "cell_type": "code",
   "execution_count": 64,
   "metadata": {},
   "outputs": [
    {
     "data": {
      "text/html": [
       "<table>\n",
       "<thead><tr><th scope=col>CALLID</th><th scope=col>ACTIVITY</th><th scope=col>TIMESTAMP</th><th scope=col>CALL_DISP</th></tr></thead>\n",
       "<tbody>\n",
       "\t<tr><td>2340247            </td><td>DISPTIME           </td><td>2016-12-20 17:54:52</td><td>2                  </td></tr>\n",
       "\t<tr><td>2340254            </td><td>DISPTIME           </td><td>2016-12-20 18:04:59</td><td>2                  </td></tr>\n",
       "\t<tr><td>2340255            </td><td>DISPTIME           </td><td>2016-12-20 18:06:18</td><td>1                  </td></tr>\n",
       "\t<tr><td>2340259            </td><td>DISPTIME           </td><td>2016-12-20 18:04:25</td><td>2                  </td></tr>\n",
       "\t<tr><td>2340260            </td><td>DISPTIME           </td><td>2016-12-20 18:05:49</td><td>2                  </td></tr>\n",
       "\t<tr><td>2340275            </td><td>DISPTIME           </td><td>2016-12-20 18:08:00</td><td>1                  </td></tr>\n",
       "</tbody>\n",
       "</table>\n"
      ],
      "text/latex": [
       "\\begin{tabular}{r|llll}\n",
       " CALLID & ACTIVITY & TIMESTAMP & CALL\\_DISP\\\\\n",
       "\\hline\n",
       "\t 2340247             & DISPTIME            & 2016-12-20 17:54:52 & 2                  \\\\\n",
       "\t 2340254             & DISPTIME            & 2016-12-20 18:04:59 & 2                  \\\\\n",
       "\t 2340255             & DISPTIME            & 2016-12-20 18:06:18 & 1                  \\\\\n",
       "\t 2340259             & DISPTIME            & 2016-12-20 18:04:25 & 2                  \\\\\n",
       "\t 2340260             & DISPTIME            & 2016-12-20 18:05:49 & 2                  \\\\\n",
       "\t 2340275             & DISPTIME            & 2016-12-20 18:08:00 & 1                  \\\\\n",
       "\\end{tabular}\n"
      ],
      "text/markdown": [
       "\n",
       "CALLID | ACTIVITY | TIMESTAMP | CALL_DISP | \n",
       "|---|---|---|---|---|---|\n",
       "| 2340247             | DISPTIME            | 2016-12-20 17:54:52 | 2                   | \n",
       "| 2340254             | DISPTIME            | 2016-12-20 18:04:59 | 2                   | \n",
       "| 2340255             | DISPTIME            | 2016-12-20 18:06:18 | 1                   | \n",
       "| 2340259             | DISPTIME            | 2016-12-20 18:04:25 | 2                   | \n",
       "| 2340260             | DISPTIME            | 2016-12-20 18:05:49 | 2                   | \n",
       "| 2340275             | DISPTIME            | 2016-12-20 18:08:00 | 1                   | \n",
       "\n",
       "\n"
      ],
      "text/plain": [
       "  CALLID  ACTIVITY TIMESTAMP           CALL_DISP\n",
       "1 2340247 DISPTIME 2016-12-20 17:54:52 2        \n",
       "2 2340254 DISPTIME 2016-12-20 18:04:59 2        \n",
       "3 2340255 DISPTIME 2016-12-20 18:06:18 1        \n",
       "4 2340259 DISPTIME 2016-12-20 18:04:25 2        \n",
       "5 2340260 DISPTIME 2016-12-20 18:05:49 2        \n",
       "6 2340275 DISPTIME 2016-12-20 18:08:00 1        "
      ]
     },
     "metadata": {},
     "output_type": "display_data"
    }
   ],
   "source": [
    "dispcall$CALLID <- as.character(dispcall$CALLID)\n",
    "meltdisp <- left_join(actcall, dispcall, by = c(\"CALLID\" = \"CALLID\"))\n",
    "head(meltdisp)"
   ]
  },
  {
   "cell_type": "code",
   "execution_count": 65,
   "metadata": {},
   "outputs": [
    {
     "data": {
      "text/html": [
       "<table>\n",
       "<thead><tr><th scope=col>CALLID</th><th scope=col>ACTIVITY</th><th scope=col>TIMESTAMP</th><th scope=col>CALL_DISP</th><th scope=col>DISPNAME</th></tr></thead>\n",
       "<tbody>\n",
       "\t<tr><td>2340247            </td><td>DISPTIME           </td><td>2016-12-20 17:54:52</td><td>2                  </td><td>DISP_ANS           </td></tr>\n",
       "\t<tr><td>2340254            </td><td>DISPTIME           </td><td>2016-12-20 18:04:59</td><td>2                  </td><td>DISP_ANS           </td></tr>\n",
       "\t<tr><td>2340255            </td><td>DISPTIME           </td><td>2016-12-20 18:06:18</td><td>1                  </td><td>DISP_CONN          </td></tr>\n",
       "\t<tr><td>2340259            </td><td>DISPTIME           </td><td>2016-12-20 18:04:25</td><td>2                  </td><td>DISP_ANS           </td></tr>\n",
       "\t<tr><td>2340260            </td><td>DISPTIME           </td><td>2016-12-20 18:05:49</td><td>2                  </td><td>DISP_ANS           </td></tr>\n",
       "\t<tr><td>2340275            </td><td>DISPTIME           </td><td>2016-12-20 18:08:00</td><td>1                  </td><td>DISP_CONN          </td></tr>\n",
       "</tbody>\n",
       "</table>\n"
      ],
      "text/latex": [
       "\\begin{tabular}{r|lllll}\n",
       " CALLID & ACTIVITY & TIMESTAMP & CALL\\_DISP & DISPNAME\\\\\n",
       "\\hline\n",
       "\t 2340247             & DISPTIME            & 2016-12-20 17:54:52 & 2                   & DISP\\_ANS         \\\\\n",
       "\t 2340254             & DISPTIME            & 2016-12-20 18:04:59 & 2                   & DISP\\_ANS         \\\\\n",
       "\t 2340255             & DISPTIME            & 2016-12-20 18:06:18 & 1                   & DISP\\_CONN        \\\\\n",
       "\t 2340259             & DISPTIME            & 2016-12-20 18:04:25 & 2                   & DISP\\_ANS         \\\\\n",
       "\t 2340260             & DISPTIME            & 2016-12-20 18:05:49 & 2                   & DISP\\_ANS         \\\\\n",
       "\t 2340275             & DISPTIME            & 2016-12-20 18:08:00 & 1                   & DISP\\_CONN        \\\\\n",
       "\\end{tabular}\n"
      ],
      "text/markdown": [
       "\n",
       "CALLID | ACTIVITY | TIMESTAMP | CALL_DISP | DISPNAME | \n",
       "|---|---|---|---|---|---|\n",
       "| 2340247             | DISPTIME            | 2016-12-20 17:54:52 | 2                   | DISP_ANS            | \n",
       "| 2340254             | DISPTIME            | 2016-12-20 18:04:59 | 2                   | DISP_ANS            | \n",
       "| 2340255             | DISPTIME            | 2016-12-20 18:06:18 | 1                   | DISP_CONN           | \n",
       "| 2340259             | DISPTIME            | 2016-12-20 18:04:25 | 2                   | DISP_ANS            | \n",
       "| 2340260             | DISPTIME            | 2016-12-20 18:05:49 | 2                   | DISP_ANS            | \n",
       "| 2340275             | DISPTIME            | 2016-12-20 18:08:00 | 1                   | DISP_CONN           | \n",
       "\n",
       "\n"
      ],
      "text/plain": [
       "  CALLID  ACTIVITY TIMESTAMP           CALL_DISP DISPNAME \n",
       "1 2340247 DISPTIME 2016-12-20 17:54:52 2         DISP_ANS \n",
       "2 2340254 DISPTIME 2016-12-20 18:04:59 2         DISP_ANS \n",
       "3 2340255 DISPTIME 2016-12-20 18:06:18 1         DISP_CONN\n",
       "4 2340259 DISPTIME 2016-12-20 18:04:25 2         DISP_ANS \n",
       "5 2340260 DISPTIME 2016-12-20 18:05:49 2         DISP_ANS \n",
       "6 2340275 DISPTIME 2016-12-20 18:08:00 1         DISP_CONN"
      ]
     },
     "metadata": {},
     "output_type": "display_data"
    }
   ],
   "source": [
    "meltdisp$DISPNAME <- \"a\"\n",
    "meltdisp$DISPNAME <- ifelse(meltdisp$CALL_DISP == 1, \"DISP_CONN\", meltdisp$DISPNAME)\n",
    "meltdisp$DISPNAME <- ifelse(meltdisp$CALL_DISP == 2, \"DISP_ANS\", meltdisp$DISPNAME)\n",
    "meltdisp$DISPNAME <- ifelse(meltdisp$CALL_DISP == 3, \"DISP_ABAN\", meltdisp$DISPNAME)\n",
    "meltdisp$DISPNAME <- ifelse(meltdisp$CALL_DISP == 4, \"DISP_IFLOW\", meltdisp$DISPNAME)\n",
    "meltdisp$DISPNAME <- ifelse(meltdisp$CALL_DISP == 5, \"DISP_FBUSY\", meltdisp$DISPNAME)\n",
    "meltdisp$DISPNAME <- ifelse(meltdisp$CALL_DISP == 6, \"DISP_FDISC\", meltdisp$DISPNAME)\n",
    "meltdisp$DISPNAME <- ifelse(meltdisp$CALL_DISP == 7, \"DISP_OTHER\", meltdisp$DISPNAME)\n",
    "head(meltdisp)"
   ]
  },
  {
   "cell_type": "code",
   "execution_count": 66,
   "metadata": {},
   "outputs": [
    {
     "data": {
      "text/plain": [
       "\n",
       " DISP_ABAN   DISP_ANS  DISP_CONN DISP_FDISC DISP_OTHER \n",
       "    119851     205012     478671       4987      65215 "
      ]
     },
     "metadata": {},
     "output_type": "display_data"
    },
    {
     "data": {
      "text/plain": [
       "\n",
       "     1      2      3      6      7 \n",
       "478671 205012 119851   4987  65215 "
      ]
     },
     "metadata": {},
     "output_type": "display_data"
    }
   ],
   "source": [
    "table(meltdisp$DISPNAME)\n",
    "table(meltdisp$CALL_DISP)"
   ]
  },
  {
   "cell_type": "code",
   "execution_count": 67,
   "metadata": {},
   "outputs": [
    {
     "data": {
      "text/html": [
       "<table>\n",
       "<thead><tr><th scope=col>CALLID</th><th scope=col>ACTIVITY</th><th scope=col>TIMESTAMP</th></tr></thead>\n",
       "<tbody>\n",
       "\t<tr><td>2340247            </td><td>DISP_ANS           </td><td>2016-12-20 17:54:52</td></tr>\n",
       "\t<tr><td>2340254            </td><td>DISP_ANS           </td><td>2016-12-20 18:04:59</td></tr>\n",
       "\t<tr><td>2340255            </td><td>DISP_CONN          </td><td>2016-12-20 18:06:18</td></tr>\n",
       "\t<tr><td>2340259            </td><td>DISP_ANS           </td><td>2016-12-20 18:04:25</td></tr>\n",
       "\t<tr><td>2340260            </td><td>DISP_ANS           </td><td>2016-12-20 18:05:49</td></tr>\n",
       "\t<tr><td>2340275            </td><td>DISP_CONN          </td><td>2016-12-20 18:08:00</td></tr>\n",
       "</tbody>\n",
       "</table>\n"
      ],
      "text/latex": [
       "\\begin{tabular}{r|lll}\n",
       " CALLID & ACTIVITY & TIMESTAMP\\\\\n",
       "\\hline\n",
       "\t 2340247             & DISP\\_ANS          & 2016-12-20 17:54:52\\\\\n",
       "\t 2340254             & DISP\\_ANS          & 2016-12-20 18:04:59\\\\\n",
       "\t 2340255             & DISP\\_CONN         & 2016-12-20 18:06:18\\\\\n",
       "\t 2340259             & DISP\\_ANS          & 2016-12-20 18:04:25\\\\\n",
       "\t 2340260             & DISP\\_ANS          & 2016-12-20 18:05:49\\\\\n",
       "\t 2340275             & DISP\\_CONN         & 2016-12-20 18:08:00\\\\\n",
       "\\end{tabular}\n"
      ],
      "text/markdown": [
       "\n",
       "CALLID | ACTIVITY | TIMESTAMP | \n",
       "|---|---|---|---|---|---|\n",
       "| 2340247             | DISP_ANS            | 2016-12-20 17:54:52 | \n",
       "| 2340254             | DISP_ANS            | 2016-12-20 18:04:59 | \n",
       "| 2340255             | DISP_CONN           | 2016-12-20 18:06:18 | \n",
       "| 2340259             | DISP_ANS            | 2016-12-20 18:04:25 | \n",
       "| 2340260             | DISP_ANS            | 2016-12-20 18:05:49 | \n",
       "| 2340275             | DISP_CONN           | 2016-12-20 18:08:00 | \n",
       "\n",
       "\n"
      ],
      "text/plain": [
       "  CALLID  ACTIVITY  TIMESTAMP          \n",
       "1 2340247 DISP_ANS  2016-12-20 17:54:52\n",
       "2 2340254 DISP_ANS  2016-12-20 18:04:59\n",
       "3 2340255 DISP_CONN 2016-12-20 18:06:18\n",
       "4 2340259 DISP_ANS  2016-12-20 18:04:25\n",
       "5 2340260 DISP_ANS  2016-12-20 18:05:49\n",
       "6 2340275 DISP_CONN 2016-12-20 18:08:00"
      ]
     },
     "metadata": {},
     "output_type": "display_data"
    }
   ],
   "source": [
    "meltdisp$ACTIVITY <- meltdisp$DISPNAME\n",
    "meltdisp <- select(meltdisp, -CALL_DISP, -DISPNAME)\n",
    "head(meltdisp)"
   ]
  },
  {
   "cell_type": "code",
   "execution_count": 68,
   "metadata": {},
   "outputs": [
    {
     "data": {
      "text/plain": [
       "\n",
       "   RINGTIME   QUEUETIME    DISPTIME CONSULTTIME ANSHOLDTIME    TALKTIME \n",
       "     873736      873736           0      873736      873736      873736 \n",
       "    ACWTIME    ACWTIMW3 \n",
       "     873736      873736 "
      ]
     },
     "metadata": {},
     "output_type": "display_data"
    }
   ],
   "source": [
    "actmelt2 <- actmelt[actmelt$ACTIVITY != \"DISPTIME\", ]\n",
    "table(actmelt2$ACTIVITY)"
   ]
  },
  {
   "cell_type": "code",
   "execution_count": 69,
   "metadata": {},
   "outputs": [
    {
     "name": "stdout",
     "output_type": "stream",
     "text": [
      "'data.frame':\t6989888 obs. of  3 variables:\n",
      " $ CALLID   : chr  \"2340247\" \"2340254\" \"2340255\" \"2340259\" ...\n",
      " $ ACTIVITY : chr  \"DISP_ANS\" \"DISP_ANS\" \"DISP_CONN\" \"DISP_ANS\" ...\n",
      " $ TIMESTAMP: chr  \"2016-12-20 17:54:52\" \"2016-12-20 18:04:59\" \"2016-12-20 18:06:18\" \"2016-12-20 18:04:25\" ...\n"
     ]
    }
   ],
   "source": [
    "actmelt2 <- rbind(meltdisp, actmelt2)\n",
    "str(actmelt2)"
   ]
  },
  {
   "cell_type": "code",
   "execution_count": 70,
   "metadata": {},
   "outputs": [
    {
     "data": {
      "text/plain": [
       "\n",
       "    ACWTIME    ACWTIMW3 ANSHOLDTIME CONSULTTIME   DISP_ABAN    DISP_ANS \n",
       "     873736      873736      873736      873736      119851      205012 \n",
       "  DISP_CONN  DISP_FDISC  DISP_OTHER   QUEUETIME    RINGTIME    TALKTIME \n",
       "     478671        4987       65215      873736      873736      873736 "
      ]
     },
     "metadata": {},
     "output_type": "display_data"
    }
   ],
   "source": [
    "table(actmelt2$ACTIVITY)\n",
    "actmelt3 <- actmelt2"
   ]
  },
  {
   "cell_type": "markdown",
   "metadata": {},
   "source": [
    "## 7. 상담원 ID를 넣어보자"
   ]
  },
  {
   "cell_type": "code",
   "execution_count": 72,
   "metadata": {},
   "outputs": [
    {
     "data": {
      "text/html": [
       "<table>\n",
       "<thead><tr><th scope=col>CALLID</th><th scope=col>ORIGLOGIN</th><th scope=col>ANSLOGIN</th></tr></thead>\n",
       "<tbody>\n",
       "\t<tr><td>2340247</td><td>    NA </td><td>200508 </td></tr>\n",
       "\t<tr><td>2340254</td><td>    NA </td><td>200591 </td></tr>\n",
       "\t<tr><td>2340255</td><td>200431 </td><td>    NA </td></tr>\n",
       "\t<tr><td>2340259</td><td>    NA </td><td>200331 </td></tr>\n",
       "\t<tr><td>2340260</td><td>    NA </td><td>200116 </td></tr>\n",
       "\t<tr><td>2340275</td><td>200352 </td><td>    NA </td></tr>\n",
       "\t<tr><td>2340278</td><td>200119 </td><td>    NA </td></tr>\n",
       "\t<tr><td>2340197</td><td>    NA </td><td>200312 </td></tr>\n",
       "\t<tr><td>2340199</td><td>    NA </td><td>200118 </td></tr>\n",
       "\t<tr><td>2340201</td><td>    NA </td><td>200119 </td></tr>\n",
       "\t<tr><td>2340204</td><td>200124 </td><td>    NA </td></tr>\n",
       "\t<tr><td>2340207</td><td>200334 </td><td>    NA </td></tr>\n",
       "\t<tr><td>2340219</td><td>    NA </td><td>200116 </td></tr>\n",
       "\t<tr><td>2340220</td><td>200333 </td><td>    NA </td></tr>\n",
       "\t<tr><td>2340225</td><td>200587 </td><td>    NA </td></tr>\n",
       "\t<tr><td>2340227</td><td>200117 </td><td>    NA </td></tr>\n",
       "\t<tr><td>2340233</td><td>200431 </td><td>    NA </td></tr>\n",
       "\t<tr><td>2340234</td><td>200120 </td><td>    NA </td></tr>\n",
       "\t<tr><td>2340235</td><td>200331 </td><td>    NA </td></tr>\n",
       "\t<tr><td>2340236</td><td>    NA </td><td>200123 </td></tr>\n",
       "</tbody>\n",
       "</table>\n"
      ],
      "text/latex": [
       "\\begin{tabular}{r|lll}\n",
       " CALLID & ORIGLOGIN & ANSLOGIN\\\\\n",
       "\\hline\n",
       "\t 2340247 &     NA  & 200508 \\\\\n",
       "\t 2340254 &     NA  & 200591 \\\\\n",
       "\t 2340255 & 200431  &     NA \\\\\n",
       "\t 2340259 &     NA  & 200331 \\\\\n",
       "\t 2340260 &     NA  & 200116 \\\\\n",
       "\t 2340275 & 200352  &     NA \\\\\n",
       "\t 2340278 & 200119  &     NA \\\\\n",
       "\t 2340197 &     NA  & 200312 \\\\\n",
       "\t 2340199 &     NA  & 200118 \\\\\n",
       "\t 2340201 &     NA  & 200119 \\\\\n",
       "\t 2340204 & 200124  &     NA \\\\\n",
       "\t 2340207 & 200334  &     NA \\\\\n",
       "\t 2340219 &     NA  & 200116 \\\\\n",
       "\t 2340220 & 200333  &     NA \\\\\n",
       "\t 2340225 & 200587  &     NA \\\\\n",
       "\t 2340227 & 200117  &     NA \\\\\n",
       "\t 2340233 & 200431  &     NA \\\\\n",
       "\t 2340234 & 200120  &     NA \\\\\n",
       "\t 2340235 & 200331  &     NA \\\\\n",
       "\t 2340236 &     NA  & 200123 \\\\\n",
       "\\end{tabular}\n"
      ],
      "text/markdown": [
       "\n",
       "CALLID | ORIGLOGIN | ANSLOGIN | \n",
       "|---|---|---|---|---|---|---|---|---|---|---|---|---|---|---|---|---|---|---|---|\n",
       "| 2340247 |     NA  | 200508  | \n",
       "| 2340254 |     NA  | 200591  | \n",
       "| 2340255 | 200431  |     NA  | \n",
       "| 2340259 |     NA  | 200331  | \n",
       "| 2340260 |     NA  | 200116  | \n",
       "| 2340275 | 200352  |     NA  | \n",
       "| 2340278 | 200119  |     NA  | \n",
       "| 2340197 |     NA  | 200312  | \n",
       "| 2340199 |     NA  | 200118  | \n",
       "| 2340201 |     NA  | 200119  | \n",
       "| 2340204 | 200124  |     NA  | \n",
       "| 2340207 | 200334  |     NA  | \n",
       "| 2340219 |     NA  | 200116  | \n",
       "| 2340220 | 200333  |     NA  | \n",
       "| 2340225 | 200587  |     NA  | \n",
       "| 2340227 | 200117  |     NA  | \n",
       "| 2340233 | 200431  |     NA  | \n",
       "| 2340234 | 200120  |     NA  | \n",
       "| 2340235 | 200331  |     NA  | \n",
       "| 2340236 |     NA  | 200123  | \n",
       "\n",
       "\n"
      ],
      "text/plain": [
       "   CALLID  ORIGLOGIN ANSLOGIN\n",
       "1  2340247     NA    200508  \n",
       "2  2340254     NA    200591  \n",
       "3  2340255 200431        NA  \n",
       "4  2340259     NA    200331  \n",
       "5  2340260     NA    200116  \n",
       "6  2340275 200352        NA  \n",
       "7  2340278 200119        NA  \n",
       "8  2340197     NA    200312  \n",
       "9  2340199     NA    200118  \n",
       "10 2340201     NA    200119  \n",
       "11 2340204 200124        NA  \n",
       "12 2340207 200334        NA  \n",
       "13 2340219     NA    200116  \n",
       "14 2340220 200333        NA  \n",
       "15 2340225 200587        NA  \n",
       "16 2340227 200117        NA  \n",
       "17 2340233 200431        NA  \n",
       "18 2340234 200120        NA  \n",
       "19 2340235 200331        NA  \n",
       "20 2340236     NA    200123  "
      ]
     },
     "metadata": {},
     "output_type": "display_data"
    }
   ],
   "source": [
    "marketer <- select(hans, CALLID, ORIGLOGIN, ANSLOGIN)\n",
    "head(marketer, 20)"
   ]
  },
  {
   "cell_type": "code",
   "execution_count": 73,
   "metadata": {},
   "outputs": [
    {
     "data": {
      "text/plain": [
       "\n",
       " FALSE   TRUE \n",
       "121554 752182 "
      ]
     },
     "metadata": {},
     "output_type": "display_data"
    },
    {
     "data": {
      "text/plain": [
       "\n",
       " FALSE   TRUE \n",
       "205218 668518 "
      ]
     },
     "metadata": {},
     "output_type": "display_data"
    }
   ],
   "source": [
    "table(is.na(marketer$ORIGLOGIN) == TRUE)\n",
    "table(is.na(marketer$ANSLOGIN) == TRUE)"
   ]
  },
  {
   "cell_type": "code",
   "execution_count": 74,
   "metadata": {},
   "outputs": [
    {
     "data": {
      "text/plain": [
       "\n",
       " FALSE   TRUE \n",
       "326744 546992 "
      ]
     },
     "metadata": {},
     "output_type": "display_data"
    }
   ],
   "source": [
    "marketer$LOGID <- ifelse(is.na(marketer$ORIGLOGIN) == TRUE, marketer$ANSLOGIN, marketer$ORIGLOGIN)\n",
    "table(is.na(marketer$LOGID) == TRUE)"
   ]
  },
  {
   "cell_type": "code",
   "execution_count": 75,
   "metadata": {},
   "outputs": [
    {
     "data": {
      "text/html": [
       "<table>\n",
       "<thead><tr><th scope=col>CALLID</th><th scope=col>ACTIVITY</th><th scope=col>TIMESTAMP</th></tr></thead>\n",
       "<tbody>\n",
       "\t<tr><td>2340247            </td><td>DISP_ANS           </td><td>2016-12-20 17:54:52</td></tr>\n",
       "\t<tr><td>2340254            </td><td>DISP_ANS           </td><td>2016-12-20 18:04:59</td></tr>\n",
       "\t<tr><td>2340255            </td><td>DISP_CONN          </td><td>2016-12-20 18:06:18</td></tr>\n",
       "\t<tr><td>2340259            </td><td>DISP_ANS           </td><td>2016-12-20 18:04:25</td></tr>\n",
       "\t<tr><td>2340260            </td><td>DISP_ANS           </td><td>2016-12-20 18:05:49</td></tr>\n",
       "\t<tr><td>2340275            </td><td>DISP_CONN          </td><td>2016-12-20 18:08:00</td></tr>\n",
       "</tbody>\n",
       "</table>\n"
      ],
      "text/latex": [
       "\\begin{tabular}{r|lll}\n",
       " CALLID & ACTIVITY & TIMESTAMP\\\\\n",
       "\\hline\n",
       "\t 2340247             & DISP\\_ANS          & 2016-12-20 17:54:52\\\\\n",
       "\t 2340254             & DISP\\_ANS          & 2016-12-20 18:04:59\\\\\n",
       "\t 2340255             & DISP\\_CONN         & 2016-12-20 18:06:18\\\\\n",
       "\t 2340259             & DISP\\_ANS          & 2016-12-20 18:04:25\\\\\n",
       "\t 2340260             & DISP\\_ANS          & 2016-12-20 18:05:49\\\\\n",
       "\t 2340275             & DISP\\_CONN         & 2016-12-20 18:08:00\\\\\n",
       "\\end{tabular}\n"
      ],
      "text/markdown": [
       "\n",
       "CALLID | ACTIVITY | TIMESTAMP | \n",
       "|---|---|---|---|---|---|\n",
       "| 2340247             | DISP_ANS            | 2016-12-20 17:54:52 | \n",
       "| 2340254             | DISP_ANS            | 2016-12-20 18:04:59 | \n",
       "| 2340255             | DISP_CONN           | 2016-12-20 18:06:18 | \n",
       "| 2340259             | DISP_ANS            | 2016-12-20 18:04:25 | \n",
       "| 2340260             | DISP_ANS            | 2016-12-20 18:05:49 | \n",
       "| 2340275             | DISP_CONN           | 2016-12-20 18:08:00 | \n",
       "\n",
       "\n"
      ],
      "text/plain": [
       "  CALLID  ACTIVITY  TIMESTAMP          \n",
       "1 2340247 DISP_ANS  2016-12-20 17:54:52\n",
       "2 2340254 DISP_ANS  2016-12-20 18:04:59\n",
       "3 2340255 DISP_CONN 2016-12-20 18:06:18\n",
       "4 2340259 DISP_ANS  2016-12-20 18:04:25\n",
       "5 2340260 DISP_ANS  2016-12-20 18:05:49\n",
       "6 2340275 DISP_CONN 2016-12-20 18:08:00"
      ]
     },
     "metadata": {},
     "output_type": "display_data"
    }
   ],
   "source": [
    "head(actmelt3)"
   ]
  },
  {
   "cell_type": "code",
   "execution_count": 76,
   "metadata": {},
   "outputs": [
    {
     "data": {
      "text/html": [
       "<table>\n",
       "<thead><tr><th scope=col>CALLID</th><th scope=col>ACTIVITY</th><th scope=col>TIMESTAMP</th><th scope=col>ORIGLOGIN</th><th scope=col>ANSLOGIN</th><th scope=col>LOGID</th></tr></thead>\n",
       "<tbody>\n",
       "\t<tr><td>2340247            </td><td>DISP_ANS           </td><td>2016-12-20 17:54:52</td><td>    NA             </td><td>200508             </td><td>200508             </td></tr>\n",
       "\t<tr><td>2340254            </td><td>DISP_ANS           </td><td>2016-12-20 18:04:59</td><td>    NA             </td><td>200591             </td><td>200591             </td></tr>\n",
       "\t<tr><td>2340255            </td><td>DISP_CONN          </td><td>2016-12-20 18:06:18</td><td>200431             </td><td>    NA             </td><td>200431             </td></tr>\n",
       "\t<tr><td>2340259            </td><td>DISP_ANS           </td><td>2016-12-20 18:04:25</td><td>    NA             </td><td>200331             </td><td>200331             </td></tr>\n",
       "\t<tr><td>2340260            </td><td>DISP_ANS           </td><td>2016-12-20 18:05:49</td><td>    NA             </td><td>200116             </td><td>200116             </td></tr>\n",
       "\t<tr><td>2340275            </td><td>DISP_CONN          </td><td>2016-12-20 18:08:00</td><td>200352             </td><td>    NA             </td><td>200352             </td></tr>\n",
       "</tbody>\n",
       "</table>\n"
      ],
      "text/latex": [
       "\\begin{tabular}{r|llllll}\n",
       " CALLID & ACTIVITY & TIMESTAMP & ORIGLOGIN & ANSLOGIN & LOGID\\\\\n",
       "\\hline\n",
       "\t 2340247             & DISP\\_ANS          & 2016-12-20 17:54:52 &     NA              & 200508              & 200508             \\\\\n",
       "\t 2340254             & DISP\\_ANS          & 2016-12-20 18:04:59 &     NA              & 200591              & 200591             \\\\\n",
       "\t 2340255             & DISP\\_CONN         & 2016-12-20 18:06:18 & 200431              &     NA              & 200431             \\\\\n",
       "\t 2340259             & DISP\\_ANS          & 2016-12-20 18:04:25 &     NA              & 200331              & 200331             \\\\\n",
       "\t 2340260             & DISP\\_ANS          & 2016-12-20 18:05:49 &     NA              & 200116              & 200116             \\\\\n",
       "\t 2340275             & DISP\\_CONN         & 2016-12-20 18:08:00 & 200352              &     NA              & 200352             \\\\\n",
       "\\end{tabular}\n"
      ],
      "text/markdown": [
       "\n",
       "CALLID | ACTIVITY | TIMESTAMP | ORIGLOGIN | ANSLOGIN | LOGID | \n",
       "|---|---|---|---|---|---|\n",
       "| 2340247             | DISP_ANS            | 2016-12-20 17:54:52 |     NA              | 200508              | 200508              | \n",
       "| 2340254             | DISP_ANS            | 2016-12-20 18:04:59 |     NA              | 200591              | 200591              | \n",
       "| 2340255             | DISP_CONN           | 2016-12-20 18:06:18 | 200431              |     NA              | 200431              | \n",
       "| 2340259             | DISP_ANS            | 2016-12-20 18:04:25 |     NA              | 200331              | 200331              | \n",
       "| 2340260             | DISP_ANS            | 2016-12-20 18:05:49 |     NA              | 200116              | 200116              | \n",
       "| 2340275             | DISP_CONN           | 2016-12-20 18:08:00 | 200352              |     NA              | 200352              | \n",
       "\n",
       "\n"
      ],
      "text/plain": [
       "  CALLID  ACTIVITY  TIMESTAMP           ORIGLOGIN ANSLOGIN LOGID \n",
       "1 2340247 DISP_ANS  2016-12-20 17:54:52     NA    200508   200508\n",
       "2 2340254 DISP_ANS  2016-12-20 18:04:59     NA    200591   200591\n",
       "3 2340255 DISP_CONN 2016-12-20 18:06:18 200431        NA   200431\n",
       "4 2340259 DISP_ANS  2016-12-20 18:04:25     NA    200331   200331\n",
       "5 2340260 DISP_ANS  2016-12-20 18:05:49     NA    200116   200116\n",
       "6 2340275 DISP_CONN 2016-12-20 18:08:00 200352        NA   200352"
      ]
     },
     "metadata": {},
     "output_type": "display_data"
    }
   ],
   "source": [
    "marketer$CALLID <- as.character(marketer$CALLID)\n",
    "actmelt4 <- left_join(actmelt3, marketer, by = c(\"CALLID\" = \"CALLID\"))\n",
    "head(actmelt4)"
   ]
  },
  {
   "cell_type": "markdown",
   "metadata": {},
   "source": [
    "## 8. LOCID를 넣어보자"
   ]
  },
  {
   "cell_type": "code",
   "execution_count": 78,
   "metadata": {},
   "outputs": [
    {
     "data": {
      "text/html": [
       "<table>\n",
       "<thead><tr><th scope=col>CALLID</th><th scope=col>EQ_LOCID</th><th scope=col>ORIG_LOCID</th><th scope=col>ANS_LOCID</th><th scope=col>OBS_LOCID</th></tr></thead>\n",
       "<tbody>\n",
       "\t<tr><td>2340247</td><td>1      </td><td> 0     </td><td>11     </td><td>0      </td></tr>\n",
       "\t<tr><td>2340254</td><td>0      </td><td> 0     </td><td>11     </td><td>0      </td></tr>\n",
       "\t<tr><td>2340255</td><td>0      </td><td>11     </td><td> 0     </td><td>0      </td></tr>\n",
       "\t<tr><td>2340259</td><td>0      </td><td> 0     </td><td>11     </td><td>0      </td></tr>\n",
       "\t<tr><td>2340260</td><td>0      </td><td> 0     </td><td>11     </td><td>0      </td></tr>\n",
       "\t<tr><td>2340275</td><td>0      </td><td>11     </td><td> 0     </td><td>0      </td></tr>\n",
       "</tbody>\n",
       "</table>\n"
      ],
      "text/latex": [
       "\\begin{tabular}{r|lllll}\n",
       " CALLID & EQ\\_LOCID & ORIG\\_LOCID & ANS\\_LOCID & OBS\\_LOCID\\\\\n",
       "\\hline\n",
       "\t 2340247 & 1       &  0      & 11      & 0      \\\\\n",
       "\t 2340254 & 0       &  0      & 11      & 0      \\\\\n",
       "\t 2340255 & 0       & 11      &  0      & 0      \\\\\n",
       "\t 2340259 & 0       &  0      & 11      & 0      \\\\\n",
       "\t 2340260 & 0       &  0      & 11      & 0      \\\\\n",
       "\t 2340275 & 0       & 11      &  0      & 0      \\\\\n",
       "\\end{tabular}\n"
      ],
      "text/markdown": [
       "\n",
       "CALLID | EQ_LOCID | ORIG_LOCID | ANS_LOCID | OBS_LOCID | \n",
       "|---|---|---|---|---|---|\n",
       "| 2340247 | 1       |  0      | 11      | 0       | \n",
       "| 2340254 | 0       |  0      | 11      | 0       | \n",
       "| 2340255 | 0       | 11      |  0      | 0       | \n",
       "| 2340259 | 0       |  0      | 11      | 0       | \n",
       "| 2340260 | 0       |  0      | 11      | 0       | \n",
       "| 2340275 | 0       | 11      |  0      | 0       | \n",
       "\n",
       "\n"
      ],
      "text/plain": [
       "  CALLID  EQ_LOCID ORIG_LOCID ANS_LOCID OBS_LOCID\n",
       "1 2340247 1         0         11        0        \n",
       "2 2340254 0         0         11        0        \n",
       "3 2340255 0        11          0        0        \n",
       "4 2340259 0         0         11        0        \n",
       "5 2340260 0         0         11        0        \n",
       "6 2340275 0        11          0        0        "
      ]
     },
     "metadata": {},
     "output_type": "display_data"
    }
   ],
   "source": [
    "locid <- select(hans, CALLID, EQ_LOCID, ORIG_LOCID, ANS_LOCID, OBS_LOCID)\n",
    "head(locid)"
   ]
  },
  {
   "cell_type": "code",
   "execution_count": 79,
   "metadata": {},
   "outputs": [
    {
     "data": {
      "text/plain": [
       "\n",
       " FALSE   TRUE \n",
       "373050 500686 "
      ]
     },
     "metadata": {},
     "output_type": "display_data"
    },
    {
     "data": {
      "text/plain": [
       "\n",
       " FALSE   TRUE \n",
       "121554 752182 "
      ]
     },
     "metadata": {},
     "output_type": "display_data"
    },
    {
     "data": {
      "text/plain": [
       "\n",
       " FALSE   TRUE \n",
       "205218 668518 "
      ]
     },
     "metadata": {},
     "output_type": "display_data"
    },
    {
     "data": {
      "text/plain": [
       "\n",
       " FALSE   TRUE \n",
       "    43 873693 "
      ]
     },
     "metadata": {},
     "output_type": "display_data"
    }
   ],
   "source": [
    "table(locid$EQ_LOCID == 0)\n",
    "table(locid$ORIG_LOCID == 0)\n",
    "table(locid$ANS_LOCID == 0)\n",
    "table(locid$OBS_LOCID == 0)"
   ]
  },
  {
   "cell_type": "code",
   "execution_count": 67,
   "metadata": {},
   "outputs": [],
   "source": [
    "## NULL이 너무 많아서 의미가 없을 것 같음"
   ]
  },
  {
   "cell_type": "markdown",
   "metadata": {},
   "source": [
    "## 9. ~~ 여부를 넣어 보자"
   ]
  },
  {
   "cell_type": "code",
   "execution_count": 82,
   "metadata": {},
   "outputs": [
    {
     "data": {
      "text/html": [
       "<table>\n",
       "<thead><tr><th scope=col>CALLID</th><th scope=col>UUI_LEN</th><th scope=col>ASSIST</th><th scope=col>AUDIO</th><th scope=col>CONFERENCE</th><th scope=col>DA_QUEUED</th><th scope=col>HOLDABN</th><th scope=col>MALICIOUS</th><th scope=col>OBSERVINGCALL</th><th scope=col>TRANSFERRED</th><th scope=col>AGT_RELEASED</th></tr></thead>\n",
       "<tbody>\n",
       "\t<tr><td>2340247</td><td>0      </td><td>0      </td><td>0      </td><td>1      </td><td>0      </td><td>1      </td><td>0      </td><td>0      </td><td>0      </td><td>0      </td></tr>\n",
       "\t<tr><td>2340254</td><td>0      </td><td>0      </td><td>0      </td><td>0      </td><td>0      </td><td>0      </td><td>0      </td><td>0      </td><td>0      </td><td>0      </td></tr>\n",
       "\t<tr><td>2340255</td><td>0      </td><td>0      </td><td>0      </td><td>0      </td><td>0      </td><td>0      </td><td>0      </td><td>0      </td><td>0      </td><td>0      </td></tr>\n",
       "\t<tr><td>2340259</td><td>0      </td><td>0      </td><td>0      </td><td>1      </td><td>0      </td><td>0      </td><td>0      </td><td>0      </td><td>0      </td><td>1      </td></tr>\n",
       "\t<tr><td>2340260</td><td>0      </td><td>0      </td><td>0      </td><td>0      </td><td>0      </td><td>0      </td><td>0      </td><td>0      </td><td>0      </td><td>0      </td></tr>\n",
       "\t<tr><td>2340275</td><td>0      </td><td>0      </td><td>0      </td><td>0      </td><td>0      </td><td>0      </td><td>0      </td><td>0      </td><td>0      </td><td>0      </td></tr>\n",
       "</tbody>\n",
       "</table>\n"
      ],
      "text/latex": [
       "\\begin{tabular}{r|lllllllllll}\n",
       " CALLID & UUI\\_LEN & ASSIST & AUDIO & CONFERENCE & DA\\_QUEUED & HOLDABN & MALICIOUS & OBSERVINGCALL & TRANSFERRED & AGT\\_RELEASED\\\\\n",
       "\\hline\n",
       "\t 2340247 & 0       & 0       & 0       & 1       & 0       & 1       & 0       & 0       & 0       & 0      \\\\\n",
       "\t 2340254 & 0       & 0       & 0       & 0       & 0       & 0       & 0       & 0       & 0       & 0      \\\\\n",
       "\t 2340255 & 0       & 0       & 0       & 0       & 0       & 0       & 0       & 0       & 0       & 0      \\\\\n",
       "\t 2340259 & 0       & 0       & 0       & 1       & 0       & 0       & 0       & 0       & 0       & 1      \\\\\n",
       "\t 2340260 & 0       & 0       & 0       & 0       & 0       & 0       & 0       & 0       & 0       & 0      \\\\\n",
       "\t 2340275 & 0       & 0       & 0       & 0       & 0       & 0       & 0       & 0       & 0       & 0      \\\\\n",
       "\\end{tabular}\n"
      ],
      "text/markdown": [
       "\n",
       "CALLID | UUI_LEN | ASSIST | AUDIO | CONFERENCE | DA_QUEUED | HOLDABN | MALICIOUS | OBSERVINGCALL | TRANSFERRED | AGT_RELEASED | \n",
       "|---|---|---|---|---|---|\n",
       "| 2340247 | 0       | 0       | 0       | 1       | 0       | 1       | 0       | 0       | 0       | 0       | \n",
       "| 2340254 | 0       | 0       | 0       | 0       | 0       | 0       | 0       | 0       | 0       | 0       | \n",
       "| 2340255 | 0       | 0       | 0       | 0       | 0       | 0       | 0       | 0       | 0       | 0       | \n",
       "| 2340259 | 0       | 0       | 0       | 1       | 0       | 0       | 0       | 0       | 0       | 1       | \n",
       "| 2340260 | 0       | 0       | 0       | 0       | 0       | 0       | 0       | 0       | 0       | 0       | \n",
       "| 2340275 | 0       | 0       | 0       | 0       | 0       | 0       | 0       | 0       | 0       | 0       | \n",
       "\n",
       "\n"
      ],
      "text/plain": [
       "  CALLID  UUI_LEN ASSIST AUDIO CONFERENCE DA_QUEUED HOLDABN MALICIOUS\n",
       "1 2340247 0       0      0     1          0         1       0        \n",
       "2 2340254 0       0      0     0          0         0       0        \n",
       "3 2340255 0       0      0     0          0         0       0        \n",
       "4 2340259 0       0      0     1          0         0       0        \n",
       "5 2340260 0       0      0     0          0         0       0        \n",
       "6 2340275 0       0      0     0          0         0       0        \n",
       "  OBSERVINGCALL TRANSFERRED AGT_RELEASED\n",
       "1 0             0           0           \n",
       "2 0             0           0           \n",
       "3 0             0           0           \n",
       "4 0             0           1           \n",
       "5 0             0           0           \n",
       "6 0             0           0           "
      ]
     },
     "metadata": {},
     "output_type": "display_data"
    }
   ],
   "source": [
    "flag <- select(hans, CALLID, UUI_LEN, ASSIST, AUDIO, CONFERENCE, DA_QUEUED, HOLDABN, MALICIOUS, OBSERVINGCALL, TRANSFERRED, AGT_RELEASED)\n",
    "head(flag)"
   ]
  },
  {
   "cell_type": "code",
   "execution_count": 83,
   "metadata": {},
   "outputs": [
    {
     "data": {
      "text/html": [
       "<table>\n",
       "<thead><tr><th scope=col>CALLID</th><th scope=col>ACTIVITY</th><th scope=col>TIMESTAMP</th><th scope=col>ORIGLOGIN</th><th scope=col>ANSLOGIN</th><th scope=col>LOGID</th><th scope=col>UUI_LEN</th><th scope=col>ASSIST</th><th scope=col>AUDIO</th><th scope=col>CONFERENCE</th><th scope=col>DA_QUEUED</th><th scope=col>HOLDABN</th><th scope=col>MALICIOUS</th><th scope=col>OBSERVINGCALL</th><th scope=col>TRANSFERRED</th><th scope=col>AGT_RELEASED</th></tr></thead>\n",
       "<tbody>\n",
       "\t<tr><td>2340247            </td><td>DISP_ANS           </td><td>2016-12-20 17:54:52</td><td>    NA             </td><td>200508             </td><td>200508             </td><td>0                  </td><td>0                  </td><td>0                  </td><td>1                  </td><td>0                  </td><td>1                  </td><td>0                  </td><td>0                  </td><td>0                  </td><td>0                  </td></tr>\n",
       "\t<tr><td>2340254            </td><td>DISP_ANS           </td><td>2016-12-20 18:04:59</td><td>    NA             </td><td>200591             </td><td>200591             </td><td>0                  </td><td>0                  </td><td>0                  </td><td>0                  </td><td>0                  </td><td>0                  </td><td>0                  </td><td>0                  </td><td>0                  </td><td>0                  </td></tr>\n",
       "\t<tr><td>2340255            </td><td>DISP_CONN          </td><td>2016-12-20 18:06:18</td><td>200431             </td><td>    NA             </td><td>200431             </td><td>0                  </td><td>0                  </td><td>0                  </td><td>0                  </td><td>0                  </td><td>0                  </td><td>0                  </td><td>0                  </td><td>0                  </td><td>0                  </td></tr>\n",
       "\t<tr><td>2340259            </td><td>DISP_ANS           </td><td>2016-12-20 18:04:25</td><td>    NA             </td><td>200331             </td><td>200331             </td><td>0                  </td><td>0                  </td><td>0                  </td><td>1                  </td><td>0                  </td><td>0                  </td><td>0                  </td><td>0                  </td><td>0                  </td><td>1                  </td></tr>\n",
       "\t<tr><td>2340260            </td><td>DISP_ANS           </td><td>2016-12-20 18:05:49</td><td>    NA             </td><td>200116             </td><td>200116             </td><td>0                  </td><td>0                  </td><td>0                  </td><td>0                  </td><td>0                  </td><td>0                  </td><td>0                  </td><td>0                  </td><td>0                  </td><td>0                  </td></tr>\n",
       "\t<tr><td>2340275            </td><td>DISP_CONN          </td><td>2016-12-20 18:08:00</td><td>200352             </td><td>    NA             </td><td>200352             </td><td>0                  </td><td>0                  </td><td>0                  </td><td>0                  </td><td>0                  </td><td>0                  </td><td>0                  </td><td>0                  </td><td>0                  </td><td>0                  </td></tr>\n",
       "</tbody>\n",
       "</table>\n"
      ],
      "text/latex": [
       "\\begin{tabular}{r|llllllllllllllll}\n",
       " CALLID & ACTIVITY & TIMESTAMP & ORIGLOGIN & ANSLOGIN & LOGID & UUI\\_LEN & ASSIST & AUDIO & CONFERENCE & DA\\_QUEUED & HOLDABN & MALICIOUS & OBSERVINGCALL & TRANSFERRED & AGT\\_RELEASED\\\\\n",
       "\\hline\n",
       "\t 2340247             & DISP\\_ANS          & 2016-12-20 17:54:52 &     NA              & 200508              & 200508              & 0                   & 0                   & 0                   & 1                   & 0                   & 1                   & 0                   & 0                   & 0                   & 0                  \\\\\n",
       "\t 2340254             & DISP\\_ANS          & 2016-12-20 18:04:59 &     NA              & 200591              & 200591              & 0                   & 0                   & 0                   & 0                   & 0                   & 0                   & 0                   & 0                   & 0                   & 0                  \\\\\n",
       "\t 2340255             & DISP\\_CONN         & 2016-12-20 18:06:18 & 200431              &     NA              & 200431              & 0                   & 0                   & 0                   & 0                   & 0                   & 0                   & 0                   & 0                   & 0                   & 0                  \\\\\n",
       "\t 2340259             & DISP\\_ANS          & 2016-12-20 18:04:25 &     NA              & 200331              & 200331              & 0                   & 0                   & 0                   & 1                   & 0                   & 0                   & 0                   & 0                   & 0                   & 1                  \\\\\n",
       "\t 2340260             & DISP\\_ANS          & 2016-12-20 18:05:49 &     NA              & 200116              & 200116              & 0                   & 0                   & 0                   & 0                   & 0                   & 0                   & 0                   & 0                   & 0                   & 0                  \\\\\n",
       "\t 2340275             & DISP\\_CONN         & 2016-12-20 18:08:00 & 200352              &     NA              & 200352              & 0                   & 0                   & 0                   & 0                   & 0                   & 0                   & 0                   & 0                   & 0                   & 0                  \\\\\n",
       "\\end{tabular}\n"
      ],
      "text/markdown": [
       "\n",
       "CALLID | ACTIVITY | TIMESTAMP | ORIGLOGIN | ANSLOGIN | LOGID | UUI_LEN | ASSIST | AUDIO | CONFERENCE | DA_QUEUED | HOLDABN | MALICIOUS | OBSERVINGCALL | TRANSFERRED | AGT_RELEASED | \n",
       "|---|---|---|---|---|---|\n",
       "| 2340247             | DISP_ANS            | 2016-12-20 17:54:52 |     NA              | 200508              | 200508              | 0                   | 0                   | 0                   | 1                   | 0                   | 1                   | 0                   | 0                   | 0                   | 0                   | \n",
       "| 2340254             | DISP_ANS            | 2016-12-20 18:04:59 |     NA              | 200591              | 200591              | 0                   | 0                   | 0                   | 0                   | 0                   | 0                   | 0                   | 0                   | 0                   | 0                   | \n",
       "| 2340255             | DISP_CONN           | 2016-12-20 18:06:18 | 200431              |     NA              | 200431              | 0                   | 0                   | 0                   | 0                   | 0                   | 0                   | 0                   | 0                   | 0                   | 0                   | \n",
       "| 2340259             | DISP_ANS            | 2016-12-20 18:04:25 |     NA              | 200331              | 200331              | 0                   | 0                   | 0                   | 1                   | 0                   | 0                   | 0                   | 0                   | 0                   | 1                   | \n",
       "| 2340260             | DISP_ANS            | 2016-12-20 18:05:49 |     NA              | 200116              | 200116              | 0                   | 0                   | 0                   | 0                   | 0                   | 0                   | 0                   | 0                   | 0                   | 0                   | \n",
       "| 2340275             | DISP_CONN           | 2016-12-20 18:08:00 | 200352              |     NA              | 200352              | 0                   | 0                   | 0                   | 0                   | 0                   | 0                   | 0                   | 0                   | 0                   | 0                   | \n",
       "\n",
       "\n"
      ],
      "text/plain": [
       "  CALLID  ACTIVITY  TIMESTAMP           ORIGLOGIN ANSLOGIN LOGID  UUI_LEN\n",
       "1 2340247 DISP_ANS  2016-12-20 17:54:52     NA    200508   200508 0      \n",
       "2 2340254 DISP_ANS  2016-12-20 18:04:59     NA    200591   200591 0      \n",
       "3 2340255 DISP_CONN 2016-12-20 18:06:18 200431        NA   200431 0      \n",
       "4 2340259 DISP_ANS  2016-12-20 18:04:25     NA    200331   200331 0      \n",
       "5 2340260 DISP_ANS  2016-12-20 18:05:49     NA    200116   200116 0      \n",
       "6 2340275 DISP_CONN 2016-12-20 18:08:00 200352        NA   200352 0      \n",
       "  ASSIST AUDIO CONFERENCE DA_QUEUED HOLDABN MALICIOUS OBSERVINGCALL TRANSFERRED\n",
       "1 0      0     1          0         1       0         0             0          \n",
       "2 0      0     0          0         0       0         0             0          \n",
       "3 0      0     0          0         0       0         0             0          \n",
       "4 0      0     1          0         0       0         0             0          \n",
       "5 0      0     0          0         0       0         0             0          \n",
       "6 0      0     0          0         0       0         0             0          \n",
       "  AGT_RELEASED\n",
       "1 0           \n",
       "2 0           \n",
       "3 0           \n",
       "4 1           \n",
       "5 0           \n",
       "6 0           "
      ]
     },
     "metadata": {},
     "output_type": "display_data"
    },
    {
     "data": {
      "text/html": [
       "<table>\n",
       "<thead><tr><th scope=col>CALLID</th><th scope=col>ACTIVITY</th><th scope=col>TIMESTAMP</th><th scope=col>ORIGLOGIN</th><th scope=col>ANSLOGIN</th><th scope=col>LOGID</th><th scope=col>ASSIST</th><th scope=col>AUDIO</th><th scope=col>CONFERENCE</th><th scope=col>DA_QUEUED</th><th scope=col>HOLDABN</th><th scope=col>MALICIOUS</th><th scope=col>OBSERVINGCALL</th><th scope=col>TRANSFERRED</th><th scope=col>AGT_RELEASED</th></tr></thead>\n",
       "<tbody>\n",
       "\t<tr><td>2340247            </td><td>DISP_ANS           </td><td>2016-12-20 17:54:52</td><td>    NA             </td><td>200508             </td><td>200508             </td><td>0                  </td><td>0                  </td><td>1                  </td><td>0                  </td><td>1                  </td><td>0                  </td><td>0                  </td><td>0                  </td><td>0                  </td></tr>\n",
       "\t<tr><td>2340254            </td><td>DISP_ANS           </td><td>2016-12-20 18:04:59</td><td>    NA             </td><td>200591             </td><td>200591             </td><td>0                  </td><td>0                  </td><td>0                  </td><td>0                  </td><td>0                  </td><td>0                  </td><td>0                  </td><td>0                  </td><td>0                  </td></tr>\n",
       "\t<tr><td>2340255            </td><td>DISP_CONN          </td><td>2016-12-20 18:06:18</td><td>200431             </td><td>    NA             </td><td>200431             </td><td>0                  </td><td>0                  </td><td>0                  </td><td>0                  </td><td>0                  </td><td>0                  </td><td>0                  </td><td>0                  </td><td>0                  </td></tr>\n",
       "\t<tr><td>2340259            </td><td>DISP_ANS           </td><td>2016-12-20 18:04:25</td><td>    NA             </td><td>200331             </td><td>200331             </td><td>0                  </td><td>0                  </td><td>1                  </td><td>0                  </td><td>0                  </td><td>0                  </td><td>0                  </td><td>0                  </td><td>1                  </td></tr>\n",
       "\t<tr><td>2340260            </td><td>DISP_ANS           </td><td>2016-12-20 18:05:49</td><td>    NA             </td><td>200116             </td><td>200116             </td><td>0                  </td><td>0                  </td><td>0                  </td><td>0                  </td><td>0                  </td><td>0                  </td><td>0                  </td><td>0                  </td><td>0                  </td></tr>\n",
       "\t<tr><td>2340275            </td><td>DISP_CONN          </td><td>2016-12-20 18:08:00</td><td>200352             </td><td>    NA             </td><td>200352             </td><td>0                  </td><td>0                  </td><td>0                  </td><td>0                  </td><td>0                  </td><td>0                  </td><td>0                  </td><td>0                  </td><td>0                  </td></tr>\n",
       "</tbody>\n",
       "</table>\n"
      ],
      "text/latex": [
       "\\begin{tabular}{r|lllllllllllllll}\n",
       " CALLID & ACTIVITY & TIMESTAMP & ORIGLOGIN & ANSLOGIN & LOGID & ASSIST & AUDIO & CONFERENCE & DA\\_QUEUED & HOLDABN & MALICIOUS & OBSERVINGCALL & TRANSFERRED & AGT\\_RELEASED\\\\\n",
       "\\hline\n",
       "\t 2340247             & DISP\\_ANS          & 2016-12-20 17:54:52 &     NA              & 200508              & 200508              & 0                   & 0                   & 1                   & 0                   & 1                   & 0                   & 0                   & 0                   & 0                  \\\\\n",
       "\t 2340254             & DISP\\_ANS          & 2016-12-20 18:04:59 &     NA              & 200591              & 200591              & 0                   & 0                   & 0                   & 0                   & 0                   & 0                   & 0                   & 0                   & 0                  \\\\\n",
       "\t 2340255             & DISP\\_CONN         & 2016-12-20 18:06:18 & 200431              &     NA              & 200431              & 0                   & 0                   & 0                   & 0                   & 0                   & 0                   & 0                   & 0                   & 0                  \\\\\n",
       "\t 2340259             & DISP\\_ANS          & 2016-12-20 18:04:25 &     NA              & 200331              & 200331              & 0                   & 0                   & 1                   & 0                   & 0                   & 0                   & 0                   & 0                   & 1                  \\\\\n",
       "\t 2340260             & DISP\\_ANS          & 2016-12-20 18:05:49 &     NA              & 200116              & 200116              & 0                   & 0                   & 0                   & 0                   & 0                   & 0                   & 0                   & 0                   & 0                  \\\\\n",
       "\t 2340275             & DISP\\_CONN         & 2016-12-20 18:08:00 & 200352              &     NA              & 200352              & 0                   & 0                   & 0                   & 0                   & 0                   & 0                   & 0                   & 0                   & 0                  \\\\\n",
       "\\end{tabular}\n"
      ],
      "text/markdown": [
       "\n",
       "CALLID | ACTIVITY | TIMESTAMP | ORIGLOGIN | ANSLOGIN | LOGID | ASSIST | AUDIO | CONFERENCE | DA_QUEUED | HOLDABN | MALICIOUS | OBSERVINGCALL | TRANSFERRED | AGT_RELEASED | \n",
       "|---|---|---|---|---|---|\n",
       "| 2340247             | DISP_ANS            | 2016-12-20 17:54:52 |     NA              | 200508              | 200508              | 0                   | 0                   | 1                   | 0                   | 1                   | 0                   | 0                   | 0                   | 0                   | \n",
       "| 2340254             | DISP_ANS            | 2016-12-20 18:04:59 |     NA              | 200591              | 200591              | 0                   | 0                   | 0                   | 0                   | 0                   | 0                   | 0                   | 0                   | 0                   | \n",
       "| 2340255             | DISP_CONN           | 2016-12-20 18:06:18 | 200431              |     NA              | 200431              | 0                   | 0                   | 0                   | 0                   | 0                   | 0                   | 0                   | 0                   | 0                   | \n",
       "| 2340259             | DISP_ANS            | 2016-12-20 18:04:25 |     NA              | 200331              | 200331              | 0                   | 0                   | 1                   | 0                   | 0                   | 0                   | 0                   | 0                   | 1                   | \n",
       "| 2340260             | DISP_ANS            | 2016-12-20 18:05:49 |     NA              | 200116              | 200116              | 0                   | 0                   | 0                   | 0                   | 0                   | 0                   | 0                   | 0                   | 0                   | \n",
       "| 2340275             | DISP_CONN           | 2016-12-20 18:08:00 | 200352              |     NA              | 200352              | 0                   | 0                   | 0                   | 0                   | 0                   | 0                   | 0                   | 0                   | 0                   | \n",
       "\n",
       "\n"
      ],
      "text/plain": [
       "  CALLID  ACTIVITY  TIMESTAMP           ORIGLOGIN ANSLOGIN LOGID  ASSIST AUDIO\n",
       "1 2340247 DISP_ANS  2016-12-20 17:54:52     NA    200508   200508 0      0    \n",
       "2 2340254 DISP_ANS  2016-12-20 18:04:59     NA    200591   200591 0      0    \n",
       "3 2340255 DISP_CONN 2016-12-20 18:06:18 200431        NA   200431 0      0    \n",
       "4 2340259 DISP_ANS  2016-12-20 18:04:25     NA    200331   200331 0      0    \n",
       "5 2340260 DISP_ANS  2016-12-20 18:05:49     NA    200116   200116 0      0    \n",
       "6 2340275 DISP_CONN 2016-12-20 18:08:00 200352        NA   200352 0      0    \n",
       "  CONFERENCE DA_QUEUED HOLDABN MALICIOUS OBSERVINGCALL TRANSFERRED AGT_RELEASED\n",
       "1 1          0         1       0         0             0           0           \n",
       "2 0          0         0       0         0             0           0           \n",
       "3 0          0         0       0         0             0           0           \n",
       "4 1          0         0       0         0             0           1           \n",
       "5 0          0         0       0         0             0           0           \n",
       "6 0          0         0       0         0             0           0           "
      ]
     },
     "metadata": {},
     "output_type": "display_data"
    }
   ],
   "source": [
    "flag$CALLID <- as.character(flag$CALLID)\n",
    "actmelt5 <- left_join(actmelt4, flag, by = c(\"CALLID\" = \"CALLID\"))\n",
    "head(actmelt5)\n",
    "\n",
    "actmelt5 <- select(actmelt5, -UUI_LEN)\n",
    "head(actmelt5)"
   ]
  },
  {
   "cell_type": "markdown",
   "metadata": {},
   "source": [
    "## 10. 한국말로 바꿔보자"
   ]
  },
  {
   "cell_type": "code",
   "execution_count": 84,
   "metadata": {},
   "outputs": [],
   "source": [
    "colnames(actmelt5) <- c(\"CALLID\", \"ACTIVITY\", \"TIMESTAMP\", \"발신상담원\", \"응답상담원\", \"발신응답상담원\", \"보조요청여부\", \"난청여부\", \"컨퍼런스여부\", \"직접상담원통화대기여부\", \"보류중포기여부\", \"불량통화추적활성화여부\", \"감청여부\", \"호전환여부\", \"상담원에의한종료여부\")"
   ]
  },
  {
   "cell_type": "code",
   "execution_count": 85,
   "metadata": {},
   "outputs": [
    {
     "data": {
      "text/html": [
       "<table>\n",
       "<thead><tr><th scope=col>CALLID</th><th scope=col>ACTIVITY</th><th scope=col>TIMESTAMP</th><th scope=col>발신상담원</th><th scope=col>응답상담원</th><th scope=col>발신응답상담원</th><th scope=col>보조요청여부</th><th scope=col>난청여부</th><th scope=col>컨퍼런스여부</th><th scope=col>직접상담원통화대기여부</th><th scope=col>보류중포기여부</th><th scope=col>불량통화추적활성화여부</th><th scope=col>감청여부</th><th scope=col>호전환여부</th><th scope=col>상담원에의한종료여부</th></tr></thead>\n",
       "<tbody>\n",
       "\t<tr><td>2340247            </td><td>DISP_ANS           </td><td>2016-12-20 17:54:52</td><td>    NA             </td><td>200508             </td><td>200508             </td><td>0                  </td><td>0                  </td><td>1                  </td><td>0                  </td><td>1                  </td><td>0                  </td><td>0                  </td><td>0                  </td><td>0                  </td></tr>\n",
       "\t<tr><td>2340254            </td><td>DISP_ANS           </td><td>2016-12-20 18:04:59</td><td>    NA             </td><td>200591             </td><td>200591             </td><td>0                  </td><td>0                  </td><td>0                  </td><td>0                  </td><td>0                  </td><td>0                  </td><td>0                  </td><td>0                  </td><td>0                  </td></tr>\n",
       "\t<tr><td>2340255            </td><td>DISP_CONN          </td><td>2016-12-20 18:06:18</td><td>200431             </td><td>    NA             </td><td>200431             </td><td>0                  </td><td>0                  </td><td>0                  </td><td>0                  </td><td>0                  </td><td>0                  </td><td>0                  </td><td>0                  </td><td>0                  </td></tr>\n",
       "\t<tr><td>2340259            </td><td>DISP_ANS           </td><td>2016-12-20 18:04:25</td><td>    NA             </td><td>200331             </td><td>200331             </td><td>0                  </td><td>0                  </td><td>1                  </td><td>0                  </td><td>0                  </td><td>0                  </td><td>0                  </td><td>0                  </td><td>1                  </td></tr>\n",
       "\t<tr><td>2340260            </td><td>DISP_ANS           </td><td>2016-12-20 18:05:49</td><td>    NA             </td><td>200116             </td><td>200116             </td><td>0                  </td><td>0                  </td><td>0                  </td><td>0                  </td><td>0                  </td><td>0                  </td><td>0                  </td><td>0                  </td><td>0                  </td></tr>\n",
       "\t<tr><td>2340275            </td><td>DISP_CONN          </td><td>2016-12-20 18:08:00</td><td>200352             </td><td>    NA             </td><td>200352             </td><td>0                  </td><td>0                  </td><td>0                  </td><td>0                  </td><td>0                  </td><td>0                  </td><td>0                  </td><td>0                  </td><td>0                  </td></tr>\n",
       "</tbody>\n",
       "</table>\n"
      ],
      "text/latex": [
       "\\begin{tabular}{r|lllllllllllllll}\n",
       " CALLID & ACTIVITY & TIMESTAMP & 발신상담원 & 응답상담원 & 발신응답상담원 & 보조요청여부 & 난청여부 & 컨퍼런스여부 & 직접상담원통화대기여부 & 보류중포기여부 & 불량통화추적활성화여부 & 감청여부 & 호전환여부 & 상담원에의한종료여부\\\\\n",
       "\\hline\n",
       "\t 2340247             & DISP\\_ANS          & 2016-12-20 17:54:52 &     NA              & 200508              & 200508              & 0                   & 0                   & 1                   & 0                   & 1                   & 0                   & 0                   & 0                   & 0                  \\\\\n",
       "\t 2340254             & DISP\\_ANS          & 2016-12-20 18:04:59 &     NA              & 200591              & 200591              & 0                   & 0                   & 0                   & 0                   & 0                   & 0                   & 0                   & 0                   & 0                  \\\\\n",
       "\t 2340255             & DISP\\_CONN         & 2016-12-20 18:06:18 & 200431              &     NA              & 200431              & 0                   & 0                   & 0                   & 0                   & 0                   & 0                   & 0                   & 0                   & 0                  \\\\\n",
       "\t 2340259             & DISP\\_ANS          & 2016-12-20 18:04:25 &     NA              & 200331              & 200331              & 0                   & 0                   & 1                   & 0                   & 0                   & 0                   & 0                   & 0                   & 1                  \\\\\n",
       "\t 2340260             & DISP\\_ANS          & 2016-12-20 18:05:49 &     NA              & 200116              & 200116              & 0                   & 0                   & 0                   & 0                   & 0                   & 0                   & 0                   & 0                   & 0                  \\\\\n",
       "\t 2340275             & DISP\\_CONN         & 2016-12-20 18:08:00 & 200352              &     NA              & 200352              & 0                   & 0                   & 0                   & 0                   & 0                   & 0                   & 0                   & 0                   & 0                  \\\\\n",
       "\\end{tabular}\n"
      ],
      "text/markdown": [
       "\n",
       "CALLID | ACTIVITY | TIMESTAMP | 발신상담원 | 응답상담원 | 발신응답상담원 | 보조요청여부 | 난청여부 | 컨퍼런스여부 | 직접상담원통화대기여부 | 보류중포기여부 | 불량통화추적활성화여부 | 감청여부 | 호전환여부 | 상담원에의한종료여부 | \n",
       "|---|---|---|---|---|---|\n",
       "| 2340247             | DISP_ANS            | 2016-12-20 17:54:52 |     NA              | 200508              | 200508              | 0                   | 0                   | 1                   | 0                   | 1                   | 0                   | 0                   | 0                   | 0                   | \n",
       "| 2340254             | DISP_ANS            | 2016-12-20 18:04:59 |     NA              | 200591              | 200591              | 0                   | 0                   | 0                   | 0                   | 0                   | 0                   | 0                   | 0                   | 0                   | \n",
       "| 2340255             | DISP_CONN           | 2016-12-20 18:06:18 | 200431              |     NA              | 200431              | 0                   | 0                   | 0                   | 0                   | 0                   | 0                   | 0                   | 0                   | 0                   | \n",
       "| 2340259             | DISP_ANS            | 2016-12-20 18:04:25 |     NA              | 200331              | 200331              | 0                   | 0                   | 1                   | 0                   | 0                   | 0                   | 0                   | 0                   | 1                   | \n",
       "| 2340260             | DISP_ANS            | 2016-12-20 18:05:49 |     NA              | 200116              | 200116              | 0                   | 0                   | 0                   | 0                   | 0                   | 0                   | 0                   | 0                   | 0                   | \n",
       "| 2340275             | DISP_CONN           | 2016-12-20 18:08:00 | 200352              |     NA              | 200352              | 0                   | 0                   | 0                   | 0                   | 0                   | 0                   | 0                   | 0                   | 0                   | \n",
       "\n",
       "\n"
      ],
      "text/plain": [
       "  CALLID  ACTIVITY  TIMESTAMP           발신상담원 응답상담원 발신응답상담원\n",
       "1 2340247 DISP_ANS  2016-12-20 17:54:52     NA     200508     200508        \n",
       "2 2340254 DISP_ANS  2016-12-20 18:04:59     NA     200591     200591        \n",
       "3 2340255 DISP_CONN 2016-12-20 18:06:18 200431         NA     200431        \n",
       "4 2340259 DISP_ANS  2016-12-20 18:04:25     NA     200331     200331        \n",
       "5 2340260 DISP_ANS  2016-12-20 18:05:49     NA     200116     200116        \n",
       "6 2340275 DISP_CONN 2016-12-20 18:08:00 200352         NA     200352        \n",
       "  보조요청여부 난청여부 컨퍼런스여부 직접상담원통화대기여부 보류중포기여부\n",
       "1 0            0        1            0                      1             \n",
       "2 0            0        0            0                      0             \n",
       "3 0            0        0            0                      0             \n",
       "4 0            0        1            0                      0             \n",
       "5 0            0        0            0                      0             \n",
       "6 0            0        0            0                      0             \n",
       "  불량통화추적활성화여부 감청여부 호전환여부 상담원에의한종료여부\n",
       "1 0                      0        0          0                   \n",
       "2 0                      0        0          0                   \n",
       "3 0                      0        0          0                   \n",
       "4 0                      0        0          1                   \n",
       "5 0                      0        0          0                   \n",
       "6 0                      0        0          0                   "
      ]
     },
     "metadata": {},
     "output_type": "display_data"
    }
   ],
   "source": [
    "head(actmelt5)"
   ]
  },
  {
   "cell_type": "code",
   "execution_count": 86,
   "metadata": {},
   "outputs": [
    {
     "data": {
      "text/plain": [
       "\n",
       "    ACWTIME    ACWTIMW3 ANSHOLDTIME CONSULTTIME   DISP_ABAN    DISP_ANS \n",
       "     873736      873736      873736      873736      119851      205012 \n",
       "  DISP_CONN  DISP_FDISC  DISP_OTHER   QUEUETIME    RINGTIME    TALKTIME \n",
       "     478671        4987       65215      873736      873736      873736 "
      ]
     },
     "metadata": {},
     "output_type": "display_data"
    },
    {
     "data": {
      "text/html": [
       "'character'"
      ],
      "text/latex": [
       "'character'"
      ],
      "text/markdown": [
       "'character'"
      ],
      "text/plain": [
       "[1] \"character\""
      ]
     },
     "metadata": {},
     "output_type": "display_data"
    },
    {
     "data": {
      "text/html": [
       "'character'"
      ],
      "text/latex": [
       "'character'"
      ],
      "text/markdown": [
       "'character'"
      ],
      "text/plain": [
       "[1] \"character\""
      ]
     },
     "metadata": {},
     "output_type": "display_data"
    }
   ],
   "source": [
    "table(actmelt5$ACTIVITY)\n",
    "class(actmelt5$ACTIVITY)\n",
    "actmelt5$ACTIVITY <- as.character(actmelt5$ACTIVITY)\n",
    "class(actmelt5$ACTIVITY)"
   ]
  },
  {
   "cell_type": "code",
   "execution_count": 87,
   "metadata": {},
   "outputs": [
    {
     "data": {
      "text/html": [
       "<table>\n",
       "<thead><tr><th scope=col>CALLID</th><th scope=col>ACTIVITY</th><th scope=col>TIMESTAMP</th><th scope=col>발신상담원</th><th scope=col>응답상담원</th><th scope=col>발신응답상담원</th><th scope=col>보조요청여부</th><th scope=col>난청여부</th><th scope=col>컨퍼런스여부</th><th scope=col>직접상담원통화대기여부</th><th scope=col>보류중포기여부</th><th scope=col>불량통화추적활성화여부</th><th scope=col>감청여부</th><th scope=col>호전환여부</th><th scope=col>상담원에의한종료여부</th></tr></thead>\n",
       "<tbody>\n",
       "\t<tr><td>2340247            </td><td>콜처리_응답        </td><td>2016-12-20 17:54:52</td><td>    NA             </td><td>200508             </td><td>200508             </td><td>0                  </td><td>0                  </td><td>1                  </td><td>0                  </td><td>1                  </td><td>0                  </td><td>0                  </td><td>0                  </td><td>0                  </td></tr>\n",
       "\t<tr><td>2340254            </td><td>콜처리_응답        </td><td>2016-12-20 18:04:59</td><td>    NA             </td><td>200591             </td><td>200591             </td><td>0                  </td><td>0                  </td><td>0                  </td><td>0                  </td><td>0                  </td><td>0                  </td><td>0                  </td><td>0                  </td><td>0                  </td></tr>\n",
       "\t<tr><td>2340255            </td><td>콜처리_연결        </td><td>2016-12-20 18:06:18</td><td>200431             </td><td>    NA             </td><td>200431             </td><td>0                  </td><td>0                  </td><td>0                  </td><td>0                  </td><td>0                  </td><td>0                  </td><td>0                  </td><td>0                  </td><td>0                  </td></tr>\n",
       "\t<tr><td>2340259            </td><td>콜처리_응답        </td><td>2016-12-20 18:04:25</td><td>    NA             </td><td>200331             </td><td>200331             </td><td>0                  </td><td>0                  </td><td>1                  </td><td>0                  </td><td>0                  </td><td>0                  </td><td>0                  </td><td>0                  </td><td>1                  </td></tr>\n",
       "\t<tr><td>2340260            </td><td>콜처리_응답        </td><td>2016-12-20 18:05:49</td><td>    NA             </td><td>200116             </td><td>200116             </td><td>0                  </td><td>0                  </td><td>0                  </td><td>0                  </td><td>0                  </td><td>0                  </td><td>0                  </td><td>0                  </td><td>0                  </td></tr>\n",
       "\t<tr><td>2340275            </td><td>콜처리_연결        </td><td>2016-12-20 18:08:00</td><td>200352             </td><td>    NA             </td><td>200352             </td><td>0                  </td><td>0                  </td><td>0                  </td><td>0                  </td><td>0                  </td><td>0                  </td><td>0                  </td><td>0                  </td><td>0                  </td></tr>\n",
       "\t<tr><td>2340278            </td><td>콜처리_연결        </td><td>2016-12-20 18:08:52</td><td>200119             </td><td>    NA             </td><td>200119             </td><td>0                  </td><td>0                  </td><td>0                  </td><td>0                  </td><td>0                  </td><td>0                  </td><td>0                  </td><td>0                  </td><td>0                  </td></tr>\n",
       "\t<tr><td>2340197            </td><td>콜처리_응답        </td><td>2016-12-20 17:57:11</td><td>    NA             </td><td>200312             </td><td>200312             </td><td>0                  </td><td>0                  </td><td>0                  </td><td>0                  </td><td>0                  </td><td>0                  </td><td>0                  </td><td>0                  </td><td>0                  </td></tr>\n",
       "\t<tr><td>2340199            </td><td>콜처리_응답        </td><td>2016-12-20 17:58:03</td><td>    NA             </td><td>200118             </td><td>200118             </td><td>0                  </td><td>0                  </td><td>0                  </td><td>0                  </td><td>0                  </td><td>0                  </td><td>0                  </td><td>0                  </td><td>0                  </td></tr>\n",
       "\t<tr><td>2340201            </td><td>콜처리_응답        </td><td>2016-12-20 17:58:02</td><td>    NA             </td><td>200119             </td><td>200119             </td><td>0                  </td><td>0                  </td><td>1                  </td><td>0                  </td><td>0                  </td><td>0                  </td><td>0                  </td><td>0                  </td><td>1                  </td></tr>\n",
       "\t<tr><td>2340204            </td><td>콜처리_연결        </td><td>2016-12-20 18:01:37</td><td>200124             </td><td>    NA             </td><td>200124             </td><td>0                  </td><td>0                  </td><td>0                  </td><td>0                  </td><td>0                  </td><td>0                  </td><td>0                  </td><td>0                  </td><td>0                  </td></tr>\n",
       "\t<tr><td>2340207            </td><td>콜처리_연결        </td><td>2016-12-20 18:01:21</td><td>200334             </td><td>    NA             </td><td>200334             </td><td>0                  </td><td>0                  </td><td>0                  </td><td>0                  </td><td>0                  </td><td>0                  </td><td>0                  </td><td>0                  </td><td>0                  </td></tr>\n",
       "</tbody>\n",
       "</table>\n"
      ],
      "text/latex": [
       "\\begin{tabular}{r|lllllllllllllll}\n",
       " CALLID & ACTIVITY & TIMESTAMP & 발신상담원 & 응답상담원 & 발신응답상담원 & 보조요청여부 & 난청여부 & 컨퍼런스여부 & 직접상담원통화대기여부 & 보류중포기여부 & 불량통화추적활성화여부 & 감청여부 & 호전환여부 & 상담원에의한종료여부\\\\\n",
       "\\hline\n",
       "\t 2340247             & 콜처리\\_응답       & 2016-12-20 17:54:52 &     NA              & 200508              & 200508              & 0                   & 0                   & 1                   & 0                   & 1                   & 0                   & 0                   & 0                   & 0                  \\\\\n",
       "\t 2340254             & 콜처리\\_응답       & 2016-12-20 18:04:59 &     NA              & 200591              & 200591              & 0                   & 0                   & 0                   & 0                   & 0                   & 0                   & 0                   & 0                   & 0                  \\\\\n",
       "\t 2340255             & 콜처리\\_연결       & 2016-12-20 18:06:18 & 200431              &     NA              & 200431              & 0                   & 0                   & 0                   & 0                   & 0                   & 0                   & 0                   & 0                   & 0                  \\\\\n",
       "\t 2340259             & 콜처리\\_응답       & 2016-12-20 18:04:25 &     NA              & 200331              & 200331              & 0                   & 0                   & 1                   & 0                   & 0                   & 0                   & 0                   & 0                   & 1                  \\\\\n",
       "\t 2340260             & 콜처리\\_응답       & 2016-12-20 18:05:49 &     NA              & 200116              & 200116              & 0                   & 0                   & 0                   & 0                   & 0                   & 0                   & 0                   & 0                   & 0                  \\\\\n",
       "\t 2340275             & 콜처리\\_연결       & 2016-12-20 18:08:00 & 200352              &     NA              & 200352              & 0                   & 0                   & 0                   & 0                   & 0                   & 0                   & 0                   & 0                   & 0                  \\\\\n",
       "\t 2340278             & 콜처리\\_연결       & 2016-12-20 18:08:52 & 200119              &     NA              & 200119              & 0                   & 0                   & 0                   & 0                   & 0                   & 0                   & 0                   & 0                   & 0                  \\\\\n",
       "\t 2340197             & 콜처리\\_응답       & 2016-12-20 17:57:11 &     NA              & 200312              & 200312              & 0                   & 0                   & 0                   & 0                   & 0                   & 0                   & 0                   & 0                   & 0                  \\\\\n",
       "\t 2340199             & 콜처리\\_응답       & 2016-12-20 17:58:03 &     NA              & 200118              & 200118              & 0                   & 0                   & 0                   & 0                   & 0                   & 0                   & 0                   & 0                   & 0                  \\\\\n",
       "\t 2340201             & 콜처리\\_응답       & 2016-12-20 17:58:02 &     NA              & 200119              & 200119              & 0                   & 0                   & 1                   & 0                   & 0                   & 0                   & 0                   & 0                   & 1                  \\\\\n",
       "\t 2340204             & 콜처리\\_연결       & 2016-12-20 18:01:37 & 200124              &     NA              & 200124              & 0                   & 0                   & 0                   & 0                   & 0                   & 0                   & 0                   & 0                   & 0                  \\\\\n",
       "\t 2340207             & 콜처리\\_연결       & 2016-12-20 18:01:21 & 200334              &     NA              & 200334              & 0                   & 0                   & 0                   & 0                   & 0                   & 0                   & 0                   & 0                   & 0                  \\\\\n",
       "\\end{tabular}\n"
      ],
      "text/markdown": [
       "\n",
       "CALLID | ACTIVITY | TIMESTAMP | 발신상담원 | 응답상담원 | 발신응답상담원 | 보조요청여부 | 난청여부 | 컨퍼런스여부 | 직접상담원통화대기여부 | 보류중포기여부 | 불량통화추적활성화여부 | 감청여부 | 호전환여부 | 상담원에의한종료여부 | \n",
       "|---|---|---|---|---|---|---|---|---|---|---|---|\n",
       "| 2340247             | 콜처리_응답         | 2016-12-20 17:54:52 |     NA              | 200508              | 200508              | 0                   | 0                   | 1                   | 0                   | 1                   | 0                   | 0                   | 0                   | 0                   | \n",
       "| 2340254             | 콜처리_응답         | 2016-12-20 18:04:59 |     NA              | 200591              | 200591              | 0                   | 0                   | 0                   | 0                   | 0                   | 0                   | 0                   | 0                   | 0                   | \n",
       "| 2340255             | 콜처리_연결         | 2016-12-20 18:06:18 | 200431              |     NA              | 200431              | 0                   | 0                   | 0                   | 0                   | 0                   | 0                   | 0                   | 0                   | 0                   | \n",
       "| 2340259             | 콜처리_응답         | 2016-12-20 18:04:25 |     NA              | 200331              | 200331              | 0                   | 0                   | 1                   | 0                   | 0                   | 0                   | 0                   | 0                   | 1                   | \n",
       "| 2340260             | 콜처리_응답         | 2016-12-20 18:05:49 |     NA              | 200116              | 200116              | 0                   | 0                   | 0                   | 0                   | 0                   | 0                   | 0                   | 0                   | 0                   | \n",
       "| 2340275             | 콜처리_연결         | 2016-12-20 18:08:00 | 200352              |     NA              | 200352              | 0                   | 0                   | 0                   | 0                   | 0                   | 0                   | 0                   | 0                   | 0                   | \n",
       "| 2340278             | 콜처리_연결         | 2016-12-20 18:08:52 | 200119              |     NA              | 200119              | 0                   | 0                   | 0                   | 0                   | 0                   | 0                   | 0                   | 0                   | 0                   | \n",
       "| 2340197             | 콜처리_응답         | 2016-12-20 17:57:11 |     NA              | 200312              | 200312              | 0                   | 0                   | 0                   | 0                   | 0                   | 0                   | 0                   | 0                   | 0                   | \n",
       "| 2340199             | 콜처리_응답         | 2016-12-20 17:58:03 |     NA              | 200118              | 200118              | 0                   | 0                   | 0                   | 0                   | 0                   | 0                   | 0                   | 0                   | 0                   | \n",
       "| 2340201             | 콜처리_응답         | 2016-12-20 17:58:02 |     NA              | 200119              | 200119              | 0                   | 0                   | 1                   | 0                   | 0                   | 0                   | 0                   | 0                   | 1                   | \n",
       "| 2340204             | 콜처리_연결         | 2016-12-20 18:01:37 | 200124              |     NA              | 200124              | 0                   | 0                   | 0                   | 0                   | 0                   | 0                   | 0                   | 0                   | 0                   | \n",
       "| 2340207             | 콜처리_연결         | 2016-12-20 18:01:21 | 200334              |     NA              | 200334              | 0                   | 0                   | 0                   | 0                   | 0                   | 0                   | 0                   | 0                   | 0                   | \n",
       "\n",
       "\n"
      ],
      "text/plain": [
       "   CALLID  ACTIVITY    TIMESTAMP           발신상담원 응답상담원 발신응답상담원\n",
       "1  2340247 콜처리_응답 2016-12-20 17:54:52     NA     200508     200508        \n",
       "2  2340254 콜처리_응답 2016-12-20 18:04:59     NA     200591     200591        \n",
       "3  2340255 콜처리_연결 2016-12-20 18:06:18 200431         NA     200431        \n",
       "4  2340259 콜처리_응답 2016-12-20 18:04:25     NA     200331     200331        \n",
       "5  2340260 콜처리_응답 2016-12-20 18:05:49     NA     200116     200116        \n",
       "6  2340275 콜처리_연결 2016-12-20 18:08:00 200352         NA     200352        \n",
       "7  2340278 콜처리_연결 2016-12-20 18:08:52 200119         NA     200119        \n",
       "8  2340197 콜처리_응답 2016-12-20 17:57:11     NA     200312     200312        \n",
       "9  2340199 콜처리_응답 2016-12-20 17:58:03     NA     200118     200118        \n",
       "10 2340201 콜처리_응답 2016-12-20 17:58:02     NA     200119     200119        \n",
       "11 2340204 콜처리_연결 2016-12-20 18:01:37 200124         NA     200124        \n",
       "12 2340207 콜처리_연결 2016-12-20 18:01:21 200334         NA     200334        \n",
       "   보조요청여부 난청여부 컨퍼런스여부 직접상담원통화대기여부 보류중포기여부\n",
       "1  0            0        1            0                      1             \n",
       "2  0            0        0            0                      0             \n",
       "3  0            0        0            0                      0             \n",
       "4  0            0        1            0                      0             \n",
       "5  0            0        0            0                      0             \n",
       "6  0            0        0            0                      0             \n",
       "7  0            0        0            0                      0             \n",
       "8  0            0        0            0                      0             \n",
       "9  0            0        0            0                      0             \n",
       "10 0            0        1            0                      0             \n",
       "11 0            0        0            0                      0             \n",
       "12 0            0        0            0                      0             \n",
       "   불량통화추적활성화여부 감청여부 호전환여부 상담원에의한종료여부\n",
       "1  0                      0        0          0                   \n",
       "2  0                      0        0          0                   \n",
       "3  0                      0        0          0                   \n",
       "4  0                      0        0          1                   \n",
       "5  0                      0        0          0                   \n",
       "6  0                      0        0          0                   \n",
       "7  0                      0        0          0                   \n",
       "8  0                      0        0          0                   \n",
       "9  0                      0        0          0                   \n",
       "10 0                      0        0          1                   \n",
       "11 0                      0        0          0                   \n",
       "12 0                      0        0          0                   "
      ]
     },
     "metadata": {},
     "output_type": "display_data"
    }
   ],
   "source": [
    "actmelt5$ACTIVITY <- ifelse(actmelt5$ACTIVITY == \"ACWTIME\", \"후처리\", actmelt5$ACTIVITY)\n",
    "actmelt5$ACTIVITY <- ifelse(actmelt5$ACTIVITY == \"ANSHOLDTIME\", \"응대중보류\", actmelt5$ACTIVITY)\n",
    "actmelt5$ACTIVITY <- ifelse(actmelt5$ACTIVITY == \"CONSULTTIME\", \"컨설팅\", actmelt5$ACTIVITY)\n",
    "actmelt5$ACTIVITY <- ifelse(actmelt5$ACTIVITY == \"DISP_ABAN\", \"콜처리_포기\", actmelt5$ACTIVITY)\n",
    "actmelt5$ACTIVITY <- ifelse(actmelt5$ACTIVITY == \"DISP_ANS\", \"콜처리_응답\", actmelt5$ACTIVITY)\n",
    "actmelt5$ACTIVITY <- ifelse(actmelt5$ACTIVITY == \"DISP_CONN\", \"콜처리_연결\", actmelt5$ACTIVITY)\n",
    "actmelt5$ACTIVITY <- ifelse(actmelt5$ACTIVITY == \"DISP_FDISC\", \"콜처리_강제종료\", actmelt5$ACTIVITY)\n",
    "actmelt5$ACTIVITY <- ifelse(actmelt5$ACTIVITY == \"DISP_OTHER\", \"기타\", actmelt5$ACTIVITY)\n",
    "actmelt5$ACTIVITY <- ifelse(actmelt5$ACTIVITY == \"QUEUETIME\", \"큐대기\", actmelt5$ACTIVITY)\n",
    "actmelt5$ACTIVITY <- ifelse(actmelt5$ACTIVITY == \"RINGTIME\", \"벨울림\", actmelt5$ACTIVITY)\n",
    "actmelt5$ACTIVITY <- ifelse(actmelt5$ACTIVITY == \"TALKTIME\", \"응대\", actmelt5$ACTIVITY)\n",
    "\n",
    "head(actmelt5, 12)"
   ]
  },
  {
   "cell_type": "code",
   "execution_count": 88,
   "metadata": {},
   "outputs": [
    {
     "data": {
      "text/plain": [
       "\n",
       "  FALSE    TRUE \n",
       "1863879 5126009 "
      ]
     },
     "metadata": {},
     "output_type": "display_data"
    }
   ],
   "source": [
    "actmelt6 <- actmelt5\n",
    "table(actmelt6$TIMESTAMP == \"0\")"
   ]
  },
  {
   "cell_type": "code",
   "execution_count": 89,
   "metadata": {},
   "outputs": [
    {
     "data": {
      "text/html": [
       "<table>\n",
       "<thead><tr><th></th><th scope=col>CALLID</th><th scope=col>ACTIVITY</th><th scope=col>TIMESTAMP</th><th scope=col>발신상담원</th><th scope=col>응답상담원</th><th scope=col>발신응답상담원</th><th scope=col>보조요청여부</th><th scope=col>난청여부</th><th scope=col>컨퍼런스여부</th><th scope=col>직접상담원통화대기여부</th><th scope=col>보류중포기여부</th><th scope=col>불량통화추적활성화여부</th><th scope=col>감청여부</th><th scope=col>호전환여부</th><th scope=col>상담원에의한종료여부</th></tr></thead>\n",
       "<tbody>\n",
       "\t<tr><th scope=row>6989869</th><td>3203943            </td><td>ACWTIMW3           </td><td>NA                 </td><td>200558             </td><td>    NA             </td><td>200558             </td><td>0                  </td><td>0                  </td><td>0                  </td><td>0                  </td><td>0                  </td><td>0                  </td><td>0                  </td><td>0                  </td><td>0                  </td></tr>\n",
       "\t<tr><th scope=row>6989870</th><td>3204252            </td><td>ACWTIMW3           </td><td>NA                 </td><td>    NA             </td><td>    NA             </td><td>    NA             </td><td>0                  </td><td>0                  </td><td>0                  </td><td>0                  </td><td>0                  </td><td>0                  </td><td>0                  </td><td>0                  </td><td>0                  </td></tr>\n",
       "\t<tr><th scope=row>6989871</th><td>3204253            </td><td>ACWTIMW3           </td><td>NA                 </td><td>200238             </td><td>    NA             </td><td>200238             </td><td>0                  </td><td>0                  </td><td>0                  </td><td>0                  </td><td>0                  </td><td>0                  </td><td>0                  </td><td>0                  </td><td>0                  </td></tr>\n",
       "\t<tr><th scope=row>6989872</th><td>3204254            </td><td>ACWTIMW3           </td><td>NA                 </td><td>    NA             </td><td>    NA             </td><td>    NA             </td><td>0                  </td><td>0                  </td><td>0                  </td><td>0                  </td><td>0                  </td><td>0                  </td><td>0                  </td><td>0                  </td><td>0                  </td></tr>\n",
       "\t<tr><th scope=row>6989873</th><td>3204255            </td><td>ACWTIMW3           </td><td>NA                 </td><td>    NA             </td><td>    NA             </td><td>    NA             </td><td>0                  </td><td>0                  </td><td>0                  </td><td>0                  </td><td>0                  </td><td>0                  </td><td>0                  </td><td>0                  </td><td>0                  </td></tr>\n",
       "\t<tr><th scope=row>6989874</th><td>3204256            </td><td>ACWTIMW3           </td><td>NA                 </td><td>    NA             </td><td>    NA             </td><td>    NA             </td><td>0                  </td><td>0                  </td><td>0                  </td><td>0                  </td><td>0                  </td><td>0                  </td><td>0                  </td><td>0                  </td><td>0                  </td></tr>\n",
       "\t<tr><th scope=row>6989875</th><td>3204257            </td><td>ACWTIMW3           </td><td>2016-12-26 07:09:15</td><td>    NA             </td><td>200343             </td><td>200343             </td><td>0                  </td><td>0                  </td><td>0                  </td><td>0                  </td><td>0                  </td><td>0                  </td><td>0                  </td><td>0                  </td><td>1                  </td></tr>\n",
       "\t<tr><th scope=row>6989876</th><td>3204259            </td><td>ACWTIMW3           </td><td>NA                 </td><td>    NA             </td><td>    NA             </td><td>    NA             </td><td>0                  </td><td>0                  </td><td>0                  </td><td>0                  </td><td>0                  </td><td>0                  </td><td>0                  </td><td>0                  </td><td>0                  </td></tr>\n",
       "\t<tr><th scope=row>6989877</th><td>3204260            </td><td>ACWTIMW3           </td><td>NA                 </td><td>    NA             </td><td>    NA             </td><td>    NA             </td><td>0                  </td><td>0                  </td><td>0                  </td><td>0                  </td><td>0                  </td><td>0                  </td><td>0                  </td><td>0                  </td><td>0                  </td></tr>\n",
       "\t<tr><th scope=row>6989878</th><td>3204262            </td><td>ACWTIMW3           </td><td>NA                 </td><td>    NA             </td><td>    NA             </td><td>    NA             </td><td>0                  </td><td>0                  </td><td>0                  </td><td>0                  </td><td>0                  </td><td>0                  </td><td>0                  </td><td>0                  </td><td>0                  </td></tr>\n",
       "\t<tr><th scope=row>6989879</th><td>3204263            </td><td>ACWTIMW3           </td><td>NA                 </td><td>    NA             </td><td>    NA             </td><td>    NA             </td><td>0                  </td><td>0                  </td><td>0                  </td><td>0                  </td><td>0                  </td><td>0                  </td><td>0                  </td><td>0                  </td><td>0                  </td></tr>\n",
       "\t<tr><th scope=row>6989880</th><td>3204264            </td><td>ACWTIMW3           </td><td>NA                 </td><td>    NA             </td><td>    NA             </td><td>    NA             </td><td>0                  </td><td>0                  </td><td>0                  </td><td>0                  </td><td>0                  </td><td>0                  </td><td>0                  </td><td>0                  </td><td>0                  </td></tr>\n",
       "\t<tr><th scope=row>6989881</th><td>3204265            </td><td>ACWTIMW3           </td><td>2016-12-26 07:09:15</td><td>    NA             </td><td>201322             </td><td>201322             </td><td>0                  </td><td>0                  </td><td>0                  </td><td>0                  </td><td>0                  </td><td>0                  </td><td>0                  </td><td>0                  </td><td>0                  </td></tr>\n",
       "\t<tr><th scope=row>6989882</th><td>3204267            </td><td>ACWTIMW3           </td><td>NA                 </td><td>    NA             </td><td>    NA             </td><td>    NA             </td><td>0                  </td><td>0                  </td><td>0                  </td><td>0                  </td><td>0                  </td><td>0                  </td><td>0                  </td><td>0                  </td><td>0                  </td></tr>\n",
       "\t<tr><th scope=row>6989883</th><td>3204268            </td><td>ACWTIMW3           </td><td>NA                 </td><td>200252             </td><td>    NA             </td><td>200252             </td><td>0                  </td><td>0                  </td><td>0                  </td><td>0                  </td><td>0                  </td><td>0                  </td><td>0                  </td><td>0                  </td><td>0                  </td></tr>\n",
       "\t<tr><th scope=row>6989884</th><td>3204269            </td><td>ACWTIMW3           </td><td>NA                 </td><td>    NA             </td><td>    NA             </td><td>    NA             </td><td>0                  </td><td>0                  </td><td>0                  </td><td>0                  </td><td>0                  </td><td>0                  </td><td>0                  </td><td>0                  </td><td>0                  </td></tr>\n",
       "\t<tr><th scope=row>6989885</th><td>3204270            </td><td>ACWTIMW3           </td><td>NA                 </td><td>200687             </td><td>    NA             </td><td>200687             </td><td>0                  </td><td>0                  </td><td>0                  </td><td>0                  </td><td>0                  </td><td>0                  </td><td>0                  </td><td>0                  </td><td>0                  </td></tr>\n",
       "\t<tr><th scope=row>6989886</th><td>3204590            </td><td>ACWTIMW3           </td><td>2016-12-26 07:11:09</td><td>    NA             </td><td>200638             </td><td>200638             </td><td>0                  </td><td>0                  </td><td>0                  </td><td>0                  </td><td>0                  </td><td>0                  </td><td>0                  </td><td>0                  </td><td>0                  </td></tr>\n",
       "\t<tr><th scope=row>6989887</th><td>3204591            </td><td>ACWTIMW3           </td><td>NA                 </td><td>    NA             </td><td>    NA             </td><td>    NA             </td><td>0                  </td><td>0                  </td><td>0                  </td><td>0                  </td><td>0                  </td><td>0                  </td><td>0                  </td><td>0                  </td><td>0                  </td></tr>\n",
       "\t<tr><th scope=row>6989888</th><td>3204592            </td><td>ACWTIMW3           </td><td>NA                 </td><td>    NA             </td><td>    NA             </td><td>    NA             </td><td>0                  </td><td>0                  </td><td>0                  </td><td>0                  </td><td>0                  </td><td>0                  </td><td>0                  </td><td>0                  </td><td>0                  </td></tr>\n",
       "</tbody>\n",
       "</table>\n"
      ],
      "text/latex": [
       "\\begin{tabular}{r|lllllllllllllll}\n",
       "  & CALLID & ACTIVITY & TIMESTAMP & 발신상담원 & 응답상담원 & 발신응답상담원 & 보조요청여부 & 난청여부 & 컨퍼런스여부 & 직접상담원통화대기여부 & 보류중포기여부 & 불량통화추적활성화여부 & 감청여부 & 호전환여부 & 상담원에의한종료여부\\\\\n",
       "\\hline\n",
       "\t6989869 & 3203943             & ACWTIMW3            & NA                  & 200558              &     NA              & 200558              & 0                   & 0                   & 0                   & 0                   & 0                   & 0                   & 0                   & 0                   & 0                  \\\\\n",
       "\t6989870 & 3204252             & ACWTIMW3            & NA                  &     NA              &     NA              &     NA              & 0                   & 0                   & 0                   & 0                   & 0                   & 0                   & 0                   & 0                   & 0                  \\\\\n",
       "\t6989871 & 3204253             & ACWTIMW3            & NA                  & 200238              &     NA              & 200238              & 0                   & 0                   & 0                   & 0                   & 0                   & 0                   & 0                   & 0                   & 0                  \\\\\n",
       "\t6989872 & 3204254             & ACWTIMW3            & NA                  &     NA              &     NA              &     NA              & 0                   & 0                   & 0                   & 0                   & 0                   & 0                   & 0                   & 0                   & 0                  \\\\\n",
       "\t6989873 & 3204255             & ACWTIMW3            & NA                  &     NA              &     NA              &     NA              & 0                   & 0                   & 0                   & 0                   & 0                   & 0                   & 0                   & 0                   & 0                  \\\\\n",
       "\t6989874 & 3204256             & ACWTIMW3            & NA                  &     NA              &     NA              &     NA              & 0                   & 0                   & 0                   & 0                   & 0                   & 0                   & 0                   & 0                   & 0                  \\\\\n",
       "\t6989875 & 3204257             & ACWTIMW3            & 2016-12-26 07:09:15 &     NA              & 200343              & 200343              & 0                   & 0                   & 0                   & 0                   & 0                   & 0                   & 0                   & 0                   & 1                  \\\\\n",
       "\t6989876 & 3204259             & ACWTIMW3            & NA                  &     NA              &     NA              &     NA              & 0                   & 0                   & 0                   & 0                   & 0                   & 0                   & 0                   & 0                   & 0                  \\\\\n",
       "\t6989877 & 3204260             & ACWTIMW3            & NA                  &     NA              &     NA              &     NA              & 0                   & 0                   & 0                   & 0                   & 0                   & 0                   & 0                   & 0                   & 0                  \\\\\n",
       "\t6989878 & 3204262             & ACWTIMW3            & NA                  &     NA              &     NA              &     NA              & 0                   & 0                   & 0                   & 0                   & 0                   & 0                   & 0                   & 0                   & 0                  \\\\\n",
       "\t6989879 & 3204263             & ACWTIMW3            & NA                  &     NA              &     NA              &     NA              & 0                   & 0                   & 0                   & 0                   & 0                   & 0                   & 0                   & 0                   & 0                  \\\\\n",
       "\t6989880 & 3204264             & ACWTIMW3            & NA                  &     NA              &     NA              &     NA              & 0                   & 0                   & 0                   & 0                   & 0                   & 0                   & 0                   & 0                   & 0                  \\\\\n",
       "\t6989881 & 3204265             & ACWTIMW3            & 2016-12-26 07:09:15 &     NA              & 201322              & 201322              & 0                   & 0                   & 0                   & 0                   & 0                   & 0                   & 0                   & 0                   & 0                  \\\\\n",
       "\t6989882 & 3204267             & ACWTIMW3            & NA                  &     NA              &     NA              &     NA              & 0                   & 0                   & 0                   & 0                   & 0                   & 0                   & 0                   & 0                   & 0                  \\\\\n",
       "\t6989883 & 3204268             & ACWTIMW3            & NA                  & 200252              &     NA              & 200252              & 0                   & 0                   & 0                   & 0                   & 0                   & 0                   & 0                   & 0                   & 0                  \\\\\n",
       "\t6989884 & 3204269             & ACWTIMW3            & NA                  &     NA              &     NA              &     NA              & 0                   & 0                   & 0                   & 0                   & 0                   & 0                   & 0                   & 0                   & 0                  \\\\\n",
       "\t6989885 & 3204270             & ACWTIMW3            & NA                  & 200687              &     NA              & 200687              & 0                   & 0                   & 0                   & 0                   & 0                   & 0                   & 0                   & 0                   & 0                  \\\\\n",
       "\t6989886 & 3204590             & ACWTIMW3            & 2016-12-26 07:11:09 &     NA              & 200638              & 200638              & 0                   & 0                   & 0                   & 0                   & 0                   & 0                   & 0                   & 0                   & 0                  \\\\\n",
       "\t6989887 & 3204591             & ACWTIMW3            & NA                  &     NA              &     NA              &     NA              & 0                   & 0                   & 0                   & 0                   & 0                   & 0                   & 0                   & 0                   & 0                  \\\\\n",
       "\t6989888 & 3204592             & ACWTIMW3            & NA                  &     NA              &     NA              &     NA              & 0                   & 0                   & 0                   & 0                   & 0                   & 0                   & 0                   & 0                   & 0                  \\\\\n",
       "\\end{tabular}\n"
      ],
      "text/markdown": [
       "\n",
       "| <!--/--> | CALLID | ACTIVITY | TIMESTAMP | 발신상담원 | 응답상담원 | 발신응답상담원 | 보조요청여부 | 난청여부 | 컨퍼런스여부 | 직접상담원통화대기여부 | 보류중포기여부 | 불량통화추적활성화여부 | 감청여부 | 호전환여부 | 상담원에의한종료여부 | \n",
       "|---|---|---|---|---|---|---|---|---|---|---|---|---|---|---|---|---|---|---|---|\n",
       "| 6989869 | 3203943             | ACWTIMW3            | NA                  | 200558              |     NA              | 200558              | 0                   | 0                   | 0                   | 0                   | 0                   | 0                   | 0                   | 0                   | 0                   | \n",
       "| 6989870 | 3204252             | ACWTIMW3            | NA                  |     NA              |     NA              |     NA              | 0                   | 0                   | 0                   | 0                   | 0                   | 0                   | 0                   | 0                   | 0                   | \n",
       "| 6989871 | 3204253             | ACWTIMW3            | NA                  | 200238              |     NA              | 200238              | 0                   | 0                   | 0                   | 0                   | 0                   | 0                   | 0                   | 0                   | 0                   | \n",
       "| 6989872 | 3204254             | ACWTIMW3            | NA                  |     NA              |     NA              |     NA              | 0                   | 0                   | 0                   | 0                   | 0                   | 0                   | 0                   | 0                   | 0                   | \n",
       "| 6989873 | 3204255             | ACWTIMW3            | NA                  |     NA              |     NA              |     NA              | 0                   | 0                   | 0                   | 0                   | 0                   | 0                   | 0                   | 0                   | 0                   | \n",
       "| 6989874 | 3204256             | ACWTIMW3            | NA                  |     NA              |     NA              |     NA              | 0                   | 0                   | 0                   | 0                   | 0                   | 0                   | 0                   | 0                   | 0                   | \n",
       "| 6989875 | 3204257             | ACWTIMW3            | 2016-12-26 07:09:15 |     NA              | 200343              | 200343              | 0                   | 0                   | 0                   | 0                   | 0                   | 0                   | 0                   | 0                   | 1                   | \n",
       "| 6989876 | 3204259             | ACWTIMW3            | NA                  |     NA              |     NA              |     NA              | 0                   | 0                   | 0                   | 0                   | 0                   | 0                   | 0                   | 0                   | 0                   | \n",
       "| 6989877 | 3204260             | ACWTIMW3            | NA                  |     NA              |     NA              |     NA              | 0                   | 0                   | 0                   | 0                   | 0                   | 0                   | 0                   | 0                   | 0                   | \n",
       "| 6989878 | 3204262             | ACWTIMW3            | NA                  |     NA              |     NA              |     NA              | 0                   | 0                   | 0                   | 0                   | 0                   | 0                   | 0                   | 0                   | 0                   | \n",
       "| 6989879 | 3204263             | ACWTIMW3            | NA                  |     NA              |     NA              |     NA              | 0                   | 0                   | 0                   | 0                   | 0                   | 0                   | 0                   | 0                   | 0                   | \n",
       "| 6989880 | 3204264             | ACWTIMW3            | NA                  |     NA              |     NA              |     NA              | 0                   | 0                   | 0                   | 0                   | 0                   | 0                   | 0                   | 0                   | 0                   | \n",
       "| 6989881 | 3204265             | ACWTIMW3            | 2016-12-26 07:09:15 |     NA              | 201322              | 201322              | 0                   | 0                   | 0                   | 0                   | 0                   | 0                   | 0                   | 0                   | 0                   | \n",
       "| 6989882 | 3204267             | ACWTIMW3            | NA                  |     NA              |     NA              |     NA              | 0                   | 0                   | 0                   | 0                   | 0                   | 0                   | 0                   | 0                   | 0                   | \n",
       "| 6989883 | 3204268             | ACWTIMW3            | NA                  | 200252              |     NA              | 200252              | 0                   | 0                   | 0                   | 0                   | 0                   | 0                   | 0                   | 0                   | 0                   | \n",
       "| 6989884 | 3204269             | ACWTIMW3            | NA                  |     NA              |     NA              |     NA              | 0                   | 0                   | 0                   | 0                   | 0                   | 0                   | 0                   | 0                   | 0                   | \n",
       "| 6989885 | 3204270             | ACWTIMW3            | NA                  | 200687              |     NA              | 200687              | 0                   | 0                   | 0                   | 0                   | 0                   | 0                   | 0                   | 0                   | 0                   | \n",
       "| 6989886 | 3204590             | ACWTIMW3            | 2016-12-26 07:11:09 |     NA              | 200638              | 200638              | 0                   | 0                   | 0                   | 0                   | 0                   | 0                   | 0                   | 0                   | 0                   | \n",
       "| 6989887 | 3204591             | ACWTIMW3            | NA                  |     NA              |     NA              |     NA              | 0                   | 0                   | 0                   | 0                   | 0                   | 0                   | 0                   | 0                   | 0                   | \n",
       "| 6989888 | 3204592             | ACWTIMW3            | NA                  |     NA              |     NA              |     NA              | 0                   | 0                   | 0                   | 0                   | 0                   | 0                   | 0                   | 0                   | 0                   | \n",
       "\n",
       "\n"
      ],
      "text/plain": [
       "        CALLID  ACTIVITY TIMESTAMP           발신상담원 응답상담원\n",
       "6989869 3203943 ACWTIMW3 NA                  200558         NA    \n",
       "6989870 3204252 ACWTIMW3 NA                      NA         NA    \n",
       "6989871 3204253 ACWTIMW3 NA                  200238         NA    \n",
       "6989872 3204254 ACWTIMW3 NA                      NA         NA    \n",
       "6989873 3204255 ACWTIMW3 NA                      NA         NA    \n",
       "6989874 3204256 ACWTIMW3 NA                      NA         NA    \n",
       "6989875 3204257 ACWTIMW3 2016-12-26 07:09:15     NA     200343    \n",
       "6989876 3204259 ACWTIMW3 NA                      NA         NA    \n",
       "6989877 3204260 ACWTIMW3 NA                      NA         NA    \n",
       "6989878 3204262 ACWTIMW3 NA                      NA         NA    \n",
       "6989879 3204263 ACWTIMW3 NA                      NA         NA    \n",
       "6989880 3204264 ACWTIMW3 NA                      NA         NA    \n",
       "6989881 3204265 ACWTIMW3 2016-12-26 07:09:15     NA     201322    \n",
       "6989882 3204267 ACWTIMW3 NA                      NA         NA    \n",
       "6989883 3204268 ACWTIMW3 NA                  200252         NA    \n",
       "6989884 3204269 ACWTIMW3 NA                      NA         NA    \n",
       "6989885 3204270 ACWTIMW3 NA                  200687         NA    \n",
       "6989886 3204590 ACWTIMW3 2016-12-26 07:11:09     NA     200638    \n",
       "6989887 3204591 ACWTIMW3 NA                      NA         NA    \n",
       "6989888 3204592 ACWTIMW3 NA                      NA         NA    \n",
       "        발신응답상담원 보조요청여부 난청여부 컨퍼런스여부\n",
       "6989869 200558         0            0        0           \n",
       "6989870     NA         0            0        0           \n",
       "6989871 200238         0            0        0           \n",
       "6989872     NA         0            0        0           \n",
       "6989873     NA         0            0        0           \n",
       "6989874     NA         0            0        0           \n",
       "6989875 200343         0            0        0           \n",
       "6989876     NA         0            0        0           \n",
       "6989877     NA         0            0        0           \n",
       "6989878     NA         0            0        0           \n",
       "6989879     NA         0            0        0           \n",
       "6989880     NA         0            0        0           \n",
       "6989881 201322         0            0        0           \n",
       "6989882     NA         0            0        0           \n",
       "6989883 200252         0            0        0           \n",
       "6989884     NA         0            0        0           \n",
       "6989885 200687         0            0        0           \n",
       "6989886 200638         0            0        0           \n",
       "6989887     NA         0            0        0           \n",
       "6989888     NA         0            0        0           \n",
       "        직접상담원통화대기여부 보류중포기여부 불량통화추적활성화여부 감청여부\n",
       "6989869 0                      0              0                      0       \n",
       "6989870 0                      0              0                      0       \n",
       "6989871 0                      0              0                      0       \n",
       "6989872 0                      0              0                      0       \n",
       "6989873 0                      0              0                      0       \n",
       "6989874 0                      0              0                      0       \n",
       "6989875 0                      0              0                      0       \n",
       "6989876 0                      0              0                      0       \n",
       "6989877 0                      0              0                      0       \n",
       "6989878 0                      0              0                      0       \n",
       "6989879 0                      0              0                      0       \n",
       "6989880 0                      0              0                      0       \n",
       "6989881 0                      0              0                      0       \n",
       "6989882 0                      0              0                      0       \n",
       "6989883 0                      0              0                      0       \n",
       "6989884 0                      0              0                      0       \n",
       "6989885 0                      0              0                      0       \n",
       "6989886 0                      0              0                      0       \n",
       "6989887 0                      0              0                      0       \n",
       "6989888 0                      0              0                      0       \n",
       "        호전환여부 상담원에의한종료여부\n",
       "6989869 0          0                   \n",
       "6989870 0          0                   \n",
       "6989871 0          0                   \n",
       "6989872 0          0                   \n",
       "6989873 0          0                   \n",
       "6989874 0          0                   \n",
       "6989875 0          1                   \n",
       "6989876 0          0                   \n",
       "6989877 0          0                   \n",
       "6989878 0          0                   \n",
       "6989879 0          0                   \n",
       "6989880 0          0                   \n",
       "6989881 0          0                   \n",
       "6989882 0          0                   \n",
       "6989883 0          0                   \n",
       "6989884 0          0                   \n",
       "6989885 0          0                   \n",
       "6989886 0          0                   \n",
       "6989887 0          0                   \n",
       "6989888 0          0                   "
      ]
     },
     "metadata": {},
     "output_type": "display_data"
    }
   ],
   "source": [
    "actmelt6$TIMESTAMP <- ifelse(actmelt6$TIMESTAMP == \"0\", NA, actmelt6$TIMESTAMP)\n",
    "tail(actmelt6, 20)"
   ]
  },
  {
   "cell_type": "code",
   "execution_count": 90,
   "metadata": {},
   "outputs": [],
   "source": [
    "actmelt6 <- arrange(actmelt6, CALLID, TIMESTAMP)"
   ]
  },
  {
   "cell_type": "code",
   "execution_count": 91,
   "metadata": {},
   "outputs": [
    {
     "data": {
      "text/html": [
       "<table>\n",
       "<thead><tr><th scope=col>CALLID</th><th scope=col>ACTIVITY</th><th scope=col>TIMESTAMP</th><th scope=col>발신상담원</th><th scope=col>응답상담원</th><th scope=col>발신응답상담원</th><th scope=col>보조요청여부</th><th scope=col>난청여부</th><th scope=col>컨퍼런스여부</th><th scope=col>직접상담원통화대기여부</th><th scope=col>보류중포기여부</th><th scope=col>불량통화추적활성화여부</th><th scope=col>감청여부</th><th scope=col>호전환여부</th><th scope=col>상담원에의한종료여부</th></tr></thead>\n",
       "<tbody>\n",
       "\t<tr><td>2340195            </td><td>콜처리_연결        </td><td>2016-12-20 18:00:16</td><td>NA                 </td><td>    NA             </td><td>    NA             </td><td>0                  </td><td>0                  </td><td>0                  </td><td>0                  </td><td>0                  </td><td>0                  </td><td>0                  </td><td>0                  </td><td>0                  </td></tr>\n",
       "\t<tr><td>2340195            </td><td>벨울림             </td><td>NA                 </td><td>NA                 </td><td>    NA             </td><td>    NA             </td><td>0                  </td><td>0                  </td><td>0                  </td><td>0                  </td><td>0                  </td><td>0                  </td><td>0                  </td><td>0                  </td><td>0                  </td></tr>\n",
       "\t<tr><td>2340195            </td><td>큐대기             </td><td>NA                 </td><td>NA                 </td><td>    NA             </td><td>    NA             </td><td>0                  </td><td>0                  </td><td>0                  </td><td>0                  </td><td>0                  </td><td>0                  </td><td>0                  </td><td>0                  </td><td>0                  </td></tr>\n",
       "\t<tr><td>2340195            </td><td>컨설팅             </td><td>NA                 </td><td>NA                 </td><td>    NA             </td><td>    NA             </td><td>0                  </td><td>0                  </td><td>0                  </td><td>0                  </td><td>0                  </td><td>0                  </td><td>0                  </td><td>0                  </td><td>0                  </td></tr>\n",
       "\t<tr><td>2340195            </td><td>응대중보류         </td><td>NA                 </td><td>NA                 </td><td>    NA             </td><td>    NA             </td><td>0                  </td><td>0                  </td><td>0                  </td><td>0                  </td><td>0                  </td><td>0                  </td><td>0                  </td><td>0                  </td><td>0                  </td></tr>\n",
       "\t<tr><td>2340195            </td><td>응대               </td><td>NA                 </td><td>NA                 </td><td>    NA             </td><td>    NA             </td><td>0                  </td><td>0                  </td><td>0                  </td><td>0                  </td><td>0                  </td><td>0                  </td><td>0                  </td><td>0                  </td><td>0                  </td></tr>\n",
       "\t<tr><td>2340195            </td><td>후처리             </td><td>NA                 </td><td>NA                 </td><td>    NA             </td><td>    NA             </td><td>0                  </td><td>0                  </td><td>0                  </td><td>0                  </td><td>0                  </td><td>0                  </td><td>0                  </td><td>0                  </td><td>0                  </td></tr>\n",
       "\t<tr><td>2340195            </td><td>ACWTIMW3           </td><td>NA                 </td><td>NA                 </td><td>    NA             </td><td>    NA             </td><td>0                  </td><td>0                  </td><td>0                  </td><td>0                  </td><td>0                  </td><td>0                  </td><td>0                  </td><td>0                  </td><td>0                  </td></tr>\n",
       "\t<tr><td>2340196            </td><td>큐대기             </td><td>2016-12-20 18:01:23</td><td>NA                 </td><td>    NA             </td><td>    NA             </td><td>0                  </td><td>0                  </td><td>0                  </td><td>0                  </td><td>0                  </td><td>0                  </td><td>0                  </td><td>0                  </td><td>0                  </td></tr>\n",
       "\t<tr><td>2340196            </td><td>콜처리_연결        </td><td>2016-12-20 18:01:24</td><td>NA                 </td><td>    NA             </td><td>    NA             </td><td>0                  </td><td>0                  </td><td>0                  </td><td>0                  </td><td>0                  </td><td>0                  </td><td>0                  </td><td>0                  </td><td>0                  </td></tr>\n",
       "\t<tr><td>2340196            </td><td>벨울림             </td><td>NA                 </td><td>NA                 </td><td>    NA             </td><td>    NA             </td><td>0                  </td><td>0                  </td><td>0                  </td><td>0                  </td><td>0                  </td><td>0                  </td><td>0                  </td><td>0                  </td><td>0                  </td></tr>\n",
       "\t<tr><td>2340196            </td><td>컨설팅             </td><td>NA                 </td><td>NA                 </td><td>    NA             </td><td>    NA             </td><td>0                  </td><td>0                  </td><td>0                  </td><td>0                  </td><td>0                  </td><td>0                  </td><td>0                  </td><td>0                  </td><td>0                  </td></tr>\n",
       "\t<tr><td>2340196            </td><td>응대중보류         </td><td>NA                 </td><td>NA                 </td><td>    NA             </td><td>    NA             </td><td>0                  </td><td>0                  </td><td>0                  </td><td>0                  </td><td>0                  </td><td>0                  </td><td>0                  </td><td>0                  </td><td>0                  </td></tr>\n",
       "\t<tr><td>2340196            </td><td>응대               </td><td>NA                 </td><td>NA                 </td><td>    NA             </td><td>    NA             </td><td>0                  </td><td>0                  </td><td>0                  </td><td>0                  </td><td>0                  </td><td>0                  </td><td>0                  </td><td>0                  </td><td>0                  </td></tr>\n",
       "\t<tr><td>2340196            </td><td>후처리             </td><td>NA                 </td><td>NA                 </td><td>    NA             </td><td>    NA             </td><td>0                  </td><td>0                  </td><td>0                  </td><td>0                  </td><td>0                  </td><td>0                  </td><td>0                  </td><td>0                  </td><td>0                  </td></tr>\n",
       "\t<tr><td>2340196            </td><td>ACWTIMW3           </td><td>NA                 </td><td>NA                 </td><td>    NA             </td><td>    NA             </td><td>0                  </td><td>0                  </td><td>0                  </td><td>0                  </td><td>0                  </td><td>0                  </td><td>0                  </td><td>0                  </td><td>0                  </td></tr>\n",
       "\t<tr><td>2340197            </td><td>콜처리_응답        </td><td>2016-12-20 17:57:11</td><td>NA                 </td><td>200312             </td><td>200312             </td><td>0                  </td><td>0                  </td><td>0                  </td><td>0                  </td><td>0                  </td><td>0                  </td><td>0                  </td><td>0                  </td><td>0                  </td></tr>\n",
       "\t<tr><td>2340197            </td><td>응대               </td><td>2016-12-20 17:57:13</td><td>NA                 </td><td>200312             </td><td>200312             </td><td>0                  </td><td>0                  </td><td>0                  </td><td>0                  </td><td>0                  </td><td>0                  </td><td>0                  </td><td>0                  </td><td>0                  </td></tr>\n",
       "\t<tr><td>2340197            </td><td>후처리             </td><td>2016-12-20 18:01:47</td><td>NA                 </td><td>200312             </td><td>200312             </td><td>0                  </td><td>0                  </td><td>0                  </td><td>0                  </td><td>0                  </td><td>0                  </td><td>0                  </td><td>0                  </td><td>0                  </td></tr>\n",
       "\t<tr><td>2340197            </td><td>ACWTIMW3           </td><td>2016-12-20 18:01:50</td><td>NA                 </td><td>200312             </td><td>200312             </td><td>0                  </td><td>0                  </td><td>0                  </td><td>0                  </td><td>0                  </td><td>0                  </td><td>0                  </td><td>0                  </td><td>0                  </td></tr>\n",
       "</tbody>\n",
       "</table>\n"
      ],
      "text/latex": [
       "\\begin{tabular}{r|lllllllllllllll}\n",
       " CALLID & ACTIVITY & TIMESTAMP & 발신상담원 & 응답상담원 & 발신응답상담원 & 보조요청여부 & 난청여부 & 컨퍼런스여부 & 직접상담원통화대기여부 & 보류중포기여부 & 불량통화추적활성화여부 & 감청여부 & 호전환여부 & 상담원에의한종료여부\\\\\n",
       "\\hline\n",
       "\t 2340195             & 콜처리\\_연결       & 2016-12-20 18:00:16 & NA                  &     NA              &     NA              & 0                   & 0                   & 0                   & 0                   & 0                   & 0                   & 0                   & 0                   & 0                  \\\\\n",
       "\t 2340195             & 벨울림              & NA                  & NA                  &     NA              &     NA              & 0                   & 0                   & 0                   & 0                   & 0                   & 0                   & 0                   & 0                   & 0                  \\\\\n",
       "\t 2340195             & 큐대기              & NA                  & NA                  &     NA              &     NA              & 0                   & 0                   & 0                   & 0                   & 0                   & 0                   & 0                   & 0                   & 0                  \\\\\n",
       "\t 2340195             & 컨설팅              & NA                  & NA                  &     NA              &     NA              & 0                   & 0                   & 0                   & 0                   & 0                   & 0                   & 0                   & 0                   & 0                  \\\\\n",
       "\t 2340195             & 응대중보류          & NA                  & NA                  &     NA              &     NA              & 0                   & 0                   & 0                   & 0                   & 0                   & 0                   & 0                   & 0                   & 0                  \\\\\n",
       "\t 2340195             & 응대                & NA                  & NA                  &     NA              &     NA              & 0                   & 0                   & 0                   & 0                   & 0                   & 0                   & 0                   & 0                   & 0                  \\\\\n",
       "\t 2340195             & 후처리              & NA                  & NA                  &     NA              &     NA              & 0                   & 0                   & 0                   & 0                   & 0                   & 0                   & 0                   & 0                   & 0                  \\\\\n",
       "\t 2340195             & ACWTIMW3            & NA                  & NA                  &     NA              &     NA              & 0                   & 0                   & 0                   & 0                   & 0                   & 0                   & 0                   & 0                   & 0                  \\\\\n",
       "\t 2340196             & 큐대기              & 2016-12-20 18:01:23 & NA                  &     NA              &     NA              & 0                   & 0                   & 0                   & 0                   & 0                   & 0                   & 0                   & 0                   & 0                  \\\\\n",
       "\t 2340196             & 콜처리\\_연결       & 2016-12-20 18:01:24 & NA                  &     NA              &     NA              & 0                   & 0                   & 0                   & 0                   & 0                   & 0                   & 0                   & 0                   & 0                  \\\\\n",
       "\t 2340196             & 벨울림              & NA                  & NA                  &     NA              &     NA              & 0                   & 0                   & 0                   & 0                   & 0                   & 0                   & 0                   & 0                   & 0                  \\\\\n",
       "\t 2340196             & 컨설팅              & NA                  & NA                  &     NA              &     NA              & 0                   & 0                   & 0                   & 0                   & 0                   & 0                   & 0                   & 0                   & 0                  \\\\\n",
       "\t 2340196             & 응대중보류          & NA                  & NA                  &     NA              &     NA              & 0                   & 0                   & 0                   & 0                   & 0                   & 0                   & 0                   & 0                   & 0                  \\\\\n",
       "\t 2340196             & 응대                & NA                  & NA                  &     NA              &     NA              & 0                   & 0                   & 0                   & 0                   & 0                   & 0                   & 0                   & 0                   & 0                  \\\\\n",
       "\t 2340196             & 후처리              & NA                  & NA                  &     NA              &     NA              & 0                   & 0                   & 0                   & 0                   & 0                   & 0                   & 0                   & 0                   & 0                  \\\\\n",
       "\t 2340196             & ACWTIMW3            & NA                  & NA                  &     NA              &     NA              & 0                   & 0                   & 0                   & 0                   & 0                   & 0                   & 0                   & 0                   & 0                  \\\\\n",
       "\t 2340197             & 콜처리\\_응답       & 2016-12-20 17:57:11 & NA                  & 200312              & 200312              & 0                   & 0                   & 0                   & 0                   & 0                   & 0                   & 0                   & 0                   & 0                  \\\\\n",
       "\t 2340197             & 응대                & 2016-12-20 17:57:13 & NA                  & 200312              & 200312              & 0                   & 0                   & 0                   & 0                   & 0                   & 0                   & 0                   & 0                   & 0                  \\\\\n",
       "\t 2340197             & 후처리              & 2016-12-20 18:01:47 & NA                  & 200312              & 200312              & 0                   & 0                   & 0                   & 0                   & 0                   & 0                   & 0                   & 0                   & 0                  \\\\\n",
       "\t 2340197             & ACWTIMW3            & 2016-12-20 18:01:50 & NA                  & 200312              & 200312              & 0                   & 0                   & 0                   & 0                   & 0                   & 0                   & 0                   & 0                   & 0                  \\\\\n",
       "\\end{tabular}\n"
      ],
      "text/markdown": [
       "\n",
       "CALLID | ACTIVITY | TIMESTAMP | 발신상담원 | 응답상담원 | 발신응답상담원 | 보조요청여부 | 난청여부 | 컨퍼런스여부 | 직접상담원통화대기여부 | 보류중포기여부 | 불량통화추적활성화여부 | 감청여부 | 호전환여부 | 상담원에의한종료여부 | \n",
       "|---|---|---|---|---|---|---|---|---|---|---|---|---|---|---|---|---|---|---|---|\n",
       "| 2340195             | 콜처리_연결         | 2016-12-20 18:00:16 | NA                  |     NA              |     NA              | 0                   | 0                   | 0                   | 0                   | 0                   | 0                   | 0                   | 0                   | 0                   | \n",
       "| 2340195             | 벨울림              | NA                  | NA                  |     NA              |     NA              | 0                   | 0                   | 0                   | 0                   | 0                   | 0                   | 0                   | 0                   | 0                   | \n",
       "| 2340195             | 큐대기              | NA                  | NA                  |     NA              |     NA              | 0                   | 0                   | 0                   | 0                   | 0                   | 0                   | 0                   | 0                   | 0                   | \n",
       "| 2340195             | 컨설팅              | NA                  | NA                  |     NA              |     NA              | 0                   | 0                   | 0                   | 0                   | 0                   | 0                   | 0                   | 0                   | 0                   | \n",
       "| 2340195             | 응대중보류          | NA                  | NA                  |     NA              |     NA              | 0                   | 0                   | 0                   | 0                   | 0                   | 0                   | 0                   | 0                   | 0                   | \n",
       "| 2340195             | 응대                | NA                  | NA                  |     NA              |     NA              | 0                   | 0                   | 0                   | 0                   | 0                   | 0                   | 0                   | 0                   | 0                   | \n",
       "| 2340195             | 후처리              | NA                  | NA                  |     NA              |     NA              | 0                   | 0                   | 0                   | 0                   | 0                   | 0                   | 0                   | 0                   | 0                   | \n",
       "| 2340195             | ACWTIMW3            | NA                  | NA                  |     NA              |     NA              | 0                   | 0                   | 0                   | 0                   | 0                   | 0                   | 0                   | 0                   | 0                   | \n",
       "| 2340196             | 큐대기              | 2016-12-20 18:01:23 | NA                  |     NA              |     NA              | 0                   | 0                   | 0                   | 0                   | 0                   | 0                   | 0                   | 0                   | 0                   | \n",
       "| 2340196             | 콜처리_연결         | 2016-12-20 18:01:24 | NA                  |     NA              |     NA              | 0                   | 0                   | 0                   | 0                   | 0                   | 0                   | 0                   | 0                   | 0                   | \n",
       "| 2340196             | 벨울림              | NA                  | NA                  |     NA              |     NA              | 0                   | 0                   | 0                   | 0                   | 0                   | 0                   | 0                   | 0                   | 0                   | \n",
       "| 2340196             | 컨설팅              | NA                  | NA                  |     NA              |     NA              | 0                   | 0                   | 0                   | 0                   | 0                   | 0                   | 0                   | 0                   | 0                   | \n",
       "| 2340196             | 응대중보류          | NA                  | NA                  |     NA              |     NA              | 0                   | 0                   | 0                   | 0                   | 0                   | 0                   | 0                   | 0                   | 0                   | \n",
       "| 2340196             | 응대                | NA                  | NA                  |     NA              |     NA              | 0                   | 0                   | 0                   | 0                   | 0                   | 0                   | 0                   | 0                   | 0                   | \n",
       "| 2340196             | 후처리              | NA                  | NA                  |     NA              |     NA              | 0                   | 0                   | 0                   | 0                   | 0                   | 0                   | 0                   | 0                   | 0                   | \n",
       "| 2340196             | ACWTIMW3            | NA                  | NA                  |     NA              |     NA              | 0                   | 0                   | 0                   | 0                   | 0                   | 0                   | 0                   | 0                   | 0                   | \n",
       "| 2340197             | 콜처리_응답         | 2016-12-20 17:57:11 | NA                  | 200312              | 200312              | 0                   | 0                   | 0                   | 0                   | 0                   | 0                   | 0                   | 0                   | 0                   | \n",
       "| 2340197             | 응대                | 2016-12-20 17:57:13 | NA                  | 200312              | 200312              | 0                   | 0                   | 0                   | 0                   | 0                   | 0                   | 0                   | 0                   | 0                   | \n",
       "| 2340197             | 후처리              | 2016-12-20 18:01:47 | NA                  | 200312              | 200312              | 0                   | 0                   | 0                   | 0                   | 0                   | 0                   | 0                   | 0                   | 0                   | \n",
       "| 2340197             | ACWTIMW3            | 2016-12-20 18:01:50 | NA                  | 200312              | 200312              | 0                   | 0                   | 0                   | 0                   | 0                   | 0                   | 0                   | 0                   | 0                   | \n",
       "\n",
       "\n"
      ],
      "text/plain": [
       "   CALLID  ACTIVITY    TIMESTAMP           발신상담원 응답상담원 발신응답상담원\n",
       "1  2340195 콜처리_연결 2016-12-20 18:00:16 NA             NA         NA        \n",
       "2  2340195 벨울림      NA                  NA             NA         NA        \n",
       "3  2340195 큐대기      NA                  NA             NA         NA        \n",
       "4  2340195 컨설팅      NA                  NA             NA         NA        \n",
       "5  2340195 응대중보류  NA                  NA             NA         NA        \n",
       "6  2340195 응대        NA                  NA             NA         NA        \n",
       "7  2340195 후처리      NA                  NA             NA         NA        \n",
       "8  2340195 ACWTIMW3    NA                  NA             NA         NA        \n",
       "9  2340196 큐대기      2016-12-20 18:01:23 NA             NA         NA        \n",
       "10 2340196 콜처리_연결 2016-12-20 18:01:24 NA             NA         NA        \n",
       "11 2340196 벨울림      NA                  NA             NA         NA        \n",
       "12 2340196 컨설팅      NA                  NA             NA         NA        \n",
       "13 2340196 응대중보류  NA                  NA             NA         NA        \n",
       "14 2340196 응대        NA                  NA             NA         NA        \n",
       "15 2340196 후처리      NA                  NA             NA         NA        \n",
       "16 2340196 ACWTIMW3    NA                  NA             NA         NA        \n",
       "17 2340197 콜처리_응답 2016-12-20 17:57:11 NA         200312     200312        \n",
       "18 2340197 응대        2016-12-20 17:57:13 NA         200312     200312        \n",
       "19 2340197 후처리      2016-12-20 18:01:47 NA         200312     200312        \n",
       "20 2340197 ACWTIMW3    2016-12-20 18:01:50 NA         200312     200312        \n",
       "   보조요청여부 난청여부 컨퍼런스여부 직접상담원통화대기여부 보류중포기여부\n",
       "1  0            0        0            0                      0             \n",
       "2  0            0        0            0                      0             \n",
       "3  0            0        0            0                      0             \n",
       "4  0            0        0            0                      0             \n",
       "5  0            0        0            0                      0             \n",
       "6  0            0        0            0                      0             \n",
       "7  0            0        0            0                      0             \n",
       "8  0            0        0            0                      0             \n",
       "9  0            0        0            0                      0             \n",
       "10 0            0        0            0                      0             \n",
       "11 0            0        0            0                      0             \n",
       "12 0            0        0            0                      0             \n",
       "13 0            0        0            0                      0             \n",
       "14 0            0        0            0                      0             \n",
       "15 0            0        0            0                      0             \n",
       "16 0            0        0            0                      0             \n",
       "17 0            0        0            0                      0             \n",
       "18 0            0        0            0                      0             \n",
       "19 0            0        0            0                      0             \n",
       "20 0            0        0            0                      0             \n",
       "   불량통화추적활성화여부 감청여부 호전환여부 상담원에의한종료여부\n",
       "1  0                      0        0          0                   \n",
       "2  0                      0        0          0                   \n",
       "3  0                      0        0          0                   \n",
       "4  0                      0        0          0                   \n",
       "5  0                      0        0          0                   \n",
       "6  0                      0        0          0                   \n",
       "7  0                      0        0          0                   \n",
       "8  0                      0        0          0                   \n",
       "9  0                      0        0          0                   \n",
       "10 0                      0        0          0                   \n",
       "11 0                      0        0          0                   \n",
       "12 0                      0        0          0                   \n",
       "13 0                      0        0          0                   \n",
       "14 0                      0        0          0                   \n",
       "15 0                      0        0          0                   \n",
       "16 0                      0        0          0                   \n",
       "17 0                      0        0          0                   \n",
       "18 0                      0        0          0                   \n",
       "19 0                      0        0          0                   \n",
       "20 0                      0        0          0                   "
      ]
     },
     "metadata": {},
     "output_type": "display_data"
    }
   ],
   "source": [
    "head(actmelt6, 20)"
   ]
  },
  {
   "cell_type": "code",
   "execution_count": 92,
   "metadata": {},
   "outputs": [
    {
     "data": {
      "text/html": [
       "<table>\n",
       "<thead><tr><th scope=col>CALLID</th><th scope=col>ACTIVITY</th><th scope=col>TIMESTAMP</th><th scope=col>발신상담원</th><th scope=col>응답상담원</th><th scope=col>발신응답상담원</th><th scope=col>보조요청여부</th><th scope=col>난청여부</th><th scope=col>컨퍼런스여부</th><th scope=col>직접상담원통화대기여부</th><th scope=col>보류중포기여부</th><th scope=col>불량통화추적활성화여부</th><th scope=col>감청여부</th><th scope=col>호전환여부</th><th scope=col>상담원에의한종료여부</th></tr></thead>\n",
       "<tbody>\n",
       "\t<tr><td>2340195            </td><td>콜처리_연결        </td><td>2016-12-20 18:00:16</td><td>0                  </td><td>0                  </td><td>0                  </td><td>0                  </td><td>0                  </td><td>0                  </td><td>0                  </td><td>0                  </td><td>0                  </td><td>0                  </td><td>0                  </td><td>0                  </td></tr>\n",
       "\t<tr><td>2340195            </td><td>벨울림             </td><td>NA                 </td><td>0                  </td><td>0                  </td><td>0                  </td><td>0                  </td><td>0                  </td><td>0                  </td><td>0                  </td><td>0                  </td><td>0                  </td><td>0                  </td><td>0                  </td><td>0                  </td></tr>\n",
       "\t<tr><td>2340195            </td><td>큐대기             </td><td>NA                 </td><td>0                  </td><td>0                  </td><td>0                  </td><td>0                  </td><td>0                  </td><td>0                  </td><td>0                  </td><td>0                  </td><td>0                  </td><td>0                  </td><td>0                  </td><td>0                  </td></tr>\n",
       "\t<tr><td>2340195            </td><td>컨설팅             </td><td>NA                 </td><td>0                  </td><td>0                  </td><td>0                  </td><td>0                  </td><td>0                  </td><td>0                  </td><td>0                  </td><td>0                  </td><td>0                  </td><td>0                  </td><td>0                  </td><td>0                  </td></tr>\n",
       "\t<tr><td>2340195            </td><td>응대중보류         </td><td>NA                 </td><td>0                  </td><td>0                  </td><td>0                  </td><td>0                  </td><td>0                  </td><td>0                  </td><td>0                  </td><td>0                  </td><td>0                  </td><td>0                  </td><td>0                  </td><td>0                  </td></tr>\n",
       "\t<tr><td>2340195            </td><td>응대               </td><td>NA                 </td><td>0                  </td><td>0                  </td><td>0                  </td><td>0                  </td><td>0                  </td><td>0                  </td><td>0                  </td><td>0                  </td><td>0                  </td><td>0                  </td><td>0                  </td><td>0                  </td></tr>\n",
       "\t<tr><td>2340195            </td><td>후처리             </td><td>NA                 </td><td>0                  </td><td>0                  </td><td>0                  </td><td>0                  </td><td>0                  </td><td>0                  </td><td>0                  </td><td>0                  </td><td>0                  </td><td>0                  </td><td>0                  </td><td>0                  </td></tr>\n",
       "\t<tr><td>2340195            </td><td>ACWTIMW3           </td><td>NA                 </td><td>0                  </td><td>0                  </td><td>0                  </td><td>0                  </td><td>0                  </td><td>0                  </td><td>0                  </td><td>0                  </td><td>0                  </td><td>0                  </td><td>0                  </td><td>0                  </td></tr>\n",
       "\t<tr><td>2340196            </td><td>큐대기             </td><td>2016-12-20 18:01:23</td><td>0                  </td><td>0                  </td><td>0                  </td><td>0                  </td><td>0                  </td><td>0                  </td><td>0                  </td><td>0                  </td><td>0                  </td><td>0                  </td><td>0                  </td><td>0                  </td></tr>\n",
       "\t<tr><td>2340196            </td><td>콜처리_연결        </td><td>2016-12-20 18:01:24</td><td>0                  </td><td>0                  </td><td>0                  </td><td>0                  </td><td>0                  </td><td>0                  </td><td>0                  </td><td>0                  </td><td>0                  </td><td>0                  </td><td>0                  </td><td>0                  </td></tr>\n",
       "\t<tr><td>2340196            </td><td>벨울림             </td><td>NA                 </td><td>0                  </td><td>0                  </td><td>0                  </td><td>0                  </td><td>0                  </td><td>0                  </td><td>0                  </td><td>0                  </td><td>0                  </td><td>0                  </td><td>0                  </td><td>0                  </td></tr>\n",
       "\t<tr><td>2340196            </td><td>컨설팅             </td><td>NA                 </td><td>0                  </td><td>0                  </td><td>0                  </td><td>0                  </td><td>0                  </td><td>0                  </td><td>0                  </td><td>0                  </td><td>0                  </td><td>0                  </td><td>0                  </td><td>0                  </td></tr>\n",
       "\t<tr><td>2340196            </td><td>응대중보류         </td><td>NA                 </td><td>0                  </td><td>0                  </td><td>0                  </td><td>0                  </td><td>0                  </td><td>0                  </td><td>0                  </td><td>0                  </td><td>0                  </td><td>0                  </td><td>0                  </td><td>0                  </td></tr>\n",
       "\t<tr><td>2340196            </td><td>응대               </td><td>NA                 </td><td>0                  </td><td>0                  </td><td>0                  </td><td>0                  </td><td>0                  </td><td>0                  </td><td>0                  </td><td>0                  </td><td>0                  </td><td>0                  </td><td>0                  </td><td>0                  </td></tr>\n",
       "\t<tr><td>2340196            </td><td>후처리             </td><td>NA                 </td><td>0                  </td><td>0                  </td><td>0                  </td><td>0                  </td><td>0                  </td><td>0                  </td><td>0                  </td><td>0                  </td><td>0                  </td><td>0                  </td><td>0                  </td><td>0                  </td></tr>\n",
       "\t<tr><td>2340196            </td><td>ACWTIMW3           </td><td>NA                 </td><td>0                  </td><td>0                  </td><td>0                  </td><td>0                  </td><td>0                  </td><td>0                  </td><td>0                  </td><td>0                  </td><td>0                  </td><td>0                  </td><td>0                  </td><td>0                  </td></tr>\n",
       "\t<tr><td>2340197            </td><td>콜처리_응답        </td><td>2016-12-20 17:57:11</td><td>0                  </td><td>200312             </td><td>200312             </td><td>0                  </td><td>0                  </td><td>0                  </td><td>0                  </td><td>0                  </td><td>0                  </td><td>0                  </td><td>0                  </td><td>0                  </td></tr>\n",
       "\t<tr><td>2340197            </td><td>응대               </td><td>2016-12-20 17:57:13</td><td>0                  </td><td>200312             </td><td>200312             </td><td>0                  </td><td>0                  </td><td>0                  </td><td>0                  </td><td>0                  </td><td>0                  </td><td>0                  </td><td>0                  </td><td>0                  </td></tr>\n",
       "\t<tr><td>2340197            </td><td>후처리             </td><td>2016-12-20 18:01:47</td><td>0                  </td><td>200312             </td><td>200312             </td><td>0                  </td><td>0                  </td><td>0                  </td><td>0                  </td><td>0                  </td><td>0                  </td><td>0                  </td><td>0                  </td><td>0                  </td></tr>\n",
       "\t<tr><td>2340197            </td><td>ACWTIMW3           </td><td>2016-12-20 18:01:50</td><td>0                  </td><td>200312             </td><td>200312             </td><td>0                  </td><td>0                  </td><td>0                  </td><td>0                  </td><td>0                  </td><td>0                  </td><td>0                  </td><td>0                  </td><td>0                  </td></tr>\n",
       "</tbody>\n",
       "</table>\n"
      ],
      "text/latex": [
       "\\begin{tabular}{r|lllllllllllllll}\n",
       " CALLID & ACTIVITY & TIMESTAMP & 발신상담원 & 응답상담원 & 발신응답상담원 & 보조요청여부 & 난청여부 & 컨퍼런스여부 & 직접상담원통화대기여부 & 보류중포기여부 & 불량통화추적활성화여부 & 감청여부 & 호전환여부 & 상담원에의한종료여부\\\\\n",
       "\\hline\n",
       "\t 2340195             & 콜처리\\_연결       & 2016-12-20 18:00:16 & 0                   & 0                   & 0                   & 0                   & 0                   & 0                   & 0                   & 0                   & 0                   & 0                   & 0                   & 0                  \\\\\n",
       "\t 2340195             & 벨울림              & NA                  & 0                   & 0                   & 0                   & 0                   & 0                   & 0                   & 0                   & 0                   & 0                   & 0                   & 0                   & 0                  \\\\\n",
       "\t 2340195             & 큐대기              & NA                  & 0                   & 0                   & 0                   & 0                   & 0                   & 0                   & 0                   & 0                   & 0                   & 0                   & 0                   & 0                  \\\\\n",
       "\t 2340195             & 컨설팅              & NA                  & 0                   & 0                   & 0                   & 0                   & 0                   & 0                   & 0                   & 0                   & 0                   & 0                   & 0                   & 0                  \\\\\n",
       "\t 2340195             & 응대중보류          & NA                  & 0                   & 0                   & 0                   & 0                   & 0                   & 0                   & 0                   & 0                   & 0                   & 0                   & 0                   & 0                  \\\\\n",
       "\t 2340195             & 응대                & NA                  & 0                   & 0                   & 0                   & 0                   & 0                   & 0                   & 0                   & 0                   & 0                   & 0                   & 0                   & 0                  \\\\\n",
       "\t 2340195             & 후처리              & NA                  & 0                   & 0                   & 0                   & 0                   & 0                   & 0                   & 0                   & 0                   & 0                   & 0                   & 0                   & 0                  \\\\\n",
       "\t 2340195             & ACWTIMW3            & NA                  & 0                   & 0                   & 0                   & 0                   & 0                   & 0                   & 0                   & 0                   & 0                   & 0                   & 0                   & 0                  \\\\\n",
       "\t 2340196             & 큐대기              & 2016-12-20 18:01:23 & 0                   & 0                   & 0                   & 0                   & 0                   & 0                   & 0                   & 0                   & 0                   & 0                   & 0                   & 0                  \\\\\n",
       "\t 2340196             & 콜처리\\_연결       & 2016-12-20 18:01:24 & 0                   & 0                   & 0                   & 0                   & 0                   & 0                   & 0                   & 0                   & 0                   & 0                   & 0                   & 0                  \\\\\n",
       "\t 2340196             & 벨울림              & NA                  & 0                   & 0                   & 0                   & 0                   & 0                   & 0                   & 0                   & 0                   & 0                   & 0                   & 0                   & 0                  \\\\\n",
       "\t 2340196             & 컨설팅              & NA                  & 0                   & 0                   & 0                   & 0                   & 0                   & 0                   & 0                   & 0                   & 0                   & 0                   & 0                   & 0                  \\\\\n",
       "\t 2340196             & 응대중보류          & NA                  & 0                   & 0                   & 0                   & 0                   & 0                   & 0                   & 0                   & 0                   & 0                   & 0                   & 0                   & 0                  \\\\\n",
       "\t 2340196             & 응대                & NA                  & 0                   & 0                   & 0                   & 0                   & 0                   & 0                   & 0                   & 0                   & 0                   & 0                   & 0                   & 0                  \\\\\n",
       "\t 2340196             & 후처리              & NA                  & 0                   & 0                   & 0                   & 0                   & 0                   & 0                   & 0                   & 0                   & 0                   & 0                   & 0                   & 0                  \\\\\n",
       "\t 2340196             & ACWTIMW3            & NA                  & 0                   & 0                   & 0                   & 0                   & 0                   & 0                   & 0                   & 0                   & 0                   & 0                   & 0                   & 0                  \\\\\n",
       "\t 2340197             & 콜처리\\_응답       & 2016-12-20 17:57:11 & 0                   & 200312              & 200312              & 0                   & 0                   & 0                   & 0                   & 0                   & 0                   & 0                   & 0                   & 0                  \\\\\n",
       "\t 2340197             & 응대                & 2016-12-20 17:57:13 & 0                   & 200312              & 200312              & 0                   & 0                   & 0                   & 0                   & 0                   & 0                   & 0                   & 0                   & 0                  \\\\\n",
       "\t 2340197             & 후처리              & 2016-12-20 18:01:47 & 0                   & 200312              & 200312              & 0                   & 0                   & 0                   & 0                   & 0                   & 0                   & 0                   & 0                   & 0                  \\\\\n",
       "\t 2340197             & ACWTIMW3            & 2016-12-20 18:01:50 & 0                   & 200312              & 200312              & 0                   & 0                   & 0                   & 0                   & 0                   & 0                   & 0                   & 0                   & 0                  \\\\\n",
       "\\end{tabular}\n"
      ],
      "text/markdown": [
       "\n",
       "CALLID | ACTIVITY | TIMESTAMP | 발신상담원 | 응답상담원 | 발신응답상담원 | 보조요청여부 | 난청여부 | 컨퍼런스여부 | 직접상담원통화대기여부 | 보류중포기여부 | 불량통화추적활성화여부 | 감청여부 | 호전환여부 | 상담원에의한종료여부 | \n",
       "|---|---|---|---|---|---|---|---|---|---|---|---|---|---|---|---|---|---|---|---|\n",
       "| 2340195             | 콜처리_연결         | 2016-12-20 18:00:16 | 0                   | 0                   | 0                   | 0                   | 0                   | 0                   | 0                   | 0                   | 0                   | 0                   | 0                   | 0                   | \n",
       "| 2340195             | 벨울림              | NA                  | 0                   | 0                   | 0                   | 0                   | 0                   | 0                   | 0                   | 0                   | 0                   | 0                   | 0                   | 0                   | \n",
       "| 2340195             | 큐대기              | NA                  | 0                   | 0                   | 0                   | 0                   | 0                   | 0                   | 0                   | 0                   | 0                   | 0                   | 0                   | 0                   | \n",
       "| 2340195             | 컨설팅              | NA                  | 0                   | 0                   | 0                   | 0                   | 0                   | 0                   | 0                   | 0                   | 0                   | 0                   | 0                   | 0                   | \n",
       "| 2340195             | 응대중보류          | NA                  | 0                   | 0                   | 0                   | 0                   | 0                   | 0                   | 0                   | 0                   | 0                   | 0                   | 0                   | 0                   | \n",
       "| 2340195             | 응대                | NA                  | 0                   | 0                   | 0                   | 0                   | 0                   | 0                   | 0                   | 0                   | 0                   | 0                   | 0                   | 0                   | \n",
       "| 2340195             | 후처리              | NA                  | 0                   | 0                   | 0                   | 0                   | 0                   | 0                   | 0                   | 0                   | 0                   | 0                   | 0                   | 0                   | \n",
       "| 2340195             | ACWTIMW3            | NA                  | 0                   | 0                   | 0                   | 0                   | 0                   | 0                   | 0                   | 0                   | 0                   | 0                   | 0                   | 0                   | \n",
       "| 2340196             | 큐대기              | 2016-12-20 18:01:23 | 0                   | 0                   | 0                   | 0                   | 0                   | 0                   | 0                   | 0                   | 0                   | 0                   | 0                   | 0                   | \n",
       "| 2340196             | 콜처리_연결         | 2016-12-20 18:01:24 | 0                   | 0                   | 0                   | 0                   | 0                   | 0                   | 0                   | 0                   | 0                   | 0                   | 0                   | 0                   | \n",
       "| 2340196             | 벨울림              | NA                  | 0                   | 0                   | 0                   | 0                   | 0                   | 0                   | 0                   | 0                   | 0                   | 0                   | 0                   | 0                   | \n",
       "| 2340196             | 컨설팅              | NA                  | 0                   | 0                   | 0                   | 0                   | 0                   | 0                   | 0                   | 0                   | 0                   | 0                   | 0                   | 0                   | \n",
       "| 2340196             | 응대중보류          | NA                  | 0                   | 0                   | 0                   | 0                   | 0                   | 0                   | 0                   | 0                   | 0                   | 0                   | 0                   | 0                   | \n",
       "| 2340196             | 응대                | NA                  | 0                   | 0                   | 0                   | 0                   | 0                   | 0                   | 0                   | 0                   | 0                   | 0                   | 0                   | 0                   | \n",
       "| 2340196             | 후처리              | NA                  | 0                   | 0                   | 0                   | 0                   | 0                   | 0                   | 0                   | 0                   | 0                   | 0                   | 0                   | 0                   | \n",
       "| 2340196             | ACWTIMW3            | NA                  | 0                   | 0                   | 0                   | 0                   | 0                   | 0                   | 0                   | 0                   | 0                   | 0                   | 0                   | 0                   | \n",
       "| 2340197             | 콜처리_응답         | 2016-12-20 17:57:11 | 0                   | 200312              | 200312              | 0                   | 0                   | 0                   | 0                   | 0                   | 0                   | 0                   | 0                   | 0                   | \n",
       "| 2340197             | 응대                | 2016-12-20 17:57:13 | 0                   | 200312              | 200312              | 0                   | 0                   | 0                   | 0                   | 0                   | 0                   | 0                   | 0                   | 0                   | \n",
       "| 2340197             | 후처리              | 2016-12-20 18:01:47 | 0                   | 200312              | 200312              | 0                   | 0                   | 0                   | 0                   | 0                   | 0                   | 0                   | 0                   | 0                   | \n",
       "| 2340197             | ACWTIMW3            | 2016-12-20 18:01:50 | 0                   | 200312              | 200312              | 0                   | 0                   | 0                   | 0                   | 0                   | 0                   | 0                   | 0                   | 0                   | \n",
       "\n",
       "\n"
      ],
      "text/plain": [
       "   CALLID  ACTIVITY    TIMESTAMP           발신상담원 응답상담원 발신응답상담원\n",
       "1  2340195 콜처리_연결 2016-12-20 18:00:16 0          0          0             \n",
       "2  2340195 벨울림      NA                  0          0          0             \n",
       "3  2340195 큐대기      NA                  0          0          0             \n",
       "4  2340195 컨설팅      NA                  0          0          0             \n",
       "5  2340195 응대중보류  NA                  0          0          0             \n",
       "6  2340195 응대        NA                  0          0          0             \n",
       "7  2340195 후처리      NA                  0          0          0             \n",
       "8  2340195 ACWTIMW3    NA                  0          0          0             \n",
       "9  2340196 큐대기      2016-12-20 18:01:23 0          0          0             \n",
       "10 2340196 콜처리_연결 2016-12-20 18:01:24 0          0          0             \n",
       "11 2340196 벨울림      NA                  0          0          0             \n",
       "12 2340196 컨설팅      NA                  0          0          0             \n",
       "13 2340196 응대중보류  NA                  0          0          0             \n",
       "14 2340196 응대        NA                  0          0          0             \n",
       "15 2340196 후처리      NA                  0          0          0             \n",
       "16 2340196 ACWTIMW3    NA                  0          0          0             \n",
       "17 2340197 콜처리_응답 2016-12-20 17:57:11 0          200312     200312        \n",
       "18 2340197 응대        2016-12-20 17:57:13 0          200312     200312        \n",
       "19 2340197 후처리      2016-12-20 18:01:47 0          200312     200312        \n",
       "20 2340197 ACWTIMW3    2016-12-20 18:01:50 0          200312     200312        \n",
       "   보조요청여부 난청여부 컨퍼런스여부 직접상담원통화대기여부 보류중포기여부\n",
       "1  0            0        0            0                      0             \n",
       "2  0            0        0            0                      0             \n",
       "3  0            0        0            0                      0             \n",
       "4  0            0        0            0                      0             \n",
       "5  0            0        0            0                      0             \n",
       "6  0            0        0            0                      0             \n",
       "7  0            0        0            0                      0             \n",
       "8  0            0        0            0                      0             \n",
       "9  0            0        0            0                      0             \n",
       "10 0            0        0            0                      0             \n",
       "11 0            0        0            0                      0             \n",
       "12 0            0        0            0                      0             \n",
       "13 0            0        0            0                      0             \n",
       "14 0            0        0            0                      0             \n",
       "15 0            0        0            0                      0             \n",
       "16 0            0        0            0                      0             \n",
       "17 0            0        0            0                      0             \n",
       "18 0            0        0            0                      0             \n",
       "19 0            0        0            0                      0             \n",
       "20 0            0        0            0                      0             \n",
       "   불량통화추적활성화여부 감청여부 호전환여부 상담원에의한종료여부\n",
       "1  0                      0        0          0                   \n",
       "2  0                      0        0          0                   \n",
       "3  0                      0        0          0                   \n",
       "4  0                      0        0          0                   \n",
       "5  0                      0        0          0                   \n",
       "6  0                      0        0          0                   \n",
       "7  0                      0        0          0                   \n",
       "8  0                      0        0          0                   \n",
       "9  0                      0        0          0                   \n",
       "10 0                      0        0          0                   \n",
       "11 0                      0        0          0                   \n",
       "12 0                      0        0          0                   \n",
       "13 0                      0        0          0                   \n",
       "14 0                      0        0          0                   \n",
       "15 0                      0        0          0                   \n",
       "16 0                      0        0          0                   \n",
       "17 0                      0        0          0                   \n",
       "18 0                      0        0          0                   \n",
       "19 0                      0        0          0                   \n",
       "20 0                      0        0          0                   "
      ]
     },
     "metadata": {},
     "output_type": "display_data"
    }
   ],
   "source": [
    "actmelt6$발신상담원 <- ifelse(is.na(actmelt6$발신상담원) == TRUE, \"0\", actmelt6$발신상담원)\n",
    "actmelt6$응답상담원 <- ifelse(is.na(actmelt6$응답상담원) == TRUE, \"0\", actmelt6$응답상담원)\n",
    "actmelt6$발신응답상담원 <- ifelse(is.na(actmelt6$발신응답상담원) == TRUE, \"0\", actmelt6$발신응답상담원)\n",
    "\n",
    "head(actmelt6, 20)"
   ]
  },
  {
   "cell_type": "code",
   "execution_count": 93,
   "metadata": {},
   "outputs": [
    {
     "name": "stdout",
     "output_type": "stream",
     "text": [
      "'data.frame':\t1863879 obs. of  15 variables:\n",
      " $ CALLID                : chr  \"2340195\" \"2340196\" \"2340196\" \"2340197\" ...\n",
      " $ ACTIVITY              : chr  \"콜처리_연결\" \"큐대기\" \"콜처리_연결\" \"콜처리_응답\" ...\n",
      " $ TIMESTAMP             : chr  \"2016-12-20 18:00:16\" \"2016-12-20 18:01:23\" \"2016-12-20 18:01:24\" \"2016-12-20 17:57:11\" ...\n",
      " $ 발신상담원            : chr  \"0\" \"0\" \"0\" \"0\" ...\n",
      " $ 응답상담원            : chr  \"0\" \"0\" \"0\" \"200312\" ...\n",
      " $ 발신응답상담원        : chr  \"0\" \"0\" \"0\" \"200312\" ...\n",
      " $ 보조요청여부          : int  0 0 0 0 0 0 0 0 0 0 ...\n",
      " $ 난청여부              : int  0 0 0 0 0 0 0 0 0 0 ...\n",
      " $ 컨퍼런스여부          : int  0 0 0 0 0 0 0 0 0 0 ...\n",
      " $ 직접상담원통화대기여부: int  0 0 0 0 0 0 0 0 0 0 ...\n",
      " $ 보류중포기여부        : int  0 0 0 0 0 0 0 0 0 0 ...\n",
      " $ 불량통화추적활성화여부: int  0 0 0 0 0 0 0 0 0 0 ...\n",
      " $ 감청여부              : int  0 0 0 0 0 0 0 0 0 0 ...\n",
      " $ 호전환여부            : int  0 0 0 0 0 0 0 0 0 0 ...\n",
      " $ 상담원에의한종료여부  : int  0 0 0 0 0 0 0 0 0 0 ...\n",
      " - attr(*, \"na.action\")=Class 'omit'  Named int [1:5126009] 2 3 4 5 6 7 8 11 12 13 ...\n",
      "  .. ..- attr(*, \"names\")= chr [1:5126009] \"2\" \"3\" \"4\" \"5\" ...\n"
     ]
    }
   ],
   "source": [
    "actmelt7 <- na.omit(actmelt6)\n",
    "str(actmelt7)"
   ]
  },
  {
   "cell_type": "code",
   "execution_count": 94,
   "metadata": {
    "scrolled": true
   },
   "outputs": [
    {
     "data": {
      "text/html": [
       "<table>\n",
       "<thead><tr><th></th><th scope=col>CALLID</th><th scope=col>ACTIVITY</th><th scope=col>TIMESTAMP</th><th scope=col>발신상담원</th><th scope=col>응답상담원</th><th scope=col>발신응답상담원</th><th scope=col>보조요청여부</th><th scope=col>난청여부</th><th scope=col>컨퍼런스여부</th><th scope=col>직접상담원통화대기여부</th><th scope=col>보류중포기여부</th><th scope=col>불량통화추적활성화여부</th><th scope=col>감청여부</th><th scope=col>호전환여부</th><th scope=col>상담원에의한종료여부</th></tr></thead>\n",
       "<tbody>\n",
       "\t<tr><th scope=row>1</th><td>2340195            </td><td>콜처리_연결        </td><td>2016-12-20 18:00:16</td><td>0                  </td><td>0                  </td><td>0                  </td><td>0                  </td><td>0                  </td><td>0                  </td><td>0                  </td><td>0                  </td><td>0                  </td><td>0                  </td><td>0                  </td><td>0                  </td></tr>\n",
       "\t<tr><th scope=row>9</th><td>2340196            </td><td>큐대기             </td><td>2016-12-20 18:01:23</td><td>0                  </td><td>0                  </td><td>0                  </td><td>0                  </td><td>0                  </td><td>0                  </td><td>0                  </td><td>0                  </td><td>0                  </td><td>0                  </td><td>0                  </td><td>0                  </td></tr>\n",
       "\t<tr><th scope=row>10</th><td>2340196            </td><td>콜처리_연결        </td><td>2016-12-20 18:01:24</td><td>0                  </td><td>0                  </td><td>0                  </td><td>0                  </td><td>0                  </td><td>0                  </td><td>0                  </td><td>0                  </td><td>0                  </td><td>0                  </td><td>0                  </td><td>0                  </td></tr>\n",
       "\t<tr><th scope=row>17</th><td>2340197            </td><td>콜처리_응답        </td><td>2016-12-20 17:57:11</td><td>0                  </td><td>200312             </td><td>200312             </td><td>0                  </td><td>0                  </td><td>0                  </td><td>0                  </td><td>0                  </td><td>0                  </td><td>0                  </td><td>0                  </td><td>0                  </td></tr>\n",
       "\t<tr><th scope=row>18</th><td>2340197            </td><td>응대               </td><td>2016-12-20 17:57:13</td><td>0                  </td><td>200312             </td><td>200312             </td><td>0                  </td><td>0                  </td><td>0                  </td><td>0                  </td><td>0                  </td><td>0                  </td><td>0                  </td><td>0                  </td><td>0                  </td></tr>\n",
       "\t<tr><th scope=row>19</th><td>2340197            </td><td>후처리             </td><td>2016-12-20 18:01:47</td><td>0                  </td><td>200312             </td><td>200312             </td><td>0                  </td><td>0                  </td><td>0                  </td><td>0                  </td><td>0                  </td><td>0                  </td><td>0                  </td><td>0                  </td><td>0                  </td></tr>\n",
       "\t<tr><th scope=row>20</th><td>2340197            </td><td>ACWTIMW3           </td><td>2016-12-20 18:01:50</td><td>0                  </td><td>200312             </td><td>200312             </td><td>0                  </td><td>0                  </td><td>0                  </td><td>0                  </td><td>0                  </td><td>0                  </td><td>0                  </td><td>0                  </td><td>0                  </td></tr>\n",
       "\t<tr><th scope=row>25</th><td>2340198            </td><td>큐대기             </td><td>2016-12-20 18:00:15</td><td>0                  </td><td>0                  </td><td>0                  </td><td>0                  </td><td>0                  </td><td>0                  </td><td>0                  </td><td>0                  </td><td>0                  </td><td>0                  </td><td>0                  </td><td>0                  </td></tr>\n",
       "\t<tr><th scope=row>26</th><td>2340198            </td><td>콜처리_포기        </td><td>2016-12-20 18:00:55</td><td>0                  </td><td>0                  </td><td>0                  </td><td>0                  </td><td>0                  </td><td>0                  </td><td>0                  </td><td>0                  </td><td>0                  </td><td>0                  </td><td>0                  </td><td>0                  </td></tr>\n",
       "\t<tr><th scope=row>33</th><td>2340199            </td><td>큐대기             </td><td>2016-12-20 17:56:25</td><td>0                  </td><td>200118             </td><td>200118             </td><td>0                  </td><td>0                  </td><td>0                  </td><td>0                  </td><td>0                  </td><td>0                  </td><td>0                  </td><td>0                  </td><td>0                  </td></tr>\n",
       "\t<tr><th scope=row>34</th><td>2340199            </td><td>콜처리_응답        </td><td>2016-12-20 17:58:03</td><td>0                  </td><td>200118             </td><td>200118             </td><td>0                  </td><td>0                  </td><td>0                  </td><td>0                  </td><td>0                  </td><td>0                  </td><td>0                  </td><td>0                  </td><td>0                  </td></tr>\n",
       "\t<tr><th scope=row>35</th><td>2340199            </td><td>응대               </td><td>2016-12-20 17:59:43</td><td>0                  </td><td>200118             </td><td>200118             </td><td>0                  </td><td>0                  </td><td>0                  </td><td>0                  </td><td>0                  </td><td>0                  </td><td>0                  </td><td>0                  </td><td>0                  </td></tr>\n",
       "\t<tr><th scope=row>41</th><td>2340200            </td><td>큐대기             </td><td>2016-12-20 18:01:00</td><td>0                  </td><td>0                  </td><td>0                  </td><td>0                  </td><td>0                  </td><td>0                  </td><td>0                  </td><td>0                  </td><td>0                  </td><td>0                  </td><td>0                  </td><td>0                  </td></tr>\n",
       "\t<tr><th scope=row>42</th><td>2340200            </td><td>콜처리_연결        </td><td>2016-12-20 18:01:01</td><td>0                  </td><td>0                  </td><td>0                  </td><td>0                  </td><td>0                  </td><td>0                  </td><td>0                  </td><td>0                  </td><td>0                  </td><td>0                  </td><td>0                  </td><td>0                  </td></tr>\n",
       "\t<tr><th scope=row>49</th><td>2340201            </td><td>콜처리_응답        </td><td>2016-12-20 17:58:02</td><td>0                  </td><td>200119             </td><td>200119             </td><td>0                  </td><td>0                  </td><td>1                  </td><td>0                  </td><td>0                  </td><td>0                  </td><td>0                  </td><td>0                  </td><td>1                  </td></tr>\n",
       "\t<tr><th scope=row>50</th><td>2340201            </td><td>응대중보류         </td><td>2016-12-20 17:58:04</td><td>0                  </td><td>200119             </td><td>200119             </td><td>0                  </td><td>0                  </td><td>1                  </td><td>0                  </td><td>0                  </td><td>0                  </td><td>0                  </td><td>0                  </td><td>1                  </td></tr>\n",
       "\t<tr><th scope=row>51</th><td>2340201            </td><td>응대               </td><td>2016-12-20 17:58:26</td><td>0                  </td><td>200119             </td><td>200119             </td><td>0                  </td><td>0                  </td><td>1                  </td><td>0                  </td><td>0                  </td><td>0                  </td><td>0                  </td><td>0                  </td><td>1                  </td></tr>\n",
       "\t<tr><th scope=row>52</th><td>2340201            </td><td>후처리             </td><td>2016-12-20 18:01:55</td><td>0                  </td><td>200119             </td><td>200119             </td><td>0                  </td><td>0                  </td><td>1                  </td><td>0                  </td><td>0                  </td><td>0                  </td><td>0                  </td><td>0                  </td><td>1                  </td></tr>\n",
       "\t<tr><th scope=row>53</th><td>2340201            </td><td>ACWTIMW3           </td><td>2016-12-20 18:01:56</td><td>0                  </td><td>200119             </td><td>200119             </td><td>0                  </td><td>0                  </td><td>1                  </td><td>0                  </td><td>0                  </td><td>0                  </td><td>0                  </td><td>0                  </td><td>1                  </td></tr>\n",
       "\t<tr><th scope=row>57</th><td>2340202            </td><td>콜처리_연결        </td><td>2016-12-20 17:57:37</td><td>0                  </td><td>0                  </td><td>0                  </td><td>0                  </td><td>0                  </td><td>0                  </td><td>0                  </td><td>0                  </td><td>0                  </td><td>0                  </td><td>0                  </td><td>0                  </td></tr>\n",
       "\t<tr><th scope=row>65</th><td>2340203            </td><td>큐대기             </td><td>2016-12-20 17:57:08</td><td>0                  </td><td>0                  </td><td>0                  </td><td>0                  </td><td>0                  </td><td>0                  </td><td>0                  </td><td>0                  </td><td>0                  </td><td>0                  </td><td>0                  </td><td>0                  </td></tr>\n",
       "\t<tr><th scope=row>66</th><td>2340203            </td><td>콜처리_연결        </td><td>2016-12-20 17:57:09</td><td>0                  </td><td>0                  </td><td>0                  </td><td>0                  </td><td>0                  </td><td>0                  </td><td>0                  </td><td>0                  </td><td>0                  </td><td>0                  </td><td>0                  </td><td>0                  </td></tr>\n",
       "\t<tr><th scope=row>73</th><td>2340204            </td><td>콜처리_연결        </td><td>2016-12-20 18:01:37</td><td>200124             </td><td>0                  </td><td>200124             </td><td>0                  </td><td>0                  </td><td>0                  </td><td>0                  </td><td>0                  </td><td>0                  </td><td>0                  </td><td>0                  </td><td>0                  </td></tr>\n",
       "\t<tr><th scope=row>74</th><td>2340204            </td><td>컨설팅             </td><td>2016-12-20 18:01:38</td><td>200124             </td><td>0                  </td><td>200124             </td><td>0                  </td><td>0                  </td><td>0                  </td><td>0                  </td><td>0                  </td><td>0                  </td><td>0                  </td><td>0                  </td><td>0                  </td></tr>\n",
       "\t<tr><th scope=row>81</th><td>2340205            </td><td>큐대기             </td><td>2016-12-20 17:58:21</td><td>0                  </td><td>0                  </td><td>0                  </td><td>0                  </td><td>0                  </td><td>0                  </td><td>0                  </td><td>0                  </td><td>0                  </td><td>0                  </td><td>0                  </td><td>0                  </td></tr>\n",
       "\t<tr><th scope=row>82</th><td>2340205            </td><td>콜처리_연결        </td><td>2016-12-20 17:58:22</td><td>0                  </td><td>0                  </td><td>0                  </td><td>0                  </td><td>0                  </td><td>0                  </td><td>0                  </td><td>0                  </td><td>0                  </td><td>0                  </td><td>0                  </td><td>0                  </td></tr>\n",
       "\t<tr><th scope=row>89</th><td>2340206            </td><td>큐대기             </td><td>2016-12-20 18:01:39</td><td>0                  </td><td>0                  </td><td>0                  </td><td>0                  </td><td>0                  </td><td>0                  </td><td>0                  </td><td>0                  </td><td>0                  </td><td>0                  </td><td>0                  </td><td>0                  </td></tr>\n",
       "\t<tr><th scope=row>90</th><td>2340206            </td><td>콜처리_포기        </td><td>2016-12-20 18:01:42</td><td>0                  </td><td>0                  </td><td>0                  </td><td>0                  </td><td>0                  </td><td>0                  </td><td>0                  </td><td>0                  </td><td>0                  </td><td>0                  </td><td>0                  </td><td>0                  </td></tr>\n",
       "\t<tr><th scope=row>97</th><td>2340207            </td><td>큐대기             </td><td>2016-12-20 18:01:20</td><td>200334             </td><td>0                  </td><td>200334             </td><td>0                  </td><td>0                  </td><td>0                  </td><td>0                  </td><td>0                  </td><td>0                  </td><td>0                  </td><td>0                  </td><td>0                  </td></tr>\n",
       "\t<tr><th scope=row>98</th><td>2340207            </td><td>콜처리_연결        </td><td>2016-12-20 18:01:21</td><td>200334             </td><td>0                  </td><td>200334             </td><td>0                  </td><td>0                  </td><td>0                  </td><td>0                  </td><td>0                  </td><td>0                  </td><td>0                  </td><td>0                  </td><td>0                  </td></tr>\n",
       "</tbody>\n",
       "</table>\n"
      ],
      "text/latex": [
       "\\begin{tabular}{r|lllllllllllllll}\n",
       "  & CALLID & ACTIVITY & TIMESTAMP & 발신상담원 & 응답상담원 & 발신응답상담원 & 보조요청여부 & 난청여부 & 컨퍼런스여부 & 직접상담원통화대기여부 & 보류중포기여부 & 불량통화추적활성화여부 & 감청여부 & 호전환여부 & 상담원에의한종료여부\\\\\n",
       "\\hline\n",
       "\t1 & 2340195             & 콜처리\\_연결       & 2016-12-20 18:00:16 & 0                   & 0                   & 0                   & 0                   & 0                   & 0                   & 0                   & 0                   & 0                   & 0                   & 0                   & 0                  \\\\\n",
       "\t9 & 2340196             & 큐대기              & 2016-12-20 18:01:23 & 0                   & 0                   & 0                   & 0                   & 0                   & 0                   & 0                   & 0                   & 0                   & 0                   & 0                   & 0                  \\\\\n",
       "\t10 & 2340196             & 콜처리\\_연결       & 2016-12-20 18:01:24 & 0                   & 0                   & 0                   & 0                   & 0                   & 0                   & 0                   & 0                   & 0                   & 0                   & 0                   & 0                  \\\\\n",
       "\t17 & 2340197             & 콜처리\\_응답       & 2016-12-20 17:57:11 & 0                   & 200312              & 200312              & 0                   & 0                   & 0                   & 0                   & 0                   & 0                   & 0                   & 0                   & 0                  \\\\\n",
       "\t18 & 2340197             & 응대                & 2016-12-20 17:57:13 & 0                   & 200312              & 200312              & 0                   & 0                   & 0                   & 0                   & 0                   & 0                   & 0                   & 0                   & 0                  \\\\\n",
       "\t19 & 2340197             & 후처리              & 2016-12-20 18:01:47 & 0                   & 200312              & 200312              & 0                   & 0                   & 0                   & 0                   & 0                   & 0                   & 0                   & 0                   & 0                  \\\\\n",
       "\t20 & 2340197             & ACWTIMW3            & 2016-12-20 18:01:50 & 0                   & 200312              & 200312              & 0                   & 0                   & 0                   & 0                   & 0                   & 0                   & 0                   & 0                   & 0                  \\\\\n",
       "\t25 & 2340198             & 큐대기              & 2016-12-20 18:00:15 & 0                   & 0                   & 0                   & 0                   & 0                   & 0                   & 0                   & 0                   & 0                   & 0                   & 0                   & 0                  \\\\\n",
       "\t26 & 2340198             & 콜처리\\_포기       & 2016-12-20 18:00:55 & 0                   & 0                   & 0                   & 0                   & 0                   & 0                   & 0                   & 0                   & 0                   & 0                   & 0                   & 0                  \\\\\n",
       "\t33 & 2340199             & 큐대기              & 2016-12-20 17:56:25 & 0                   & 200118              & 200118              & 0                   & 0                   & 0                   & 0                   & 0                   & 0                   & 0                   & 0                   & 0                  \\\\\n",
       "\t34 & 2340199             & 콜처리\\_응답       & 2016-12-20 17:58:03 & 0                   & 200118              & 200118              & 0                   & 0                   & 0                   & 0                   & 0                   & 0                   & 0                   & 0                   & 0                  \\\\\n",
       "\t35 & 2340199             & 응대                & 2016-12-20 17:59:43 & 0                   & 200118              & 200118              & 0                   & 0                   & 0                   & 0                   & 0                   & 0                   & 0                   & 0                   & 0                  \\\\\n",
       "\t41 & 2340200             & 큐대기              & 2016-12-20 18:01:00 & 0                   & 0                   & 0                   & 0                   & 0                   & 0                   & 0                   & 0                   & 0                   & 0                   & 0                   & 0                  \\\\\n",
       "\t42 & 2340200             & 콜처리\\_연결       & 2016-12-20 18:01:01 & 0                   & 0                   & 0                   & 0                   & 0                   & 0                   & 0                   & 0                   & 0                   & 0                   & 0                   & 0                  \\\\\n",
       "\t49 & 2340201             & 콜처리\\_응답       & 2016-12-20 17:58:02 & 0                   & 200119              & 200119              & 0                   & 0                   & 1                   & 0                   & 0                   & 0                   & 0                   & 0                   & 1                  \\\\\n",
       "\t50 & 2340201             & 응대중보류          & 2016-12-20 17:58:04 & 0                   & 200119              & 200119              & 0                   & 0                   & 1                   & 0                   & 0                   & 0                   & 0                   & 0                   & 1                  \\\\\n",
       "\t51 & 2340201             & 응대                & 2016-12-20 17:58:26 & 0                   & 200119              & 200119              & 0                   & 0                   & 1                   & 0                   & 0                   & 0                   & 0                   & 0                   & 1                  \\\\\n",
       "\t52 & 2340201             & 후처리              & 2016-12-20 18:01:55 & 0                   & 200119              & 200119              & 0                   & 0                   & 1                   & 0                   & 0                   & 0                   & 0                   & 0                   & 1                  \\\\\n",
       "\t53 & 2340201             & ACWTIMW3            & 2016-12-20 18:01:56 & 0                   & 200119              & 200119              & 0                   & 0                   & 1                   & 0                   & 0                   & 0                   & 0                   & 0                   & 1                  \\\\\n",
       "\t57 & 2340202             & 콜처리\\_연결       & 2016-12-20 17:57:37 & 0                   & 0                   & 0                   & 0                   & 0                   & 0                   & 0                   & 0                   & 0                   & 0                   & 0                   & 0                  \\\\\n",
       "\t65 & 2340203             & 큐대기              & 2016-12-20 17:57:08 & 0                   & 0                   & 0                   & 0                   & 0                   & 0                   & 0                   & 0                   & 0                   & 0                   & 0                   & 0                  \\\\\n",
       "\t66 & 2340203             & 콜처리\\_연결       & 2016-12-20 17:57:09 & 0                   & 0                   & 0                   & 0                   & 0                   & 0                   & 0                   & 0                   & 0                   & 0                   & 0                   & 0                  \\\\\n",
       "\t73 & 2340204             & 콜처리\\_연결       & 2016-12-20 18:01:37 & 200124              & 0                   & 200124              & 0                   & 0                   & 0                   & 0                   & 0                   & 0                   & 0                   & 0                   & 0                  \\\\\n",
       "\t74 & 2340204             & 컨설팅              & 2016-12-20 18:01:38 & 200124              & 0                   & 200124              & 0                   & 0                   & 0                   & 0                   & 0                   & 0                   & 0                   & 0                   & 0                  \\\\\n",
       "\t81 & 2340205             & 큐대기              & 2016-12-20 17:58:21 & 0                   & 0                   & 0                   & 0                   & 0                   & 0                   & 0                   & 0                   & 0                   & 0                   & 0                   & 0                  \\\\\n",
       "\t82 & 2340205             & 콜처리\\_연결       & 2016-12-20 17:58:22 & 0                   & 0                   & 0                   & 0                   & 0                   & 0                   & 0                   & 0                   & 0                   & 0                   & 0                   & 0                  \\\\\n",
       "\t89 & 2340206             & 큐대기              & 2016-12-20 18:01:39 & 0                   & 0                   & 0                   & 0                   & 0                   & 0                   & 0                   & 0                   & 0                   & 0                   & 0                   & 0                  \\\\\n",
       "\t90 & 2340206             & 콜처리\\_포기       & 2016-12-20 18:01:42 & 0                   & 0                   & 0                   & 0                   & 0                   & 0                   & 0                   & 0                   & 0                   & 0                   & 0                   & 0                  \\\\\n",
       "\t97 & 2340207             & 큐대기              & 2016-12-20 18:01:20 & 200334              & 0                   & 200334              & 0                   & 0                   & 0                   & 0                   & 0                   & 0                   & 0                   & 0                   & 0                  \\\\\n",
       "\t98 & 2340207             & 콜처리\\_연결       & 2016-12-20 18:01:21 & 200334              & 0                   & 200334              & 0                   & 0                   & 0                   & 0                   & 0                   & 0                   & 0                   & 0                   & 0                  \\\\\n",
       "\\end{tabular}\n"
      ],
      "text/markdown": [
       "\n",
       "| <!--/--> | CALLID | ACTIVITY | TIMESTAMP | 발신상담원 | 응답상담원 | 발신응답상담원 | 보조요청여부 | 난청여부 | 컨퍼런스여부 | 직접상담원통화대기여부 | 보류중포기여부 | 불량통화추적활성화여부 | 감청여부 | 호전환여부 | 상담원에의한종료여부 | \n",
       "|---|---|---|---|---|---|---|---|---|---|---|---|---|---|---|---|---|---|---|---|---|---|---|---|---|---|---|---|---|---|\n",
       "| 1 | 2340195             | 콜처리_연결         | 2016-12-20 18:00:16 | 0                   | 0                   | 0                   | 0                   | 0                   | 0                   | 0                   | 0                   | 0                   | 0                   | 0                   | 0                   | \n",
       "| 9 | 2340196             | 큐대기              | 2016-12-20 18:01:23 | 0                   | 0                   | 0                   | 0                   | 0                   | 0                   | 0                   | 0                   | 0                   | 0                   | 0                   | 0                   | \n",
       "| 10 | 2340196             | 콜처리_연결         | 2016-12-20 18:01:24 | 0                   | 0                   | 0                   | 0                   | 0                   | 0                   | 0                   | 0                   | 0                   | 0                   | 0                   | 0                   | \n",
       "| 17 | 2340197             | 콜처리_응답         | 2016-12-20 17:57:11 | 0                   | 200312              | 200312              | 0                   | 0                   | 0                   | 0                   | 0                   | 0                   | 0                   | 0                   | 0                   | \n",
       "| 18 | 2340197             | 응대                | 2016-12-20 17:57:13 | 0                   | 200312              | 200312              | 0                   | 0                   | 0                   | 0                   | 0                   | 0                   | 0                   | 0                   | 0                   | \n",
       "| 19 | 2340197             | 후처리              | 2016-12-20 18:01:47 | 0                   | 200312              | 200312              | 0                   | 0                   | 0                   | 0                   | 0                   | 0                   | 0                   | 0                   | 0                   | \n",
       "| 20 | 2340197             | ACWTIMW3            | 2016-12-20 18:01:50 | 0                   | 200312              | 200312              | 0                   | 0                   | 0                   | 0                   | 0                   | 0                   | 0                   | 0                   | 0                   | \n",
       "| 25 | 2340198             | 큐대기              | 2016-12-20 18:00:15 | 0                   | 0                   | 0                   | 0                   | 0                   | 0                   | 0                   | 0                   | 0                   | 0                   | 0                   | 0                   | \n",
       "| 26 | 2340198             | 콜처리_포기         | 2016-12-20 18:00:55 | 0                   | 0                   | 0                   | 0                   | 0                   | 0                   | 0                   | 0                   | 0                   | 0                   | 0                   | 0                   | \n",
       "| 33 | 2340199             | 큐대기              | 2016-12-20 17:56:25 | 0                   | 200118              | 200118              | 0                   | 0                   | 0                   | 0                   | 0                   | 0                   | 0                   | 0                   | 0                   | \n",
       "| 34 | 2340199             | 콜처리_응답         | 2016-12-20 17:58:03 | 0                   | 200118              | 200118              | 0                   | 0                   | 0                   | 0                   | 0                   | 0                   | 0                   | 0                   | 0                   | \n",
       "| 35 | 2340199             | 응대                | 2016-12-20 17:59:43 | 0                   | 200118              | 200118              | 0                   | 0                   | 0                   | 0                   | 0                   | 0                   | 0                   | 0                   | 0                   | \n",
       "| 41 | 2340200             | 큐대기              | 2016-12-20 18:01:00 | 0                   | 0                   | 0                   | 0                   | 0                   | 0                   | 0                   | 0                   | 0                   | 0                   | 0                   | 0                   | \n",
       "| 42 | 2340200             | 콜처리_연결         | 2016-12-20 18:01:01 | 0                   | 0                   | 0                   | 0                   | 0                   | 0                   | 0                   | 0                   | 0                   | 0                   | 0                   | 0                   | \n",
       "| 49 | 2340201             | 콜처리_응답         | 2016-12-20 17:58:02 | 0                   | 200119              | 200119              | 0                   | 0                   | 1                   | 0                   | 0                   | 0                   | 0                   | 0                   | 1                   | \n",
       "| 50 | 2340201             | 응대중보류          | 2016-12-20 17:58:04 | 0                   | 200119              | 200119              | 0                   | 0                   | 1                   | 0                   | 0                   | 0                   | 0                   | 0                   | 1                   | \n",
       "| 51 | 2340201             | 응대                | 2016-12-20 17:58:26 | 0                   | 200119              | 200119              | 0                   | 0                   | 1                   | 0                   | 0                   | 0                   | 0                   | 0                   | 1                   | \n",
       "| 52 | 2340201             | 후처리              | 2016-12-20 18:01:55 | 0                   | 200119              | 200119              | 0                   | 0                   | 1                   | 0                   | 0                   | 0                   | 0                   | 0                   | 1                   | \n",
       "| 53 | 2340201             | ACWTIMW3            | 2016-12-20 18:01:56 | 0                   | 200119              | 200119              | 0                   | 0                   | 1                   | 0                   | 0                   | 0                   | 0                   | 0                   | 1                   | \n",
       "| 57 | 2340202             | 콜처리_연결         | 2016-12-20 17:57:37 | 0                   | 0                   | 0                   | 0                   | 0                   | 0                   | 0                   | 0                   | 0                   | 0                   | 0                   | 0                   | \n",
       "| 65 | 2340203             | 큐대기              | 2016-12-20 17:57:08 | 0                   | 0                   | 0                   | 0                   | 0                   | 0                   | 0                   | 0                   | 0                   | 0                   | 0                   | 0                   | \n",
       "| 66 | 2340203             | 콜처리_연결         | 2016-12-20 17:57:09 | 0                   | 0                   | 0                   | 0                   | 0                   | 0                   | 0                   | 0                   | 0                   | 0                   | 0                   | 0                   | \n",
       "| 73 | 2340204             | 콜처리_연결         | 2016-12-20 18:01:37 | 200124              | 0                   | 200124              | 0                   | 0                   | 0                   | 0                   | 0                   | 0                   | 0                   | 0                   | 0                   | \n",
       "| 74 | 2340204             | 컨설팅              | 2016-12-20 18:01:38 | 200124              | 0                   | 200124              | 0                   | 0                   | 0                   | 0                   | 0                   | 0                   | 0                   | 0                   | 0                   | \n",
       "| 81 | 2340205             | 큐대기              | 2016-12-20 17:58:21 | 0                   | 0                   | 0                   | 0                   | 0                   | 0                   | 0                   | 0                   | 0                   | 0                   | 0                   | 0                   | \n",
       "| 82 | 2340205             | 콜처리_연결         | 2016-12-20 17:58:22 | 0                   | 0                   | 0                   | 0                   | 0                   | 0                   | 0                   | 0                   | 0                   | 0                   | 0                   | 0                   | \n",
       "| 89 | 2340206             | 큐대기              | 2016-12-20 18:01:39 | 0                   | 0                   | 0                   | 0                   | 0                   | 0                   | 0                   | 0                   | 0                   | 0                   | 0                   | 0                   | \n",
       "| 90 | 2340206             | 콜처리_포기         | 2016-12-20 18:01:42 | 0                   | 0                   | 0                   | 0                   | 0                   | 0                   | 0                   | 0                   | 0                   | 0                   | 0                   | 0                   | \n",
       "| 97 | 2340207             | 큐대기              | 2016-12-20 18:01:20 | 200334              | 0                   | 200334              | 0                   | 0                   | 0                   | 0                   | 0                   | 0                   | 0                   | 0                   | 0                   | \n",
       "| 98 | 2340207             | 콜처리_연결         | 2016-12-20 18:01:21 | 200334              | 0                   | 200334              | 0                   | 0                   | 0                   | 0                   | 0                   | 0                   | 0                   | 0                   | 0                   | \n",
       "\n",
       "\n"
      ],
      "text/plain": [
       "   CALLID  ACTIVITY    TIMESTAMP           발신상담원 응답상담원 발신응답상담원\n",
       "1  2340195 콜처리_연결 2016-12-20 18:00:16 0          0          0             \n",
       "9  2340196 큐대기      2016-12-20 18:01:23 0          0          0             \n",
       "10 2340196 콜처리_연결 2016-12-20 18:01:24 0          0          0             \n",
       "17 2340197 콜처리_응답 2016-12-20 17:57:11 0          200312     200312        \n",
       "18 2340197 응대        2016-12-20 17:57:13 0          200312     200312        \n",
       "19 2340197 후처리      2016-12-20 18:01:47 0          200312     200312        \n",
       "20 2340197 ACWTIMW3    2016-12-20 18:01:50 0          200312     200312        \n",
       "25 2340198 큐대기      2016-12-20 18:00:15 0          0          0             \n",
       "26 2340198 콜처리_포기 2016-12-20 18:00:55 0          0          0             \n",
       "33 2340199 큐대기      2016-12-20 17:56:25 0          200118     200118        \n",
       "34 2340199 콜처리_응답 2016-12-20 17:58:03 0          200118     200118        \n",
       "35 2340199 응대        2016-12-20 17:59:43 0          200118     200118        \n",
       "41 2340200 큐대기      2016-12-20 18:01:00 0          0          0             \n",
       "42 2340200 콜처리_연결 2016-12-20 18:01:01 0          0          0             \n",
       "49 2340201 콜처리_응답 2016-12-20 17:58:02 0          200119     200119        \n",
       "50 2340201 응대중보류  2016-12-20 17:58:04 0          200119     200119        \n",
       "51 2340201 응대        2016-12-20 17:58:26 0          200119     200119        \n",
       "52 2340201 후처리      2016-12-20 18:01:55 0          200119     200119        \n",
       "53 2340201 ACWTIMW3    2016-12-20 18:01:56 0          200119     200119        \n",
       "57 2340202 콜처리_연결 2016-12-20 17:57:37 0          0          0             \n",
       "65 2340203 큐대기      2016-12-20 17:57:08 0          0          0             \n",
       "66 2340203 콜처리_연결 2016-12-20 17:57:09 0          0          0             \n",
       "73 2340204 콜처리_연결 2016-12-20 18:01:37 200124     0          200124        \n",
       "74 2340204 컨설팅      2016-12-20 18:01:38 200124     0          200124        \n",
       "81 2340205 큐대기      2016-12-20 17:58:21 0          0          0             \n",
       "82 2340205 콜처리_연결 2016-12-20 17:58:22 0          0          0             \n",
       "89 2340206 큐대기      2016-12-20 18:01:39 0          0          0             \n",
       "90 2340206 콜처리_포기 2016-12-20 18:01:42 0          0          0             \n",
       "97 2340207 큐대기      2016-12-20 18:01:20 200334     0          200334        \n",
       "98 2340207 콜처리_연결 2016-12-20 18:01:21 200334     0          200334        \n",
       "   보조요청여부 난청여부 컨퍼런스여부 직접상담원통화대기여부 보류중포기여부\n",
       "1  0            0        0            0                      0             \n",
       "9  0            0        0            0                      0             \n",
       "10 0            0        0            0                      0             \n",
       "17 0            0        0            0                      0             \n",
       "18 0            0        0            0                      0             \n",
       "19 0            0        0            0                      0             \n",
       "20 0            0        0            0                      0             \n",
       "25 0            0        0            0                      0             \n",
       "26 0            0        0            0                      0             \n",
       "33 0            0        0            0                      0             \n",
       "34 0            0        0            0                      0             \n",
       "35 0            0        0            0                      0             \n",
       "41 0            0        0            0                      0             \n",
       "42 0            0        0            0                      0             \n",
       "49 0            0        1            0                      0             \n",
       "50 0            0        1            0                      0             \n",
       "51 0            0        1            0                      0             \n",
       "52 0            0        1            0                      0             \n",
       "53 0            0        1            0                      0             \n",
       "57 0            0        0            0                      0             \n",
       "65 0            0        0            0                      0             \n",
       "66 0            0        0            0                      0             \n",
       "73 0            0        0            0                      0             \n",
       "74 0            0        0            0                      0             \n",
       "81 0            0        0            0                      0             \n",
       "82 0            0        0            0                      0             \n",
       "89 0            0        0            0                      0             \n",
       "90 0            0        0            0                      0             \n",
       "97 0            0        0            0                      0             \n",
       "98 0            0        0            0                      0             \n",
       "   불량통화추적활성화여부 감청여부 호전환여부 상담원에의한종료여부\n",
       "1  0                      0        0          0                   \n",
       "9  0                      0        0          0                   \n",
       "10 0                      0        0          0                   \n",
       "17 0                      0        0          0                   \n",
       "18 0                      0        0          0                   \n",
       "19 0                      0        0          0                   \n",
       "20 0                      0        0          0                   \n",
       "25 0                      0        0          0                   \n",
       "26 0                      0        0          0                   \n",
       "33 0                      0        0          0                   \n",
       "34 0                      0        0          0                   \n",
       "35 0                      0        0          0                   \n",
       "41 0                      0        0          0                   \n",
       "42 0                      0        0          0                   \n",
       "49 0                      0        0          1                   \n",
       "50 0                      0        0          1                   \n",
       "51 0                      0        0          1                   \n",
       "52 0                      0        0          1                   \n",
       "53 0                      0        0          1                   \n",
       "57 0                      0        0          0                   \n",
       "65 0                      0        0          0                   \n",
       "66 0                      0        0          0                   \n",
       "73 0                      0        0          0                   \n",
       "74 0                      0        0          0                   \n",
       "81 0                      0        0          0                   \n",
       "82 0                      0        0          0                   \n",
       "89 0                      0        0          0                   \n",
       "90 0                      0        0          0                   \n",
       "97 0                      0        0          0                   \n",
       "98 0                      0        0          0                   "
      ]
     },
     "metadata": {},
     "output_type": "display_data"
    }
   ],
   "source": [
    "head(actmelt7, 30)"
   ]
  },
  {
   "cell_type": "code",
   "execution_count": 95,
   "metadata": {},
   "outputs": [
    {
     "data": {
      "text/plain": [
       "\n",
       "       ACWTIMW3          벨울림            응대      응대중보류          컨설팅 \n",
       "         171855             193          204763           31650          121488 \n",
       "콜처리_강제종료     콜처리_연결     콜처리_응답     콜처리_포기          큐대기 \n",
       "           4987          478477          205012          117043          356556 \n",
       "         후처리 \n",
       "         171855 "
      ]
     },
     "metadata": {},
     "output_type": "display_data"
    }
   ],
   "source": [
    "table(actmelt7$ACTIVITY)"
   ]
  },
  {
   "cell_type": "code",
   "execution_count": 104,
   "metadata": {},
   "outputs": [],
   "source": [
    "actmelt8 <- actmelt7\n",
    "actmelt8 <- actmelt8[actmelt8$ACTIVITY != \"ACWTIMW3\", ]"
   ]
  },
  {
   "cell_type": "code",
   "execution_count": 106,
   "metadata": {},
   "outputs": [
    {
     "data": {
      "text/plain": [
       "\n",
       "         벨울림            응대      응대중보류          컨설팅 콜처리_강제종료 \n",
       "            193          204763           31650          121488            4987 \n",
       "    콜처리_연결     콜처리_응답     콜처리_포기          큐대기          후처리 \n",
       "         478477          205012          117043          356556          171855 "
      ]
     },
     "metadata": {},
     "output_type": "display_data"
    },
    {
     "data": {
      "text/html": [
       "<table>\n",
       "<thead><tr><th></th><th scope=col>CALLID</th><th scope=col>ACTIVITY</th><th scope=col>TIMESTAMP</th><th scope=col>발신상담원</th><th scope=col>응답상담원</th><th scope=col>발신응답상담원</th><th scope=col>보조요청여부</th><th scope=col>난청여부</th><th scope=col>컨퍼런스여부</th><th scope=col>직접상담원통화대기여부</th><th scope=col>보류중포기여부</th><th scope=col>불량통화추적활성화여부</th><th scope=col>감청여부</th><th scope=col>호전환여부</th><th scope=col>상담원에의한종료여부</th></tr></thead>\n",
       "<tbody>\n",
       "\t<tr><th scope=row>1</th><td>2340195            </td><td>콜처리_연결        </td><td>2016-12-20 18:00:16</td><td>0                  </td><td>0                  </td><td>0                  </td><td>0                  </td><td>0                  </td><td>0                  </td><td>0                  </td><td>0                  </td><td>0                  </td><td>0                  </td><td>0                  </td><td>0                  </td></tr>\n",
       "\t<tr><th scope=row>9</th><td>2340196            </td><td>큐대기             </td><td>2016-12-20 18:01:23</td><td>0                  </td><td>0                  </td><td>0                  </td><td>0                  </td><td>0                  </td><td>0                  </td><td>0                  </td><td>0                  </td><td>0                  </td><td>0                  </td><td>0                  </td><td>0                  </td></tr>\n",
       "\t<tr><th scope=row>10</th><td>2340196            </td><td>콜처리_연결        </td><td>2016-12-20 18:01:24</td><td>0                  </td><td>0                  </td><td>0                  </td><td>0                  </td><td>0                  </td><td>0                  </td><td>0                  </td><td>0                  </td><td>0                  </td><td>0                  </td><td>0                  </td><td>0                  </td></tr>\n",
       "\t<tr><th scope=row>17</th><td>2340197            </td><td>콜처리_응답        </td><td>2016-12-20 17:57:11</td><td>0                  </td><td>200312             </td><td>200312             </td><td>0                  </td><td>0                  </td><td>0                  </td><td>0                  </td><td>0                  </td><td>0                  </td><td>0                  </td><td>0                  </td><td>0                  </td></tr>\n",
       "\t<tr><th scope=row>18</th><td>2340197            </td><td>응대               </td><td>2016-12-20 17:57:13</td><td>0                  </td><td>200312             </td><td>200312             </td><td>0                  </td><td>0                  </td><td>0                  </td><td>0                  </td><td>0                  </td><td>0                  </td><td>0                  </td><td>0                  </td><td>0                  </td></tr>\n",
       "\t<tr><th scope=row>19</th><td>2340197            </td><td>후처리             </td><td>2016-12-20 18:01:47</td><td>0                  </td><td>200312             </td><td>200312             </td><td>0                  </td><td>0                  </td><td>0                  </td><td>0                  </td><td>0                  </td><td>0                  </td><td>0                  </td><td>0                  </td><td>0                  </td></tr>\n",
       "</tbody>\n",
       "</table>\n"
      ],
      "text/latex": [
       "\\begin{tabular}{r|lllllllllllllll}\n",
       "  & CALLID & ACTIVITY & TIMESTAMP & 발신상담원 & 응답상담원 & 발신응답상담원 & 보조요청여부 & 난청여부 & 컨퍼런스여부 & 직접상담원통화대기여부 & 보류중포기여부 & 불량통화추적활성화여부 & 감청여부 & 호전환여부 & 상담원에의한종료여부\\\\\n",
       "\\hline\n",
       "\t1 & 2340195             & 콜처리\\_연결       & 2016-12-20 18:00:16 & 0                   & 0                   & 0                   & 0                   & 0                   & 0                   & 0                   & 0                   & 0                   & 0                   & 0                   & 0                  \\\\\n",
       "\t9 & 2340196             & 큐대기              & 2016-12-20 18:01:23 & 0                   & 0                   & 0                   & 0                   & 0                   & 0                   & 0                   & 0                   & 0                   & 0                   & 0                   & 0                  \\\\\n",
       "\t10 & 2340196             & 콜처리\\_연결       & 2016-12-20 18:01:24 & 0                   & 0                   & 0                   & 0                   & 0                   & 0                   & 0                   & 0                   & 0                   & 0                   & 0                   & 0                  \\\\\n",
       "\t17 & 2340197             & 콜처리\\_응답       & 2016-12-20 17:57:11 & 0                   & 200312              & 200312              & 0                   & 0                   & 0                   & 0                   & 0                   & 0                   & 0                   & 0                   & 0                  \\\\\n",
       "\t18 & 2340197             & 응대                & 2016-12-20 17:57:13 & 0                   & 200312              & 200312              & 0                   & 0                   & 0                   & 0                   & 0                   & 0                   & 0                   & 0                   & 0                  \\\\\n",
       "\t19 & 2340197             & 후처리              & 2016-12-20 18:01:47 & 0                   & 200312              & 200312              & 0                   & 0                   & 0                   & 0                   & 0                   & 0                   & 0                   & 0                   & 0                  \\\\\n",
       "\\end{tabular}\n"
      ],
      "text/markdown": [
       "\n",
       "| <!--/--> | CALLID | ACTIVITY | TIMESTAMP | 발신상담원 | 응답상담원 | 발신응답상담원 | 보조요청여부 | 난청여부 | 컨퍼런스여부 | 직접상담원통화대기여부 | 보류중포기여부 | 불량통화추적활성화여부 | 감청여부 | 호전환여부 | 상담원에의한종료여부 | \n",
       "|---|---|---|---|---|---|\n",
       "| 1 | 2340195             | 콜처리_연결         | 2016-12-20 18:00:16 | 0                   | 0                   | 0                   | 0                   | 0                   | 0                   | 0                   | 0                   | 0                   | 0                   | 0                   | 0                   | \n",
       "| 9 | 2340196             | 큐대기              | 2016-12-20 18:01:23 | 0                   | 0                   | 0                   | 0                   | 0                   | 0                   | 0                   | 0                   | 0                   | 0                   | 0                   | 0                   | \n",
       "| 10 | 2340196             | 콜처리_연결         | 2016-12-20 18:01:24 | 0                   | 0                   | 0                   | 0                   | 0                   | 0                   | 0                   | 0                   | 0                   | 0                   | 0                   | 0                   | \n",
       "| 17 | 2340197             | 콜처리_응답         | 2016-12-20 17:57:11 | 0                   | 200312              | 200312              | 0                   | 0                   | 0                   | 0                   | 0                   | 0                   | 0                   | 0                   | 0                   | \n",
       "| 18 | 2340197             | 응대                | 2016-12-20 17:57:13 | 0                   | 200312              | 200312              | 0                   | 0                   | 0                   | 0                   | 0                   | 0                   | 0                   | 0                   | 0                   | \n",
       "| 19 | 2340197             | 후처리              | 2016-12-20 18:01:47 | 0                   | 200312              | 200312              | 0                   | 0                   | 0                   | 0                   | 0                   | 0                   | 0                   | 0                   | 0                   | \n",
       "\n",
       "\n"
      ],
      "text/plain": [
       "   CALLID  ACTIVITY    TIMESTAMP           발신상담원 응답상담원 발신응답상담원\n",
       "1  2340195 콜처리_연결 2016-12-20 18:00:16 0          0          0             \n",
       "9  2340196 큐대기      2016-12-20 18:01:23 0          0          0             \n",
       "10 2340196 콜처리_연결 2016-12-20 18:01:24 0          0          0             \n",
       "17 2340197 콜처리_응답 2016-12-20 17:57:11 0          200312     200312        \n",
       "18 2340197 응대        2016-12-20 17:57:13 0          200312     200312        \n",
       "19 2340197 후처리      2016-12-20 18:01:47 0          200312     200312        \n",
       "   보조요청여부 난청여부 컨퍼런스여부 직접상담원통화대기여부 보류중포기여부\n",
       "1  0            0        0            0                      0             \n",
       "9  0            0        0            0                      0             \n",
       "10 0            0        0            0                      0             \n",
       "17 0            0        0            0                      0             \n",
       "18 0            0        0            0                      0             \n",
       "19 0            0        0            0                      0             \n",
       "   불량통화추적활성화여부 감청여부 호전환여부 상담원에의한종료여부\n",
       "1  0                      0        0          0                   \n",
       "9  0                      0        0          0                   \n",
       "10 0                      0        0          0                   \n",
       "17 0                      0        0          0                   \n",
       "18 0                      0        0          0                   \n",
       "19 0                      0        0          0                   "
      ]
     },
     "metadata": {},
     "output_type": "display_data"
    }
   ],
   "source": [
    "table(actmelt8$ACTIVITY)\n",
    "head(actmelt8)"
   ]
  },
  {
   "cell_type": "code",
   "execution_count": 107,
   "metadata": {
    "scrolled": true
   },
   "outputs": [
    {
     "data": {
      "text/plain": [
       "\n",
       "     NO \n",
       "1692024 "
      ]
     },
     "metadata": {},
     "output_type": "display_data"
    },
    {
     "data": {
      "text/plain": [
       "\n",
       "     NO \n",
       "1692024 "
      ]
     },
     "metadata": {},
     "output_type": "display_data"
    },
    {
     "data": {
      "text/plain": [
       "\n",
       "     NO     YES \n",
       "1585279  106745 "
      ]
     },
     "metadata": {},
     "output_type": "display_data"
    },
    {
     "data": {
      "text/plain": [
       "\n",
       "     NO \n",
       "1692024 "
      ]
     },
     "metadata": {},
     "output_type": "display_data"
    },
    {
     "data": {
      "text/plain": [
       "\n",
       "     NO     YES \n",
       "1690311    1713 "
      ]
     },
     "metadata": {},
     "output_type": "display_data"
    },
    {
     "data": {
      "text/plain": [
       "\n",
       "     NO \n",
       "1692024 "
      ]
     },
     "metadata": {},
     "output_type": "display_data"
    },
    {
     "data": {
      "text/plain": [
       "\n",
       "     NO     YES \n",
       "1691959      65 "
      ]
     },
     "metadata": {},
     "output_type": "display_data"
    },
    {
     "data": {
      "text/plain": [
       "\n",
       "     NO     YES \n",
       "1675242   16782 "
      ]
     },
     "metadata": {},
     "output_type": "display_data"
    },
    {
     "data": {
      "text/plain": [
       "\n",
       "     NO     YES \n",
       "1561658  130366 "
      ]
     },
     "metadata": {},
     "output_type": "display_data"
    }
   ],
   "source": [
    "hansol3 <- actmelt8\n",
    "\n",
    "hansol3$보조요청여부 <- as.character(hansol3$보조요청여부)\n",
    "hansol3$난청여부 <- as.character(hansol3$난청여부)\n",
    "hansol3$컨퍼런스여부 <- as.character(hansol3$컨퍼런스여부)\n",
    "hansol3$직접상담원통화대기여부 <- as.character(hansol3$직접상담원통화대기여부)\n",
    "hansol3$보류중포기여부 <- as.character(hansol3$보류중포기여부)\n",
    "hansol3$불량통화추적활성화여부 <- as.character(hansol3$불량통화추적활성화여부)\n",
    "hansol3$감청여부 <- as.character(hansol3$감청여부)\n",
    "hansol3$호전환여부 <- as.character(hansol3$호전환여부)\n",
    "hansol3$상담원에의한종료여부 <- as.character(hansol3$상담원에의한종료여부)\n",
    "\n",
    "hansol3$보조요청여부 <- ifelse(hansol3$보조요청여부 == \"1\", \"YES\", \"NO\")\n",
    "hansol3$난청여부 <- ifelse(hansol3$난청여부 == \"1\", \"YES\", \"NO\")\n",
    "hansol3$컨퍼런스여부 <- ifelse(hansol3$컨퍼런스여부 == \"1\", \"YES\", \"NO\")\n",
    "hansol3$직접상담원통화대기여부 <- ifelse(hansol3$직접상담원통화대기여부 == \"1\", \"YES\", \"NO\")\n",
    "hansol3$보류중포기여부 <- ifelse(hansol3$보류중포기여부 == \"1\", \"YES\", \"NO\")\n",
    "hansol3$불량통화추적활성화여부 <- ifelse(hansol3$불량통화추적활성화여부 == \"1\", \"YES\", \"NO\")\n",
    "hansol3$감청여부 <- ifelse(hansol3$감청여부 == \"1\", \"YES\", \"NO\")\n",
    "hansol3$호전환여부 <- ifelse(hansol3$호전환여부 == \"1\", \"YES\", \"NO\")\n",
    "hansol3$상담원에의한종료여부 <- ifelse(hansol3$상담원에의한종료여부 == \"1\", \"YES\", \"NO\")\n",
    "\n",
    "table(hansol3$보조요청여부) # all 0\n",
    "table(hansol3$난청여부) # all 0\n",
    "table(hansol3$컨퍼런스여부)\n",
    "table(hansol3$직접상담원통화대기여부) # all 0\n",
    "table(hansol3$보류중포기여부)\n",
    "table(hansol3$불량통화추적활성화여부) # all 0\n",
    "table(hansol3$감청여부)\n",
    "table(hansol3$호전환여부)\n",
    "table(hansol3$상담원에의한종료여부)"
   ]
  },
  {
   "cell_type": "code",
   "execution_count": 108,
   "metadata": {},
   "outputs": [
    {
     "data": {
      "text/html": [
       "<table>\n",
       "<thead><tr><th></th><th scope=col>CALLID</th><th scope=col>ACTIVITY</th><th scope=col>TIMESTAMP</th><th scope=col>발신상담원</th><th scope=col>응답상담원</th><th scope=col>발신응답상담원</th><th scope=col>컨퍼런스여부</th><th scope=col>보류중포기여부</th><th scope=col>감청여부</th><th scope=col>호전환여부</th><th scope=col>상담원에의한종료여부</th></tr></thead>\n",
       "<tbody>\n",
       "\t<tr><th scope=row>1</th><td>2340195            </td><td>콜처리_연결        </td><td>2016-12-20 18:00:16</td><td>0                  </td><td>0                  </td><td>0                  </td><td>NO                 </td><td>NO                 </td><td>NO                 </td><td>NO                 </td><td>NO                 </td></tr>\n",
       "\t<tr><th scope=row>9</th><td>2340196            </td><td>큐대기             </td><td>2016-12-20 18:01:23</td><td>0                  </td><td>0                  </td><td>0                  </td><td>NO                 </td><td>NO                 </td><td>NO                 </td><td>NO                 </td><td>NO                 </td></tr>\n",
       "\t<tr><th scope=row>10</th><td>2340196            </td><td>콜처리_연결        </td><td>2016-12-20 18:01:24</td><td>0                  </td><td>0                  </td><td>0                  </td><td>NO                 </td><td>NO                 </td><td>NO                 </td><td>NO                 </td><td>NO                 </td></tr>\n",
       "\t<tr><th scope=row>17</th><td>2340197            </td><td>콜처리_응답        </td><td>2016-12-20 17:57:11</td><td>0                  </td><td>200312             </td><td>200312             </td><td>NO                 </td><td>NO                 </td><td>NO                 </td><td>NO                 </td><td>NO                 </td></tr>\n",
       "\t<tr><th scope=row>18</th><td>2340197            </td><td>응대               </td><td>2016-12-20 17:57:13</td><td>0                  </td><td>200312             </td><td>200312             </td><td>NO                 </td><td>NO                 </td><td>NO                 </td><td>NO                 </td><td>NO                 </td></tr>\n",
       "\t<tr><th scope=row>19</th><td>2340197            </td><td>후처리             </td><td>2016-12-20 18:01:47</td><td>0                  </td><td>200312             </td><td>200312             </td><td>NO                 </td><td>NO                 </td><td>NO                 </td><td>NO                 </td><td>NO                 </td></tr>\n",
       "\t<tr><th scope=row>25</th><td>2340198            </td><td>큐대기             </td><td>2016-12-20 18:00:15</td><td>0                  </td><td>0                  </td><td>0                  </td><td>NO                 </td><td>NO                 </td><td>NO                 </td><td>NO                 </td><td>NO                 </td></tr>\n",
       "\t<tr><th scope=row>26</th><td>2340198            </td><td>콜처리_포기        </td><td>2016-12-20 18:00:55</td><td>0                  </td><td>0                  </td><td>0                  </td><td>NO                 </td><td>NO                 </td><td>NO                 </td><td>NO                 </td><td>NO                 </td></tr>\n",
       "\t<tr><th scope=row>33</th><td>2340199            </td><td>큐대기             </td><td>2016-12-20 17:56:25</td><td>0                  </td><td>200118             </td><td>200118             </td><td>NO                 </td><td>NO                 </td><td>NO                 </td><td>NO                 </td><td>NO                 </td></tr>\n",
       "\t<tr><th scope=row>34</th><td>2340199            </td><td>콜처리_응답        </td><td>2016-12-20 17:58:03</td><td>0                  </td><td>200118             </td><td>200118             </td><td>NO                 </td><td>NO                 </td><td>NO                 </td><td>NO                 </td><td>NO                 </td></tr>\n",
       "\t<tr><th scope=row>35</th><td>2340199            </td><td>응대               </td><td>2016-12-20 17:59:43</td><td>0                  </td><td>200118             </td><td>200118             </td><td>NO                 </td><td>NO                 </td><td>NO                 </td><td>NO                 </td><td>NO                 </td></tr>\n",
       "\t<tr><th scope=row>41</th><td>2340200            </td><td>큐대기             </td><td>2016-12-20 18:01:00</td><td>0                  </td><td>0                  </td><td>0                  </td><td>NO                 </td><td>NO                 </td><td>NO                 </td><td>NO                 </td><td>NO                 </td></tr>\n",
       "\t<tr><th scope=row>42</th><td>2340200            </td><td>콜처리_연결        </td><td>2016-12-20 18:01:01</td><td>0                  </td><td>0                  </td><td>0                  </td><td>NO                 </td><td>NO                 </td><td>NO                 </td><td>NO                 </td><td>NO                 </td></tr>\n",
       "\t<tr><th scope=row>49</th><td>2340201            </td><td>콜처리_응답        </td><td>2016-12-20 17:58:02</td><td>0                  </td><td>200119             </td><td>200119             </td><td>YES                </td><td>NO                 </td><td>NO                 </td><td>NO                 </td><td>YES                </td></tr>\n",
       "\t<tr><th scope=row>50</th><td>2340201            </td><td>응대중보류         </td><td>2016-12-20 17:58:04</td><td>0                  </td><td>200119             </td><td>200119             </td><td>YES                </td><td>NO                 </td><td>NO                 </td><td>NO                 </td><td>YES                </td></tr>\n",
       "\t<tr><th scope=row>51</th><td>2340201            </td><td>응대               </td><td>2016-12-20 17:58:26</td><td>0                  </td><td>200119             </td><td>200119             </td><td>YES                </td><td>NO                 </td><td>NO                 </td><td>NO                 </td><td>YES                </td></tr>\n",
       "\t<tr><th scope=row>52</th><td>2340201            </td><td>후처리             </td><td>2016-12-20 18:01:55</td><td>0                  </td><td>200119             </td><td>200119             </td><td>YES                </td><td>NO                 </td><td>NO                 </td><td>NO                 </td><td>YES                </td></tr>\n",
       "\t<tr><th scope=row>57</th><td>2340202            </td><td>콜처리_연결        </td><td>2016-12-20 17:57:37</td><td>0                  </td><td>0                  </td><td>0                  </td><td>NO                 </td><td>NO                 </td><td>NO                 </td><td>NO                 </td><td>NO                 </td></tr>\n",
       "\t<tr><th scope=row>65</th><td>2340203            </td><td>큐대기             </td><td>2016-12-20 17:57:08</td><td>0                  </td><td>0                  </td><td>0                  </td><td>NO                 </td><td>NO                 </td><td>NO                 </td><td>NO                 </td><td>NO                 </td></tr>\n",
       "\t<tr><th scope=row>66</th><td>2340203            </td><td>콜처리_연결        </td><td>2016-12-20 17:57:09</td><td>0                  </td><td>0                  </td><td>0                  </td><td>NO                 </td><td>NO                 </td><td>NO                 </td><td>NO                 </td><td>NO                 </td></tr>\n",
       "</tbody>\n",
       "</table>\n"
      ],
      "text/latex": [
       "\\begin{tabular}{r|lllllllllll}\n",
       "  & CALLID & ACTIVITY & TIMESTAMP & 발신상담원 & 응답상담원 & 발신응답상담원 & 컨퍼런스여부 & 보류중포기여부 & 감청여부 & 호전환여부 & 상담원에의한종료여부\\\\\n",
       "\\hline\n",
       "\t1 & 2340195             & 콜처리\\_연결       & 2016-12-20 18:00:16 & 0                   & 0                   & 0                   & NO                  & NO                  & NO                  & NO                  & NO                 \\\\\n",
       "\t9 & 2340196             & 큐대기              & 2016-12-20 18:01:23 & 0                   & 0                   & 0                   & NO                  & NO                  & NO                  & NO                  & NO                 \\\\\n",
       "\t10 & 2340196             & 콜처리\\_연결       & 2016-12-20 18:01:24 & 0                   & 0                   & 0                   & NO                  & NO                  & NO                  & NO                  & NO                 \\\\\n",
       "\t17 & 2340197             & 콜처리\\_응답       & 2016-12-20 17:57:11 & 0                   & 200312              & 200312              & NO                  & NO                  & NO                  & NO                  & NO                 \\\\\n",
       "\t18 & 2340197             & 응대                & 2016-12-20 17:57:13 & 0                   & 200312              & 200312              & NO                  & NO                  & NO                  & NO                  & NO                 \\\\\n",
       "\t19 & 2340197             & 후처리              & 2016-12-20 18:01:47 & 0                   & 200312              & 200312              & NO                  & NO                  & NO                  & NO                  & NO                 \\\\\n",
       "\t25 & 2340198             & 큐대기              & 2016-12-20 18:00:15 & 0                   & 0                   & 0                   & NO                  & NO                  & NO                  & NO                  & NO                 \\\\\n",
       "\t26 & 2340198             & 콜처리\\_포기       & 2016-12-20 18:00:55 & 0                   & 0                   & 0                   & NO                  & NO                  & NO                  & NO                  & NO                 \\\\\n",
       "\t33 & 2340199             & 큐대기              & 2016-12-20 17:56:25 & 0                   & 200118              & 200118              & NO                  & NO                  & NO                  & NO                  & NO                 \\\\\n",
       "\t34 & 2340199             & 콜처리\\_응답       & 2016-12-20 17:58:03 & 0                   & 200118              & 200118              & NO                  & NO                  & NO                  & NO                  & NO                 \\\\\n",
       "\t35 & 2340199             & 응대                & 2016-12-20 17:59:43 & 0                   & 200118              & 200118              & NO                  & NO                  & NO                  & NO                  & NO                 \\\\\n",
       "\t41 & 2340200             & 큐대기              & 2016-12-20 18:01:00 & 0                   & 0                   & 0                   & NO                  & NO                  & NO                  & NO                  & NO                 \\\\\n",
       "\t42 & 2340200             & 콜처리\\_연결       & 2016-12-20 18:01:01 & 0                   & 0                   & 0                   & NO                  & NO                  & NO                  & NO                  & NO                 \\\\\n",
       "\t49 & 2340201             & 콜처리\\_응답       & 2016-12-20 17:58:02 & 0                   & 200119              & 200119              & YES                 & NO                  & NO                  & NO                  & YES                \\\\\n",
       "\t50 & 2340201             & 응대중보류          & 2016-12-20 17:58:04 & 0                   & 200119              & 200119              & YES                 & NO                  & NO                  & NO                  & YES                \\\\\n",
       "\t51 & 2340201             & 응대                & 2016-12-20 17:58:26 & 0                   & 200119              & 200119              & YES                 & NO                  & NO                  & NO                  & YES                \\\\\n",
       "\t52 & 2340201             & 후처리              & 2016-12-20 18:01:55 & 0                   & 200119              & 200119              & YES                 & NO                  & NO                  & NO                  & YES                \\\\\n",
       "\t57 & 2340202             & 콜처리\\_연결       & 2016-12-20 17:57:37 & 0                   & 0                   & 0                   & NO                  & NO                  & NO                  & NO                  & NO                 \\\\\n",
       "\t65 & 2340203             & 큐대기              & 2016-12-20 17:57:08 & 0                   & 0                   & 0                   & NO                  & NO                  & NO                  & NO                  & NO                 \\\\\n",
       "\t66 & 2340203             & 콜처리\\_연결       & 2016-12-20 17:57:09 & 0                   & 0                   & 0                   & NO                  & NO                  & NO                  & NO                  & NO                 \\\\\n",
       "\\end{tabular}\n"
      ],
      "text/markdown": [
       "\n",
       "| <!--/--> | CALLID | ACTIVITY | TIMESTAMP | 발신상담원 | 응답상담원 | 발신응답상담원 | 컨퍼런스여부 | 보류중포기여부 | 감청여부 | 호전환여부 | 상담원에의한종료여부 | \n",
       "|---|---|---|---|---|---|---|---|---|---|---|---|---|---|---|---|---|---|---|---|\n",
       "| 1 | 2340195             | 콜처리_연결         | 2016-12-20 18:00:16 | 0                   | 0                   | 0                   | NO                  | NO                  | NO                  | NO                  | NO                  | \n",
       "| 9 | 2340196             | 큐대기              | 2016-12-20 18:01:23 | 0                   | 0                   | 0                   | NO                  | NO                  | NO                  | NO                  | NO                  | \n",
       "| 10 | 2340196             | 콜처리_연결         | 2016-12-20 18:01:24 | 0                   | 0                   | 0                   | NO                  | NO                  | NO                  | NO                  | NO                  | \n",
       "| 17 | 2340197             | 콜처리_응답         | 2016-12-20 17:57:11 | 0                   | 200312              | 200312              | NO                  | NO                  | NO                  | NO                  | NO                  | \n",
       "| 18 | 2340197             | 응대                | 2016-12-20 17:57:13 | 0                   | 200312              | 200312              | NO                  | NO                  | NO                  | NO                  | NO                  | \n",
       "| 19 | 2340197             | 후처리              | 2016-12-20 18:01:47 | 0                   | 200312              | 200312              | NO                  | NO                  | NO                  | NO                  | NO                  | \n",
       "| 25 | 2340198             | 큐대기              | 2016-12-20 18:00:15 | 0                   | 0                   | 0                   | NO                  | NO                  | NO                  | NO                  | NO                  | \n",
       "| 26 | 2340198             | 콜처리_포기         | 2016-12-20 18:00:55 | 0                   | 0                   | 0                   | NO                  | NO                  | NO                  | NO                  | NO                  | \n",
       "| 33 | 2340199             | 큐대기              | 2016-12-20 17:56:25 | 0                   | 200118              | 200118              | NO                  | NO                  | NO                  | NO                  | NO                  | \n",
       "| 34 | 2340199             | 콜처리_응답         | 2016-12-20 17:58:03 | 0                   | 200118              | 200118              | NO                  | NO                  | NO                  | NO                  | NO                  | \n",
       "| 35 | 2340199             | 응대                | 2016-12-20 17:59:43 | 0                   | 200118              | 200118              | NO                  | NO                  | NO                  | NO                  | NO                  | \n",
       "| 41 | 2340200             | 큐대기              | 2016-12-20 18:01:00 | 0                   | 0                   | 0                   | NO                  | NO                  | NO                  | NO                  | NO                  | \n",
       "| 42 | 2340200             | 콜처리_연결         | 2016-12-20 18:01:01 | 0                   | 0                   | 0                   | NO                  | NO                  | NO                  | NO                  | NO                  | \n",
       "| 49 | 2340201             | 콜처리_응답         | 2016-12-20 17:58:02 | 0                   | 200119              | 200119              | YES                 | NO                  | NO                  | NO                  | YES                 | \n",
       "| 50 | 2340201             | 응대중보류          | 2016-12-20 17:58:04 | 0                   | 200119              | 200119              | YES                 | NO                  | NO                  | NO                  | YES                 | \n",
       "| 51 | 2340201             | 응대                | 2016-12-20 17:58:26 | 0                   | 200119              | 200119              | YES                 | NO                  | NO                  | NO                  | YES                 | \n",
       "| 52 | 2340201             | 후처리              | 2016-12-20 18:01:55 | 0                   | 200119              | 200119              | YES                 | NO                  | NO                  | NO                  | YES                 | \n",
       "| 57 | 2340202             | 콜처리_연결         | 2016-12-20 17:57:37 | 0                   | 0                   | 0                   | NO                  | NO                  | NO                  | NO                  | NO                  | \n",
       "| 65 | 2340203             | 큐대기              | 2016-12-20 17:57:08 | 0                   | 0                   | 0                   | NO                  | NO                  | NO                  | NO                  | NO                  | \n",
       "| 66 | 2340203             | 콜처리_연결         | 2016-12-20 17:57:09 | 0                   | 0                   | 0                   | NO                  | NO                  | NO                  | NO                  | NO                  | \n",
       "\n",
       "\n"
      ],
      "text/plain": [
       "   CALLID  ACTIVITY    TIMESTAMP           발신상담원 응답상담원 발신응답상담원\n",
       "1  2340195 콜처리_연결 2016-12-20 18:00:16 0          0          0             \n",
       "9  2340196 큐대기      2016-12-20 18:01:23 0          0          0             \n",
       "10 2340196 콜처리_연결 2016-12-20 18:01:24 0          0          0             \n",
       "17 2340197 콜처리_응답 2016-12-20 17:57:11 0          200312     200312        \n",
       "18 2340197 응대        2016-12-20 17:57:13 0          200312     200312        \n",
       "19 2340197 후처리      2016-12-20 18:01:47 0          200312     200312        \n",
       "25 2340198 큐대기      2016-12-20 18:00:15 0          0          0             \n",
       "26 2340198 콜처리_포기 2016-12-20 18:00:55 0          0          0             \n",
       "33 2340199 큐대기      2016-12-20 17:56:25 0          200118     200118        \n",
       "34 2340199 콜처리_응답 2016-12-20 17:58:03 0          200118     200118        \n",
       "35 2340199 응대        2016-12-20 17:59:43 0          200118     200118        \n",
       "41 2340200 큐대기      2016-12-20 18:01:00 0          0          0             \n",
       "42 2340200 콜처리_연결 2016-12-20 18:01:01 0          0          0             \n",
       "49 2340201 콜처리_응답 2016-12-20 17:58:02 0          200119     200119        \n",
       "50 2340201 응대중보류  2016-12-20 17:58:04 0          200119     200119        \n",
       "51 2340201 응대        2016-12-20 17:58:26 0          200119     200119        \n",
       "52 2340201 후처리      2016-12-20 18:01:55 0          200119     200119        \n",
       "57 2340202 콜처리_연결 2016-12-20 17:57:37 0          0          0             \n",
       "65 2340203 큐대기      2016-12-20 17:57:08 0          0          0             \n",
       "66 2340203 콜처리_연결 2016-12-20 17:57:09 0          0          0             \n",
       "   컨퍼런스여부 보류중포기여부 감청여부 호전환여부 상담원에의한종료여부\n",
       "1  NO           NO             NO       NO         NO                  \n",
       "9  NO           NO             NO       NO         NO                  \n",
       "10 NO           NO             NO       NO         NO                  \n",
       "17 NO           NO             NO       NO         NO                  \n",
       "18 NO           NO             NO       NO         NO                  \n",
       "19 NO           NO             NO       NO         NO                  \n",
       "25 NO           NO             NO       NO         NO                  \n",
       "26 NO           NO             NO       NO         NO                  \n",
       "33 NO           NO             NO       NO         NO                  \n",
       "34 NO           NO             NO       NO         NO                  \n",
       "35 NO           NO             NO       NO         NO                  \n",
       "41 NO           NO             NO       NO         NO                  \n",
       "42 NO           NO             NO       NO         NO                  \n",
       "49 YES          NO             NO       NO         YES                 \n",
       "50 YES          NO             NO       NO         YES                 \n",
       "51 YES          NO             NO       NO         YES                 \n",
       "52 YES          NO             NO       NO         YES                 \n",
       "57 NO           NO             NO       NO         NO                  \n",
       "65 NO           NO             NO       NO         NO                  \n",
       "66 NO           NO             NO       NO         NO                  "
      ]
     },
     "metadata": {},
     "output_type": "display_data"
    },
    {
     "data": {
      "text/plain": [
       "\n",
       "         벨울림            응대      응대중보류          컨설팅 콜처리_강제종료 \n",
       "            193          204763           31650          121488            4987 \n",
       "    콜처리_연결     콜처리_응답     콜처리_포기          큐대기          후처리 \n",
       "         478477          205012          117043          356556          171855 "
      ]
     },
     "metadata": {},
     "output_type": "display_data"
    }
   ],
   "source": [
    "hansol5 <- select(hansol3, -보조요청여부, -난청여부, -직접상담원통화대기여부, -불량통화추적활성화여부)\n",
    "head(hansol5, 20)\n",
    "table(hansol5$ACTIVITY)"
   ]
  },
  {
   "cell_type": "code",
   "execution_count": 109,
   "metadata": {},
   "outputs": [
    {
     "data": {
      "text/html": [
       "<table>\n",
       "<thead><tr><th></th><th scope=col>CALLID</th><th scope=col>ACTIVITY</th><th scope=col>TIMESTAMP</th><th scope=col>발신상담원</th><th scope=col>응답상담원</th><th scope=col>발신응답상담원</th><th scope=col>컨퍼런스여부</th><th scope=col>보류중포기여부</th><th scope=col>감청여부</th><th scope=col>호전환여부</th><th scope=col>상담원에의한종료여부</th></tr></thead>\n",
       "<tbody>\n",
       "\t<tr><th scope=row>1</th><td>2340195            </td><td>콜처리_연결        </td><td>2016-12-20 18:00:16</td><td>NA                 </td><td>NA                 </td><td>NA                 </td><td>NO                 </td><td>NO                 </td><td>NO                 </td><td>NO                 </td><td>NO                 </td></tr>\n",
       "\t<tr><th scope=row>9</th><td>2340196            </td><td>큐대기             </td><td>2016-12-20 18:01:23</td><td>NA                 </td><td>NA                 </td><td>NA                 </td><td>NO                 </td><td>NO                 </td><td>NO                 </td><td>NO                 </td><td>NO                 </td></tr>\n",
       "\t<tr><th scope=row>10</th><td>2340196            </td><td>콜처리_연결        </td><td>2016-12-20 18:01:24</td><td>NA                 </td><td>NA                 </td><td>NA                 </td><td>NO                 </td><td>NO                 </td><td>NO                 </td><td>NO                 </td><td>NO                 </td></tr>\n",
       "\t<tr><th scope=row>17</th><td>2340197            </td><td>콜처리_응답        </td><td>2016-12-20 17:57:11</td><td>NA                 </td><td>200312             </td><td>200312             </td><td>NO                 </td><td>NO                 </td><td>NO                 </td><td>NO                 </td><td>NO                 </td></tr>\n",
       "\t<tr><th scope=row>18</th><td>2340197            </td><td>응대               </td><td>2016-12-20 17:57:13</td><td>NA                 </td><td>200312             </td><td>200312             </td><td>NO                 </td><td>NO                 </td><td>NO                 </td><td>NO                 </td><td>NO                 </td></tr>\n",
       "\t<tr><th scope=row>19</th><td>2340197            </td><td>후처리             </td><td>2016-12-20 18:01:47</td><td>NA                 </td><td>200312             </td><td>200312             </td><td>NO                 </td><td>NO                 </td><td>NO                 </td><td>NO                 </td><td>NO                 </td></tr>\n",
       "\t<tr><th scope=row>25</th><td>2340198            </td><td>큐대기             </td><td>2016-12-20 18:00:15</td><td>NA                 </td><td>NA                 </td><td>NA                 </td><td>NO                 </td><td>NO                 </td><td>NO                 </td><td>NO                 </td><td>NO                 </td></tr>\n",
       "\t<tr><th scope=row>26</th><td>2340198            </td><td>콜처리_포기        </td><td>2016-12-20 18:00:55</td><td>NA                 </td><td>NA                 </td><td>NA                 </td><td>NO                 </td><td>NO                 </td><td>NO                 </td><td>NO                 </td><td>NO                 </td></tr>\n",
       "\t<tr><th scope=row>33</th><td>2340199            </td><td>큐대기             </td><td>2016-12-20 17:56:25</td><td>NA                 </td><td>200118             </td><td>200118             </td><td>NO                 </td><td>NO                 </td><td>NO                 </td><td>NO                 </td><td>NO                 </td></tr>\n",
       "\t<tr><th scope=row>34</th><td>2340199            </td><td>콜처리_응답        </td><td>2016-12-20 17:58:03</td><td>NA                 </td><td>200118             </td><td>200118             </td><td>NO                 </td><td>NO                 </td><td>NO                 </td><td>NO                 </td><td>NO                 </td></tr>\n",
       "\t<tr><th scope=row>35</th><td>2340199            </td><td>응대               </td><td>2016-12-20 17:59:43</td><td>NA                 </td><td>200118             </td><td>200118             </td><td>NO                 </td><td>NO                 </td><td>NO                 </td><td>NO                 </td><td>NO                 </td></tr>\n",
       "\t<tr><th scope=row>41</th><td>2340200            </td><td>큐대기             </td><td>2016-12-20 18:01:00</td><td>NA                 </td><td>NA                 </td><td>NA                 </td><td>NO                 </td><td>NO                 </td><td>NO                 </td><td>NO                 </td><td>NO                 </td></tr>\n",
       "\t<tr><th scope=row>42</th><td>2340200            </td><td>콜처리_연결        </td><td>2016-12-20 18:01:01</td><td>NA                 </td><td>NA                 </td><td>NA                 </td><td>NO                 </td><td>NO                 </td><td>NO                 </td><td>NO                 </td><td>NO                 </td></tr>\n",
       "\t<tr><th scope=row>49</th><td>2340201            </td><td>콜처리_응답        </td><td>2016-12-20 17:58:02</td><td>NA                 </td><td>200119             </td><td>200119             </td><td>YES                </td><td>NO                 </td><td>NO                 </td><td>NO                 </td><td>YES                </td></tr>\n",
       "\t<tr><th scope=row>50</th><td>2340201            </td><td>응대중보류         </td><td>2016-12-20 17:58:04</td><td>NA                 </td><td>200119             </td><td>200119             </td><td>YES                </td><td>NO                 </td><td>NO                 </td><td>NO                 </td><td>YES                </td></tr>\n",
       "\t<tr><th scope=row>51</th><td>2340201            </td><td>응대               </td><td>2016-12-20 17:58:26</td><td>NA                 </td><td>200119             </td><td>200119             </td><td>YES                </td><td>NO                 </td><td>NO                 </td><td>NO                 </td><td>YES                </td></tr>\n",
       "\t<tr><th scope=row>52</th><td>2340201            </td><td>후처리             </td><td>2016-12-20 18:01:55</td><td>NA                 </td><td>200119             </td><td>200119             </td><td>YES                </td><td>NO                 </td><td>NO                 </td><td>NO                 </td><td>YES                </td></tr>\n",
       "\t<tr><th scope=row>57</th><td>2340202            </td><td>콜처리_연결        </td><td>2016-12-20 17:57:37</td><td>NA                 </td><td>NA                 </td><td>NA                 </td><td>NO                 </td><td>NO                 </td><td>NO                 </td><td>NO                 </td><td>NO                 </td></tr>\n",
       "\t<tr><th scope=row>65</th><td>2340203            </td><td>큐대기             </td><td>2016-12-20 17:57:08</td><td>NA                 </td><td>NA                 </td><td>NA                 </td><td>NO                 </td><td>NO                 </td><td>NO                 </td><td>NO                 </td><td>NO                 </td></tr>\n",
       "\t<tr><th scope=row>66</th><td>2340203            </td><td>콜처리_연결        </td><td>2016-12-20 17:57:09</td><td>NA                 </td><td>NA                 </td><td>NA                 </td><td>NO                 </td><td>NO                 </td><td>NO                 </td><td>NO                 </td><td>NO                 </td></tr>\n",
       "</tbody>\n",
       "</table>\n"
      ],
      "text/latex": [
       "\\begin{tabular}{r|lllllllllll}\n",
       "  & CALLID & ACTIVITY & TIMESTAMP & 발신상담원 & 응답상담원 & 발신응답상담원 & 컨퍼런스여부 & 보류중포기여부 & 감청여부 & 호전환여부 & 상담원에의한종료여부\\\\\n",
       "\\hline\n",
       "\t1 & 2340195             & 콜처리\\_연결       & 2016-12-20 18:00:16 & NA                  & NA                  & NA                  & NO                  & NO                  & NO                  & NO                  & NO                 \\\\\n",
       "\t9 & 2340196             & 큐대기              & 2016-12-20 18:01:23 & NA                  & NA                  & NA                  & NO                  & NO                  & NO                  & NO                  & NO                 \\\\\n",
       "\t10 & 2340196             & 콜처리\\_연결       & 2016-12-20 18:01:24 & NA                  & NA                  & NA                  & NO                  & NO                  & NO                  & NO                  & NO                 \\\\\n",
       "\t17 & 2340197             & 콜처리\\_응답       & 2016-12-20 17:57:11 & NA                  & 200312              & 200312              & NO                  & NO                  & NO                  & NO                  & NO                 \\\\\n",
       "\t18 & 2340197             & 응대                & 2016-12-20 17:57:13 & NA                  & 200312              & 200312              & NO                  & NO                  & NO                  & NO                  & NO                 \\\\\n",
       "\t19 & 2340197             & 후처리              & 2016-12-20 18:01:47 & NA                  & 200312              & 200312              & NO                  & NO                  & NO                  & NO                  & NO                 \\\\\n",
       "\t25 & 2340198             & 큐대기              & 2016-12-20 18:00:15 & NA                  & NA                  & NA                  & NO                  & NO                  & NO                  & NO                  & NO                 \\\\\n",
       "\t26 & 2340198             & 콜처리\\_포기       & 2016-12-20 18:00:55 & NA                  & NA                  & NA                  & NO                  & NO                  & NO                  & NO                  & NO                 \\\\\n",
       "\t33 & 2340199             & 큐대기              & 2016-12-20 17:56:25 & NA                  & 200118              & 200118              & NO                  & NO                  & NO                  & NO                  & NO                 \\\\\n",
       "\t34 & 2340199             & 콜처리\\_응답       & 2016-12-20 17:58:03 & NA                  & 200118              & 200118              & NO                  & NO                  & NO                  & NO                  & NO                 \\\\\n",
       "\t35 & 2340199             & 응대                & 2016-12-20 17:59:43 & NA                  & 200118              & 200118              & NO                  & NO                  & NO                  & NO                  & NO                 \\\\\n",
       "\t41 & 2340200             & 큐대기              & 2016-12-20 18:01:00 & NA                  & NA                  & NA                  & NO                  & NO                  & NO                  & NO                  & NO                 \\\\\n",
       "\t42 & 2340200             & 콜처리\\_연결       & 2016-12-20 18:01:01 & NA                  & NA                  & NA                  & NO                  & NO                  & NO                  & NO                  & NO                 \\\\\n",
       "\t49 & 2340201             & 콜처리\\_응답       & 2016-12-20 17:58:02 & NA                  & 200119              & 200119              & YES                 & NO                  & NO                  & NO                  & YES                \\\\\n",
       "\t50 & 2340201             & 응대중보류          & 2016-12-20 17:58:04 & NA                  & 200119              & 200119              & YES                 & NO                  & NO                  & NO                  & YES                \\\\\n",
       "\t51 & 2340201             & 응대                & 2016-12-20 17:58:26 & NA                  & 200119              & 200119              & YES                 & NO                  & NO                  & NO                  & YES                \\\\\n",
       "\t52 & 2340201             & 후처리              & 2016-12-20 18:01:55 & NA                  & 200119              & 200119              & YES                 & NO                  & NO                  & NO                  & YES                \\\\\n",
       "\t57 & 2340202             & 콜처리\\_연결       & 2016-12-20 17:57:37 & NA                  & NA                  & NA                  & NO                  & NO                  & NO                  & NO                  & NO                 \\\\\n",
       "\t65 & 2340203             & 큐대기              & 2016-12-20 17:57:08 & NA                  & NA                  & NA                  & NO                  & NO                  & NO                  & NO                  & NO                 \\\\\n",
       "\t66 & 2340203             & 콜처리\\_연결       & 2016-12-20 17:57:09 & NA                  & NA                  & NA                  & NO                  & NO                  & NO                  & NO                  & NO                 \\\\\n",
       "\\end{tabular}\n"
      ],
      "text/markdown": [
       "\n",
       "| <!--/--> | CALLID | ACTIVITY | TIMESTAMP | 발신상담원 | 응답상담원 | 발신응답상담원 | 컨퍼런스여부 | 보류중포기여부 | 감청여부 | 호전환여부 | 상담원에의한종료여부 | \n",
       "|---|---|---|---|---|---|---|---|---|---|---|---|---|---|---|---|---|---|---|---|\n",
       "| 1 | 2340195             | 콜처리_연결         | 2016-12-20 18:00:16 | NA                  | NA                  | NA                  | NO                  | NO                  | NO                  | NO                  | NO                  | \n",
       "| 9 | 2340196             | 큐대기              | 2016-12-20 18:01:23 | NA                  | NA                  | NA                  | NO                  | NO                  | NO                  | NO                  | NO                  | \n",
       "| 10 | 2340196             | 콜처리_연결         | 2016-12-20 18:01:24 | NA                  | NA                  | NA                  | NO                  | NO                  | NO                  | NO                  | NO                  | \n",
       "| 17 | 2340197             | 콜처리_응답         | 2016-12-20 17:57:11 | NA                  | 200312              | 200312              | NO                  | NO                  | NO                  | NO                  | NO                  | \n",
       "| 18 | 2340197             | 응대                | 2016-12-20 17:57:13 | NA                  | 200312              | 200312              | NO                  | NO                  | NO                  | NO                  | NO                  | \n",
       "| 19 | 2340197             | 후처리              | 2016-12-20 18:01:47 | NA                  | 200312              | 200312              | NO                  | NO                  | NO                  | NO                  | NO                  | \n",
       "| 25 | 2340198             | 큐대기              | 2016-12-20 18:00:15 | NA                  | NA                  | NA                  | NO                  | NO                  | NO                  | NO                  | NO                  | \n",
       "| 26 | 2340198             | 콜처리_포기         | 2016-12-20 18:00:55 | NA                  | NA                  | NA                  | NO                  | NO                  | NO                  | NO                  | NO                  | \n",
       "| 33 | 2340199             | 큐대기              | 2016-12-20 17:56:25 | NA                  | 200118              | 200118              | NO                  | NO                  | NO                  | NO                  | NO                  | \n",
       "| 34 | 2340199             | 콜처리_응답         | 2016-12-20 17:58:03 | NA                  | 200118              | 200118              | NO                  | NO                  | NO                  | NO                  | NO                  | \n",
       "| 35 | 2340199             | 응대                | 2016-12-20 17:59:43 | NA                  | 200118              | 200118              | NO                  | NO                  | NO                  | NO                  | NO                  | \n",
       "| 41 | 2340200             | 큐대기              | 2016-12-20 18:01:00 | NA                  | NA                  | NA                  | NO                  | NO                  | NO                  | NO                  | NO                  | \n",
       "| 42 | 2340200             | 콜처리_연결         | 2016-12-20 18:01:01 | NA                  | NA                  | NA                  | NO                  | NO                  | NO                  | NO                  | NO                  | \n",
       "| 49 | 2340201             | 콜처리_응답         | 2016-12-20 17:58:02 | NA                  | 200119              | 200119              | YES                 | NO                  | NO                  | NO                  | YES                 | \n",
       "| 50 | 2340201             | 응대중보류          | 2016-12-20 17:58:04 | NA                  | 200119              | 200119              | YES                 | NO                  | NO                  | NO                  | YES                 | \n",
       "| 51 | 2340201             | 응대                | 2016-12-20 17:58:26 | NA                  | 200119              | 200119              | YES                 | NO                  | NO                  | NO                  | YES                 | \n",
       "| 52 | 2340201             | 후처리              | 2016-12-20 18:01:55 | NA                  | 200119              | 200119              | YES                 | NO                  | NO                  | NO                  | YES                 | \n",
       "| 57 | 2340202             | 콜처리_연결         | 2016-12-20 17:57:37 | NA                  | NA                  | NA                  | NO                  | NO                  | NO                  | NO                  | NO                  | \n",
       "| 65 | 2340203             | 큐대기              | 2016-12-20 17:57:08 | NA                  | NA                  | NA                  | NO                  | NO                  | NO                  | NO                  | NO                  | \n",
       "| 66 | 2340203             | 콜처리_연결         | 2016-12-20 17:57:09 | NA                  | NA                  | NA                  | NO                  | NO                  | NO                  | NO                  | NO                  | \n",
       "\n",
       "\n"
      ],
      "text/plain": [
       "   CALLID  ACTIVITY    TIMESTAMP           발신상담원 응답상담원 발신응답상담원\n",
       "1  2340195 콜처리_연결 2016-12-20 18:00:16 NA         NA         NA            \n",
       "9  2340196 큐대기      2016-12-20 18:01:23 NA         NA         NA            \n",
       "10 2340196 콜처리_연결 2016-12-20 18:01:24 NA         NA         NA            \n",
       "17 2340197 콜처리_응답 2016-12-20 17:57:11 NA         200312     200312        \n",
       "18 2340197 응대        2016-12-20 17:57:13 NA         200312     200312        \n",
       "19 2340197 후처리      2016-12-20 18:01:47 NA         200312     200312        \n",
       "25 2340198 큐대기      2016-12-20 18:00:15 NA         NA         NA            \n",
       "26 2340198 콜처리_포기 2016-12-20 18:00:55 NA         NA         NA            \n",
       "33 2340199 큐대기      2016-12-20 17:56:25 NA         200118     200118        \n",
       "34 2340199 콜처리_응답 2016-12-20 17:58:03 NA         200118     200118        \n",
       "35 2340199 응대        2016-12-20 17:59:43 NA         200118     200118        \n",
       "41 2340200 큐대기      2016-12-20 18:01:00 NA         NA         NA            \n",
       "42 2340200 콜처리_연결 2016-12-20 18:01:01 NA         NA         NA            \n",
       "49 2340201 콜처리_응답 2016-12-20 17:58:02 NA         200119     200119        \n",
       "50 2340201 응대중보류  2016-12-20 17:58:04 NA         200119     200119        \n",
       "51 2340201 응대        2016-12-20 17:58:26 NA         200119     200119        \n",
       "52 2340201 후처리      2016-12-20 18:01:55 NA         200119     200119        \n",
       "57 2340202 콜처리_연결 2016-12-20 17:57:37 NA         NA         NA            \n",
       "65 2340203 큐대기      2016-12-20 17:57:08 NA         NA         NA            \n",
       "66 2340203 콜처리_연결 2016-12-20 17:57:09 NA         NA         NA            \n",
       "   컨퍼런스여부 보류중포기여부 감청여부 호전환여부 상담원에의한종료여부\n",
       "1  NO           NO             NO       NO         NO                  \n",
       "9  NO           NO             NO       NO         NO                  \n",
       "10 NO           NO             NO       NO         NO                  \n",
       "17 NO           NO             NO       NO         NO                  \n",
       "18 NO           NO             NO       NO         NO                  \n",
       "19 NO           NO             NO       NO         NO                  \n",
       "25 NO           NO             NO       NO         NO                  \n",
       "26 NO           NO             NO       NO         NO                  \n",
       "33 NO           NO             NO       NO         NO                  \n",
       "34 NO           NO             NO       NO         NO                  \n",
       "35 NO           NO             NO       NO         NO                  \n",
       "41 NO           NO             NO       NO         NO                  \n",
       "42 NO           NO             NO       NO         NO                  \n",
       "49 YES          NO             NO       NO         YES                 \n",
       "50 YES          NO             NO       NO         YES                 \n",
       "51 YES          NO             NO       NO         YES                 \n",
       "52 YES          NO             NO       NO         YES                 \n",
       "57 NO           NO             NO       NO         NO                  \n",
       "65 NO           NO             NO       NO         NO                  \n",
       "66 NO           NO             NO       NO         NO                  "
      ]
     },
     "metadata": {},
     "output_type": "display_data"
    }
   ],
   "source": [
    "hansol5$발신상담원 <- ifelse(hansol5$발신상담원 == \"0\", NA, hansol5$발신상담원)\n",
    "hansol5$응답상담원 <- ifelse(hansol5$응답상담원 == \"0\", NA, hansol5$응답상담원)\n",
    "hansol5$발신응답상담원 <- ifelse(hansol5$발신응답상담원 == \"0\", NA, hansol5$발신응답상담원)\n",
    "\n",
    "head(hansol5, 20)"
   ]
  },
  {
   "cell_type": "code",
   "execution_count": 110,
   "metadata": {},
   "outputs": [
    {
     "data": {
      "text/plain": [
       "\n",
       "         벨울림            응대      응대중보류          컨설팅 콜처리_강제종료 \n",
       "            193          204763           31650          121488            4987 \n",
       "    콜처리_연결     콜처리_응답     콜처리_포기          큐대기          후처리 \n",
       "         478477          205012          117043          356556          171855 "
      ]
     },
     "metadata": {},
     "output_type": "display_data"
    }
   ],
   "source": [
    "# hansol5$ACTIVITY <- ifelse(hansol5$ACTIVITY == \"기타\", \"콜처리_기타\", hansol5$ACTIVITY)\n",
    "## 다 날아간 것으로 추정 됨\n",
    "table(hansol5$ACTIVITY)"
   ]
  },
  {
   "cell_type": "code",
   "execution_count": 111,
   "metadata": {},
   "outputs": [],
   "source": [
    "write.csv(hansol5, file = \"hansol_final_acwout.csv\", row.names = FALSE)"
   ]
  }
 ],
 "metadata": {
  "kernelspec": {
   "display_name": "R",
   "language": "R",
   "name": "ir"
  },
  "language_info": {
   "codemirror_mode": "r",
   "file_extension": ".r",
   "mimetype": "text/x-r-source",
   "name": "R",
   "pygments_lexer": "r",
   "version": "3.4.3"
  }
 },
 "nbformat": 4,
 "nbformat_minor": 2
}
